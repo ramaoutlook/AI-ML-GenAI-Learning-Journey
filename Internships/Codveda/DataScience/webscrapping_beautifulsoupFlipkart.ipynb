{
 "cells": [
  {
   "cell_type": "code",
   "execution_count": 1,
   "id": "e2156154",
   "metadata": {},
   "outputs": [],
   "source": [
    "import requests"
   ]
  },
  {
   "cell_type": "code",
   "execution_count": 3,
   "id": "2b957b43",
   "metadata": {},
   "outputs": [],
   "source": [
    "import pandas as pd\n",
    "from bs4 import BeautifulSoup"
   ]
  },
  {
   "cell_type": "code",
   "execution_count": 4,
   "id": "a07ddebb",
   "metadata": {},
   "outputs": [],
   "source": [
    "url = \"https://www.flipkart.com\""
   ]
  },
  {
   "cell_type": "code",
   "execution_count": 6,
   "id": "43f81d28",
   "metadata": {},
   "outputs": [],
   "source": [
    "url = \"https://www.flipkart.com/search?q=mobiles+under+50000+rupees&sid=tyy%2C4io&as=on&as-show=on&otracker=AS_QueryStore_OrganicAutoSuggest_1_19_na_na_na&otracker1=AS_QueryStore_OrganicAutoSuggest_1_19_na_na_na&as-pos=1&as-type=RECENT&suggestionId=mobiles+under+50000+rupees%7CMobiles&requestId=114334d8-0c47-410f-98fc-6c37395b9672&as-backfill=on\""
   ]
  },
  {
   "cell_type": "code",
   "execution_count": 7,
   "id": "faf97ae5",
   "metadata": {},
   "outputs": [
    {
     "data": {
      "text/plain": [
       "200"
      ]
     },
     "execution_count": 7,
     "metadata": {},
     "output_type": "execute_result"
    }
   ],
   "source": [
    "r = requests.get(url)\n",
    "r.status_code"
   ]
  },
  {
   "cell_type": "code",
   "execution_count": 8,
   "id": "5016212f",
   "metadata": {},
   "outputs": [
    {
     "name": "stdout",
     "output_type": "stream",
     "text": [
      "<!DOCTYPE html>\n",
      "<html lang=\"en\"><head><link href=\"https://rukminim2.flixcart.com\" rel=\"preconnect\"/><link href=\"//static-assets-web.flixcart.com/fk-p-linchpin-web/fk-cp-zion/css/atlas.chunk.8dd48d.css\" rel=\"stylesheet\"/><link href=\"//static-assets-web.flixcart.com/fk-p-linchpin-web/fk-cp-zion/css/app_modules.chunk.c48a12.css\" rel=\"stylesheet\"/><link href=\"//static-assets-web.flixcart.com/fk-p-linchpin-web/fk-cp-zion/css/app.chunk.e4e719.css\" rel=\"stylesheet\"/><meta content=\"text/html; charset=utf-8\" http-equiv=\"Content-type\"/><meta content=\"IE=Edge\" http-equiv=\"X-UA-Compatible\"/><meta content=\"102988293558\" property=\"fb:page_id\"/><meta content=\"658873552,624500995,100000233612389\" property=\"fb:admins\"/><link href=\"https:///www/promos/new/20150528-140547-favicon-retina.ico\" rel=\"shortcut icon\"/><link href=\"/osdd.xml?v=2\" rel=\"search\" type=\"application/opensearchdescription+xml\"/><meta content=\"website\" property=\"og:type\"/><meta content=\"Flipkart.com\" name=\"og_site_name\" property=\"og:site_name\"/><link href=\"/apple-touch-icon-57x57.png\" rel=\"apple-touch-icon\" sizes=\"57x57\"/><link href=\"/apple-touch-icon-72x72.png\" rel=\"apple-touch-icon\" sizes=\"72x72\"/><link href=\"/apple-touch-icon-114x114.png\" rel=\"apple-touch-icon\" sizes=\"114x114\"/><link href=\"/apple-touch-icon-144x144.png\" rel=\"apple-touch-icon\" sizes=\"144x144\"/><link href=\"/apple-touch-icon-57x57.png\" rel=\"apple-touch-icon\"/><meta content=\"app\" name=\"twitter:card\"/><meta content=\"@flipkart\" name=\"twitter:site\"/><meta content=\"@flipkart\" name=\"twitter:creator\"/><meta content=\"Mobiles Under 50000 Rupees- Buy Products Online at Best Price in India - All Categories | Flipkart.com\" name=\"twitter:title\"/><meta content=\"Shop for electronics, apparels &amp; more using our Flipkart app Free shipping &amp; COD.\" name=\"twitter:description\"/><meta content=\"in\" name=\"twitter:app:country\"/><meta content=\"Flipkart\" name=\"al:ios:app_name\"/><meta content=\"742044692\" name=\"al:ios:app_store_id\"/><meta content=\"Flipkart\" name=\"twitter:app:name:iphone\"/><meta content=\"742044692\" name=\"twitter:app:id:iphone\"/><meta content=\"http://dl.flipkart.com/dl/home?\" name=\"twitter:app:url:iphone\"/><meta content=\"Flipkart\" name=\"twitter:app:name:ipad\"/><meta content=\"742044692\" name=\"twitter:app:id:ipad\"/><meta content=\"http://dl.flipkart.com/dl/home?\" name=\"twitter:app:url:ipad\"/><meta content=\"Flipkart\" name=\"twitter:app:name:googleplay\"/><meta content=\"com.flipkart.android\" name=\"twitter:app:id:googleplay\"/><meta content=\"http://dl.flipkart.com/dl/home?\" name=\"twitter:app:url:googleplay\"/><style>#container {\n",
      "\t\t\theight: 100%;\n",
      "\t\t}</style> <link href=\"///fk-cp-zion/css/Browse.chunk.83db80.css\" rel=\"stylesheet\"/><title>Mobiles Under 50000 Rupees- Buy Products Online at Best Price in India - All Categories | Flipkart.com</title><meta content=\"Mobiles Under 50000 Rupees- Buy Products Online at Best Price in India - All Categories | Flipkart.com\" name=\"og_title\" property=\"og:title\"/><meta content=\"Mobiles Under 50000 Rupees\" name=\"Keywords\"/> <meta content=\"Mobiles Under 50000 Rupees- Buy Products Online at Best Price in India. India's Leading E-commerce Company - Free Home Delivery - All Categories | Flipkart.com\" name=\"Description\"/><meta content=\"Mobiles Under 50000 Rupees- Buy Products Online at Best Price in India. India's Leading E-commerce Company - Free Home Delivery - All Categories | Flipkart.com\" property=\"og:description\"/> <meta content=\"F4EEB3A0AFFDD385992A06E6920C0AC3\" name=\"msvalidate.01\"/> <!--[if IE 9 ]>\n",
      "\t<script nonce=\"18171642207114650869\">\n",
      "\t\twindow.browserVersion = 'IE9';\n",
      "\t\tdocument.documentElement.className += ' ie9';\n",
      "\t</script>\n",
      "\t<![endif]--><!--[if !IE]><!--><script nonce=\"18171642207114650869\">if (/*@cc_on!@*/false) {\n",
      "\t\t\twindow.browserVersion = 'IE10';\n",
      "\t\t\tdocument.documentElement.className += ' ie10';\n",
      "\t\t}</script><!--<![endif]--> <link href=\"https://www.flipkart.com/search?q=mobiles+under+50000+rupees&amp;sid=tyy%2C4io&amp;as=on&amp;as-show=on&amp;otracker=AS_QueryStore_OrganicAutoSuggest_1_19_na_na_na&amp;otracker1=AS_QueryStore_OrganicAutoSuggest_1_19_na_na_na&amp;as-pos=1&amp;as-type=RECENT&amp;suggestionId=mobiles+under+50000+rupees%7CMobiles&amp;requestId=114334d8-0c47-410f-98fc-6c37395b9672&amp;as-backfill=on&amp;page=2\" id=\"next-page-link-tag\" rel=\"next\"/><script nonce=\"18171642207114650869\">!function(){if(\"PerformancePaintTiming\" in window){var e=window.__perf={e:[]};e.o=new PerformanceObserver(function(n){e.e=e.e.concat(n.getEntries())});try{e.o.observe({entryTypes:[\"paint\"]})}catch(e){}}}();\n",
      "\n",
      "\t\tif (requestAnimationFrame && performance && performance.mark) {\n",
      "\t\t\trequestAnimationFrame(function () {\n",
      "\t\t\t\twindow.first_paint = performance.now();\n",
      "\t\t\t\tperformance.mark(\"first_paint\");\n",
      "\t\t\t});\n",
      "\t\t}\n",
      "\n",
      "        // web-vitals polyfill for FID\n",
      "        !function(n,e){var t,o,i,c=[],f={passive:!0,capture:!0},r=new Date,a=\"pointerup\",u=\"pointercancel\";function p(n,c){t||(t=c,o=n,i=new Date,w(e),s())}function s(){o>=0&&o<i-r&&(c.forEach(function(n){n(o,t)}),c=[])}function l(t){if(t.cancelable){var o=(t.timeStamp>1e12?new Date:performance.now())-t.timeStamp;\"pointerdown\"==t.type?function(t,o){function i(){p(t,o),r()}function c(){r()}function r(){e(a,i,f),e(u,c,f)}n(a,i,f),n(u,c,f)}(o,t):p(o,t)}}function w(n){[\"click\",\"mousedown\",\"keydown\",\"touchstart\",\"pointerdown\"].forEach(function(e){n(e,l,f)})}w(n),self.perfMetrics=self.perfMetrics||{},self.perfMetrics.onFirstInputDelay=function(n){c.push(n),s()}}(addEventListener,removeEventListener);</script><script async=\"\" src=\"https://www.googletagmanager.com/gtag/js?id=AW-594691041\"></script><script nonce=\"18171642207114650869\">window.dataLayer = window.dataLayer || [];\n",
      "\t\tfunction gtag(){dataLayer.push(arguments)};\n",
      "\t\tgtag('js', new Date());\n",
      "\n",
      "\t\tconst pageUri = window.location.pathname;\n",
      "    \t\tif (pageUri && pageUri.includes('/travel')) {\n",
      "\t\t\tgtag('config', 'AW-16596706887');\n",
      "\t\t}</script></head><body><div id=\"container\"><div><div class=\"krHvwW\"><div class=\"J+HqMZ\"><div class=\"LOe-Xr\"></div><div class=\"Ja1j8k\"><div class=\"ngOQ7L\"><div class=\"F9+fd2\"><a href=\"/\"><img alt=\"Flipkart\" class=\"W5mR4e\" src=\"//static-assets-web.flixcart.com/fk-p-linchpin-web/fk-cp-zion/img/flipkart-plus_8d85f4.png\" title=\"Flipkart\" width=\"75\"/></a><a class=\"MwbhDR\" href=\"/plus\">Explore<!-- --> <span class=\"s4NJ5L\">Plus</span><img src=\"//static-assets-web.flixcart.com/fk-p-linchpin-web/fk-cp-zion/img/plus_aef861.png\" width=\"10\"/></a></div></div><div class=\"kRd8Cs\"><form action=\"/search\" class=\"Hy6F9O header-form-search\" method=\"GET\"><div class=\"col-12-12 BnmXvV\"><div class=\"MoPwtI\"><input autocomplete=\"off\" class=\"zDPmFV\" name=\"q\" placeholder=\"Search for products, brands and more\" title=\"Search for products, brands and more\" type=\"text\" value=\"mobiles under 50000 rupees\"/></div><button class=\"MJG8Up\" type=\"submit\"><svg class=\"\" height=\"20\" viewbox=\"0 0 17 18\" width=\"20\" xmlns=\"http://www.w3.org/2000/svg\"><g fill=\"#2874F1\" fill-rule=\"evenodd\"><path class=\"EwE-Fa\" d=\"m11.618 9.897l4.225 4.212c.092.092.101.232.02.313l-1.465 1.46c-.081.081-.221.072-.314-.02l-4.216-4.203\"></path><path class=\"EwE-Fa\" d=\"m6.486 10.901c-2.42 0-4.381-1.956-4.381-4.368 0-2.413 1.961-4.369 4.381-4.369 2.42 0 4.381 1.956 4.381 4.369 0 2.413-1.961 4.368-4.381 4.368m0-10.835c-3.582 0-6.486 2.895-6.486 6.467 0 3.572 2.904 6.467 6.486 6.467 3.582 0 6.486-2.895 6.486-6.467 0-3.572-2.904-6.467-6.486-6.467\"></path></g></svg></button><input name=\"otracker\" type=\"hidden\" value=\"search\"/><input name=\"otracker1\" type=\"hidden\" value=\"search\"/><input name=\"marketplace\" type=\"hidden\" value=\"FLIPKART\"/><input name=\"as-show\" type=\"hidden\" value=\"off\"/><input name=\"as\" type=\"hidden\" value=\"off\"/></div><ul class=\"col-12-12 bbjHWC\"></ul></form></div><div class=\"RbF1Du UB4mMK\"><div class=\"UL9nZx\"><div class=\"tP+nZg _2E9UgX\"><div><a class=\"wsejfv\" href=\"/account/login?ret=/search%3Fq%3Dmobiles%2Bunder%2B50000%2Brupees%26sid%3Dtyy%252C4io%26as%3Don%26as-show%3Don%26otracker%3DAS_QueryStore_OrganicAutoSuggest_1_19_na_na_na%26otracker1%3DAS_QueryStore_OrganicAutoSuggest_1_19_na_na_na%26as-pos%3D1%26as-type%3DRECENT%26suggestionId%3Dmobiles%2Bunder%2B50000%2Brupees%257CMobiles%26requestId%3D114334d8-0c47-410f-98fc-6c37395b9672%26as-backfill%3Don\">Login</a></div></div></div></div><div class=\"RbF1Du\"><a class=\"CDJO0-\" href=\"https://seller.flipkart.com/sell-online/?utm_source=fkwebsite&amp;utm_medium=websitedirect\"><span>Become a Seller</span></a></div><div class=\"RbF1Du\"><div class=\"UL9nZx\"><div class=\"tP+nZg _2E9UgX\"><div><div class=\"_3ZeUN+\"> <!-- -->More<!-- --> </div></div></div><svg class=\"Wto0b0\" height=\"8\" viewbox=\"0 0 16 27\" width=\"4.7\" xmlns=\"http://www.w3.org/2000/svg\"><path class=\"-dC5Le\" d=\"M16 23.207L6.11 13.161 16 3.093 12.955 0 0 13.161l12.955 13.161z\" fill=\"#fff\"></path></svg></div></div><div class=\"RbF1Du\"><div class=\"tP+nZg\"><div class=\"cjMG1q\"><a class=\"_9Wy27C\" href=\"/viewcart?exploreMode=true&amp;preference=FLIPKART\"><svg class=\"GAbRIN\" height=\"14\" viewbox=\"0 0 16 16\" width=\"14\" xmlns=\"http://www.w3.org/2000/svg\"><path class=\"cziJ98\" d=\"M15.32 2.405H4.887C3 2.405 2.46.805 2.46.805L2.257.21C2.208.085 2.083 0 1.946 0H.336C.1 0-.064.24.024.46l.644 1.945L3.11 9.767c.047.137.175.23.32.23h8.418l-.493 1.958H3.768l.002.003c-.017 0-.033-.003-.05-.003-1.06 0-1.92.86-1.92 1.92s.86 1.92 1.92 1.92c.99 0 1.805-.75 1.91-1.712l5.55.076c.12.922.91 1.636 1.867 1.636 1.04 0 1.885-.844 1.885-1.885 0-.866-.584-1.593-1.38-1.814l2.423-8.832c.12-.433-.206-.86-.655-.86\" fill=\"#fff\"></path></svg><span>Cart</span></a></div></div></div></div><div class=\"LOe-Xr\"></div></div><div class=\"DlQjC4\"></div></div><div class=\"_5M58Mb\"></div><div class=\"nt6sNV JxFEK3 _48O0EI\"><div class=\"DOjaWF YJG4Cf\"><div class=\"DOjaWF gdgoEp col-2-12\" style=\"flex:0 0 280px;max-width:280px;padding:0px 10px 0px 0px\"><div class=\"DOjaWF gdgoEp col-12-12\"><div class=\"cPHDOP col-12-12\"><div class=\"_0BvurA\"><section class=\"pgRLLn _2OLUF3\"><div class=\"_3Owiq+\"><div class=\"rgHxCQ\"><span>Filters</span></div></div></section><div class=\"GSeM5C\"><section class=\"Iu4qXa\"><div class=\"WCyB2K\"><span>CATEGORIES</span></div><div><div class=\"esFpML\"><span><svg class=\"IZmjtf\" height=\"10\" viewbox=\"0 0 16 27\" width=\"10\" xmlns=\"http://www.w3.org/2000/svg\"><path class=\"P3pAQJ\" d=\"M16 23.207L6.11 13.161 16 3.093 12.955 0 0 13.161l12.955 13.161z\" fill=\"#fff\"></path></svg></span><a class=\"k17cBJ WyLc0s\" href=\"/mobiles-accessories/pr?sid=tyy&amp;q=mobiles+under+50000+rupees&amp;otracker=categorytree\" title=\"Mobiles &amp; Accessories\">Mobiles &amp; Accessories</a></div></div><div><div class=\"esFpML\"><span><svg class=\"IZmjtf\" height=\"10\" viewbox=\"0 0 16 27\" width=\"10\" xmlns=\"http://www.w3.org/2000/svg\"><path class=\"\" d=\"M16 23.207L6.11 13.161 16 3.093 12.955 0 0 13.161l12.955 13.161z\" fill=\"#fff\"></path></svg></span><a class=\"hEjLuS WyLc0s\" href=\"/mobiles/pr?sid=tyy,4io&amp;q=mobiles+under+50000+rupees&amp;otracker=categorytree\" title=\"Mobiles\">Mobiles</a></div></div></section></div><section class=\"FR+9+z _2OLUF3\"><div class=\"WNK7UT _3Owiq+\"><div class=\"RCE7R3 rgHxCQ\"><span>Price</span></div></div><div class=\"rkYFq7\"><div class=\"gFZVDw\"><div class=\"vVygGr\" style=\"height:0;width:0\"></div><div class=\"vVygGr\" style=\"height:0;width:0\"></div><div class=\"vVygGr\" style=\"height:0;width:0\"></div><div class=\"vVygGr\" style=\"height:0;width:0\"></div><div class=\"vVygGr\" style=\"height:0;width:0\"></div></div></div><div class=\"-suZGK\"><div class=\"Oyj7AF\"><div class=\"iToJ4v Kaqq1s\"><div class=\"PYKUdo\"></div></div><div class=\"iToJ4v D0puJn\"><div class=\"PYKUdo\"></div></div><div class=\"hZmZbn\"></div><div class=\"hZmZbn AQNm5W\"></div></div><div class=\"C+PahU\"><div class=\"JxsWRk\" style=\"width:undefinedpx\">.</div><div class=\"JxsWRk\" style=\"width:undefinedpx\">.</div><div class=\"JxsWRk\" style=\"width:undefinedpx\">.</div><div class=\"JxsWRk\" style=\"width:undefinedpx\">.</div><div class=\"JxsWRk\" style=\"width:undefinedpx\">.</div><div class=\"JxsWRk\" style=\"width:0px\">.</div></div></div><div class=\"BXgIa-\"><div class=\"suthUA\"><select class=\"Gn+jFg\"><option class=\"_0vP2OD\" selected=\"\" value=\"Min\">Min</option><option class=\"_0vP2OD\" value=\"10000\">₹10000</option><option class=\"_0vP2OD\" value=\"15000\">₹15000</option><option class=\"_0vP2OD\" value=\"20000\">₹20000</option><option class=\"_0vP2OD\" value=\"30000\">₹30000</option></select></div><div class=\"mhoEL5\">to</div><div class=\"tKgS7w\"><select class=\"Gn+jFg\"><option class=\"_0vP2OD\" value=\"10000\">₹10000</option><option class=\"_0vP2OD\" value=\"15000\">₹15000</option><option class=\"_0vP2OD\" value=\"20000\">₹20000</option><option class=\"_0vP2OD\" value=\"30000\">₹30000</option><option class=\"_0vP2OD\" selected=\"\" value=\"Max\">₹30000+</option></select></div></div></section><section class=\"-5qqlC _2OLUF3\"><div class=\"FtQCb2 _3Owiq+\"><div class=\"fxf7w6 rgHxCQ\">Brand</div><svg class=\"ukzDZP rZzKt4\" height=\"27\" viewbox=\"0 0 16 27\" width=\"16\" xmlns=\"http://www.w3.org/2000/svg\"><path class=\"SV+H35\" d=\"M16 23.207L6.11 13.161 16 3.093 12.955 0 0 13.161l12.955 13.161z\" fill=\"#fff\"></path></svg></div><div class=\"SDsN9S\"><div class=\"bs1+1t\"><div class=\"Cj5b5T\"><svg class=\"zmbstL\" height=\"20\" viewbox=\"0 0 17 18\" width=\"20\" xmlns=\"http://www.w3.org/2000/svg\"><g fill=\"#2874F1\" fill-rule=\"evenodd\"><path class=\"JVQyl9\" d=\"m11.618 9.897l4.225 4.212c.092.092.101.232.02.313l-1.465 1.46c-.081.081-.221.072-.314-.02l-4.216-4.203\"></path><path class=\"JVQyl9\" d=\"m6.486 10.901c-2.42 0-4.381-1.956-4.381-4.368 0-2.413 1.961-4.369 4.381-4.369 2.42 0 4.381 1.956 4.381 4.369 0 2.413-1.961 4.368-4.381 4.368m0-10.835c-3.582 0-6.486 2.895-6.486 6.467 0 3.572 2.904 6.467 6.486 6.467 3.582 0 6.486-2.895 6.486-6.467 0-3.572-2.904-6.467-6.486-6.467\"></path></g></svg><input class=\"XPD6hh\" placeholder=\"Search Brand\" type=\"text\" value=\"\"/></div><div class=\"ewzVkT _3DvUAf\" title=\"Apple\"><div class=\"QCKZip hpLdC3\"><label class=\"tJjCVx _3DvUAf\"><input class=\"vn9L2C\" readonly=\"\" type=\"checkbox\"/><div class=\"XqNaEv\"></div><div class=\"_6i1qKy\">Apple</div></label></div></div><div class=\"ewzVkT _3DvUAf\" title=\"SAMSUNG\"><div class=\"QCKZip hpLdC3\"><label class=\"tJjCVx _3DvUAf\"><input class=\"vn9L2C\" readonly=\"\" type=\"checkbox\"/><div class=\"XqNaEv\"></div><div class=\"_6i1qKy\">SAMSUNG</div></label></div></div><div class=\"ewzVkT _3DvUAf\" title=\"Google\"><div class=\"QCKZip hpLdC3\"><label class=\"tJjCVx _3DvUAf\"><input class=\"vn9L2C\" readonly=\"\" type=\"checkbox\"/><div class=\"XqNaEv\"></div><div class=\"_6i1qKy\">Google</div></label></div></div><div class=\"ewzVkT _3DvUAf\" title=\"MOTOROLA\"><div class=\"QCKZip hpLdC3\"><label class=\"tJjCVx _3DvUAf\"><input class=\"vn9L2C\" readonly=\"\" type=\"checkbox\"/><div class=\"XqNaEv\"></div><div class=\"_6i1qKy\">MOTOROLA</div></label></div></div><div class=\"ewzVkT _3DvUAf\" title=\"vivo\"><div class=\"QCKZip hpLdC3\"><label class=\"tJjCVx _3DvUAf\"><input class=\"vn9L2C\" readonly=\"\" type=\"checkbox\"/><div class=\"XqNaEv\"></div><div class=\"_6i1qKy\">vivo</div></label></div></div><div class=\"ewzVkT _3DvUAf\" title=\"OPPO\"><div class=\"QCKZip hpLdC3\"><label class=\"tJjCVx _3DvUAf\"><input class=\"vn9L2C\" readonly=\"\" type=\"checkbox\"/><div class=\"XqNaEv\"></div><div class=\"_6i1qKy\">OPPO</div></label></div></div></div><div class=\"e+xvXX KvHRYS\"><span>166 MORE</span></div></div></section><section class=\"_2OLUF3 _6gqfMo\"><label class=\"tJjCVx cnLG4I\"><input class=\"vn9L2C\" readonly=\"\" type=\"checkbox\"/><div class=\"XqNaEv eJE9fb\"></div><div class=\"_6i1qKy\"><div class=\"SwtzWS\"><img class=\"SwtzWS\" height=\"21\" src=\"//static-assets-web.flixcart.com/fk-p-linchpin-web/fk-cp-zion/img/fa_9e47c1.png\"/></div></div></label><div class=\"EjOX7q\"><span class=\"question\">?</span></div></section><section class=\"-5qqlC _2OLUF3\"><div class=\"FtQCb2 _3Owiq+\"><div class=\"fxf7w6 rgHxCQ\">Customer Ratings</div><svg class=\"ukzDZP rZzKt4\" height=\"27\" viewbox=\"0 0 16 27\" width=\"16\" xmlns=\"http://www.w3.org/2000/svg\"><path class=\"SV+H35\" d=\"M16 23.207L6.11 13.161 16 3.093 12.955 0 0 13.161l12.955 13.161z\" fill=\"#fff\"></path></svg></div><div class=\"SDsN9S\"><div class=\"bs1+1t\"><div class=\"ewzVkT _3DvUAf\" title=\"4★ &amp; above\"><div class=\"QCKZip hpLdC3\"><label class=\"tJjCVx _3DvUAf\"><input class=\"vn9L2C\" readonly=\"\" type=\"checkbox\"/><div class=\"XqNaEv\"></div><div class=\"_6i1qKy\">4★ &amp; above</div></label></div></div><div class=\"ewzVkT _3DvUAf\" title=\"3★ &amp; above\"><div class=\"QCKZip hpLdC3\"><label class=\"tJjCVx _3DvUAf\"><input class=\"vn9L2C\" readonly=\"\" type=\"checkbox\"/><div class=\"XqNaEv\"></div><div class=\"_6i1qKy\">3★ &amp; above</div></label></div></div></div></div></section><section class=\"-5qqlC _2OLUF3\"><div class=\"FtQCb2 _3Owiq+\"><div class=\"fxf7w6 rgHxCQ\">GST Invoice Available</div><svg class=\"ukzDZP\" height=\"27\" viewbox=\"0 0 16 27\" width=\"16\" xmlns=\"http://www.w3.org/2000/svg\"><path class=\"SV+H35\" d=\"M16 23.207L6.11 13.161 16 3.093 12.955 0 0 13.161l12.955 13.161z\" fill=\"#fff\"></path></svg></div></section><section class=\"-5qqlC _2OLUF3\"><div class=\"FtQCb2 _3Owiq+\"><div class=\"fxf7w6 rgHxCQ\">RAM</div><svg class=\"ukzDZP rZzKt4\" height=\"27\" viewbox=\"0 0 16 27\" width=\"16\" xmlns=\"http://www.w3.org/2000/svg\"><path class=\"SV+H35\" d=\"M16 23.207L6.11 13.161 16 3.093 12.955 0 0 13.161l12.955 13.161z\" fill=\"#fff\"></path></svg></div><div class=\"SDsN9S\"><div class=\"bs1+1t\"><div class=\"ewzVkT _3DvUAf\" title=\"4 GB\"><div class=\"QCKZip hpLdC3\"><label class=\"tJjCVx _3DvUAf\"><input class=\"vn9L2C\" readonly=\"\" type=\"checkbox\"/><div class=\"XqNaEv\"></div><div class=\"_6i1qKy\">4 GB</div></label></div></div><div class=\"ewzVkT _3DvUAf\" title=\"3 GB\"><div class=\"QCKZip hpLdC3\"><label class=\"tJjCVx _3DvUAf\"><input class=\"vn9L2C\" readonly=\"\" type=\"checkbox\"/><div class=\"XqNaEv\"></div><div class=\"_6i1qKy\">3 GB</div></label></div></div><div class=\"ewzVkT _3DvUAf\" title=\"2 GB\"><div class=\"QCKZip hpLdC3\"><label class=\"tJjCVx _3DvUAf\"><input class=\"vn9L2C\" readonly=\"\" type=\"checkbox\"/><div class=\"XqNaEv\"></div><div class=\"_6i1qKy\">2 GB</div></label></div></div><div class=\"ewzVkT _3DvUAf\" title=\"1GB and Below\"><div class=\"QCKZip hpLdC3\"><label class=\"tJjCVx _3DvUAf\"><input class=\"vn9L2C\" readonly=\"\" type=\"checkbox\"/><div class=\"XqNaEv\"></div><div class=\"_6i1qKy\">1GB and Below</div></label></div></div><div class=\"ewzVkT _3DvUAf\" title=\"8 GB and Above\"><div class=\"QCKZip hpLdC3\"><label class=\"tJjCVx _3DvUAf\"><input class=\"vn9L2C\" readonly=\"\" type=\"checkbox\"/><div class=\"XqNaEv\"></div><div class=\"_6i1qKy\">8 GB and Above</div></label></div></div><div class=\"ewzVkT _3DvUAf\" title=\"6 GB\"><div class=\"QCKZip hpLdC3\"><label class=\"tJjCVx _3DvUAf\"><input class=\"vn9L2C\" readonly=\"\" type=\"checkbox\"/><div class=\"XqNaEv\"></div><div class=\"_6i1qKy\">6 GB</div></label></div></div><div class=\"ewzVkT _3DvUAf\" title=\"6 GB  Above\"><div class=\"QCKZip hpLdC3\"><label class=\"tJjCVx _3DvUAf\"><input class=\"vn9L2C\" readonly=\"\" type=\"checkbox\"/><div class=\"XqNaEv\"></div><div class=\"_6i1qKy\">6 GB  Above</div></label></div></div></div></div></section><section class=\"-5qqlC _2OLUF3\"><div class=\"FtQCb2 _3Owiq+\"><div class=\"fxf7w6 rgHxCQ\">Internal Storage</div><svg class=\"ukzDZP\" height=\"27\" viewbox=\"0 0 16 27\" width=\"16\" xmlns=\"http://www.w3.org/2000/svg\"><path class=\"SV+H35\" d=\"M16 23.207L6.11 13.161 16 3.093 12.955 0 0 13.161l12.955 13.161z\" fill=\"#fff\"></path></svg></div></section><section class=\"-5qqlC _2OLUF3\"><div class=\"FtQCb2 _3Owiq+\"><div class=\"fxf7w6 rgHxCQ\">Battery Capacity</div><svg class=\"ukzDZP\" height=\"27\" viewbox=\"0 0 16 27\" width=\"16\" xmlns=\"http://www.w3.org/2000/svg\"><path class=\"SV+H35\" d=\"M16 23.207L6.11 13.161 16 3.093 12.955 0 0 13.161l12.955 13.161z\" fill=\"#fff\"></path></svg></div></section><section class=\"-5qqlC _2OLUF3\"><div class=\"FtQCb2 _3Owiq+\"><div class=\"fxf7w6 rgHxCQ\">Screen Size</div><svg class=\"ukzDZP\" height=\"27\" viewbox=\"0 0 16 27\" width=\"16\" xmlns=\"http://www.w3.org/2000/svg\"><path class=\"SV+H35\" d=\"M16 23.207L6.11 13.161 16 3.093 12.955 0 0 13.161l12.955 13.161z\" fill=\"#fff\"></path></svg></div></section><section class=\"-5qqlC _2OLUF3\"><div class=\"FtQCb2 _3Owiq+\"><div class=\"fxf7w6 rgHxCQ\">Primary Camera</div><svg class=\"ukzDZP\" height=\"27\" viewbox=\"0 0 16 27\" width=\"16\" xmlns=\"http://www.w3.org/2000/svg\"><path class=\"SV+H35\" d=\"M16 23.207L6.11 13.161 16 3.093 12.955 0 0 13.161l12.955 13.161z\" fill=\"#fff\"></path></svg></div></section><section class=\"-5qqlC _2OLUF3\"><div class=\"FtQCb2 _3Owiq+\"><div class=\"fxf7w6 rgHxCQ\">Secondary Camera</div><svg class=\"ukzDZP\" height=\"27\" viewbox=\"0 0 16 27\" width=\"16\" xmlns=\"http://www.w3.org/2000/svg\"><path class=\"SV+H35\" d=\"M16 23.207L6.11 13.161 16 3.093 12.955 0 0 13.161l12.955 13.161z\" fill=\"#fff\"></path></svg></div></section><section class=\"-5qqlC _2OLUF3\"><div class=\"FtQCb2 _3Owiq+\"><div class=\"fxf7w6 rgHxCQ\">Processor Brand</div><svg class=\"ukzDZP\" height=\"27\" viewbox=\"0 0 16 27\" width=\"16\" xmlns=\"http://www.w3.org/2000/svg\"><path class=\"SV+H35\" d=\"M16 23.207L6.11 13.161 16 3.093 12.955 0 0 13.161l12.955 13.161z\" fill=\"#fff\"></path></svg></div></section><section class=\"-5qqlC _2OLUF3\"><div class=\"FtQCb2 _3Owiq+\"><div class=\"fxf7w6 rgHxCQ\">Speciality</div><svg class=\"ukzDZP\" height=\"27\" viewbox=\"0 0 16 27\" width=\"16\" xmlns=\"http://www.w3.org/2000/svg\"><path class=\"SV+H35\" d=\"M16 23.207L6.11 13.161 16 3.093 12.955 0 0 13.161l12.955 13.161z\" fill=\"#fff\"></path></svg></div></section><section class=\"-5qqlC _2OLUF3\"><div class=\"FtQCb2 _3Owiq+\"><div class=\"fxf7w6 rgHxCQ\">Resolution Type</div><svg class=\"ukzDZP\" height=\"27\" viewbox=\"0 0 16 27\" width=\"16\" xmlns=\"http://www.w3.org/2000/svg\"><path class=\"SV+H35\" d=\"M16 23.207L6.11 13.161 16 3.093 12.955 0 0 13.161l12.955 13.161z\" fill=\"#fff\"></path></svg></div></section><section class=\"-5qqlC _2OLUF3\"><div class=\"FtQCb2 _3Owiq+\"><div class=\"fxf7w6 rgHxCQ\">Operating System</div><svg class=\"ukzDZP\" height=\"27\" viewbox=\"0 0 16 27\" width=\"16\" xmlns=\"http://www.w3.org/2000/svg\"><path class=\"SV+H35\" d=\"M16 23.207L6.11 13.161 16 3.093 12.955 0 0 13.161l12.955 13.161z\" fill=\"#fff\"></path></svg></div></section><section class=\"-5qqlC _2OLUF3\"><div class=\"FtQCb2 _3Owiq+\"><div class=\"fxf7w6 rgHxCQ\">Network Type</div><svg class=\"ukzDZP\" height=\"27\" viewbox=\"0 0 16 27\" width=\"16\" xmlns=\"http://www.w3.org/2000/svg\"><path class=\"SV+H35\" d=\"M16 23.207L6.11 13.161 16 3.093 12.955 0 0 13.161l12.955 13.161z\" fill=\"#fff\"></path></svg></div></section><section class=\"-5qqlC _2OLUF3\"><div class=\"FtQCb2 _3Owiq+\"><div class=\"fxf7w6 rgHxCQ\">Sim Type</div><svg class=\"ukzDZP\" height=\"27\" viewbox=\"0 0 16 27\" width=\"16\" xmlns=\"http://www.w3.org/2000/svg\"><path class=\"SV+H35\" d=\"M16 23.207L6.11 13.161 16 3.093 12.955 0 0 13.161l12.955 13.161z\" fill=\"#fff\"></path></svg></div></section><section class=\"-5qqlC _2OLUF3\"><div class=\"FtQCb2 _3Owiq+\"><div class=\"fxf7w6 rgHxCQ\">Availability</div><svg class=\"ukzDZP\" height=\"27\" viewbox=\"0 0 16 27\" width=\"16\" xmlns=\"http://www.w3.org/2000/svg\"><path class=\"SV+H35\" d=\"M16 23.207L6.11 13.161 16 3.093 12.955 0 0 13.161l12.955 13.161z\" fill=\"#fff\"></path></svg></div></section><section class=\"-5qqlC _2OLUF3\"><div class=\"FtQCb2 _3Owiq+\"><div class=\"fxf7w6 rgHxCQ\">Discount</div><svg class=\"ukzDZP rZzKt4\" height=\"27\" viewbox=\"0 0 16 27\" width=\"16\" xmlns=\"http://www.w3.org/2000/svg\"><path class=\"SV+H35\" d=\"M16 23.207L6.11 13.161 16 3.093 12.955 0 0 13.161l12.955 13.161z\" fill=\"#fff\"></path></svg></div><div class=\"SDsN9S\"><div class=\"bs1+1t\"><div class=\"ewzVkT _3DvUAf\" title=\"50% or more\"><div class=\"QCKZip hpLdC3\"><label class=\"tJjCVx _3DvUAf\"><input class=\"vn9L2C\" readonly=\"\" type=\"checkbox\"/><div class=\"XqNaEv\"></div><div class=\"_6i1qKy\">50% or more</div></label></div></div><div class=\"ewzVkT _3DvUAf\" title=\"40% or more\"><div class=\"QCKZip hpLdC3\"><label class=\"tJjCVx _3DvUAf\"><input class=\"vn9L2C\" readonly=\"\" type=\"checkbox\"/><div class=\"XqNaEv\"></div><div class=\"_6i1qKy\">40% or more</div></label></div></div><div class=\"ewzVkT _3DvUAf\" title=\"30% or more\"><div class=\"QCKZip hpLdC3\"><label class=\"tJjCVx _3DvUAf\"><input class=\"vn9L2C\" readonly=\"\" type=\"checkbox\"/><div class=\"XqNaEv\"></div><div class=\"_6i1qKy\">30% or more</div></label></div></div><div class=\"ewzVkT _3DvUAf\" title=\"20% or more\"><div class=\"QCKZip hpLdC3\"><label class=\"tJjCVx _3DvUAf\"><input class=\"vn9L2C\" readonly=\"\" type=\"checkbox\"/><div class=\"XqNaEv\"></div><div class=\"_6i1qKy\">20% or more</div></label></div></div><div class=\"ewzVkT _3DvUAf\" title=\"10% or more\"><div class=\"QCKZip hpLdC3\"><label class=\"tJjCVx _3DvUAf\"><input class=\"vn9L2C\" readonly=\"\" type=\"checkbox\"/><div class=\"XqNaEv\"></div><div class=\"_6i1qKy\">10% or more</div></label></div></div></div></div></section><section class=\"-5qqlC _2OLUF3\"><div class=\"FtQCb2 _3Owiq+\"><div class=\"fxf7w6 rgHxCQ\">Offers</div><svg class=\"ukzDZP rZzKt4\" height=\"27\" viewbox=\"0 0 16 27\" width=\"16\" xmlns=\"http://www.w3.org/2000/svg\"><path class=\"SV+H35\" d=\"M16 23.207L6.11 13.161 16 3.093 12.955 0 0 13.161l12.955 13.161z\" fill=\"#fff\"></path></svg></div><div class=\"SDsN9S\"><div class=\"bs1+1t\"><div class=\"ewzVkT _3DvUAf\" title=\"Buy More, Save More\"><div class=\"QCKZip hpLdC3\"><label class=\"tJjCVx _3DvUAf\"><input class=\"vn9L2C\" readonly=\"\" type=\"checkbox\"/><div class=\"XqNaEv\"></div><div class=\"_6i1qKy\">Buy More, Save More</div></label></div></div><div class=\"ewzVkT _3DvUAf\" title=\"Special Price\"><div class=\"QCKZip hpLdC3\"><label class=\"tJjCVx _3DvUAf\"><input class=\"vn9L2C\" readonly=\"\" type=\"checkbox\"/><div class=\"XqNaEv\"></div><div class=\"_6i1qKy\">Special Price</div></label></div></div></div></div></section><section class=\"-5qqlC _2OLUF3\"><div class=\"FtQCb2 _3Owiq+\"><div class=\"fxf7w6 rgHxCQ\">Type</div><svg class=\"ukzDZP\" height=\"27\" viewbox=\"0 0 16 27\" width=\"16\" xmlns=\"http://www.w3.org/2000/svg\"><path class=\"SV+H35\" d=\"M16 23.207L6.11 13.161 16 3.093 12.955 0 0 13.161l12.955 13.161z\" fill=\"#fff\"></path></svg></div></section><section class=\"-5qqlC _2OLUF3\"><div class=\"FtQCb2 _3Owiq+\"><div class=\"fxf7w6 rgHxCQ\">Operating System Version Name</div><svg class=\"ukzDZP\" height=\"27\" viewbox=\"0 0 16 27\" width=\"16\" xmlns=\"http://www.w3.org/2000/svg\"><path class=\"SV+H35\" d=\"M16 23.207L6.11 13.161 16 3.093 12.955 0 0 13.161l12.955 13.161z\" fill=\"#fff\"></path></svg></div></section><section class=\"-5qqlC _2OLUF3\"><div class=\"FtQCb2 _3Owiq+\"><div class=\"fxf7w6 rgHxCQ\">Clock Speed</div><svg class=\"ukzDZP\" height=\"27\" viewbox=\"0 0 16 27\" width=\"16\" xmlns=\"http://www.w3.org/2000/svg\"><path class=\"SV+H35\" d=\"M16 23.207L6.11 13.161 16 3.093 12.955 0 0 13.161l12.955 13.161z\" fill=\"#fff\"></path></svg></div></section><section class=\"-5qqlC _2OLUF3\"><div class=\"FtQCb2 _3Owiq+\"><div class=\"fxf7w6 rgHxCQ\">Features</div><svg class=\"ukzDZP\" height=\"27\" viewbox=\"0 0 16 27\" width=\"16\" xmlns=\"http://www.w3.org/2000/svg\"><path class=\"SV+H35\" d=\"M16 23.207L6.11 13.161 16 3.093 12.955 0 0 13.161l12.955 13.161z\" fill=\"#fff\"></path></svg></div></section><section class=\"-5qqlC _2OLUF3\"><div class=\"FtQCb2 _3Owiq+\"><div class=\"fxf7w6 rgHxCQ\">Number of Cores</div><svg class=\"ukzDZP\" height=\"27\" viewbox=\"0 0 16 27\" width=\"16\" xmlns=\"http://www.w3.org/2000/svg\"><path class=\"SV+H35\" d=\"M16 23.207L6.11 13.161 16 3.093 12.955 0 0 13.161l12.955 13.161z\" fill=\"#fff\"></path></svg></div></section></div></div><div class=\"cPHDOP col-12-12\"><a class=\"_4JdVq1\" href=\"/buying-guide/mobiles?sid=tyy,4io&amp;otracker=bg_from_browse_lhs\" title=\"Buying Guide\"><div><span>Need help?</span></div><div class=\"e1wDS3\"><span>Help me decide</span><svg class=\"VQiHOk\" height=\"27\" viewbox=\"0 0 16 27\" width=\"16\" xmlns=\"http://www.w3.org/2000/svg\"><path class=\"jVpjWi\" d=\"M16 23.207L6.11 13.161 16 3.093 12.955 0 0 13.161l12.955 13.161z\" fill=\"#fff\"></path></svg></div><img alt=\"Buying Guide\" src=\"//static-assets-web.flixcart.com/fk-p-linchpin-web/fk-cp-zion/img/buying-guide-illustration_4dd325.png\"/></a></div></div></div><div class=\"DOjaWF gdgoEp\" style=\"flex-grow:1;overflow:auto\"><div class=\"DOjaWF YJG4Cf col-12-12\" style=\"background-color:#ffffff;align-items:flex-end\"><div class=\"cPHDOP\" style=\"flex-grow:1;overflow:auto\"><div class=\"WOvzF4\"><div class=\"_7dPnhA\"><div class=\"r2CdBx\"><a class=\"R0cyWM\" href=\"/\">Home</a><svg class=\"sfneHK\" height=\"27\" viewbox=\"0 0 16 27\" width=\"16\" xmlns=\"http://www.w3.org/2000/svg\"><path class=\"wMLTcO\" d=\"M16 23.207L6.11 13.161 16 3.093 12.955 0 0 13.161l12.955 13.161z\" fill=\"#fff\"></path></svg></div><div class=\"r2CdBx\"><a class=\"R0cyWM\" href=\"/mobiles-accessories/pr?sid=tyy&amp;marketplace=FLIPKART\">Mobiles &amp; Accessories</a><svg class=\"sfneHK\" height=\"27\" viewbox=\"0 0 16 27\" width=\"16\" xmlns=\"http://www.w3.org/2000/svg\"><path class=\"wMLTcO\" d=\"M16 23.207L6.11 13.161 16 3.093 12.955 0 0 13.161l12.955 13.161z\" fill=\"#fff\"></path></svg></div><div class=\"r2CdBx\"><a class=\"R0cyWM\" href=\"/mobiles/pr?sid=tyy,4io&amp;marketplace=FLIPKART\">Mobiles</a><svg class=\"sfneHK\" height=\"27\" viewbox=\"0 0 16 27\" width=\"16\" xmlns=\"http://www.w3.org/2000/svg\"><path class=\"wMLTcO\" d=\"M16 23.207L6.11 13.161 16 3.093 12.955 0 0 13.161l12.955 13.161z\" fill=\"#fff\"></path></svg></div></div><span class=\"BUOuZu\">Showing 1 – 24 of 11,173 results for \"<span>mobiles under 50000 rupees</span>\"</span><div class=\"sHCOk2\"><span class=\"viJOii\">Sort By</span><div class=\"zg-M3Z _0H7xSG\">Relevance</div><div class=\"zg-M3Z\">Popularity</div><div class=\"zg-M3Z\">Price -- Low to High</div><div class=\"zg-M3Z\">Price -- High to Low</div><div class=\"zg-M3Z\">Newest First</div></div></div></div></div><div class=\"cPHDOP col-12-12\"><div class=\"_75nlfW\"><div data-id=\"MOBHYJ6QZP2UA4X9\" style=\"width:100%\"><div class=\"tUxRFH\"><a class=\"CGtC98\" href=\"/samsung-galaxy-s24-5g-marble-gray-128-gb/p/itmd5309d6e0a151?pid=MOBHYJ6QZP2UA4X9&amp;lid=LSTMOBHYJ6QZP2UA4X9WSTBPZ&amp;marketplace=FLIPKART&amp;q=mobiles+under+50000+rupees&amp;store=tyy%2F4io&amp;srno=s_1_1&amp;otracker=AS_QueryStore_OrganicAutoSuggest_1_19_na_na_na&amp;otracker1=AS_QueryStore_OrganicAutoSuggest_1_19_na_na_na&amp;fm=organic&amp;iid=1cdc04d5-43cc-459e-8030-113b23244ba6.MOBHYJ6QZP2UA4X9.SEARCH&amp;ppt=None&amp;ppn=None&amp;ssid=crn5k1mhhc0000001746798265650&amp;qH=91434633a446479e\" rel=\"noopener noreferrer\" target=\"_blank\"><div class=\"Otbq5D\"><div class=\"yPq5Io\"><div><div class=\"_4WELSP\" style=\"height:200px;width:200px\"><img alt=\"SAMSUNG Galaxy S24 5G (Marble Gray, 128 GB)\" class=\"DByuf4\" loading=\"eager\" src=\"https://rukminim2.flixcart.com/image/312/312/xif0q/mobile/z/x/9/-original-imahbpk4etmfggk3.jpeg?q=70\"/></div></div></div><div class=\"qaR90o\"><div class=\"A8uQAd\"><span class=\"Lni97G\"><label class=\"tJjCVx\"><input class=\"vn9L2C\" readonly=\"\" type=\"checkbox\"/><div class=\"XqNaEv\"></div></label></span><label class=\"uu79Xy\"><span>Add to Compare</span></label></div></div><div class=\"oUss6M ssUU08\"><div class=\"+7E521\"><svg class=\"N1bADF\" height=\"16\" viewbox=\"0 0 20 16\" width=\"16\" xmlns=\"http://www.w3.org/2000/svg\"><path class=\"x1UMqG\" d=\"M8.695 16.682C4.06 12.382 1 9.536 1 6.065 1 3.219 3.178 1 5.95 1c1.566 0 3.069.746 4.05 1.915C10.981 1.745 12.484 1 14.05 1 16.822 1 19 3.22 19 6.065c0 3.471-3.06 6.316-7.695 10.617L10 17.897l-1.305-1.215z\" fill=\"#2874F0\" fill-rule=\"evenodd\" opacity=\".9\" stroke=\"#FFF\"></path></svg></div></div></div><div class=\"yKfJKb row\"><div class=\"col col-7-12\"><div class=\"KzDlHZ\">SAMSUNG Galaxy S24 5G (Marble Gray, 128 GB)</div><div class=\"_5OesEi\"><span class=\"Y1HWO0\" id=\"productRating_LSTMOBHYJ6QZP2UA4X9WSTBPZ_MOBHYJ6QZP2UA4X9_\"><div class=\"XQDdHH\">4.6<img class=\"Rza2QY\" src=\"data:image/svg+xml;base64,PHN2ZyB4bWxucz0iaHR0cDovL3d3dy53My5vcmcvMjAwMC9zdmciIHdpZHRoPSIxMyIgaGVpZ2h0PSIxMiI+PHBhdGggZmlsbD0iI0ZGRiIgZD0iTTYuNSA5LjQzOWwtMy42NzQgMi4yMy45NC00LjI2LTMuMjEtMi44ODMgNC4yNTQtLjQwNEw2LjUuMTEybDEuNjkgNC4wMSA0LjI1NC40MDQtMy4yMSAyLjg4Mi45NCA0LjI2eiIvPjwvc3ZnPg==\"/></div></span><span class=\"Wphh3N\"><span><span>2,526 Ratings </span><span class=\"hG7V+4\">&amp;</span><span> 207 Reviews</span></span></span></div><div class=\"_6NESgJ\"><ul class=\"G4BRas\"><li class=\"J+igdf\">8 GB RAM | 128 GB ROM</li><li class=\"J+igdf\">15.75 cm (6.2 inch) Full HD+ Display</li><li class=\"J+igdf\">50MP + 10MP + 12MP | 12MP Front Camera</li><li class=\"J+igdf\">4000 mAh Battery</li><li class=\"J+igdf\">Exynos 2400 Processor</li><li class=\"J+igdf\">1 Year Manufacturer Warranty for Device and 6 Months for In-Box Accessories</li></ul></div></div><div class=\"col col-5-12 BfVC2z\"><div class=\"cN1yYO\"><div class=\"hl05eU\"><div class=\"Nx9bqj _4b5DiR\">₹44,999</div><div class=\"yRaY8j ZYYwLA\">₹<!-- -->74,999</div><div class=\"UkUFwK\"><span>40% off</span></div></div><div class=\"k6cAZE dlFt9U\"><div><div class=\"yiggsN\" style=\"color:#000000;font-size:12px;font-weight:400\">Free delivery</div></div></div></div><div class=\"_0CSTHy\"><img height=\"21\" src=\"//static-assets-web.flixcart.com/fk-p-linchpin-web/fk-cp-zion/img/fa_9e47c1.png\"/></div><div class=\"M4DNwV\"><div class=\"n5vj9c\"><div class=\"yiggsN O5Fpg8\" style=\"color:#000000;font-size:14px;font-style:normal;font-weight:400\">Upto </div><div class=\"yiggsN O5Fpg8\" style=\"color:#000000;font-size:14px;font-style:normal;font-weight:700\">₹27,500</div><div class=\"yiggsN O5Fpg8\" style=\"color:#000000;font-size:14px;font-style:normal;font-weight:400\"> Off on Exchange</div></div></div><div class=\"M4DNwV\"><div class=\"n5vj9c\"><div class=\"yiggsN O5Fpg8\" style=\"color:#26A541;font-size:14px;font-weight:700\">Bank Offer</div></div></div></div></div></a></div></div></div></div><div class=\"cPHDOP col-12-12\"><div class=\"_75nlfW\"><div data-id=\"MOBH4ZG3E9SB6WDQ\" style=\"width:100%\"><div class=\"tUxRFH\"><a class=\"CGtC98\" href=\"/samsung-galaxy-s24-fe-5g-blue-256-gb/p/itme960199e26f23?pid=MOBH4ZG3E9SB6WDQ&amp;lid=LSTMOBH4ZG3E9SB6WDQVVLSZR&amp;marketplace=FLIPKART&amp;q=mobiles+under+50000+rupees&amp;store=tyy%2F4io&amp;srno=s_1_2&amp;otracker=AS_QueryStore_OrganicAutoSuggest_1_19_na_na_na&amp;otracker1=AS_QueryStore_OrganicAutoSuggest_1_19_na_na_na&amp;fm=organic&amp;iid=1cdc04d5-43cc-459e-8030-113b23244ba6.MOBH4ZG3E9SB6WDQ.SEARCH&amp;ppt=None&amp;ppn=None&amp;ssid=crn5k1mhhc0000001746798265650&amp;qH=91434633a446479e\" rel=\"noopener noreferrer\" target=\"_blank\"><div class=\"Otbq5D\"><div class=\"yPq5Io\"><div><div class=\"_4WELSP\" style=\"height:200px;width:200px\"><img alt=\"SAMSUNG Galaxy S24 FE 5G (Blue, 256 GB)\" class=\"DByuf4\" loading=\"eager\" src=\"https://rukminim2.flixcart.com/image/312/312/xif0q/mobile/m/3/k/-original-imahbqxnuhznhsj4.jpeg?q=70\"/></div></div></div><div class=\"qaR90o\"><div class=\"A8uQAd\"><span class=\"Lni97G\"><label class=\"tJjCVx\"><input class=\"vn9L2C\" readonly=\"\" type=\"checkbox\"/><div class=\"XqNaEv\"></div></label></span><label class=\"uu79Xy\"><span>Add to Compare</span></label></div></div><div class=\"oUss6M ssUU08\"><div class=\"+7E521\"><svg class=\"N1bADF\" height=\"16\" viewbox=\"0 0 20 16\" width=\"16\" xmlns=\"http://www.w3.org/2000/svg\"><path class=\"x1UMqG\" d=\"M8.695 16.682C4.06 12.382 1 9.536 1 6.065 1 3.219 3.178 1 5.95 1c1.566 0 3.069.746 4.05 1.915C10.981 1.745 12.484 1 14.05 1 16.822 1 19 3.22 19 6.065c0 3.471-3.06 6.316-7.695 10.617L10 17.897l-1.305-1.215z\" fill=\"#2874F0\" fill-rule=\"evenodd\" opacity=\".9\" stroke=\"#FFF\"></path></svg></div></div></div><div class=\"yKfJKb row\"><div class=\"col col-7-12\"><div class=\"KzDlHZ\">SAMSUNG Galaxy S24 FE 5G (Blue, 256 GB)</div><div class=\"_5OesEi\"><span class=\"Y1HWO0\" id=\"productRating_LSTMOBH4ZG3E9SB6WDQVVLSZR_MOBH4ZG3E9SB6WDQ_\"><div class=\"XQDdHH\">4.5<img class=\"Rza2QY\" src=\"data:image/svg+xml;base64,PHN2ZyB4bWxucz0iaHR0cDovL3d3dy53My5vcmcvMjAwMC9zdmciIHdpZHRoPSIxMyIgaGVpZ2h0PSIxMiI+PHBhdGggZmlsbD0iI0ZGRiIgZD0iTTYuNSA5LjQzOWwtMy42NzQgMi4yMy45NC00LjI2LTMuMjEtMi44ODMgNC4yNTQtLjQwNEw2LjUuMTEybDEuNjkgNC4wMSA0LjI1NC40MDQtMy4yMSAyLjg4Mi45NCA0LjI2eiIvPjwvc3ZnPg==\"/></div></span><span class=\"Wphh3N\"><span><span>3,625 Ratings </span><span class=\"hG7V+4\">&amp;</span><span> 271 Reviews</span></span></span></div><div class=\"_6NESgJ\"><ul class=\"G4BRas\"><li class=\"J+igdf\">8 GB RAM | 256 GB ROM</li><li class=\"J+igdf\">17.02 cm (6.7 inch) Full HD+ Display</li><li class=\"J+igdf\">50MP + 12MP | 10MP Front Camera</li><li class=\"J+igdf\">4700 mAh Battery</li><li class=\"J+igdf\">Exynos 2400e Processor</li><li class=\"J+igdf\">1 Year Manufacturer Warranty for Device and 6 Months for In-Box Accessories</li></ul></div></div><div class=\"col col-5-12 BfVC2z\"><div class=\"cN1yYO\"><div class=\"hl05eU\"><div class=\"Nx9bqj _4b5DiR\">₹40,999</div><div class=\"yRaY8j ZYYwLA\">₹<!-- -->65,999</div><div class=\"UkUFwK\"><span>37% off</span></div></div><div class=\"k6cAZE dlFt9U\"><div><div class=\"yiggsN\" style=\"color:#000000;font-size:12px;font-weight:400\">Free delivery</div></div></div></div><div class=\"_0CSTHy\"><img height=\"21\" src=\"//static-assets-web.flixcart.com/fk-p-linchpin-web/fk-cp-zion/img/fa_9e47c1.png\"/></div><div class=\"M4DNwV\"><div class=\"n5vj9c\"><div class=\"yiggsN O5Fpg8\" style=\"color:#000000;font-size:14px;font-style:normal;font-weight:400\">Upto </div><div class=\"yiggsN O5Fpg8\" style=\"color:#000000;font-size:14px;font-style:normal;font-weight:700\">₹24,050</div><div class=\"yiggsN O5Fpg8\" style=\"color:#000000;font-size:14px;font-style:normal;font-weight:400\"> Off on Exchange</div></div></div><div class=\"M4DNwV\"><div class=\"n5vj9c\"><div class=\"yiggsN O5Fpg8\" style=\"color:#26A541;font-size:14px;font-weight:700\">Bank Offer</div></div></div></div></div></a></div></div></div></div><div class=\"cPHDOP col-12-12\"><div class=\"_75nlfW\"><div data-id=\"MOBH4ZG33EBNZKS7\" style=\"width:100%\"><div class=\"tUxRFH\"><a class=\"CGtC98\" href=\"/samsung-galaxy-s24-fe-5g-graphite-128-gb/p/itme960199e26f23?pid=MOBH4ZG33EBNZKS7&amp;lid=LSTMOBH4ZG33EBNZKS751CITE&amp;marketplace=FLIPKART&amp;q=mobiles+under+50000+rupees&amp;store=tyy%2F4io&amp;spotlightTagId=default_BestsellerId_tyy%2F4io&amp;srno=s_1_3&amp;otracker=AS_QueryStore_OrganicAutoSuggest_1_19_na_na_na&amp;otracker1=AS_QueryStore_OrganicAutoSuggest_1_19_na_na_na&amp;fm=organic&amp;iid=1cdc04d5-43cc-459e-8030-113b23244ba6.MOBH4ZG33EBNZKS7.SEARCH&amp;ppt=None&amp;ppn=None&amp;ssid=crn5k1mhhc0000001746798265650&amp;qH=91434633a446479e\" rel=\"noopener noreferrer\" target=\"_blank\"><div></div><div class=\"Otbq5D\"><div class=\"yPq5Io\"><div><div class=\"_4WELSP\" style=\"height:200px;width:200px\"><img alt=\"SAMSUNG Galaxy S24 FE 5G (Graphite, 128 GB)\" class=\"DByuf4\" loading=\"eager\" src=\"https://rukminim2.flixcart.com/image/312/312/xif0q/mobile/v/q/v/-original-imahbqxnzsptbypz.jpeg?q=70\"/></div></div></div><div class=\"qaR90o\"><div class=\"A8uQAd\"><span class=\"Lni97G\"><label class=\"tJjCVx\"><input class=\"vn9L2C\" readonly=\"\" type=\"checkbox\"/><div class=\"XqNaEv\"></div></label></span><label class=\"uu79Xy\"><span>Add to Compare</span></label></div></div><div class=\"oUss6M ssUU08\"><div class=\"+7E521\"><svg class=\"N1bADF\" height=\"16\" viewbox=\"0 0 20 16\" width=\"16\" xmlns=\"http://www.w3.org/2000/svg\"><path class=\"x1UMqG\" d=\"M8.695 16.682C4.06 12.382 1 9.536 1 6.065 1 3.219 3.178 1 5.95 1c1.566 0 3.069.746 4.05 1.915C10.981 1.745 12.484 1 14.05 1 16.822 1 19 3.22 19 6.065c0 3.471-3.06 6.316-7.695 10.617L10 17.897l-1.305-1.215z\" fill=\"#2874F0\" fill-rule=\"evenodd\" opacity=\".9\" stroke=\"#FFF\"></path></svg></div></div></div><div class=\"yKfJKb row\"><div class=\"col col-7-12\"><div class=\"KzDlHZ\">SAMSUNG Galaxy S24 FE 5G (Graphite, 128 GB)</div><div class=\"_5OesEi\"><span class=\"Y1HWO0\" id=\"productRating_LSTMOBH4ZG33EBNZKS751CITE_MOBH4ZG33EBNZKS7_\"><div class=\"XQDdHH\">4.5<img class=\"Rza2QY\" src=\"data:image/svg+xml;base64,PHN2ZyB4bWxucz0iaHR0cDovL3d3dy53My5vcmcvMjAwMC9zdmciIHdpZHRoPSIxMyIgaGVpZ2h0PSIxMiI+PHBhdGggZmlsbD0iI0ZGRiIgZD0iTTYuNSA5LjQzOWwtMy42NzQgMi4yMy45NC00LjI2LTMuMjEtMi44ODMgNC4yNTQtLjQwNEw2LjUuMTEybDEuNjkgNC4wMSA0LjI1NC40MDQtMy4yMSAyLjg4Mi45NCA0LjI2eiIvPjwvc3ZnPg==\"/></div></span><span class=\"Wphh3N\"><span><span>3,625 Ratings </span><span class=\"hG7V+4\">&amp;</span><span> 271 Reviews</span></span></span></div><div class=\"_6NESgJ\"><ul class=\"G4BRas\"><li class=\"J+igdf\">8 GB RAM | 128 GB ROM</li><li class=\"J+igdf\">17.02 cm (6.7 inch) Full HD+ Display</li><li class=\"J+igdf\">50MP + 12MP | 10MP Front Camera</li><li class=\"J+igdf\">4700 mAh Battery</li><li class=\"J+igdf\">Exynos 2400e Processor</li><li class=\"J+igdf\">1 Year Manufacturer Warranty for Device and 6 Months for In-Box Accessories</li></ul></div></div><div class=\"col col-5-12 BfVC2z\"><div class=\"cN1yYO\"><div class=\"hl05eU\"><div class=\"Nx9bqj _4b5DiR\">₹34,999</div><div class=\"yRaY8j ZYYwLA\">₹<!-- -->59,999</div><div class=\"UkUFwK\"><span>41% off</span></div></div><div class=\"k6cAZE dlFt9U\"><div><div class=\"yiggsN\" style=\"color:#000000;font-size:12px;font-weight:400\">Free delivery</div></div></div></div><div class=\"_0CSTHy\"><img height=\"21\" src=\"//static-assets-web.flixcart.com/fk-p-linchpin-web/fk-cp-zion/img/fa_9e47c1.png\"/></div><div class=\"M4DNwV\"><div class=\"n5vj9c\"><div class=\"yiggsN O5Fpg8\" style=\"color:#C70055;font-size:12px;font-weight:700\">Only few left</div></div></div><div class=\"M4DNwV\"><div class=\"n5vj9c\"><div class=\"yiggsN O5Fpg8\" style=\"color:#000000;font-size:14px;font-style:normal;font-weight:400\">Upto </div><div class=\"yiggsN O5Fpg8\" style=\"color:#000000;font-size:14px;font-style:normal;font-weight:700\">₹21,450</div><div class=\"yiggsN O5Fpg8\" style=\"color:#000000;font-size:14px;font-style:normal;font-weight:400\"> Off on Exchange</div></div></div></div></div></a></div></div></div></div><div class=\"cPHDOP col-12-12\"><div class=\"_75nlfW\"><div data-id=\"MOBH4ZG3JACNJMZC\" style=\"width:100%\"><div class=\"tUxRFH\"><a class=\"CGtC98\" href=\"/samsung-galaxy-s24-fe-5g-mint-256-gb/p/itme960199e26f23?pid=MOBH4ZG3JACNJMZC&amp;lid=LSTMOBH4ZG3JACNJMZCFREL85&amp;marketplace=FLIPKART&amp;q=mobiles+under+50000+rupees&amp;store=tyy%2F4io&amp;srno=s_1_4&amp;otracker=AS_QueryStore_OrganicAutoSuggest_1_19_na_na_na&amp;otracker1=AS_QueryStore_OrganicAutoSuggest_1_19_na_na_na&amp;fm=organic&amp;iid=1cdc04d5-43cc-459e-8030-113b23244ba6.MOBH4ZG3JACNJMZC.SEARCH&amp;ppt=None&amp;ppn=None&amp;ssid=crn5k1mhhc0000001746798265650&amp;qH=91434633a446479e\" rel=\"noopener noreferrer\" target=\"_blank\"><div class=\"Otbq5D\"><div class=\"yPq5Io\"><div><div class=\"_4WELSP\" style=\"height:200px;width:200px\"><img alt=\"SAMSUNG Galaxy S24 FE 5G (Mint, 256 GB)\" class=\"DByuf4\" loading=\"eager\" src=\"https://rukminim2.flixcart.com/image/312/312/xif0q/mobile/u/c/g/-original-imahbqxnzgzee4mp.jpeg?q=70\"/></div></div></div><div class=\"qaR90o\"><div class=\"A8uQAd\"><span class=\"Lni97G\"><label class=\"tJjCVx\"><input class=\"vn9L2C\" readonly=\"\" type=\"checkbox\"/><div class=\"XqNaEv\"></div></label></span><label class=\"uu79Xy\"><span>Add to Compare</span></label></div></div><div class=\"oUss6M ssUU08\"><div class=\"+7E521\"><svg class=\"N1bADF\" height=\"16\" viewbox=\"0 0 20 16\" width=\"16\" xmlns=\"http://www.w3.org/2000/svg\"><path class=\"x1UMqG\" d=\"M8.695 16.682C4.06 12.382 1 9.536 1 6.065 1 3.219 3.178 1 5.95 1c1.566 0 3.069.746 4.05 1.915C10.981 1.745 12.484 1 14.05 1 16.822 1 19 3.22 19 6.065c0 3.471-3.06 6.316-7.695 10.617L10 17.897l-1.305-1.215z\" fill=\"#2874F0\" fill-rule=\"evenodd\" opacity=\".9\" stroke=\"#FFF\"></path></svg></div></div></div><div class=\"yKfJKb row\"><div class=\"col col-7-12\"><div class=\"KzDlHZ\">SAMSUNG Galaxy S24 FE 5G (Mint, 256 GB)</div><div class=\"_5OesEi\"><span class=\"Y1HWO0\" id=\"productRating_LSTMOBH4ZG3JACNJMZCFREL85_MOBH4ZG3JACNJMZC_\"><div class=\"XQDdHH\">4.5<img class=\"Rza2QY\" src=\"data:image/svg+xml;base64,PHN2ZyB4bWxucz0iaHR0cDovL3d3dy53My5vcmcvMjAwMC9zdmciIHdpZHRoPSIxMyIgaGVpZ2h0PSIxMiI+PHBhdGggZmlsbD0iI0ZGRiIgZD0iTTYuNSA5LjQzOWwtMy42NzQgMi4yMy45NC00LjI2LTMuMjEtMi44ODMgNC4yNTQtLjQwNEw2LjUuMTEybDEuNjkgNC4wMSA0LjI1NC40MDQtMy4yMSAyLjg4Mi45NCA0LjI2eiIvPjwvc3ZnPg==\"/></div></span><span class=\"Wphh3N\"><span><span>3,625 Ratings </span><span class=\"hG7V+4\">&amp;</span><span> 271 Reviews</span></span></span></div><div class=\"_6NESgJ\"><ul class=\"G4BRas\"><li class=\"J+igdf\">8 GB RAM | 256 GB ROM</li><li class=\"J+igdf\">17.02 cm (6.7 inch) Full HD+ Display</li><li class=\"J+igdf\">50MP + 12MP | 10MP Front Camera</li><li class=\"J+igdf\">4700 mAh Battery</li><li class=\"J+igdf\">Exynos 2400e Processor</li><li class=\"J+igdf\">1 Year Manufacturer Warranty for Device and 6 Months for In-Box Accessories</li></ul></div></div><div class=\"col col-5-12 BfVC2z\"><div class=\"cN1yYO\"><div class=\"hl05eU\"><div class=\"Nx9bqj _4b5DiR\">₹40,999</div><div class=\"yRaY8j ZYYwLA\">₹<!-- -->65,999</div><div class=\"UkUFwK\"><span>37% off</span></div></div><div class=\"k6cAZE dlFt9U\"><div><div class=\"yiggsN\" style=\"color:#000000;font-size:12px;font-weight:400\">Free delivery</div></div></div></div><div class=\"_0CSTHy\"><img height=\"21\" src=\"//static-assets-web.flixcart.com/fk-p-linchpin-web/fk-cp-zion/img/fa_9e47c1.png\"/></div><div class=\"M4DNwV\"><div class=\"n5vj9c\"><div class=\"yiggsN O5Fpg8\" style=\"color:#000000;font-size:14px;font-style:normal;font-weight:400\">Upto </div><div class=\"yiggsN O5Fpg8\" style=\"color:#000000;font-size:14px;font-style:normal;font-weight:700\">₹24,050</div><div class=\"yiggsN O5Fpg8\" style=\"color:#000000;font-size:14px;font-style:normal;font-weight:400\"> Off on Exchange</div></div></div><div class=\"M4DNwV\"><div class=\"n5vj9c\"><div class=\"yiggsN O5Fpg8\" style=\"color:#26A541;font-size:14px;font-weight:700\">Bank Offer</div></div></div></div></div></a></div></div></div></div><div class=\"cPHDOP col-12-12\"><div class=\"_75nlfW\"><div data-id=\"MOBH4ZG3TSXHKXH2\" style=\"width:100%\"><div class=\"tUxRFH\"><a class=\"CGtC98\" href=\"/samsung-galaxy-s24-fe-5g-mint-128-gb/p/itme960199e26f23?pid=MOBH4ZG3TSXHKXH2&amp;lid=LSTMOBH4ZG3TSXHKXH2BH0BQS&amp;marketplace=FLIPKART&amp;q=mobiles+under+50000+rupees&amp;store=tyy%2F4io&amp;srno=s_1_5&amp;otracker=AS_QueryStore_OrganicAutoSuggest_1_19_na_na_na&amp;otracker1=AS_QueryStore_OrganicAutoSuggest_1_19_na_na_na&amp;fm=organic&amp;iid=1cdc04d5-43cc-459e-8030-113b23244ba6.MOBH4ZG3TSXHKXH2.SEARCH&amp;ppt=None&amp;ppn=None&amp;ssid=crn5k1mhhc0000001746798265650&amp;qH=91434633a446479e\" rel=\"noopener noreferrer\" target=\"_blank\"><div class=\"Otbq5D\"><div class=\"yPq5Io\"><div><div class=\"_4WELSP\" style=\"height:200px;width:200px\"><img alt=\"SAMSUNG Galaxy S24 FE 5G (Mint, 128 GB)\" class=\"DByuf4\" loading=\"eager\" src=\"https://rukminim2.flixcart.com/image/312/312/xif0q/mobile/u/c/g/-original-imahbqxnzgzee4mp.jpeg?q=70\"/></div></div></div><div class=\"qaR90o\"><div class=\"A8uQAd\"><span class=\"Lni97G\"><label class=\"tJjCVx\"><input class=\"vn9L2C\" readonly=\"\" type=\"checkbox\"/><div class=\"XqNaEv\"></div></label></span><label class=\"uu79Xy\"><span>Add to Compare</span></label></div></div><div class=\"oUss6M ssUU08\"><div class=\"+7E521\"><svg class=\"N1bADF\" height=\"16\" viewbox=\"0 0 20 16\" width=\"16\" xmlns=\"http://www.w3.org/2000/svg\"><path class=\"x1UMqG\" d=\"M8.695 16.682C4.06 12.382 1 9.536 1 6.065 1 3.219 3.178 1 5.95 1c1.566 0 3.069.746 4.05 1.915C10.981 1.745 12.484 1 14.05 1 16.822 1 19 3.22 19 6.065c0 3.471-3.06 6.316-7.695 10.617L10 17.897l-1.305-1.215z\" fill=\"#2874F0\" fill-rule=\"evenodd\" opacity=\".9\" stroke=\"#FFF\"></path></svg></div></div></div><div class=\"yKfJKb row\"><div class=\"col col-7-12\"><div class=\"KzDlHZ\">SAMSUNG Galaxy S24 FE 5G (Mint, 128 GB)</div><div class=\"_5OesEi\"><span class=\"Y1HWO0\" id=\"productRating_LSTMOBH4ZG3TSXHKXH2BH0BQS_MOBH4ZG3TSXHKXH2_\"><div class=\"XQDdHH\">4.5<img class=\"Rza2QY\" src=\"data:image/svg+xml;base64,PHN2ZyB4bWxucz0iaHR0cDovL3d3dy53My5vcmcvMjAwMC9zdmciIHdpZHRoPSIxMyIgaGVpZ2h0PSIxMiI+PHBhdGggZmlsbD0iI0ZGRiIgZD0iTTYuNSA5LjQzOWwtMy42NzQgMi4yMy45NC00LjI2LTMuMjEtMi44ODMgNC4yNTQtLjQwNEw2LjUuMTEybDEuNjkgNC4wMSA0LjI1NC40MDQtMy4yMSAyLjg4Mi45NCA0LjI2eiIvPjwvc3ZnPg==\"/></div></span><span class=\"Wphh3N\"><span><span>3,625 Ratings </span><span class=\"hG7V+4\">&amp;</span><span> 271 Reviews</span></span></span></div><div class=\"_6NESgJ\"><ul class=\"G4BRas\"><li class=\"J+igdf\">8 GB RAM | 128 GB ROM</li><li class=\"J+igdf\">17.02 cm (6.7 inch) Full HD+ Display</li><li class=\"J+igdf\">50MP + 12MP | 10MP Front Camera</li><li class=\"J+igdf\">4700 mAh Battery</li><li class=\"J+igdf\">Exynos 2400e Processor</li><li class=\"J+igdf\">1 Year Manufacturer Warranty for Device and 6 Months for In-Box Accessories</li></ul></div></div><div class=\"col col-5-12 BfVC2z\"><div class=\"cN1yYO\"><div class=\"hl05eU\"><div class=\"Nx9bqj _4b5DiR\">₹34,999</div><div class=\"yRaY8j ZYYwLA\">₹<!-- -->59,999</div><div class=\"UkUFwK\"><span>41% off</span></div></div><div class=\"k6cAZE dlFt9U\"><div><div class=\"yiggsN\" style=\"color:#000000;font-size:12px;font-weight:400\">Free delivery</div></div></div></div><div class=\"_0CSTHy\"><img height=\"21\" src=\"//static-assets-web.flixcart.com/fk-p-linchpin-web/fk-cp-zion/img/fa_9e47c1.png\"/></div><div class=\"M4DNwV\"><div class=\"n5vj9c\"><div class=\"yiggsN O5Fpg8\" style=\"color:#000000;font-size:14px;font-style:normal;font-weight:400\">Upto </div><div class=\"yiggsN O5Fpg8\" style=\"color:#000000;font-size:14px;font-style:normal;font-weight:700\">₹21,450</div><div class=\"yiggsN O5Fpg8\" style=\"color:#000000;font-size:14px;font-style:normal;font-weight:400\"> Off on Exchange</div></div></div><div class=\"M4DNwV\"><div class=\"n5vj9c\"><div class=\"yiggsN O5Fpg8\" style=\"color:#26A541;font-size:14px;font-weight:700\">Bank Offer</div></div></div></div></div></a></div></div></div></div><div class=\"cPHDOP col-12-12\"><div class=\"_75nlfW\"><div data-id=\"MOBH4ZG3Z5NCBW2H\" style=\"width:100%\"><div class=\"tUxRFH\"><a class=\"CGtC98\" href=\"/samsung-galaxy-s24-fe-5g-blue-128-gb/p/itme960199e26f23?pid=MOBH4ZG3Z5NCBW2H&amp;lid=LSTMOBH4ZG3Z5NCBW2HWQMO2K&amp;marketplace=FLIPKART&amp;q=mobiles+under+50000+rupees&amp;store=tyy%2F4io&amp;spotlightTagId=default_BestsellerId_tyy%2F4io&amp;srno=s_1_6&amp;otracker=AS_QueryStore_OrganicAutoSuggest_1_19_na_na_na&amp;otracker1=AS_QueryStore_OrganicAutoSuggest_1_19_na_na_na&amp;fm=organic&amp;iid=1cdc04d5-43cc-459e-8030-113b23244ba6.MOBH4ZG3Z5NCBW2H.SEARCH&amp;ppt=None&amp;ppn=None&amp;ssid=crn5k1mhhc0000001746798265650&amp;qH=91434633a446479e\" rel=\"noopener noreferrer\" target=\"_blank\"><div></div><div class=\"Otbq5D\"><div class=\"yPq5Io\"><div><div class=\"_4WELSP\" style=\"height:200px;width:200px\"><img alt=\"SAMSUNG Galaxy S24 FE 5G (Blue, 128 GB)\" class=\"DByuf4\" loading=\"eager\" src=\"https://rukminim2.flixcart.com/image/312/312/xif0q/mobile/m/3/k/-original-imahbqxnuhznhsj4.jpeg?q=70\"/></div></div></div><div class=\"qaR90o\"><div class=\"A8uQAd\"><span class=\"Lni97G\"><label class=\"tJjCVx\"><input class=\"vn9L2C\" readonly=\"\" type=\"checkbox\"/><div class=\"XqNaEv\"></div></label></span><label class=\"uu79Xy\"><span>Add to Compare</span></label></div></div><div class=\"oUss6M ssUU08\"><div class=\"+7E521\"><svg class=\"N1bADF\" height=\"16\" viewbox=\"0 0 20 16\" width=\"16\" xmlns=\"http://www.w3.org/2000/svg\"><path class=\"x1UMqG\" d=\"M8.695 16.682C4.06 12.382 1 9.536 1 6.065 1 3.219 3.178 1 5.95 1c1.566 0 3.069.746 4.05 1.915C10.981 1.745 12.484 1 14.05 1 16.822 1 19 3.22 19 6.065c0 3.471-3.06 6.316-7.695 10.617L10 17.897l-1.305-1.215z\" fill=\"#2874F0\" fill-rule=\"evenodd\" opacity=\".9\" stroke=\"#FFF\"></path></svg></div></div></div><div class=\"yKfJKb row\"><div class=\"col col-7-12\"><div class=\"KzDlHZ\">SAMSUNG Galaxy S24 FE 5G (Blue, 128 GB)</div><div class=\"_5OesEi\"><span class=\"Y1HWO0\" id=\"productRating_LSTMOBH4ZG3Z5NCBW2HWQMO2K_MOBH4ZG3Z5NCBW2H_\"><div class=\"XQDdHH\">4.5<img class=\"Rza2QY\" src=\"data:image/svg+xml;base64,PHN2ZyB4bWxucz0iaHR0cDovL3d3dy53My5vcmcvMjAwMC9zdmciIHdpZHRoPSIxMyIgaGVpZ2h0PSIxMiI+PHBhdGggZmlsbD0iI0ZGRiIgZD0iTTYuNSA5LjQzOWwtMy42NzQgMi4yMy45NC00LjI2LTMuMjEtMi44ODMgNC4yNTQtLjQwNEw2LjUuMTEybDEuNjkgNC4wMSA0LjI1NC40MDQtMy4yMSAyLjg4Mi45NCA0LjI2eiIvPjwvc3ZnPg==\"/></div></span><span class=\"Wphh3N\"><span><span>3,625 Ratings </span><span class=\"hG7V+4\">&amp;</span><span> 271 Reviews</span></span></span></div><div class=\"_6NESgJ\"><ul class=\"G4BRas\"><li class=\"J+igdf\">8 GB RAM | 128 GB ROM</li><li class=\"J+igdf\">17.02 cm (6.7 inch) Full HD+ Display</li><li class=\"J+igdf\">50MP + 12MP | 10MP Front Camera</li><li class=\"J+igdf\">4700 mAh Battery</li><li class=\"J+igdf\">Exynos 2400e Processor</li><li class=\"J+igdf\">1 Year Manufacturer Warranty for Device and 6 Months for In-Box Accessories</li></ul></div></div><div class=\"col col-5-12 BfVC2z\"><div class=\"cN1yYO\"><div class=\"hl05eU\"><div class=\"Nx9bqj _4b5DiR\">₹34,999</div><div class=\"yRaY8j ZYYwLA\">₹<!-- -->59,999</div><div class=\"UkUFwK\"><span>41% off</span></div></div><div class=\"k6cAZE dlFt9U\"><div><div class=\"yiggsN\" style=\"color:#000000;font-size:12px;font-weight:400\">Free delivery</div></div></div></div><div class=\"_0CSTHy\"><img height=\"21\" src=\"//static-assets-web.flixcart.com/fk-p-linchpin-web/fk-cp-zion/img/fa_9e47c1.png\"/></div><div class=\"M4DNwV\"><div class=\"n5vj9c\"><div class=\"yiggsN O5Fpg8\" style=\"color:#000000;font-size:14px;font-style:normal;font-weight:400\">Upto </div><div class=\"yiggsN O5Fpg8\" style=\"color:#000000;font-size:14px;font-style:normal;font-weight:700\">₹21,450</div><div class=\"yiggsN O5Fpg8\" style=\"color:#000000;font-size:14px;font-style:normal;font-weight:400\"> Off on Exchange</div></div></div><div class=\"M4DNwV\"><div class=\"n5vj9c\"><div class=\"yiggsN O5Fpg8\" style=\"color:#26A541;font-size:14px;font-weight:700\">Bank Offer</div></div></div></div></div></a></div></div></div></div><div class=\"cPHDOP col-12-12\"><div class=\"_75nlfW\"><div data-id=\"MOBH4ZG3KPRR7HWZ\" style=\"width:100%\"><div class=\"tUxRFH\"><a class=\"CGtC98\" href=\"/samsung-galaxy-s24-fe-5g-graphite-256-gb/p/itme960199e26f23?pid=MOBH4ZG3KPRR7HWZ&amp;lid=LSTMOBH4ZG3KPRR7HWZWYHPPG&amp;marketplace=FLIPKART&amp;q=mobiles+under+50000+rupees&amp;store=tyy%2F4io&amp;srno=s_1_7&amp;otracker=AS_QueryStore_OrganicAutoSuggest_1_19_na_na_na&amp;otracker1=AS_QueryStore_OrganicAutoSuggest_1_19_na_na_na&amp;fm=organic&amp;iid=1cdc04d5-43cc-459e-8030-113b23244ba6.MOBH4ZG3KPRR7HWZ.SEARCH&amp;ppt=None&amp;ppn=None&amp;ssid=crn5k1mhhc0000001746798265650&amp;qH=91434633a446479e\" rel=\"noopener noreferrer\" target=\"_blank\"><div class=\"Otbq5D\"><div class=\"yPq5Io\"><div><div class=\"_4WELSP\" style=\"height:200px;width:200px\"><img alt=\"SAMSUNG Galaxy S24 FE 5G (Graphite, 256 GB)\" class=\"DByuf4\" loading=\"eager\" src=\"https://rukminim2.flixcart.com/image/312/312/xif0q/mobile/v/q/v/-original-imahbqxnzsptbypz.jpeg?q=70\"/></div></div></div><div class=\"qaR90o\"><div class=\"A8uQAd\"><span class=\"Lni97G\"><label class=\"tJjCVx\"><input class=\"vn9L2C\" readonly=\"\" type=\"checkbox\"/><div class=\"XqNaEv\"></div></label></span><label class=\"uu79Xy\"><span>Add to Compare</span></label></div></div><div class=\"oUss6M ssUU08\"><div class=\"+7E521\"><svg class=\"N1bADF\" height=\"16\" viewbox=\"0 0 20 16\" width=\"16\" xmlns=\"http://www.w3.org/2000/svg\"><path class=\"x1UMqG\" d=\"M8.695 16.682C4.06 12.382 1 9.536 1 6.065 1 3.219 3.178 1 5.95 1c1.566 0 3.069.746 4.05 1.915C10.981 1.745 12.484 1 14.05 1 16.822 1 19 3.22 19 6.065c0 3.471-3.06 6.316-7.695 10.617L10 17.897l-1.305-1.215z\" fill=\"#2874F0\" fill-rule=\"evenodd\" opacity=\".9\" stroke=\"#FFF\"></path></svg></div></div></div><div class=\"yKfJKb row\"><div class=\"col col-7-12\"><div class=\"KzDlHZ\">SAMSUNG Galaxy S24 FE 5G (Graphite, 256 GB)</div><div class=\"_5OesEi\"><span class=\"Y1HWO0\" id=\"productRating_LSTMOBH4ZG3KPRR7HWZWYHPPG_MOBH4ZG3KPRR7HWZ_\"><div class=\"XQDdHH\">4.5<img class=\"Rza2QY\" src=\"data:image/svg+xml;base64,PHN2ZyB4bWxucz0iaHR0cDovL3d3dy53My5vcmcvMjAwMC9zdmciIHdpZHRoPSIxMyIgaGVpZ2h0PSIxMiI+PHBhdGggZmlsbD0iI0ZGRiIgZD0iTTYuNSA5LjQzOWwtMy42NzQgMi4yMy45NC00LjI2LTMuMjEtMi44ODMgNC4yNTQtLjQwNEw2LjUuMTEybDEuNjkgNC4wMSA0LjI1NC40MDQtMy4yMSAyLjg4Mi45NCA0LjI2eiIvPjwvc3ZnPg==\"/></div></span><span class=\"Wphh3N\"><span><span>3,625 Ratings </span><span class=\"hG7V+4\">&amp;</span><span> 271 Reviews</span></span></span></div><div class=\"_6NESgJ\"><ul class=\"G4BRas\"><li class=\"J+igdf\">8 GB RAM | 256 GB ROM</li><li class=\"J+igdf\">17.02 cm (6.7 inch) Full HD+ Display</li><li class=\"J+igdf\">50MP + 12MP | 10MP Front Camera</li><li class=\"J+igdf\">4700 mAh Battery</li><li class=\"J+igdf\">Exynos 2400e Processor</li><li class=\"J+igdf\">1 Year Manufacturer Warranty for Device and 6 Months for In-Box Accessories</li></ul></div></div><div class=\"col col-5-12 BfVC2z\"><div class=\"cN1yYO\"><div class=\"hl05eU\"><div class=\"Nx9bqj _4b5DiR\">₹40,999</div><div class=\"yRaY8j ZYYwLA\">₹<!-- -->65,999</div><div class=\"UkUFwK\"><span>37% off</span></div></div><div class=\"k6cAZE dlFt9U\"><div><div class=\"yiggsN\" style=\"color:#000000;font-size:12px;font-weight:400\">Free delivery</div></div></div></div><div class=\"_0CSTHy\"><img height=\"21\" src=\"//static-assets-web.flixcart.com/fk-p-linchpin-web/fk-cp-zion/img/fa_9e47c1.png\"/></div><div class=\"M4DNwV\"><div class=\"n5vj9c\"><div class=\"yiggsN O5Fpg8\" style=\"color:#000000;font-size:14px;font-style:normal;font-weight:400\">Upto </div><div class=\"yiggsN O5Fpg8\" style=\"color:#000000;font-size:14px;font-style:normal;font-weight:700\">₹24,050</div><div class=\"yiggsN O5Fpg8\" style=\"color:#000000;font-size:14px;font-style:normal;font-weight:400\"> Off on Exchange</div></div></div><div class=\"M4DNwV\"><div class=\"n5vj9c\"><div class=\"yiggsN O5Fpg8\" style=\"color:#26A541;font-size:14px;font-weight:700\">Bank Offer</div></div></div></div></div></a></div></div></div></div><div class=\"cPHDOP col-12-12\"><div class=\"_75nlfW\"><div data-id=\"MOBHYJ6QFUNQYFDH\" style=\"width:100%\"><div class=\"tUxRFH\"><a class=\"CGtC98\" href=\"/samsung-galaxy-s24-5g-onyx-black-128-gb/p/itmc8add40b88912?pid=MOBHYJ6QFUNQYFDH&amp;lid=LSTMOBHYJ6QFUNQYFDHVZACEH&amp;marketplace=FLIPKART&amp;q=mobiles+under+50000+rupees&amp;store=tyy%2F4io&amp;srno=s_1_8&amp;otracker=AS_QueryStore_OrganicAutoSuggest_1_19_na_na_na&amp;otracker1=AS_QueryStore_OrganicAutoSuggest_1_19_na_na_na&amp;fm=organic&amp;iid=1cdc04d5-43cc-459e-8030-113b23244ba6.MOBHYJ6QFUNQYFDH.SEARCH&amp;ppt=None&amp;ppn=None&amp;ssid=crn5k1mhhc0000001746798265650&amp;qH=91434633a446479e\" rel=\"noopener noreferrer\" target=\"_blank\"><div class=\"Otbq5D\"><div class=\"yPq5Io\"><div><div class=\"_4WELSP\" style=\"height:200px;width:200px\"><img alt=\"SAMSUNG Galaxy S24 5G (Onyx Black, 128 GB)\" class=\"DByuf4\" loading=\"eager\" src=\"https://rukminim2.flixcart.com/image/312/312/xif0q/mobile/1/q/u/-original-imahbpk4pfzzgkgj.jpeg?q=70\"/></div></div></div><div class=\"qaR90o\"><div class=\"A8uQAd\"><span class=\"Lni97G\"><label class=\"tJjCVx\"><input class=\"vn9L2C\" readonly=\"\" type=\"checkbox\"/><div class=\"XqNaEv\"></div></label></span><label class=\"uu79Xy\"><span>Add to Compare</span></label></div></div><div class=\"oUss6M ssUU08\"><div class=\"+7E521\"><svg class=\"N1bADF\" height=\"16\" viewbox=\"0 0 20 16\" width=\"16\" xmlns=\"http://www.w3.org/2000/svg\"><path class=\"x1UMqG\" d=\"M8.695 16.682C4.06 12.382 1 9.536 1 6.065 1 3.219 3.178 1 5.95 1c1.566 0 3.069.746 4.05 1.915C10.981 1.745 12.484 1 14.05 1 16.822 1 19 3.22 19 6.065c0 3.471-3.06 6.316-7.695 10.617L10 17.897l-1.305-1.215z\" fill=\"#2874F0\" fill-rule=\"evenodd\" opacity=\".9\" stroke=\"#FFF\"></path></svg></div></div></div><div class=\"yKfJKb row\"><div class=\"col col-7-12\"><div class=\"KzDlHZ\">SAMSUNG Galaxy S24 5G (Onyx Black, 128 GB)</div><div class=\"_5OesEi\"><span class=\"Y1HWO0\" id=\"productRating_LSTMOBHYJ6QFUNQYFDHVZACEH_MOBHYJ6QFUNQYFDH_\"><div class=\"XQDdHH\">4.6<img class=\"Rza2QY\" src=\"data:image/svg+xml;base64,PHN2ZyB4bWxucz0iaHR0cDovL3d3dy53My5vcmcvMjAwMC9zdmciIHdpZHRoPSIxMyIgaGVpZ2h0PSIxMiI+PHBhdGggZmlsbD0iI0ZGRiIgZD0iTTYuNSA5LjQzOWwtMy42NzQgMi4yMy45NC00LjI2LTMuMjEtMi44ODMgNC4yNTQtLjQwNEw2LjUuMTEybDEuNjkgNC4wMSA0LjI1NC40MDQtMy4yMSAyLjg4Mi45NCA0LjI2eiIvPjwvc3ZnPg==\"/></div></span><span class=\"Wphh3N\"><span><span>2,526 Ratings </span><span class=\"hG7V+4\">&amp;</span><span> 207 Reviews</span></span></span></div><div class=\"_6NESgJ\"><ul class=\"G4BRas\"><li class=\"J+igdf\">8 GB RAM | 128 GB ROM</li><li class=\"J+igdf\">15.75 cm (6.2 inch) Full HD+ Display</li><li class=\"J+igdf\">50MP + 10MP + 12MP | 12MP Front Camera</li><li class=\"J+igdf\">4000 mAh Battery</li><li class=\"J+igdf\">Exynos 2400 Processor</li><li class=\"J+igdf\">1 Year Manufacturer Warranty for Device and 6 Months for In-Box Accessories</li></ul></div></div><div class=\"col col-5-12 BfVC2z\"><div class=\"cN1yYO\"><div class=\"hl05eU\"><div class=\"Nx9bqj _4b5DiR\">₹44,999</div><div class=\"yRaY8j ZYYwLA\">₹<!-- -->74,999</div><div class=\"UkUFwK\"><span>40% off</span></div></div><div class=\"k6cAZE dlFt9U\"><div><div class=\"yiggsN\" style=\"color:#000000;font-size:12px;font-weight:400\">Free delivery</div></div></div></div><div class=\"_0CSTHy\"><img height=\"21\" src=\"//static-assets-web.flixcart.com/fk-p-linchpin-web/fk-cp-zion/img/fa_9e47c1.png\"/></div><div class=\"M4DNwV\"><div class=\"n5vj9c\"><div class=\"yiggsN O5Fpg8\" style=\"color:#000000;font-size:14px;font-style:normal;font-weight:400\">Upto </div><div class=\"yiggsN O5Fpg8\" style=\"color:#000000;font-size:14px;font-style:normal;font-weight:700\">₹27,500</div><div class=\"yiggsN O5Fpg8\" style=\"color:#000000;font-size:14px;font-style:normal;font-weight:400\"> Off on Exchange</div></div></div><div class=\"M4DNwV\"><div class=\"n5vj9c\"><div class=\"yiggsN O5Fpg8\" style=\"color:#26A541;font-size:14px;font-weight:700\">Bank Offer</div></div></div></div></div></a></div></div></div></div><div class=\"cPHDOP col-12-12\"><div class=\"_75nlfW\"><div data-id=\"MOBGX2F3ZUBMWBGP\" style=\"width:100%\"><div class=\"tUxRFH\"><a class=\"CGtC98\" href=\"/samsung-galaxy-s24-5g-onyx-black-256-gb/p/itm0456c01739016?pid=MOBGX2F3ZUBMWBGP&amp;lid=LSTMOBGX2F3ZUBMWBGPME7BYW&amp;marketplace=FLIPKART&amp;q=mobiles+under+50000+rupees&amp;store=tyy%2F4io&amp;srno=s_1_9&amp;otracker=AS_QueryStore_OrganicAutoSuggest_1_19_na_na_na&amp;otracker1=AS_QueryStore_OrganicAutoSuggest_1_19_na_na_na&amp;fm=organic&amp;iid=1cdc04d5-43cc-459e-8030-113b23244ba6.MOBGX2F3ZUBMWBGP.SEARCH&amp;ppt=None&amp;ppn=None&amp;ssid=crn5k1mhhc0000001746798265650&amp;qH=91434633a446479e\" rel=\"noopener noreferrer\" target=\"_blank\"><div class=\"Otbq5D\"><div class=\"yPq5Io\"><div><div class=\"_4WELSP\" style=\"height:200px;width:200px\"><img alt=\"SAMSUNG Galaxy S24 5G (Onyx Black, 256 GB)\" class=\"DByuf4\" loading=\"eager\" src=\"https://rukminim2.flixcart.com/image/312/312/xif0q/mobile/1/q/u/-original-imahbpk4pfzzgkgj.jpeg?q=70\"/></div></div></div><div class=\"qaR90o\"><div class=\"A8uQAd\"><span class=\"Lni97G\"><label class=\"tJjCVx\"><input class=\"vn9L2C\" readonly=\"\" type=\"checkbox\"/><div class=\"XqNaEv\"></div></label></span><label class=\"uu79Xy\"><span>Add to Compare</span></label></div></div><div class=\"oUss6M ssUU08\"><div class=\"+7E521\"><svg class=\"N1bADF\" height=\"16\" viewbox=\"0 0 20 16\" width=\"16\" xmlns=\"http://www.w3.org/2000/svg\"><path class=\"x1UMqG\" d=\"M8.695 16.682C4.06 12.382 1 9.536 1 6.065 1 3.219 3.178 1 5.95 1c1.566 0 3.069.746 4.05 1.915C10.981 1.745 12.484 1 14.05 1 16.822 1 19 3.22 19 6.065c0 3.471-3.06 6.316-7.695 10.617L10 17.897l-1.305-1.215z\" fill=\"#2874F0\" fill-rule=\"evenodd\" opacity=\".9\" stroke=\"#FFF\"></path></svg></div></div></div><div class=\"yKfJKb row\"><div class=\"col col-7-12\"><div class=\"KzDlHZ\">SAMSUNG Galaxy S24 5G (Onyx Black, 256 GB)</div><div class=\"_5OesEi\"><span class=\"Y1HWO0\" id=\"productRating_LSTMOBGX2F3ZUBMWBGPME7BYW_MOBGX2F3ZUBMWBGP_\"><div class=\"XQDdHH\">4.6<img class=\"Rza2QY\" src=\"data:image/svg+xml;base64,PHN2ZyB4bWxucz0iaHR0cDovL3d3dy53My5vcmcvMjAwMC9zdmciIHdpZHRoPSIxMyIgaGVpZ2h0PSIxMiI+PHBhdGggZmlsbD0iI0ZGRiIgZD0iTTYuNSA5LjQzOWwtMy42NzQgMi4yMy45NC00LjI2LTMuMjEtMi44ODMgNC4yNTQtLjQwNEw2LjUuMTEybDEuNjkgNC4wMSA0LjI1NC40MDQtMy4yMSAyLjg4Mi45NCA0LjI2eiIvPjwvc3ZnPg==\"/></div></span><span class=\"Wphh3N\"><span><span>2,526 Ratings </span><span class=\"hG7V+4\">&amp;</span><span> 207 Reviews</span></span></span></div><div class=\"_6NESgJ\"><ul class=\"G4BRas\"><li class=\"J+igdf\">8 GB RAM | 256 GB ROM</li><li class=\"J+igdf\">15.75 cm (6.2 inch) Full HD+ Display</li><li class=\"J+igdf\">50MP + 10MP + 12MP | 12MP Front Camera</li><li class=\"J+igdf\">4000 mAh Battery</li><li class=\"J+igdf\">Exynos 2400 Processor</li><li class=\"J+igdf\">1 Year Manufacturer Warranty for Device and 6 Months for In-Box Accessories</li></ul></div></div><div class=\"col col-5-12 BfVC2z\"><div class=\"cN1yYO\"><div class=\"hl05eU\"><div class=\"Nx9bqj _4b5DiR\">₹50,999</div><div class=\"yRaY8j ZYYwLA\">₹<!-- -->79,999</div><div class=\"UkUFwK\"><span>36% off</span></div></div><div class=\"k6cAZE dlFt9U\"><div><div class=\"yiggsN\" style=\"color:#000000;font-size:12px;font-weight:400\">Free delivery</div></div></div></div><div class=\"_0CSTHy\"><img height=\"21\" src=\"//static-assets-web.flixcart.com/fk-p-linchpin-web/fk-cp-zion/img/fa_9e47c1.png\"/></div><div class=\"M4DNwV\"><div class=\"n5vj9c\" style=\"padding-top:4px;padding-right:4px;padding-bottom:4px;padding-left:4px;border-radius:2px;background-color:#E7F8EC\"><div class=\"yiggsN O5Fpg8\" style=\"color:#26A541;font-size:12px;font-weight:700\">Lowest price in the year</div></div></div><div class=\"M4DNwV\"><div class=\"n5vj9c\"><div class=\"yiggsN O5Fpg8\" style=\"color:#000000;font-size:14px;font-style:normal;font-weight:400\">Upto </div><div class=\"yiggsN O5Fpg8\" style=\"color:#000000;font-size:14px;font-style:normal;font-weight:700\">₹26,200</div><div class=\"yiggsN O5Fpg8\" style=\"color:#000000;font-size:14px;font-style:normal;font-weight:400\"> Off on Exchange</div></div></div></div></div></a></div></div></div></div><div class=\"cPHDOP col-12-12\"><div class=\"_75nlfW\"><div data-id=\"MOBG6VF5Q82T3XRS\" style=\"width:100%\"><div class=\"tUxRFH\"><a class=\"CGtC98\" href=\"/apple-iphone-13-midnight-128-gb/p/itmca361aab1c5b0?pid=MOBG6VF5Q82T3XRS&amp;lid=LSTMOBG6VF5Q82T3XRSOXJLM9&amp;marketplace=FLIPKART&amp;q=mobiles+under+50000+rupees&amp;store=tyy%2F4io&amp;spotlightTagId=default_BestsellerId_tyy%2F4io&amp;srno=s_1_10&amp;otracker=AS_QueryStore_OrganicAutoSuggest_1_19_na_na_na&amp;otracker1=AS_QueryStore_OrganicAutoSuggest_1_19_na_na_na&amp;fm=organic&amp;iid=1cdc04d5-43cc-459e-8030-113b23244ba6.MOBG6VF5Q82T3XRS.SEARCH&amp;ppt=None&amp;ppn=None&amp;ssid=crn5k1mhhc0000001746798265650&amp;qH=91434633a446479e\" rel=\"noopener noreferrer\" target=\"_blank\"><div></div><div class=\"Otbq5D\"><div class=\"yPq5Io\"><div><div class=\"_4WELSP\" style=\"height:200px;width:200px\"><img alt=\"Apple iPhone 13 (Midnight, 128 GB)\" class=\"DByuf4\" loading=\"eager\" src=\"https://rukminim2.flixcart.com/image/312/312/ktketu80/mobile/s/l/c/iphone-13-mlpf3hn-a-apple-original-imag6vzz5qvejz8z.jpeg?q=70\"/></div></div></div><div class=\"qaR90o\"><div class=\"A8uQAd\"><span class=\"Lni97G\"><label class=\"tJjCVx\"><input class=\"vn9L2C\" readonly=\"\" type=\"checkbox\"/><div class=\"XqNaEv\"></div></label></span><label class=\"uu79Xy\"><span>Add to Compare</span></label></div></div><div class=\"oUss6M ssUU08\"><div class=\"+7E521\"><svg class=\"N1bADF\" height=\"16\" viewbox=\"0 0 20 16\" width=\"16\" xmlns=\"http://www.w3.org/2000/svg\"><path class=\"x1UMqG\" d=\"M8.695 16.682C4.06 12.382 1 9.536 1 6.065 1 3.219 3.178 1 5.95 1c1.566 0 3.069.746 4.05 1.915C10.981 1.745 12.484 1 14.05 1 16.822 1 19 3.22 19 6.065c0 3.471-3.06 6.316-7.695 10.617L10 17.897l-1.305-1.215z\" fill=\"#2874F0\" fill-rule=\"evenodd\" opacity=\".9\" stroke=\"#FFF\"></path></svg></div></div></div><div class=\"yKfJKb row\"><div class=\"col col-7-12\"><div class=\"KzDlHZ\">Apple iPhone 13 (Midnight, 128 GB)</div><div class=\"_5OesEi\"><span class=\"Y1HWO0\" id=\"productRating_LSTMOBG6VF5Q82T3XRSOXJLM9_MOBG6VF5Q82T3XRS_\"><div class=\"XQDdHH\">4.6<img class=\"Rza2QY\" src=\"data:image/svg+xml;base64,PHN2ZyB4bWxucz0iaHR0cDovL3d3dy53My5vcmcvMjAwMC9zdmciIHdpZHRoPSIxMyIgaGVpZ2h0PSIxMiI+PHBhdGggZmlsbD0iI0ZGRiIgZD0iTTYuNSA5LjQzOWwtMy42NzQgMi4yMy45NC00LjI2LTMuMjEtMi44ODMgNC4yNTQtLjQwNEw2LjUuMTEybDEuNjkgNC4wMSA0LjI1NC40MDQtMy4yMSAyLjg4Mi45NCA0LjI2eiIvPjwvc3ZnPg==\"/></div></span><span class=\"Wphh3N\"><span><span>2,90,118 Ratings </span><span class=\"hG7V+4\">&amp;</span><span> 13,869 Reviews</span></span></span></div><div class=\"_6NESgJ\"><ul class=\"G4BRas\"><li class=\"J+igdf\">128 GB ROM</li><li class=\"J+igdf\">15.49 cm (6.1 inch) Super Retina XDR Display</li><li class=\"J+igdf\">12MP + 12MP | 12MP Front Camera</li><li class=\"J+igdf\">A15 Bionic Chip Processor</li><li class=\"J+igdf\">1 year warranty for phone and 1 year warranty for in Box Accessories.</li></ul></div></div><div class=\"col col-5-12 BfVC2z\"><div class=\"cN1yYO\"><div class=\"hl05eU\"><div class=\"Nx9bqj _4b5DiR\">₹44,999</div><div class=\"yRaY8j ZYYwLA\">₹<!-- -->49,900</div><div class=\"UkUFwK\"><span>9% off</span></div></div><div class=\"k6cAZE dlFt9U\"><div><div class=\"yiggsN\" style=\"color:#000000;font-size:12px;font-weight:400\">Free delivery</div></div></div></div><div class=\"_0CSTHy\"><img height=\"21\" src=\"//static-assets-web.flixcart.com/fk-p-linchpin-web/fk-cp-zion/img/fa_9e47c1.png\"/></div><div class=\"M4DNwV\"><div class=\"n5vj9c\" style=\"padding-top:4px;padding-right:4px;padding-bottom:4px;padding-left:4px;border-radius:2px;background-color:#E7F8EC\"><div class=\"yiggsN O5Fpg8\" style=\"color:#26A541;font-size:12px;font-weight:700\">Hot Deal</div></div></div><div class=\"M4DNwV\"><div class=\"n5vj9c\"><div class=\"yiggsN O5Fpg8\" style=\"color:#000000;font-size:14px;font-style:normal;font-weight:400\">Upto </div><div class=\"yiggsN O5Fpg8\" style=\"color:#000000;font-size:14px;font-style:normal;font-weight:700\">₹27,500</div><div class=\"yiggsN O5Fpg8\" style=\"color:#000000;font-size:14px;font-style:normal;font-weight:400\"> Off on Exchange</div></div></div></div></div></a></div></div></div></div><div class=\"cPHDOP col-12-12\"><div class=\"_75nlfW\"><div data-id=\"MOBH9YMEQUGCHPHN\" style=\"width:100%\"><div class=\"tUxRFH\"><a class=\"CGtC98\" href=\"/google-pixel-9a-obsidian-256-gb/p/itmf9d1fcfa566cf?pid=MOBH9YMEQUGCHPHN&amp;lid=LSTMOBH9YMEQUGCHPHNSFHZNA&amp;marketplace=FLIPKART&amp;q=mobiles+under+50000+rupees&amp;store=tyy%2F4io&amp;srno=s_1_11&amp;otracker=AS_QueryStore_OrganicAutoSuggest_1_19_na_na_na&amp;otracker1=AS_QueryStore_OrganicAutoSuggest_1_19_na_na_na&amp;fm=organic&amp;iid=1cdc04d5-43cc-459e-8030-113b23244ba6.MOBH9YMEQUGCHPHN.SEARCH&amp;ppt=None&amp;ppn=None&amp;ssid=crn5k1mhhc0000001746798265650&amp;qH=91434633a446479e\" rel=\"noopener noreferrer\" target=\"_blank\"><div class=\"Otbq5D\"><div class=\"yPq5Io\"><div><div class=\"_4WELSP\" style=\"height:200px;width:200px\"><img alt=\"Google Pixel 9A (Obsidian, 256 GB)\" class=\"DByuf4\" loading=\"eager\" src=\"https://rukminim2.flixcart.com/image/312/312/xif0q/mobile/x/b/u/-original-imahadxg2fazkzub.jpeg?q=70\"/></div></div></div><div class=\"qaR90o\"><div class=\"A8uQAd\"><span class=\"Lni97G\"><label class=\"tJjCVx\"><input class=\"vn9L2C\" readonly=\"\" type=\"checkbox\"/><div class=\"XqNaEv\"></div></label></span><label class=\"uu79Xy\"><span>Add to Compare</span></label></div></div><div class=\"oUss6M ssUU08\"><div class=\"+7E521\"><svg class=\"N1bADF\" height=\"16\" viewbox=\"0 0 20 16\" width=\"16\" xmlns=\"http://www.w3.org/2000/svg\"><path class=\"x1UMqG\" d=\"M8.695 16.682C4.06 12.382 1 9.536 1 6.065 1 3.219 3.178 1 5.95 1c1.566 0 3.069.746 4.05 1.915C10.981 1.745 12.484 1 14.05 1 16.822 1 19 3.22 19 6.065c0 3.471-3.06 6.316-7.695 10.617L10 17.897l-1.305-1.215z\" fill=\"#2874F0\" fill-rule=\"evenodd\" opacity=\".9\" stroke=\"#FFF\"></path></svg></div></div></div><div class=\"yKfJKb row\"><div class=\"col col-7-12\"><div class=\"KzDlHZ\">Google Pixel 9A (Obsidian, 256 GB)</div><div class=\"_5OesEi\"><span class=\"Y1HWO0\" id=\"productRating_LSTMOBH9YMEQUGCHPHNSFHZNA_MOBH9YMEQUGCHPHN_\"><div class=\"XQDdHH\">4.6<img class=\"Rza2QY\" src=\"data:image/svg+xml;base64,PHN2ZyB4bWxucz0iaHR0cDovL3d3dy53My5vcmcvMjAwMC9zdmciIHdpZHRoPSIxMyIgaGVpZ2h0PSIxMiI+PHBhdGggZmlsbD0iI0ZGRiIgZD0iTTYuNSA5LjQzOWwtMy42NzQgMi4yMy45NC00LjI2LTMuMjEtMi44ODMgNC4yNTQtLjQwNEw2LjUuMTEybDEuNjkgNC4wMSA0LjI1NC40MDQtMy4yMSAyLjg4Mi45NCA0LjI2eiIvPjwvc3ZnPg==\"/></div></span><span class=\"Wphh3N\"><span><span>486 Ratings </span><span class=\"hG7V+4\">&amp;</span><span> 81 Reviews</span></span></span></div><div class=\"_6NESgJ\"><ul class=\"G4BRas\"><li class=\"J+igdf\">8 GB RAM | 256 GB ROM</li><li class=\"J+igdf\">15.96 cm (6.285 inch) Full HD+ Display</li><li class=\"J+igdf\">48MP + 12MP | 12MP Front Camera</li><li class=\"J+igdf\">5100 mAh Battery</li><li class=\"J+igdf\">Tensor G4 Processor</li><li class=\"J+igdf\">1 Year Domestic Warranty</li></ul></div></div><div class=\"col col-5-12 BfVC2z\"><div class=\"cN1yYO\"><div class=\"hl05eU\"><div class=\"Nx9bqj _4b5DiR\">₹49,999</div></div><div class=\"k6cAZE dlFt9U\"><div><div class=\"yiggsN\" style=\"color:#000000;font-size:12px;font-weight:400\">Free delivery</div></div></div></div><div class=\"M4DNwV\"><div class=\"n5vj9c\"><div class=\"yiggsN O5Fpg8\" style=\"color:#000000;font-size:14px;font-style:normal;font-weight:400\">Upto </div><div class=\"yiggsN O5Fpg8\" style=\"color:#000000;font-size:14px;font-style:normal;font-weight:700\">₹26,200</div><div class=\"yiggsN O5Fpg8\" style=\"color:#000000;font-size:14px;font-style:normal;font-weight:400\"> Off on Exchange</div></div></div><div class=\"M4DNwV\"><div class=\"n5vj9c\"><div class=\"yiggsN O5Fpg8\" style=\"color:#26A541;font-size:14px;font-weight:700\">Bank Offer</div></div></div></div></div></a></div></div></div></div><div class=\"cPHDOP col-12-12\"><div class=\"_75nlfW\"><div data-id=\"MOBG6VF5ADKHKXFX\" style=\"width:100%\"><div class=\"tUxRFH\"><a class=\"CGtC98\" href=\"/apple-iphone-13-starlight-128-gb/p/itmc9604f122ae7f?pid=MOBG6VF5ADKHKXFX&amp;lid=LSTMOBG6VF5ADKHKXFX4LCPEV&amp;marketplace=FLIPKART&amp;q=mobiles+under+50000+rupees&amp;store=tyy%2F4io&amp;srno=s_1_12&amp;otracker=AS_QueryStore_OrganicAutoSuggest_1_19_na_na_na&amp;otracker1=AS_QueryStore_OrganicAutoSuggest_1_19_na_na_na&amp;fm=organic&amp;iid=1cdc04d5-43cc-459e-8030-113b23244ba6.MOBG6VF5ADKHKXFX.SEARCH&amp;ppt=None&amp;ppn=None&amp;ssid=crn5k1mhhc0000001746798265650&amp;qH=91434633a446479e\" rel=\"noopener noreferrer\" target=\"_blank\"><div class=\"Otbq5D\"><div class=\"yPq5Io\"><div><div class=\"_4WELSP\" style=\"height:200px;width:200px\"><img alt=\"Apple iPhone 13 (Starlight, 128 GB)\" class=\"DByuf4\" loading=\"eager\" src=\"https://rukminim2.flixcart.com/image/312/312/ktketu80/mobile/6/n/d/iphone-13-mlpg3hn-a-apple-original-imag6vpyghayhhrh.jpeg?q=70\"/></div></div></div><div class=\"qaR90o\"><div class=\"A8uQAd\"><span class=\"Lni97G\"><label class=\"tJjCVx\"><input class=\"vn9L2C\" readonly=\"\" type=\"checkbox\"/><div class=\"XqNaEv\"></div></label></span><label class=\"uu79Xy\"><span>Add to Compare</span></label></div></div><div class=\"oUss6M ssUU08\"><div class=\"+7E521\"><svg class=\"N1bADF\" height=\"16\" viewbox=\"0 0 20 16\" width=\"16\" xmlns=\"http://www.w3.org/2000/svg\"><path class=\"x1UMqG\" d=\"M8.695 16.682C4.06 12.382 1 9.536 1 6.065 1 3.219 3.178 1 5.95 1c1.566 0 3.069.746 4.05 1.915C10.981 1.745 12.484 1 14.05 1 16.822 1 19 3.22 19 6.065c0 3.471-3.06 6.316-7.695 10.617L10 17.897l-1.305-1.215z\" fill=\"#2874F0\" fill-rule=\"evenodd\" opacity=\".9\" stroke=\"#FFF\"></path></svg></div></div></div><div class=\"yKfJKb row\"><div class=\"col col-7-12\"><div class=\"KzDlHZ\">Apple iPhone 13 (Starlight, 128 GB)</div><div class=\"_5OesEi\"><span class=\"Y1HWO0\" id=\"productRating_LSTMOBG6VF5ADKHKXFX4LCPEV_MOBG6VF5ADKHKXFX_\"><div class=\"XQDdHH\">4.6<img class=\"Rza2QY\" src=\"data:image/svg+xml;base64,PHN2ZyB4bWxucz0iaHR0cDovL3d3dy53My5vcmcvMjAwMC9zdmciIHdpZHRoPSIxMyIgaGVpZ2h0PSIxMiI+PHBhdGggZmlsbD0iI0ZGRiIgZD0iTTYuNSA5LjQzOWwtMy42NzQgMi4yMy45NC00LjI2LTMuMjEtMi44ODMgNC4yNTQtLjQwNEw2LjUuMTEybDEuNjkgNC4wMSA0LjI1NC40MDQtMy4yMSAyLjg4Mi45NCA0LjI2eiIvPjwvc3ZnPg==\"/></div></span><span class=\"Wphh3N\"><span><span>2,90,118 Ratings </span><span class=\"hG7V+4\">&amp;</span><span> 13,869 Reviews</span></span></span></div><div class=\"_6NESgJ\"><ul class=\"G4BRas\"><li class=\"J+igdf\">128 GB ROM</li><li class=\"J+igdf\">15.49 cm (6.1 inch) Super Retina XDR Display</li><li class=\"J+igdf\">12MP + 12MP | 12MP Front Camera</li><li class=\"J+igdf\">A15 Bionic Chip Processor</li><li class=\"J+igdf\">1 year warranty for phone and 1 year warranty for in Box Accessories.</li></ul></div></div><div class=\"col col-5-12 BfVC2z\"><div class=\"cN1yYO\"><div class=\"hl05eU\"><div class=\"Nx9bqj _4b5DiR\">₹44,999</div><div class=\"yRaY8j ZYYwLA\">₹<!-- -->49,900</div><div class=\"UkUFwK\"><span>9% off</span></div></div><div class=\"k6cAZE dlFt9U\"><div><div class=\"yiggsN\" style=\"color:#000000;font-size:12px;font-weight:400\">Free delivery</div></div></div></div><div class=\"_0CSTHy\"><img height=\"21\" src=\"//static-assets-web.flixcart.com/fk-p-linchpin-web/fk-cp-zion/img/fa_9e47c1.png\"/></div><div class=\"M4DNwV\"><div class=\"n5vj9c\"><div class=\"yiggsN O5Fpg8\" style=\"color:#000000;font-size:14px;font-style:normal;font-weight:400\">Upto </div><div class=\"yiggsN O5Fpg8\" style=\"color:#000000;font-size:14px;font-style:normal;font-weight:700\">₹27,500</div><div class=\"yiggsN O5Fpg8\" style=\"color:#000000;font-size:14px;font-style:normal;font-weight:400\"> Off on Exchange</div></div></div><div class=\"M4DNwV\"><div class=\"n5vj9c\"><div class=\"yiggsN O5Fpg8\" style=\"color:#26A541;font-size:14px;font-weight:700\">Bank Offer</div></div></div></div></div></a></div></div></div></div><div class=\"cPHDOP col-12-12\"><div class=\"_75nlfW\"><div data-id=\"MOBGYQ2MNHZWXRNY\" style=\"width:100%\"><div class=\"tUxRFH\"><a class=\"CGtC98\" href=\"/google-pixel-8a-obsidian-128-gb/p/itm5c791e407a330?pid=MOBGYQ2MNHZWXRNY&amp;lid=LSTMOBGYQ2MNHZWXRNYGSN6LA&amp;marketplace=FLIPKART&amp;q=mobiles+under+50000+rupees&amp;store=tyy%2F4io&amp;srno=s_1_13&amp;otracker=AS_QueryStore_OrganicAutoSuggest_1_19_na_na_na&amp;otracker1=AS_QueryStore_OrganicAutoSuggest_1_19_na_na_na&amp;fm=organic&amp;iid=1cdc04d5-43cc-459e-8030-113b23244ba6.MOBGYQ2MNHZWXRNY.SEARCH&amp;ppt=None&amp;ppn=None&amp;ssid=crn5k1mhhc0000001746798265650&amp;qH=91434633a446479e\" rel=\"noopener noreferrer\" target=\"_blank\"><div class=\"Otbq5D\"><div class=\"yPq5Io\"><div><div class=\"_4WELSP\" style=\"height:200px;width:200px\"><img alt=\"Google Pixel 8a (Obsidian, 128 GB)\" class=\"DByuf4\" loading=\"eager\" src=\"https://rukminim2.flixcart.com/image/312/312/xif0q/mobile/e/y/n/pixel-8a-ga04432-in-google-original-imahyn3mqzdbzywg.jpeg?q=70\"/></div></div></div><div class=\"qaR90o\"><div class=\"A8uQAd\"><span class=\"Lni97G\"><label class=\"tJjCVx\"><input class=\"vn9L2C\" readonly=\"\" type=\"checkbox\"/><div class=\"XqNaEv\"></div></label></span><label class=\"uu79Xy\"><span>Add to Compare</span></label></div></div><div class=\"oUss6M ssUU08\"><div class=\"+7E521\"><svg class=\"N1bADF\" height=\"16\" viewbox=\"0 0 20 16\" width=\"16\" xmlns=\"http://www.w3.org/2000/svg\"><path class=\"x1UMqG\" d=\"M8.695 16.682C4.06 12.382 1 9.536 1 6.065 1 3.219 3.178 1 5.95 1c1.566 0 3.069.746 4.05 1.915C10.981 1.745 12.484 1 14.05 1 16.822 1 19 3.22 19 6.065c0 3.471-3.06 6.316-7.695 10.617L10 17.897l-1.305-1.215z\" fill=\"#2874F0\" fill-rule=\"evenodd\" opacity=\".9\" stroke=\"#FFF\"></path></svg></div></div></div><div class=\"yKfJKb row\"><div class=\"col col-7-12\"><div class=\"KzDlHZ\">Google Pixel 8a (Obsidian, 128 GB)</div><div class=\"_5OesEi\"><span class=\"Y1HWO0\" id=\"productRating_LSTMOBGYQ2MNHZWXRNYGSN6LA_MOBGYQ2MNHZWXRNY_\"><div class=\"XQDdHH\">4.3<img class=\"Rza2QY\" src=\"data:image/svg+xml;base64,PHN2ZyB4bWxucz0iaHR0cDovL3d3dy53My5vcmcvMjAwMC9zdmciIHdpZHRoPSIxMyIgaGVpZ2h0PSIxMiI+PHBhdGggZmlsbD0iI0ZGRiIgZD0iTTYuNSA5LjQzOWwtMy42NzQgMi4yMy45NC00LjI2LTMuMjEtMi44ODMgNC4yNTQtLjQwNEw2LjUuMTEybDEuNjkgNC4wMSA0LjI1NC40MDQtMy4yMSAyLjg4Mi45NCA0LjI2eiIvPjwvc3ZnPg==\"/></div></span><span class=\"Wphh3N\"><span><span>4,950 Ratings </span><span class=\"hG7V+4\">&amp;</span><span> 423 Reviews</span></span></span></div><div class=\"_6NESgJ\"><ul class=\"G4BRas\"><li class=\"J+igdf\">8 GB RAM | 128 GB ROM</li><li class=\"J+igdf\">15.49 cm (6.1 inch) Full HD+ Display</li><li class=\"J+igdf\">64MP + 13MP | 13MP Front Camera</li><li class=\"J+igdf\">4404 mAh Battery</li><li class=\"J+igdf\">Tensor G3 Processor</li><li class=\"J+igdf\">1 Year Domestic Warranty</li></ul></div></div><div class=\"col col-5-12 BfVC2z\"><div class=\"cN1yYO\"><div class=\"hl05eU\"><div class=\"Nx9bqj _4b5DiR\">₹37,999</div><div class=\"yRaY8j ZYYwLA\">₹<!-- -->52,999</div><div class=\"UkUFwK\"><span>28% off</span></div></div><div class=\"k6cAZE dlFt9U\"><div><div class=\"yiggsN\" style=\"color:#000000;font-size:12px;font-weight:400\">Free delivery</div></div></div></div><div class=\"_0CSTHy\"><img height=\"21\" src=\"//static-assets-web.flixcart.com/fk-p-linchpin-web/fk-cp-zion/img/fa_9e47c1.png\"/></div><div class=\"M4DNwV\"><div class=\"n5vj9c\"><div class=\"yiggsN O5Fpg8\" style=\"color:#000000;font-size:14px;font-style:normal;font-weight:400\">Upto </div><div class=\"yiggsN O5Fpg8\" style=\"color:#000000;font-size:14px;font-style:normal;font-weight:700\">₹23,600</div><div class=\"yiggsN O5Fpg8\" style=\"color:#000000;font-size:14px;font-style:normal;font-weight:400\"> Off on Exchange</div></div></div><div class=\"M4DNwV\"><div class=\"n5vj9c\"><div class=\"yiggsN O5Fpg8\" style=\"color:#26A541;font-size:14px;font-weight:700\">Bank Offer</div></div></div></div></div></a></div></div></div></div><div class=\"cPHDOP col-12-12\"><div class=\"_75nlfW\"><div data-id=\"MOBGYQ2MYWFSA3XU\" style=\"width:100%\"><div class=\"tUxRFH\"><a class=\"CGtC98\" href=\"/google-pixel-8a-porcelain-128-gb/p/itm619c078bd72f7?pid=MOBGYQ2MYWFSA3XU&amp;lid=LSTMOBGYQ2MYWFSA3XUKOBOBJ&amp;marketplace=FLIPKART&amp;q=mobiles+under+50000+rupees&amp;store=tyy%2F4io&amp;srno=s_1_14&amp;otracker=AS_QueryStore_OrganicAutoSuggest_1_19_na_na_na&amp;otracker1=AS_QueryStore_OrganicAutoSuggest_1_19_na_na_na&amp;fm=organic&amp;iid=1cdc04d5-43cc-459e-8030-113b23244ba6.MOBGYQ2MYWFSA3XU.SEARCH&amp;ppt=None&amp;ppn=None&amp;ssid=crn5k1mhhc0000001746798265650&amp;qH=91434633a446479e\" rel=\"noopener noreferrer\" target=\"_blank\"><div class=\"Otbq5D\"><div class=\"yPq5Io\"><div><div class=\"_4WELSP\" style=\"height:200px;width:200px\"><img alt=\"Google Pixel 8a (Porcelain, 128 GB)\" class=\"DByuf4\" loading=\"eager\" src=\"https://rukminim2.flixcart.com/image/312/312/xif0q/mobile/s/8/d/pixel-8a-ga04988-in-google-original-imahyn3mskjbwphw.jpeg?q=70\"/></div></div></div><div class=\"qaR90o\"><div class=\"A8uQAd\"><span class=\"Lni97G\"><label class=\"tJjCVx\"><input class=\"vn9L2C\" readonly=\"\" type=\"checkbox\"/><div class=\"XqNaEv\"></div></label></span><label class=\"uu79Xy\"><span>Add to Compare</span></label></div></div><div class=\"oUss6M ssUU08\"><div class=\"+7E521\"><svg class=\"N1bADF\" height=\"16\" viewbox=\"0 0 20 16\" width=\"16\" xmlns=\"http://www.w3.org/2000/svg\"><path class=\"x1UMqG\" d=\"M8.695 16.682C4.06 12.382 1 9.536 1 6.065 1 3.219 3.178 1 5.95 1c1.566 0 3.069.746 4.05 1.915C10.981 1.745 12.484 1 14.05 1 16.822 1 19 3.22 19 6.065c0 3.471-3.06 6.316-7.695 10.617L10 17.897l-1.305-1.215z\" fill=\"#2874F0\" fill-rule=\"evenodd\" opacity=\".9\" stroke=\"#FFF\"></path></svg></div></div></div><div class=\"yKfJKb row\"><div class=\"col col-7-12\"><div class=\"KzDlHZ\">Google Pixel 8a (Porcelain, 128 GB)</div><div class=\"_5OesEi\"><span class=\"Y1HWO0\" id=\"productRating_LSTMOBGYQ2MYWFSA3XUKOBOBJ_MOBGYQ2MYWFSA3XU_\"><div class=\"XQDdHH\">4.3<img class=\"Rza2QY\" src=\"data:image/svg+xml;base64,PHN2ZyB4bWxucz0iaHR0cDovL3d3dy53My5vcmcvMjAwMC9zdmciIHdpZHRoPSIxMyIgaGVpZ2h0PSIxMiI+PHBhdGggZmlsbD0iI0ZGRiIgZD0iTTYuNSA5LjQzOWwtMy42NzQgMi4yMy45NC00LjI2LTMuMjEtMi44ODMgNC4yNTQtLjQwNEw2LjUuMTEybDEuNjkgNC4wMSA0LjI1NC40MDQtMy4yMSAyLjg4Mi45NCA0LjI2eiIvPjwvc3ZnPg==\"/></div></span><span class=\"Wphh3N\"><span><span>4,950 Ratings </span><span class=\"hG7V+4\">&amp;</span><span> 423 Reviews</span></span></span></div><div class=\"_6NESgJ\"><ul class=\"G4BRas\"><li class=\"J+igdf\">8 GB RAM | 128 GB ROM</li><li class=\"J+igdf\">15.49 cm (6.1 inch) Full HD+ Display</li><li class=\"J+igdf\">64MP + 13MP | 13MP Front Camera</li><li class=\"J+igdf\">4404 mAh Battery</li><li class=\"J+igdf\">Tensor G3 Processor</li><li class=\"J+igdf\">1 Year Domestic Warranty</li></ul></div></div><div class=\"col col-5-12 BfVC2z\"><div class=\"cN1yYO\"><div class=\"hl05eU\"><div class=\"Nx9bqj _4b5DiR\">₹37,999</div><div class=\"yRaY8j ZYYwLA\">₹<!-- -->52,999</div><div class=\"UkUFwK\"><span>28% off</span></div></div><div class=\"k6cAZE dlFt9U\"><div><div class=\"yiggsN\" style=\"color:#000000;font-size:12px;font-weight:400\">Free delivery</div></div></div></div><div class=\"_0CSTHy\"><img height=\"21\" src=\"//static-assets-web.flixcart.com/fk-p-linchpin-web/fk-cp-zion/img/fa_9e47c1.png\"/></div><div class=\"M4DNwV\"><div class=\"n5vj9c\"><div class=\"yiggsN O5Fpg8\" style=\"color:#000000;font-size:14px;font-style:normal;font-weight:400\">Upto </div><div class=\"yiggsN O5Fpg8\" style=\"color:#000000;font-size:14px;font-style:normal;font-weight:700\">₹23,600</div><div class=\"yiggsN O5Fpg8\" style=\"color:#000000;font-size:14px;font-style:normal;font-weight:400\"> Off on Exchange</div></div></div><div class=\"M4DNwV\"><div class=\"n5vj9c\"><div class=\"yiggsN O5Fpg8\" style=\"color:#26A541;font-size:14px;font-weight:700\">Bank Offer</div></div></div></div></div></a></div></div></div></div><div class=\"cPHDOP col-12-12\"><div class=\"_75nlfW\"><div data-id=\"MOBH8EWQ6GUDHGFK\" style=\"width:100%\"><div class=\"tUxRFH\"><a class=\"CGtC98\" href=\"/oneplus-13r-5g-nebula-noir-256-gb/p/itmff6561809fab8?pid=MOBH8EWQ6GUDHGFK&amp;lid=LSTMOBH8EWQ6GUDHGFK67HO4I&amp;marketplace=FLIPKART&amp;q=mobiles+under+50000+rupees&amp;store=tyy%2F4io&amp;srno=s_1_15&amp;otracker=AS_QueryStore_OrganicAutoSuggest_1_19_na_na_na&amp;otracker1=AS_QueryStore_OrganicAutoSuggest_1_19_na_na_na&amp;fm=organic&amp;iid=1cdc04d5-43cc-459e-8030-113b23244ba6.MOBH8EWQ6GUDHGFK.SEARCH&amp;ppt=None&amp;ppn=None&amp;ssid=crn5k1mhhc0000001746798265650&amp;qH=91434633a446479e\" rel=\"noopener noreferrer\" target=\"_blank\"><div class=\"Otbq5D\"><div class=\"yPq5Io\"><div><div class=\"_4WELSP\" style=\"height:200px;width:200px\"><img alt=\"OnePlus 13R 5G (Nebula Noir, 256 GB)\" class=\"DByuf4\" loading=\"eager\" src=\"https://rukminim2.flixcart.com/image/312/312/xif0q/mobile/z/1/5/-original-imah8vc2a8dg7xea.jpeg?q=70\"/></div></div></div><div class=\"qaR90o\"><div class=\"A8uQAd\"><span class=\"Lni97G\"><label class=\"tJjCVx\"><input class=\"vn9L2C\" readonly=\"\" type=\"checkbox\"/><div class=\"XqNaEv\"></div></label></span><label class=\"uu79Xy\"><span>Add to Compare</span></label></div></div><div class=\"oUss6M ssUU08\"><div class=\"+7E521\"><svg class=\"N1bADF\" height=\"16\" viewbox=\"0 0 20 16\" width=\"16\" xmlns=\"http://www.w3.org/2000/svg\"><path class=\"x1UMqG\" d=\"M8.695 16.682C4.06 12.382 1 9.536 1 6.065 1 3.219 3.178 1 5.95 1c1.566 0 3.069.746 4.05 1.915C10.981 1.745 12.484 1 14.05 1 16.822 1 19 3.22 19 6.065c0 3.471-3.06 6.316-7.695 10.617L10 17.897l-1.305-1.215z\" fill=\"#2874F0\" fill-rule=\"evenodd\" opacity=\".9\" stroke=\"#FFF\"></path></svg></div></div></div><div class=\"yKfJKb row\"><div class=\"col col-7-12\"><div class=\"KzDlHZ\">OnePlus 13R 5G (Nebula Noir, 256 GB)</div><div class=\"_5OesEi\"><span class=\"Y1HWO0\" id=\"productRating_LSTMOBH8EWQ6GUDHGFK67HO4I_MOBH8EWQ6GUDHGFK_\"><div class=\"XQDdHH\">4.5<img class=\"Rza2QY\" src=\"data:image/svg+xml;base64,PHN2ZyB4bWxucz0iaHR0cDovL3d3dy53My5vcmcvMjAwMC9zdmciIHdpZHRoPSIxMyIgaGVpZ2h0PSIxMiI+PHBhdGggZmlsbD0iI0ZGRiIgZD0iTTYuNSA5LjQzOWwtMy42NzQgMi4yMy45NC00LjI2LTMuMjEtMi44ODMgNC4yNTQtLjQwNEw2LjUuMTEybDEuNjkgNC4wMSA0LjI1NC40MDQtMy4yMSAyLjg4Mi45NCA0LjI2eiIvPjwvc3ZnPg==\"/></div></span><span class=\"Wphh3N\"><span><span>1,134 Ratings </span><span class=\"hG7V+4\">&amp;</span><span> 108 Reviews</span></span></span></div><div class=\"_6NESgJ\"><ul class=\"G4BRas\"><li class=\"J+igdf\">12 GB RAM | 256 GB ROM</li><li class=\"J+igdf\">17.22 cm (6.78 inch) Display</li><li class=\"J+igdf\">50MP Rear Camera</li><li class=\"J+igdf\">6000 mAh Battery</li><li class=\"J+igdf\">1 year manufacturer warranty for device and 1 year manufacturer warranty for in-box accessories including batteries from the date of purchase</li></ul></div></div><div class=\"col col-5-12 BfVC2z\"><div class=\"cN1yYO\"><div class=\"hl05eU\"><div class=\"Nx9bqj _4b5DiR\">₹39,881</div><div class=\"yRaY8j ZYYwLA\">₹<!-- -->44,999</div><div class=\"UkUFwK\"><span>11% off</span></div></div><div class=\"k6cAZE dlFt9U\"><div><div class=\"yiggsN\" style=\"color:#000000;font-size:12px;font-weight:400\">Free delivery</div></div></div></div><div class=\"_0CSTHy\"><img height=\"21\" src=\"//static-assets-web.flixcart.com/fk-p-linchpin-web/fk-cp-zion/img/fa_9e47c1.png\"/></div><div class=\"M4DNwV\"><div class=\"n5vj9c\"><div class=\"yiggsN O5Fpg8\" style=\"color:#C70055;font-size:12px;font-weight:700\">Only 1 left</div></div></div><div class=\"M4DNwV\"><div class=\"n5vj9c\"><div class=\"yiggsN O5Fpg8\" style=\"color:#26A541;font-size:14px;font-weight:700\">Bank Offer</div></div></div></div></div></a></div></div></div></div><div class=\"cPHDOP col-12-12\"><div class=\"_75nlfW\"><div data-id=\"MOBH8EVKZHTE7A32\" style=\"width:100%\"><div class=\"tUxRFH\"><a class=\"CGtC98\" href=\"/oneplus-13r-5g-astral-trail-256-gb/p/itmff6561809fab8?pid=MOBH8EVKZHTE7A32&amp;lid=LSTMOBH8EVKZHTE7A32CJDHBZ&amp;marketplace=FLIPKART&amp;q=mobiles+under+50000+rupees&amp;store=tyy%2F4io&amp;srno=s_1_16&amp;otracker=AS_QueryStore_OrganicAutoSuggest_1_19_na_na_na&amp;otracker1=AS_QueryStore_OrganicAutoSuggest_1_19_na_na_na&amp;fm=organic&amp;iid=1cdc04d5-43cc-459e-8030-113b23244ba6.MOBH8EVKZHTE7A32.SEARCH&amp;ppt=None&amp;ppn=None&amp;ssid=crn5k1mhhc0000001746798265650&amp;qH=91434633a446479e\" rel=\"noopener noreferrer\" target=\"_blank\"><div class=\"Otbq5D\"><div class=\"yPq5Io\"><div><div class=\"_4WELSP\" style=\"height:200px;width:200px\"><img alt=\"OnePlus 13R 5g (Astral Trail, 256 GB)\" class=\"DByuf4\" loading=\"eager\" src=\"https://rukminim2.flixcart.com/image/312/312/xif0q/mobile/p/t/z/-original-imah8vc2pmypfpnn.jpeg?q=70\"/></div></div></div><div class=\"qaR90o\"><div class=\"A8uQAd\"><span class=\"Lni97G\"><label class=\"tJjCVx\"><input class=\"vn9L2C\" readonly=\"\" type=\"checkbox\"/><div class=\"XqNaEv\"></div></label></span><label class=\"uu79Xy\"><span>Add to Compare</span></label></div></div><div class=\"oUss6M ssUU08\"><div class=\"+7E521\"><svg class=\"N1bADF\" height=\"16\" viewbox=\"0 0 20 16\" width=\"16\" xmlns=\"http://www.w3.org/2000/svg\"><path class=\"x1UMqG\" d=\"M8.695 16.682C4.06 12.382 1 9.536 1 6.065 1 3.219 3.178 1 5.95 1c1.566 0 3.069.746 4.05 1.915C10.981 1.745 12.484 1 14.05 1 16.822 1 19 3.22 19 6.065c0 3.471-3.06 6.316-7.695 10.617L10 17.897l-1.305-1.215z\" fill=\"#2874F0\" fill-rule=\"evenodd\" opacity=\".9\" stroke=\"#FFF\"></path></svg></div></div></div><div class=\"yKfJKb row\"><div class=\"col col-7-12\"><div class=\"KzDlHZ\">OnePlus 13R 5g (Astral Trail, 256 GB)</div><div class=\"_5OesEi\"><span class=\"Y1HWO0\" id=\"productRating_LSTMOBH8EVKZHTE7A32CJDHBZ_MOBH8EVKZHTE7A32_\"><div class=\"XQDdHH\">4.5<img class=\"Rza2QY\" src=\"data:image/svg+xml;base64,PHN2ZyB4bWxucz0iaHR0cDovL3d3dy53My5vcmcvMjAwMC9zdmciIHdpZHRoPSIxMyIgaGVpZ2h0PSIxMiI+PHBhdGggZmlsbD0iI0ZGRiIgZD0iTTYuNSA5LjQzOWwtMy42NzQgMi4yMy45NC00LjI2LTMuMjEtMi44ODMgNC4yNTQtLjQwNEw2LjUuMTEybDEuNjkgNC4wMSA0LjI1NC40MDQtMy4yMSAyLjg4Mi45NCA0LjI2eiIvPjwvc3ZnPg==\"/></div></span><span class=\"Wphh3N\"><span><span>1,134 Ratings </span><span class=\"hG7V+4\">&amp;</span><span> 108 Reviews</span></span></span></div><div class=\"_6NESgJ\"><ul class=\"G4BRas\"><li class=\"J+igdf\">12 GB RAM | 256 GB ROM</li><li class=\"J+igdf\">17.22 cm (6.78 inch) Display</li><li class=\"J+igdf\">50MP Rear Camera</li><li class=\"J+igdf\">6000 mAh Battery</li><li class=\"J+igdf\">1 year manufacturer warranty for device and 1 year manufacturer warranty for in-box accessories including batteries from the date of purchase</li></ul></div></div><div class=\"col col-5-12 BfVC2z\"><div class=\"cN1yYO\"><div class=\"hl05eU\"><div class=\"Nx9bqj _4b5DiR\">₹39,513</div><div class=\"yRaY8j ZYYwLA\">₹<!-- -->44,999</div><div class=\"UkUFwK\"><span>12% off</span></div></div><div class=\"k6cAZE dlFt9U\"><div><div class=\"yiggsN\" style=\"color:#000000;font-size:12px;font-weight:400\">Free delivery</div></div></div></div><div class=\"_0CSTHy\"><img height=\"21\" src=\"//static-assets-web.flixcart.com/fk-p-linchpin-web/fk-cp-zion/img/fa_9e47c1.png\"/></div><div class=\"M4DNwV\"><div class=\"n5vj9c\"><div class=\"yiggsN O5Fpg8\" style=\"color:#C70055;font-size:12px;font-weight:700\">Only few left</div></div></div><div class=\"M4DNwV\"><div class=\"n5vj9c\"><div class=\"yiggsN O5Fpg8\" style=\"color:#26A541;font-size:14px;font-weight:700\">Bank Offer</div></div></div></div></div></a></div></div></div></div><div class=\"cPHDOP col-12-12\"><div class=\"_75nlfW\"><div data-id=\"MOBHYJ6QMSGJG28G\" style=\"width:100%\"><div class=\"tUxRFH\"><a class=\"CGtC98\" href=\"/samsung-galaxy-s24-5g-amber-yellow-128-gb/p/itmc7715e16403d1?pid=MOBHYJ6QMSGJG28G&amp;lid=LSTMOBHYJ6QMSGJG28GKEE5UE&amp;marketplace=FLIPKART&amp;q=mobiles+under+50000+rupees&amp;store=tyy%2F4io&amp;srno=s_1_17&amp;otracker=AS_QueryStore_OrganicAutoSuggest_1_19_na_na_na&amp;otracker1=AS_QueryStore_OrganicAutoSuggest_1_19_na_na_na&amp;fm=organic&amp;iid=1cdc04d5-43cc-459e-8030-113b23244ba6.MOBHYJ6QMSGJG28G.SEARCH&amp;ppt=None&amp;ppn=None&amp;ssid=crn5k1mhhc0000001746798265650&amp;qH=91434633a446479e\" rel=\"noopener noreferrer\" target=\"_blank\"><div class=\"Otbq5D\"><div class=\"yPq5Io\"><div><div class=\"_4WELSP\" style=\"height:200px;width:200px\"><img alt=\"SAMSUNG Galaxy S24 5G (Amber Yellow, 128 GB)\" class=\"DByuf4\" loading=\"eager\" src=\"https://rukminim2.flixcart.com/image/312/312/xif0q/mobile/w/g/a/-original-imahbpk4vgtrvmwj.jpeg?q=70\"/></div></div></div><div class=\"qaR90o\"><div class=\"A8uQAd\"><span class=\"Lni97G\"><label class=\"tJjCVx\"><input class=\"vn9L2C\" readonly=\"\" type=\"checkbox\"/><div class=\"XqNaEv\"></div></label></span><label class=\"uu79Xy\"><span>Add to Compare</span></label></div></div><div class=\"oUss6M ssUU08\"><div class=\"+7E521\"><svg class=\"N1bADF\" height=\"16\" viewbox=\"0 0 20 16\" width=\"16\" xmlns=\"http://www.w3.org/2000/svg\"><path class=\"x1UMqG\" d=\"M8.695 16.682C4.06 12.382 1 9.536 1 6.065 1 3.219 3.178 1 5.95 1c1.566 0 3.069.746 4.05 1.915C10.981 1.745 12.484 1 14.05 1 16.822 1 19 3.22 19 6.065c0 3.471-3.06 6.316-7.695 10.617L10 17.897l-1.305-1.215z\" fill=\"#2874F0\" fill-rule=\"evenodd\" opacity=\".9\" stroke=\"#FFF\"></path></svg></div></div></div><div class=\"yKfJKb row\"><div class=\"col col-7-12\"><div class=\"KzDlHZ\">SAMSUNG Galaxy S24 5G (Amber Yellow, 128 GB)</div><div class=\"_5OesEi\"><span class=\"Y1HWO0\" id=\"productRating_LSTMOBHYJ6QMSGJG28GKEE5UE_MOBHYJ6QMSGJG28G_\"><div class=\"XQDdHH\">4.6<img class=\"Rza2QY\" src=\"data:image/svg+xml;base64,PHN2ZyB4bWxucz0iaHR0cDovL3d3dy53My5vcmcvMjAwMC9zdmciIHdpZHRoPSIxMyIgaGVpZ2h0PSIxMiI+PHBhdGggZmlsbD0iI0ZGRiIgZD0iTTYuNSA5LjQzOWwtMy42NzQgMi4yMy45NC00LjI2LTMuMjEtMi44ODMgNC4yNTQtLjQwNEw2LjUuMTEybDEuNjkgNC4wMSA0LjI1NC40MDQtMy4yMSAyLjg4Mi45NCA0LjI2eiIvPjwvc3ZnPg==\"/></div></span><span class=\"Wphh3N\"><span><span>2,526 Ratings </span><span class=\"hG7V+4\">&amp;</span><span> 207 Reviews</span></span></span></div><div class=\"_6NESgJ\"><ul class=\"G4BRas\"><li class=\"J+igdf\">8 GB RAM | 128 GB ROM</li><li class=\"J+igdf\">15.75 cm (6.2 inch) Full HD+ Display</li><li class=\"J+igdf\">50MP + 10MP + 12MP | 12MP Front Camera</li><li class=\"J+igdf\">4000 mAh Battery</li><li class=\"J+igdf\">Exynos 2400 Processor</li><li class=\"J+igdf\">1 Year Manufacturer Warranty for Device and 6 Months for In-Box Accessories</li></ul></div></div><div class=\"col col-5-12 BfVC2z\"><div class=\"cN1yYO\"><div class=\"hl05eU\"><div class=\"Nx9bqj _4b5DiR\">₹44,999</div><div class=\"yRaY8j ZYYwLA\">₹<!-- -->74,999</div><div class=\"UkUFwK\"><span>40% off</span></div></div><div class=\"k6cAZE dlFt9U\"><div><div class=\"yiggsN\" style=\"color:#000000;font-size:12px;font-weight:400\">Free delivery</div></div></div></div><div class=\"_0CSTHy\"><img height=\"21\" src=\"//static-assets-web.flixcart.com/fk-p-linchpin-web/fk-cp-zion/img/fa_9e47c1.png\"/></div><div class=\"M4DNwV\"><div class=\"n5vj9c\"><div class=\"yiggsN O5Fpg8\" style=\"color:#000000;font-size:14px;font-style:normal;font-weight:400\">Upto </div><div class=\"yiggsN O5Fpg8\" style=\"color:#000000;font-size:14px;font-style:normal;font-weight:700\">₹27,500</div><div class=\"yiggsN O5Fpg8\" style=\"color:#000000;font-size:14px;font-style:normal;font-weight:400\"> Off on Exchange</div></div></div><div class=\"M4DNwV\"><div class=\"n5vj9c\"><div class=\"yiggsN O5Fpg8\" style=\"color:#26A541;font-size:14px;font-weight:700\">Bank Offer</div></div></div></div></div></a></div></div></div></div><div class=\"cPHDOP col-12-12\"><div class=\"_75nlfW\"><div data-id=\"MOBH8HFJPKRUT2VM\" style=\"width:100%\"><div class=\"tUxRFH\"><a class=\"CGtC98\" href=\"/oneplus-13r-5g-astral-trail-512-gb/p/itmff6561809fab8?pid=MOBH8HFJPKRUT2VM&amp;lid=LSTMOBH8HFJPKRUT2VM8JOHJ6&amp;marketplace=FLIPKART&amp;q=mobiles+under+50000+rupees&amp;store=tyy%2F4io&amp;srno=s_1_18&amp;otracker=AS_QueryStore_OrganicAutoSuggest_1_19_na_na_na&amp;otracker1=AS_QueryStore_OrganicAutoSuggest_1_19_na_na_na&amp;fm=organic&amp;iid=1cdc04d5-43cc-459e-8030-113b23244ba6.MOBH8HFJPKRUT2VM.SEARCH&amp;ppt=None&amp;ppn=None&amp;ssid=crn5k1mhhc0000001746798265650&amp;qH=91434633a446479e\" rel=\"noopener noreferrer\" target=\"_blank\"><div class=\"Otbq5D\"><div class=\"yPq5Io\"><div><div class=\"_4WELSP\" style=\"height:200px;width:200px\"><img alt=\"OnePlus 13R 5G (Astral Trail, 512 GB)\" class=\"DByuf4\" loading=\"eager\" src=\"https://rukminim2.flixcart.com/image/312/312/xif0q/mobile/p/t/z/-original-imah8vc2pmypfpnn.jpeg?q=70\"/></div></div></div><div class=\"qaR90o\"><div class=\"A8uQAd\"><span class=\"Lni97G\"><label class=\"tJjCVx\"><input class=\"vn9L2C\" readonly=\"\" type=\"checkbox\"/><div class=\"XqNaEv\"></div></label></span><label class=\"uu79Xy\"><span>Add to Compare</span></label></div></div><div class=\"oUss6M ssUU08\"><div class=\"+7E521\"><svg class=\"N1bADF\" height=\"16\" viewbox=\"0 0 20 16\" width=\"16\" xmlns=\"http://www.w3.org/2000/svg\"><path class=\"x1UMqG\" d=\"M8.695 16.682C4.06 12.382 1 9.536 1 6.065 1 3.219 3.178 1 5.95 1c1.566 0 3.069.746 4.05 1.915C10.981 1.745 12.484 1 14.05 1 16.822 1 19 3.22 19 6.065c0 3.471-3.06 6.316-7.695 10.617L10 17.897l-1.305-1.215z\" fill=\"#2874F0\" fill-rule=\"evenodd\" opacity=\".9\" stroke=\"#FFF\"></path></svg></div></div></div><div class=\"yKfJKb row\"><div class=\"col col-7-12\"><div class=\"KzDlHZ\">OnePlus 13R 5G (Astral Trail, 512 GB)</div><div class=\"_5OesEi\"><span class=\"Y1HWO0\" id=\"productRating_LSTMOBH8HFJPKRUT2VM8JOHJ6_MOBH8HFJPKRUT2VM_\"><div class=\"XQDdHH\">4.5<img class=\"Rza2QY\" src=\"data:image/svg+xml;base64,PHN2ZyB4bWxucz0iaHR0cDovL3d3dy53My5vcmcvMjAwMC9zdmciIHdpZHRoPSIxMyIgaGVpZ2h0PSIxMiI+PHBhdGggZmlsbD0iI0ZGRiIgZD0iTTYuNSA5LjQzOWwtMy42NzQgMi4yMy45NC00LjI2LTMuMjEtMi44ODMgNC4yNTQtLjQwNEw2LjUuMTEybDEuNjkgNC4wMSA0LjI1NC40MDQtMy4yMSAyLjg4Mi45NCA0LjI2eiIvPjwvc3ZnPg==\"/></div></span><span class=\"Wphh3N\"><span><span>257 Ratings </span><span class=\"hG7V+4\">&amp;</span><span> 20 Reviews</span></span></span></div><div class=\"_6NESgJ\"><ul class=\"G4BRas\"><li class=\"J+igdf\">16 GB RAM | 512 GB ROM</li><li class=\"J+igdf\">17.22 cm (6.78 inch) Display</li><li class=\"J+igdf\">50MP Rear Camera</li><li class=\"J+igdf\">6000 mAh Battery</li><li class=\"J+igdf\">1 year manufacturer warranty for device and 1 year manufacturer warranty for in-box accessories including batteries from the date of purchase</li></ul></div></div><div class=\"col col-5-12 BfVC2z\"><div class=\"cN1yYO\"><div class=\"hl05eU\"><div class=\"Nx9bqj _4b5DiR\">₹43,684</div><div class=\"yRaY8j ZYYwLA\">₹<!-- -->51,999</div><div class=\"UkUFwK\"><span>15% off</span></div></div><div class=\"k6cAZE dlFt9U\"><div><div class=\"yiggsN\" style=\"color:#000000;font-size:12px;font-weight:400\">Free delivery</div></div></div></div><div class=\"_0CSTHy\"><img height=\"21\" src=\"//static-assets-web.flixcart.com/fk-p-linchpin-web/fk-cp-zion/img/fa_9e47c1.png\"/></div><div class=\"M4DNwV\"><div class=\"n5vj9c\"><div class=\"yiggsN O5Fpg8\" style=\"color:#C70055;font-size:12px;font-weight:700\">Only few left</div></div></div><div class=\"M4DNwV\"><div class=\"n5vj9c\"><div class=\"yiggsN O5Fpg8\" style=\"color:#26A541;font-size:14px;font-weight:700\">Bank Offer</div></div></div></div></div></a></div></div></div></div><div class=\"cPHDOP col-12-12\"><div class=\"_75nlfW\"><div data-id=\"MOBH9YMEHJC9NHHY\" style=\"width:100%\"><div class=\"tUxRFH\"><a class=\"CGtC98\" href=\"/google-pixel-9a-iris-256-gb/p/itmb2ce6b5391689?pid=MOBH9YMEHJC9NHHY&amp;lid=LSTMOBH9YMEHJC9NHHYJIL7SI&amp;marketplace=FLIPKART&amp;q=mobiles+under+50000+rupees&amp;store=tyy%2F4io&amp;srno=s_1_19&amp;otracker=AS_QueryStore_OrganicAutoSuggest_1_19_na_na_na&amp;otracker1=AS_QueryStore_OrganicAutoSuggest_1_19_na_na_na&amp;fm=organic&amp;iid=1cdc04d5-43cc-459e-8030-113b23244ba6.MOBH9YMEHJC9NHHY.SEARCH&amp;ppt=None&amp;ppn=None&amp;ssid=crn5k1mhhc0000001746798265650&amp;qH=91434633a446479e\" rel=\"noopener noreferrer\" target=\"_blank\"><div class=\"Otbq5D\"><div class=\"yPq5Io\"><div><div class=\"_4WELSP\" style=\"height:200px;width:200px\"><img alt=\"Google Pixel 9A (Iris, 256 GB)\" class=\"DByuf4\" loading=\"eager\" src=\"https://rukminim2.flixcart.com/image/312/312/xif0q/mobile/c/3/2/-original-imahadxgjufkypv5.jpeg?q=70\"/></div></div></div><div class=\"qaR90o\"><div class=\"A8uQAd\"><span class=\"Lni97G\"><label class=\"tJjCVx\"><input class=\"vn9L2C\" readonly=\"\" type=\"checkbox\"/><div class=\"XqNaEv\"></div></label></span><label class=\"uu79Xy\"><span>Add to Compare</span></label></div></div><div class=\"oUss6M ssUU08\"><div class=\"+7E521\"><svg class=\"N1bADF\" height=\"16\" viewbox=\"0 0 20 16\" width=\"16\" xmlns=\"http://www.w3.org/2000/svg\"><path class=\"x1UMqG\" d=\"M8.695 16.682C4.06 12.382 1 9.536 1 6.065 1 3.219 3.178 1 5.95 1c1.566 0 3.069.746 4.05 1.915C10.981 1.745 12.484 1 14.05 1 16.822 1 19 3.22 19 6.065c0 3.471-3.06 6.316-7.695 10.617L10 17.897l-1.305-1.215z\" fill=\"#2874F0\" fill-rule=\"evenodd\" opacity=\".9\" stroke=\"#FFF\"></path></svg></div></div></div><div class=\"yKfJKb row\"><div class=\"col col-7-12\"><div class=\"KzDlHZ\">Google Pixel 9A (Iris, 256 GB)</div><div class=\"_5OesEi\"><span class=\"Y1HWO0\" id=\"productRating_LSTMOBH9YMEHJC9NHHYJIL7SI_MOBH9YMEHJC9NHHY_\"><div class=\"XQDdHH\">4.6<img class=\"Rza2QY\" src=\"data:image/svg+xml;base64,PHN2ZyB4bWxucz0iaHR0cDovL3d3dy53My5vcmcvMjAwMC9zdmciIHdpZHRoPSIxMyIgaGVpZ2h0PSIxMiI+PHBhdGggZmlsbD0iI0ZGRiIgZD0iTTYuNSA5LjQzOWwtMy42NzQgMi4yMy45NC00LjI2LTMuMjEtMi44ODMgNC4yNTQtLjQwNEw2LjUuMTEybDEuNjkgNC4wMSA0LjI1NC40MDQtMy4yMSAyLjg4Mi45NCA0LjI2eiIvPjwvc3ZnPg==\"/></div></span><span class=\"Wphh3N\"><span><span>486 Ratings </span><span class=\"hG7V+4\">&amp;</span><span> 81 Reviews</span></span></span></div><div class=\"_6NESgJ\"><ul class=\"G4BRas\"><li class=\"J+igdf\">8 GB RAM | 256 GB ROM</li><li class=\"J+igdf\">15.96 cm (6.285 inch) Full HD+ Display</li><li class=\"J+igdf\">48MP + 12MP | 12MP Front Camera</li><li class=\"J+igdf\">5100 mAh Battery</li><li class=\"J+igdf\">Tensor G4 Processor</li><li class=\"J+igdf\">1 Year Domestic Warranty</li></ul></div></div><div class=\"col col-5-12 BfVC2z\"><div class=\"cN1yYO\"><div class=\"hl05eU\"><div class=\"Nx9bqj _4b5DiR\">₹49,999</div></div><div class=\"k6cAZE dlFt9U\"><div><div class=\"yiggsN\" style=\"color:#000000;font-size:12px;font-weight:400\">Free delivery</div></div></div></div><div class=\"M4DNwV\"><div class=\"n5vj9c\"><div class=\"yiggsN O5Fpg8\" style=\"color:#000000;font-size:14px;font-style:normal;font-weight:400\">Upto </div><div class=\"yiggsN O5Fpg8\" style=\"color:#000000;font-size:14px;font-style:normal;font-weight:700\">₹26,200</div><div class=\"yiggsN O5Fpg8\" style=\"color:#000000;font-size:14px;font-style:normal;font-weight:400\"> Off on Exchange</div></div></div><div class=\"M4DNwV\"><div class=\"n5vj9c\"><div class=\"yiggsN O5Fpg8\" style=\"color:#26A541;font-size:14px;font-weight:700\">Bank Offer</div></div></div></div></div></a></div></div></div></div><div class=\"cPHDOP col-12-12\"><div class=\"_75nlfW\"><div data-id=\"MOBG6VF5SMXPNQHG\" style=\"width:100%\"><div class=\"tUxRFH\"><a class=\"CGtC98\" href=\"/apple-iphone-13-blue-128-gb/p/itm6c601e0a58b3c?pid=MOBG6VF5SMXPNQHG&amp;lid=LSTMOBG6VF5SMXPNQHGL5FN51&amp;marketplace=FLIPKART&amp;q=mobiles+under+50000+rupees&amp;store=tyy%2F4io&amp;srno=s_1_20&amp;otracker=AS_QueryStore_OrganicAutoSuggest_1_19_na_na_na&amp;otracker1=AS_QueryStore_OrganicAutoSuggest_1_19_na_na_na&amp;fm=organic&amp;iid=1cdc04d5-43cc-459e-8030-113b23244ba6.MOBG6VF5SMXPNQHG.SEARCH&amp;ppt=None&amp;ppn=None&amp;ssid=crn5k1mhhc0000001746798265650&amp;qH=91434633a446479e\" rel=\"noopener noreferrer\" target=\"_blank\"><div class=\"Otbq5D\"><div class=\"yPq5Io\"><div><div class=\"_4WELSP\" style=\"height:200px;width:200px\"><img alt=\"Apple iPhone 13 (Blue, 128 GB)\" class=\"DByuf4\" loading=\"eager\" src=\"https://rukminim2.flixcart.com/image/312/312/ktketu80/mobile/2/y/o/iphone-13-mlpk3hn-a-apple-original-imag6vpyur6hjngg.jpeg?q=70\"/></div></div></div><div class=\"qaR90o\"><div class=\"A8uQAd\"><span class=\"Lni97G\"><label class=\"tJjCVx\"><input class=\"vn9L2C\" readonly=\"\" type=\"checkbox\"/><div class=\"XqNaEv\"></div></label></span><label class=\"uu79Xy\"><span>Add to Compare</span></label></div></div><div class=\"oUss6M ssUU08\"><div class=\"+7E521\"><svg class=\"N1bADF\" height=\"16\" viewbox=\"0 0 20 16\" width=\"16\" xmlns=\"http://www.w3.org/2000/svg\"><path class=\"x1UMqG\" d=\"M8.695 16.682C4.06 12.382 1 9.536 1 6.065 1 3.219 3.178 1 5.95 1c1.566 0 3.069.746 4.05 1.915C10.981 1.745 12.484 1 14.05 1 16.822 1 19 3.22 19 6.065c0 3.471-3.06 6.316-7.695 10.617L10 17.897l-1.305-1.215z\" fill=\"#2874F0\" fill-rule=\"evenodd\" opacity=\".9\" stroke=\"#FFF\"></path></svg></div></div></div><div class=\"yKfJKb row\"><div class=\"col col-7-12\"><div class=\"KzDlHZ\">Apple iPhone 13 (Blue, 128 GB)</div><div class=\"_5OesEi\"><span class=\"Y1HWO0\" id=\"productRating_LSTMOBG6VF5SMXPNQHGL5FN51_MOBG6VF5SMXPNQHG_\"><div class=\"XQDdHH\">4.6<img class=\"Rza2QY\" src=\"data:image/svg+xml;base64,PHN2ZyB4bWxucz0iaHR0cDovL3d3dy53My5vcmcvMjAwMC9zdmciIHdpZHRoPSIxMyIgaGVpZ2h0PSIxMiI+PHBhdGggZmlsbD0iI0ZGRiIgZD0iTTYuNSA5LjQzOWwtMy42NzQgMi4yMy45NC00LjI2LTMuMjEtMi44ODMgNC4yNTQtLjQwNEw2LjUuMTEybDEuNjkgNC4wMSA0LjI1NC40MDQtMy4yMSAyLjg4Mi45NCA0LjI2eiIvPjwvc3ZnPg==\"/></div></span><span class=\"Wphh3N\"><span><span>2,90,118 Ratings </span><span class=\"hG7V+4\">&amp;</span><span> 13,869 Reviews</span></span></span></div><div class=\"_6NESgJ\"><ul class=\"G4BRas\"><li class=\"J+igdf\">128 GB ROM</li><li class=\"J+igdf\">15.49 cm (6.1 inch) Super Retina XDR Display</li><li class=\"J+igdf\">12MP + 12MP | 12MP Front Camera</li><li class=\"J+igdf\">A15 Bionic Chip Processor</li><li class=\"J+igdf\">1 year warranty for phone and 1 year warranty for in Box Accessories.</li></ul></div></div><div class=\"col col-5-12 BfVC2z\"><div class=\"cN1yYO\"><div class=\"hl05eU\"><div class=\"Nx9bqj _4b5DiR\">₹44,999</div><div class=\"yRaY8j ZYYwLA\">₹<!-- -->49,900</div><div class=\"UkUFwK\"><span>9% off</span></div></div><div class=\"k6cAZE dlFt9U\"><div><div class=\"yiggsN\" style=\"color:#000000;font-size:12px;font-weight:400\">Free delivery</div></div></div></div><div class=\"_0CSTHy\"><img height=\"21\" src=\"//static-assets-web.flixcart.com/fk-p-linchpin-web/fk-cp-zion/img/fa_9e47c1.png\"/></div><div class=\"M4DNwV\"><div class=\"n5vj9c\" style=\"padding-top:4px;padding-right:4px;padding-bottom:4px;padding-left:4px;border-radius:2px;background-color:#E7F8EC\"><div class=\"yiggsN O5Fpg8\" style=\"color:#26A541;font-size:12px;font-weight:700\">Hot Deal</div></div></div><div class=\"M4DNwV\"><div class=\"n5vj9c\"><div class=\"yiggsN O5Fpg8\" style=\"color:#000000;font-size:14px;font-style:normal;font-weight:400\">Upto </div><div class=\"yiggsN O5Fpg8\" style=\"color:#000000;font-size:14px;font-style:normal;font-weight:700\">₹27,500</div><div class=\"yiggsN O5Fpg8\" style=\"color:#000000;font-size:14px;font-style:normal;font-weight:400\"> Off on Exchange</div></div></div></div></div></a></div></div></div></div><div class=\"cPHDOP col-12-12\"><div class=\"_75nlfW\"><div data-id=\"MOBGYQ2MQYHU59Y2\" style=\"width:100%\"><div class=\"tUxRFH\"><a class=\"CGtC98\" href=\"/google-pixel-8a-bay-128-gb/p/itm6d2e15988f2c4?pid=MOBGYQ2MQYHU59Y2&amp;lid=LSTMOBGYQ2MQYHU59Y2IR0ZZ0&amp;marketplace=FLIPKART&amp;q=mobiles+under+50000+rupees&amp;store=tyy%2F4io&amp;srno=s_1_21&amp;otracker=AS_QueryStore_OrganicAutoSuggest_1_19_na_na_na&amp;otracker1=AS_QueryStore_OrganicAutoSuggest_1_19_na_na_na&amp;fm=organic&amp;iid=1cdc04d5-43cc-459e-8030-113b23244ba6.MOBGYQ2MQYHU59Y2.SEARCH&amp;ppt=None&amp;ppn=None&amp;ssid=crn5k1mhhc0000001746798265650&amp;qH=91434633a446479e\" rel=\"noopener noreferrer\" target=\"_blank\"><div class=\"Otbq5D\"><div class=\"yPq5Io\"><div><div class=\"_4WELSP\" style=\"height:200px;width:200px\"><img alt=\"Google Pixel 8a (Bay, 128 GB)\" class=\"DByuf4\" loading=\"eager\" src=\"https://rukminim2.flixcart.com/image/312/312/xif0q/mobile/f/h/n/pixel-8a-ga05570-in-google-original-imahyn3ncc6gcfnc.jpeg?q=70\"/></div></div></div><div class=\"qaR90o\"><div class=\"A8uQAd\"><span class=\"Lni97G\"><label class=\"tJjCVx\"><input class=\"vn9L2C\" readonly=\"\" type=\"checkbox\"/><div class=\"XqNaEv\"></div></label></span><label class=\"uu79Xy\"><span>Add to Compare</span></label></div></div><div class=\"oUss6M ssUU08\"><div class=\"+7E521\"><svg class=\"N1bADF\" height=\"16\" viewbox=\"0 0 20 16\" width=\"16\" xmlns=\"http://www.w3.org/2000/svg\"><path class=\"x1UMqG\" d=\"M8.695 16.682C4.06 12.382 1 9.536 1 6.065 1 3.219 3.178 1 5.95 1c1.566 0 3.069.746 4.05 1.915C10.981 1.745 12.484 1 14.05 1 16.822 1 19 3.22 19 6.065c0 3.471-3.06 6.316-7.695 10.617L10 17.897l-1.305-1.215z\" fill=\"#2874F0\" fill-rule=\"evenodd\" opacity=\".9\" stroke=\"#FFF\"></path></svg></div></div></div><div class=\"yKfJKb row\"><div class=\"col col-7-12\"><div class=\"KzDlHZ\">Google Pixel 8a (Bay, 128 GB)</div><div class=\"_5OesEi\"><span class=\"Y1HWO0\" id=\"productRating_LSTMOBGYQ2MQYHU59Y2IR0ZZ0_MOBGYQ2MQYHU59Y2_\"><div class=\"XQDdHH\">4.3<img class=\"Rza2QY\" src=\"data:image/svg+xml;base64,PHN2ZyB4bWxucz0iaHR0cDovL3d3dy53My5vcmcvMjAwMC9zdmciIHdpZHRoPSIxMyIgaGVpZ2h0PSIxMiI+PHBhdGggZmlsbD0iI0ZGRiIgZD0iTTYuNSA5LjQzOWwtMy42NzQgMi4yMy45NC00LjI2LTMuMjEtMi44ODMgNC4yNTQtLjQwNEw2LjUuMTEybDEuNjkgNC4wMSA0LjI1NC40MDQtMy4yMSAyLjg4Mi45NCA0LjI2eiIvPjwvc3ZnPg==\"/></div></span><span class=\"Wphh3N\"><span><span>4,950 Ratings </span><span class=\"hG7V+4\">&amp;</span><span> 423 Reviews</span></span></span></div><div class=\"_6NESgJ\"><ul class=\"G4BRas\"><li class=\"J+igdf\">8 GB RAM | 128 GB ROM</li><li class=\"J+igdf\">15.49 cm (6.1 inch) Full HD+ Display</li><li class=\"J+igdf\">64MP + 13MP | 13MP Front Camera</li><li class=\"J+igdf\">4404 mAh Battery</li><li class=\"J+igdf\">Tensor G3 Processor</li><li class=\"J+igdf\">1 Year Domestic Warranty</li></ul></div></div><div class=\"col col-5-12 BfVC2z\"><div class=\"cN1yYO\"><div class=\"hl05eU\"><div class=\"Nx9bqj _4b5DiR\">₹37,999</div><div class=\"yRaY8j ZYYwLA\">₹<!-- -->52,999</div><div class=\"UkUFwK\"><span>28% off</span></div></div><div class=\"k6cAZE dlFt9U\"><div><div class=\"yiggsN\" style=\"color:#000000;font-size:12px;font-weight:400\">Free delivery</div></div></div></div><div class=\"_0CSTHy\"><img height=\"21\" src=\"//static-assets-web.flixcart.com/fk-p-linchpin-web/fk-cp-zion/img/fa_9e47c1.png\"/></div><div class=\"M4DNwV\"><div class=\"n5vj9c\"><div class=\"yiggsN O5Fpg8\" style=\"color:#000000;font-size:14px;font-style:normal;font-weight:400\">Upto </div><div class=\"yiggsN O5Fpg8\" style=\"color:#000000;font-size:14px;font-style:normal;font-weight:700\">₹23,600</div><div class=\"yiggsN O5Fpg8\" style=\"color:#000000;font-size:14px;font-style:normal;font-weight:400\"> Off on Exchange</div></div></div><div class=\"M4DNwV\"><div class=\"n5vj9c\"><div class=\"yiggsN O5Fpg8\" style=\"color:#26A541;font-size:14px;font-weight:700\">Bank Offer</div></div></div></div></div></a></div></div></div></div><div class=\"cPHDOP col-12-12\"><div class=\"_75nlfW\"><div data-id=\"MOBGYQ2MKT3SVFCS\" style=\"width:100%\"><div class=\"tUxRFH\"><a class=\"CGtC98\" href=\"/google-pixel-8a-aloe-128-gb/p/itm9f646ddfbe8f4?pid=MOBGYQ2MKT3SVFCS&amp;lid=LSTMOBGYQ2MKT3SVFCSMCUIQC&amp;marketplace=FLIPKART&amp;q=mobiles+under+50000+rupees&amp;store=tyy%2F4io&amp;srno=s_1_22&amp;otracker=AS_QueryStore_OrganicAutoSuggest_1_19_na_na_na&amp;otracker1=AS_QueryStore_OrganicAutoSuggest_1_19_na_na_na&amp;fm=organic&amp;iid=1cdc04d5-43cc-459e-8030-113b23244ba6.MOBGYQ2MKT3SVFCS.SEARCH&amp;ppt=None&amp;ppn=None&amp;ssid=crn5k1mhhc0000001746798265650&amp;qH=91434633a446479e\" rel=\"noopener noreferrer\" target=\"_blank\"><div class=\"Otbq5D\"><div class=\"yPq5Io\"><div><div class=\"_4WELSP\" style=\"height:200px;width:200px\"><img alt=\"Google Pixel 8a (Aloe, 128 GB)\" class=\"DByuf4\" loading=\"eager\" src=\"https://rukminim2.flixcart.com/image/312/312/xif0q/mobile/w/p/t/-original-imahyzygjdzrjgfh.jpeg?q=70\"/></div></div></div><div class=\"qaR90o\"><div class=\"A8uQAd\"><span class=\"Lni97G\"><label class=\"tJjCVx\"><input class=\"vn9L2C\" readonly=\"\" type=\"checkbox\"/><div class=\"XqNaEv\"></div></label></span><label class=\"uu79Xy\"><span>Add to Compare</span></label></div></div><div class=\"oUss6M ssUU08\"><div class=\"+7E521\"><svg class=\"N1bADF\" height=\"16\" viewbox=\"0 0 20 16\" width=\"16\" xmlns=\"http://www.w3.org/2000/svg\"><path class=\"x1UMqG\" d=\"M8.695 16.682C4.06 12.382 1 9.536 1 6.065 1 3.219 3.178 1 5.95 1c1.566 0 3.069.746 4.05 1.915C10.981 1.745 12.484 1 14.05 1 16.822 1 19 3.22 19 6.065c0 3.471-3.06 6.316-7.695 10.617L10 17.897l-1.305-1.215z\" fill=\"#2874F0\" fill-rule=\"evenodd\" opacity=\".9\" stroke=\"#FFF\"></path></svg></div></div></div><div class=\"yKfJKb row\"><div class=\"col col-7-12\"><div class=\"KzDlHZ\">Google Pixel 8a (Aloe, 128 GB)</div><div class=\"_5OesEi\"><span class=\"Y1HWO0\" id=\"productRating_LSTMOBGYQ2MKT3SVFCSMCUIQC_MOBGYQ2MKT3SVFCS_\"><div class=\"XQDdHH\">4.3<img class=\"Rza2QY\" src=\"data:image/svg+xml;base64,PHN2ZyB4bWxucz0iaHR0cDovL3d3dy53My5vcmcvMjAwMC9zdmciIHdpZHRoPSIxMyIgaGVpZ2h0PSIxMiI+PHBhdGggZmlsbD0iI0ZGRiIgZD0iTTYuNSA5LjQzOWwtMy42NzQgMi4yMy45NC00LjI2LTMuMjEtMi44ODMgNC4yNTQtLjQwNEw2LjUuMTEybDEuNjkgNC4wMSA0LjI1NC40MDQtMy4yMSAyLjg4Mi45NCA0LjI2eiIvPjwvc3ZnPg==\"/></div></span><span class=\"Wphh3N\"><span><span>4,950 Ratings </span><span class=\"hG7V+4\">&amp;</span><span> 423 Reviews</span></span></span></div><div class=\"_6NESgJ\"><ul class=\"G4BRas\"><li class=\"J+igdf\">8 GB RAM | 128 GB ROM</li><li class=\"J+igdf\">15.49 cm (6.1 inch) Full HD+ Display</li><li class=\"J+igdf\">64MP + 13MP | 13MP Front Camera</li><li class=\"J+igdf\">4404 mAh Battery</li><li class=\"J+igdf\">Tensor G3 Processor</li><li class=\"J+igdf\">1 Year Domestic Warranty</li></ul></div></div><div class=\"col col-5-12 BfVC2z\"><div class=\"cN1yYO\"><div class=\"hl05eU\"><div class=\"Nx9bqj _4b5DiR\">₹37,999</div><div class=\"yRaY8j ZYYwLA\">₹<!-- -->52,999</div><div class=\"UkUFwK\"><span>28% off</span></div></div><div class=\"k6cAZE dlFt9U\"><div><div class=\"yiggsN\" style=\"color:#000000;font-size:12px;font-weight:400\">Free delivery</div></div></div></div><div class=\"_0CSTHy\"><img height=\"21\" src=\"//static-assets-web.flixcart.com/fk-p-linchpin-web/fk-cp-zion/img/fa_9e47c1.png\"/></div><div class=\"M4DNwV\"><div class=\"n5vj9c\"><div class=\"yiggsN O5Fpg8\" style=\"color:#000000;font-size:14px;font-style:normal;font-weight:400\">Upto </div><div class=\"yiggsN O5Fpg8\" style=\"color:#000000;font-size:14px;font-style:normal;font-weight:700\">₹23,600</div><div class=\"yiggsN O5Fpg8\" style=\"color:#000000;font-size:14px;font-style:normal;font-weight:400\"> Off on Exchange</div></div></div><div class=\"M4DNwV\"><div class=\"n5vj9c\"><div class=\"yiggsN O5Fpg8\" style=\"color:#26A541;font-size:14px;font-weight:700\">Bank Offer</div></div></div></div></div></a></div></div></div></div><div class=\"cPHDOP col-12-12\"><div class=\"_75nlfW\"><div data-id=\"MOBH8H4HTS84UEQN\" style=\"width:100%\"><div class=\"tUxRFH\"><a class=\"CGtC98\" href=\"/oneplus-13r-5g-nebula-noir-512-gb/p/itmff6561809fab8?pid=MOBH8H4HTS84UEQN&amp;lid=LSTMOBH8H4HTS84UEQNJWSS7N&amp;marketplace=FLIPKART&amp;q=mobiles+under+50000+rupees&amp;store=tyy%2F4io&amp;srno=s_1_23&amp;otracker=AS_QueryStore_OrganicAutoSuggest_1_19_na_na_na&amp;otracker1=AS_QueryStore_OrganicAutoSuggest_1_19_na_na_na&amp;fm=organic&amp;iid=1cdc04d5-43cc-459e-8030-113b23244ba6.MOBH8H4HTS84UEQN.SEARCH&amp;ppt=None&amp;ppn=None&amp;ssid=crn5k1mhhc0000001746798265650&amp;qH=91434633a446479e\" rel=\"noopener noreferrer\" target=\"_blank\"><div class=\"Otbq5D\"><div class=\"yPq5Io\"><div><div class=\"_4WELSP\" style=\"height:200px;width:200px\"><img alt=\"OnePlus 13R 5G (Nebula Noir, 512 GB)\" class=\"DByuf4\" loading=\"eager\" src=\"https://rukminim2.flixcart.com/image/312/312/xif0q/mobile/z/1/5/-original-imah8vc2a8dg7xea.jpeg?q=70\"/></div></div></div><div class=\"qaR90o\"><div class=\"A8uQAd\"><span class=\"Lni97G\"><label class=\"tJjCVx\"><input class=\"vn9L2C\" readonly=\"\" type=\"checkbox\"/><div class=\"XqNaEv\"></div></label></span><label class=\"uu79Xy\"><span>Add to Compare</span></label></div></div><div class=\"oUss6M ssUU08\"><div class=\"+7E521\"><svg class=\"N1bADF\" height=\"16\" viewbox=\"0 0 20 16\" width=\"16\" xmlns=\"http://www.w3.org/2000/svg\"><path class=\"x1UMqG\" d=\"M8.695 16.682C4.06 12.382 1 9.536 1 6.065 1 3.219 3.178 1 5.95 1c1.566 0 3.069.746 4.05 1.915C10.981 1.745 12.484 1 14.05 1 16.822 1 19 3.22 19 6.065c0 3.471-3.06 6.316-7.695 10.617L10 17.897l-1.305-1.215z\" fill=\"#2874F0\" fill-rule=\"evenodd\" opacity=\".9\" stroke=\"#FFF\"></path></svg></div></div></div><div class=\"yKfJKb row\"><div class=\"col col-7-12\"><div class=\"KzDlHZ\">OnePlus 13R 5G (Nebula Noir, 512 GB)</div><div class=\"_5OesEi\"><span class=\"Y1HWO0\" id=\"productRating_LSTMOBH8H4HTS84UEQNJWSS7N_MOBH8H4HTS84UEQN_\"><div class=\"XQDdHH\">4.5<img class=\"Rza2QY\" src=\"data:image/svg+xml;base64,PHN2ZyB4bWxucz0iaHR0cDovL3d3dy53My5vcmcvMjAwMC9zdmciIHdpZHRoPSIxMyIgaGVpZ2h0PSIxMiI+PHBhdGggZmlsbD0iI0ZGRiIgZD0iTTYuNSA5LjQzOWwtMy42NzQgMi4yMy45NC00LjI2LTMuMjEtMi44ODMgNC4yNTQtLjQwNEw2LjUuMTEybDEuNjkgNC4wMSA0LjI1NC40MDQtMy4yMSAyLjg4Mi45NCA0LjI2eiIvPjwvc3ZnPg==\"/></div></span><span class=\"Wphh3N\"><span><span>257 Ratings </span><span class=\"hG7V+4\">&amp;</span><span> 20 Reviews</span></span></span></div><div class=\"_6NESgJ\"><ul class=\"G4BRas\"><li class=\"J+igdf\">16 GB RAM | 512 GB ROM</li><li class=\"J+igdf\">17.22 cm (6.78 inch) Display</li><li class=\"J+igdf\">50MP Rear Camera</li><li class=\"J+igdf\">6000 mAh Battery</li><li class=\"J+igdf\">1 year manufacturer warranty for device and 1 year manufacturer warranty for in-box accessories including batteries from the date of purchase</li></ul></div></div><div class=\"col col-5-12 BfVC2z\"><div class=\"cN1yYO\"><div class=\"hl05eU\"><div class=\"Nx9bqj _4b5DiR\">₹43,490</div><div class=\"yRaY8j ZYYwLA\">₹<!-- -->51,999</div><div class=\"UkUFwK\"><span>16% off</span></div></div><div class=\"k6cAZE dlFt9U\"><div><div class=\"yiggsN\" style=\"color:#000000;font-size:12px;font-weight:400\">Free delivery</div></div></div></div><div class=\"_0CSTHy\"><img height=\"21\" src=\"//static-assets-web.flixcart.com/fk-p-linchpin-web/fk-cp-zion/img/fa_9e47c1.png\"/></div><div class=\"M4DNwV\"><div class=\"n5vj9c\"><div class=\"yiggsN O5Fpg8\" style=\"color:#C70055;font-size:12px;font-weight:700\">Only 1 left</div></div></div><div class=\"M4DNwV\"><div class=\"n5vj9c\"><div class=\"yiggsN O5Fpg8\" style=\"color:#26A541;font-size:14px;font-weight:700\">Bank Offer</div></div></div></div></div></a></div></div></div></div><div class=\"cPHDOP col-12-12\"><div class=\"_75nlfW\"><div data-id=\"MOBH8Z32XECJ9E7M\" style=\"width:100%\"><div class=\"tUxRFH\"><a class=\"CGtC98\" href=\"/vivo-v50-5g-rose-red-256-gb/p/itm12bbdca230795?pid=MOBH8Z32XECJ9E7M&amp;lid=LSTMOBH8Z32XECJ9E7MMTTUE1&amp;marketplace=FLIPKART&amp;q=mobiles+under+50000+rupees&amp;store=tyy%2F4io&amp;srno=s_1_24&amp;otracker=AS_QueryStore_OrganicAutoSuggest_1_19_na_na_na&amp;otracker1=AS_QueryStore_OrganicAutoSuggest_1_19_na_na_na&amp;fm=organic&amp;iid=1cdc04d5-43cc-459e-8030-113b23244ba6.MOBH8Z32XECJ9E7M.SEARCH&amp;ppt=None&amp;ppn=None&amp;ssid=crn5k1mhhc0000001746798265650&amp;qH=91434633a446479e\" rel=\"noopener noreferrer\" target=\"_blank\"><div class=\"Otbq5D\"><div class=\"yPq5Io\"><div><div class=\"_4WELSP\" style=\"height:200px;width:200px\"><img alt=\"vivo V50 5G (Rose Red, 256 GB)\" class=\"DByuf4\" loading=\"eager\" src=\"https://rukminim2.flixcart.com/image/312/312/xif0q/mobile/a/q/v/-original-imah94g87zqhhrsw.jpeg?q=70\"/></div></div></div><div class=\"qaR90o\"><div class=\"A8uQAd\"><span class=\"Lni97G\"><label class=\"tJjCVx\"><input class=\"vn9L2C\" readonly=\"\" type=\"checkbox\"/><div class=\"XqNaEv\"></div></label></span><label class=\"uu79Xy\"><span>Add to Compare</span></label></div></div><div class=\"oUss6M ssUU08\"><div class=\"+7E521\"><svg class=\"N1bADF\" height=\"16\" viewbox=\"0 0 20 16\" width=\"16\" xmlns=\"http://www.w3.org/2000/svg\"><path class=\"x1UMqG\" d=\"M8.695 16.682C4.06 12.382 1 9.536 1 6.065 1 3.219 3.178 1 5.95 1c1.566 0 3.069.746 4.05 1.915C10.981 1.745 12.484 1 14.05 1 16.822 1 19 3.22 19 6.065c0 3.471-3.06 6.316-7.695 10.617L10 17.897l-1.305-1.215z\" fill=\"#2874F0\" fill-rule=\"evenodd\" opacity=\".9\" stroke=\"#FFF\"></path></svg></div></div></div><div class=\"yKfJKb row\"><div class=\"col col-7-12\"><div class=\"KzDlHZ\">vivo V50 5G (Rose Red, 256 GB)</div><div class=\"_5OesEi\"><span class=\"Y1HWO0\" id=\"productRating_LSTMOBH8Z32XECJ9E7MMTTUE1_MOBH8Z32XECJ9E7M_\"><div class=\"XQDdHH\">4.5<img class=\"Rza2QY\" src=\"data:image/svg+xml;base64,PHN2ZyB4bWxucz0iaHR0cDovL3d3dy53My5vcmcvMjAwMC9zdmciIHdpZHRoPSIxMyIgaGVpZ2h0PSIxMiI+PHBhdGggZmlsbD0iI0ZGRiIgZD0iTTYuNSA5LjQzOWwtMy42NzQgMi4yMy45NC00LjI2LTMuMjEtMi44ODMgNC4yNTQtLjQwNEw2LjUuMTEybDEuNjkgNC4wMSA0LjI1NC40MDQtMy4yMSAyLjg4Mi45NCA0LjI2eiIvPjwvc3ZnPg==\"/></div></span><span class=\"Wphh3N\"><span><span>3,852 Ratings </span><span class=\"hG7V+4\">&amp;</span><span> 391 Reviews</span></span></span></div><div class=\"_6NESgJ\"><ul class=\"G4BRas\"><li class=\"J+igdf\">8 GB RAM | 256 GB ROM</li><li class=\"J+igdf\">17.2 cm (6.77 inch) Display</li><li class=\"J+igdf\">50MP + 50MP | 50MP Front Camera</li><li class=\"J+igdf\">6000 mAh Battery</li><li class=\"J+igdf\">7 Gen 3 Processor</li><li class=\"J+igdf\">1 Year Manufacturer Warranty for Device and 6 Months Warranty for Inbox Accessories</li></ul></div></div><div class=\"col col-5-12 BfVC2z\"><div class=\"cN1yYO\"><div class=\"hl05eU\"><div class=\"Nx9bqj _4b5DiR\">₹36,999</div><div class=\"yRaY8j ZYYwLA\">₹<!-- -->42,999</div><div class=\"UkUFwK\"><span>13% off</span></div></div><div class=\"k6cAZE dlFt9U\"><div><div class=\"yiggsN\" style=\"color:#000000;font-size:12px;font-weight:400\">Free delivery</div></div></div></div><div class=\"_0CSTHy\"><img height=\"21\" src=\"//static-assets-web.flixcart.com/fk-p-linchpin-web/fk-cp-zion/img/fa_9e47c1.png\"/></div><div class=\"M4DNwV\"><div class=\"n5vj9c\" style=\"padding-top:4px;padding-right:4px;padding-bottom:4px;padding-left:4px;border-radius:2px;background-color:#E7F8EC\"><div class=\"yiggsN O5Fpg8\" style=\"color:#26A541;font-size:12px;font-weight:700\">Lowest price since launch</div></div></div><div class=\"M4DNwV\"><div class=\"n5vj9c\"><div class=\"yiggsN O5Fpg8\" style=\"color:#000000;font-size:14px;font-style:normal;font-weight:400\">Upto </div><div class=\"yiggsN O5Fpg8\" style=\"color:#000000;font-size:14px;font-style:normal;font-weight:700\">₹23,600</div><div class=\"yiggsN O5Fpg8\" style=\"color:#000000;font-size:14px;font-style:normal;font-weight:400\"> Off on Exchange</div></div></div></div></div></a></div></div></div></div><div class=\"cPHDOP col-12-12\"><div><div class=\"_1G0WLw\"><span>Page 1 of 466</span><nav class=\"WSL9JP\"><a class=\"cn++Ap A1msZJ\" href=\"/search?q=mobiles+under+50000+rupees&amp;sid=tyy%2C4io&amp;as=on&amp;as-show=on&amp;otracker=AS_QueryStore_OrganicAutoSuggest_1_19_na_na_na&amp;otracker1=AS_QueryStore_OrganicAutoSuggest_1_19_na_na_na&amp;as-pos=1&amp;as-type=RECENT&amp;suggestionId=mobiles+under+50000+rupees%7CMobiles&amp;requestId=114334d8-0c47-410f-98fc-6c37395b9672&amp;as-backfill=on&amp;page=1\">1</a><a class=\"cn++Ap\" href=\"/search?q=mobiles+under+50000+rupees&amp;sid=tyy%2C4io&amp;as=on&amp;as-show=on&amp;otracker=AS_QueryStore_OrganicAutoSuggest_1_19_na_na_na&amp;otracker1=AS_QueryStore_OrganicAutoSuggest_1_19_na_na_na&amp;as-pos=1&amp;as-type=RECENT&amp;suggestionId=mobiles+under+50000+rupees%7CMobiles&amp;requestId=114334d8-0c47-410f-98fc-6c37395b9672&amp;as-backfill=on&amp;page=2\">2</a><a class=\"cn++Ap\" href=\"/search?q=mobiles+under+50000+rupees&amp;sid=tyy%2C4io&amp;as=on&amp;as-show=on&amp;otracker=AS_QueryStore_OrganicAutoSuggest_1_19_na_na_na&amp;otracker1=AS_QueryStore_OrganicAutoSuggest_1_19_na_na_na&amp;as-pos=1&amp;as-type=RECENT&amp;suggestionId=mobiles+under+50000+rupees%7CMobiles&amp;requestId=114334d8-0c47-410f-98fc-6c37395b9672&amp;as-backfill=on&amp;page=3\">3</a><a class=\"cn++Ap\" href=\"/search?q=mobiles+under+50000+rupees&amp;sid=tyy%2C4io&amp;as=on&amp;as-show=on&amp;otracker=AS_QueryStore_OrganicAutoSuggest_1_19_na_na_na&amp;otracker1=AS_QueryStore_OrganicAutoSuggest_1_19_na_na_na&amp;as-pos=1&amp;as-type=RECENT&amp;suggestionId=mobiles+under+50000+rupees%7CMobiles&amp;requestId=114334d8-0c47-410f-98fc-6c37395b9672&amp;as-backfill=on&amp;page=4\">4</a><a class=\"cn++Ap\" href=\"/search?q=mobiles+under+50000+rupees&amp;sid=tyy%2C4io&amp;as=on&amp;as-show=on&amp;otracker=AS_QueryStore_OrganicAutoSuggest_1_19_na_na_na&amp;otracker1=AS_QueryStore_OrganicAutoSuggest_1_19_na_na_na&amp;as-pos=1&amp;as-type=RECENT&amp;suggestionId=mobiles+under+50000+rupees%7CMobiles&amp;requestId=114334d8-0c47-410f-98fc-6c37395b9672&amp;as-backfill=on&amp;page=5\">5</a><a class=\"cn++Ap\" href=\"/search?q=mobiles+under+50000+rupees&amp;sid=tyy%2C4io&amp;as=on&amp;as-show=on&amp;otracker=AS_QueryStore_OrganicAutoSuggest_1_19_na_na_na&amp;otracker1=AS_QueryStore_OrganicAutoSuggest_1_19_na_na_na&amp;as-pos=1&amp;as-type=RECENT&amp;suggestionId=mobiles+under+50000+rupees%7CMobiles&amp;requestId=114334d8-0c47-410f-98fc-6c37395b9672&amp;as-backfill=on&amp;page=6\">6</a><a class=\"cn++Ap\" href=\"/search?q=mobiles+under+50000+rupees&amp;sid=tyy%2C4io&amp;as=on&amp;as-show=on&amp;otracker=AS_QueryStore_OrganicAutoSuggest_1_19_na_na_na&amp;otracker1=AS_QueryStore_OrganicAutoSuggest_1_19_na_na_na&amp;as-pos=1&amp;as-type=RECENT&amp;suggestionId=mobiles+under+50000+rupees%7CMobiles&amp;requestId=114334d8-0c47-410f-98fc-6c37395b9672&amp;as-backfill=on&amp;page=7\">7</a><a class=\"cn++Ap\" href=\"/search?q=mobiles+under+50000+rupees&amp;sid=tyy%2C4io&amp;as=on&amp;as-show=on&amp;otracker=AS_QueryStore_OrganicAutoSuggest_1_19_na_na_na&amp;otracker1=AS_QueryStore_OrganicAutoSuggest_1_19_na_na_na&amp;as-pos=1&amp;as-type=RECENT&amp;suggestionId=mobiles+under+50000+rupees%7CMobiles&amp;requestId=114334d8-0c47-410f-98fc-6c37395b9672&amp;as-backfill=on&amp;page=8\">8</a><a class=\"cn++Ap\" href=\"/search?q=mobiles+under+50000+rupees&amp;sid=tyy%2C4io&amp;as=on&amp;as-show=on&amp;otracker=AS_QueryStore_OrganicAutoSuggest_1_19_na_na_na&amp;otracker1=AS_QueryStore_OrganicAutoSuggest_1_19_na_na_na&amp;as-pos=1&amp;as-type=RECENT&amp;suggestionId=mobiles+under+50000+rupees%7CMobiles&amp;requestId=114334d8-0c47-410f-98fc-6c37395b9672&amp;as-backfill=on&amp;page=9\">9</a><a class=\"cn++Ap\" href=\"/search?q=mobiles+under+50000+rupees&amp;sid=tyy%2C4io&amp;as=on&amp;as-show=on&amp;otracker=AS_QueryStore_OrganicAutoSuggest_1_19_na_na_na&amp;otracker1=AS_QueryStore_OrganicAutoSuggest_1_19_na_na_na&amp;as-pos=1&amp;as-type=RECENT&amp;suggestionId=mobiles+under+50000+rupees%7CMobiles&amp;requestId=114334d8-0c47-410f-98fc-6c37395b9672&amp;as-backfill=on&amp;page=10\">10</a><a class=\"_9QVEpD\" href=\"/search?q=mobiles+under+50000+rupees&amp;sid=tyy%2C4io&amp;as=on&amp;as-show=on&amp;otracker=AS_QueryStore_OrganicAutoSuggest_1_19_na_na_na&amp;otracker1=AS_QueryStore_OrganicAutoSuggest_1_19_na_na_na&amp;as-pos=1&amp;as-type=RECENT&amp;suggestionId=mobiles+under+50000+rupees%7CMobiles&amp;requestId=114334d8-0c47-410f-98fc-6c37395b9672&amp;as-backfill=on&amp;page=2\"><span>Next</span></a></nav><span class=\"TEAQU1\"></span></div></div></div><div class=\"cPHDOP col-12-12\" style=\"margin:10px 0px 0px 0px\"><div class=\"b5p4CI\"><span class=\"H+18AT\">Did you find what you were looking for?</span><div class=\"c6QpTS oWf9LO\"><span class=\"WZkjSk eQ1o1C\">Yes</span><span class=\"WZkjSk eQ1o1C\">No</span></div></div></div></div></div><div class=\"cPHDOP col-12-12\" style=\"padding:16px 0px 0px 0px\"><div class=\"Pg+ADy -u2ZnE row\"><div class=\"naMJjQ\">Reviews for Popular Mobiles</div><div class=\"ybB1XH\"><div class=\"MohBBj\"><div class=\"Ld8TWM\"><div class=\"_4WELSP\" style=\"height:150px;width:150px\"><img alt=\"vivo V50 5G (Rose Red, 256 GB)\" class=\"DByuf4\" loading=\"lazy\" src=\"https://rukminim2.flixcart.com/image/300/300/xif0q/mobile/a/q/v/-original-imah94g87zqhhrsw.jpeg?q=90\"/></div></div><div class=\"_8zhCRP\"><a href=\"/vivo-v50-5g-rose-red-256-gb/p/itm12bbdca230795?pid=MOBH8Z32XECJ9E7M&amp;marketplace=FLIPKART\" rel=\"noopener noreferrer\" target=\"_blank\"><div class=\"kv0tEm\"><div>1. vivo V50 5G (Rose Red, 256 ...</div></div><div class=\"sRoN4i\"><div class=\"XQDdHH\">4.5<img class=\"Rza2QY\" src=\"data:image/svg+xml;base64,PHN2ZyB4bWxucz0iaHR0cDovL3d3dy53My5vcmcvMjAwMC9zdmciIHdpZHRoPSIxMyIgaGVpZ2h0PSIxMiI+PHBhdGggZmlsbD0iI0ZGRiIgZD0iTTYuNSA5LjQzOWwtMy42NzQgMi4yMy45NC00LjI2LTMuMjEtMi44ODMgNC4yNTQtLjQwNEw2LjUuMTEybDEuNjkgNC4wMSA0LjI1NC40MDQtMy4yMSAyLjg4Mi45NCA0LjI2eiIvPjwvc3ZnPg==\"/></div><span class=\"Bz-crL\"><span>3,852 Ratings</span><span><span class=\"_8O4+-w\">&amp;</span><span>391 Reviews</span></span></span></div><div class=\"Xrs8Tf\"><div class=\"hl05eU\"><div class=\"Nx9bqj OQ4U3k\">₹36,999</div><div class=\"UkUFwK WMQHm1\"><span>13% off</span></div></div></div></a><ul class=\"akQAfe\"><li class=\"Ov4d6Q\">8 GB RAM | 256 GB ROM</li><li class=\"Ov4d6Q\">17.2 cm (6.77 inch) Display</li><li class=\"Ov4d6Q\">50MP + 50MP | 50MP Front Camera</li></ul></div></div><div class=\"vQjHak\"><div class=\"VEuN0R\">Most Helpful Review</div><div class=\"col\"><div class=\"col EPCmJX xJgaqh\"><div class=\"row\"><div class=\"XQDdHH Ga3i8K\">5<img class=\"Rza2QY\" src=\"data:image/svg+xml;base64,PHN2ZyB4bWxucz0iaHR0cDovL3d3dy53My5vcmcvMjAwMC9zdmciIHdpZHRoPSIxMyIgaGVpZ2h0PSIxMiI+PHBhdGggZmlsbD0iI0ZGRiIgZD0iTTYuNSA5LjQzOWwtMy42NzQgMi4yMy45NC00LjI2LTMuMjEtMi44ODMgNC4yNTQtLjQwNEw2LjUuMTEybDEuNjkgNC4wMSA0LjI1NC40MDQtMy4yMSAyLjg4Mi45NCA0LjI2eiIvPjwvc3ZnPg==\"/></div><p class=\"z9E0IG\">Good choice</p></div><div class=\"row\"><div class=\"ZmyHeo\"><div><div class=\"\">Looks is nice and let's see the performance after using it</div><span class=\"wTYmpv\"><span>Read full review</span></span></div></div></div><div class=\"row gHqwa8\"><div class=\"row\"><p class=\"_2NsDsF AwS1CA\">Shruti Prasad</p><svg class=\"VjlQyz\" height=\"14\" viewbox=\"0 0 12 12\" width=\"14\" xmlns=\"http://www.w3.org/2000/svg\"><g><circle cx=\"6\" cy=\"6\" fill=\"#878787\" r=\"6\"></circle><path d=\"M3 6l2 2 4-4\" fill=\"#878787\" stroke=\"#FFF\" stroke-width=\"1.5\"></path></g></svg><p class=\"MztJPv\" id=\"review-b9bbbc19-0984-4776-9d45-6d404b2c63ff\"><span>Certified Buyer</span></p><p class=\"_2NsDsF\">2 months ago</p></div></div></div></div></div><div class=\"vQjHak\"><div class=\"VEuN0R\">Recent Review</div><div class=\"col\"><div class=\"col EPCmJX xJgaqh\"><div class=\"row\"><div class=\"XQDdHH Ga3i8K\">5<img class=\"Rza2QY\" src=\"data:image/svg+xml;base64,PHN2ZyB4bWxucz0iaHR0cDovL3d3dy53My5vcmcvMjAwMC9zdmciIHdpZHRoPSIxMyIgaGVpZ2h0PSIxMiI+PHBhdGggZmlsbD0iI0ZGRiIgZD0iTTYuNSA5LjQzOWwtMy42NzQgMi4yMy45NC00LjI2LTMuMjEtMi44ODMgNC4yNTQtLjQwNEw2LjUuMTEybDEuNjkgNC4wMSA0LjI1NC40MDQtMy4yMSAyLjg4Mi45NCA0LjI2eiIvPjwvc3ZnPg==\"/></div><p class=\"z9E0IG\">Excellent</p></div><div class=\"row\"><div class=\"ZmyHeo\"><div><div class=\"\">Camera, Battery bacup, display very good but mobile price is high.</div><span class=\"wTYmpv\"><span>Read full review</span></span></div></div></div><div class=\"row gHqwa8\"><div class=\"row\"><p class=\"_2NsDsF AwS1CA\">Sandip Lokhande</p><svg class=\"VjlQyz\" height=\"14\" viewbox=\"0 0 12 12\" width=\"14\" xmlns=\"http://www.w3.org/2000/svg\"><g><circle cx=\"6\" cy=\"6\" fill=\"#878787\" r=\"6\"></circle><path d=\"M3 6l2 2 4-4\" fill=\"#878787\" stroke=\"#FFF\" stroke-width=\"1.5\"></path></g></svg><p class=\"MztJPv\" id=\"review-c61b7639-6d39-4f8a-a7fe-62bfb8b6c231\"><span>Certified Buyer</span></p><p class=\"_2NsDsF\">2 days ago</p></div></div></div></div></div></div><div class=\"ybB1XH\"><div class=\"MohBBj\"><div class=\"Ld8TWM\"><div class=\"_4WELSP\" style=\"height:150px;width:150px\"><img alt=\"Apple iPhone 13 (Blue, 128 GB)\" class=\"DByuf4\" loading=\"lazy\" src=\"https://rukminim2.flixcart.com/image/300/300/ktketu80/mobile/2/y/o/iphone-13-mlpk3hn-a-apple-original-imag6vpyur6hjngg.jpeg?q=90\"/></div></div><div class=\"_8zhCRP\"><a href=\"/apple-iphone-13-blue-128-gb/p/itm6c601e0a58b3c?pid=MOBG6VF5SMXPNQHG&amp;marketplace=FLIPKART\" rel=\"noopener noreferrer\" target=\"_blank\"><div class=\"kv0tEm\"><div>2. Apple iPhone 13 (Blue, 128 ...</div></div><div class=\"sRoN4i\"><div class=\"XQDdHH\">4.6<img class=\"Rza2QY\" src=\"data:image/svg+xml;base64,PHN2ZyB4bWxucz0iaHR0cDovL3d3dy53My5vcmcvMjAwMC9zdmciIHdpZHRoPSIxMyIgaGVpZ2h0PSIxMiI+PHBhdGggZmlsbD0iI0ZGRiIgZD0iTTYuNSA5LjQzOWwtMy42NzQgMi4yMy45NC00LjI2LTMuMjEtMi44ODMgNC4yNTQtLjQwNEw2LjUuMTEybDEuNjkgNC4wMSA0LjI1NC40MDQtMy4yMSAyLjg4Mi45NCA0LjI2eiIvPjwvc3ZnPg==\"/></div><span class=\"Bz-crL\"><span>2,90,118 Ratings</span><span><span class=\"_8O4+-w\">&amp;</span><span>13,869 Reviews</span></span></span></div><div class=\"Xrs8Tf\"><div class=\"hl05eU\"><div class=\"Nx9bqj OQ4U3k\">₹44,999</div><div class=\"UkUFwK WMQHm1\"><span>9% off</span></div></div></div></a><ul class=\"akQAfe\"><li class=\"Ov4d6Q\">128 GB ROM</li><li class=\"Ov4d6Q\">15.49 cm (6.1 inch) Super Retina XDR Display</li><li class=\"Ov4d6Q\">12MP + 12MP | 12MP Front Camera</li></ul></div></div><div class=\"vQjHak\"><div class=\"VEuN0R\">Most Helpful Review</div><div class=\"col\"><div class=\"col EPCmJX xJgaqh\"><div class=\"row\"><div class=\"XQDdHH Ga3i8K\">5<img class=\"Rza2QY\" src=\"data:image/svg+xml;base64,PHN2ZyB4bWxucz0iaHR0cDovL3d3dy53My5vcmcvMjAwMC9zdmciIHdpZHRoPSIxMyIgaGVpZ2h0PSIxMiI+PHBhdGggZmlsbD0iI0ZGRiIgZD0iTTYuNSA5LjQzOWwtMy42NzQgMi4yMy45NC00LjI2LTMuMjEtMi44ODMgNC4yNTQtLjQwNEw2LjUuMTEybDEuNjkgNC4wMSA0LjI1NC40MDQtMy4yMSAyLjg4Mi45NCA0LjI2eiIvPjwvc3ZnPg==\"/></div><p class=\"z9E0IG\">Brilliant</p></div><div class=\"row\"><div class=\"ZmyHeo\"><div><div class=\"\">I switch to ios from android after 10 years so this review might help for migrators<br/><br/>It’s been a month using the iPhone13 and this was my experience<br/><br/>1. Desi...</div><span class=\"b4x-fr\"><span>Read full review</span></span></div></div></div><div class=\"row gHqwa8\"><div class=\"row\"><p class=\"_2NsDsF AwS1CA\">Mahim Chauhan</p><svg class=\"VjlQyz\" height=\"14\" viewbox=\"0 0 12 12\" width=\"14\" xmlns=\"http://www.w3.org/2000/svg\"><g><circle cx=\"6\" cy=\"6\" fill=\"#878787\" r=\"6\"></circle><path d=\"M3 6l2 2 4-4\" fill=\"#878787\" stroke=\"#FFF\" stroke-width=\"1.5\"></path></g></svg><p class=\"MztJPv\" id=\"review-f546ce70-be67-43bc-8740-557c784104ca\"><span>Certified Buyer</span></p><p class=\"_2NsDsF\">Jun, 2022</p></div></div></div></div></div><div class=\"vQjHak\"><div class=\"VEuN0R\">Recent Review</div><div class=\"col\"><div class=\"col EPCmJX xJgaqh\"><div class=\"row\"><div class=\"XQDdHH Ga3i8K\">5<img class=\"Rza2QY\" src=\"data:image/svg+xml;base64,PHN2ZyB4bWxucz0iaHR0cDovL3d3dy53My5vcmcvMjAwMC9zdmciIHdpZHRoPSIxMyIgaGVpZ2h0PSIxMiI+PHBhdGggZmlsbD0iI0ZGRiIgZD0iTTYuNSA5LjQzOWwtMy42NzQgMi4yMy45NC00LjI2LTMuMjEtMi44ODMgNC4yNTQtLjQwNEw2LjUuMTEybDEuNjkgNC4wMSA0LjI1NC40MDQtMy4yMSAyLjg4Mi45NCA0LjI2eiIvPjwvc3ZnPg==\"/></div><p class=\"z9E0IG\">Wonderful</p></div><div class=\"row\"><div class=\"ZmyHeo\"><div><div class=\"\">Worth fr money very good mobile</div><span class=\"wTYmpv\"><span>Read full review</span></span></div></div></div><div class=\"row gHqwa8\"><div class=\"row\"><p class=\"_2NsDsF AwS1CA\">Arun Surya </p><svg class=\"VjlQyz\" height=\"14\" viewbox=\"0 0 12 12\" width=\"14\" xmlns=\"http://www.w3.org/2000/svg\"><g><circle cx=\"6\" cy=\"6\" fill=\"#878787\" r=\"6\"></circle><path d=\"M3 6l2 2 4-4\" fill=\"#878787\" stroke=\"#FFF\" stroke-width=\"1.5\"></path></g></svg><p class=\"MztJPv\" id=\"review-930e19b8-b805-4f44-b730-52bd74bb4c76\"><span>Certified Buyer</span></p><p class=\"_2NsDsF\">4 days ago</p></div></div></div></div></div></div><div class=\"ybB1XH\"><div class=\"MohBBj\"><div class=\"Ld8TWM\"><div class=\"_4WELSP\" style=\"height:150px;width:150px\"><img alt=\"Google Pixel 9A (Iris, 256 GB)\" class=\"DByuf4\" loading=\"lazy\" src=\"https://rukminim2.flixcart.com/image/300/300/xif0q/mobile/c/3/2/-original-imahadxgjufkypv5.jpeg?q=90\"/></div></div><div class=\"_8zhCRP\"><a href=\"/google-pixel-9a-iris-256-gb/p/itmb2ce6b5391689?pid=MOBH9YMEHJC9NHHY&amp;marketplace=FLIPKART\" rel=\"noopener noreferrer\" target=\"_blank\"><div class=\"kv0tEm\"><div>3. Google Pixel 9A (Iris, 256 ...</div></div><div class=\"sRoN4i\"><div class=\"XQDdHH\">4.6<img class=\"Rza2QY\" src=\"data:image/svg+xml;base64,PHN2ZyB4bWxucz0iaHR0cDovL3d3dy53My5vcmcvMjAwMC9zdmciIHdpZHRoPSIxMyIgaGVpZ2h0PSIxMiI+PHBhdGggZmlsbD0iI0ZGRiIgZD0iTTYuNSA5LjQzOWwtMy42NzQgMi4yMy45NC00LjI2LTMuMjEtMi44ODMgNC4yNTQtLjQwNEw2LjUuMTEybDEuNjkgNC4wMSA0LjI1NC40MDQtMy4yMSAyLjg4Mi45NCA0LjI2eiIvPjwvc3ZnPg==\"/></div><span class=\"Bz-crL\"><span>486 Ratings</span><span><span class=\"_8O4+-w\">&amp;</span><span>81 Reviews</span></span></span></div><div class=\"Xrs8Tf\"><div class=\"hl05eU\"><div class=\"Nx9bqj OQ4U3k\">₹49,999</div></div></div></a><ul class=\"akQAfe\"><li class=\"Ov4d6Q\">8 GB RAM | 256 GB ROM</li><li class=\"Ov4d6Q\">15.96 cm (6.285 inch) Full HD+ Display</li><li class=\"Ov4d6Q\">48MP + 12MP | 12MP Front Camera</li></ul></div></div><div class=\"vQjHak\"><div class=\"VEuN0R\">Most Helpful Review</div><div class=\"col\"><div class=\"col EPCmJX xJgaqh\"><div class=\"row\"><div class=\"XQDdHH Ga3i8K\">5<img class=\"Rza2QY\" src=\"data:image/svg+xml;base64,PHN2ZyB4bWxucz0iaHR0cDovL3d3dy53My5vcmcvMjAwMC9zdmciIHdpZHRoPSIxMyIgaGVpZ2h0PSIxMiI+PHBhdGggZmlsbD0iI0ZGRiIgZD0iTTYuNSA5LjQzOWwtMy42NzQgMi4yMy45NC00LjI2LTMuMjEtMi44ODMgNC4yNTQtLjQwNEw2LjUuMTEybDEuNjkgNC4wMSA0LjI1NC40MDQtMy4yMSAyLjg4Mi45NCA0LjI2eiIvPjwvc3ZnPg==\"/></div><p class=\"z9E0IG\">Wonderful</p></div><div class=\"row\"><div class=\"ZmyHeo\"><div><div class=\"\">To keep it very simple, this phone can be termed as an iPhone with Android. It was mainly that the camera and  battery were too good!!</div><span class=\"wTYmpv\"><span>Read full review</span></span></div></div></div><div class=\"row gHqwa8\"><div class=\"row\"><p class=\"_2NsDsF AwS1CA\">Venkatesh Pasumarti</p><svg class=\"VjlQyz\" height=\"14\" viewbox=\"0 0 12 12\" width=\"14\" xmlns=\"http://www.w3.org/2000/svg\"><g><circle cx=\"6\" cy=\"6\" fill=\"#878787\" r=\"6\"></circle><path d=\"M3 6l2 2 4-4\" fill=\"#878787\" stroke=\"#FFF\" stroke-width=\"1.5\"></path></g></svg><p class=\"MztJPv\" id=\"review-c487a3b0-3eb4-4f17-94e0-5fd578325829\"><span>Certified Buyer</span></p><p class=\"_2NsDsF\">20 days ago</p></div></div></div></div></div><div class=\"vQjHak\"><div class=\"VEuN0R\">Recent Review</div><div class=\"col\"><div class=\"col EPCmJX xJgaqh\"><div class=\"row\"><div class=\"XQDdHH Ga3i8K\">4<img class=\"Rza2QY\" src=\"data:image/svg+xml;base64,PHN2ZyB4bWxucz0iaHR0cDovL3d3dy53My5vcmcvMjAwMC9zdmciIHdpZHRoPSIxMyIgaGVpZ2h0PSIxMiI+PHBhdGggZmlsbD0iI0ZGRiIgZD0iTTYuNSA5LjQzOWwtMy42NzQgMi4yMy45NC00LjI2LTMuMjEtMi44ODMgNC4yNTQtLjQwNEw2LjUuMTEybDEuNjkgNC4wMSA0LjI1NC40MDQtMy4yMSAyLjg4Mi45NCA0LjI2eiIvPjwvc3ZnPg==\"/></div><p class=\"z9E0IG\">Value-for-money</p></div><div class=\"row\"><div class=\"ZmyHeo\"><div><div class=\"\">Interesting phone, good dimension, well lit screen, good camera and really good functionalities. <br/>On top of that 7 years os updates.</div><span class=\"wTYmpv\"><span>Read full review</span></span></div></div></div><div class=\"row gHqwa8\"><div class=\"row\"><p class=\"_2NsDsF AwS1CA\">oops</p><svg class=\"VjlQyz\" height=\"14\" viewbox=\"0 0 12 12\" width=\"14\" xmlns=\"http://www.w3.org/2000/svg\"><g><circle cx=\"6\" cy=\"6\" fill=\"#878787\" r=\"6\"></circle><path d=\"M3 6l2 2 4-4\" fill=\"#878787\" stroke=\"#FFF\" stroke-width=\"1.5\"></path></g></svg><p class=\"MztJPv\" id=\"review-2c6f583d-245a-4d5b-b959-f11814970571\"><span>Certified Buyer</span></p><p class=\"_2NsDsF\">2 days ago</p></div></div></div></div></div></div><div class=\"ybB1XH\"><div class=\"MohBBj\"><div class=\"Ld8TWM\"><div class=\"_4WELSP\" style=\"height:150px;width:150px\"><img alt=\"SAMSUNG Galaxy S24 FE 5G (Graphite, 256 GB)\" class=\"DByuf4\" loading=\"lazy\" src=\"https://rukminim2.flixcart.com/image/300/300/xif0q/mobile/v/q/v/-original-imahbqxnzsptbypz.jpeg?q=90\"/></div></div><div class=\"_8zhCRP\"><a href=\"/samsung-galaxy-s24-fe-5g-graphite-256-gb/p/itme960199e26f23?pid=MOBH4ZG3KPRR7HWZ&amp;marketplace=FLIPKART\" rel=\"noopener noreferrer\" target=\"_blank\"><div class=\"kv0tEm\"><div>4. SAMSUNG Galaxy S24 FE 5G (G...</div></div><div class=\"sRoN4i\"><div class=\"XQDdHH\">4.5<img class=\"Rza2QY\" src=\"data:image/svg+xml;base64,PHN2ZyB4bWxucz0iaHR0cDovL3d3dy53My5vcmcvMjAwMC9zdmciIHdpZHRoPSIxMyIgaGVpZ2h0PSIxMiI+PHBhdGggZmlsbD0iI0ZGRiIgZD0iTTYuNSA5LjQzOWwtMy42NzQgMi4yMy45NC00LjI2LTMuMjEtMi44ODMgNC4yNTQtLjQwNEw2LjUuMTEybDEuNjkgNC4wMSA0LjI1NC40MDQtMy4yMSAyLjg4Mi45NCA0LjI2eiIvPjwvc3ZnPg==\"/></div><span class=\"Bz-crL\"><span>3,625 Ratings</span><span><span class=\"_8O4+-w\">&amp;</span><span>271 Reviews</span></span></span></div><div class=\"Xrs8Tf\"><div class=\"hl05eU\"><div class=\"Nx9bqj OQ4U3k\">₹40,999</div><div class=\"UkUFwK WMQHm1\"><span>37% off</span></div></div></div></a><ul class=\"akQAfe\"><li class=\"Ov4d6Q\">8 GB RAM | 256 GB ROM</li><li class=\"Ov4d6Q\">17.02 cm (6.7 inch) Full HD+ Display</li><li class=\"Ov4d6Q\">50MP + 12MP | 10MP Front Camera</li></ul></div></div><div class=\"vQjHak\"><div class=\"VEuN0R\">Most Helpful Review</div><div class=\"col\"><div class=\"col EPCmJX xJgaqh\"><div class=\"row\"><div class=\"XQDdHH Ga3i8K\">5<img class=\"Rza2QY\" src=\"data:image/svg+xml;base64,PHN2ZyB4bWxucz0iaHR0cDovL3d3dy53My5vcmcvMjAwMC9zdmciIHdpZHRoPSIxMyIgaGVpZ2h0PSIxMiI+PHBhdGggZmlsbD0iI0ZGRiIgZD0iTTYuNSA5LjQzOWwtMy42NzQgMi4yMy45NC00LjI2LTMuMjEtMi44ODMgNC4yNTQtLjQwNEw2LjUuMTEybDEuNjkgNC4wMSA0LjI1NC40MDQtMy4yMSAyLjg4Mi45NCA0LjI2eiIvPjwvc3ZnPg==\"/></div><p class=\"z9E0IG\">Perfect product!</p></div><div class=\"row\"><div class=\"ZmyHeo\"><div><div class=\"\">For this sale price now(may 2025), it is a really great deal <br/> <br/>Pros -<br/>1. SUPER SMOOTH UI (especially One UI 7)although it is a exynos processor, it is a fla...</div><span class=\"b4x-fr\"><span>Read full review</span></span></div></div></div><div class=\"row gHqwa8\"><div class=\"row\"><p class=\"_2NsDsF AwS1CA\">Manvith  Reddy</p><svg class=\"VjlQyz\" height=\"14\" viewbox=\"0 0 12 12\" width=\"14\" xmlns=\"http://www.w3.org/2000/svg\"><g><circle cx=\"6\" cy=\"6\" fill=\"#878787\" r=\"6\"></circle><path d=\"M3 6l2 2 4-4\" fill=\"#878787\" stroke=\"#FFF\" stroke-width=\"1.5\"></path></g></svg><p class=\"MztJPv\" id=\"review-8de25ece-a973-4000-bdbe-e9d48869c63a\"><span>Certified Buyer</span></p><p class=\"_2NsDsF\">4 days ago</p></div></div></div></div></div><div class=\"vQjHak\"><div class=\"VEuN0R\">Recent Review</div><div class=\"col\"><div class=\"col EPCmJX xJgaqh\"><div class=\"row\"><div class=\"XQDdHH Ga3i8K\">4<img class=\"Rza2QY\" src=\"data:image/svg+xml;base64,PHN2ZyB4bWxucz0iaHR0cDovL3d3dy53My5vcmcvMjAwMC9zdmciIHdpZHRoPSIxMyIgaGVpZ2h0PSIxMiI+PHBhdGggZmlsbD0iI0ZGRiIgZD0iTTYuNSA5LjQzOWwtMy42NzQgMi4yMy45NC00LjI2LTMuMjEtMi44ODMgNC4yNTQtLjQwNEw2LjUuMTEybDEuNjkgNC4wMSA0LjI1NC40MDQtMy4yMSAyLjg4Mi45NCA0LjI2eiIvPjwvc3ZnPg==\"/></div><p class=\"z9E0IG\">Good quality product</p></div><div class=\"row\"><div class=\"ZmyHeo\"><div><div class=\"\">Display... Moto best..... Other wise ... S24 fe best</div><span class=\"wTYmpv\"><span>Read full review</span></span></div></div></div><div class=\"row gHqwa8\"><div class=\"row\"><p class=\"_2NsDsF AwS1CA\">V V L PHANESWARA RAO BEZAVADA </p><svg class=\"VjlQyz\" height=\"14\" viewbox=\"0 0 12 12\" width=\"14\" xmlns=\"http://www.w3.org/2000/svg\"><g><circle cx=\"6\" cy=\"6\" fill=\"#878787\" r=\"6\"></circle><path d=\"M3 6l2 2 4-4\" fill=\"#878787\" stroke=\"#FFF\" stroke-width=\"1.5\"></path></g></svg><p class=\"MztJPv\" id=\"review-d219dafb-f0e9-469b-9d28-ae25e12792fa\"><span>Certified Buyer</span></p><p class=\"_2NsDsF\">2 days ago</p></div></div></div></div></div></div><div class=\"ybB1XH\"><div class=\"MohBBj\"><div class=\"Ld8TWM\"><div class=\"_4WELSP\" style=\"height:150px;width:150px\"><img alt=\"Google Pixel 8a (Obsidian, 128 GB)\" class=\"DByuf4\" loading=\"lazy\" src=\"https://rukminim2.flixcart.com/image/300/300/xif0q/mobile/e/y/n/pixel-8a-ga04432-in-google-original-imahyn3mqzdbzywg.jpeg?q=90\"/></div></div><div class=\"_8zhCRP\"><a href=\"/google-pixel-8a-obsidian-128-gb/p/itm5c791e407a330?pid=MOBGYQ2MNHZWXRNY&amp;marketplace=FLIPKART\" rel=\"noopener noreferrer\" target=\"_blank\"><div class=\"kv0tEm\"><div>5. Google Pixel 8a (Obsidian, ...</div></div><div class=\"sRoN4i\"><div class=\"XQDdHH\">4.3<img class=\"Rza2QY\" src=\"data:image/svg+xml;base64,PHN2ZyB4bWxucz0iaHR0cDovL3d3dy53My5vcmcvMjAwMC9zdmciIHdpZHRoPSIxMyIgaGVpZ2h0PSIxMiI+PHBhdGggZmlsbD0iI0ZGRiIgZD0iTTYuNSA5LjQzOWwtMy42NzQgMi4yMy45NC00LjI2LTMuMjEtMi44ODMgNC4yNTQtLjQwNEw2LjUuMTEybDEuNjkgNC4wMSA0LjI1NC40MDQtMy4yMSAyLjg4Mi45NCA0LjI2eiIvPjwvc3ZnPg==\"/></div><span class=\"Bz-crL\"><span>4,950 Ratings</span><span><span class=\"_8O4+-w\">&amp;</span><span>423 Reviews</span></span></span></div><div class=\"Xrs8Tf\"><div class=\"hl05eU\"><div class=\"Nx9bqj OQ4U3k\">₹37,999</div><div class=\"UkUFwK WMQHm1\"><span>28% off</span></div></div></div></a><ul class=\"akQAfe\"><li class=\"Ov4d6Q\">8 GB RAM | 128 GB ROM</li><li class=\"Ov4d6Q\">15.49 cm (6.1 inch) Full HD+ Display</li><li class=\"Ov4d6Q\">64MP + 13MP | 13MP Front Camera</li></ul></div></div><div class=\"vQjHak\"><div class=\"VEuN0R\">Most Helpful Review</div><div class=\"col\"><div class=\"col EPCmJX xJgaqh\"><div class=\"row\"><div class=\"XQDdHH Ga3i8K\">5<img class=\"Rza2QY\" src=\"data:image/svg+xml;base64,PHN2ZyB4bWxucz0iaHR0cDovL3d3dy53My5vcmcvMjAwMC9zdmciIHdpZHRoPSIxMyIgaGVpZ2h0PSIxMiI+PHBhdGggZmlsbD0iI0ZGRiIgZD0iTTYuNSA5LjQzOWwtMy42NzQgMi4yMy45NC00LjI2LTMuMjEtMi44ODMgNC4yNTQtLjQwNEw2LjUuMTEybDEuNjkgNC4wMSA0LjI1NC40MDQtMy4yMSAyLjg4Mi45NCA0LjI2eiIvPjwvc3ZnPg==\"/></div><p class=\"z9E0IG\">Excellent</p></div><div class=\"row\"><div class=\"ZmyHeo\"><div><div class=\"\">Great phone. Love it. Everything is fine except for the exchange thing. Exchange guys, taking extra cash by just causing unnecessary trouble. They don't appr...</div><span class=\"b4x-fr\"><span>Read full review</span></span></div></div></div><div class=\"row gHqwa8\"><div class=\"row\"><p class=\"_2NsDsF AwS1CA\">abhay</p><svg class=\"VjlQyz\" height=\"14\" viewbox=\"0 0 12 12\" width=\"14\" xmlns=\"http://www.w3.org/2000/svg\"><g><circle cx=\"6\" cy=\"6\" fill=\"#878787\" r=\"6\"></circle><path d=\"M3 6l2 2 4-4\" fill=\"#878787\" stroke=\"#FFF\" stroke-width=\"1.5\"></path></g></svg><p class=\"MztJPv\" id=\"review-4f0f7942-1018-4adf-afaf-9968816b8bab\"><span>Certified Buyer</span></p><p class=\"_2NsDsF\">9 months ago</p></div></div></div></div></div><div class=\"vQjHak\"><div class=\"VEuN0R\">Recent Review</div><div class=\"col\"><div class=\"col EPCmJX xJgaqh\"><div class=\"row\"><div class=\"XQDdHH Ga3i8K\">5<img class=\"Rza2QY\" src=\"data:image/svg+xml;base64,PHN2ZyB4bWxucz0iaHR0cDovL3d3dy53My5vcmcvMjAwMC9zdmciIHdpZHRoPSIxMyIgaGVpZ2h0PSIxMiI+PHBhdGggZmlsbD0iI0ZGRiIgZD0iTTYuNSA5LjQzOWwtMy42NzQgMi4yMy45NC00LjI2LTMuMjEtMi44ODMgNC4yNTQtLjQwNEw2LjUuMTEybDEuNjkgNC4wMSA0LjI1NC40MDQtMy4yMSAyLjg4Mi45NCA0LjI2eiIvPjwvc3ZnPg==\"/></div><p class=\"z9E0IG\">Brilliant</p></div><div class=\"row\"><div class=\"ZmyHeo\"><div><div class=\"\">Updated from pixel 3a xl to pixel 8a</div><span class=\"wTYmpv\"><span>Read full review</span></span></div></div></div><div class=\"row gHqwa8\"><div class=\"row\"><p class=\"_2NsDsF AwS1CA\">Vihang Trivedi</p><svg class=\"VjlQyz\" height=\"14\" viewbox=\"0 0 12 12\" width=\"14\" xmlns=\"http://www.w3.org/2000/svg\"><g><circle cx=\"6\" cy=\"6\" fill=\"#878787\" r=\"6\"></circle><path d=\"M3 6l2 2 4-4\" fill=\"#878787\" stroke=\"#FFF\" stroke-width=\"1.5\"></path></g></svg><p class=\"MztJPv\" id=\"review-db05ca28-bb50-471c-9abf-c2aa1c122248\"><span>Certified Buyer</span></p><p class=\"_2NsDsF\">2 days ago</p></div></div></div></div></div></div></div></div><div class=\"cPHDOP col-12-12\"></div></div><footer class=\"+NQyZq\"><div class=\"xLsVdV\"><div class=\"row\"><div class=\"col gu12 QVgdtd\"></div></div><div><div class=\"_8K2S+t row\"><div class=\"bowO0w\"><div class=\"AZc3lB\">ABOUT</div><a class=\"bXmsT+\" href=\"/helpcentre?otracker=footer_navlinks\">Contact Us</a><a class=\"bXmsT+\" href=\"https://corporate.flipkart.net/corporate-home\">About Us</a><a class=\"bXmsT+\" href=\"https://www.flipkartcareers.com/?otracker=footer_navlinks\">Careers</a><a class=\"bXmsT+\" href=\"http://stories.flipkart.com/?otracker=footer_navlinks\">Flipkart Stories</a><a class=\"bXmsT+\" href=\"http://stories.flipkart.com/category/top-stories/news/\">Press</a><a class=\"bXmsT+\" href=\"/corporate-information\">Corporate Information</a></div><div class=\"bowO0w\"><div class=\"AZc3lB\">GROUP COMPANIES</div><a class=\"bXmsT+\" href=\"https://www.myntra.com/\" rel=\"noopener noreferrer\" target=\"_blank\" title=\"Myntra\">Myntra</a><a class=\"bXmsT+\" href=\"https://www.cleartrip.com/\" rel=\"noopener noreferrer\" target=\"_blank\" title=\"Cleartrip: #1 Site for Booking Flights Tickets, Buses &amp; Hotels Online\">Cleartrip</a><a class=\"bXmsT+\" href=\"https://www.shopsy.in/\" rel=\"noopener noreferrer\" target=\"_blank\" title=\"Shopsy\">Shopsy</a></div><div class=\"bowO0w\"><div class=\"AZc3lB\">HELP</div><a class=\"bXmsT+\" href=\"/pages/payments\">Payments</a><a class=\"bXmsT+\" href=\"/pages/shipping\">Shipping</a><a class=\"bXmsT+\" href=\"/helpcentre?catalog=55c9c6edb000002e002c1701&amp;view=CATALOG\">Cancellation &amp; Returns</a><a class=\"bXmsT+\" href=\"/helpcentre?catalog=55c9c8e2b0000023002c1702&amp;view=CATALOG\">FAQ</a></div><div class=\"bowO0w\"><div class=\"AZc3lB\">CONSUMER POLICY</div><a class=\"bXmsT+\" href=\"/pages/returnpolicy?otracker=footer_navlinks\">Cancellation &amp; Returns</a><a class=\"bXmsT+\" href=\"/pages/terms?otracker=footer_navlinks\">Terms Of Use</a><a class=\"bXmsT+\" href=\"/pages/paymentsecurity?otracker=footer_navlinks\">Security</a><a class=\"bXmsT+\" href=\"/pages/privacypolicy?otracker=footer_navlinks\">Privacy</a><a class=\"bXmsT+\" href=\"/sitemap?otracker=footer_navlinks\">Sitemap</a><a class=\"bXmsT+\" href=\"/pages/grievance-redressal-mechanism?otracker=footer_navlinks\">Grievance Redressal</a><a class=\"bXmsT+\" href=\"/pages/ewaste-compliance-tnc?otracker=footer_navlinks\">EPR Compliance</a></div><div class=\"bowO0w address\"><div class=\"_8W+7ID\"><div class=\"AZc3lB\"><span>Mail Us:</span></div><div class=\"iE4xEP\"><div class=\"aL22KS\"><div class=\"KalC6f iE4xEP\"><p>Flipkart Internet Private Limited, </p>\n",
      "<p> Buildings Alyssa, Begonia &amp; </p>\n",
      "<p> Clove Embassy Tech Village, </p>\n",
      "<p> Outer Ring Road, Devarabeesanahalli Village, </p>\n",
      "<p> Bengaluru, 560103, </p>\n",
      "<p> Karnataka, India</p>\n",
      "</div></div></div><div class=\"AZc3lB\">Social</div><div class=\"mK8LcN\"><span class=\"RbqUpy\"><a href=\"https://www.facebook.com/flipkart\"><img height=\"24\" src=\"data:image/svg+xml;base64,PHN2ZyB3aWR0aD0iMjUiIGhlaWdodD0iMjQiIHZpZXdCb3g9IjAgMCAyNSAyNCIgZmlsbD0ibm9uZSIgeG1sbnM9Imh0dHA6Ly93d3cudzMub3JnLzIwMDAvc3ZnIj4KPHBhdGggZD0iTTEyLjkzMzEgMjFDMTcuOTAzNyAyMSAyMS45MzMxIDE2Ljk3MDYgMjEuOTMzMSAxMkMyMS45MzMxIDcuMDI5NDQgMTcuOTAzNyAzIDEyLjkzMzEgM0M3Ljk2MjU0IDMgMy45MzMxMSA3LjAyOTQ0IDMuOTMzMTEgMTJDMy45MzMxMSAxNi45NzA2IDcuOTYyNTQgMjEgMTIuOTMzMSAyMVoiIHN0cm9rZT0id2hpdGUiIHN0cm9rZS13aWR0aD0iMS41IiBzdHJva2UtbGluZWNhcD0icm91bmQiIHN0cm9rZS1saW5lam9pbj0icm91bmQiLz4KPHBhdGggZD0iTTE2LjY4MzEgOC4yNUgxNS4xODMxQzE0LjU4NjQgOC4yNSAxNC4wMTQxIDguNDg3MDUgMTMuNTkyMSA4LjkwOTAxQzEzLjE3MDIgOS4zMzA5NyAxMi45MzMxIDkuOTAzMjYgMTIuOTMzMSAxMC41VjIxIiBzdHJva2U9IndoaXRlIiBzdHJva2Utd2lkdGg9IjEuNSIgc3Ryb2tlLWxpbmVjYXA9InJvdW5kIiBzdHJva2UtbGluZWpvaW49InJvdW5kIi8+CjxwYXRoIGQ9Ik05LjkzMzExIDEzLjVIMTUuOTMzMSIgc3Ryb2tlPSJ3aGl0ZSIgc3Ryb2tlLXdpZHRoPSIxLjUiIHN0cm9rZS1saW5lY2FwPSJyb3VuZCIgc3Ryb2tlLWxpbmVqb2luPSJyb3VuZCIvPgo8L3N2Zz4K\" width=\"24\"/></a></span><span class=\"RbqUpy\"><a href=\"https://www.twitter.com/flipkart\"><img height=\"24\" src=\"data:image/svg+xml;base64,PHN2ZyB3aWR0aD0iMjQiIGhlaWdodD0iMjQiIHZpZXdCb3g9IjAgMCAyNCAyNCIgZmlsbD0ibm9uZSIgeG1sbnM9Imh0dHA6Ly93d3cudzMub3JnLzIwMDAvc3ZnIj4KPGcgY2xpcC1wYXRoPSJ1cmwoI2NsaXAwXzE4M18yMCkiPgo8cGF0aCBkPSJNMTMuNTQzNiAxMC42MTc5TDIwLjA5NzEgM0gxOC41NDQxTDEyLjg1MzcgOS42MTQ0OEw4LjMwODg3IDNIMy4wNjY4OUw5LjkzOTY0IDEzLjAwMjNMMy4wNjY4OSAyMC45OTA4SDQuNjE5OTRMMTAuNjI5MSAxNC4wMDU2TDE1LjQyODggMjAuOTkwOEgyMC42NzA4TDEzLjU0MzIgMTAuNjE3OUgxMy41NDM2Wk0xMS40MTY1IDEzLjA5MDRMMTAuNzIwMiAxMi4wOTQ0TDUuMTc5NTMgNC4xNjkxMUg3LjU2NDkxTDEyLjAzNjMgMTAuNTY1MUwxMi43MzI2IDExLjU2MTFMMTguNTQ0OCAxOS44NzQ4SDE2LjE1OTVMMTEuNDE2NSAxMy4wOTA4VjEzLjA5MDRaIiBmaWxsPSJ3aGl0ZSIvPgo8L2c+CjxkZWZzPgo8Y2xpcFBhdGggaWQ9ImNsaXAwXzE4M18yMCI+CjxyZWN0IHg9IjMuMDY2ODkiIHk9IjMiIHdpZHRoPSIxNy42MDM5IiBoZWlnaHQ9IjE4IiByeD0iMC4yIiBmaWxsPSJ3aGl0ZSIvPgo8L2NsaXBQYXRoPgo8L2RlZnM+Cjwvc3ZnPgo=\" width=\"24\"/></a></span><span class=\"RbqUpy\"><a href=\"https://www.youtube.com/flipkart\"><img height=\"24\" src=\"//static-assets-web.flixcart.com/fk-p-linchpin-web/fk-cp-zion/img/YoutubeLogo_958b78.svg\" width=\"24\"/></a></span><span class=\"RbqUpy\"><a href=\"https://www.instagram.com/flipkart\"><img height=\"20\" src=\"//static-assets-web.flixcart.com/fk-p-linchpin-web/fk-cp-zion/img/InstagramLogo_854a2c.svg\" width=\"20\"/></a></span></div></div></div><div class=\"bowO0w address\"><div class=\"QYRYF-\"><div class=\"AZc3lB\"><span>Registered Office Address:</span></div><div class=\"iE4xEP\"><div class=\"aL22KS\"><div class=\"KalC6f iE4xEP\"><p>Flipkart Internet Private Limited, </p>\n",
      "<p> Buildings Alyssa, Begonia &amp; </p>\n",
      "<p> Clove Embassy Tech Village, </p>\n",
      "<p> Outer Ring Road, Devarabeesanahalli Village, </p>\n",
      "<p> Bengaluru, 560103, </p>\n",
      "<p> Karnataka, India </p>\n",
      "<p> CIN : U51109KA2012PTC066107 </p>\n",
      "<p> Telephone: <a href=\"tel:044-45614700\">044-45614700</a> / <a href=\"tel:044-67415800\">044-67415800</a></p>\n",
      "</div></div></div></div></div></div><div><div class=\"pXtEV2\"><div><img src=\"data:image/svg+xml;base64,PHN2ZyB4bWxucz0iaHR0cDovL3d3dy53My5vcmcvMjAwMC9zdmciIHdpZHRoPSIxNiIgaGVpZ2h0PSIxNSIgdmlld0JveD0iMCAwIDE2IDE1Ij4KICAgIDxkZWZzPgogICAgICAgIDxsaW5lYXJHcmFkaWVudCBpZD0iYSIgeDE9IjAlIiB4Mj0iODYuODc2JSIgeTE9IjAlIiB5Mj0iODAuMjAyJSI+CiAgICAgICAgICAgIDxzdG9wIG9mZnNldD0iMCUiIHN0b3AtY29sb3I9IiNGRkQ4MDAiLz4KICAgICAgICAgICAgPHN0b3Agb2Zmc2V0PSIxMDAlIiBzdG9wLWNvbG9yPSIjRkZBRjAwIi8+CiAgICAgICAgPC9saW5lYXJHcmFkaWVudD4KICAgIDwvZGVmcz4KICAgIDxnIGZpbGw9Im5vbmUiIGZpbGwtcnVsZT0iZXZlbm9kZCI+CiAgICAgICAgPHBhdGggZD0iTS0yLTJoMjB2MjBILTJ6Ii8+CiAgICAgICAgPHBhdGggZmlsbD0idXJsKCNhKSIgZmlsbC1ydWxlPSJub256ZXJvIiBkPSJNMTUuOTMgNS42MTRoLTIuOTQ4VjQuMTRjMC0uODE4LS42NTUtMS40NzMtMS40NzMtMS40NzNIOC41NmMtLjgxNyAwLTEuNDczLjY1NS0xLjQ3MyAxLjQ3M3YxLjQ3NEg0LjE0Yy0uODE4IDAtMS40NjYuNjU2LTEuNDY2IDEuNDc0bC0uMDA3IDguMTA1YzAgLjgxOC42NTUgMS40NzQgMS40NzMgMS40NzRoMTEuNzljLjgxOCAwIDEuNDc0LS42NTYgMS40NzQtMS40NzRWNy4wODhjMC0uODE4LS42NTYtMS40NzQtMS40NzQtMS40NzR6bS00LjQyMSAwSDguNTZWNC4xNGgyLjk0OHYxLjQ3NHoiIHRyYW5zZm9ybT0idHJhbnNsYXRlKC0yIC0yKSIvPgogICAgPC9nPgo8L3N2Zz4K\"/><a href=\"https://seller.flipkart.com/?utm_source=fkwebsite&amp;utm_medium=websitedirect\"><span class=\"XqVBP0\">Become a Seller</span></a></div><div><img src=\"data:image/svg+xml;base64,PHN2ZyB4bWxucz0iaHR0cDovL3d3dy53My5vcmcvMjAwMC9zdmciIHdpZHRoPSIxNSIgaGVpZ2h0PSIxNSIgdmlld0JveD0iMCAwIDE1IDE1Ij4KICAgIDxkZWZzPgogICAgICAgIDxsaW5lYXJHcmFkaWVudCBpZD0iYSIgeDE9IjAlIiB4Mj0iODYuODc2JSIgeTE9IjAlIiB5Mj0iODAuMjAyJSI+CiAgICAgICAgICAgIDxzdG9wIG9mZnNldD0iMCUiIHN0b3AtY29sb3I9IiNGRkQ4MDAiLz4KICAgICAgICAgICAgPHN0b3Agb2Zmc2V0PSIxMDAlIiBzdG9wLWNvbG9yPSIjRkZBRjAwIi8+CiAgICAgICAgPC9saW5lYXJHcmFkaWVudD4KICAgIDwvZGVmcz4KICAgIDxnIGZpbGw9Im5vbmUiIGZpbGwtcnVsZT0iZXZlbm9kZCI+CiAgICAgICAgPHBhdGggZD0iTS0zLTNoMjB2MjBILTN6Ii8+CiAgICAgICAgPHBhdGggZmlsbD0idXJsKCNhKSIgZmlsbC1ydWxlPSJub256ZXJvIiBkPSJNMTAuNDkyIDNDNi4zNTMgMyAzIDYuMzYgMyAxMC41YzAgNC4xNCAzLjM1MyA3LjUgNy40OTIgNy41QzE0LjY0IDE4IDE4IDE0LjY0IDE4IDEwLjUgMTggNi4zNiAxNC42NCAzIDEwLjQ5MiAzem0zLjE4IDEyTDEwLjUgMTMuMDg4IDcuMzI3IDE1bC44NC0zLjYwN0w1LjM3IDguOTdsMy42OS0uMzE1TDEwLjUgNS4yNWwxLjQ0IDMuMzk4IDMuNjkuMzE1LTIuNzk4IDIuNDIyLjg0IDMuNjE1eiIgdHJhbnNmb3JtPSJ0cmFuc2xhdGUoLTMgLTMpIi8+CiAgICA8L2c+Cjwvc3ZnPgo=\"/><a href=\"https://brands.flipkart.com\"><span class=\"XqVBP0\">Advertise</span></a></div><div><img src=\"data:image/svg+xml;base64,PHN2ZyB4bWxucz0iaHR0cDovL3d3dy53My5vcmcvMjAwMC9zdmciIHdpZHRoPSIxOCIgaGVpZ2h0PSIxNyIgdmlld0JveD0iMCAwIDE4IDE3Ij4KICAgIDxkZWZzPgogICAgICAgIDxsaW5lYXJHcmFkaWVudCBpZD0iYSIgeDE9IjAlIiB4Mj0iODYuODc2JSIgeTE9IjAlIiB5Mj0iODAuMjAyJSI+CiAgICAgICAgICAgIDxzdG9wIG9mZnNldD0iMCUiIHN0b3AtY29sb3I9IiNGRkQ4MDAiLz4KICAgICAgICAgICAgPHN0b3Agb2Zmc2V0PSIxMDAlIiBzdG9wLWNvbG9yPSIjRkZBRjAwIi8+CiAgICAgICAgPC9saW5lYXJHcmFkaWVudD4KICAgIDwvZGVmcz4KICAgIDxnIGZpbGw9Im5vbmUiIGZpbGwtcnVsZT0iZXZlbm9kZCI+CiAgICAgICAgPHBhdGggZD0iTS0xLTFoMjB2MjBILTF6Ii8+CiAgICAgICAgPHBhdGggZmlsbD0idXJsKCNhKSIgZmlsbC1ydWxlPSJub256ZXJvIiBkPSJNMTYuNjY3IDVIMTQuODVjLjA5Mi0uMjU4LjE1LS41NDIuMTUtLjgzM2EyLjQ5NyAyLjQ5NyAwIDAgMC00LjU4My0xLjM3NUwxMCAzLjM1bC0uNDE3LS41NjdBMi41MSAyLjUxIDAgMCAwIDcuNSAxLjY2N2EyLjQ5NyAyLjQ5NyAwIDAgMC0yLjUgMi41YzAgLjI5MS4wNTguNTc1LjE1LjgzM0gzLjMzM2MtLjkyNSAwLTEuNjU4Ljc0Mi0xLjY1OCAxLjY2N2wtLjAwOCA5LjE2NkExLjY2IDEuNjYgMCAwIDAgMy4zMzMgMTcuNWgxMy4zMzRhMS42NiAxLjY2IDAgMCAwIDEuNjY2LTEuNjY3VjYuNjY3QTEuNjYgMS42NiAwIDAgMCAxNi42NjcgNXptMCA2LjY2N0gzLjMzM3YtNWg0LjIzNEw1LjgzMyA5LjAyNWwxLjM1Ljk3NSAxLjk4NC0yLjdMMTAgNi4xNjdsLjgzMyAxLjEzMyAxLjk4NCAyLjcgMS4zNS0uOTc1LTEuNzM0LTIuMzU4aDQuMjM0djV6IiB0cmFuc2Zvcm09InRyYW5zbGF0ZSgtMSAtMSkiLz4KICAgIDwvZz4KPC9zdmc+Cg==\"/><a href=\"/the-gift-card-store?otracker=footer_navlinks\"><span class=\"XqVBP0\">Gift Cards</span></a></div><div><img src=\"data:image/svg+xml;base64,PHN2ZyB4bWxucz0iaHR0cDovL3d3dy53My5vcmcvMjAwMC9zdmciIHdpZHRoPSIxNSIgaGVpZ2h0PSIxNSIgdmlld0JveD0iMCAwIDE1IDE1Ij4KICAgIDxkZWZzPgogICAgICAgIDxsaW5lYXJHcmFkaWVudCBpZD0iYSIgeDE9IjAlIiB4Mj0iODYuODc2JSIgeTE9IjAlIiB5Mj0iODAuMjAyJSI+CiAgICAgICAgICAgIDxzdG9wIG9mZnNldD0iMCUiIHN0b3AtY29sb3I9IiNGRkQ4MDAiLz4KICAgICAgICAgICAgPHN0b3Agb2Zmc2V0PSIxMDAlIiBzdG9wLWNvbG9yPSIjRkZBRjAwIi8+CiAgICAgICAgPC9saW5lYXJHcmFkaWVudD4KICAgIDwvZGVmcz4KICAgIDxnIGZpbGw9Im5vbmUiIGZpbGwtcnVsZT0iZXZlbm9kZCI+CiAgICAgICAgPHBhdGggZD0iTS0yLTNoMjB2MjBILTJ6Ii8+CiAgICAgICAgPHBhdGggZmlsbD0idXJsKCNhKSIgZmlsbC1ydWxlPSJub256ZXJvIiBkPSJNOS41IDNDNS4zNiAzIDIgNi4zNiAyIDEwLjUgMiAxNC42NCA1LjM2IDE4IDkuNSAxOGM0LjE0IDAgNy41LTMuMzYgNy41LTcuNUMxNyA2LjM2IDEzLjY0IDMgOS41IDN6bS43NSAxMi43NWgtMS41di0xLjVoMS41djEuNXptMS41NTMtNS44MTNsLS42NzYuNjljLS41NC41NDgtLjg3Ny45OTgtLjg3NyAyLjEyM2gtMS41di0uMzc1YzAtLjgyNS4zMzgtMS41NzUuODc3LTIuMTIzbC45My0uOTQ1Yy4yNzgtLjI3LjQ0My0uNjQ1LjQ0My0xLjA1NyAwLS44MjUtLjY3NS0xLjUtMS41LTEuNVM4IDcuNDI1IDggOC4yNUg2LjVhMyAzIDAgMSAxIDYgMGMwIC42Ni0uMjcgMS4yNi0uNjk3IDEuNjg4eiIgdHJhbnNmb3JtPSJ0cmFuc2xhdGUoLTIgLTMpIi8+CiAgICA8L2c+Cjwvc3ZnPgo=\"/><a href=\"/helpcentre?otracker=footer_navlinks\"><span class=\"XqVBP0\">Help Center</span></a></div><span class=\"T8+RtG\">© 2007-<!-- -->2025<!-- --> <span>Flipkart.com</span></span><img src=\"//static-assets-web.flixcart.com/fk-p-linchpin-web/fk-cp-zion/img/payment-method_69e7ec.svg\"/></div></div></div></div></footer><div class=\"XiSiPK AqhsUa\"><div class=\"sRIueJ\"><svg class=\"jY-KQI\" height=\"27\" viewbox=\"0 0 16 27\" width=\"16\" xmlns=\"http://www.w3.org/2000/svg\"><path class=\"laqJUS\" d=\"M16 23.207L6.11 13.161 16 3.093 12.955 0 0 13.161l12.955 13.161z\" fill=\"#fff\"></path></svg><span>Back to top</span></div></div></div></div> <script id=\"jsonLD\" nonce=\"18171642207114650869\" type=\"application/ld+json\">{\"@context\":\"http://schema.org\",\"@type\":\"ItemList\",\"itemListElement\":[{\"@type\":\"ListItem\",\"position\":1,\"url\":\"https://www.flipkart.com/samsung-galaxy-s24-5g-marble-gray-128-gb/p/itmd5309d6e0a151?pid=MOBHYJ6QZP2UA4X9&lid=LSTMOBHYJ6QZP2UA4X9WSTBPZ&marketplace=FLIPKART&q=mobiles+under+50000+rupees&store=tyy%2F4io\",\"name\":\"SAMSUNG Galaxy S24 5G (Marble Gray, 128 GB)\"},{\"@type\":\"ListItem\",\"position\":2,\"url\":\"https://www.flipkart.com/samsung-galaxy-s24-fe-5g-blue-256-gb/p/itme960199e26f23?pid=MOBH4ZG3E9SB6WDQ&lid=LSTMOBH4ZG3E9SB6WDQVVLSZR&marketplace=FLIPKART&q=mobiles+under+50000+rupees&store=tyy%2F4io\",\"name\":\"SAMSUNG Galaxy S24 FE 5G (Blue, 256 GB)\"},{\"@type\":\"ListItem\",\"position\":3,\"url\":\"https://www.flipkart.com/samsung-galaxy-s24-fe-5g-graphite-128-gb/p/itme960199e26f23?pid=MOBH4ZG33EBNZKS7&lid=LSTMOBH4ZG33EBNZKS751CITE&marketplace=FLIPKART&q=mobiles+under+50000+rupees&store=tyy%2F4io&spotlightTagId=default_BestsellerId_tyy%2F4io\",\"name\":\"SAMSUNG Galaxy S24 FE 5G (Graphite, 128 GB)\"},{\"@type\":\"ListItem\",\"position\":4,\"url\":\"https://www.flipkart.com/samsung-galaxy-s24-fe-5g-mint-256-gb/p/itme960199e26f23?pid=MOBH4ZG3JACNJMZC&lid=LSTMOBH4ZG3JACNJMZCFREL85&marketplace=FLIPKART&q=mobiles+under+50000+rupees&store=tyy%2F4io\",\"name\":\"SAMSUNG Galaxy S24 FE 5G (Mint, 256 GB)\"},{\"@type\":\"ListItem\",\"position\":5,\"url\":\"https://www.flipkart.com/samsung-galaxy-s24-fe-5g-mint-128-gb/p/itme960199e26f23?pid=MOBH4ZG3TSXHKXH2&lid=LSTMOBH4ZG3TSXHKXH2BH0BQS&marketplace=FLIPKART&q=mobiles+under+50000+rupees&store=tyy%2F4io\",\"name\":\"SAMSUNG Galaxy S24 FE 5G (Mint, 128 GB)\"},{\"@type\":\"ListItem\",\"position\":6,\"url\":\"https://www.flipkart.com/samsung-galaxy-s24-fe-5g-blue-128-gb/p/itme960199e26f23?pid=MOBH4ZG3Z5NCBW2H&lid=LSTMOBH4ZG3Z5NCBW2HWQMO2K&marketplace=FLIPKART&q=mobiles+under+50000+rupees&store=tyy%2F4io&spotlightTagId=default_BestsellerId_tyy%2F4io\",\"name\":\"SAMSUNG Galaxy S24 FE 5G (Blue, 128 GB)\"},{\"@type\":\"ListItem\",\"position\":7,\"url\":\"https://www.flipkart.com/samsung-galaxy-s24-fe-5g-graphite-256-gb/p/itme960199e26f23?pid=MOBH4ZG3KPRR7HWZ&lid=LSTMOBH4ZG3KPRR7HWZWYHPPG&marketplace=FLIPKART&q=mobiles+under+50000+rupees&store=tyy%2F4io\",\"name\":\"SAMSUNG Galaxy S24 FE 5G (Graphite, 256 GB)\"},{\"@type\":\"ListItem\",\"position\":8,\"url\":\"https://www.flipkart.com/samsung-galaxy-s24-5g-onyx-black-128-gb/p/itmc8add40b88912?pid=MOBHYJ6QFUNQYFDH&lid=LSTMOBHYJ6QFUNQYFDHVZACEH&marketplace=FLIPKART&q=mobiles+under+50000+rupees&store=tyy%2F4io\",\"name\":\"SAMSUNG Galaxy S24 5G (Onyx Black, 128 GB)\"},{\"@type\":\"ListItem\",\"position\":9,\"url\":\"https://www.flipkart.com/samsung-galaxy-s24-5g-onyx-black-256-gb/p/itm0456c01739016?pid=MOBGX2F3ZUBMWBGP&lid=LSTMOBGX2F3ZUBMWBGPME7BYW&marketplace=FLIPKART&q=mobiles+under+50000+rupees&store=tyy%2F4io\",\"name\":\"SAMSUNG Galaxy S24 5G (Onyx Black, 256 GB)\"},{\"@type\":\"ListItem\",\"position\":10,\"url\":\"https://www.flipkart.com/apple-iphone-13-midnight-128-gb/p/itmca361aab1c5b0?pid=MOBG6VF5Q82T3XRS&lid=LSTMOBG6VF5Q82T3XRSOXJLM9&marketplace=FLIPKART&q=mobiles+under+50000+rupees&store=tyy%2F4io&spotlightTagId=default_BestsellerId_tyy%2F4io\",\"name\":\"Apple iPhone 13 (Midnight, 128 GB)\"}]}</script> <script id=\"jsonLD\" nonce=\"18171642207114650869\" type=\"application/ld+json\">{}</script><script nonce=\"18171642207114650869\" type=\"application/ld+json\">{\n",
      "    \"@context\": \"http://schema.org\",\n",
      "    \"@type\": \"WebSite\",\n",
      "    \"url\": \"http://www.flipkart.com/\",\n",
      "    \"potentialAction\": [{\n",
      "        \"@type\": \"SearchAction\",\n",
      "        \"target\": \"http://www.flipkart.com/search?q={search_term_string}\",\n",
      "        \"query-input\": \"required name=search_term_string\"\n",
      "        },{\n",
      "        \"@type\": \"SearchAction\",\n",
      "        \"target\": \"android-app://com.flipkart.android/flipkart/de_sq_seg_-search.flipkart.com-_{search_term_string}\",\n",
      "        \"query-input\": \"required name=search_term_string\"\n",
      "    }]\n",
      "}</script><script id=\"is_script\" nonce=\"18171642207114650869\">window.__INITIAL_STATE__ = {};</script> <link data-chunk=\"NavMenu\" href=\"//static-assets-web.flixcart.com/fk-p-linchpin-web/fk-cp-zion/css/NavMenu.chunk.9995bd.css\" rel=\"stylesheet\"/>\n",
      "<link data-chunk=\"SearchFeedback\" href=\"//static-assets-web.flixcart.com/fk-p-linchpin-web/fk-cp-zion/css/SearchFeedback.chunk.244b23.css\" rel=\"stylesheet\"/> <script id=\"__LOADABLE_REQUIRED_CHUNKS__\" type=\"application/json\">[132,208]</script><script id=\"__LOADABLE_REQUIRED_CHUNKS___ext\" type=\"application/json\">{\"namedChunks\":[\"NavMenu\",\"SearchFeedback\"]}</script>\n",
      "<script async=\"\" data-chunk=\"NavMenu\" src=\"//static-assets-web.flixcart.com/fk-p-linchpin-web/fk-cp-zion/js/NavMenu.chunk.4f02c48b.js\"></script>\n",
      "<script async=\"\" data-chunk=\"SearchFeedback\" src=\"//static-assets-web.flixcart.com/fk-p-linchpin-web/fk-cp-zion/js/SearchFeedback.chunk.067aef7e.js\"></script><script nonce=\"18171642207114650869\">window.omniture={tpv:[],tl:[]};window.omniture.trackPageView=function(){window.omniture.tpv.push(arguments)};window.omniture.trackLink=function(){window.omniture.tl.push(arguments)}\n",
      "\n",
      "    if(window.location.host === 'www.flipkart.com' || /\\.store\\.flipkart\\.com/i.test(window.location.host)){\n",
      "        window.s_account = \"flipkart-prd\"; //omniture account id\n",
      "    }else{\n",
      "        window.s_account = \"flipkart-prd-test\";\n",
      "    }\n",
      "    window.s_isDesktop = true;</script><script nonce=\"18171642207114650869\">function isMobile(){\n",
      "\t\tif (!!(navigator.userAgentData && navigator.userAgentData.mobile) || navigator.userAgent.indexOf(\"Mobile\") !== -1){\n",
      "\t\t\treturn true;\n",
      "\t\t}\n",
      "\t\telse {\n",
      "\t\t\treturn false;\n",
      "\t\t}\n",
      "\t}\n",
      "\n",
      "\tif ('serviceWorker' in navigator && !isMobile()) {\n",
      "\t\tnavigator.serviceWorker.register('/sw.js').then(function(registration) {\n",
      "\t\t\tconsole.log('ServiceWorker registration successful with scope: ', registration.scope);\n",
      "\t\t\tnavigator.onLine && navigator.serviceWorker.controller && navigator.serviceWorker.controller.postMessage('BANDWIDTH_COMPUTE');\n",
      "\t\t\tnavigator.serviceWorker.addEventListener('message', function (event) {\n",
      "\t\t\t\ttry {\n",
      "\t\t\t\t\tconst bandwidthData = JSON.parse(event.data);\n",
      "\t\t\t\t\tif (bandwidthData && bandwidthData.data) {\n",
      "\t\t\t\t\t\twindow.bandwidth = bandwidthData.data.downlink + '_' + bandwidthData.data.computeMethod + '_' + bandwidthData.data.effectiveType + '_' + bandwidthData.data.type;\n",
      "\t\t\t\t\t}\n",
      "\t\t\t\t}catch(err) {\n",
      "\t\t\t\t\tconsole.error('JSON.parse failed:', err);\n",
      "\t\t\t\t}\n",
      "\t\t\t});\n",
      "\t\t})\n",
      "\t\t.catch(function(err) {\n",
      "\t\t\tconsole.log('%c ServiceWorker registration failed: ', \"color:red;\", err);\n",
      "\t\t});\n",
      "\t} else if('serviceWorker' in navigator && isMobile()){\n",
      "        navigator.serviceWorker.getRegistration().then(function(registration) {\n",
      "            var serviceWorkerUnregistered=false;\n",
      "            if(registration) {\n",
      "                registration.unregister();\n",
      "                serviceWorkerUnregistered=true;\n",
      "            }\n",
      "            serviceWorkerUnregistered && window.location.reload();\n",
      "        });\n",
      "    }</script> <script async=\"\" defer=\"defer\" id=\"omni_script\" nonce=\"18171642207114650869\" src=\"///www/linchpin/batman-returns/omni/omni16.js\"></script> </body></html>\n"
     ]
    }
   ],
   "source": [
    "soup = BeautifulSoup(r.text, \"lxml\")\n",
    "print(soup)"
   ]
  },
  {
   "cell_type": "code",
   "execution_count": 11,
   "id": "e79172b8",
   "metadata": {},
   "outputs": [
    {
     "data": {
      "text/plain": [
       "'/search?q=mobiles+under+50000+rupees&sid=tyy%2C4io&as=on&as-show=on&otracker=AS_QueryStore_OrganicAutoSuggest_1_19_na_na_na&otracker1=AS_QueryStore_OrganicAutoSuggest_1_19_na_na_na&as-pos=1&as-type=RECENT&suggestionId=mobiles+under+50000+rupees%7CMobiles&requestId=114334d8-0c47-410f-98fc-6c37395b9672&as-backfill=on&page=2'"
      ]
     },
     "execution_count": 11,
     "metadata": {},
     "output_type": "execute_result"
    }
   ],
   "source": [
    "np = soup.find(\"a\", class_=\"_9QVEpD\").get(\"href\")\n",
    "np"
   ]
  },
  {
   "cell_type": "code",
   "execution_count": 13,
   "id": "05a0048c",
   "metadata": {},
   "outputs": [
    {
     "data": {
      "text/plain": [
       "'https://www.flipkart.com/search?q=mobiles+under+50000+rupees&sid=tyy%2C4io&as=on&as-show=on&otracker=AS_QueryStore_OrganicAutoSuggest_1_19_na_na_na&otracker1=AS_QueryStore_OrganicAutoSuggest_1_19_na_na_na&as-pos=1&as-type=RECENT&suggestionId=mobiles+under+50000+rupees%7CMobiles&requestId=114334d8-0c47-410f-98fc-6c37395b9672&as-backfill=on&page=2'"
      ]
     },
     "execution_count": 13,
     "metadata": {},
     "output_type": "execute_result"
    }
   ],
   "source": [
    "cnp = \"https://www.flipkart.com\"+np\n",
    "cnp"
   ]
  },
  {
   "cell_type": "code",
   "execution_count": 14,
   "id": "3006fdb5",
   "metadata": {},
   "outputs": [],
   "source": [
    "url = cnp"
   ]
  },
  {
   "cell_type": "code",
   "execution_count": null,
   "id": "ff12f451",
   "metadata": {},
   "outputs": [],
   "source": [
    "r = requests.get(url)\n",
    "soup = BeautifulSoup(r.text, \"lxml\")"
   ]
  },
  {
   "cell_type": "code",
   "execution_count": null,
   "id": "4d346f07",
   "metadata": {},
   "outputs": [],
   "source": [
    "# Below code is going unlimited\n",
    "# while True:\n",
    "#     np = soup.find(\"a\", class_ = \"_9QVEpD\").get(\"href\")\n",
    "#     cnp = \"https://www.flipkart.com\"+np\n",
    "#     print(cnp)\n",
    "\n",
    "#     url = cnp\n",
    "#     r = requests.get(url)\n",
    "#     soup = BeautifulSoup(r.text, \"lxml\")"
   ]
  },
  {
   "cell_type": "code",
   "execution_count": 16,
   "id": "3d8665dc",
   "metadata": {},
   "outputs": [
    {
     "name": "stdout",
     "output_type": "stream",
     "text": [
      "https://www.flipkart.com/search?q=mobiles+under+50000+rupees&sid=tyy%2C4io&as=on&as-show=on&otracker=AS_QueryStore_OrganicAutoSuggest_1_19_na_na_na&otracker1=AS_QueryStore_OrganicAutoSuggest_1_19_na_na_na&as-pos=1&as-type=RECENT&suggestionId=mobiles+under+50000+rupees%7CMobiles&requestId=114334d8-0c47-410f-98fc-6c37395b9672&as-backfill=on&page=1\n",
      "https://www.flipkart.com/search?q=mobiles+under+50000+rupees&sid=tyy%2C4io&as=on&as-show=on&otracker=AS_QueryStore_OrganicAutoSuggest_1_19_na_na_na&otracker1=AS_QueryStore_OrganicAutoSuggest_1_19_na_na_na&as-pos=1&as-type=RECENT&suggestionId=mobiles+under+50000+rupees%7CMobiles&requestId=114334d8-0c47-410f-98fc-6c37395b9672&as-backfill=on&page=2\n",
      "https://www.flipkart.com/search?q=mobiles+under+50000+rupees&sid=tyy%2C4io&as=on&as-show=on&otracker=AS_QueryStore_OrganicAutoSuggest_1_19_na_na_na&otracker1=AS_QueryStore_OrganicAutoSuggest_1_19_na_na_na&as-pos=1&as-type=RECENT&suggestionId=mobiles+under+50000+rupees%7CMobiles&requestId=114334d8-0c47-410f-98fc-6c37395b9672&as-backfill=on&page=3\n",
      "https://www.flipkart.com/search?q=mobiles+under+50000+rupees&sid=tyy%2C4io&as=on&as-show=on&otracker=AS_QueryStore_OrganicAutoSuggest_1_19_na_na_na&otracker1=AS_QueryStore_OrganicAutoSuggest_1_19_na_na_na&as-pos=1&as-type=RECENT&suggestionId=mobiles+under+50000+rupees%7CMobiles&requestId=114334d8-0c47-410f-98fc-6c37395b9672&as-backfill=on&page=4\n",
      "https://www.flipkart.com/search?q=mobiles+under+50000+rupees&sid=tyy%2C4io&as=on&as-show=on&otracker=AS_QueryStore_OrganicAutoSuggest_1_19_na_na_na&otracker1=AS_QueryStore_OrganicAutoSuggest_1_19_na_na_na&as-pos=1&as-type=RECENT&suggestionId=mobiles+under+50000+rupees%7CMobiles&requestId=114334d8-0c47-410f-98fc-6c37395b9672&as-backfill=on&page=5\n",
      "https://www.flipkart.com/search?q=mobiles+under+50000+rupees&sid=tyy%2C4io&as=on&as-show=on&otracker=AS_QueryStore_OrganicAutoSuggest_1_19_na_na_na&otracker1=AS_QueryStore_OrganicAutoSuggest_1_19_na_na_na&as-pos=1&as-type=RECENT&suggestionId=mobiles+under+50000+rupees%7CMobiles&requestId=114334d8-0c47-410f-98fc-6c37395b9672&as-backfill=on&page=6\n",
      "https://www.flipkart.com/search?q=mobiles+under+50000+rupees&sid=tyy%2C4io&as=on&as-show=on&otracker=AS_QueryStore_OrganicAutoSuggest_1_19_na_na_na&otracker1=AS_QueryStore_OrganicAutoSuggest_1_19_na_na_na&as-pos=1&as-type=RECENT&suggestionId=mobiles+under+50000+rupees%7CMobiles&requestId=114334d8-0c47-410f-98fc-6c37395b9672&as-backfill=on&page=7\n",
      "https://www.flipkart.com/search?q=mobiles+under+50000+rupees&sid=tyy%2C4io&as=on&as-show=on&otracker=AS_QueryStore_OrganicAutoSuggest_1_19_na_na_na&otracker1=AS_QueryStore_OrganicAutoSuggest_1_19_na_na_na&as-pos=1&as-type=RECENT&suggestionId=mobiles+under+50000+rupees%7CMobiles&requestId=114334d8-0c47-410f-98fc-6c37395b9672&as-backfill=on&page=8\n"
     ]
    }
   ],
   "source": [
    "for i in range(2, 10):\n",
    "    url = \"https://www.flipkart.com/search?q=mobiles+under+50000+rupees&sid=tyy%2C4io&as=on&as-show=on&otracker=AS_QueryStore_OrganicAutoSuggest_1_19_na_na_na&otracker1=AS_QueryStore_OrganicAutoSuggest_1_19_na_na_na&as-pos=1&as-type=RECENT&suggestionId=mobiles+under+50000+rupees%7CMobiles&requestId=114334d8-0c47-410f-98fc-6c37395b9672&as-backfill=on&page=\"+str(i)\n",
    "\n",
    "    r = requests.get(url)\n",
    "    soup = BeautifulSoup(r.text, \"lxml\")\n",
    "    np = soup.find(\"a\", class_ = \"_9QVEpD\").get(\"href\")\n",
    "    cnp = \"https://www.flipkart.com\"+np\n",
    "    print(cnp)\n"
   ]
  },
  {
   "cell_type": "code",
   "execution_count": 17,
   "id": "8ca02d88",
   "metadata": {},
   "outputs": [],
   "source": [
    "product_Name = []\n",
    "prices = []\n",
    "description = []\n",
    "reviews=[]\n",
    "\n",
    "url = \"https://www.flipkart.com/search?q=mobiles+under+50000+rupees&sid=tyy%2C4io&as=on&as-show=on&otracker=AS_QueryStore_OrganicAutoSuggest_1_19_na_na_na&otracker1=AS_QueryStore_OrganicAutoSuggest_1_19_na_na_na&as-pos=1&as-type=RECENT&suggestionId=mobiles+under+50000+rupees%7CMobiles&requestId=114334d8-0c47-410f-98fc-6c37395b9672&as-backfill=on&page=\"+str(1)\n",
    "r = requests.get(url)\n",
    "soup = BeautifulSoup(r.text, \"lxml\")\n",
    "\n"
   ]
  },
  {
   "cell_type": "code",
   "execution_count": 18,
   "id": "262f3f2e",
   "metadata": {},
   "outputs": [
    {
     "data": {
      "text/plain": [
       "[<div class=\"KzDlHZ\">SAMSUNG Galaxy S24 5G (Marble Gray, 128 GB)</div>,\n",
       " <div class=\"KzDlHZ\">SAMSUNG Galaxy S24 FE 5G (Blue, 256 GB)</div>,\n",
       " <div class=\"KzDlHZ\">SAMSUNG Galaxy S24 FE 5G (Graphite, 128 GB)</div>,\n",
       " <div class=\"KzDlHZ\">SAMSUNG Galaxy S24 FE 5G (Mint, 256 GB)</div>,\n",
       " <div class=\"KzDlHZ\">SAMSUNG Galaxy S24 FE 5G (Mint, 128 GB)</div>,\n",
       " <div class=\"KzDlHZ\">SAMSUNG Galaxy S24 FE 5G (Blue, 128 GB)</div>,\n",
       " <div class=\"KzDlHZ\">SAMSUNG Galaxy S24 FE 5G (Graphite, 256 GB)</div>,\n",
       " <div class=\"KzDlHZ\">SAMSUNG Galaxy S24 5G (Onyx Black, 128 GB)</div>,\n",
       " <div class=\"KzDlHZ\">SAMSUNG Galaxy S24 5G (Onyx Black, 256 GB)</div>,\n",
       " <div class=\"KzDlHZ\">Apple iPhone 13 (Midnight, 128 GB)</div>,\n",
       " <div class=\"KzDlHZ\">Google Pixel 9A (Obsidian, 256 GB)</div>,\n",
       " <div class=\"KzDlHZ\">Apple iPhone 13 (Starlight, 128 GB)</div>,\n",
       " <div class=\"KzDlHZ\">Google Pixel 8a (Obsidian, 128 GB)</div>,\n",
       " <div class=\"KzDlHZ\">Google Pixel 8a (Porcelain, 128 GB)</div>,\n",
       " <div class=\"KzDlHZ\">OnePlus 13R 5G (Nebula Noir, 256 GB)</div>,\n",
       " <div class=\"KzDlHZ\">OnePlus 13R 5g (Astral Trail, 256 GB)</div>,\n",
       " <div class=\"KzDlHZ\">SAMSUNG Galaxy S24 5G (Amber Yellow, 128 GB)</div>,\n",
       " <div class=\"KzDlHZ\">OnePlus 13R 5G (Astral Trail, 512 GB)</div>,\n",
       " <div class=\"KzDlHZ\">Google Pixel 9A (Iris, 256 GB)</div>,\n",
       " <div class=\"KzDlHZ\">Apple iPhone 13 (Blue, 128 GB)</div>,\n",
       " <div class=\"KzDlHZ\">Google Pixel 8a (Bay, 128 GB)</div>,\n",
       " <div class=\"KzDlHZ\">Google Pixel 8a (Aloe, 128 GB)</div>,\n",
       " <div class=\"KzDlHZ\">OnePlus 13R 5G (Nebula Noir, 512 GB)</div>,\n",
       " <div class=\"KzDlHZ\">vivo V50 5G (Rose Red, 256 GB)</div>]"
      ]
     },
     "execution_count": 18,
     "metadata": {},
     "output_type": "execute_result"
    }
   ],
   "source": [
    "names = soup.find_all(\"div\", class_=\"KzDlHZ\")\n",
    "names"
   ]
  },
  {
   "cell_type": "code",
   "execution_count": 19,
   "id": "049cac4e",
   "metadata": {},
   "outputs": [
    {
     "data": {
      "text/plain": [
       "24"
      ]
     },
     "execution_count": 19,
     "metadata": {},
     "output_type": "execute_result"
    }
   ],
   "source": [
    "len(names)"
   ]
  },
  {
   "cell_type": "code",
   "execution_count": 20,
   "id": "570eaadd",
   "metadata": {},
   "outputs": [
    {
     "name": "stdout",
     "output_type": "stream",
     "text": [
      "['SAMSUNG Galaxy S24 5G (Marble Gray, 128 GB)', 'SAMSUNG Galaxy S24 FE 5G (Blue, 256 GB)', 'SAMSUNG Galaxy S24 FE 5G (Graphite, 128 GB)', 'SAMSUNG Galaxy S24 FE 5G (Mint, 256 GB)', 'SAMSUNG Galaxy S24 FE 5G (Mint, 128 GB)', 'SAMSUNG Galaxy S24 FE 5G (Blue, 128 GB)', 'SAMSUNG Galaxy S24 FE 5G (Graphite, 256 GB)', 'SAMSUNG Galaxy S24 5G (Onyx Black, 128 GB)', 'SAMSUNG Galaxy S24 5G (Onyx Black, 256 GB)', 'Apple iPhone 13 (Midnight, 128 GB)', 'Google Pixel 9A (Obsidian, 256 GB)', 'Apple iPhone 13 (Starlight, 128 GB)', 'Google Pixel 8a (Obsidian, 128 GB)', 'Google Pixel 8a (Porcelain, 128 GB)', 'OnePlus 13R 5G (Nebula Noir, 256 GB)', 'OnePlus 13R 5g (Astral Trail, 256 GB)', 'SAMSUNG Galaxy S24 5G (Amber Yellow, 128 GB)', 'OnePlus 13R 5G (Astral Trail, 512 GB)', 'Google Pixel 9A (Iris, 256 GB)', 'Apple iPhone 13 (Blue, 128 GB)', 'Google Pixel 8a (Bay, 128 GB)', 'Google Pixel 8a (Aloe, 128 GB)', 'OnePlus 13R 5G (Nebula Noir, 512 GB)', 'vivo V50 5G (Rose Red, 256 GB)']\n"
     ]
    }
   ],
   "source": [
    "for i in names:\n",
    "    product_Name.append(i.text)\n",
    "\n",
    "print(product_Name)"
   ]
  },
  {
   "cell_type": "code",
   "execution_count": 22,
   "id": "9542f2f0",
   "metadata": {},
   "outputs": [
    {
     "data": {
      "text/plain": [
       "[<div class=\"Nx9bqj _4b5DiR\">₹44,999</div>,\n",
       " <div class=\"Nx9bqj _4b5DiR\">₹40,999</div>,\n",
       " <div class=\"Nx9bqj _4b5DiR\">₹34,999</div>,\n",
       " <div class=\"Nx9bqj _4b5DiR\">₹40,999</div>,\n",
       " <div class=\"Nx9bqj _4b5DiR\">₹34,999</div>,\n",
       " <div class=\"Nx9bqj _4b5DiR\">₹34,999</div>,\n",
       " <div class=\"Nx9bqj _4b5DiR\">₹40,999</div>,\n",
       " <div class=\"Nx9bqj _4b5DiR\">₹44,999</div>,\n",
       " <div class=\"Nx9bqj _4b5DiR\">₹50,999</div>,\n",
       " <div class=\"Nx9bqj _4b5DiR\">₹44,999</div>,\n",
       " <div class=\"Nx9bqj _4b5DiR\">₹49,999</div>,\n",
       " <div class=\"Nx9bqj _4b5DiR\">₹44,999</div>,\n",
       " <div class=\"Nx9bqj _4b5DiR\">₹37,999</div>,\n",
       " <div class=\"Nx9bqj _4b5DiR\">₹37,999</div>,\n",
       " <div class=\"Nx9bqj _4b5DiR\">₹39,876</div>,\n",
       " <div class=\"Nx9bqj _4b5DiR\">₹39,507</div>,\n",
       " <div class=\"Nx9bqj _4b5DiR\">₹44,999</div>,\n",
       " <div class=\"Nx9bqj _4b5DiR\">₹43,682</div>,\n",
       " <div class=\"Nx9bqj _4b5DiR\">₹49,999</div>,\n",
       " <div class=\"Nx9bqj _4b5DiR\">₹44,999</div>,\n",
       " <div class=\"Nx9bqj _4b5DiR\">₹37,999</div>,\n",
       " <div class=\"Nx9bqj _4b5DiR\">₹37,999</div>,\n",
       " <div class=\"Nx9bqj _4b5DiR\">₹43,967</div>,\n",
       " <div class=\"Nx9bqj _4b5DiR\">₹36,999</div>]"
      ]
     },
     "execution_count": 22,
     "metadata": {},
     "output_type": "execute_result"
    }
   ],
   "source": [
    "prices_p = soup.find_all(\"div\", class_=\"Nx9bqj _4b5DiR\")\n",
    "prices_p"
   ]
  },
  {
   "cell_type": "code",
   "execution_count": 24,
   "id": "901dc825",
   "metadata": {},
   "outputs": [
    {
     "data": {
      "text/plain": [
       "['₹44,999',\n",
       " '₹40,999',\n",
       " '₹34,999',\n",
       " '₹40,999',\n",
       " '₹34,999',\n",
       " '₹34,999',\n",
       " '₹40,999',\n",
       " '₹44,999',\n",
       " '₹50,999',\n",
       " '₹44,999',\n",
       " '₹49,999',\n",
       " '₹44,999',\n",
       " '₹37,999',\n",
       " '₹37,999',\n",
       " '₹39,876',\n",
       " '₹39,507',\n",
       " '₹44,999',\n",
       " '₹43,682',\n",
       " '₹49,999',\n",
       " '₹44,999',\n",
       " '₹37,999',\n",
       " '₹37,999',\n",
       " '₹43,967',\n",
       " '₹36,999']"
      ]
     },
     "execution_count": 24,
     "metadata": {},
     "output_type": "execute_result"
    }
   ],
   "source": [
    "for i in prices_p:\n",
    "    prices.append(i.text)\n",
    "\n",
    "prices"
   ]
  },
  {
   "cell_type": "code",
   "execution_count": 25,
   "id": "0d32a564",
   "metadata": {},
   "outputs": [
    {
     "data": {
      "text/plain": [
       "24"
      ]
     },
     "execution_count": 25,
     "metadata": {},
     "output_type": "execute_result"
    }
   ],
   "source": [
    "len(prices)"
   ]
  },
  {
   "cell_type": "code",
   "execution_count": 26,
   "id": "557879ea",
   "metadata": {},
   "outputs": [
    {
     "data": {
      "text/plain": [
       "[<ul class=\"G4BRas\"><li class=\"J+igdf\">8 GB RAM | 128 GB ROM</li><li class=\"J+igdf\">15.75 cm (6.2 inch) Full HD+ Display</li><li class=\"J+igdf\">50MP + 10MP + 12MP | 12MP Front Camera</li><li class=\"J+igdf\">4000 mAh Battery</li><li class=\"J+igdf\">Exynos 2400 Processor</li><li class=\"J+igdf\">1 Year Manufacturer Warranty for Device and 6 Months for In-Box Accessories</li></ul>,\n",
       " <ul class=\"G4BRas\"><li class=\"J+igdf\">8 GB RAM | 256 GB ROM</li><li class=\"J+igdf\">17.02 cm (6.7 inch) Full HD+ Display</li><li class=\"J+igdf\">50MP + 12MP | 10MP Front Camera</li><li class=\"J+igdf\">4700 mAh Battery</li><li class=\"J+igdf\">Exynos 2400e Processor</li><li class=\"J+igdf\">1 Year Manufacturer Warranty for Device and 6 Months for In-Box Accessories</li></ul>,\n",
       " <ul class=\"G4BRas\"><li class=\"J+igdf\">8 GB RAM | 128 GB ROM</li><li class=\"J+igdf\">17.02 cm (6.7 inch) Full HD+ Display</li><li class=\"J+igdf\">50MP + 12MP | 10MP Front Camera</li><li class=\"J+igdf\">4700 mAh Battery</li><li class=\"J+igdf\">Exynos 2400e Processor</li><li class=\"J+igdf\">1 Year Manufacturer Warranty for Device and 6 Months for In-Box Accessories</li></ul>,\n",
       " <ul class=\"G4BRas\"><li class=\"J+igdf\">8 GB RAM | 256 GB ROM</li><li class=\"J+igdf\">17.02 cm (6.7 inch) Full HD+ Display</li><li class=\"J+igdf\">50MP + 12MP | 10MP Front Camera</li><li class=\"J+igdf\">4700 mAh Battery</li><li class=\"J+igdf\">Exynos 2400e Processor</li><li class=\"J+igdf\">1 Year Manufacturer Warranty for Device and 6 Months for In-Box Accessories</li></ul>,\n",
       " <ul class=\"G4BRas\"><li class=\"J+igdf\">8 GB RAM | 128 GB ROM</li><li class=\"J+igdf\">17.02 cm (6.7 inch) Full HD+ Display</li><li class=\"J+igdf\">50MP + 12MP | 10MP Front Camera</li><li class=\"J+igdf\">4700 mAh Battery</li><li class=\"J+igdf\">Exynos 2400e Processor</li><li class=\"J+igdf\">1 Year Manufacturer Warranty for Device and 6 Months for In-Box Accessories</li></ul>,\n",
       " <ul class=\"G4BRas\"><li class=\"J+igdf\">8 GB RAM | 128 GB ROM</li><li class=\"J+igdf\">17.02 cm (6.7 inch) Full HD+ Display</li><li class=\"J+igdf\">50MP + 12MP | 10MP Front Camera</li><li class=\"J+igdf\">4700 mAh Battery</li><li class=\"J+igdf\">Exynos 2400e Processor</li><li class=\"J+igdf\">1 Year Manufacturer Warranty for Device and 6 Months for In-Box Accessories</li></ul>,\n",
       " <ul class=\"G4BRas\"><li class=\"J+igdf\">8 GB RAM | 256 GB ROM</li><li class=\"J+igdf\">17.02 cm (6.7 inch) Full HD+ Display</li><li class=\"J+igdf\">50MP + 12MP | 10MP Front Camera</li><li class=\"J+igdf\">4700 mAh Battery</li><li class=\"J+igdf\">Exynos 2400e Processor</li><li class=\"J+igdf\">1 Year Manufacturer Warranty for Device and 6 Months for In-Box Accessories</li></ul>,\n",
       " <ul class=\"G4BRas\"><li class=\"J+igdf\">8 GB RAM | 128 GB ROM</li><li class=\"J+igdf\">15.75 cm (6.2 inch) Full HD+ Display</li><li class=\"J+igdf\">50MP + 10MP + 12MP | 12MP Front Camera</li><li class=\"J+igdf\">4000 mAh Battery</li><li class=\"J+igdf\">Exynos 2400 Processor</li><li class=\"J+igdf\">1 Year Manufacturer Warranty for Device and 6 Months for In-Box Accessories</li></ul>,\n",
       " <ul class=\"G4BRas\"><li class=\"J+igdf\">8 GB RAM | 256 GB ROM</li><li class=\"J+igdf\">15.75 cm (6.2 inch) Full HD+ Display</li><li class=\"J+igdf\">50MP + 10MP + 12MP | 12MP Front Camera</li><li class=\"J+igdf\">4000 mAh Battery</li><li class=\"J+igdf\">Exynos 2400 Processor</li><li class=\"J+igdf\">1 Year Manufacturer Warranty for Device and 6 Months for In-Box Accessories</li></ul>,\n",
       " <ul class=\"G4BRas\"><li class=\"J+igdf\">128 GB ROM</li><li class=\"J+igdf\">15.49 cm (6.1 inch) Super Retina XDR Display</li><li class=\"J+igdf\">12MP + 12MP | 12MP Front Camera</li><li class=\"J+igdf\">A15 Bionic Chip Processor</li><li class=\"J+igdf\">1 year warranty for phone and 1 year warranty for in Box Accessories.</li></ul>,\n",
       " <ul class=\"G4BRas\"><li class=\"J+igdf\">8 GB RAM | 256 GB ROM</li><li class=\"J+igdf\">15.96 cm (6.285 inch) Full HD+ Display</li><li class=\"J+igdf\">48MP + 12MP | 12MP Front Camera</li><li class=\"J+igdf\">5100 mAh Battery</li><li class=\"J+igdf\">Tensor G4 Processor</li><li class=\"J+igdf\">1 Year Domestic Warranty</li></ul>,\n",
       " <ul class=\"G4BRas\"><li class=\"J+igdf\">128 GB ROM</li><li class=\"J+igdf\">15.49 cm (6.1 inch) Super Retina XDR Display</li><li class=\"J+igdf\">12MP + 12MP | 12MP Front Camera</li><li class=\"J+igdf\">A15 Bionic Chip Processor</li><li class=\"J+igdf\">1 year warranty for phone and 1 year warranty for in Box Accessories.</li></ul>,\n",
       " <ul class=\"G4BRas\"><li class=\"J+igdf\">8 GB RAM | 128 GB ROM</li><li class=\"J+igdf\">15.49 cm (6.1 inch) Full HD+ Display</li><li class=\"J+igdf\">64MP + 13MP | 13MP Front Camera</li><li class=\"J+igdf\">4404 mAh Battery</li><li class=\"J+igdf\">Tensor G3 Processor</li><li class=\"J+igdf\">1 Year Domestic Warranty</li></ul>,\n",
       " <ul class=\"G4BRas\"><li class=\"J+igdf\">8 GB RAM | 128 GB ROM</li><li class=\"J+igdf\">15.49 cm (6.1 inch) Full HD+ Display</li><li class=\"J+igdf\">64MP + 13MP | 13MP Front Camera</li><li class=\"J+igdf\">4404 mAh Battery</li><li class=\"J+igdf\">Tensor G3 Processor</li><li class=\"J+igdf\">1 Year Domestic Warranty</li></ul>,\n",
       " <ul class=\"G4BRas\"><li class=\"J+igdf\">12 GB RAM | 256 GB ROM</li><li class=\"J+igdf\">17.22 cm (6.78 inch) Display</li><li class=\"J+igdf\">50MP Rear Camera</li><li class=\"J+igdf\">6000 mAh Battery</li><li class=\"J+igdf\">1 year manufacturer warranty for device and 1 year manufacturer warranty for in-box accessories including batteries from the date of purchase</li></ul>,\n",
       " <ul class=\"G4BRas\"><li class=\"J+igdf\">12 GB RAM | 256 GB ROM</li><li class=\"J+igdf\">17.22 cm (6.78 inch) Display</li><li class=\"J+igdf\">50MP Rear Camera</li><li class=\"J+igdf\">6000 mAh Battery</li><li class=\"J+igdf\">1 year manufacturer warranty for device and 1 year manufacturer warranty for in-box accessories including batteries from the date of purchase</li></ul>,\n",
       " <ul class=\"G4BRas\"><li class=\"J+igdf\">8 GB RAM | 128 GB ROM</li><li class=\"J+igdf\">15.75 cm (6.2 inch) Full HD+ Display</li><li class=\"J+igdf\">50MP + 10MP + 12MP | 12MP Front Camera</li><li class=\"J+igdf\">4000 mAh Battery</li><li class=\"J+igdf\">Exynos 2400 Processor</li><li class=\"J+igdf\">1 Year Manufacturer Warranty for Device and 6 Months for In-Box Accessories</li></ul>,\n",
       " <ul class=\"G4BRas\"><li class=\"J+igdf\">16 GB RAM | 512 GB ROM</li><li class=\"J+igdf\">17.22 cm (6.78 inch) Display</li><li class=\"J+igdf\">50MP Rear Camera</li><li class=\"J+igdf\">6000 mAh Battery</li><li class=\"J+igdf\">1 year manufacturer warranty for device and 1 year manufacturer warranty for in-box accessories including batteries from the date of purchase</li></ul>,\n",
       " <ul class=\"G4BRas\"><li class=\"J+igdf\">8 GB RAM | 256 GB ROM</li><li class=\"J+igdf\">15.96 cm (6.285 inch) Full HD+ Display</li><li class=\"J+igdf\">48MP + 12MP | 12MP Front Camera</li><li class=\"J+igdf\">5100 mAh Battery</li><li class=\"J+igdf\">Tensor G4 Processor</li><li class=\"J+igdf\">1 Year Domestic Warranty</li></ul>,\n",
       " <ul class=\"G4BRas\"><li class=\"J+igdf\">128 GB ROM</li><li class=\"J+igdf\">15.49 cm (6.1 inch) Super Retina XDR Display</li><li class=\"J+igdf\">12MP + 12MP | 12MP Front Camera</li><li class=\"J+igdf\">A15 Bionic Chip Processor</li><li class=\"J+igdf\">1 year warranty for phone and 1 year warranty for in Box Accessories.</li></ul>,\n",
       " <ul class=\"G4BRas\"><li class=\"J+igdf\">8 GB RAM | 128 GB ROM</li><li class=\"J+igdf\">15.49 cm (6.1 inch) Full HD+ Display</li><li class=\"J+igdf\">64MP + 13MP | 13MP Front Camera</li><li class=\"J+igdf\">4404 mAh Battery</li><li class=\"J+igdf\">Tensor G3 Processor</li><li class=\"J+igdf\">1 Year Domestic Warranty</li></ul>,\n",
       " <ul class=\"G4BRas\"><li class=\"J+igdf\">8 GB RAM | 128 GB ROM</li><li class=\"J+igdf\">15.49 cm (6.1 inch) Full HD+ Display</li><li class=\"J+igdf\">64MP + 13MP | 13MP Front Camera</li><li class=\"J+igdf\">4404 mAh Battery</li><li class=\"J+igdf\">Tensor G3 Processor</li><li class=\"J+igdf\">1 Year Domestic Warranty</li></ul>,\n",
       " <ul class=\"G4BRas\"><li class=\"J+igdf\">16 GB RAM | 512 GB ROM</li><li class=\"J+igdf\">17.22 cm (6.78 inch) Display</li><li class=\"J+igdf\">50MP Rear Camera</li><li class=\"J+igdf\">6000 mAh Battery</li><li class=\"J+igdf\">1 year manufacturer warranty for device and 1 year manufacturer warranty for in-box accessories including batteries from the date of purchase</li></ul>,\n",
       " <ul class=\"G4BRas\"><li class=\"J+igdf\">8 GB RAM | 256 GB ROM</li><li class=\"J+igdf\">17.2 cm (6.77 inch) Display</li><li class=\"J+igdf\">50MP + 50MP | 50MP Front Camera</li><li class=\"J+igdf\">6000 mAh Battery</li><li class=\"J+igdf\">7 Gen 3 Processor</li><li class=\"J+igdf\">1 Year Manufacturer Warranty for Device and 6 Months Warranty for Inbox Accessories</li></ul>]"
      ]
     },
     "execution_count": 26,
     "metadata": {},
     "output_type": "execute_result"
    }
   ],
   "source": [
    "descr = soup.find_all(\"ul\", class_=\"G4BRas\")\n",
    "descr"
   ]
  },
  {
   "cell_type": "code",
   "execution_count": 27,
   "id": "632f0b0d",
   "metadata": {},
   "outputs": [
    {
     "data": {
      "text/plain": [
       "['8 GB RAM | 128 GB ROM15.75 cm (6.2 inch) Full HD+ Display50MP + 10MP + 12MP | 12MP Front Camera4000 mAh BatteryExynos 2400 Processor1 Year Manufacturer Warranty for Device and 6 Months for In-Box Accessories',\n",
       " '8 GB RAM | 256 GB ROM17.02 cm (6.7 inch) Full HD+ Display50MP + 12MP | 10MP Front Camera4700 mAh BatteryExynos 2400e Processor1 Year Manufacturer Warranty for Device and 6 Months for In-Box Accessories',\n",
       " '8 GB RAM | 128 GB ROM17.02 cm (6.7 inch) Full HD+ Display50MP + 12MP | 10MP Front Camera4700 mAh BatteryExynos 2400e Processor1 Year Manufacturer Warranty for Device and 6 Months for In-Box Accessories',\n",
       " '8 GB RAM | 256 GB ROM17.02 cm (6.7 inch) Full HD+ Display50MP + 12MP | 10MP Front Camera4700 mAh BatteryExynos 2400e Processor1 Year Manufacturer Warranty for Device and 6 Months for In-Box Accessories',\n",
       " '8 GB RAM | 128 GB ROM17.02 cm (6.7 inch) Full HD+ Display50MP + 12MP | 10MP Front Camera4700 mAh BatteryExynos 2400e Processor1 Year Manufacturer Warranty for Device and 6 Months for In-Box Accessories',\n",
       " '8 GB RAM | 128 GB ROM17.02 cm (6.7 inch) Full HD+ Display50MP + 12MP | 10MP Front Camera4700 mAh BatteryExynos 2400e Processor1 Year Manufacturer Warranty for Device and 6 Months for In-Box Accessories',\n",
       " '8 GB RAM | 256 GB ROM17.02 cm (6.7 inch) Full HD+ Display50MP + 12MP | 10MP Front Camera4700 mAh BatteryExynos 2400e Processor1 Year Manufacturer Warranty for Device and 6 Months for In-Box Accessories',\n",
       " '8 GB RAM | 128 GB ROM15.75 cm (6.2 inch) Full HD+ Display50MP + 10MP + 12MP | 12MP Front Camera4000 mAh BatteryExynos 2400 Processor1 Year Manufacturer Warranty for Device and 6 Months for In-Box Accessories',\n",
       " '8 GB RAM | 256 GB ROM15.75 cm (6.2 inch) Full HD+ Display50MP + 10MP + 12MP | 12MP Front Camera4000 mAh BatteryExynos 2400 Processor1 Year Manufacturer Warranty for Device and 6 Months for In-Box Accessories',\n",
       " '128 GB ROM15.49 cm (6.1 inch) Super Retina XDR Display12MP + 12MP | 12MP Front CameraA15 Bionic Chip Processor1 year warranty for phone and 1 year warranty for in Box Accessories.',\n",
       " '8 GB RAM | 256 GB ROM15.96 cm (6.285 inch) Full HD+ Display48MP + 12MP | 12MP Front Camera5100 mAh BatteryTensor G4 Processor1 Year Domestic Warranty',\n",
       " '128 GB ROM15.49 cm (6.1 inch) Super Retina XDR Display12MP + 12MP | 12MP Front CameraA15 Bionic Chip Processor1 year warranty for phone and 1 year warranty for in Box Accessories.',\n",
       " '8 GB RAM | 128 GB ROM15.49 cm (6.1 inch) Full HD+ Display64MP + 13MP | 13MP Front Camera4404 mAh BatteryTensor G3 Processor1 Year Domestic Warranty',\n",
       " '8 GB RAM | 128 GB ROM15.49 cm (6.1 inch) Full HD+ Display64MP + 13MP | 13MP Front Camera4404 mAh BatteryTensor G3 Processor1 Year Domestic Warranty',\n",
       " '12 GB RAM | 256 GB ROM17.22 cm (6.78 inch) Display50MP Rear Camera6000 mAh Battery1 year manufacturer warranty for device and 1 year manufacturer warranty for in-box accessories including batteries from the date of purchase',\n",
       " '12 GB RAM | 256 GB ROM17.22 cm (6.78 inch) Display50MP Rear Camera6000 mAh Battery1 year manufacturer warranty for device and 1 year manufacturer warranty for in-box accessories including batteries from the date of purchase',\n",
       " '8 GB RAM | 128 GB ROM15.75 cm (6.2 inch) Full HD+ Display50MP + 10MP + 12MP | 12MP Front Camera4000 mAh BatteryExynos 2400 Processor1 Year Manufacturer Warranty for Device and 6 Months for In-Box Accessories',\n",
       " '16 GB RAM | 512 GB ROM17.22 cm (6.78 inch) Display50MP Rear Camera6000 mAh Battery1 year manufacturer warranty for device and 1 year manufacturer warranty for in-box accessories including batteries from the date of purchase',\n",
       " '8 GB RAM | 256 GB ROM15.96 cm (6.285 inch) Full HD+ Display48MP + 12MP | 12MP Front Camera5100 mAh BatteryTensor G4 Processor1 Year Domestic Warranty',\n",
       " '128 GB ROM15.49 cm (6.1 inch) Super Retina XDR Display12MP + 12MP | 12MP Front CameraA15 Bionic Chip Processor1 year warranty for phone and 1 year warranty for in Box Accessories.',\n",
       " '8 GB RAM | 128 GB ROM15.49 cm (6.1 inch) Full HD+ Display64MP + 13MP | 13MP Front Camera4404 mAh BatteryTensor G3 Processor1 Year Domestic Warranty',\n",
       " '8 GB RAM | 128 GB ROM15.49 cm (6.1 inch) Full HD+ Display64MP + 13MP | 13MP Front Camera4404 mAh BatteryTensor G3 Processor1 Year Domestic Warranty',\n",
       " '16 GB RAM | 512 GB ROM17.22 cm (6.78 inch) Display50MP Rear Camera6000 mAh Battery1 year manufacturer warranty for device and 1 year manufacturer warranty for in-box accessories including batteries from the date of purchase',\n",
       " '8 GB RAM | 256 GB ROM17.2 cm (6.77 inch) Display50MP + 50MP | 50MP Front Camera6000 mAh Battery7 Gen 3 Processor1 Year Manufacturer Warranty for Device and 6 Months Warranty for Inbox Accessories']"
      ]
     },
     "execution_count": 27,
     "metadata": {},
     "output_type": "execute_result"
    }
   ],
   "source": [
    "for i in descr:\n",
    "    n = i.text\n",
    "    description.append(n)\n",
    "\n",
    "description"
   ]
  },
  {
   "cell_type": "code",
   "execution_count": 28,
   "id": "1870c406",
   "metadata": {},
   "outputs": [
    {
     "data": {
      "text/plain": [
       "[<div class=\"XQDdHH\">4.6<img class=\"Rza2QY\" src=\"data:image/svg+xml;base64,PHN2ZyB4bWxucz0iaHR0cDovL3d3dy53My5vcmcvMjAwMC9zdmciIHdpZHRoPSIxMyIgaGVpZ2h0PSIxMiI+PHBhdGggZmlsbD0iI0ZGRiIgZD0iTTYuNSA5LjQzOWwtMy42NzQgMi4yMy45NC00LjI2LTMuMjEtMi44ODMgNC4yNTQtLjQwNEw2LjUuMTEybDEuNjkgNC4wMSA0LjI1NC40MDQtMy4yMSAyLjg4Mi45NCA0LjI2eiIvPjwvc3ZnPg==\"/></div>,\n",
       " <div class=\"XQDdHH\">4.5<img class=\"Rza2QY\" src=\"data:image/svg+xml;base64,PHN2ZyB4bWxucz0iaHR0cDovL3d3dy53My5vcmcvMjAwMC9zdmciIHdpZHRoPSIxMyIgaGVpZ2h0PSIxMiI+PHBhdGggZmlsbD0iI0ZGRiIgZD0iTTYuNSA5LjQzOWwtMy42NzQgMi4yMy45NC00LjI2LTMuMjEtMi44ODMgNC4yNTQtLjQwNEw2LjUuMTEybDEuNjkgNC4wMSA0LjI1NC40MDQtMy4yMSAyLjg4Mi45NCA0LjI2eiIvPjwvc3ZnPg==\"/></div>,\n",
       " <div class=\"XQDdHH\">4.5<img class=\"Rza2QY\" src=\"data:image/svg+xml;base64,PHN2ZyB4bWxucz0iaHR0cDovL3d3dy53My5vcmcvMjAwMC9zdmciIHdpZHRoPSIxMyIgaGVpZ2h0PSIxMiI+PHBhdGggZmlsbD0iI0ZGRiIgZD0iTTYuNSA5LjQzOWwtMy42NzQgMi4yMy45NC00LjI2LTMuMjEtMi44ODMgNC4yNTQtLjQwNEw2LjUuMTEybDEuNjkgNC4wMSA0LjI1NC40MDQtMy4yMSAyLjg4Mi45NCA0LjI2eiIvPjwvc3ZnPg==\"/></div>,\n",
       " <div class=\"XQDdHH\">4.5<img class=\"Rza2QY\" src=\"data:image/svg+xml;base64,PHN2ZyB4bWxucz0iaHR0cDovL3d3dy53My5vcmcvMjAwMC9zdmciIHdpZHRoPSIxMyIgaGVpZ2h0PSIxMiI+PHBhdGggZmlsbD0iI0ZGRiIgZD0iTTYuNSA5LjQzOWwtMy42NzQgMi4yMy45NC00LjI2LTMuMjEtMi44ODMgNC4yNTQtLjQwNEw2LjUuMTEybDEuNjkgNC4wMSA0LjI1NC40MDQtMy4yMSAyLjg4Mi45NCA0LjI2eiIvPjwvc3ZnPg==\"/></div>,\n",
       " <div class=\"XQDdHH\">4.5<img class=\"Rza2QY\" src=\"data:image/svg+xml;base64,PHN2ZyB4bWxucz0iaHR0cDovL3d3dy53My5vcmcvMjAwMC9zdmciIHdpZHRoPSIxMyIgaGVpZ2h0PSIxMiI+PHBhdGggZmlsbD0iI0ZGRiIgZD0iTTYuNSA5LjQzOWwtMy42NzQgMi4yMy45NC00LjI2LTMuMjEtMi44ODMgNC4yNTQtLjQwNEw2LjUuMTEybDEuNjkgNC4wMSA0LjI1NC40MDQtMy4yMSAyLjg4Mi45NCA0LjI2eiIvPjwvc3ZnPg==\"/></div>,\n",
       " <div class=\"XQDdHH\">4.5<img class=\"Rza2QY\" src=\"data:image/svg+xml;base64,PHN2ZyB4bWxucz0iaHR0cDovL3d3dy53My5vcmcvMjAwMC9zdmciIHdpZHRoPSIxMyIgaGVpZ2h0PSIxMiI+PHBhdGggZmlsbD0iI0ZGRiIgZD0iTTYuNSA5LjQzOWwtMy42NzQgMi4yMy45NC00LjI2LTMuMjEtMi44ODMgNC4yNTQtLjQwNEw2LjUuMTEybDEuNjkgNC4wMSA0LjI1NC40MDQtMy4yMSAyLjg4Mi45NCA0LjI2eiIvPjwvc3ZnPg==\"/></div>,\n",
       " <div class=\"XQDdHH\">4.5<img class=\"Rza2QY\" src=\"data:image/svg+xml;base64,PHN2ZyB4bWxucz0iaHR0cDovL3d3dy53My5vcmcvMjAwMC9zdmciIHdpZHRoPSIxMyIgaGVpZ2h0PSIxMiI+PHBhdGggZmlsbD0iI0ZGRiIgZD0iTTYuNSA5LjQzOWwtMy42NzQgMi4yMy45NC00LjI2LTMuMjEtMi44ODMgNC4yNTQtLjQwNEw2LjUuMTEybDEuNjkgNC4wMSA0LjI1NC40MDQtMy4yMSAyLjg4Mi45NCA0LjI2eiIvPjwvc3ZnPg==\"/></div>,\n",
       " <div class=\"XQDdHH\">4.6<img class=\"Rza2QY\" src=\"data:image/svg+xml;base64,PHN2ZyB4bWxucz0iaHR0cDovL3d3dy53My5vcmcvMjAwMC9zdmciIHdpZHRoPSIxMyIgaGVpZ2h0PSIxMiI+PHBhdGggZmlsbD0iI0ZGRiIgZD0iTTYuNSA5LjQzOWwtMy42NzQgMi4yMy45NC00LjI2LTMuMjEtMi44ODMgNC4yNTQtLjQwNEw2LjUuMTEybDEuNjkgNC4wMSA0LjI1NC40MDQtMy4yMSAyLjg4Mi45NCA0LjI2eiIvPjwvc3ZnPg==\"/></div>,\n",
       " <div class=\"XQDdHH\">4.6<img class=\"Rza2QY\" src=\"data:image/svg+xml;base64,PHN2ZyB4bWxucz0iaHR0cDovL3d3dy53My5vcmcvMjAwMC9zdmciIHdpZHRoPSIxMyIgaGVpZ2h0PSIxMiI+PHBhdGggZmlsbD0iI0ZGRiIgZD0iTTYuNSA5LjQzOWwtMy42NzQgMi4yMy45NC00LjI2LTMuMjEtMi44ODMgNC4yNTQtLjQwNEw2LjUuMTEybDEuNjkgNC4wMSA0LjI1NC40MDQtMy4yMSAyLjg4Mi45NCA0LjI2eiIvPjwvc3ZnPg==\"/></div>,\n",
       " <div class=\"XQDdHH\">4.6<img class=\"Rza2QY\" src=\"data:image/svg+xml;base64,PHN2ZyB4bWxucz0iaHR0cDovL3d3dy53My5vcmcvMjAwMC9zdmciIHdpZHRoPSIxMyIgaGVpZ2h0PSIxMiI+PHBhdGggZmlsbD0iI0ZGRiIgZD0iTTYuNSA5LjQzOWwtMy42NzQgMi4yMy45NC00LjI2LTMuMjEtMi44ODMgNC4yNTQtLjQwNEw2LjUuMTEybDEuNjkgNC4wMSA0LjI1NC40MDQtMy4yMSAyLjg4Mi45NCA0LjI2eiIvPjwvc3ZnPg==\"/></div>,\n",
       " <div class=\"XQDdHH\">4.6<img class=\"Rza2QY\" src=\"data:image/svg+xml;base64,PHN2ZyB4bWxucz0iaHR0cDovL3d3dy53My5vcmcvMjAwMC9zdmciIHdpZHRoPSIxMyIgaGVpZ2h0PSIxMiI+PHBhdGggZmlsbD0iI0ZGRiIgZD0iTTYuNSA5LjQzOWwtMy42NzQgMi4yMy45NC00LjI2LTMuMjEtMi44ODMgNC4yNTQtLjQwNEw2LjUuMTEybDEuNjkgNC4wMSA0LjI1NC40MDQtMy4yMSAyLjg4Mi45NCA0LjI2eiIvPjwvc3ZnPg==\"/></div>,\n",
       " <div class=\"XQDdHH\">4.6<img class=\"Rza2QY\" src=\"data:image/svg+xml;base64,PHN2ZyB4bWxucz0iaHR0cDovL3d3dy53My5vcmcvMjAwMC9zdmciIHdpZHRoPSIxMyIgaGVpZ2h0PSIxMiI+PHBhdGggZmlsbD0iI0ZGRiIgZD0iTTYuNSA5LjQzOWwtMy42NzQgMi4yMy45NC00LjI2LTMuMjEtMi44ODMgNC4yNTQtLjQwNEw2LjUuMTEybDEuNjkgNC4wMSA0LjI1NC40MDQtMy4yMSAyLjg4Mi45NCA0LjI2eiIvPjwvc3ZnPg==\"/></div>,\n",
       " <div class=\"XQDdHH\">4.3<img class=\"Rza2QY\" src=\"data:image/svg+xml;base64,PHN2ZyB4bWxucz0iaHR0cDovL3d3dy53My5vcmcvMjAwMC9zdmciIHdpZHRoPSIxMyIgaGVpZ2h0PSIxMiI+PHBhdGggZmlsbD0iI0ZGRiIgZD0iTTYuNSA5LjQzOWwtMy42NzQgMi4yMy45NC00LjI2LTMuMjEtMi44ODMgNC4yNTQtLjQwNEw2LjUuMTEybDEuNjkgNC4wMSA0LjI1NC40MDQtMy4yMSAyLjg4Mi45NCA0LjI2eiIvPjwvc3ZnPg==\"/></div>,\n",
       " <div class=\"XQDdHH\">4.3<img class=\"Rza2QY\" src=\"data:image/svg+xml;base64,PHN2ZyB4bWxucz0iaHR0cDovL3d3dy53My5vcmcvMjAwMC9zdmciIHdpZHRoPSIxMyIgaGVpZ2h0PSIxMiI+PHBhdGggZmlsbD0iI0ZGRiIgZD0iTTYuNSA5LjQzOWwtMy42NzQgMi4yMy45NC00LjI2LTMuMjEtMi44ODMgNC4yNTQtLjQwNEw2LjUuMTEybDEuNjkgNC4wMSA0LjI1NC40MDQtMy4yMSAyLjg4Mi45NCA0LjI2eiIvPjwvc3ZnPg==\"/></div>,\n",
       " <div class=\"XQDdHH\">4.5<img class=\"Rza2QY\" src=\"data:image/svg+xml;base64,PHN2ZyB4bWxucz0iaHR0cDovL3d3dy53My5vcmcvMjAwMC9zdmciIHdpZHRoPSIxMyIgaGVpZ2h0PSIxMiI+PHBhdGggZmlsbD0iI0ZGRiIgZD0iTTYuNSA5LjQzOWwtMy42NzQgMi4yMy45NC00LjI2LTMuMjEtMi44ODMgNC4yNTQtLjQwNEw2LjUuMTEybDEuNjkgNC4wMSA0LjI1NC40MDQtMy4yMSAyLjg4Mi45NCA0LjI2eiIvPjwvc3ZnPg==\"/></div>,\n",
       " <div class=\"XQDdHH\">4.5<img class=\"Rza2QY\" src=\"data:image/svg+xml;base64,PHN2ZyB4bWxucz0iaHR0cDovL3d3dy53My5vcmcvMjAwMC9zdmciIHdpZHRoPSIxMyIgaGVpZ2h0PSIxMiI+PHBhdGggZmlsbD0iI0ZGRiIgZD0iTTYuNSA5LjQzOWwtMy42NzQgMi4yMy45NC00LjI2LTMuMjEtMi44ODMgNC4yNTQtLjQwNEw2LjUuMTEybDEuNjkgNC4wMSA0LjI1NC40MDQtMy4yMSAyLjg4Mi45NCA0LjI2eiIvPjwvc3ZnPg==\"/></div>,\n",
       " <div class=\"XQDdHH\">4.6<img class=\"Rza2QY\" src=\"data:image/svg+xml;base64,PHN2ZyB4bWxucz0iaHR0cDovL3d3dy53My5vcmcvMjAwMC9zdmciIHdpZHRoPSIxMyIgaGVpZ2h0PSIxMiI+PHBhdGggZmlsbD0iI0ZGRiIgZD0iTTYuNSA5LjQzOWwtMy42NzQgMi4yMy45NC00LjI2LTMuMjEtMi44ODMgNC4yNTQtLjQwNEw2LjUuMTEybDEuNjkgNC4wMSA0LjI1NC40MDQtMy4yMSAyLjg4Mi45NCA0LjI2eiIvPjwvc3ZnPg==\"/></div>,\n",
       " <div class=\"XQDdHH\">4.5<img class=\"Rza2QY\" src=\"data:image/svg+xml;base64,PHN2ZyB4bWxucz0iaHR0cDovL3d3dy53My5vcmcvMjAwMC9zdmciIHdpZHRoPSIxMyIgaGVpZ2h0PSIxMiI+PHBhdGggZmlsbD0iI0ZGRiIgZD0iTTYuNSA5LjQzOWwtMy42NzQgMi4yMy45NC00LjI2LTMuMjEtMi44ODMgNC4yNTQtLjQwNEw2LjUuMTEybDEuNjkgNC4wMSA0LjI1NC40MDQtMy4yMSAyLjg4Mi45NCA0LjI2eiIvPjwvc3ZnPg==\"/></div>,\n",
       " <div class=\"XQDdHH\">4.6<img class=\"Rza2QY\" src=\"data:image/svg+xml;base64,PHN2ZyB4bWxucz0iaHR0cDovL3d3dy53My5vcmcvMjAwMC9zdmciIHdpZHRoPSIxMyIgaGVpZ2h0PSIxMiI+PHBhdGggZmlsbD0iI0ZGRiIgZD0iTTYuNSA5LjQzOWwtMy42NzQgMi4yMy45NC00LjI2LTMuMjEtMi44ODMgNC4yNTQtLjQwNEw2LjUuMTEybDEuNjkgNC4wMSA0LjI1NC40MDQtMy4yMSAyLjg4Mi45NCA0LjI2eiIvPjwvc3ZnPg==\"/></div>,\n",
       " <div class=\"XQDdHH\">4.6<img class=\"Rza2QY\" src=\"data:image/svg+xml;base64,PHN2ZyB4bWxucz0iaHR0cDovL3d3dy53My5vcmcvMjAwMC9zdmciIHdpZHRoPSIxMyIgaGVpZ2h0PSIxMiI+PHBhdGggZmlsbD0iI0ZGRiIgZD0iTTYuNSA5LjQzOWwtMy42NzQgMi4yMy45NC00LjI2LTMuMjEtMi44ODMgNC4yNTQtLjQwNEw2LjUuMTEybDEuNjkgNC4wMSA0LjI1NC40MDQtMy4yMSAyLjg4Mi45NCA0LjI2eiIvPjwvc3ZnPg==\"/></div>,\n",
       " <div class=\"XQDdHH\">4.3<img class=\"Rza2QY\" src=\"data:image/svg+xml;base64,PHN2ZyB4bWxucz0iaHR0cDovL3d3dy53My5vcmcvMjAwMC9zdmciIHdpZHRoPSIxMyIgaGVpZ2h0PSIxMiI+PHBhdGggZmlsbD0iI0ZGRiIgZD0iTTYuNSA5LjQzOWwtMy42NzQgMi4yMy45NC00LjI2LTMuMjEtMi44ODMgNC4yNTQtLjQwNEw2LjUuMTEybDEuNjkgNC4wMSA0LjI1NC40MDQtMy4yMSAyLjg4Mi45NCA0LjI2eiIvPjwvc3ZnPg==\"/></div>,\n",
       " <div class=\"XQDdHH\">4.3<img class=\"Rza2QY\" src=\"data:image/svg+xml;base64,PHN2ZyB4bWxucz0iaHR0cDovL3d3dy53My5vcmcvMjAwMC9zdmciIHdpZHRoPSIxMyIgaGVpZ2h0PSIxMiI+PHBhdGggZmlsbD0iI0ZGRiIgZD0iTTYuNSA5LjQzOWwtMy42NzQgMi4yMy45NC00LjI2LTMuMjEtMi44ODMgNC4yNTQtLjQwNEw2LjUuMTEybDEuNjkgNC4wMSA0LjI1NC40MDQtMy4yMSAyLjg4Mi45NCA0LjI2eiIvPjwvc3ZnPg==\"/></div>,\n",
       " <div class=\"XQDdHH\">4.5<img class=\"Rza2QY\" src=\"data:image/svg+xml;base64,PHN2ZyB4bWxucz0iaHR0cDovL3d3dy53My5vcmcvMjAwMC9zdmciIHdpZHRoPSIxMyIgaGVpZ2h0PSIxMiI+PHBhdGggZmlsbD0iI0ZGRiIgZD0iTTYuNSA5LjQzOWwtMy42NzQgMi4yMy45NC00LjI2LTMuMjEtMi44ODMgNC4yNTQtLjQwNEw2LjUuMTEybDEuNjkgNC4wMSA0LjI1NC40MDQtMy4yMSAyLjg4Mi45NCA0LjI2eiIvPjwvc3ZnPg==\"/></div>,\n",
       " <div class=\"XQDdHH\">4.5<img class=\"Rza2QY\" src=\"data:image/svg+xml;base64,PHN2ZyB4bWxucz0iaHR0cDovL3d3dy53My5vcmcvMjAwMC9zdmciIHdpZHRoPSIxMyIgaGVpZ2h0PSIxMiI+PHBhdGggZmlsbD0iI0ZGRiIgZD0iTTYuNSA5LjQzOWwtMy42NzQgMi4yMy45NC00LjI2LTMuMjEtMi44ODMgNC4yNTQtLjQwNEw2LjUuMTEybDEuNjkgNC4wMSA0LjI1NC40MDQtMy4yMSAyLjg4Mi45NCA0LjI2eiIvPjwvc3ZnPg==\"/></div>,\n",
       " <div class=\"XQDdHH\">4.5<img class=\"Rza2QY\" src=\"data:image/svg+xml;base64,PHN2ZyB4bWxucz0iaHR0cDovL3d3dy53My5vcmcvMjAwMC9zdmciIHdpZHRoPSIxMyIgaGVpZ2h0PSIxMiI+PHBhdGggZmlsbD0iI0ZGRiIgZD0iTTYuNSA5LjQzOWwtMy42NzQgMi4yMy45NC00LjI2LTMuMjEtMi44ODMgNC4yNTQtLjQwNEw2LjUuMTEybDEuNjkgNC4wMSA0LjI1NC40MDQtMy4yMSAyLjg4Mi45NCA0LjI2eiIvPjwvc3ZnPg==\"/></div>,\n",
       " <div class=\"XQDdHH Ga3i8K\">5<img class=\"Rza2QY\" src=\"data:image/svg+xml;base64,PHN2ZyB4bWxucz0iaHR0cDovL3d3dy53My5vcmcvMjAwMC9zdmciIHdpZHRoPSIxMyIgaGVpZ2h0PSIxMiI+PHBhdGggZmlsbD0iI0ZGRiIgZD0iTTYuNSA5LjQzOWwtMy42NzQgMi4yMy45NC00LjI2LTMuMjEtMi44ODMgNC4yNTQtLjQwNEw2LjUuMTEybDEuNjkgNC4wMSA0LjI1NC40MDQtMy4yMSAyLjg4Mi45NCA0LjI2eiIvPjwvc3ZnPg==\"/></div>,\n",
       " <div class=\"XQDdHH Ga3i8K\">5<img class=\"Rza2QY\" src=\"data:image/svg+xml;base64,PHN2ZyB4bWxucz0iaHR0cDovL3d3dy53My5vcmcvMjAwMC9zdmciIHdpZHRoPSIxMyIgaGVpZ2h0PSIxMiI+PHBhdGggZmlsbD0iI0ZGRiIgZD0iTTYuNSA5LjQzOWwtMy42NzQgMi4yMy45NC00LjI2LTMuMjEtMi44ODMgNC4yNTQtLjQwNEw2LjUuMTEybDEuNjkgNC4wMSA0LjI1NC40MDQtMy4yMSAyLjg4Mi45NCA0LjI2eiIvPjwvc3ZnPg==\"/></div>,\n",
       " <div class=\"XQDdHH\">4.6<img class=\"Rza2QY\" src=\"data:image/svg+xml;base64,PHN2ZyB4bWxucz0iaHR0cDovL3d3dy53My5vcmcvMjAwMC9zdmciIHdpZHRoPSIxMyIgaGVpZ2h0PSIxMiI+PHBhdGggZmlsbD0iI0ZGRiIgZD0iTTYuNSA5LjQzOWwtMy42NzQgMi4yMy45NC00LjI2LTMuMjEtMi44ODMgNC4yNTQtLjQwNEw2LjUuMTEybDEuNjkgNC4wMSA0LjI1NC40MDQtMy4yMSAyLjg4Mi45NCA0LjI2eiIvPjwvc3ZnPg==\"/></div>,\n",
       " <div class=\"XQDdHH Ga3i8K\">5<img class=\"Rza2QY\" src=\"data:image/svg+xml;base64,PHN2ZyB4bWxucz0iaHR0cDovL3d3dy53My5vcmcvMjAwMC9zdmciIHdpZHRoPSIxMyIgaGVpZ2h0PSIxMiI+PHBhdGggZmlsbD0iI0ZGRiIgZD0iTTYuNSA5LjQzOWwtMy42NzQgMi4yMy45NC00LjI2LTMuMjEtMi44ODMgNC4yNTQtLjQwNEw2LjUuMTEybDEuNjkgNC4wMSA0LjI1NC40MDQtMy4yMSAyLjg4Mi45NCA0LjI2eiIvPjwvc3ZnPg==\"/></div>,\n",
       " <div class=\"XQDdHH Ga3i8K\">5<img class=\"Rza2QY\" src=\"data:image/svg+xml;base64,PHN2ZyB4bWxucz0iaHR0cDovL3d3dy53My5vcmcvMjAwMC9zdmciIHdpZHRoPSIxMyIgaGVpZ2h0PSIxMiI+PHBhdGggZmlsbD0iI0ZGRiIgZD0iTTYuNSA5LjQzOWwtMy42NzQgMi4yMy45NC00LjI2LTMuMjEtMi44ODMgNC4yNTQtLjQwNEw2LjUuMTEybDEuNjkgNC4wMSA0LjI1NC40MDQtMy4yMSAyLjg4Mi45NCA0LjI2eiIvPjwvc3ZnPg==\"/></div>,\n",
       " <div class=\"XQDdHH\">4.6<img class=\"Rza2QY\" src=\"data:image/svg+xml;base64,PHN2ZyB4bWxucz0iaHR0cDovL3d3dy53My5vcmcvMjAwMC9zdmciIHdpZHRoPSIxMyIgaGVpZ2h0PSIxMiI+PHBhdGggZmlsbD0iI0ZGRiIgZD0iTTYuNSA5LjQzOWwtMy42NzQgMi4yMy45NC00LjI2LTMuMjEtMi44ODMgNC4yNTQtLjQwNEw2LjUuMTEybDEuNjkgNC4wMSA0LjI1NC40MDQtMy4yMSAyLjg4Mi45NCA0LjI2eiIvPjwvc3ZnPg==\"/></div>,\n",
       " <div class=\"XQDdHH Ga3i8K\">5<img class=\"Rza2QY\" src=\"data:image/svg+xml;base64,PHN2ZyB4bWxucz0iaHR0cDovL3d3dy53My5vcmcvMjAwMC9zdmciIHdpZHRoPSIxMyIgaGVpZ2h0PSIxMiI+PHBhdGggZmlsbD0iI0ZGRiIgZD0iTTYuNSA5LjQzOWwtMy42NzQgMi4yMy45NC00LjI2LTMuMjEtMi44ODMgNC4yNTQtLjQwNEw2LjUuMTEybDEuNjkgNC4wMSA0LjI1NC40MDQtMy4yMSAyLjg4Mi45NCA0LjI2eiIvPjwvc3ZnPg==\"/></div>,\n",
       " <div class=\"XQDdHH Ga3i8K\">4<img class=\"Rza2QY\" src=\"data:image/svg+xml;base64,PHN2ZyB4bWxucz0iaHR0cDovL3d3dy53My5vcmcvMjAwMC9zdmciIHdpZHRoPSIxMyIgaGVpZ2h0PSIxMiI+PHBhdGggZmlsbD0iI0ZGRiIgZD0iTTYuNSA5LjQzOWwtMy42NzQgMi4yMy45NC00LjI2LTMuMjEtMi44ODMgNC4yNTQtLjQwNEw2LjUuMTEybDEuNjkgNC4wMSA0LjI1NC40MDQtMy4yMSAyLjg4Mi45NCA0LjI2eiIvPjwvc3ZnPg==\"/></div>,\n",
       " <div class=\"XQDdHH\">4.5<img class=\"Rza2QY\" src=\"data:image/svg+xml;base64,PHN2ZyB4bWxucz0iaHR0cDovL3d3dy53My5vcmcvMjAwMC9zdmciIHdpZHRoPSIxMyIgaGVpZ2h0PSIxMiI+PHBhdGggZmlsbD0iI0ZGRiIgZD0iTTYuNSA5LjQzOWwtMy42NzQgMi4yMy45NC00LjI2LTMuMjEtMi44ODMgNC4yNTQtLjQwNEw2LjUuMTEybDEuNjkgNC4wMSA0LjI1NC40MDQtMy4yMSAyLjg4Mi45NCA0LjI2eiIvPjwvc3ZnPg==\"/></div>,\n",
       " <div class=\"XQDdHH Ga3i8K\">5<img class=\"Rza2QY\" src=\"data:image/svg+xml;base64,PHN2ZyB4bWxucz0iaHR0cDovL3d3dy53My5vcmcvMjAwMC9zdmciIHdpZHRoPSIxMyIgaGVpZ2h0PSIxMiI+PHBhdGggZmlsbD0iI0ZGRiIgZD0iTTYuNSA5LjQzOWwtMy42NzQgMi4yMy45NC00LjI2LTMuMjEtMi44ODMgNC4yNTQtLjQwNEw2LjUuMTEybDEuNjkgNC4wMSA0LjI1NC40MDQtMy4yMSAyLjg4Mi45NCA0LjI2eiIvPjwvc3ZnPg==\"/></div>,\n",
       " <div class=\"XQDdHH Ga3i8K\">4<img class=\"Rza2QY\" src=\"data:image/svg+xml;base64,PHN2ZyB4bWxucz0iaHR0cDovL3d3dy53My5vcmcvMjAwMC9zdmciIHdpZHRoPSIxMyIgaGVpZ2h0PSIxMiI+PHBhdGggZmlsbD0iI0ZGRiIgZD0iTTYuNSA5LjQzOWwtMy42NzQgMi4yMy45NC00LjI2LTMuMjEtMi44ODMgNC4yNTQtLjQwNEw2LjUuMTEybDEuNjkgNC4wMSA0LjI1NC40MDQtMy4yMSAyLjg4Mi45NCA0LjI2eiIvPjwvc3ZnPg==\"/></div>,\n",
       " <div class=\"XQDdHH\">4.3<img class=\"Rza2QY\" src=\"data:image/svg+xml;base64,PHN2ZyB4bWxucz0iaHR0cDovL3d3dy53My5vcmcvMjAwMC9zdmciIHdpZHRoPSIxMyIgaGVpZ2h0PSIxMiI+PHBhdGggZmlsbD0iI0ZGRiIgZD0iTTYuNSA5LjQzOWwtMy42NzQgMi4yMy45NC00LjI2LTMuMjEtMi44ODMgNC4yNTQtLjQwNEw2LjUuMTEybDEuNjkgNC4wMSA0LjI1NC40MDQtMy4yMSAyLjg4Mi45NCA0LjI2eiIvPjwvc3ZnPg==\"/></div>,\n",
       " <div class=\"XQDdHH Ga3i8K\">5<img class=\"Rza2QY\" src=\"data:image/svg+xml;base64,PHN2ZyB4bWxucz0iaHR0cDovL3d3dy53My5vcmcvMjAwMC9zdmciIHdpZHRoPSIxMyIgaGVpZ2h0PSIxMiI+PHBhdGggZmlsbD0iI0ZGRiIgZD0iTTYuNSA5LjQzOWwtMy42NzQgMi4yMy45NC00LjI2LTMuMjEtMi44ODMgNC4yNTQtLjQwNEw2LjUuMTEybDEuNjkgNC4wMSA0LjI1NC40MDQtMy4yMSAyLjg4Mi45NCA0LjI2eiIvPjwvc3ZnPg==\"/></div>,\n",
       " <div class=\"XQDdHH Ga3i8K\">5<img class=\"Rza2QY\" src=\"data:image/svg+xml;base64,PHN2ZyB4bWxucz0iaHR0cDovL3d3dy53My5vcmcvMjAwMC9zdmciIHdpZHRoPSIxMyIgaGVpZ2h0PSIxMiI+PHBhdGggZmlsbD0iI0ZGRiIgZD0iTTYuNSA5LjQzOWwtMy42NzQgMi4yMy45NC00LjI2LTMuMjEtMi44ODMgNC4yNTQtLjQwNEw2LjUuMTEybDEuNjkgNC4wMSA0LjI1NC40MDQtMy4yMSAyLjg4Mi45NCA0LjI2eiIvPjwvc3ZnPg==\"/></div>]"
      ]
     },
     "execution_count": 28,
     "metadata": {},
     "output_type": "execute_result"
    }
   ],
   "source": [
    "reviews_f = soup.find_all(\"div\", class_= \"XQDdHH\")\n",
    "reviews_f"
   ]
  },
  {
   "cell_type": "code",
   "execution_count": 29,
   "id": "8a128a17",
   "metadata": {},
   "outputs": [
    {
     "data": {
      "text/plain": [
       "['4.6',\n",
       " '4.5',\n",
       " '4.5',\n",
       " '4.5',\n",
       " '4.5',\n",
       " '4.5',\n",
       " '4.5',\n",
       " '4.6',\n",
       " '4.6',\n",
       " '4.6',\n",
       " '4.6',\n",
       " '4.6',\n",
       " '4.3',\n",
       " '4.3',\n",
       " '4.5',\n",
       " '4.5',\n",
       " '4.6',\n",
       " '4.5',\n",
       " '4.6',\n",
       " '4.6',\n",
       " '4.3',\n",
       " '4.3',\n",
       " '4.5',\n",
       " '4.5',\n",
       " '4.5',\n",
       " '5',\n",
       " '5',\n",
       " '4.6',\n",
       " '5',\n",
       " '5',\n",
       " '4.6',\n",
       " '5',\n",
       " '4',\n",
       " '4.5',\n",
       " '5',\n",
       " '4',\n",
       " '4.3',\n",
       " '5',\n",
       " '5']"
      ]
     },
     "execution_count": 29,
     "metadata": {},
     "output_type": "execute_result"
    }
   ],
   "source": [
    "for i in reviews_f:\n",
    "    reviews.append(i.text)\n",
    "\n",
    "reviews"
   ]
  },
  {
   "cell_type": "code",
   "execution_count": 30,
   "id": "41463778",
   "metadata": {},
   "outputs": [
    {
     "data": {
      "text/plain": [
       "39"
      ]
     },
     "execution_count": 30,
     "metadata": {},
     "output_type": "execute_result"
    }
   ],
   "source": [
    "len(reviews)"
   ]
  },
  {
   "cell_type": "markdown",
   "id": "a60c1f14",
   "metadata": {},
   "source": [
    "# in the above, if we see all the products in the page are 24 but we are getting reviews here 39. we only need 24. the extra reviews we are getting are of not the 24 products. those are other reviews in other parts of the page. we are now filtering or taking only products div to fetch them in the below code."
   ]
  },
  {
   "cell_type": "code",
   "execution_count": 34,
   "id": "365048ca",
   "metadata": {},
   "outputs": [],
   "source": [
    "products_box = soup.find(\"div\", class_=\"DOjaWF gdgoEp\")"
   ]
  },
  {
   "cell_type": "code",
   "execution_count": 35,
   "id": "9bd21785",
   "metadata": {},
   "outputs": [
    {
     "data": {
      "text/plain": [
       "<div class=\"DOjaWF gdgoEp\" style=\"flex-grow:1;overflow:auto\"><div class=\"DOjaWF YJG4Cf col-12-12\" style=\"background-color:#ffffff;align-items:flex-end\"><div class=\"cPHDOP\" style=\"flex-grow:1;overflow:auto\"><div class=\"WOvzF4\"><div class=\"_7dPnhA\"><div class=\"r2CdBx\"><a class=\"R0cyWM\" href=\"/\">Home</a><svg class=\"sfneHK\" height=\"27\" viewbox=\"0 0 16 27\" width=\"16\" xmlns=\"http://www.w3.org/2000/svg\"><path class=\"wMLTcO\" d=\"M16 23.207L6.11 13.161 16 3.093 12.955 0 0 13.161l12.955 13.161z\" fill=\"#fff\"></path></svg></div><div class=\"r2CdBx\"><a class=\"R0cyWM\" href=\"/mobiles-accessories/pr?sid=tyy&amp;marketplace=FLIPKART\">Mobiles &amp; Accessories</a><svg class=\"sfneHK\" height=\"27\" viewbox=\"0 0 16 27\" width=\"16\" xmlns=\"http://www.w3.org/2000/svg\"><path class=\"wMLTcO\" d=\"M16 23.207L6.11 13.161 16 3.093 12.955 0 0 13.161l12.955 13.161z\" fill=\"#fff\"></path></svg></div><div class=\"r2CdBx\"><a class=\"R0cyWM\" href=\"/mobiles/pr?sid=tyy,4io&amp;marketplace=FLIPKART\">Mobiles</a><svg class=\"sfneHK\" height=\"27\" viewbox=\"0 0 16 27\" width=\"16\" xmlns=\"http://www.w3.org/2000/svg\"><path class=\"wMLTcO\" d=\"M16 23.207L6.11 13.161 16 3.093 12.955 0 0 13.161l12.955 13.161z\" fill=\"#fff\"></path></svg></div></div><span class=\"BUOuZu\">Showing 1 – 24 of 11,376 results for \"<span>mobiles under 50000 rupees</span>\"</span><div class=\"sHCOk2\"><span class=\"viJOii\">Sort By</span><div class=\"zg-M3Z _0H7xSG\">Relevance</div><div class=\"zg-M3Z\">Popularity</div><div class=\"zg-M3Z\">Price -- Low to High</div><div class=\"zg-M3Z\">Price -- High to Low</div><div class=\"zg-M3Z\">Newest First</div></div></div></div></div><div class=\"cPHDOP col-12-12\"><div class=\"_75nlfW\"><div data-id=\"MOBHYJ6QZP2UA4X9\" style=\"width:100%\"><div class=\"tUxRFH\"><a class=\"CGtC98\" href=\"/samsung-galaxy-s24-5g-marble-gray-128-gb/p/itmd5309d6e0a151?pid=MOBHYJ6QZP2UA4X9&amp;lid=LSTMOBHYJ6QZP2UA4X9WSTBPZ&amp;marketplace=FLIPKART&amp;q=mobiles+under+50000+rupees&amp;store=tyy%2F4io&amp;srno=s_1_1&amp;otracker=AS_QueryStore_OrganicAutoSuggest_1_19_na_na_na&amp;otracker1=AS_QueryStore_OrganicAutoSuggest_1_19_na_na_na&amp;fm=organic&amp;iid=db9dbfaa-46ca-42dc-a2eb-f90104f6f92b.MOBHYJ6QZP2UA4X9.SEARCH&amp;ppt=None&amp;ppn=None&amp;ssid=qyn27ecwa80000001746801619635&amp;qH=91434633a446479e\" rel=\"noopener noreferrer\" target=\"_blank\"><div class=\"Otbq5D\"><div class=\"yPq5Io\"><div><div class=\"_4WELSP\" style=\"height:200px;width:200px\"><img alt=\"SAMSUNG Galaxy S24 5G (Marble Gray, 128 GB)\" class=\"DByuf4\" loading=\"eager\" src=\"https://rukminim2.flixcart.com/image/312/312/xif0q/mobile/z/x/9/-original-imahbpk4etmfggk3.jpeg?q=70\"/></div></div></div><div class=\"qaR90o\"><div class=\"A8uQAd\"><span class=\"Lni97G\"><label class=\"tJjCVx\"><input class=\"vn9L2C\" readonly=\"\" type=\"checkbox\"/><div class=\"XqNaEv\"></div></label></span><label class=\"uu79Xy\"><span>Add to Compare</span></label></div></div><div class=\"oUss6M ssUU08\"><div class=\"+7E521\"><svg class=\"N1bADF\" height=\"16\" viewbox=\"0 0 20 16\" width=\"16\" xmlns=\"http://www.w3.org/2000/svg\"><path class=\"x1UMqG\" d=\"M8.695 16.682C4.06 12.382 1 9.536 1 6.065 1 3.219 3.178 1 5.95 1c1.566 0 3.069.746 4.05 1.915C10.981 1.745 12.484 1 14.05 1 16.822 1 19 3.22 19 6.065c0 3.471-3.06 6.316-7.695 10.617L10 17.897l-1.305-1.215z\" fill=\"#2874F0\" fill-rule=\"evenodd\" opacity=\".9\" stroke=\"#FFF\"></path></svg></div></div></div><div class=\"yKfJKb row\"><div class=\"col col-7-12\"><div class=\"KzDlHZ\">SAMSUNG Galaxy S24 5G (Marble Gray, 128 GB)</div><div class=\"_5OesEi\"><span class=\"Y1HWO0\" id=\"productRating_LSTMOBHYJ6QZP2UA4X9WSTBPZ_MOBHYJ6QZP2UA4X9_\"><div class=\"XQDdHH\">4.6<img class=\"Rza2QY\" src=\"data:image/svg+xml;base64,PHN2ZyB4bWxucz0iaHR0cDovL3d3dy53My5vcmcvMjAwMC9zdmciIHdpZHRoPSIxMyIgaGVpZ2h0PSIxMiI+PHBhdGggZmlsbD0iI0ZGRiIgZD0iTTYuNSA5LjQzOWwtMy42NzQgMi4yMy45NC00LjI2LTMuMjEtMi44ODMgNC4yNTQtLjQwNEw2LjUuMTEybDEuNjkgNC4wMSA0LjI1NC40MDQtMy4yMSAyLjg4Mi45NCA0LjI2eiIvPjwvc3ZnPg==\"/></div></span><span class=\"Wphh3N\"><span><span>2,526 Ratings </span><span class=\"hG7V+4\">&amp;</span><span> 207 Reviews</span></span></span></div><div class=\"_6NESgJ\"><ul class=\"G4BRas\"><li class=\"J+igdf\">8 GB RAM | 128 GB ROM</li><li class=\"J+igdf\">15.75 cm (6.2 inch) Full HD+ Display</li><li class=\"J+igdf\">50MP + 10MP + 12MP | 12MP Front Camera</li><li class=\"J+igdf\">4000 mAh Battery</li><li class=\"J+igdf\">Exynos 2400 Processor</li><li class=\"J+igdf\">1 Year Manufacturer Warranty for Device and 6 Months for In-Box Accessories</li></ul></div></div><div class=\"col col-5-12 BfVC2z\"><div class=\"cN1yYO\"><div class=\"hl05eU\"><div class=\"Nx9bqj _4b5DiR\">₹44,999</div><div class=\"yRaY8j ZYYwLA\">₹<!-- -->74,999</div><div class=\"UkUFwK\"><span>40% off</span></div></div><div class=\"k6cAZE dlFt9U\"><div><div class=\"yiggsN\" style=\"color:#000000;font-size:12px;font-weight:400\">Free delivery</div></div></div></div><div class=\"_0CSTHy\"><img height=\"21\" src=\"//static-assets-web.flixcart.com/fk-p-linchpin-web/fk-cp-zion/img/fa_9e47c1.png\"/></div><div class=\"M4DNwV\"><div class=\"n5vj9c\"><div class=\"yiggsN O5Fpg8\" style=\"color:#000000;font-size:14px;font-style:normal;font-weight:400\">Upto </div><div class=\"yiggsN O5Fpg8\" style=\"color:#000000;font-size:14px;font-style:normal;font-weight:700\">₹27,500</div><div class=\"yiggsN O5Fpg8\" style=\"color:#000000;font-size:14px;font-style:normal;font-weight:400\"> Off on Exchange</div></div></div><div class=\"M4DNwV\"><div class=\"n5vj9c\"><div class=\"yiggsN O5Fpg8\" style=\"color:#26A541;font-size:14px;font-weight:700\">Bank Offer</div></div></div></div></div></a></div></div></div></div><div class=\"cPHDOP col-12-12\"><div class=\"_75nlfW\"><div data-id=\"MOBH4ZG3E9SB6WDQ\" style=\"width:100%\"><div class=\"tUxRFH\"><a class=\"CGtC98\" href=\"/samsung-galaxy-s24-fe-5g-blue-256-gb/p/itme960199e26f23?pid=MOBH4ZG3E9SB6WDQ&amp;lid=LSTMOBH4ZG3E9SB6WDQVVLSZR&amp;marketplace=FLIPKART&amp;q=mobiles+under+50000+rupees&amp;store=tyy%2F4io&amp;srno=s_1_2&amp;otracker=AS_QueryStore_OrganicAutoSuggest_1_19_na_na_na&amp;otracker1=AS_QueryStore_OrganicAutoSuggest_1_19_na_na_na&amp;fm=organic&amp;iid=db9dbfaa-46ca-42dc-a2eb-f90104f6f92b.MOBH4ZG3E9SB6WDQ.SEARCH&amp;ppt=None&amp;ppn=None&amp;ssid=qyn27ecwa80000001746801619635&amp;qH=91434633a446479e\" rel=\"noopener noreferrer\" target=\"_blank\"><div class=\"Otbq5D\"><div class=\"yPq5Io\"><div><div class=\"_4WELSP\" style=\"height:200px;width:200px\"><img alt=\"SAMSUNG Galaxy S24 FE 5G (Blue, 256 GB)\" class=\"DByuf4\" loading=\"eager\" src=\"https://rukminim2.flixcart.com/image/312/312/xif0q/mobile/m/3/k/-original-imahbqxnuhznhsj4.jpeg?q=70\"/></div></div></div><div class=\"qaR90o\"><div class=\"A8uQAd\"><span class=\"Lni97G\"><label class=\"tJjCVx\"><input class=\"vn9L2C\" readonly=\"\" type=\"checkbox\"/><div class=\"XqNaEv\"></div></label></span><label class=\"uu79Xy\"><span>Add to Compare</span></label></div></div><div class=\"oUss6M ssUU08\"><div class=\"+7E521\"><svg class=\"N1bADF\" height=\"16\" viewbox=\"0 0 20 16\" width=\"16\" xmlns=\"http://www.w3.org/2000/svg\"><path class=\"x1UMqG\" d=\"M8.695 16.682C4.06 12.382 1 9.536 1 6.065 1 3.219 3.178 1 5.95 1c1.566 0 3.069.746 4.05 1.915C10.981 1.745 12.484 1 14.05 1 16.822 1 19 3.22 19 6.065c0 3.471-3.06 6.316-7.695 10.617L10 17.897l-1.305-1.215z\" fill=\"#2874F0\" fill-rule=\"evenodd\" opacity=\".9\" stroke=\"#FFF\"></path></svg></div></div></div><div class=\"yKfJKb row\"><div class=\"col col-7-12\"><div class=\"KzDlHZ\">SAMSUNG Galaxy S24 FE 5G (Blue, 256 GB)</div><div class=\"_5OesEi\"><span class=\"Y1HWO0\" id=\"productRating_LSTMOBH4ZG3E9SB6WDQVVLSZR_MOBH4ZG3E9SB6WDQ_\"><div class=\"XQDdHH\">4.5<img class=\"Rza2QY\" src=\"data:image/svg+xml;base64,PHN2ZyB4bWxucz0iaHR0cDovL3d3dy53My5vcmcvMjAwMC9zdmciIHdpZHRoPSIxMyIgaGVpZ2h0PSIxMiI+PHBhdGggZmlsbD0iI0ZGRiIgZD0iTTYuNSA5LjQzOWwtMy42NzQgMi4yMy45NC00LjI2LTMuMjEtMi44ODMgNC4yNTQtLjQwNEw2LjUuMTEybDEuNjkgNC4wMSA0LjI1NC40MDQtMy4yMSAyLjg4Mi45NCA0LjI2eiIvPjwvc3ZnPg==\"/></div></span><span class=\"Wphh3N\"><span><span>3,625 Ratings </span><span class=\"hG7V+4\">&amp;</span><span> 271 Reviews</span></span></span></div><div class=\"_6NESgJ\"><ul class=\"G4BRas\"><li class=\"J+igdf\">8 GB RAM | 256 GB ROM</li><li class=\"J+igdf\">17.02 cm (6.7 inch) Full HD+ Display</li><li class=\"J+igdf\">50MP + 12MP | 10MP Front Camera</li><li class=\"J+igdf\">4700 mAh Battery</li><li class=\"J+igdf\">Exynos 2400e Processor</li><li class=\"J+igdf\">1 Year Manufacturer Warranty for Device and 6 Months for In-Box Accessories</li></ul></div></div><div class=\"col col-5-12 BfVC2z\"><div class=\"cN1yYO\"><div class=\"hl05eU\"><div class=\"Nx9bqj _4b5DiR\">₹40,999</div><div class=\"yRaY8j ZYYwLA\">₹<!-- -->65,999</div><div class=\"UkUFwK\"><span>37% off</span></div></div><div class=\"k6cAZE dlFt9U\"><div><div class=\"yiggsN\" style=\"color:#000000;font-size:12px;font-weight:400\">Free delivery</div></div></div></div><div class=\"_0CSTHy\"><img height=\"21\" src=\"//static-assets-web.flixcart.com/fk-p-linchpin-web/fk-cp-zion/img/fa_9e47c1.png\"/></div><div class=\"M4DNwV\"><div class=\"n5vj9c\"><div class=\"yiggsN O5Fpg8\" style=\"color:#000000;font-size:14px;font-style:normal;font-weight:400\">Upto </div><div class=\"yiggsN O5Fpg8\" style=\"color:#000000;font-size:14px;font-style:normal;font-weight:700\">₹24,050</div><div class=\"yiggsN O5Fpg8\" style=\"color:#000000;font-size:14px;font-style:normal;font-weight:400\"> Off on Exchange</div></div></div><div class=\"M4DNwV\"><div class=\"n5vj9c\"><div class=\"yiggsN O5Fpg8\" style=\"color:#26A541;font-size:14px;font-weight:700\">Bank Offer</div></div></div></div></div></a></div></div></div></div><div class=\"cPHDOP col-12-12\"><div class=\"_75nlfW\"><div data-id=\"MOBH4ZG33EBNZKS7\" style=\"width:100%\"><div class=\"tUxRFH\"><a class=\"CGtC98\" href=\"/samsung-galaxy-s24-fe-5g-graphite-128-gb/p/itme960199e26f23?pid=MOBH4ZG33EBNZKS7&amp;lid=LSTMOBH4ZG33EBNZKS751CITE&amp;marketplace=FLIPKART&amp;q=mobiles+under+50000+rupees&amp;store=tyy%2F4io&amp;spotlightTagId=default_BestsellerId_tyy%2F4io&amp;srno=s_1_3&amp;otracker=AS_QueryStore_OrganicAutoSuggest_1_19_na_na_na&amp;otracker1=AS_QueryStore_OrganicAutoSuggest_1_19_na_na_na&amp;fm=organic&amp;iid=db9dbfaa-46ca-42dc-a2eb-f90104f6f92b.MOBH4ZG33EBNZKS7.SEARCH&amp;ppt=None&amp;ppn=None&amp;ssid=qyn27ecwa80000001746801619635&amp;qH=91434633a446479e\" rel=\"noopener noreferrer\" target=\"_blank\"><div></div><div class=\"Otbq5D\"><div class=\"yPq5Io\"><div><div class=\"_4WELSP\" style=\"height:200px;width:200px\"><img alt=\"SAMSUNG Galaxy S24 FE 5G (Graphite, 128 GB)\" class=\"DByuf4\" loading=\"eager\" src=\"https://rukminim2.flixcart.com/image/312/312/xif0q/mobile/v/q/v/-original-imahbqxnzsptbypz.jpeg?q=70\"/></div></div></div><div class=\"qaR90o\"><div class=\"A8uQAd\"><span class=\"Lni97G\"><label class=\"tJjCVx\"><input class=\"vn9L2C\" readonly=\"\" type=\"checkbox\"/><div class=\"XqNaEv\"></div></label></span><label class=\"uu79Xy\"><span>Add to Compare</span></label></div></div><div class=\"oUss6M ssUU08\"><div class=\"+7E521\"><svg class=\"N1bADF\" height=\"16\" viewbox=\"0 0 20 16\" width=\"16\" xmlns=\"http://www.w3.org/2000/svg\"><path class=\"x1UMqG\" d=\"M8.695 16.682C4.06 12.382 1 9.536 1 6.065 1 3.219 3.178 1 5.95 1c1.566 0 3.069.746 4.05 1.915C10.981 1.745 12.484 1 14.05 1 16.822 1 19 3.22 19 6.065c0 3.471-3.06 6.316-7.695 10.617L10 17.897l-1.305-1.215z\" fill=\"#2874F0\" fill-rule=\"evenodd\" opacity=\".9\" stroke=\"#FFF\"></path></svg></div></div></div><div class=\"yKfJKb row\"><div class=\"col col-7-12\"><div class=\"KzDlHZ\">SAMSUNG Galaxy S24 FE 5G (Graphite, 128 GB)</div><div class=\"_5OesEi\"><span class=\"Y1HWO0\" id=\"productRating_LSTMOBH4ZG33EBNZKS751CITE_MOBH4ZG33EBNZKS7_\"><div class=\"XQDdHH\">4.5<img class=\"Rza2QY\" src=\"data:image/svg+xml;base64,PHN2ZyB4bWxucz0iaHR0cDovL3d3dy53My5vcmcvMjAwMC9zdmciIHdpZHRoPSIxMyIgaGVpZ2h0PSIxMiI+PHBhdGggZmlsbD0iI0ZGRiIgZD0iTTYuNSA5LjQzOWwtMy42NzQgMi4yMy45NC00LjI2LTMuMjEtMi44ODMgNC4yNTQtLjQwNEw2LjUuMTEybDEuNjkgNC4wMSA0LjI1NC40MDQtMy4yMSAyLjg4Mi45NCA0LjI2eiIvPjwvc3ZnPg==\"/></div></span><span class=\"Wphh3N\"><span><span>3,625 Ratings </span><span class=\"hG7V+4\">&amp;</span><span> 271 Reviews</span></span></span></div><div class=\"_6NESgJ\"><ul class=\"G4BRas\"><li class=\"J+igdf\">8 GB RAM | 128 GB ROM</li><li class=\"J+igdf\">17.02 cm (6.7 inch) Full HD+ Display</li><li class=\"J+igdf\">50MP + 12MP | 10MP Front Camera</li><li class=\"J+igdf\">4700 mAh Battery</li><li class=\"J+igdf\">Exynos 2400e Processor</li><li class=\"J+igdf\">1 Year Manufacturer Warranty for Device and 6 Months for In-Box Accessories</li></ul></div></div><div class=\"col col-5-12 BfVC2z\"><div class=\"cN1yYO\"><div class=\"hl05eU\"><div class=\"Nx9bqj _4b5DiR\">₹34,999</div><div class=\"yRaY8j ZYYwLA\">₹<!-- -->59,999</div><div class=\"UkUFwK\"><span>41% off</span></div></div><div class=\"k6cAZE dlFt9U\"><div><div class=\"yiggsN\" style=\"color:#000000;font-size:12px;font-weight:400\">Free delivery</div></div></div></div><div class=\"_0CSTHy\"><img height=\"21\" src=\"//static-assets-web.flixcart.com/fk-p-linchpin-web/fk-cp-zion/img/fa_9e47c1.png\"/></div><div class=\"M4DNwV\"><div class=\"n5vj9c\"><div class=\"yiggsN O5Fpg8\" style=\"color:#C70055;font-size:12px;font-weight:700\">Only 4 left</div></div></div><div class=\"M4DNwV\"><div class=\"n5vj9c\"><div class=\"yiggsN O5Fpg8\" style=\"color:#000000;font-size:14px;font-style:normal;font-weight:400\">Upto </div><div class=\"yiggsN O5Fpg8\" style=\"color:#000000;font-size:14px;font-style:normal;font-weight:700\">₹21,450</div><div class=\"yiggsN O5Fpg8\" style=\"color:#000000;font-size:14px;font-style:normal;font-weight:400\"> Off on Exchange</div></div></div></div></div></a></div></div></div></div><div class=\"cPHDOP col-12-12\"><div class=\"_75nlfW\"><div data-id=\"MOBH4ZG3JACNJMZC\" style=\"width:100%\"><div class=\"tUxRFH\"><a class=\"CGtC98\" href=\"/samsung-galaxy-s24-fe-5g-mint-256-gb/p/itme960199e26f23?pid=MOBH4ZG3JACNJMZC&amp;lid=LSTMOBH4ZG3JACNJMZCFREL85&amp;marketplace=FLIPKART&amp;q=mobiles+under+50000+rupees&amp;store=tyy%2F4io&amp;srno=s_1_4&amp;otracker=AS_QueryStore_OrganicAutoSuggest_1_19_na_na_na&amp;otracker1=AS_QueryStore_OrganicAutoSuggest_1_19_na_na_na&amp;fm=organic&amp;iid=db9dbfaa-46ca-42dc-a2eb-f90104f6f92b.MOBH4ZG3JACNJMZC.SEARCH&amp;ppt=None&amp;ppn=None&amp;ssid=qyn27ecwa80000001746801619635&amp;qH=91434633a446479e\" rel=\"noopener noreferrer\" target=\"_blank\"><div class=\"Otbq5D\"><div class=\"yPq5Io\"><div><div class=\"_4WELSP\" style=\"height:200px;width:200px\"><img alt=\"SAMSUNG Galaxy S24 FE 5G (Mint, 256 GB)\" class=\"DByuf4\" loading=\"eager\" src=\"https://rukminim2.flixcart.com/image/312/312/xif0q/mobile/u/c/g/-original-imahbqxnzgzee4mp.jpeg?q=70\"/></div></div></div><div class=\"qaR90o\"><div class=\"A8uQAd\"><span class=\"Lni97G\"><label class=\"tJjCVx\"><input class=\"vn9L2C\" readonly=\"\" type=\"checkbox\"/><div class=\"XqNaEv\"></div></label></span><label class=\"uu79Xy\"><span>Add to Compare</span></label></div></div><div class=\"oUss6M ssUU08\"><div class=\"+7E521\"><svg class=\"N1bADF\" height=\"16\" viewbox=\"0 0 20 16\" width=\"16\" xmlns=\"http://www.w3.org/2000/svg\"><path class=\"x1UMqG\" d=\"M8.695 16.682C4.06 12.382 1 9.536 1 6.065 1 3.219 3.178 1 5.95 1c1.566 0 3.069.746 4.05 1.915C10.981 1.745 12.484 1 14.05 1 16.822 1 19 3.22 19 6.065c0 3.471-3.06 6.316-7.695 10.617L10 17.897l-1.305-1.215z\" fill=\"#2874F0\" fill-rule=\"evenodd\" opacity=\".9\" stroke=\"#FFF\"></path></svg></div></div></div><div class=\"yKfJKb row\"><div class=\"col col-7-12\"><div class=\"KzDlHZ\">SAMSUNG Galaxy S24 FE 5G (Mint, 256 GB)</div><div class=\"_5OesEi\"><span class=\"Y1HWO0\" id=\"productRating_LSTMOBH4ZG3JACNJMZCFREL85_MOBH4ZG3JACNJMZC_\"><div class=\"XQDdHH\">4.5<img class=\"Rza2QY\" src=\"data:image/svg+xml;base64,PHN2ZyB4bWxucz0iaHR0cDovL3d3dy53My5vcmcvMjAwMC9zdmciIHdpZHRoPSIxMyIgaGVpZ2h0PSIxMiI+PHBhdGggZmlsbD0iI0ZGRiIgZD0iTTYuNSA5LjQzOWwtMy42NzQgMi4yMy45NC00LjI2LTMuMjEtMi44ODMgNC4yNTQtLjQwNEw2LjUuMTEybDEuNjkgNC4wMSA0LjI1NC40MDQtMy4yMSAyLjg4Mi45NCA0LjI2eiIvPjwvc3ZnPg==\"/></div></span><span class=\"Wphh3N\"><span><span>3,625 Ratings </span><span class=\"hG7V+4\">&amp;</span><span> 271 Reviews</span></span></span></div><div class=\"_6NESgJ\"><ul class=\"G4BRas\"><li class=\"J+igdf\">8 GB RAM | 256 GB ROM</li><li class=\"J+igdf\">17.02 cm (6.7 inch) Full HD+ Display</li><li class=\"J+igdf\">50MP + 12MP | 10MP Front Camera</li><li class=\"J+igdf\">4700 mAh Battery</li><li class=\"J+igdf\">Exynos 2400e Processor</li><li class=\"J+igdf\">1 Year Manufacturer Warranty for Device and 6 Months for In-Box Accessories</li></ul></div></div><div class=\"col col-5-12 BfVC2z\"><div class=\"cN1yYO\"><div class=\"hl05eU\"><div class=\"Nx9bqj _4b5DiR\">₹40,999</div><div class=\"yRaY8j ZYYwLA\">₹<!-- -->65,999</div><div class=\"UkUFwK\"><span>37% off</span></div></div><div class=\"k6cAZE dlFt9U\"><div><div class=\"yiggsN\" style=\"color:#000000;font-size:12px;font-weight:400\">Free delivery</div></div></div></div><div class=\"_0CSTHy\"><img height=\"21\" src=\"//static-assets-web.flixcart.com/fk-p-linchpin-web/fk-cp-zion/img/fa_9e47c1.png\"/></div><div class=\"M4DNwV\"><div class=\"n5vj9c\"><div class=\"yiggsN O5Fpg8\" style=\"color:#000000;font-size:14px;font-style:normal;font-weight:400\">Upto </div><div class=\"yiggsN O5Fpg8\" style=\"color:#000000;font-size:14px;font-style:normal;font-weight:700\">₹24,050</div><div class=\"yiggsN O5Fpg8\" style=\"color:#000000;font-size:14px;font-style:normal;font-weight:400\"> Off on Exchange</div></div></div><div class=\"M4DNwV\"><div class=\"n5vj9c\"><div class=\"yiggsN O5Fpg8\" style=\"color:#26A541;font-size:14px;font-weight:700\">Bank Offer</div></div></div></div></div></a></div></div></div></div><div class=\"cPHDOP col-12-12\"><div class=\"_75nlfW\"><div data-id=\"MOBH4ZG3TSXHKXH2\" style=\"width:100%\"><div class=\"tUxRFH\"><a class=\"CGtC98\" href=\"/samsung-galaxy-s24-fe-5g-mint-128-gb/p/itme960199e26f23?pid=MOBH4ZG3TSXHKXH2&amp;lid=LSTMOBH4ZG3TSXHKXH2BH0BQS&amp;marketplace=FLIPKART&amp;q=mobiles+under+50000+rupees&amp;store=tyy%2F4io&amp;srno=s_1_5&amp;otracker=AS_QueryStore_OrganicAutoSuggest_1_19_na_na_na&amp;otracker1=AS_QueryStore_OrganicAutoSuggest_1_19_na_na_na&amp;fm=organic&amp;iid=db9dbfaa-46ca-42dc-a2eb-f90104f6f92b.MOBH4ZG3TSXHKXH2.SEARCH&amp;ppt=None&amp;ppn=None&amp;ssid=qyn27ecwa80000001746801619635&amp;qH=91434633a446479e\" rel=\"noopener noreferrer\" target=\"_blank\"><div class=\"Otbq5D\"><div class=\"yPq5Io\"><div><div class=\"_4WELSP\" style=\"height:200px;width:200px\"><img alt=\"SAMSUNG Galaxy S24 FE 5G (Mint, 128 GB)\" class=\"DByuf4\" loading=\"eager\" src=\"https://rukminim2.flixcart.com/image/312/312/xif0q/mobile/u/c/g/-original-imahbqxnzgzee4mp.jpeg?q=70\"/></div></div></div><div class=\"qaR90o\"><div class=\"A8uQAd\"><span class=\"Lni97G\"><label class=\"tJjCVx\"><input class=\"vn9L2C\" readonly=\"\" type=\"checkbox\"/><div class=\"XqNaEv\"></div></label></span><label class=\"uu79Xy\"><span>Add to Compare</span></label></div></div><div class=\"oUss6M ssUU08\"><div class=\"+7E521\"><svg class=\"N1bADF\" height=\"16\" viewbox=\"0 0 20 16\" width=\"16\" xmlns=\"http://www.w3.org/2000/svg\"><path class=\"x1UMqG\" d=\"M8.695 16.682C4.06 12.382 1 9.536 1 6.065 1 3.219 3.178 1 5.95 1c1.566 0 3.069.746 4.05 1.915C10.981 1.745 12.484 1 14.05 1 16.822 1 19 3.22 19 6.065c0 3.471-3.06 6.316-7.695 10.617L10 17.897l-1.305-1.215z\" fill=\"#2874F0\" fill-rule=\"evenodd\" opacity=\".9\" stroke=\"#FFF\"></path></svg></div></div></div><div class=\"yKfJKb row\"><div class=\"col col-7-12\"><div class=\"KzDlHZ\">SAMSUNG Galaxy S24 FE 5G (Mint, 128 GB)</div><div class=\"_5OesEi\"><span class=\"Y1HWO0\" id=\"productRating_LSTMOBH4ZG3TSXHKXH2BH0BQS_MOBH4ZG3TSXHKXH2_\"><div class=\"XQDdHH\">4.5<img class=\"Rza2QY\" src=\"data:image/svg+xml;base64,PHN2ZyB4bWxucz0iaHR0cDovL3d3dy53My5vcmcvMjAwMC9zdmciIHdpZHRoPSIxMyIgaGVpZ2h0PSIxMiI+PHBhdGggZmlsbD0iI0ZGRiIgZD0iTTYuNSA5LjQzOWwtMy42NzQgMi4yMy45NC00LjI2LTMuMjEtMi44ODMgNC4yNTQtLjQwNEw2LjUuMTEybDEuNjkgNC4wMSA0LjI1NC40MDQtMy4yMSAyLjg4Mi45NCA0LjI2eiIvPjwvc3ZnPg==\"/></div></span><span class=\"Wphh3N\"><span><span>3,625 Ratings </span><span class=\"hG7V+4\">&amp;</span><span> 271 Reviews</span></span></span></div><div class=\"_6NESgJ\"><ul class=\"G4BRas\"><li class=\"J+igdf\">8 GB RAM | 128 GB ROM</li><li class=\"J+igdf\">17.02 cm (6.7 inch) Full HD+ Display</li><li class=\"J+igdf\">50MP + 12MP | 10MP Front Camera</li><li class=\"J+igdf\">4700 mAh Battery</li><li class=\"J+igdf\">Exynos 2400e Processor</li><li class=\"J+igdf\">1 Year Manufacturer Warranty for Device and 6 Months for In-Box Accessories</li></ul></div></div><div class=\"col col-5-12 BfVC2z\"><div class=\"cN1yYO\"><div class=\"hl05eU\"><div class=\"Nx9bqj _4b5DiR\">₹34,999</div><div class=\"yRaY8j ZYYwLA\">₹<!-- -->59,999</div><div class=\"UkUFwK\"><span>41% off</span></div></div><div class=\"k6cAZE dlFt9U\"><div><div class=\"yiggsN\" style=\"color:#000000;font-size:12px;font-weight:400\">Free delivery</div></div></div></div><div class=\"_0CSTHy\"><img height=\"21\" src=\"//static-assets-web.flixcart.com/fk-p-linchpin-web/fk-cp-zion/img/fa_9e47c1.png\"/></div><div class=\"M4DNwV\"><div class=\"n5vj9c\"><div class=\"yiggsN O5Fpg8\" style=\"color:#000000;font-size:14px;font-style:normal;font-weight:400\">Upto </div><div class=\"yiggsN O5Fpg8\" style=\"color:#000000;font-size:14px;font-style:normal;font-weight:700\">₹21,450</div><div class=\"yiggsN O5Fpg8\" style=\"color:#000000;font-size:14px;font-style:normal;font-weight:400\"> Off on Exchange</div></div></div><div class=\"M4DNwV\"><div class=\"n5vj9c\"><div class=\"yiggsN O5Fpg8\" style=\"color:#26A541;font-size:14px;font-weight:700\">Bank Offer</div></div></div></div></div></a></div></div></div></div><div class=\"cPHDOP col-12-12\"><div class=\"_75nlfW\"><div data-id=\"MOBH4ZG3Z5NCBW2H\" style=\"width:100%\"><div class=\"tUxRFH\"><a class=\"CGtC98\" href=\"/samsung-galaxy-s24-fe-5g-blue-128-gb/p/itme960199e26f23?pid=MOBH4ZG3Z5NCBW2H&amp;lid=LSTMOBH4ZG3Z5NCBW2HWQMO2K&amp;marketplace=FLIPKART&amp;q=mobiles+under+50000+rupees&amp;store=tyy%2F4io&amp;spotlightTagId=default_BestsellerId_tyy%2F4io&amp;srno=s_1_6&amp;otracker=AS_QueryStore_OrganicAutoSuggest_1_19_na_na_na&amp;otracker1=AS_QueryStore_OrganicAutoSuggest_1_19_na_na_na&amp;fm=organic&amp;iid=db9dbfaa-46ca-42dc-a2eb-f90104f6f92b.MOBH4ZG3Z5NCBW2H.SEARCH&amp;ppt=None&amp;ppn=None&amp;ssid=qyn27ecwa80000001746801619635&amp;qH=91434633a446479e\" rel=\"noopener noreferrer\" target=\"_blank\"><div></div><div class=\"Otbq5D\"><div class=\"yPq5Io\"><div><div class=\"_4WELSP\" style=\"height:200px;width:200px\"><img alt=\"SAMSUNG Galaxy S24 FE 5G (Blue, 128 GB)\" class=\"DByuf4\" loading=\"eager\" src=\"https://rukminim2.flixcart.com/image/312/312/xif0q/mobile/m/3/k/-original-imahbqxnuhznhsj4.jpeg?q=70\"/></div></div></div><div class=\"qaR90o\"><div class=\"A8uQAd\"><span class=\"Lni97G\"><label class=\"tJjCVx\"><input class=\"vn9L2C\" readonly=\"\" type=\"checkbox\"/><div class=\"XqNaEv\"></div></label></span><label class=\"uu79Xy\"><span>Add to Compare</span></label></div></div><div class=\"oUss6M ssUU08\"><div class=\"+7E521\"><svg class=\"N1bADF\" height=\"16\" viewbox=\"0 0 20 16\" width=\"16\" xmlns=\"http://www.w3.org/2000/svg\"><path class=\"x1UMqG\" d=\"M8.695 16.682C4.06 12.382 1 9.536 1 6.065 1 3.219 3.178 1 5.95 1c1.566 0 3.069.746 4.05 1.915C10.981 1.745 12.484 1 14.05 1 16.822 1 19 3.22 19 6.065c0 3.471-3.06 6.316-7.695 10.617L10 17.897l-1.305-1.215z\" fill=\"#2874F0\" fill-rule=\"evenodd\" opacity=\".9\" stroke=\"#FFF\"></path></svg></div></div></div><div class=\"yKfJKb row\"><div class=\"col col-7-12\"><div class=\"KzDlHZ\">SAMSUNG Galaxy S24 FE 5G (Blue, 128 GB)</div><div class=\"_5OesEi\"><span class=\"Y1HWO0\" id=\"productRating_LSTMOBH4ZG3Z5NCBW2HWQMO2K_MOBH4ZG3Z5NCBW2H_\"><div class=\"XQDdHH\">4.5<img class=\"Rza2QY\" src=\"data:image/svg+xml;base64,PHN2ZyB4bWxucz0iaHR0cDovL3d3dy53My5vcmcvMjAwMC9zdmciIHdpZHRoPSIxMyIgaGVpZ2h0PSIxMiI+PHBhdGggZmlsbD0iI0ZGRiIgZD0iTTYuNSA5LjQzOWwtMy42NzQgMi4yMy45NC00LjI2LTMuMjEtMi44ODMgNC4yNTQtLjQwNEw2LjUuMTEybDEuNjkgNC4wMSA0LjI1NC40MDQtMy4yMSAyLjg4Mi45NCA0LjI2eiIvPjwvc3ZnPg==\"/></div></span><span class=\"Wphh3N\"><span><span>3,625 Ratings </span><span class=\"hG7V+4\">&amp;</span><span> 271 Reviews</span></span></span></div><div class=\"_6NESgJ\"><ul class=\"G4BRas\"><li class=\"J+igdf\">8 GB RAM | 128 GB ROM</li><li class=\"J+igdf\">17.02 cm (6.7 inch) Full HD+ Display</li><li class=\"J+igdf\">50MP + 12MP | 10MP Front Camera</li><li class=\"J+igdf\">4700 mAh Battery</li><li class=\"J+igdf\">Exynos 2400e Processor</li><li class=\"J+igdf\">1 Year Manufacturer Warranty for Device and 6 Months for In-Box Accessories</li></ul></div></div><div class=\"col col-5-12 BfVC2z\"><div class=\"cN1yYO\"><div class=\"hl05eU\"><div class=\"Nx9bqj _4b5DiR\">₹34,999</div><div class=\"yRaY8j ZYYwLA\">₹<!-- -->59,999</div><div class=\"UkUFwK\"><span>41% off</span></div></div><div class=\"k6cAZE dlFt9U\"><div><div class=\"yiggsN\" style=\"color:#000000;font-size:12px;font-weight:400\">Free delivery</div></div></div></div><div class=\"_0CSTHy\"><img height=\"21\" src=\"//static-assets-web.flixcart.com/fk-p-linchpin-web/fk-cp-zion/img/fa_9e47c1.png\"/></div><div class=\"M4DNwV\"><div class=\"n5vj9c\"><div class=\"yiggsN O5Fpg8\" style=\"color:#000000;font-size:14px;font-style:normal;font-weight:400\">Upto </div><div class=\"yiggsN O5Fpg8\" style=\"color:#000000;font-size:14px;font-style:normal;font-weight:700\">₹21,450</div><div class=\"yiggsN O5Fpg8\" style=\"color:#000000;font-size:14px;font-style:normal;font-weight:400\"> Off on Exchange</div></div></div><div class=\"M4DNwV\"><div class=\"n5vj9c\"><div class=\"yiggsN O5Fpg8\" style=\"color:#26A541;font-size:14px;font-weight:700\">Bank Offer</div></div></div></div></div></a></div></div></div></div><div class=\"cPHDOP col-12-12\"><div class=\"_75nlfW\"><div data-id=\"MOBH4ZG3KPRR7HWZ\" style=\"width:100%\"><div class=\"tUxRFH\"><a class=\"CGtC98\" href=\"/samsung-galaxy-s24-fe-5g-graphite-256-gb/p/itme960199e26f23?pid=MOBH4ZG3KPRR7HWZ&amp;lid=LSTMOBH4ZG3KPRR7HWZWYHPPG&amp;marketplace=FLIPKART&amp;q=mobiles+under+50000+rupees&amp;store=tyy%2F4io&amp;srno=s_1_7&amp;otracker=AS_QueryStore_OrganicAutoSuggest_1_19_na_na_na&amp;otracker1=AS_QueryStore_OrganicAutoSuggest_1_19_na_na_na&amp;fm=organic&amp;iid=db9dbfaa-46ca-42dc-a2eb-f90104f6f92b.MOBH4ZG3KPRR7HWZ.SEARCH&amp;ppt=None&amp;ppn=None&amp;ssid=qyn27ecwa80000001746801619635&amp;qH=91434633a446479e\" rel=\"noopener noreferrer\" target=\"_blank\"><div class=\"Otbq5D\"><div class=\"yPq5Io\"><div><div class=\"_4WELSP\" style=\"height:200px;width:200px\"><img alt=\"SAMSUNG Galaxy S24 FE 5G (Graphite, 256 GB)\" class=\"DByuf4\" loading=\"eager\" src=\"https://rukminim2.flixcart.com/image/312/312/xif0q/mobile/v/q/v/-original-imahbqxnzsptbypz.jpeg?q=70\"/></div></div></div><div class=\"qaR90o\"><div class=\"A8uQAd\"><span class=\"Lni97G\"><label class=\"tJjCVx\"><input class=\"vn9L2C\" readonly=\"\" type=\"checkbox\"/><div class=\"XqNaEv\"></div></label></span><label class=\"uu79Xy\"><span>Add to Compare</span></label></div></div><div class=\"oUss6M ssUU08\"><div class=\"+7E521\"><svg class=\"N1bADF\" height=\"16\" viewbox=\"0 0 20 16\" width=\"16\" xmlns=\"http://www.w3.org/2000/svg\"><path class=\"x1UMqG\" d=\"M8.695 16.682C4.06 12.382 1 9.536 1 6.065 1 3.219 3.178 1 5.95 1c1.566 0 3.069.746 4.05 1.915C10.981 1.745 12.484 1 14.05 1 16.822 1 19 3.22 19 6.065c0 3.471-3.06 6.316-7.695 10.617L10 17.897l-1.305-1.215z\" fill=\"#2874F0\" fill-rule=\"evenodd\" opacity=\".9\" stroke=\"#FFF\"></path></svg></div></div></div><div class=\"yKfJKb row\"><div class=\"col col-7-12\"><div class=\"KzDlHZ\">SAMSUNG Galaxy S24 FE 5G (Graphite, 256 GB)</div><div class=\"_5OesEi\"><span class=\"Y1HWO0\" id=\"productRating_LSTMOBH4ZG3KPRR7HWZWYHPPG_MOBH4ZG3KPRR7HWZ_\"><div class=\"XQDdHH\">4.5<img class=\"Rza2QY\" src=\"data:image/svg+xml;base64,PHN2ZyB4bWxucz0iaHR0cDovL3d3dy53My5vcmcvMjAwMC9zdmciIHdpZHRoPSIxMyIgaGVpZ2h0PSIxMiI+PHBhdGggZmlsbD0iI0ZGRiIgZD0iTTYuNSA5LjQzOWwtMy42NzQgMi4yMy45NC00LjI2LTMuMjEtMi44ODMgNC4yNTQtLjQwNEw2LjUuMTEybDEuNjkgNC4wMSA0LjI1NC40MDQtMy4yMSAyLjg4Mi45NCA0LjI2eiIvPjwvc3ZnPg==\"/></div></span><span class=\"Wphh3N\"><span><span>3,625 Ratings </span><span class=\"hG7V+4\">&amp;</span><span> 271 Reviews</span></span></span></div><div class=\"_6NESgJ\"><ul class=\"G4BRas\"><li class=\"J+igdf\">8 GB RAM | 256 GB ROM</li><li class=\"J+igdf\">17.02 cm (6.7 inch) Full HD+ Display</li><li class=\"J+igdf\">50MP + 12MP | 10MP Front Camera</li><li class=\"J+igdf\">4700 mAh Battery</li><li class=\"J+igdf\">Exynos 2400e Processor</li><li class=\"J+igdf\">1 Year Manufacturer Warranty for Device and 6 Months for In-Box Accessories</li></ul></div></div><div class=\"col col-5-12 BfVC2z\"><div class=\"cN1yYO\"><div class=\"hl05eU\"><div class=\"Nx9bqj _4b5DiR\">₹40,999</div><div class=\"yRaY8j ZYYwLA\">₹<!-- -->65,999</div><div class=\"UkUFwK\"><span>37% off</span></div></div><div class=\"k6cAZE dlFt9U\"><div><div class=\"yiggsN\" style=\"color:#000000;font-size:12px;font-weight:400\">Free delivery</div></div></div></div><div class=\"_0CSTHy\"><img height=\"21\" src=\"//static-assets-web.flixcart.com/fk-p-linchpin-web/fk-cp-zion/img/fa_9e47c1.png\"/></div><div class=\"M4DNwV\"><div class=\"n5vj9c\"><div class=\"yiggsN O5Fpg8\" style=\"color:#000000;font-size:14px;font-style:normal;font-weight:400\">Upto </div><div class=\"yiggsN O5Fpg8\" style=\"color:#000000;font-size:14px;font-style:normal;font-weight:700\">₹24,050</div><div class=\"yiggsN O5Fpg8\" style=\"color:#000000;font-size:14px;font-style:normal;font-weight:400\"> Off on Exchange</div></div></div><div class=\"M4DNwV\"><div class=\"n5vj9c\"><div class=\"yiggsN O5Fpg8\" style=\"color:#26A541;font-size:14px;font-weight:700\">Bank Offer</div></div></div></div></div></a></div></div></div></div><div class=\"cPHDOP col-12-12\"><div class=\"_75nlfW\"><div data-id=\"MOBHYJ6QFUNQYFDH\" style=\"width:100%\"><div class=\"tUxRFH\"><a class=\"CGtC98\" href=\"/samsung-galaxy-s24-5g-onyx-black-128-gb/p/itmc8add40b88912?pid=MOBHYJ6QFUNQYFDH&amp;lid=LSTMOBHYJ6QFUNQYFDHVZACEH&amp;marketplace=FLIPKART&amp;q=mobiles+under+50000+rupees&amp;store=tyy%2F4io&amp;srno=s_1_8&amp;otracker=AS_QueryStore_OrganicAutoSuggest_1_19_na_na_na&amp;otracker1=AS_QueryStore_OrganicAutoSuggest_1_19_na_na_na&amp;fm=organic&amp;iid=db9dbfaa-46ca-42dc-a2eb-f90104f6f92b.MOBHYJ6QFUNQYFDH.SEARCH&amp;ppt=None&amp;ppn=None&amp;ssid=qyn27ecwa80000001746801619635&amp;qH=91434633a446479e\" rel=\"noopener noreferrer\" target=\"_blank\"><div class=\"Otbq5D\"><div class=\"yPq5Io\"><div><div class=\"_4WELSP\" style=\"height:200px;width:200px\"><img alt=\"SAMSUNG Galaxy S24 5G (Onyx Black, 128 GB)\" class=\"DByuf4\" loading=\"eager\" src=\"https://rukminim2.flixcart.com/image/312/312/xif0q/mobile/1/q/u/-original-imahbpk4pfzzgkgj.jpeg?q=70\"/></div></div></div><div class=\"qaR90o\"><div class=\"A8uQAd\"><span class=\"Lni97G\"><label class=\"tJjCVx\"><input class=\"vn9L2C\" readonly=\"\" type=\"checkbox\"/><div class=\"XqNaEv\"></div></label></span><label class=\"uu79Xy\"><span>Add to Compare</span></label></div></div><div class=\"oUss6M ssUU08\"><div class=\"+7E521\"><svg class=\"N1bADF\" height=\"16\" viewbox=\"0 0 20 16\" width=\"16\" xmlns=\"http://www.w3.org/2000/svg\"><path class=\"x1UMqG\" d=\"M8.695 16.682C4.06 12.382 1 9.536 1 6.065 1 3.219 3.178 1 5.95 1c1.566 0 3.069.746 4.05 1.915C10.981 1.745 12.484 1 14.05 1 16.822 1 19 3.22 19 6.065c0 3.471-3.06 6.316-7.695 10.617L10 17.897l-1.305-1.215z\" fill=\"#2874F0\" fill-rule=\"evenodd\" opacity=\".9\" stroke=\"#FFF\"></path></svg></div></div></div><div class=\"yKfJKb row\"><div class=\"col col-7-12\"><div class=\"KzDlHZ\">SAMSUNG Galaxy S24 5G (Onyx Black, 128 GB)</div><div class=\"_5OesEi\"><span class=\"Y1HWO0\" id=\"productRating_LSTMOBHYJ6QFUNQYFDHVZACEH_MOBHYJ6QFUNQYFDH_\"><div class=\"XQDdHH\">4.6<img class=\"Rza2QY\" src=\"data:image/svg+xml;base64,PHN2ZyB4bWxucz0iaHR0cDovL3d3dy53My5vcmcvMjAwMC9zdmciIHdpZHRoPSIxMyIgaGVpZ2h0PSIxMiI+PHBhdGggZmlsbD0iI0ZGRiIgZD0iTTYuNSA5LjQzOWwtMy42NzQgMi4yMy45NC00LjI2LTMuMjEtMi44ODMgNC4yNTQtLjQwNEw2LjUuMTEybDEuNjkgNC4wMSA0LjI1NC40MDQtMy4yMSAyLjg4Mi45NCA0LjI2eiIvPjwvc3ZnPg==\"/></div></span><span class=\"Wphh3N\"><span><span>2,526 Ratings </span><span class=\"hG7V+4\">&amp;</span><span> 207 Reviews</span></span></span></div><div class=\"_6NESgJ\"><ul class=\"G4BRas\"><li class=\"J+igdf\">8 GB RAM | 128 GB ROM</li><li class=\"J+igdf\">15.75 cm (6.2 inch) Full HD+ Display</li><li class=\"J+igdf\">50MP + 10MP + 12MP | 12MP Front Camera</li><li class=\"J+igdf\">4000 mAh Battery</li><li class=\"J+igdf\">Exynos 2400 Processor</li><li class=\"J+igdf\">1 Year Manufacturer Warranty for Device and 6 Months for In-Box Accessories</li></ul></div></div><div class=\"col col-5-12 BfVC2z\"><div class=\"cN1yYO\"><div class=\"hl05eU\"><div class=\"Nx9bqj _4b5DiR\">₹44,999</div><div class=\"yRaY8j ZYYwLA\">₹<!-- -->74,999</div><div class=\"UkUFwK\"><span>40% off</span></div></div><div class=\"k6cAZE dlFt9U\"><div><div class=\"yiggsN\" style=\"color:#000000;font-size:12px;font-weight:400\">Free delivery</div></div></div></div><div class=\"_0CSTHy\"><img height=\"21\" src=\"//static-assets-web.flixcart.com/fk-p-linchpin-web/fk-cp-zion/img/fa_9e47c1.png\"/></div><div class=\"M4DNwV\"><div class=\"n5vj9c\"><div class=\"yiggsN O5Fpg8\" style=\"color:#000000;font-size:14px;font-style:normal;font-weight:400\">Upto </div><div class=\"yiggsN O5Fpg8\" style=\"color:#000000;font-size:14px;font-style:normal;font-weight:700\">₹27,500</div><div class=\"yiggsN O5Fpg8\" style=\"color:#000000;font-size:14px;font-style:normal;font-weight:400\"> Off on Exchange</div></div></div><div class=\"M4DNwV\"><div class=\"n5vj9c\"><div class=\"yiggsN O5Fpg8\" style=\"color:#26A541;font-size:14px;font-weight:700\">Bank Offer</div></div></div></div></div></a></div></div></div></div><div class=\"cPHDOP col-12-12\"><div class=\"_75nlfW\"><div data-id=\"MOBGX2F3ZUBMWBGP\" style=\"width:100%\"><div class=\"tUxRFH\"><a class=\"CGtC98\" href=\"/samsung-galaxy-s24-5g-onyx-black-256-gb/p/itm0456c01739016?pid=MOBGX2F3ZUBMWBGP&amp;lid=LSTMOBGX2F3ZUBMWBGPME7BYW&amp;marketplace=FLIPKART&amp;q=mobiles+under+50000+rupees&amp;store=tyy%2F4io&amp;srno=s_1_9&amp;otracker=AS_QueryStore_OrganicAutoSuggest_1_19_na_na_na&amp;otracker1=AS_QueryStore_OrganicAutoSuggest_1_19_na_na_na&amp;fm=organic&amp;iid=db9dbfaa-46ca-42dc-a2eb-f90104f6f92b.MOBGX2F3ZUBMWBGP.SEARCH&amp;ppt=None&amp;ppn=None&amp;ssid=qyn27ecwa80000001746801619635&amp;qH=91434633a446479e\" rel=\"noopener noreferrer\" target=\"_blank\"><div class=\"Otbq5D\"><div class=\"yPq5Io\"><div><div class=\"_4WELSP\" style=\"height:200px;width:200px\"><img alt=\"SAMSUNG Galaxy S24 5G (Onyx Black, 256 GB)\" class=\"DByuf4\" loading=\"eager\" src=\"https://rukminim2.flixcart.com/image/312/312/xif0q/mobile/1/q/u/-original-imahbpk4pfzzgkgj.jpeg?q=70\"/></div></div></div><div class=\"qaR90o\"><div class=\"A8uQAd\"><span class=\"Lni97G\"><label class=\"tJjCVx\"><input class=\"vn9L2C\" readonly=\"\" type=\"checkbox\"/><div class=\"XqNaEv\"></div></label></span><label class=\"uu79Xy\"><span>Add to Compare</span></label></div></div><div class=\"oUss6M ssUU08\"><div class=\"+7E521\"><svg class=\"N1bADF\" height=\"16\" viewbox=\"0 0 20 16\" width=\"16\" xmlns=\"http://www.w3.org/2000/svg\"><path class=\"x1UMqG\" d=\"M8.695 16.682C4.06 12.382 1 9.536 1 6.065 1 3.219 3.178 1 5.95 1c1.566 0 3.069.746 4.05 1.915C10.981 1.745 12.484 1 14.05 1 16.822 1 19 3.22 19 6.065c0 3.471-3.06 6.316-7.695 10.617L10 17.897l-1.305-1.215z\" fill=\"#2874F0\" fill-rule=\"evenodd\" opacity=\".9\" stroke=\"#FFF\"></path></svg></div></div></div><div class=\"yKfJKb row\"><div class=\"col col-7-12\"><div class=\"KzDlHZ\">SAMSUNG Galaxy S24 5G (Onyx Black, 256 GB)</div><div class=\"_5OesEi\"><span class=\"Y1HWO0\" id=\"productRating_LSTMOBGX2F3ZUBMWBGPME7BYW_MOBGX2F3ZUBMWBGP_\"><div class=\"XQDdHH\">4.6<img class=\"Rza2QY\" src=\"data:image/svg+xml;base64,PHN2ZyB4bWxucz0iaHR0cDovL3d3dy53My5vcmcvMjAwMC9zdmciIHdpZHRoPSIxMyIgaGVpZ2h0PSIxMiI+PHBhdGggZmlsbD0iI0ZGRiIgZD0iTTYuNSA5LjQzOWwtMy42NzQgMi4yMy45NC00LjI2LTMuMjEtMi44ODMgNC4yNTQtLjQwNEw2LjUuMTEybDEuNjkgNC4wMSA0LjI1NC40MDQtMy4yMSAyLjg4Mi45NCA0LjI2eiIvPjwvc3ZnPg==\"/></div></span><span class=\"Wphh3N\"><span><span>2,526 Ratings </span><span class=\"hG7V+4\">&amp;</span><span> 207 Reviews</span></span></span></div><div class=\"_6NESgJ\"><ul class=\"G4BRas\"><li class=\"J+igdf\">8 GB RAM | 256 GB ROM</li><li class=\"J+igdf\">15.75 cm (6.2 inch) Full HD+ Display</li><li class=\"J+igdf\">50MP + 10MP + 12MP | 12MP Front Camera</li><li class=\"J+igdf\">4000 mAh Battery</li><li class=\"J+igdf\">Exynos 2400 Processor</li><li class=\"J+igdf\">1 Year Manufacturer Warranty for Device and 6 Months for In-Box Accessories</li></ul></div></div><div class=\"col col-5-12 BfVC2z\"><div class=\"cN1yYO\"><div class=\"hl05eU\"><div class=\"Nx9bqj _4b5DiR\">₹50,999</div><div class=\"yRaY8j ZYYwLA\">₹<!-- -->79,999</div><div class=\"UkUFwK\"><span>36% off</span></div></div><div class=\"k6cAZE dlFt9U\"><div><div class=\"yiggsN\" style=\"color:#000000;font-size:12px;font-weight:400\">Free delivery</div></div></div></div><div class=\"_0CSTHy\"><img height=\"21\" src=\"//static-assets-web.flixcart.com/fk-p-linchpin-web/fk-cp-zion/img/fa_9e47c1.png\"/></div><div class=\"M4DNwV\"><div class=\"n5vj9c\" style=\"padding-top:4px;padding-right:4px;padding-bottom:4px;padding-left:4px;border-radius:2px;background-color:#E7F8EC\"><div class=\"yiggsN O5Fpg8\" style=\"color:#26A541;font-size:12px;font-weight:700\">Lowest price in the year</div></div></div><div class=\"M4DNwV\"><div class=\"n5vj9c\"><div class=\"yiggsN O5Fpg8\" style=\"color:#000000;font-size:14px;font-style:normal;font-weight:400\">Upto </div><div class=\"yiggsN O5Fpg8\" style=\"color:#000000;font-size:14px;font-style:normal;font-weight:700\">₹26,200</div><div class=\"yiggsN O5Fpg8\" style=\"color:#000000;font-size:14px;font-style:normal;font-weight:400\"> Off on Exchange</div></div></div></div></div></a></div></div></div></div><div class=\"cPHDOP col-12-12\"><div class=\"_75nlfW\"><div data-id=\"MOBG6VF5Q82T3XRS\" style=\"width:100%\"><div class=\"tUxRFH\"><a class=\"CGtC98\" href=\"/apple-iphone-13-midnight-128-gb/p/itmca361aab1c5b0?pid=MOBG6VF5Q82T3XRS&amp;lid=LSTMOBG6VF5Q82T3XRSOXJLM9&amp;marketplace=FLIPKART&amp;q=mobiles+under+50000+rupees&amp;store=tyy%2F4io&amp;spotlightTagId=default_BestsellerId_tyy%2F4io&amp;srno=s_1_10&amp;otracker=AS_QueryStore_OrganicAutoSuggest_1_19_na_na_na&amp;otracker1=AS_QueryStore_OrganicAutoSuggest_1_19_na_na_na&amp;fm=organic&amp;iid=db9dbfaa-46ca-42dc-a2eb-f90104f6f92b.MOBG6VF5Q82T3XRS.SEARCH&amp;ppt=None&amp;ppn=None&amp;ssid=qyn27ecwa80000001746801619635&amp;qH=91434633a446479e\" rel=\"noopener noreferrer\" target=\"_blank\"><div></div><div class=\"Otbq5D\"><div class=\"yPq5Io\"><div><div class=\"_4WELSP\" style=\"height:200px;width:200px\"><img alt=\"Apple iPhone 13 (Midnight, 128 GB)\" class=\"DByuf4\" loading=\"eager\" src=\"https://rukminim2.flixcart.com/image/312/312/ktketu80/mobile/s/l/c/iphone-13-mlpf3hn-a-apple-original-imag6vzz5qvejz8z.jpeg?q=70\"/></div></div></div><div class=\"qaR90o\"><div class=\"A8uQAd\"><span class=\"Lni97G\"><label class=\"tJjCVx\"><input class=\"vn9L2C\" readonly=\"\" type=\"checkbox\"/><div class=\"XqNaEv\"></div></label></span><label class=\"uu79Xy\"><span>Add to Compare</span></label></div></div><div class=\"oUss6M ssUU08\"><div class=\"+7E521\"><svg class=\"N1bADF\" height=\"16\" viewbox=\"0 0 20 16\" width=\"16\" xmlns=\"http://www.w3.org/2000/svg\"><path class=\"x1UMqG\" d=\"M8.695 16.682C4.06 12.382 1 9.536 1 6.065 1 3.219 3.178 1 5.95 1c1.566 0 3.069.746 4.05 1.915C10.981 1.745 12.484 1 14.05 1 16.822 1 19 3.22 19 6.065c0 3.471-3.06 6.316-7.695 10.617L10 17.897l-1.305-1.215z\" fill=\"#2874F0\" fill-rule=\"evenodd\" opacity=\".9\" stroke=\"#FFF\"></path></svg></div></div></div><div class=\"yKfJKb row\"><div class=\"col col-7-12\"><div class=\"KzDlHZ\">Apple iPhone 13 (Midnight, 128 GB)</div><div class=\"_5OesEi\"><span class=\"Y1HWO0\" id=\"productRating_LSTMOBG6VF5Q82T3XRSOXJLM9_MOBG6VF5Q82T3XRS_\"><div class=\"XQDdHH\">4.6<img class=\"Rza2QY\" src=\"data:image/svg+xml;base64,PHN2ZyB4bWxucz0iaHR0cDovL3d3dy53My5vcmcvMjAwMC9zdmciIHdpZHRoPSIxMyIgaGVpZ2h0PSIxMiI+PHBhdGggZmlsbD0iI0ZGRiIgZD0iTTYuNSA5LjQzOWwtMy42NzQgMi4yMy45NC00LjI2LTMuMjEtMi44ODMgNC4yNTQtLjQwNEw2LjUuMTEybDEuNjkgNC4wMSA0LjI1NC40MDQtMy4yMSAyLjg4Mi45NCA0LjI2eiIvPjwvc3ZnPg==\"/></div></span><span class=\"Wphh3N\"><span><span>2,90,118 Ratings </span><span class=\"hG7V+4\">&amp;</span><span> 13,869 Reviews</span></span></span></div><div class=\"_6NESgJ\"><ul class=\"G4BRas\"><li class=\"J+igdf\">128 GB ROM</li><li class=\"J+igdf\">15.49 cm (6.1 inch) Super Retina XDR Display</li><li class=\"J+igdf\">12MP + 12MP | 12MP Front Camera</li><li class=\"J+igdf\">A15 Bionic Chip Processor</li><li class=\"J+igdf\">1 year warranty for phone and 1 year warranty for in Box Accessories.</li></ul></div></div><div class=\"col col-5-12 BfVC2z\"><div class=\"cN1yYO\"><div class=\"hl05eU\"><div class=\"Nx9bqj _4b5DiR\">₹44,999</div><div class=\"yRaY8j ZYYwLA\">₹<!-- -->49,900</div><div class=\"UkUFwK\"><span>9% off</span></div></div><div class=\"k6cAZE dlFt9U\"><div><div class=\"yiggsN\" style=\"color:#000000;font-size:12px;font-weight:400\">Free delivery</div></div></div></div><div class=\"_0CSTHy\"><img height=\"21\" src=\"//static-assets-web.flixcart.com/fk-p-linchpin-web/fk-cp-zion/img/fa_9e47c1.png\"/></div><div class=\"M4DNwV\"><div class=\"n5vj9c\" style=\"padding-top:4px;padding-right:4px;padding-bottom:4px;padding-left:4px;border-radius:2px;background-color:#E7F8EC\"><div class=\"yiggsN O5Fpg8\" style=\"color:#26A541;font-size:12px;font-weight:700\">Hot Deal</div></div></div><div class=\"M4DNwV\"><div class=\"n5vj9c\"><div class=\"yiggsN O5Fpg8\" style=\"color:#000000;font-size:14px;font-style:normal;font-weight:400\">Upto </div><div class=\"yiggsN O5Fpg8\" style=\"color:#000000;font-size:14px;font-style:normal;font-weight:700\">₹27,500</div><div class=\"yiggsN O5Fpg8\" style=\"color:#000000;font-size:14px;font-style:normal;font-weight:400\"> Off on Exchange</div></div></div></div></div></a></div></div></div></div><div class=\"cPHDOP col-12-12\"><div class=\"_75nlfW\"><div data-id=\"MOBH9YMEQUGCHPHN\" style=\"width:100%\"><div class=\"tUxRFH\"><a class=\"CGtC98\" href=\"/google-pixel-9a-obsidian-256-gb/p/itmf9d1fcfa566cf?pid=MOBH9YMEQUGCHPHN&amp;lid=LSTMOBH9YMEQUGCHPHNSFHZNA&amp;marketplace=FLIPKART&amp;q=mobiles+under+50000+rupees&amp;store=tyy%2F4io&amp;srno=s_1_11&amp;otracker=AS_QueryStore_OrganicAutoSuggest_1_19_na_na_na&amp;otracker1=AS_QueryStore_OrganicAutoSuggest_1_19_na_na_na&amp;fm=organic&amp;iid=db9dbfaa-46ca-42dc-a2eb-f90104f6f92b.MOBH9YMEQUGCHPHN.SEARCH&amp;ppt=None&amp;ppn=None&amp;ssid=qyn27ecwa80000001746801619635&amp;qH=91434633a446479e\" rel=\"noopener noreferrer\" target=\"_blank\"><div class=\"Otbq5D\"><div class=\"yPq5Io\"><div><div class=\"_4WELSP\" style=\"height:200px;width:200px\"><img alt=\"Google Pixel 9A (Obsidian, 256 GB)\" class=\"DByuf4\" loading=\"eager\" src=\"https://rukminim2.flixcart.com/image/312/312/xif0q/mobile/x/b/u/-original-imahadxg2fazkzub.jpeg?q=70\"/></div></div></div><div class=\"qaR90o\"><div class=\"A8uQAd\"><span class=\"Lni97G\"><label class=\"tJjCVx\"><input class=\"vn9L2C\" readonly=\"\" type=\"checkbox\"/><div class=\"XqNaEv\"></div></label></span><label class=\"uu79Xy\"><span>Add to Compare</span></label></div></div><div class=\"oUss6M ssUU08\"><div class=\"+7E521\"><svg class=\"N1bADF\" height=\"16\" viewbox=\"0 0 20 16\" width=\"16\" xmlns=\"http://www.w3.org/2000/svg\"><path class=\"x1UMqG\" d=\"M8.695 16.682C4.06 12.382 1 9.536 1 6.065 1 3.219 3.178 1 5.95 1c1.566 0 3.069.746 4.05 1.915C10.981 1.745 12.484 1 14.05 1 16.822 1 19 3.22 19 6.065c0 3.471-3.06 6.316-7.695 10.617L10 17.897l-1.305-1.215z\" fill=\"#2874F0\" fill-rule=\"evenodd\" opacity=\".9\" stroke=\"#FFF\"></path></svg></div></div></div><div class=\"yKfJKb row\"><div class=\"col col-7-12\"><div class=\"KzDlHZ\">Google Pixel 9A (Obsidian, 256 GB)</div><div class=\"_5OesEi\"><span class=\"Y1HWO0\" id=\"productRating_LSTMOBH9YMEQUGCHPHNSFHZNA_MOBH9YMEQUGCHPHN_\"><div class=\"XQDdHH\">4.6<img class=\"Rza2QY\" src=\"data:image/svg+xml;base64,PHN2ZyB4bWxucz0iaHR0cDovL3d3dy53My5vcmcvMjAwMC9zdmciIHdpZHRoPSIxMyIgaGVpZ2h0PSIxMiI+PHBhdGggZmlsbD0iI0ZGRiIgZD0iTTYuNSA5LjQzOWwtMy42NzQgMi4yMy45NC00LjI2LTMuMjEtMi44ODMgNC4yNTQtLjQwNEw2LjUuMTEybDEuNjkgNC4wMSA0LjI1NC40MDQtMy4yMSAyLjg4Mi45NCA0LjI2eiIvPjwvc3ZnPg==\"/></div></span><span class=\"Wphh3N\"><span><span>486 Ratings </span><span class=\"hG7V+4\">&amp;</span><span> 81 Reviews</span></span></span></div><div class=\"_6NESgJ\"><ul class=\"G4BRas\"><li class=\"J+igdf\">8 GB RAM | 256 GB ROM</li><li class=\"J+igdf\">15.96 cm (6.285 inch) Full HD+ Display</li><li class=\"J+igdf\">48MP + 12MP | 12MP Front Camera</li><li class=\"J+igdf\">5100 mAh Battery</li><li class=\"J+igdf\">Tensor G4 Processor</li><li class=\"J+igdf\">1 Year Domestic Warranty</li></ul></div></div><div class=\"col col-5-12 BfVC2z\"><div class=\"cN1yYO\"><div class=\"hl05eU\"><div class=\"Nx9bqj _4b5DiR\">₹49,999</div></div><div class=\"k6cAZE dlFt9U\"><div><div class=\"yiggsN\" style=\"color:#000000;font-size:12px;font-weight:400\">Free delivery</div></div></div></div><div class=\"M4DNwV\"><div class=\"n5vj9c\"><div class=\"yiggsN O5Fpg8\" style=\"color:#000000;font-size:14px;font-style:normal;font-weight:400\">Upto </div><div class=\"yiggsN O5Fpg8\" style=\"color:#000000;font-size:14px;font-style:normal;font-weight:700\">₹26,200</div><div class=\"yiggsN O5Fpg8\" style=\"color:#000000;font-size:14px;font-style:normal;font-weight:400\"> Off on Exchange</div></div></div><div class=\"M4DNwV\"><div class=\"n5vj9c\"><div class=\"yiggsN O5Fpg8\" style=\"color:#26A541;font-size:14px;font-weight:700\">Bank Offer</div></div></div></div></div></a></div></div></div></div><div class=\"cPHDOP col-12-12\"><div class=\"_75nlfW\"><div data-id=\"MOBG6VF5ADKHKXFX\" style=\"width:100%\"><div class=\"tUxRFH\"><a class=\"CGtC98\" href=\"/apple-iphone-13-starlight-128-gb/p/itmc9604f122ae7f?pid=MOBG6VF5ADKHKXFX&amp;lid=LSTMOBG6VF5ADKHKXFX4LCPEV&amp;marketplace=FLIPKART&amp;q=mobiles+under+50000+rupees&amp;store=tyy%2F4io&amp;srno=s_1_12&amp;otracker=AS_QueryStore_OrganicAutoSuggest_1_19_na_na_na&amp;otracker1=AS_QueryStore_OrganicAutoSuggest_1_19_na_na_na&amp;fm=organic&amp;iid=db9dbfaa-46ca-42dc-a2eb-f90104f6f92b.MOBG6VF5ADKHKXFX.SEARCH&amp;ppt=None&amp;ppn=None&amp;ssid=qyn27ecwa80000001746801619635&amp;qH=91434633a446479e\" rel=\"noopener noreferrer\" target=\"_blank\"><div class=\"Otbq5D\"><div class=\"yPq5Io\"><div><div class=\"_4WELSP\" style=\"height:200px;width:200px\"><img alt=\"Apple iPhone 13 (Starlight, 128 GB)\" class=\"DByuf4\" loading=\"eager\" src=\"https://rukminim2.flixcart.com/image/312/312/ktketu80/mobile/6/n/d/iphone-13-mlpg3hn-a-apple-original-imag6vpyghayhhrh.jpeg?q=70\"/></div></div></div><div class=\"qaR90o\"><div class=\"A8uQAd\"><span class=\"Lni97G\"><label class=\"tJjCVx\"><input class=\"vn9L2C\" readonly=\"\" type=\"checkbox\"/><div class=\"XqNaEv\"></div></label></span><label class=\"uu79Xy\"><span>Add to Compare</span></label></div></div><div class=\"oUss6M ssUU08\"><div class=\"+7E521\"><svg class=\"N1bADF\" height=\"16\" viewbox=\"0 0 20 16\" width=\"16\" xmlns=\"http://www.w3.org/2000/svg\"><path class=\"x1UMqG\" d=\"M8.695 16.682C4.06 12.382 1 9.536 1 6.065 1 3.219 3.178 1 5.95 1c1.566 0 3.069.746 4.05 1.915C10.981 1.745 12.484 1 14.05 1 16.822 1 19 3.22 19 6.065c0 3.471-3.06 6.316-7.695 10.617L10 17.897l-1.305-1.215z\" fill=\"#2874F0\" fill-rule=\"evenodd\" opacity=\".9\" stroke=\"#FFF\"></path></svg></div></div></div><div class=\"yKfJKb row\"><div class=\"col col-7-12\"><div class=\"KzDlHZ\">Apple iPhone 13 (Starlight, 128 GB)</div><div class=\"_5OesEi\"><span class=\"Y1HWO0\" id=\"productRating_LSTMOBG6VF5ADKHKXFX4LCPEV_MOBG6VF5ADKHKXFX_\"><div class=\"XQDdHH\">4.6<img class=\"Rza2QY\" src=\"data:image/svg+xml;base64,PHN2ZyB4bWxucz0iaHR0cDovL3d3dy53My5vcmcvMjAwMC9zdmciIHdpZHRoPSIxMyIgaGVpZ2h0PSIxMiI+PHBhdGggZmlsbD0iI0ZGRiIgZD0iTTYuNSA5LjQzOWwtMy42NzQgMi4yMy45NC00LjI2LTMuMjEtMi44ODMgNC4yNTQtLjQwNEw2LjUuMTEybDEuNjkgNC4wMSA0LjI1NC40MDQtMy4yMSAyLjg4Mi45NCA0LjI2eiIvPjwvc3ZnPg==\"/></div></span><span class=\"Wphh3N\"><span><span>2,90,118 Ratings </span><span class=\"hG7V+4\">&amp;</span><span> 13,869 Reviews</span></span></span></div><div class=\"_6NESgJ\"><ul class=\"G4BRas\"><li class=\"J+igdf\">128 GB ROM</li><li class=\"J+igdf\">15.49 cm (6.1 inch) Super Retina XDR Display</li><li class=\"J+igdf\">12MP + 12MP | 12MP Front Camera</li><li class=\"J+igdf\">A15 Bionic Chip Processor</li><li class=\"J+igdf\">1 year warranty for phone and 1 year warranty for in Box Accessories.</li></ul></div></div><div class=\"col col-5-12 BfVC2z\"><div class=\"cN1yYO\"><div class=\"hl05eU\"><div class=\"Nx9bqj _4b5DiR\">₹44,999</div><div class=\"yRaY8j ZYYwLA\">₹<!-- -->49,900</div><div class=\"UkUFwK\"><span>9% off</span></div></div><div class=\"k6cAZE dlFt9U\"><div><div class=\"yiggsN\" style=\"color:#000000;font-size:12px;font-weight:400\">Free delivery</div></div></div></div><div class=\"_0CSTHy\"><img height=\"21\" src=\"//static-assets-web.flixcart.com/fk-p-linchpin-web/fk-cp-zion/img/fa_9e47c1.png\"/></div><div class=\"M4DNwV\"><div class=\"n5vj9c\"><div class=\"yiggsN O5Fpg8\" style=\"color:#000000;font-size:14px;font-style:normal;font-weight:400\">Upto </div><div class=\"yiggsN O5Fpg8\" style=\"color:#000000;font-size:14px;font-style:normal;font-weight:700\">₹27,500</div><div class=\"yiggsN O5Fpg8\" style=\"color:#000000;font-size:14px;font-style:normal;font-weight:400\"> Off on Exchange</div></div></div><div class=\"M4DNwV\"><div class=\"n5vj9c\"><div class=\"yiggsN O5Fpg8\" style=\"color:#26A541;font-size:14px;font-weight:700\">Bank Offer</div></div></div></div></div></a></div></div></div></div><div class=\"cPHDOP col-12-12\"><div class=\"_75nlfW\"><div data-id=\"MOBGYQ2MNHZWXRNY\" style=\"width:100%\"><div class=\"tUxRFH\"><a class=\"CGtC98\" href=\"/google-pixel-8a-obsidian-128-gb/p/itm5c791e407a330?pid=MOBGYQ2MNHZWXRNY&amp;lid=LSTMOBGYQ2MNHZWXRNYGSN6LA&amp;marketplace=FLIPKART&amp;q=mobiles+under+50000+rupees&amp;store=tyy%2F4io&amp;srno=s_1_13&amp;otracker=AS_QueryStore_OrganicAutoSuggest_1_19_na_na_na&amp;otracker1=AS_QueryStore_OrganicAutoSuggest_1_19_na_na_na&amp;fm=organic&amp;iid=db9dbfaa-46ca-42dc-a2eb-f90104f6f92b.MOBGYQ2MNHZWXRNY.SEARCH&amp;ppt=None&amp;ppn=None&amp;ssid=qyn27ecwa80000001746801619635&amp;qH=91434633a446479e\" rel=\"noopener noreferrer\" target=\"_blank\"><div class=\"Otbq5D\"><div class=\"yPq5Io\"><div><div class=\"_4WELSP\" style=\"height:200px;width:200px\"><img alt=\"Google Pixel 8a (Obsidian, 128 GB)\" class=\"DByuf4\" loading=\"eager\" src=\"https://rukminim2.flixcart.com/image/312/312/xif0q/mobile/e/y/n/pixel-8a-ga04432-in-google-original-imahyn3mqzdbzywg.jpeg?q=70\"/></div></div></div><div class=\"qaR90o\"><div class=\"A8uQAd\"><span class=\"Lni97G\"><label class=\"tJjCVx\"><input class=\"vn9L2C\" readonly=\"\" type=\"checkbox\"/><div class=\"XqNaEv\"></div></label></span><label class=\"uu79Xy\"><span>Add to Compare</span></label></div></div><div class=\"oUss6M ssUU08\"><div class=\"+7E521\"><svg class=\"N1bADF\" height=\"16\" viewbox=\"0 0 20 16\" width=\"16\" xmlns=\"http://www.w3.org/2000/svg\"><path class=\"x1UMqG\" d=\"M8.695 16.682C4.06 12.382 1 9.536 1 6.065 1 3.219 3.178 1 5.95 1c1.566 0 3.069.746 4.05 1.915C10.981 1.745 12.484 1 14.05 1 16.822 1 19 3.22 19 6.065c0 3.471-3.06 6.316-7.695 10.617L10 17.897l-1.305-1.215z\" fill=\"#2874F0\" fill-rule=\"evenodd\" opacity=\".9\" stroke=\"#FFF\"></path></svg></div></div></div><div class=\"yKfJKb row\"><div class=\"col col-7-12\"><div class=\"KzDlHZ\">Google Pixel 8a (Obsidian, 128 GB)</div><div class=\"_5OesEi\"><span class=\"Y1HWO0\" id=\"productRating_LSTMOBGYQ2MNHZWXRNYGSN6LA_MOBGYQ2MNHZWXRNY_\"><div class=\"XQDdHH\">4.3<img class=\"Rza2QY\" src=\"data:image/svg+xml;base64,PHN2ZyB4bWxucz0iaHR0cDovL3d3dy53My5vcmcvMjAwMC9zdmciIHdpZHRoPSIxMyIgaGVpZ2h0PSIxMiI+PHBhdGggZmlsbD0iI0ZGRiIgZD0iTTYuNSA5LjQzOWwtMy42NzQgMi4yMy45NC00LjI2LTMuMjEtMi44ODMgNC4yNTQtLjQwNEw2LjUuMTEybDEuNjkgNC4wMSA0LjI1NC40MDQtMy4yMSAyLjg4Mi45NCA0LjI2eiIvPjwvc3ZnPg==\"/></div></span><span class=\"Wphh3N\"><span><span>4,950 Ratings </span><span class=\"hG7V+4\">&amp;</span><span> 423 Reviews</span></span></span></div><div class=\"_6NESgJ\"><ul class=\"G4BRas\"><li class=\"J+igdf\">8 GB RAM | 128 GB ROM</li><li class=\"J+igdf\">15.49 cm (6.1 inch) Full HD+ Display</li><li class=\"J+igdf\">64MP + 13MP | 13MP Front Camera</li><li class=\"J+igdf\">4404 mAh Battery</li><li class=\"J+igdf\">Tensor G3 Processor</li><li class=\"J+igdf\">1 Year Domestic Warranty</li></ul></div></div><div class=\"col col-5-12 BfVC2z\"><div class=\"cN1yYO\"><div class=\"hl05eU\"><div class=\"Nx9bqj _4b5DiR\">₹37,999</div><div class=\"yRaY8j ZYYwLA\">₹<!-- -->52,999</div><div class=\"UkUFwK\"><span>28% off</span></div></div><div class=\"k6cAZE dlFt9U\"><div><div class=\"yiggsN\" style=\"color:#000000;font-size:12px;font-weight:400\">Free delivery</div></div></div></div><div class=\"_0CSTHy\"><img height=\"21\" src=\"//static-assets-web.flixcart.com/fk-p-linchpin-web/fk-cp-zion/img/fa_9e47c1.png\"/></div><div class=\"M4DNwV\"><div class=\"n5vj9c\"><div class=\"yiggsN O5Fpg8\" style=\"color:#000000;font-size:14px;font-style:normal;font-weight:400\">Upto </div><div class=\"yiggsN O5Fpg8\" style=\"color:#000000;font-size:14px;font-style:normal;font-weight:700\">₹23,600</div><div class=\"yiggsN O5Fpg8\" style=\"color:#000000;font-size:14px;font-style:normal;font-weight:400\"> Off on Exchange</div></div></div><div class=\"M4DNwV\"><div class=\"n5vj9c\"><div class=\"yiggsN O5Fpg8\" style=\"color:#26A541;font-size:14px;font-weight:700\">Bank Offer</div></div></div></div></div></a></div></div></div></div><div class=\"cPHDOP col-12-12\"><div class=\"_75nlfW\"><div data-id=\"MOBGYQ2MYWFSA3XU\" style=\"width:100%\"><div class=\"tUxRFH\"><a class=\"CGtC98\" href=\"/google-pixel-8a-porcelain-128-gb/p/itm619c078bd72f7?pid=MOBGYQ2MYWFSA3XU&amp;lid=LSTMOBGYQ2MYWFSA3XUKOBOBJ&amp;marketplace=FLIPKART&amp;q=mobiles+under+50000+rupees&amp;store=tyy%2F4io&amp;srno=s_1_14&amp;otracker=AS_QueryStore_OrganicAutoSuggest_1_19_na_na_na&amp;otracker1=AS_QueryStore_OrganicAutoSuggest_1_19_na_na_na&amp;fm=organic&amp;iid=db9dbfaa-46ca-42dc-a2eb-f90104f6f92b.MOBGYQ2MYWFSA3XU.SEARCH&amp;ppt=None&amp;ppn=None&amp;ssid=qyn27ecwa80000001746801619635&amp;qH=91434633a446479e\" rel=\"noopener noreferrer\" target=\"_blank\"><div class=\"Otbq5D\"><div class=\"yPq5Io\"><div><div class=\"_4WELSP\" style=\"height:200px;width:200px\"><img alt=\"Google Pixel 8a (Porcelain, 128 GB)\" class=\"DByuf4\" loading=\"eager\" src=\"https://rukminim2.flixcart.com/image/312/312/xif0q/mobile/s/8/d/pixel-8a-ga04988-in-google-original-imahyn3mskjbwphw.jpeg?q=70\"/></div></div></div><div class=\"qaR90o\"><div class=\"A8uQAd\"><span class=\"Lni97G\"><label class=\"tJjCVx\"><input class=\"vn9L2C\" readonly=\"\" type=\"checkbox\"/><div class=\"XqNaEv\"></div></label></span><label class=\"uu79Xy\"><span>Add to Compare</span></label></div></div><div class=\"oUss6M ssUU08\"><div class=\"+7E521\"><svg class=\"N1bADF\" height=\"16\" viewbox=\"0 0 20 16\" width=\"16\" xmlns=\"http://www.w3.org/2000/svg\"><path class=\"x1UMqG\" d=\"M8.695 16.682C4.06 12.382 1 9.536 1 6.065 1 3.219 3.178 1 5.95 1c1.566 0 3.069.746 4.05 1.915C10.981 1.745 12.484 1 14.05 1 16.822 1 19 3.22 19 6.065c0 3.471-3.06 6.316-7.695 10.617L10 17.897l-1.305-1.215z\" fill=\"#2874F0\" fill-rule=\"evenodd\" opacity=\".9\" stroke=\"#FFF\"></path></svg></div></div></div><div class=\"yKfJKb row\"><div class=\"col col-7-12\"><div class=\"KzDlHZ\">Google Pixel 8a (Porcelain, 128 GB)</div><div class=\"_5OesEi\"><span class=\"Y1HWO0\" id=\"productRating_LSTMOBGYQ2MYWFSA3XUKOBOBJ_MOBGYQ2MYWFSA3XU_\"><div class=\"XQDdHH\">4.3<img class=\"Rza2QY\" src=\"data:image/svg+xml;base64,PHN2ZyB4bWxucz0iaHR0cDovL3d3dy53My5vcmcvMjAwMC9zdmciIHdpZHRoPSIxMyIgaGVpZ2h0PSIxMiI+PHBhdGggZmlsbD0iI0ZGRiIgZD0iTTYuNSA5LjQzOWwtMy42NzQgMi4yMy45NC00LjI2LTMuMjEtMi44ODMgNC4yNTQtLjQwNEw2LjUuMTEybDEuNjkgNC4wMSA0LjI1NC40MDQtMy4yMSAyLjg4Mi45NCA0LjI2eiIvPjwvc3ZnPg==\"/></div></span><span class=\"Wphh3N\"><span><span>4,950 Ratings </span><span class=\"hG7V+4\">&amp;</span><span> 423 Reviews</span></span></span></div><div class=\"_6NESgJ\"><ul class=\"G4BRas\"><li class=\"J+igdf\">8 GB RAM | 128 GB ROM</li><li class=\"J+igdf\">15.49 cm (6.1 inch) Full HD+ Display</li><li class=\"J+igdf\">64MP + 13MP | 13MP Front Camera</li><li class=\"J+igdf\">4404 mAh Battery</li><li class=\"J+igdf\">Tensor G3 Processor</li><li class=\"J+igdf\">1 Year Domestic Warranty</li></ul></div></div><div class=\"col col-5-12 BfVC2z\"><div class=\"cN1yYO\"><div class=\"hl05eU\"><div class=\"Nx9bqj _4b5DiR\">₹37,999</div><div class=\"yRaY8j ZYYwLA\">₹<!-- -->52,999</div><div class=\"UkUFwK\"><span>28% off</span></div></div><div class=\"k6cAZE dlFt9U\"><div><div class=\"yiggsN\" style=\"color:#000000;font-size:12px;font-weight:400\">Free delivery</div></div></div></div><div class=\"_0CSTHy\"><img height=\"21\" src=\"//static-assets-web.flixcart.com/fk-p-linchpin-web/fk-cp-zion/img/fa_9e47c1.png\"/></div><div class=\"M4DNwV\"><div class=\"n5vj9c\"><div class=\"yiggsN O5Fpg8\" style=\"color:#000000;font-size:14px;font-style:normal;font-weight:400\">Upto </div><div class=\"yiggsN O5Fpg8\" style=\"color:#000000;font-size:14px;font-style:normal;font-weight:700\">₹23,600</div><div class=\"yiggsN O5Fpg8\" style=\"color:#000000;font-size:14px;font-style:normal;font-weight:400\"> Off on Exchange</div></div></div><div class=\"M4DNwV\"><div class=\"n5vj9c\"><div class=\"yiggsN O5Fpg8\" style=\"color:#26A541;font-size:14px;font-weight:700\">Bank Offer</div></div></div></div></div></a></div></div></div></div><div class=\"cPHDOP col-12-12\"><div class=\"_75nlfW\"><div data-id=\"MOBH8EWQ6GUDHGFK\" style=\"width:100%\"><div class=\"tUxRFH\"><a class=\"CGtC98\" href=\"/oneplus-13r-5g-nebula-noir-256-gb/p/itmff6561809fab8?pid=MOBH8EWQ6GUDHGFK&amp;lid=LSTMOBH8EWQ6GUDHGFKTRDA3F&amp;marketplace=FLIPKART&amp;q=mobiles+under+50000+rupees&amp;store=tyy%2F4io&amp;srno=s_1_15&amp;otracker=AS_QueryStore_OrganicAutoSuggest_1_19_na_na_na&amp;otracker1=AS_QueryStore_OrganicAutoSuggest_1_19_na_na_na&amp;fm=organic&amp;iid=db9dbfaa-46ca-42dc-a2eb-f90104f6f92b.MOBH8EWQ6GUDHGFK.SEARCH&amp;ppt=None&amp;ppn=None&amp;ssid=qyn27ecwa80000001746801619635&amp;qH=91434633a446479e\" rel=\"noopener noreferrer\" target=\"_blank\"><div class=\"Otbq5D\"><div class=\"yPq5Io\"><div><div class=\"_4WELSP\" style=\"height:200px;width:200px\"><img alt=\"OnePlus 13R 5G (Nebula Noir, 256 GB)\" class=\"DByuf4\" loading=\"eager\" src=\"https://rukminim2.flixcart.com/image/312/312/xif0q/mobile/z/1/5/-original-imah8vc2a8dg7xea.jpeg?q=70\"/></div></div></div><div class=\"qaR90o\"><div class=\"A8uQAd\"><span class=\"Lni97G\"><label class=\"tJjCVx\"><input class=\"vn9L2C\" readonly=\"\" type=\"checkbox\"/><div class=\"XqNaEv\"></div></label></span><label class=\"uu79Xy\"><span>Add to Compare</span></label></div></div><div class=\"oUss6M ssUU08\"><div class=\"+7E521\"><svg class=\"N1bADF\" height=\"16\" viewbox=\"0 0 20 16\" width=\"16\" xmlns=\"http://www.w3.org/2000/svg\"><path class=\"x1UMqG\" d=\"M8.695 16.682C4.06 12.382 1 9.536 1 6.065 1 3.219 3.178 1 5.95 1c1.566 0 3.069.746 4.05 1.915C10.981 1.745 12.484 1 14.05 1 16.822 1 19 3.22 19 6.065c0 3.471-3.06 6.316-7.695 10.617L10 17.897l-1.305-1.215z\" fill=\"#2874F0\" fill-rule=\"evenodd\" opacity=\".9\" stroke=\"#FFF\"></path></svg></div></div></div><div class=\"yKfJKb row\"><div class=\"col col-7-12\"><div class=\"KzDlHZ\">OnePlus 13R 5G (Nebula Noir, 256 GB)</div><div class=\"_5OesEi\"><span class=\"Y1HWO0\" id=\"productRating_LSTMOBH8EWQ6GUDHGFKTRDA3F_MOBH8EWQ6GUDHGFK_\"><div class=\"XQDdHH\">4.5<img class=\"Rza2QY\" src=\"data:image/svg+xml;base64,PHN2ZyB4bWxucz0iaHR0cDovL3d3dy53My5vcmcvMjAwMC9zdmciIHdpZHRoPSIxMyIgaGVpZ2h0PSIxMiI+PHBhdGggZmlsbD0iI0ZGRiIgZD0iTTYuNSA5LjQzOWwtMy42NzQgMi4yMy45NC00LjI2LTMuMjEtMi44ODMgNC4yNTQtLjQwNEw2LjUuMTEybDEuNjkgNC4wMSA0LjI1NC40MDQtMy4yMSAyLjg4Mi45NCA0LjI2eiIvPjwvc3ZnPg==\"/></div></span><span class=\"Wphh3N\"><span><span>1,134 Ratings </span><span class=\"hG7V+4\">&amp;</span><span> 108 Reviews</span></span></span></div><div class=\"_6NESgJ\"><ul class=\"G4BRas\"><li class=\"J+igdf\">12 GB RAM | 256 GB ROM</li><li class=\"J+igdf\">17.22 cm (6.78 inch) Display</li><li class=\"J+igdf\">50MP Rear Camera</li><li class=\"J+igdf\">6000 mAh Battery</li><li class=\"J+igdf\">1 year manufacturer warranty for device and 1 year manufacturer warranty for in-box accessories including batteries from the date of purchase</li></ul></div></div><div class=\"col col-5-12 BfVC2z\"><div class=\"cN1yYO\"><div class=\"hl05eU\"><div class=\"Nx9bqj _4b5DiR\">₹39,876</div><div class=\"yRaY8j ZYYwLA\">₹<!-- -->44,999</div><div class=\"UkUFwK\"><span>11% off</span></div></div><div class=\"k6cAZE dlFt9U\"><div><div class=\"yiggsN\" style=\"color:#000000;font-size:12px;font-weight:400\">Free delivery</div></div></div></div><div class=\"_0CSTHy\"><img height=\"21\" src=\"//static-assets-web.flixcart.com/fk-p-linchpin-web/fk-cp-zion/img/fa_9e47c1.png\"/></div><div class=\"M4DNwV\"><div class=\"n5vj9c\"><div class=\"yiggsN O5Fpg8\" style=\"color:#C70055;font-size:12px;font-weight:700\">Only 2 left</div></div></div><div class=\"M4DNwV\"><div class=\"n5vj9c\"><div class=\"yiggsN O5Fpg8\" style=\"color:#26A541;font-size:14px;font-weight:700\">Bank Offer</div></div></div></div></div></a></div></div></div></div><div class=\"cPHDOP col-12-12\"><div class=\"_75nlfW\"><div data-id=\"MOBH8EVKZHTE7A32\" style=\"width:100%\"><div class=\"tUxRFH\"><a class=\"CGtC98\" href=\"/oneplus-13r-5g-astral-trail-256-gb/p/itmff6561809fab8?pid=MOBH8EVKZHTE7A32&amp;lid=LSTMOBH8EVKZHTE7A32CJDHBZ&amp;marketplace=FLIPKART&amp;q=mobiles+under+50000+rupees&amp;store=tyy%2F4io&amp;srno=s_1_16&amp;otracker=AS_QueryStore_OrganicAutoSuggest_1_19_na_na_na&amp;otracker1=AS_QueryStore_OrganicAutoSuggest_1_19_na_na_na&amp;fm=organic&amp;iid=db9dbfaa-46ca-42dc-a2eb-f90104f6f92b.MOBH8EVKZHTE7A32.SEARCH&amp;ppt=None&amp;ppn=None&amp;ssid=qyn27ecwa80000001746801619635&amp;qH=91434633a446479e\" rel=\"noopener noreferrer\" target=\"_blank\"><div class=\"Otbq5D\"><div class=\"yPq5Io\"><div><div class=\"_4WELSP\" style=\"height:200px;width:200px\"><img alt=\"OnePlus 13R 5g (Astral Trail, 256 GB)\" class=\"DByuf4\" loading=\"eager\" src=\"https://rukminim2.flixcart.com/image/312/312/xif0q/mobile/p/t/z/-original-imah8vc2pmypfpnn.jpeg?q=70\"/></div></div></div><div class=\"qaR90o\"><div class=\"A8uQAd\"><span class=\"Lni97G\"><label class=\"tJjCVx\"><input class=\"vn9L2C\" readonly=\"\" type=\"checkbox\"/><div class=\"XqNaEv\"></div></label></span><label class=\"uu79Xy\"><span>Add to Compare</span></label></div></div><div class=\"oUss6M ssUU08\"><div class=\"+7E521\"><svg class=\"N1bADF\" height=\"16\" viewbox=\"0 0 20 16\" width=\"16\" xmlns=\"http://www.w3.org/2000/svg\"><path class=\"x1UMqG\" d=\"M8.695 16.682C4.06 12.382 1 9.536 1 6.065 1 3.219 3.178 1 5.95 1c1.566 0 3.069.746 4.05 1.915C10.981 1.745 12.484 1 14.05 1 16.822 1 19 3.22 19 6.065c0 3.471-3.06 6.316-7.695 10.617L10 17.897l-1.305-1.215z\" fill=\"#2874F0\" fill-rule=\"evenodd\" opacity=\".9\" stroke=\"#FFF\"></path></svg></div></div></div><div class=\"yKfJKb row\"><div class=\"col col-7-12\"><div class=\"KzDlHZ\">OnePlus 13R 5g (Astral Trail, 256 GB)</div><div class=\"_5OesEi\"><span class=\"Y1HWO0\" id=\"productRating_LSTMOBH8EVKZHTE7A32CJDHBZ_MOBH8EVKZHTE7A32_\"><div class=\"XQDdHH\">4.5<img class=\"Rza2QY\" src=\"data:image/svg+xml;base64,PHN2ZyB4bWxucz0iaHR0cDovL3d3dy53My5vcmcvMjAwMC9zdmciIHdpZHRoPSIxMyIgaGVpZ2h0PSIxMiI+PHBhdGggZmlsbD0iI0ZGRiIgZD0iTTYuNSA5LjQzOWwtMy42NzQgMi4yMy45NC00LjI2LTMuMjEtMi44ODMgNC4yNTQtLjQwNEw2LjUuMTEybDEuNjkgNC4wMSA0LjI1NC40MDQtMy4yMSAyLjg4Mi45NCA0LjI2eiIvPjwvc3ZnPg==\"/></div></span><span class=\"Wphh3N\"><span><span>1,134 Ratings </span><span class=\"hG7V+4\">&amp;</span><span> 108 Reviews</span></span></span></div><div class=\"_6NESgJ\"><ul class=\"G4BRas\"><li class=\"J+igdf\">12 GB RAM | 256 GB ROM</li><li class=\"J+igdf\">17.22 cm (6.78 inch) Display</li><li class=\"J+igdf\">50MP Rear Camera</li><li class=\"J+igdf\">6000 mAh Battery</li><li class=\"J+igdf\">1 year manufacturer warranty for device and 1 year manufacturer warranty for in-box accessories including batteries from the date of purchase</li></ul></div></div><div class=\"col col-5-12 BfVC2z\"><div class=\"cN1yYO\"><div class=\"hl05eU\"><div class=\"Nx9bqj _4b5DiR\">₹39,507</div><div class=\"yRaY8j ZYYwLA\">₹<!-- -->44,999</div><div class=\"UkUFwK\"><span>12% off</span></div></div><div class=\"k6cAZE dlFt9U\"><div><div class=\"yiggsN\" style=\"color:#000000;font-size:12px;font-weight:400\">Free delivery</div></div></div></div><div class=\"_0CSTHy\"><img height=\"21\" src=\"//static-assets-web.flixcart.com/fk-p-linchpin-web/fk-cp-zion/img/fa_9e47c1.png\"/></div><div class=\"M4DNwV\"><div class=\"n5vj9c\"><div class=\"yiggsN O5Fpg8\" style=\"color:#C70055;font-size:12px;font-weight:700\">Only few left</div></div></div><div class=\"M4DNwV\"><div class=\"n5vj9c\"><div class=\"yiggsN O5Fpg8\" style=\"color:#26A541;font-size:14px;font-weight:700\">Bank Offer</div></div></div></div></div></a></div></div></div></div><div class=\"cPHDOP col-12-12\"><div class=\"_75nlfW\"><div data-id=\"MOBHYJ6QMSGJG28G\" style=\"width:100%\"><div class=\"tUxRFH\"><a class=\"CGtC98\" href=\"/samsung-galaxy-s24-5g-amber-yellow-128-gb/p/itmc7715e16403d1?pid=MOBHYJ6QMSGJG28G&amp;lid=LSTMOBHYJ6QMSGJG28GKEE5UE&amp;marketplace=FLIPKART&amp;q=mobiles+under+50000+rupees&amp;store=tyy%2F4io&amp;srno=s_1_17&amp;otracker=AS_QueryStore_OrganicAutoSuggest_1_19_na_na_na&amp;otracker1=AS_QueryStore_OrganicAutoSuggest_1_19_na_na_na&amp;fm=organic&amp;iid=db9dbfaa-46ca-42dc-a2eb-f90104f6f92b.MOBHYJ6QMSGJG28G.SEARCH&amp;ppt=None&amp;ppn=None&amp;ssid=qyn27ecwa80000001746801619635&amp;qH=91434633a446479e\" rel=\"noopener noreferrer\" target=\"_blank\"><div class=\"Otbq5D\"><div class=\"yPq5Io\"><div><div class=\"_4WELSP\" style=\"height:200px;width:200px\"><img alt=\"SAMSUNG Galaxy S24 5G (Amber Yellow, 128 GB)\" class=\"DByuf4\" loading=\"eager\" src=\"https://rukminim2.flixcart.com/image/312/312/xif0q/mobile/w/g/a/-original-imahbpk4vgtrvmwj.jpeg?q=70\"/></div></div></div><div class=\"qaR90o\"><div class=\"A8uQAd\"><span class=\"Lni97G\"><label class=\"tJjCVx\"><input class=\"vn9L2C\" readonly=\"\" type=\"checkbox\"/><div class=\"XqNaEv\"></div></label></span><label class=\"uu79Xy\"><span>Add to Compare</span></label></div></div><div class=\"oUss6M ssUU08\"><div class=\"+7E521\"><svg class=\"N1bADF\" height=\"16\" viewbox=\"0 0 20 16\" width=\"16\" xmlns=\"http://www.w3.org/2000/svg\"><path class=\"x1UMqG\" d=\"M8.695 16.682C4.06 12.382 1 9.536 1 6.065 1 3.219 3.178 1 5.95 1c1.566 0 3.069.746 4.05 1.915C10.981 1.745 12.484 1 14.05 1 16.822 1 19 3.22 19 6.065c0 3.471-3.06 6.316-7.695 10.617L10 17.897l-1.305-1.215z\" fill=\"#2874F0\" fill-rule=\"evenodd\" opacity=\".9\" stroke=\"#FFF\"></path></svg></div></div></div><div class=\"yKfJKb row\"><div class=\"col col-7-12\"><div class=\"KzDlHZ\">SAMSUNG Galaxy S24 5G (Amber Yellow, 128 GB)</div><div class=\"_5OesEi\"><span class=\"Y1HWO0\" id=\"productRating_LSTMOBHYJ6QMSGJG28GKEE5UE_MOBHYJ6QMSGJG28G_\"><div class=\"XQDdHH\">4.6<img class=\"Rza2QY\" src=\"data:image/svg+xml;base64,PHN2ZyB4bWxucz0iaHR0cDovL3d3dy53My5vcmcvMjAwMC9zdmciIHdpZHRoPSIxMyIgaGVpZ2h0PSIxMiI+PHBhdGggZmlsbD0iI0ZGRiIgZD0iTTYuNSA5LjQzOWwtMy42NzQgMi4yMy45NC00LjI2LTMuMjEtMi44ODMgNC4yNTQtLjQwNEw2LjUuMTEybDEuNjkgNC4wMSA0LjI1NC40MDQtMy4yMSAyLjg4Mi45NCA0LjI2eiIvPjwvc3ZnPg==\"/></div></span><span class=\"Wphh3N\"><span><span>2,526 Ratings </span><span class=\"hG7V+4\">&amp;</span><span> 207 Reviews</span></span></span></div><div class=\"_6NESgJ\"><ul class=\"G4BRas\"><li class=\"J+igdf\">8 GB RAM | 128 GB ROM</li><li class=\"J+igdf\">15.75 cm (6.2 inch) Full HD+ Display</li><li class=\"J+igdf\">50MP + 10MP + 12MP | 12MP Front Camera</li><li class=\"J+igdf\">4000 mAh Battery</li><li class=\"J+igdf\">Exynos 2400 Processor</li><li class=\"J+igdf\">1 Year Manufacturer Warranty for Device and 6 Months for In-Box Accessories</li></ul></div></div><div class=\"col col-5-12 BfVC2z\"><div class=\"cN1yYO\"><div class=\"hl05eU\"><div class=\"Nx9bqj _4b5DiR\">₹44,999</div><div class=\"yRaY8j ZYYwLA\">₹<!-- -->74,999</div><div class=\"UkUFwK\"><span>40% off</span></div></div><div class=\"k6cAZE dlFt9U\"><div><div class=\"yiggsN\" style=\"color:#000000;font-size:12px;font-weight:400\">Free delivery</div></div></div></div><div class=\"_0CSTHy\"><img height=\"21\" src=\"//static-assets-web.flixcart.com/fk-p-linchpin-web/fk-cp-zion/img/fa_9e47c1.png\"/></div><div class=\"M4DNwV\"><div class=\"n5vj9c\"><div class=\"yiggsN O5Fpg8\" style=\"color:#000000;font-size:14px;font-style:normal;font-weight:400\">Upto </div><div class=\"yiggsN O5Fpg8\" style=\"color:#000000;font-size:14px;font-style:normal;font-weight:700\">₹27,500</div><div class=\"yiggsN O5Fpg8\" style=\"color:#000000;font-size:14px;font-style:normal;font-weight:400\"> Off on Exchange</div></div></div><div class=\"M4DNwV\"><div class=\"n5vj9c\"><div class=\"yiggsN O5Fpg8\" style=\"color:#26A541;font-size:14px;font-weight:700\">Bank Offer</div></div></div></div></div></a></div></div></div></div><div class=\"cPHDOP col-12-12\"><div class=\"_75nlfW\"><div data-id=\"MOBH8HFJPKRUT2VM\" style=\"width:100%\"><div class=\"tUxRFH\"><a class=\"CGtC98\" href=\"/oneplus-13r-5g-astral-trail-512-gb/p/itmff6561809fab8?pid=MOBH8HFJPKRUT2VM&amp;lid=LSTMOBH8HFJPKRUT2VMGAVKOW&amp;marketplace=FLIPKART&amp;q=mobiles+under+50000+rupees&amp;store=tyy%2F4io&amp;srno=s_1_18&amp;otracker=AS_QueryStore_OrganicAutoSuggest_1_19_na_na_na&amp;otracker1=AS_QueryStore_OrganicAutoSuggest_1_19_na_na_na&amp;fm=organic&amp;iid=db9dbfaa-46ca-42dc-a2eb-f90104f6f92b.MOBH8HFJPKRUT2VM.SEARCH&amp;ppt=None&amp;ppn=None&amp;ssid=qyn27ecwa80000001746801619635&amp;qH=91434633a446479e\" rel=\"noopener noreferrer\" target=\"_blank\"><div class=\"Otbq5D\"><div class=\"yPq5Io\"><div><div class=\"_4WELSP\" style=\"height:200px;width:200px\"><img alt=\"OnePlus 13R 5G (Astral Trail, 512 GB)\" class=\"DByuf4\" loading=\"eager\" src=\"https://rukminim2.flixcart.com/image/312/312/xif0q/mobile/p/t/z/-original-imah8vc2pmypfpnn.jpeg?q=70\"/></div></div></div><div class=\"qaR90o\"><div class=\"A8uQAd\"><span class=\"Lni97G\"><label class=\"tJjCVx\"><input class=\"vn9L2C\" readonly=\"\" type=\"checkbox\"/><div class=\"XqNaEv\"></div></label></span><label class=\"uu79Xy\"><span>Add to Compare</span></label></div></div><div class=\"oUss6M ssUU08\"><div class=\"+7E521\"><svg class=\"N1bADF\" height=\"16\" viewbox=\"0 0 20 16\" width=\"16\" xmlns=\"http://www.w3.org/2000/svg\"><path class=\"x1UMqG\" d=\"M8.695 16.682C4.06 12.382 1 9.536 1 6.065 1 3.219 3.178 1 5.95 1c1.566 0 3.069.746 4.05 1.915C10.981 1.745 12.484 1 14.05 1 16.822 1 19 3.22 19 6.065c0 3.471-3.06 6.316-7.695 10.617L10 17.897l-1.305-1.215z\" fill=\"#2874F0\" fill-rule=\"evenodd\" opacity=\".9\" stroke=\"#FFF\"></path></svg></div></div></div><div class=\"yKfJKb row\"><div class=\"col col-7-12\"><div class=\"KzDlHZ\">OnePlus 13R 5G (Astral Trail, 512 GB)</div><div class=\"_5OesEi\"><span class=\"Y1HWO0\" id=\"productRating_LSTMOBH8HFJPKRUT2VMGAVKOW_MOBH8HFJPKRUT2VM_\"><div class=\"XQDdHH\">4.5<img class=\"Rza2QY\" src=\"data:image/svg+xml;base64,PHN2ZyB4bWxucz0iaHR0cDovL3d3dy53My5vcmcvMjAwMC9zdmciIHdpZHRoPSIxMyIgaGVpZ2h0PSIxMiI+PHBhdGggZmlsbD0iI0ZGRiIgZD0iTTYuNSA5LjQzOWwtMy42NzQgMi4yMy45NC00LjI2LTMuMjEtMi44ODMgNC4yNTQtLjQwNEw2LjUuMTEybDEuNjkgNC4wMSA0LjI1NC40MDQtMy4yMSAyLjg4Mi45NCA0LjI2eiIvPjwvc3ZnPg==\"/></div></span><span class=\"Wphh3N\"><span><span>267 Ratings </span><span class=\"hG7V+4\">&amp;</span><span> 21 Reviews</span></span></span></div><div class=\"_6NESgJ\"><ul class=\"G4BRas\"><li class=\"J+igdf\">16 GB RAM | 512 GB ROM</li><li class=\"J+igdf\">17.22 cm (6.78 inch) Display</li><li class=\"J+igdf\">50MP Rear Camera</li><li class=\"J+igdf\">6000 mAh Battery</li><li class=\"J+igdf\">1 year manufacturer warranty for device and 1 year manufacturer warranty for in-box accessories including batteries from the date of purchase</li></ul></div></div><div class=\"col col-5-12 BfVC2z\"><div class=\"cN1yYO\"><div class=\"hl05eU\"><div class=\"Nx9bqj _4b5DiR\">₹43,682</div><div class=\"yRaY8j ZYYwLA\">₹<!-- -->51,999</div><div class=\"UkUFwK\"><span>15% off</span></div></div><div class=\"k6cAZE dlFt9U\"><div><div class=\"yiggsN\" style=\"color:#000000;font-size:12px;font-weight:400\">Free delivery</div></div></div></div><div class=\"_0CSTHy\"><img height=\"21\" src=\"//static-assets-web.flixcart.com/fk-p-linchpin-web/fk-cp-zion/img/fa_9e47c1.png\"/></div><div class=\"M4DNwV\"><div class=\"n5vj9c\"><div class=\"yiggsN O5Fpg8\" style=\"color:#C70055;font-size:12px;font-weight:700\">Only few left</div></div></div><div class=\"M4DNwV\"><div class=\"n5vj9c\"><div class=\"yiggsN O5Fpg8\" style=\"color:#26A541;font-size:14px;font-weight:700\">Bank Offer</div></div></div></div></div></a></div></div></div></div><div class=\"cPHDOP col-12-12\"><div class=\"_75nlfW\"><div data-id=\"MOBH9YMEHJC9NHHY\" style=\"width:100%\"><div class=\"tUxRFH\"><a class=\"CGtC98\" href=\"/google-pixel-9a-iris-256-gb/p/itmb2ce6b5391689?pid=MOBH9YMEHJC9NHHY&amp;lid=LSTMOBH9YMEHJC9NHHYJIL7SI&amp;marketplace=FLIPKART&amp;q=mobiles+under+50000+rupees&amp;store=tyy%2F4io&amp;srno=s_1_19&amp;otracker=AS_QueryStore_OrganicAutoSuggest_1_19_na_na_na&amp;otracker1=AS_QueryStore_OrganicAutoSuggest_1_19_na_na_na&amp;fm=organic&amp;iid=db9dbfaa-46ca-42dc-a2eb-f90104f6f92b.MOBH9YMEHJC9NHHY.SEARCH&amp;ppt=None&amp;ppn=None&amp;ssid=qyn27ecwa80000001746801619635&amp;qH=91434633a446479e\" rel=\"noopener noreferrer\" target=\"_blank\"><div class=\"Otbq5D\"><div class=\"yPq5Io\"><div><div class=\"_4WELSP\" style=\"height:200px;width:200px\"><img alt=\"Google Pixel 9A (Iris, 256 GB)\" class=\"DByuf4\" loading=\"eager\" src=\"https://rukminim2.flixcart.com/image/312/312/xif0q/mobile/c/3/2/-original-imahadxgjufkypv5.jpeg?q=70\"/></div></div></div><div class=\"qaR90o\"><div class=\"A8uQAd\"><span class=\"Lni97G\"><label class=\"tJjCVx\"><input class=\"vn9L2C\" readonly=\"\" type=\"checkbox\"/><div class=\"XqNaEv\"></div></label></span><label class=\"uu79Xy\"><span>Add to Compare</span></label></div></div><div class=\"oUss6M ssUU08\"><div class=\"+7E521\"><svg class=\"N1bADF\" height=\"16\" viewbox=\"0 0 20 16\" width=\"16\" xmlns=\"http://www.w3.org/2000/svg\"><path class=\"x1UMqG\" d=\"M8.695 16.682C4.06 12.382 1 9.536 1 6.065 1 3.219 3.178 1 5.95 1c1.566 0 3.069.746 4.05 1.915C10.981 1.745 12.484 1 14.05 1 16.822 1 19 3.22 19 6.065c0 3.471-3.06 6.316-7.695 10.617L10 17.897l-1.305-1.215z\" fill=\"#2874F0\" fill-rule=\"evenodd\" opacity=\".9\" stroke=\"#FFF\"></path></svg></div></div></div><div class=\"yKfJKb row\"><div class=\"col col-7-12\"><div class=\"KzDlHZ\">Google Pixel 9A (Iris, 256 GB)</div><div class=\"_5OesEi\"><span class=\"Y1HWO0\" id=\"productRating_LSTMOBH9YMEHJC9NHHYJIL7SI_MOBH9YMEHJC9NHHY_\"><div class=\"XQDdHH\">4.6<img class=\"Rza2QY\" src=\"data:image/svg+xml;base64,PHN2ZyB4bWxucz0iaHR0cDovL3d3dy53My5vcmcvMjAwMC9zdmciIHdpZHRoPSIxMyIgaGVpZ2h0PSIxMiI+PHBhdGggZmlsbD0iI0ZGRiIgZD0iTTYuNSA5LjQzOWwtMy42NzQgMi4yMy45NC00LjI2LTMuMjEtMi44ODMgNC4yNTQtLjQwNEw2LjUuMTEybDEuNjkgNC4wMSA0LjI1NC40MDQtMy4yMSAyLjg4Mi45NCA0LjI2eiIvPjwvc3ZnPg==\"/></div></span><span class=\"Wphh3N\"><span><span>486 Ratings </span><span class=\"hG7V+4\">&amp;</span><span> 81 Reviews</span></span></span></div><div class=\"_6NESgJ\"><ul class=\"G4BRas\"><li class=\"J+igdf\">8 GB RAM | 256 GB ROM</li><li class=\"J+igdf\">15.96 cm (6.285 inch) Full HD+ Display</li><li class=\"J+igdf\">48MP + 12MP | 12MP Front Camera</li><li class=\"J+igdf\">5100 mAh Battery</li><li class=\"J+igdf\">Tensor G4 Processor</li><li class=\"J+igdf\">1 Year Domestic Warranty</li></ul></div></div><div class=\"col col-5-12 BfVC2z\"><div class=\"cN1yYO\"><div class=\"hl05eU\"><div class=\"Nx9bqj _4b5DiR\">₹49,999</div></div><div class=\"k6cAZE dlFt9U\"><div><div class=\"yiggsN\" style=\"color:#000000;font-size:12px;font-weight:400\">Free delivery</div></div></div></div><div class=\"M4DNwV\"><div class=\"n5vj9c\"><div class=\"yiggsN O5Fpg8\" style=\"color:#000000;font-size:14px;font-style:normal;font-weight:400\">Upto </div><div class=\"yiggsN O5Fpg8\" style=\"color:#000000;font-size:14px;font-style:normal;font-weight:700\">₹26,200</div><div class=\"yiggsN O5Fpg8\" style=\"color:#000000;font-size:14px;font-style:normal;font-weight:400\"> Off on Exchange</div></div></div><div class=\"M4DNwV\"><div class=\"n5vj9c\"><div class=\"yiggsN O5Fpg8\" style=\"color:#26A541;font-size:14px;font-weight:700\">Bank Offer</div></div></div></div></div></a></div></div></div></div><div class=\"cPHDOP col-12-12\"><div class=\"_75nlfW\"><div data-id=\"MOBG6VF5SMXPNQHG\" style=\"width:100%\"><div class=\"tUxRFH\"><a class=\"CGtC98\" href=\"/apple-iphone-13-blue-128-gb/p/itm6c601e0a58b3c?pid=MOBG6VF5SMXPNQHG&amp;lid=LSTMOBG6VF5SMXPNQHGL5FN51&amp;marketplace=FLIPKART&amp;q=mobiles+under+50000+rupees&amp;store=tyy%2F4io&amp;srno=s_1_20&amp;otracker=AS_QueryStore_OrganicAutoSuggest_1_19_na_na_na&amp;otracker1=AS_QueryStore_OrganicAutoSuggest_1_19_na_na_na&amp;fm=organic&amp;iid=db9dbfaa-46ca-42dc-a2eb-f90104f6f92b.MOBG6VF5SMXPNQHG.SEARCH&amp;ppt=None&amp;ppn=None&amp;ssid=qyn27ecwa80000001746801619635&amp;qH=91434633a446479e\" rel=\"noopener noreferrer\" target=\"_blank\"><div class=\"Otbq5D\"><div class=\"yPq5Io\"><div><div class=\"_4WELSP\" style=\"height:200px;width:200px\"><img alt=\"Apple iPhone 13 (Blue, 128 GB)\" class=\"DByuf4\" loading=\"eager\" src=\"https://rukminim2.flixcart.com/image/312/312/ktketu80/mobile/2/y/o/iphone-13-mlpk3hn-a-apple-original-imag6vpyur6hjngg.jpeg?q=70\"/></div></div></div><div class=\"qaR90o\"><div class=\"A8uQAd\"><span class=\"Lni97G\"><label class=\"tJjCVx\"><input class=\"vn9L2C\" readonly=\"\" type=\"checkbox\"/><div class=\"XqNaEv\"></div></label></span><label class=\"uu79Xy\"><span>Add to Compare</span></label></div></div><div class=\"oUss6M ssUU08\"><div class=\"+7E521\"><svg class=\"N1bADF\" height=\"16\" viewbox=\"0 0 20 16\" width=\"16\" xmlns=\"http://www.w3.org/2000/svg\"><path class=\"x1UMqG\" d=\"M8.695 16.682C4.06 12.382 1 9.536 1 6.065 1 3.219 3.178 1 5.95 1c1.566 0 3.069.746 4.05 1.915C10.981 1.745 12.484 1 14.05 1 16.822 1 19 3.22 19 6.065c0 3.471-3.06 6.316-7.695 10.617L10 17.897l-1.305-1.215z\" fill=\"#2874F0\" fill-rule=\"evenodd\" opacity=\".9\" stroke=\"#FFF\"></path></svg></div></div></div><div class=\"yKfJKb row\"><div class=\"col col-7-12\"><div class=\"KzDlHZ\">Apple iPhone 13 (Blue, 128 GB)</div><div class=\"_5OesEi\"><span class=\"Y1HWO0\" id=\"productRating_LSTMOBG6VF5SMXPNQHGL5FN51_MOBG6VF5SMXPNQHG_\"><div class=\"XQDdHH\">4.6<img class=\"Rza2QY\" src=\"data:image/svg+xml;base64,PHN2ZyB4bWxucz0iaHR0cDovL3d3dy53My5vcmcvMjAwMC9zdmciIHdpZHRoPSIxMyIgaGVpZ2h0PSIxMiI+PHBhdGggZmlsbD0iI0ZGRiIgZD0iTTYuNSA5LjQzOWwtMy42NzQgMi4yMy45NC00LjI2LTMuMjEtMi44ODMgNC4yNTQtLjQwNEw2LjUuMTEybDEuNjkgNC4wMSA0LjI1NC40MDQtMy4yMSAyLjg4Mi45NCA0LjI2eiIvPjwvc3ZnPg==\"/></div></span><span class=\"Wphh3N\"><span><span>2,90,118 Ratings </span><span class=\"hG7V+4\">&amp;</span><span> 13,869 Reviews</span></span></span></div><div class=\"_6NESgJ\"><ul class=\"G4BRas\"><li class=\"J+igdf\">128 GB ROM</li><li class=\"J+igdf\">15.49 cm (6.1 inch) Super Retina XDR Display</li><li class=\"J+igdf\">12MP + 12MP | 12MP Front Camera</li><li class=\"J+igdf\">A15 Bionic Chip Processor</li><li class=\"J+igdf\">1 year warranty for phone and 1 year warranty for in Box Accessories.</li></ul></div></div><div class=\"col col-5-12 BfVC2z\"><div class=\"cN1yYO\"><div class=\"hl05eU\"><div class=\"Nx9bqj _4b5DiR\">₹44,999</div><div class=\"yRaY8j ZYYwLA\">₹<!-- -->49,900</div><div class=\"UkUFwK\"><span>9% off</span></div></div><div class=\"k6cAZE dlFt9U\"><div><div class=\"yiggsN\" style=\"color:#000000;font-size:12px;font-weight:400\">Free delivery</div></div></div></div><div class=\"_0CSTHy\"><img height=\"21\" src=\"//static-assets-web.flixcart.com/fk-p-linchpin-web/fk-cp-zion/img/fa_9e47c1.png\"/></div><div class=\"M4DNwV\"><div class=\"n5vj9c\" style=\"padding-top:4px;padding-right:4px;padding-bottom:4px;padding-left:4px;border-radius:2px;background-color:#E7F8EC\"><div class=\"yiggsN O5Fpg8\" style=\"color:#26A541;font-size:12px;font-weight:700\">Hot Deal</div></div></div><div class=\"M4DNwV\"><div class=\"n5vj9c\"><div class=\"yiggsN O5Fpg8\" style=\"color:#000000;font-size:14px;font-style:normal;font-weight:400\">Upto </div><div class=\"yiggsN O5Fpg8\" style=\"color:#000000;font-size:14px;font-style:normal;font-weight:700\">₹27,500</div><div class=\"yiggsN O5Fpg8\" style=\"color:#000000;font-size:14px;font-style:normal;font-weight:400\"> Off on Exchange</div></div></div></div></div></a></div></div></div></div><div class=\"cPHDOP col-12-12\"><div class=\"_75nlfW\"><div data-id=\"MOBGYQ2MQYHU59Y2\" style=\"width:100%\"><div class=\"tUxRFH\"><a class=\"CGtC98\" href=\"/google-pixel-8a-bay-128-gb/p/itm6d2e15988f2c4?pid=MOBGYQ2MQYHU59Y2&amp;lid=LSTMOBGYQ2MQYHU59Y2IR0ZZ0&amp;marketplace=FLIPKART&amp;q=mobiles+under+50000+rupees&amp;store=tyy%2F4io&amp;srno=s_1_21&amp;otracker=AS_QueryStore_OrganicAutoSuggest_1_19_na_na_na&amp;otracker1=AS_QueryStore_OrganicAutoSuggest_1_19_na_na_na&amp;fm=organic&amp;iid=db9dbfaa-46ca-42dc-a2eb-f90104f6f92b.MOBGYQ2MQYHU59Y2.SEARCH&amp;ppt=None&amp;ppn=None&amp;ssid=qyn27ecwa80000001746801619635&amp;qH=91434633a446479e\" rel=\"noopener noreferrer\" target=\"_blank\"><div class=\"Otbq5D\"><div class=\"yPq5Io\"><div><div class=\"_4WELSP\" style=\"height:200px;width:200px\"><img alt=\"Google Pixel 8a (Bay, 128 GB)\" class=\"DByuf4\" loading=\"eager\" src=\"https://rukminim2.flixcart.com/image/312/312/xif0q/mobile/f/h/n/pixel-8a-ga05570-in-google-original-imahyn3ncc6gcfnc.jpeg?q=70\"/></div></div></div><div class=\"qaR90o\"><div class=\"A8uQAd\"><span class=\"Lni97G\"><label class=\"tJjCVx\"><input class=\"vn9L2C\" readonly=\"\" type=\"checkbox\"/><div class=\"XqNaEv\"></div></label></span><label class=\"uu79Xy\"><span>Add to Compare</span></label></div></div><div class=\"oUss6M ssUU08\"><div class=\"+7E521\"><svg class=\"N1bADF\" height=\"16\" viewbox=\"0 0 20 16\" width=\"16\" xmlns=\"http://www.w3.org/2000/svg\"><path class=\"x1UMqG\" d=\"M8.695 16.682C4.06 12.382 1 9.536 1 6.065 1 3.219 3.178 1 5.95 1c1.566 0 3.069.746 4.05 1.915C10.981 1.745 12.484 1 14.05 1 16.822 1 19 3.22 19 6.065c0 3.471-3.06 6.316-7.695 10.617L10 17.897l-1.305-1.215z\" fill=\"#2874F0\" fill-rule=\"evenodd\" opacity=\".9\" stroke=\"#FFF\"></path></svg></div></div></div><div class=\"yKfJKb row\"><div class=\"col col-7-12\"><div class=\"KzDlHZ\">Google Pixel 8a (Bay, 128 GB)</div><div class=\"_5OesEi\"><span class=\"Y1HWO0\" id=\"productRating_LSTMOBGYQ2MQYHU59Y2IR0ZZ0_MOBGYQ2MQYHU59Y2_\"><div class=\"XQDdHH\">4.3<img class=\"Rza2QY\" src=\"data:image/svg+xml;base64,PHN2ZyB4bWxucz0iaHR0cDovL3d3dy53My5vcmcvMjAwMC9zdmciIHdpZHRoPSIxMyIgaGVpZ2h0PSIxMiI+PHBhdGggZmlsbD0iI0ZGRiIgZD0iTTYuNSA5LjQzOWwtMy42NzQgMi4yMy45NC00LjI2LTMuMjEtMi44ODMgNC4yNTQtLjQwNEw2LjUuMTEybDEuNjkgNC4wMSA0LjI1NC40MDQtMy4yMSAyLjg4Mi45NCA0LjI2eiIvPjwvc3ZnPg==\"/></div></span><span class=\"Wphh3N\"><span><span>4,950 Ratings </span><span class=\"hG7V+4\">&amp;</span><span> 423 Reviews</span></span></span></div><div class=\"_6NESgJ\"><ul class=\"G4BRas\"><li class=\"J+igdf\">8 GB RAM | 128 GB ROM</li><li class=\"J+igdf\">15.49 cm (6.1 inch) Full HD+ Display</li><li class=\"J+igdf\">64MP + 13MP | 13MP Front Camera</li><li class=\"J+igdf\">4404 mAh Battery</li><li class=\"J+igdf\">Tensor G3 Processor</li><li class=\"J+igdf\">1 Year Domestic Warranty</li></ul></div></div><div class=\"col col-5-12 BfVC2z\"><div class=\"cN1yYO\"><div class=\"hl05eU\"><div class=\"Nx9bqj _4b5DiR\">₹37,999</div><div class=\"yRaY8j ZYYwLA\">₹<!-- -->52,999</div><div class=\"UkUFwK\"><span>28% off</span></div></div><div class=\"k6cAZE dlFt9U\"><div><div class=\"yiggsN\" style=\"color:#000000;font-size:12px;font-weight:400\">Free delivery</div></div></div></div><div class=\"_0CSTHy\"><img height=\"21\" src=\"//static-assets-web.flixcart.com/fk-p-linchpin-web/fk-cp-zion/img/fa_9e47c1.png\"/></div><div class=\"M4DNwV\"><div class=\"n5vj9c\"><div class=\"yiggsN O5Fpg8\" style=\"color:#000000;font-size:14px;font-style:normal;font-weight:400\">Upto </div><div class=\"yiggsN O5Fpg8\" style=\"color:#000000;font-size:14px;font-style:normal;font-weight:700\">₹23,600</div><div class=\"yiggsN O5Fpg8\" style=\"color:#000000;font-size:14px;font-style:normal;font-weight:400\"> Off on Exchange</div></div></div><div class=\"M4DNwV\"><div class=\"n5vj9c\"><div class=\"yiggsN O5Fpg8\" style=\"color:#26A541;font-size:14px;font-weight:700\">Bank Offer</div></div></div></div></div></a></div></div></div></div><div class=\"cPHDOP col-12-12\"><div class=\"_75nlfW\"><div data-id=\"MOBGYQ2MKT3SVFCS\" style=\"width:100%\"><div class=\"tUxRFH\"><a class=\"CGtC98\" href=\"/google-pixel-8a-aloe-128-gb/p/itm9f646ddfbe8f4?pid=MOBGYQ2MKT3SVFCS&amp;lid=LSTMOBGYQ2MKT3SVFCSMCUIQC&amp;marketplace=FLIPKART&amp;q=mobiles+under+50000+rupees&amp;store=tyy%2F4io&amp;srno=s_1_22&amp;otracker=AS_QueryStore_OrganicAutoSuggest_1_19_na_na_na&amp;otracker1=AS_QueryStore_OrganicAutoSuggest_1_19_na_na_na&amp;fm=organic&amp;iid=db9dbfaa-46ca-42dc-a2eb-f90104f6f92b.MOBGYQ2MKT3SVFCS.SEARCH&amp;ppt=None&amp;ppn=None&amp;ssid=qyn27ecwa80000001746801619635&amp;qH=91434633a446479e\" rel=\"noopener noreferrer\" target=\"_blank\"><div class=\"Otbq5D\"><div class=\"yPq5Io\"><div><div class=\"_4WELSP\" style=\"height:200px;width:200px\"><img alt=\"Google Pixel 8a (Aloe, 128 GB)\" class=\"DByuf4\" loading=\"eager\" src=\"https://rukminim2.flixcart.com/image/312/312/xif0q/mobile/w/p/t/-original-imahyzygjdzrjgfh.jpeg?q=70\"/></div></div></div><div class=\"qaR90o\"><div class=\"A8uQAd\"><span class=\"Lni97G\"><label class=\"tJjCVx\"><input class=\"vn9L2C\" readonly=\"\" type=\"checkbox\"/><div class=\"XqNaEv\"></div></label></span><label class=\"uu79Xy\"><span>Add to Compare</span></label></div></div><div class=\"oUss6M ssUU08\"><div class=\"+7E521\"><svg class=\"N1bADF\" height=\"16\" viewbox=\"0 0 20 16\" width=\"16\" xmlns=\"http://www.w3.org/2000/svg\"><path class=\"x1UMqG\" d=\"M8.695 16.682C4.06 12.382 1 9.536 1 6.065 1 3.219 3.178 1 5.95 1c1.566 0 3.069.746 4.05 1.915C10.981 1.745 12.484 1 14.05 1 16.822 1 19 3.22 19 6.065c0 3.471-3.06 6.316-7.695 10.617L10 17.897l-1.305-1.215z\" fill=\"#2874F0\" fill-rule=\"evenodd\" opacity=\".9\" stroke=\"#FFF\"></path></svg></div></div></div><div class=\"yKfJKb row\"><div class=\"col col-7-12\"><div class=\"KzDlHZ\">Google Pixel 8a (Aloe, 128 GB)</div><div class=\"_5OesEi\"><span class=\"Y1HWO0\" id=\"productRating_LSTMOBGYQ2MKT3SVFCSMCUIQC_MOBGYQ2MKT3SVFCS_\"><div class=\"XQDdHH\">4.3<img class=\"Rza2QY\" src=\"data:image/svg+xml;base64,PHN2ZyB4bWxucz0iaHR0cDovL3d3dy53My5vcmcvMjAwMC9zdmciIHdpZHRoPSIxMyIgaGVpZ2h0PSIxMiI+PHBhdGggZmlsbD0iI0ZGRiIgZD0iTTYuNSA5LjQzOWwtMy42NzQgMi4yMy45NC00LjI2LTMuMjEtMi44ODMgNC4yNTQtLjQwNEw2LjUuMTEybDEuNjkgNC4wMSA0LjI1NC40MDQtMy4yMSAyLjg4Mi45NCA0LjI2eiIvPjwvc3ZnPg==\"/></div></span><span class=\"Wphh3N\"><span><span>4,950 Ratings </span><span class=\"hG7V+4\">&amp;</span><span> 423 Reviews</span></span></span></div><div class=\"_6NESgJ\"><ul class=\"G4BRas\"><li class=\"J+igdf\">8 GB RAM | 128 GB ROM</li><li class=\"J+igdf\">15.49 cm (6.1 inch) Full HD+ Display</li><li class=\"J+igdf\">64MP + 13MP | 13MP Front Camera</li><li class=\"J+igdf\">4404 mAh Battery</li><li class=\"J+igdf\">Tensor G3 Processor</li><li class=\"J+igdf\">1 Year Domestic Warranty</li></ul></div></div><div class=\"col col-5-12 BfVC2z\"><div class=\"cN1yYO\"><div class=\"hl05eU\"><div class=\"Nx9bqj _4b5DiR\">₹37,999</div><div class=\"yRaY8j ZYYwLA\">₹<!-- -->52,999</div><div class=\"UkUFwK\"><span>28% off</span></div></div><div class=\"k6cAZE dlFt9U\"><div><div class=\"yiggsN\" style=\"color:#000000;font-size:12px;font-weight:400\">Free delivery</div></div></div></div><div class=\"_0CSTHy\"><img height=\"21\" src=\"//static-assets-web.flixcart.com/fk-p-linchpin-web/fk-cp-zion/img/fa_9e47c1.png\"/></div><div class=\"M4DNwV\"><div class=\"n5vj9c\"><div class=\"yiggsN O5Fpg8\" style=\"color:#000000;font-size:14px;font-style:normal;font-weight:400\">Upto </div><div class=\"yiggsN O5Fpg8\" style=\"color:#000000;font-size:14px;font-style:normal;font-weight:700\">₹23,600</div><div class=\"yiggsN O5Fpg8\" style=\"color:#000000;font-size:14px;font-style:normal;font-weight:400\"> Off on Exchange</div></div></div><div class=\"M4DNwV\"><div class=\"n5vj9c\"><div class=\"yiggsN O5Fpg8\" style=\"color:#26A541;font-size:14px;font-weight:700\">Bank Offer</div></div></div></div></div></a></div></div></div></div><div class=\"cPHDOP col-12-12\"><div class=\"_75nlfW\"><div data-id=\"MOBH8H4HTS84UEQN\" style=\"width:100%\"><div class=\"tUxRFH\"><a class=\"CGtC98\" href=\"/oneplus-13r-5g-nebula-noir-512-gb/p/itmff6561809fab8?pid=MOBH8H4HTS84UEQN&amp;lid=LSTMOBH8H4HTS84UEQN3FAQ9K&amp;marketplace=FLIPKART&amp;q=mobiles+under+50000+rupees&amp;store=tyy%2F4io&amp;srno=s_1_23&amp;otracker=AS_QueryStore_OrganicAutoSuggest_1_19_na_na_na&amp;otracker1=AS_QueryStore_OrganicAutoSuggest_1_19_na_na_na&amp;fm=organic&amp;iid=db9dbfaa-46ca-42dc-a2eb-f90104f6f92b.MOBH8H4HTS84UEQN.SEARCH&amp;ppt=None&amp;ppn=None&amp;ssid=qyn27ecwa80000001746801619635&amp;qH=91434633a446479e\" rel=\"noopener noreferrer\" target=\"_blank\"><div class=\"Otbq5D\"><div class=\"yPq5Io\"><div><div class=\"_4WELSP\" style=\"height:200px;width:200px\"><img alt=\"OnePlus 13R 5G (Nebula Noir, 512 GB)\" class=\"DByuf4\" loading=\"eager\" src=\"https://rukminim2.flixcart.com/image/312/312/xif0q/mobile/z/1/5/-original-imah8vc2a8dg7xea.jpeg?q=70\"/></div></div></div><div class=\"qaR90o\"><div class=\"A8uQAd\"><span class=\"Lni97G\"><label class=\"tJjCVx\"><input class=\"vn9L2C\" readonly=\"\" type=\"checkbox\"/><div class=\"XqNaEv\"></div></label></span><label class=\"uu79Xy\"><span>Add to Compare</span></label></div></div><div class=\"oUss6M ssUU08\"><div class=\"+7E521\"><svg class=\"N1bADF\" height=\"16\" viewbox=\"0 0 20 16\" width=\"16\" xmlns=\"http://www.w3.org/2000/svg\"><path class=\"x1UMqG\" d=\"M8.695 16.682C4.06 12.382 1 9.536 1 6.065 1 3.219 3.178 1 5.95 1c1.566 0 3.069.746 4.05 1.915C10.981 1.745 12.484 1 14.05 1 16.822 1 19 3.22 19 6.065c0 3.471-3.06 6.316-7.695 10.617L10 17.897l-1.305-1.215z\" fill=\"#2874F0\" fill-rule=\"evenodd\" opacity=\".9\" stroke=\"#FFF\"></path></svg></div></div></div><div class=\"yKfJKb row\"><div class=\"col col-7-12\"><div class=\"KzDlHZ\">OnePlus 13R 5G (Nebula Noir, 512 GB)</div><div class=\"_5OesEi\"><span class=\"Y1HWO0\" id=\"productRating_LSTMOBH8H4HTS84UEQN3FAQ9K_MOBH8H4HTS84UEQN_\"><div class=\"XQDdHH\">4.5<img class=\"Rza2QY\" src=\"data:image/svg+xml;base64,PHN2ZyB4bWxucz0iaHR0cDovL3d3dy53My5vcmcvMjAwMC9zdmciIHdpZHRoPSIxMyIgaGVpZ2h0PSIxMiI+PHBhdGggZmlsbD0iI0ZGRiIgZD0iTTYuNSA5LjQzOWwtMy42NzQgMi4yMy45NC00LjI2LTMuMjEtMi44ODMgNC4yNTQtLjQwNEw2LjUuMTEybDEuNjkgNC4wMSA0LjI1NC40MDQtMy4yMSAyLjg4Mi45NCA0LjI2eiIvPjwvc3ZnPg==\"/></div></span><span class=\"Wphh3N\"><span><span>267 Ratings </span><span class=\"hG7V+4\">&amp;</span><span> 21 Reviews</span></span></span></div><div class=\"_6NESgJ\"><ul class=\"G4BRas\"><li class=\"J+igdf\">16 GB RAM | 512 GB ROM</li><li class=\"J+igdf\">17.22 cm (6.78 inch) Display</li><li class=\"J+igdf\">50MP Rear Camera</li><li class=\"J+igdf\">6000 mAh Battery</li><li class=\"J+igdf\">1 year manufacturer warranty for device and 1 year manufacturer warranty for in-box accessories including batteries from the date of purchase</li></ul></div></div><div class=\"col col-5-12 BfVC2z\"><div class=\"cN1yYO\"><div class=\"hl05eU\"><div class=\"Nx9bqj _4b5DiR\">₹43,967</div><div class=\"yRaY8j ZYYwLA\">₹<!-- -->51,999</div><div class=\"UkUFwK\"><span>15% off</span></div></div><div class=\"k6cAZE dlFt9U\"><div><div class=\"yiggsN\" style=\"color:#000000;font-size:12px;font-weight:400\">Free delivery</div></div></div></div><div class=\"_0CSTHy\"><img height=\"21\" src=\"//static-assets-web.flixcart.com/fk-p-linchpin-web/fk-cp-zion/img/fa_9e47c1.png\"/></div><div class=\"M4DNwV\"><div class=\"n5vj9c\"><div class=\"yiggsN O5Fpg8\" style=\"color:#C70055;font-size:12px;font-weight:700\">Only few left</div></div></div><div class=\"M4DNwV\"><div class=\"n5vj9c\"><div class=\"yiggsN O5Fpg8\" style=\"color:#26A541;font-size:14px;font-weight:700\">Bank Offer</div></div></div></div></div></a></div></div></div></div><div class=\"cPHDOP col-12-12\"><div class=\"_75nlfW\"><div data-id=\"MOBH8Z32XECJ9E7M\" style=\"width:100%\"><div class=\"tUxRFH\"><a class=\"CGtC98\" href=\"/vivo-v50-5g-rose-red-256-gb/p/itm12bbdca230795?pid=MOBH8Z32XECJ9E7M&amp;lid=LSTMOBH8Z32XECJ9E7MMTTUE1&amp;marketplace=FLIPKART&amp;q=mobiles+under+50000+rupees&amp;store=tyy%2F4io&amp;srno=s_1_24&amp;otracker=AS_QueryStore_OrganicAutoSuggest_1_19_na_na_na&amp;otracker1=AS_QueryStore_OrganicAutoSuggest_1_19_na_na_na&amp;fm=organic&amp;iid=db9dbfaa-46ca-42dc-a2eb-f90104f6f92b.MOBH8Z32XECJ9E7M.SEARCH&amp;ppt=None&amp;ppn=None&amp;ssid=qyn27ecwa80000001746801619635&amp;qH=91434633a446479e\" rel=\"noopener noreferrer\" target=\"_blank\"><div class=\"Otbq5D\"><div class=\"yPq5Io\"><div><div class=\"_4WELSP\" style=\"height:200px;width:200px\"><img alt=\"vivo V50 5G (Rose Red, 256 GB)\" class=\"DByuf4\" loading=\"eager\" src=\"https://rukminim2.flixcart.com/image/312/312/xif0q/mobile/a/q/v/-original-imah94g87zqhhrsw.jpeg?q=70\"/></div></div></div><div class=\"qaR90o\"><div class=\"A8uQAd\"><span class=\"Lni97G\"><label class=\"tJjCVx\"><input class=\"vn9L2C\" readonly=\"\" type=\"checkbox\"/><div class=\"XqNaEv\"></div></label></span><label class=\"uu79Xy\"><span>Add to Compare</span></label></div></div><div class=\"oUss6M ssUU08\"><div class=\"+7E521\"><svg class=\"N1bADF\" height=\"16\" viewbox=\"0 0 20 16\" width=\"16\" xmlns=\"http://www.w3.org/2000/svg\"><path class=\"x1UMqG\" d=\"M8.695 16.682C4.06 12.382 1 9.536 1 6.065 1 3.219 3.178 1 5.95 1c1.566 0 3.069.746 4.05 1.915C10.981 1.745 12.484 1 14.05 1 16.822 1 19 3.22 19 6.065c0 3.471-3.06 6.316-7.695 10.617L10 17.897l-1.305-1.215z\" fill=\"#2874F0\" fill-rule=\"evenodd\" opacity=\".9\" stroke=\"#FFF\"></path></svg></div></div></div><div class=\"yKfJKb row\"><div class=\"col col-7-12\"><div class=\"KzDlHZ\">vivo V50 5G (Rose Red, 256 GB)</div><div class=\"_5OesEi\"><span class=\"Y1HWO0\" id=\"productRating_LSTMOBH8Z32XECJ9E7MMTTUE1_MOBH8Z32XECJ9E7M_\"><div class=\"XQDdHH\">4.5<img class=\"Rza2QY\" src=\"data:image/svg+xml;base64,PHN2ZyB4bWxucz0iaHR0cDovL3d3dy53My5vcmcvMjAwMC9zdmciIHdpZHRoPSIxMyIgaGVpZ2h0PSIxMiI+PHBhdGggZmlsbD0iI0ZGRiIgZD0iTTYuNSA5LjQzOWwtMy42NzQgMi4yMy45NC00LjI2LTMuMjEtMi44ODMgNC4yNTQtLjQwNEw2LjUuMTEybDEuNjkgNC4wMSA0LjI1NC40MDQtMy4yMSAyLjg4Mi45NCA0LjI2eiIvPjwvc3ZnPg==\"/></div></span><span class=\"Wphh3N\"><span><span>3,852 Ratings </span><span class=\"hG7V+4\">&amp;</span><span> 391 Reviews</span></span></span></div><div class=\"_6NESgJ\"><ul class=\"G4BRas\"><li class=\"J+igdf\">8 GB RAM | 256 GB ROM</li><li class=\"J+igdf\">17.2 cm (6.77 inch) Display</li><li class=\"J+igdf\">50MP + 50MP | 50MP Front Camera</li><li class=\"J+igdf\">6000 mAh Battery</li><li class=\"J+igdf\">7 Gen 3 Processor</li><li class=\"J+igdf\">1 Year Manufacturer Warranty for Device and 6 Months Warranty for Inbox Accessories</li></ul></div></div><div class=\"col col-5-12 BfVC2z\"><div class=\"cN1yYO\"><div class=\"hl05eU\"><div class=\"Nx9bqj _4b5DiR\">₹36,999</div><div class=\"yRaY8j ZYYwLA\">₹<!-- -->42,999</div><div class=\"UkUFwK\"><span>13% off</span></div></div><div class=\"k6cAZE dlFt9U\"><div><div class=\"yiggsN\" style=\"color:#000000;font-size:12px;font-weight:400\">Free delivery</div></div></div></div><div class=\"_0CSTHy\"><img height=\"21\" src=\"//static-assets-web.flixcart.com/fk-p-linchpin-web/fk-cp-zion/img/fa_9e47c1.png\"/></div><div class=\"M4DNwV\"><div class=\"n5vj9c\" style=\"padding-top:4px;padding-right:4px;padding-bottom:4px;padding-left:4px;border-radius:2px;background-color:#E7F8EC\"><div class=\"yiggsN O5Fpg8\" style=\"color:#26A541;font-size:12px;font-weight:700\">Lowest price since launch</div></div></div><div class=\"M4DNwV\"><div class=\"n5vj9c\"><div class=\"yiggsN O5Fpg8\" style=\"color:#000000;font-size:14px;font-style:normal;font-weight:400\">Upto </div><div class=\"yiggsN O5Fpg8\" style=\"color:#000000;font-size:14px;font-style:normal;font-weight:700\">₹23,600</div><div class=\"yiggsN O5Fpg8\" style=\"color:#000000;font-size:14px;font-style:normal;font-weight:400\"> Off on Exchange</div></div></div></div></div></a></div></div></div></div><div class=\"cPHDOP col-12-12\"><div><div class=\"_1G0WLw\"><span>Page 1 of 474</span><nav class=\"WSL9JP\"><a class=\"cn++Ap A1msZJ\" href=\"/search?q=mobiles+under+50000+rupees&amp;sid=tyy%2C4io&amp;as=on&amp;as-show=on&amp;otracker=AS_QueryStore_OrganicAutoSuggest_1_19_na_na_na&amp;otracker1=AS_QueryStore_OrganicAutoSuggest_1_19_na_na_na&amp;as-pos=1&amp;as-type=RECENT&amp;suggestionId=mobiles+under+50000+rupees%7CMobiles&amp;requestId=114334d8-0c47-410f-98fc-6c37395b9672&amp;as-backfill=on&amp;page=1\">1</a><a class=\"cn++Ap\" href=\"/search?q=mobiles+under+50000+rupees&amp;sid=tyy%2C4io&amp;as=on&amp;as-show=on&amp;otracker=AS_QueryStore_OrganicAutoSuggest_1_19_na_na_na&amp;otracker1=AS_QueryStore_OrganicAutoSuggest_1_19_na_na_na&amp;as-pos=1&amp;as-type=RECENT&amp;suggestionId=mobiles+under+50000+rupees%7CMobiles&amp;requestId=114334d8-0c47-410f-98fc-6c37395b9672&amp;as-backfill=on&amp;page=2\">2</a><a class=\"cn++Ap\" href=\"/search?q=mobiles+under+50000+rupees&amp;sid=tyy%2C4io&amp;as=on&amp;as-show=on&amp;otracker=AS_QueryStore_OrganicAutoSuggest_1_19_na_na_na&amp;otracker1=AS_QueryStore_OrganicAutoSuggest_1_19_na_na_na&amp;as-pos=1&amp;as-type=RECENT&amp;suggestionId=mobiles+under+50000+rupees%7CMobiles&amp;requestId=114334d8-0c47-410f-98fc-6c37395b9672&amp;as-backfill=on&amp;page=3\">3</a><a class=\"cn++Ap\" href=\"/search?q=mobiles+under+50000+rupees&amp;sid=tyy%2C4io&amp;as=on&amp;as-show=on&amp;otracker=AS_QueryStore_OrganicAutoSuggest_1_19_na_na_na&amp;otracker1=AS_QueryStore_OrganicAutoSuggest_1_19_na_na_na&amp;as-pos=1&amp;as-type=RECENT&amp;suggestionId=mobiles+under+50000+rupees%7CMobiles&amp;requestId=114334d8-0c47-410f-98fc-6c37395b9672&amp;as-backfill=on&amp;page=4\">4</a><a class=\"cn++Ap\" href=\"/search?q=mobiles+under+50000+rupees&amp;sid=tyy%2C4io&amp;as=on&amp;as-show=on&amp;otracker=AS_QueryStore_OrganicAutoSuggest_1_19_na_na_na&amp;otracker1=AS_QueryStore_OrganicAutoSuggest_1_19_na_na_na&amp;as-pos=1&amp;as-type=RECENT&amp;suggestionId=mobiles+under+50000+rupees%7CMobiles&amp;requestId=114334d8-0c47-410f-98fc-6c37395b9672&amp;as-backfill=on&amp;page=5\">5</a><a class=\"cn++Ap\" href=\"/search?q=mobiles+under+50000+rupees&amp;sid=tyy%2C4io&amp;as=on&amp;as-show=on&amp;otracker=AS_QueryStore_OrganicAutoSuggest_1_19_na_na_na&amp;otracker1=AS_QueryStore_OrganicAutoSuggest_1_19_na_na_na&amp;as-pos=1&amp;as-type=RECENT&amp;suggestionId=mobiles+under+50000+rupees%7CMobiles&amp;requestId=114334d8-0c47-410f-98fc-6c37395b9672&amp;as-backfill=on&amp;page=6\">6</a><a class=\"cn++Ap\" href=\"/search?q=mobiles+under+50000+rupees&amp;sid=tyy%2C4io&amp;as=on&amp;as-show=on&amp;otracker=AS_QueryStore_OrganicAutoSuggest_1_19_na_na_na&amp;otracker1=AS_QueryStore_OrganicAutoSuggest_1_19_na_na_na&amp;as-pos=1&amp;as-type=RECENT&amp;suggestionId=mobiles+under+50000+rupees%7CMobiles&amp;requestId=114334d8-0c47-410f-98fc-6c37395b9672&amp;as-backfill=on&amp;page=7\">7</a><a class=\"cn++Ap\" href=\"/search?q=mobiles+under+50000+rupees&amp;sid=tyy%2C4io&amp;as=on&amp;as-show=on&amp;otracker=AS_QueryStore_OrganicAutoSuggest_1_19_na_na_na&amp;otracker1=AS_QueryStore_OrganicAutoSuggest_1_19_na_na_na&amp;as-pos=1&amp;as-type=RECENT&amp;suggestionId=mobiles+under+50000+rupees%7CMobiles&amp;requestId=114334d8-0c47-410f-98fc-6c37395b9672&amp;as-backfill=on&amp;page=8\">8</a><a class=\"cn++Ap\" href=\"/search?q=mobiles+under+50000+rupees&amp;sid=tyy%2C4io&amp;as=on&amp;as-show=on&amp;otracker=AS_QueryStore_OrganicAutoSuggest_1_19_na_na_na&amp;otracker1=AS_QueryStore_OrganicAutoSuggest_1_19_na_na_na&amp;as-pos=1&amp;as-type=RECENT&amp;suggestionId=mobiles+under+50000+rupees%7CMobiles&amp;requestId=114334d8-0c47-410f-98fc-6c37395b9672&amp;as-backfill=on&amp;page=9\">9</a><a class=\"cn++Ap\" href=\"/search?q=mobiles+under+50000+rupees&amp;sid=tyy%2C4io&amp;as=on&amp;as-show=on&amp;otracker=AS_QueryStore_OrganicAutoSuggest_1_19_na_na_na&amp;otracker1=AS_QueryStore_OrganicAutoSuggest_1_19_na_na_na&amp;as-pos=1&amp;as-type=RECENT&amp;suggestionId=mobiles+under+50000+rupees%7CMobiles&amp;requestId=114334d8-0c47-410f-98fc-6c37395b9672&amp;as-backfill=on&amp;page=10\">10</a><a class=\"_9QVEpD\" href=\"/search?q=mobiles+under+50000+rupees&amp;sid=tyy%2C4io&amp;as=on&amp;as-show=on&amp;otracker=AS_QueryStore_OrganicAutoSuggest_1_19_na_na_na&amp;otracker1=AS_QueryStore_OrganicAutoSuggest_1_19_na_na_na&amp;as-pos=1&amp;as-type=RECENT&amp;suggestionId=mobiles+under+50000+rupees%7CMobiles&amp;requestId=114334d8-0c47-410f-98fc-6c37395b9672&amp;as-backfill=on&amp;page=2\"><span>Next</span></a></nav><span class=\"TEAQU1\"></span></div></div></div><div class=\"cPHDOP col-12-12\" style=\"margin:10px 0px 0px 0px\"><div class=\"b5p4CI\"><span class=\"H+18AT\">Did you find what you were looking for?</span><div class=\"c6QpTS oWf9LO\"><span class=\"WZkjSk eQ1o1C\">Yes</span><span class=\"WZkjSk eQ1o1C\">No</span></div></div></div></div>"
      ]
     },
     "execution_count": 35,
     "metadata": {},
     "output_type": "execute_result"
    }
   ],
   "source": [
    "products_box"
   ]
  },
  {
   "cell_type": "code",
   "execution_count": 40,
   "id": "0f0bb43a",
   "metadata": {},
   "outputs": [
    {
     "data": {
      "text/plain": [
       "24"
      ]
     },
     "execution_count": 40,
     "metadata": {},
     "output_type": "execute_result"
    }
   ],
   "source": [
    "reviews_n = products_box.find_all(\"div\", class_=\"XQDdHH\")\n",
    "len(reviews_n)"
   ]
  },
  {
   "cell_type": "code",
   "execution_count": 41,
   "id": "c6236da2",
   "metadata": {},
   "outputs": [],
   "source": [
    "reviews=[]"
   ]
  },
  {
   "cell_type": "code",
   "execution_count": 42,
   "id": "2297cc18",
   "metadata": {},
   "outputs": [
    {
     "data": {
      "text/plain": [
       "['4.6',\n",
       " '4.5',\n",
       " '4.5',\n",
       " '4.5',\n",
       " '4.5',\n",
       " '4.5',\n",
       " '4.5',\n",
       " '4.6',\n",
       " '4.6',\n",
       " '4.6',\n",
       " '4.6',\n",
       " '4.6',\n",
       " '4.3',\n",
       " '4.3',\n",
       " '4.5',\n",
       " '4.5',\n",
       " '4.6',\n",
       " '4.5',\n",
       " '4.6',\n",
       " '4.6',\n",
       " '4.3',\n",
       " '4.3',\n",
       " '4.5',\n",
       " '4.5']"
      ]
     },
     "execution_count": 42,
     "metadata": {},
     "output_type": "execute_result"
    }
   ],
   "source": [
    "for i in reviews_n:\n",
    "    reviews.append(i.text)\n",
    "\n",
    "reviews"
   ]
  },
  {
   "cell_type": "code",
   "execution_count": 43,
   "id": "854d9ddd",
   "metadata": {},
   "outputs": [
    {
     "data": {
      "text/plain": [
       "24"
      ]
     },
     "execution_count": 43,
     "metadata": {},
     "output_type": "execute_result"
    }
   ],
   "source": [
    "len(reviews)"
   ]
  },
  {
   "cell_type": "code",
   "execution_count": 44,
   "id": "10dfe2d0",
   "metadata": {},
   "outputs": [
    {
     "data": {
      "text/html": [
       "<div>\n",
       "<style scoped>\n",
       "    .dataframe tbody tr th:only-of-type {\n",
       "        vertical-align: middle;\n",
       "    }\n",
       "\n",
       "    .dataframe tbody tr th {\n",
       "        vertical-align: top;\n",
       "    }\n",
       "\n",
       "    .dataframe thead th {\n",
       "        text-align: right;\n",
       "    }\n",
       "</style>\n",
       "<table border=\"1\" class=\"dataframe\">\n",
       "  <thead>\n",
       "    <tr style=\"text-align: right;\">\n",
       "      <th></th>\n",
       "      <th>Product Name</th>\n",
       "      <th>Prices</th>\n",
       "      <th>Description</th>\n",
       "      <th>Reviews</th>\n",
       "    </tr>\n",
       "  </thead>\n",
       "  <tbody>\n",
       "    <tr>\n",
       "      <th>0</th>\n",
       "      <td>SAMSUNG Galaxy S24 5G (Marble Gray, 128 GB)</td>\n",
       "      <td>₹44,999</td>\n",
       "      <td>8 GB RAM | 128 GB ROM15.75 cm (6.2 inch) Full ...</td>\n",
       "      <td>4.6</td>\n",
       "    </tr>\n",
       "    <tr>\n",
       "      <th>1</th>\n",
       "      <td>SAMSUNG Galaxy S24 FE 5G (Blue, 256 GB)</td>\n",
       "      <td>₹40,999</td>\n",
       "      <td>8 GB RAM | 256 GB ROM17.02 cm (6.7 inch) Full ...</td>\n",
       "      <td>4.5</td>\n",
       "    </tr>\n",
       "    <tr>\n",
       "      <th>2</th>\n",
       "      <td>SAMSUNG Galaxy S24 FE 5G (Graphite, 128 GB)</td>\n",
       "      <td>₹34,999</td>\n",
       "      <td>8 GB RAM | 128 GB ROM17.02 cm (6.7 inch) Full ...</td>\n",
       "      <td>4.5</td>\n",
       "    </tr>\n",
       "    <tr>\n",
       "      <th>3</th>\n",
       "      <td>SAMSUNG Galaxy S24 FE 5G (Mint, 256 GB)</td>\n",
       "      <td>₹40,999</td>\n",
       "      <td>8 GB RAM | 256 GB ROM17.02 cm (6.7 inch) Full ...</td>\n",
       "      <td>4.5</td>\n",
       "    </tr>\n",
       "    <tr>\n",
       "      <th>4</th>\n",
       "      <td>SAMSUNG Galaxy S24 FE 5G (Mint, 128 GB)</td>\n",
       "      <td>₹34,999</td>\n",
       "      <td>8 GB RAM | 128 GB ROM17.02 cm (6.7 inch) Full ...</td>\n",
       "      <td>4.5</td>\n",
       "    </tr>\n",
       "    <tr>\n",
       "      <th>5</th>\n",
       "      <td>SAMSUNG Galaxy S24 FE 5G (Blue, 128 GB)</td>\n",
       "      <td>₹34,999</td>\n",
       "      <td>8 GB RAM | 128 GB ROM17.02 cm (6.7 inch) Full ...</td>\n",
       "      <td>4.5</td>\n",
       "    </tr>\n",
       "    <tr>\n",
       "      <th>6</th>\n",
       "      <td>SAMSUNG Galaxy S24 FE 5G (Graphite, 256 GB)</td>\n",
       "      <td>₹40,999</td>\n",
       "      <td>8 GB RAM | 256 GB ROM17.02 cm (6.7 inch) Full ...</td>\n",
       "      <td>4.5</td>\n",
       "    </tr>\n",
       "    <tr>\n",
       "      <th>7</th>\n",
       "      <td>SAMSUNG Galaxy S24 5G (Onyx Black, 128 GB)</td>\n",
       "      <td>₹44,999</td>\n",
       "      <td>8 GB RAM | 128 GB ROM15.75 cm (6.2 inch) Full ...</td>\n",
       "      <td>4.6</td>\n",
       "    </tr>\n",
       "    <tr>\n",
       "      <th>8</th>\n",
       "      <td>SAMSUNG Galaxy S24 5G (Onyx Black, 256 GB)</td>\n",
       "      <td>₹50,999</td>\n",
       "      <td>8 GB RAM | 256 GB ROM15.75 cm (6.2 inch) Full ...</td>\n",
       "      <td>4.6</td>\n",
       "    </tr>\n",
       "    <tr>\n",
       "      <th>9</th>\n",
       "      <td>Apple iPhone 13 (Midnight, 128 GB)</td>\n",
       "      <td>₹44,999</td>\n",
       "      <td>128 GB ROM15.49 cm (6.1 inch) Super Retina XDR...</td>\n",
       "      <td>4.6</td>\n",
       "    </tr>\n",
       "    <tr>\n",
       "      <th>10</th>\n",
       "      <td>Google Pixel 9A (Obsidian, 256 GB)</td>\n",
       "      <td>₹49,999</td>\n",
       "      <td>8 GB RAM | 256 GB ROM15.96 cm (6.285 inch) Ful...</td>\n",
       "      <td>4.6</td>\n",
       "    </tr>\n",
       "    <tr>\n",
       "      <th>11</th>\n",
       "      <td>Apple iPhone 13 (Starlight, 128 GB)</td>\n",
       "      <td>₹44,999</td>\n",
       "      <td>128 GB ROM15.49 cm (6.1 inch) Super Retina XDR...</td>\n",
       "      <td>4.6</td>\n",
       "    </tr>\n",
       "    <tr>\n",
       "      <th>12</th>\n",
       "      <td>Google Pixel 8a (Obsidian, 128 GB)</td>\n",
       "      <td>₹37,999</td>\n",
       "      <td>8 GB RAM | 128 GB ROM15.49 cm (6.1 inch) Full ...</td>\n",
       "      <td>4.3</td>\n",
       "    </tr>\n",
       "    <tr>\n",
       "      <th>13</th>\n",
       "      <td>Google Pixel 8a (Porcelain, 128 GB)</td>\n",
       "      <td>₹37,999</td>\n",
       "      <td>8 GB RAM | 128 GB ROM15.49 cm (6.1 inch) Full ...</td>\n",
       "      <td>4.3</td>\n",
       "    </tr>\n",
       "    <tr>\n",
       "      <th>14</th>\n",
       "      <td>OnePlus 13R 5G (Nebula Noir, 256 GB)</td>\n",
       "      <td>₹39,876</td>\n",
       "      <td>12 GB RAM | 256 GB ROM17.22 cm (6.78 inch) Dis...</td>\n",
       "      <td>4.5</td>\n",
       "    </tr>\n",
       "    <tr>\n",
       "      <th>15</th>\n",
       "      <td>OnePlus 13R 5g (Astral Trail, 256 GB)</td>\n",
       "      <td>₹39,507</td>\n",
       "      <td>12 GB RAM | 256 GB ROM17.22 cm (6.78 inch) Dis...</td>\n",
       "      <td>4.5</td>\n",
       "    </tr>\n",
       "    <tr>\n",
       "      <th>16</th>\n",
       "      <td>SAMSUNG Galaxy S24 5G (Amber Yellow, 128 GB)</td>\n",
       "      <td>₹44,999</td>\n",
       "      <td>8 GB RAM | 128 GB ROM15.75 cm (6.2 inch) Full ...</td>\n",
       "      <td>4.6</td>\n",
       "    </tr>\n",
       "    <tr>\n",
       "      <th>17</th>\n",
       "      <td>OnePlus 13R 5G (Astral Trail, 512 GB)</td>\n",
       "      <td>₹43,682</td>\n",
       "      <td>16 GB RAM | 512 GB ROM17.22 cm (6.78 inch) Dis...</td>\n",
       "      <td>4.5</td>\n",
       "    </tr>\n",
       "    <tr>\n",
       "      <th>18</th>\n",
       "      <td>Google Pixel 9A (Iris, 256 GB)</td>\n",
       "      <td>₹49,999</td>\n",
       "      <td>8 GB RAM | 256 GB ROM15.96 cm (6.285 inch) Ful...</td>\n",
       "      <td>4.6</td>\n",
       "    </tr>\n",
       "    <tr>\n",
       "      <th>19</th>\n",
       "      <td>Apple iPhone 13 (Blue, 128 GB)</td>\n",
       "      <td>₹44,999</td>\n",
       "      <td>128 GB ROM15.49 cm (6.1 inch) Super Retina XDR...</td>\n",
       "      <td>4.6</td>\n",
       "    </tr>\n",
       "    <tr>\n",
       "      <th>20</th>\n",
       "      <td>Google Pixel 8a (Bay, 128 GB)</td>\n",
       "      <td>₹37,999</td>\n",
       "      <td>8 GB RAM | 128 GB ROM15.49 cm (6.1 inch) Full ...</td>\n",
       "      <td>4.3</td>\n",
       "    </tr>\n",
       "    <tr>\n",
       "      <th>21</th>\n",
       "      <td>Google Pixel 8a (Aloe, 128 GB)</td>\n",
       "      <td>₹37,999</td>\n",
       "      <td>8 GB RAM | 128 GB ROM15.49 cm (6.1 inch) Full ...</td>\n",
       "      <td>4.3</td>\n",
       "    </tr>\n",
       "    <tr>\n",
       "      <th>22</th>\n",
       "      <td>OnePlus 13R 5G (Nebula Noir, 512 GB)</td>\n",
       "      <td>₹43,967</td>\n",
       "      <td>16 GB RAM | 512 GB ROM17.22 cm (6.78 inch) Dis...</td>\n",
       "      <td>4.5</td>\n",
       "    </tr>\n",
       "    <tr>\n",
       "      <th>23</th>\n",
       "      <td>vivo V50 5G (Rose Red, 256 GB)</td>\n",
       "      <td>₹36,999</td>\n",
       "      <td>8 GB RAM | 256 GB ROM17.2 cm (6.77 inch) Displ...</td>\n",
       "      <td>4.5</td>\n",
       "    </tr>\n",
       "  </tbody>\n",
       "</table>\n",
       "</div>"
      ],
      "text/plain": [
       "                                    Product Name   Prices  \\\n",
       "0    SAMSUNG Galaxy S24 5G (Marble Gray, 128 GB)  ₹44,999   \n",
       "1        SAMSUNG Galaxy S24 FE 5G (Blue, 256 GB)  ₹40,999   \n",
       "2    SAMSUNG Galaxy S24 FE 5G (Graphite, 128 GB)  ₹34,999   \n",
       "3        SAMSUNG Galaxy S24 FE 5G (Mint, 256 GB)  ₹40,999   \n",
       "4        SAMSUNG Galaxy S24 FE 5G (Mint, 128 GB)  ₹34,999   \n",
       "5        SAMSUNG Galaxy S24 FE 5G (Blue, 128 GB)  ₹34,999   \n",
       "6    SAMSUNG Galaxy S24 FE 5G (Graphite, 256 GB)  ₹40,999   \n",
       "7     SAMSUNG Galaxy S24 5G (Onyx Black, 128 GB)  ₹44,999   \n",
       "8     SAMSUNG Galaxy S24 5G (Onyx Black, 256 GB)  ₹50,999   \n",
       "9             Apple iPhone 13 (Midnight, 128 GB)  ₹44,999   \n",
       "10            Google Pixel 9A (Obsidian, 256 GB)  ₹49,999   \n",
       "11           Apple iPhone 13 (Starlight, 128 GB)  ₹44,999   \n",
       "12            Google Pixel 8a (Obsidian, 128 GB)  ₹37,999   \n",
       "13           Google Pixel 8a (Porcelain, 128 GB)  ₹37,999   \n",
       "14          OnePlus 13R 5G (Nebula Noir, 256 GB)  ₹39,876   \n",
       "15         OnePlus 13R 5g (Astral Trail, 256 GB)  ₹39,507   \n",
       "16  SAMSUNG Galaxy S24 5G (Amber Yellow, 128 GB)  ₹44,999   \n",
       "17         OnePlus 13R 5G (Astral Trail, 512 GB)  ₹43,682   \n",
       "18                Google Pixel 9A (Iris, 256 GB)  ₹49,999   \n",
       "19                Apple iPhone 13 (Blue, 128 GB)  ₹44,999   \n",
       "20                 Google Pixel 8a (Bay, 128 GB)  ₹37,999   \n",
       "21                Google Pixel 8a (Aloe, 128 GB)  ₹37,999   \n",
       "22          OnePlus 13R 5G (Nebula Noir, 512 GB)  ₹43,967   \n",
       "23                vivo V50 5G (Rose Red, 256 GB)  ₹36,999   \n",
       "\n",
       "                                          Description Reviews  \n",
       "0   8 GB RAM | 128 GB ROM15.75 cm (6.2 inch) Full ...     4.6  \n",
       "1   8 GB RAM | 256 GB ROM17.02 cm (6.7 inch) Full ...     4.5  \n",
       "2   8 GB RAM | 128 GB ROM17.02 cm (6.7 inch) Full ...     4.5  \n",
       "3   8 GB RAM | 256 GB ROM17.02 cm (6.7 inch) Full ...     4.5  \n",
       "4   8 GB RAM | 128 GB ROM17.02 cm (6.7 inch) Full ...     4.5  \n",
       "5   8 GB RAM | 128 GB ROM17.02 cm (6.7 inch) Full ...     4.5  \n",
       "6   8 GB RAM | 256 GB ROM17.02 cm (6.7 inch) Full ...     4.5  \n",
       "7   8 GB RAM | 128 GB ROM15.75 cm (6.2 inch) Full ...     4.6  \n",
       "8   8 GB RAM | 256 GB ROM15.75 cm (6.2 inch) Full ...     4.6  \n",
       "9   128 GB ROM15.49 cm (6.1 inch) Super Retina XDR...     4.6  \n",
       "10  8 GB RAM | 256 GB ROM15.96 cm (6.285 inch) Ful...     4.6  \n",
       "11  128 GB ROM15.49 cm (6.1 inch) Super Retina XDR...     4.6  \n",
       "12  8 GB RAM | 128 GB ROM15.49 cm (6.1 inch) Full ...     4.3  \n",
       "13  8 GB RAM | 128 GB ROM15.49 cm (6.1 inch) Full ...     4.3  \n",
       "14  12 GB RAM | 256 GB ROM17.22 cm (6.78 inch) Dis...     4.5  \n",
       "15  12 GB RAM | 256 GB ROM17.22 cm (6.78 inch) Dis...     4.5  \n",
       "16  8 GB RAM | 128 GB ROM15.75 cm (6.2 inch) Full ...     4.6  \n",
       "17  16 GB RAM | 512 GB ROM17.22 cm (6.78 inch) Dis...     4.5  \n",
       "18  8 GB RAM | 256 GB ROM15.96 cm (6.285 inch) Ful...     4.6  \n",
       "19  128 GB ROM15.49 cm (6.1 inch) Super Retina XDR...     4.6  \n",
       "20  8 GB RAM | 128 GB ROM15.49 cm (6.1 inch) Full ...     4.3  \n",
       "21  8 GB RAM | 128 GB ROM15.49 cm (6.1 inch) Full ...     4.3  \n",
       "22  16 GB RAM | 512 GB ROM17.22 cm (6.78 inch) Dis...     4.5  \n",
       "23  8 GB RAM | 256 GB ROM17.2 cm (6.77 inch) Displ...     4.5  "
      ]
     },
     "execution_count": 44,
     "metadata": {},
     "output_type": "execute_result"
    }
   ],
   "source": [
    "df = pd.DataFrame({\"Product Name\":product_Name, \"Prices\":prices, \"Description\":description, \"Reviews\":reviews})\n",
    "df"
   ]
  },
  {
   "cell_type": "code",
   "execution_count": 57,
   "id": "a9551a3c",
   "metadata": {},
   "outputs": [],
   "source": [
    "product_Name = []\n",
    "prices = []\n",
    "description = []\n",
    "reviews=[]\n"
   ]
  },
  {
   "cell_type": "code",
   "execution_count": 78,
   "id": "627dc052",
   "metadata": {},
   "outputs": [],
   "source": [
    "urll = \"https://www.flipkart.com/search?q=mobiles+under+50000+rupees&sid=tyy%2C4io&as=on&as-show=on&otracker=AS_QueryStore_OrganicAutoSuggest_1_19_na_na_na&otracker1=AS_QueryStore_OrganicAutoSuggest_1_19_na_na_na&as-pos=1&as-type=RECENT&suggestionId=mobiles+under+50000+rupees%7CMobiles&requestId=114334d8-0c47-410f-98fc-6c37395b9672&as-backfill=on&page=3\"\n",
    "rt = requests.get(urll)\n",
    "soups = BeautifulSoup(rt.text, \"lxml\")\n",
    "box = soups.find(\"div\", class_=\"DOjaWF gdgoEp\")\n",
    "name_s = box.find_all(\"div\", class_=\"KzDlHZ\")\n",
    "reviws = box.find_all(\"div\", class_=\"XQDdHH\")\n",
    "\n",
    "\n"
   ]
  },
  {
   "cell_type": "code",
   "execution_count": 79,
   "id": "3cf22db2",
   "metadata": {},
   "outputs": [
    {
     "name": "stdout",
     "output_type": "stream",
     "text": [
      "24\n",
      "24\n",
      "1 - 4.3\n",
      "2 - 4.4\n",
      "3 - 4.3\n",
      "4 - 4.3\n",
      "5 - 4.3\n",
      "6 - 4.3\n",
      "7 - 4.4\n",
      "8 - 4.4\n",
      "9 - 4.4\n",
      "10 - 4.6\n",
      "11 - 4.6\n",
      "12 - 4.4\n",
      "13 - 4.2\n",
      "14 - 4.4\n",
      "15 - 3.9\n",
      "16 - 4.3\n",
      "17 - 3.9\n",
      "18 - 4.1\n",
      "19 - 4.1\n",
      "20 - 4.3\n",
      "21 - 4.2\n",
      "22 - 4.6\n",
      "23 - 4.5\n",
      "24 - 4.3\n"
     ]
    }
   ],
   "source": [
    "print(len(reviws))\n",
    "print(len(name_s))\n",
    "j=1\n",
    "for i in reviws:\n",
    "    print(f\"{j} - {i.text}\")\n",
    "\n",
    "    j+=1"
   ]
  },
  {
   "cell_type": "code",
   "execution_count": null,
   "id": "ea0704da",
   "metadata": {},
   "outputs": [
    {
     "name": "stdout",
     "output_type": "stream",
     "text": [
      "Product Names page number 2 : 24\n",
      "prices page number 2 : 24\n",
      "Description page number 2 : 24\n",
      "Reviews page number 2 : 22\n",
      "Reviews page number 2 : 22\n",
      "Product Names page number 3 : 24\n",
      "prices page number 3 : 24\n",
      "Description page number 3 : 24\n",
      "Reviews page number 3 : 22\n",
      "Reviews page number 3 : 22\n",
      "Product Names page number 4 : 24\n",
      "prices page number 4 : 24\n",
      "Description page number 4 : 24\n",
      "Reviews page number 4 : 24\n",
      "Product Names page number 5 : 24\n",
      "prices page number 5 : 24\n",
      "Description page number 5 : 24\n",
      "Reviews page number 5 : 24\n",
      "Product Names page number 6 : 24\n",
      "prices page number 6 : 24\n",
      "Description page number 6 : 24\n",
      "Reviews page number 6 : 24\n",
      "Product Names page number 7 : 24\n",
      "prices page number 7 : 24\n",
      "Description page number 7 : 24\n",
      "Reviews page number 7 : 22\n",
      "Reviews page number 7 : 22\n",
      "Product Names page number 8 : 24\n",
      "prices page number 8 : 24\n",
      "Description page number 8 : 24\n",
      "Reviews page number 8 : 24\n",
      "Product Names page number 9 : 24\n",
      "prices page number 9 : 24\n",
      "Description page number 9 : 24\n",
      "Reviews page number 9 : 24\n",
      "Product Names page number 10 : 24\n",
      "prices page number 10 : 24\n",
      "Description page number 10 : 24\n",
      "Reviews page number 10 : 24\n",
      "Product Names page number 11 : 24\n",
      "prices page number 11 : 24\n",
      "Description page number 11 : 24\n",
      "Reviews page number 11 : 24\n"
     ]
    }
   ],
   "source": [
    "product_Name = []\n",
    "prices = []\n",
    "description = []\n",
    "reviews=[]\n",
    "for j in range(2, 12):\n",
    "    url = \"https://www.flipkart.com/search?q=mobiles+under+50000+rupees&sid=tyy%2C4io&as=on&as-show=on&otracker=AS_QueryStore_OrganicAutoSuggest_1_19_na_na_na&otracker1=AS_QueryStore_OrganicAutoSuggest_1_19_na_na_na&as-pos=1&as-type=RECENT&suggestionId=mobiles+under+50000+rupees%7CMobiles&requestId=114334d8-0c47-410f-98fc-6c37395b9672&as-backfill=on&page=\"+str(j)\n",
    "    r = requests.get(url)\n",
    "    soup = BeautifulSoup(r.text, \"lxml\")\n",
    "    products_box = soup.find(\"div\", class_=\"DOjaWF gdgoEp\")\n",
    "    products_box = soup.find(\"div\", class_=\"DOjaWF gdgoEp\")\n",
    "    \n",
    "    # Extracting Product Names\n",
    "    names = products_box.find_all(\"div\", class_=\"KzDlHZ\")\n",
    "    if len(names) != 24:\n",
    "        print(f\"Product Names page number {j} : {len(names)}\")\n",
    "    print(f\"Product Names page number {j} : {len(names)}\")\n",
    "    for i in names:\n",
    "        product_Name.append(i.text)\n",
    "\n",
    "    # Extracting Prices\n",
    "    prices_p = products_box.find_all(\"div\", class_=\"Nx9bqj _4b5DiR\")\n",
    "    if len(prices_p) != 24:\n",
    "        print(f\"prices page number {j} : {len(prices_p)}\")\n",
    "    print(f\"prices page number {j} : {len(prices_p)}\")\n",
    "    for i in prices_p:\n",
    "        prices.append(i.text)\n",
    "\n",
    "    #Extracting Description\n",
    "    descr = products_box.find_all(\"ul\", class_=\"G4BRas\")\n",
    "    if len(descr) != 24:\n",
    "        print(f\"Description page number {j} : {len(descr)}\")\n",
    "    print(f\"Description page number {j} : {len(descr)}\")\n",
    "    for i in descr:\n",
    "        n = i.text\n",
    "        description.append(n)\n",
    "\n",
    "    #Extracting Reviews\n",
    "    reviews_n = products_box.find_all(\"div\", class_=\"XQDdHH\")\n",
    "    if len(reviews_n) != 24:\n",
    "        print(f\"Reviews page number {j} : {len(reviews_n)}\")\n",
    "    print(f\"Reviews page number {j} : {len(reviews_n)}\")\n",
    "    for i in reviews_n:\n",
    "        reviews.append(i.text)\n",
    "\n",
    "# df = pd.DataFrame({\"Product Name\":product_Name[:238], \"Prices\":prices[:238], \"Description\":description[:238], \"Reviews\":reviews[:238]})\n",
    "# df"
   ]
  },
  {
   "cell_type": "code",
   "execution_count": 71,
   "id": "424eeb9f",
   "metadata": {},
   "outputs": [
    {
     "name": "stdout",
     "output_type": "stream",
     "text": [
      "240\n",
      "240\n",
      "240\n",
      "234\n"
     ]
    }
   ],
   "source": [
    "print(len(product_Name))\n",
    "print(len(prices))\n",
    "print(len(description))\n",
    "print(len(reviews))"
   ]
  },
  {
   "cell_type": "code",
   "execution_count": 64,
   "id": "f3fb710d",
   "metadata": {},
   "outputs": [
    {
     "data": {
      "text/html": [
       "<div>\n",
       "<style scoped>\n",
       "    .dataframe tbody tr th:only-of-type {\n",
       "        vertical-align: middle;\n",
       "    }\n",
       "\n",
       "    .dataframe tbody tr th {\n",
       "        vertical-align: top;\n",
       "    }\n",
       "\n",
       "    .dataframe thead th {\n",
       "        text-align: right;\n",
       "    }\n",
       "</style>\n",
       "<table border=\"1\" class=\"dataframe\">\n",
       "  <thead>\n",
       "    <tr style=\"text-align: right;\">\n",
       "      <th></th>\n",
       "      <th>Product Name</th>\n",
       "      <th>Prices</th>\n",
       "      <th>Description</th>\n",
       "      <th>Reviews</th>\n",
       "    </tr>\n",
       "  </thead>\n",
       "  <tbody>\n",
       "    <tr>\n",
       "      <th>0</th>\n",
       "      <td>vivo V50 5G (Rose Red, 512 GB)</td>\n",
       "      <td>₹40,999</td>\n",
       "      <td>12 GB RAM | 512 GB ROM17.2 cm (6.77 inch) Disp...</td>\n",
       "      <td>4.5</td>\n",
       "    </tr>\n",
       "    <tr>\n",
       "      <th>1</th>\n",
       "      <td>vivo V50 5G (Titanium Grey, 256 GB)</td>\n",
       "      <td>₹36,999</td>\n",
       "      <td>8 GB RAM | 256 GB ROM17.2 cm (6.77 inch) Displ...</td>\n",
       "      <td>4.5</td>\n",
       "    </tr>\n",
       "    <tr>\n",
       "      <th>2</th>\n",
       "      <td>Infinix Note 50s 5G+ (Marine Drift, 128 GB)</td>\n",
       "      <td>₹15,999</td>\n",
       "      <td>8 GB RAM | 128 GB ROM17.22 cm (6.78 inch) Full...</td>\n",
       "      <td>4.5</td>\n",
       "    </tr>\n",
       "    <tr>\n",
       "      <th>3</th>\n",
       "      <td>SAMSUNG Galaxy A36 5G (Awesome Black, 256 GB)</td>\n",
       "      <td>₹36,999</td>\n",
       "      <td>12 GB RAM | 256 GB ROM17.02 cm (6.7 inch) Full...</td>\n",
       "      <td>4.2</td>\n",
       "    </tr>\n",
       "    <tr>\n",
       "      <th>4</th>\n",
       "      <td>vivo V50 5G (Starry Night, 512 GB)</td>\n",
       "      <td>₹40,999</td>\n",
       "      <td>12 GB RAM | 512 GB ROM17.2 cm (6.77 inch) Disp...</td>\n",
       "      <td>4.5</td>\n",
       "    </tr>\n",
       "    <tr>\n",
       "      <th>...</th>\n",
       "      <td>...</td>\n",
       "      <td>...</td>\n",
       "      <td>...</td>\n",
       "      <td>...</td>\n",
       "    </tr>\n",
       "    <tr>\n",
       "      <th>163</th>\n",
       "      <td>Mi 10T (Cosmic Black, 128 GB)</td>\n",
       "      <td>₹35,999</td>\n",
       "      <td>6 GB RAM | 128 GB ROM16.94 cm (6.67 inch) Full...</td>\n",
       "      <td>4.2</td>\n",
       "    </tr>\n",
       "    <tr>\n",
       "      <th>164</th>\n",
       "      <td>OPPO Reno8 5G (Shimmer Black, 128 GB)</td>\n",
       "      <td>₹26,999</td>\n",
       "      <td>8 GB RAM | 128 GB ROM16.33 cm (6.43 inch) Full...</td>\n",
       "      <td>4.3</td>\n",
       "    </tr>\n",
       "    <tr>\n",
       "      <th>165</th>\n",
       "      <td>vivo V29 5G (Red, 256 GB)</td>\n",
       "      <td>₹36,999</td>\n",
       "      <td>12 GB RAM | 256 GB ROM17.22 cm (6.78 inch) Ful...</td>\n",
       "      <td>4.5</td>\n",
       "    </tr>\n",
       "    <tr>\n",
       "      <th>166</th>\n",
       "      <td>vivo V40 5G (Ganges Blue, 256 GB)</td>\n",
       "      <td>₹36,999</td>\n",
       "      <td>8 GB RAM | 256 GB ROM17.22 cm (6.78 inch) Full...</td>\n",
       "      <td>4.5</td>\n",
       "    </tr>\n",
       "    <tr>\n",
       "      <th>167</th>\n",
       "      <td>SAMSUNG Galaxy S21 FE 5G (White, 128 GB)</td>\n",
       "      <td>₹39,999</td>\n",
       "      <td>8 GB RAM | 128 GB ROM16.26 cm (6.4 inch) Full ...</td>\n",
       "      <td>4.3</td>\n",
       "    </tr>\n",
       "  </tbody>\n",
       "</table>\n",
       "<p>168 rows × 4 columns</p>\n",
       "</div>"
      ],
      "text/plain": [
       "                                      Product Name   Prices  \\\n",
       "0                   vivo V50 5G (Rose Red, 512 GB)  ₹40,999   \n",
       "1              vivo V50 5G (Titanium Grey, 256 GB)  ₹36,999   \n",
       "2      Infinix Note 50s 5G+ (Marine Drift, 128 GB)  ₹15,999   \n",
       "3    SAMSUNG Galaxy A36 5G (Awesome Black, 256 GB)  ₹36,999   \n",
       "4               vivo V50 5G (Starry Night, 512 GB)  ₹40,999   \n",
       "..                                             ...      ...   \n",
       "163                  Mi 10T (Cosmic Black, 128 GB)  ₹35,999   \n",
       "164          OPPO Reno8 5G (Shimmer Black, 128 GB)  ₹26,999   \n",
       "165                      vivo V29 5G (Red, 256 GB)  ₹36,999   \n",
       "166              vivo V40 5G (Ganges Blue, 256 GB)  ₹36,999   \n",
       "167       SAMSUNG Galaxy S21 FE 5G (White, 128 GB)  ₹39,999   \n",
       "\n",
       "                                           Description Reviews  \n",
       "0    12 GB RAM | 512 GB ROM17.2 cm (6.77 inch) Disp...     4.5  \n",
       "1    8 GB RAM | 256 GB ROM17.2 cm (6.77 inch) Displ...     4.5  \n",
       "2    8 GB RAM | 128 GB ROM17.22 cm (6.78 inch) Full...     4.5  \n",
       "3    12 GB RAM | 256 GB ROM17.02 cm (6.7 inch) Full...     4.2  \n",
       "4    12 GB RAM | 512 GB ROM17.2 cm (6.77 inch) Disp...     4.5  \n",
       "..                                                 ...     ...  \n",
       "163  6 GB RAM | 128 GB ROM16.94 cm (6.67 inch) Full...     4.2  \n",
       "164  8 GB RAM | 128 GB ROM16.33 cm (6.43 inch) Full...     4.3  \n",
       "165  12 GB RAM | 256 GB ROM17.22 cm (6.78 inch) Ful...     4.5  \n",
       "166  8 GB RAM | 256 GB ROM17.22 cm (6.78 inch) Full...     4.5  \n",
       "167  8 GB RAM | 128 GB ROM16.26 cm (6.4 inch) Full ...     4.3  \n",
       "\n",
       "[168 rows x 4 columns]"
      ]
     },
     "execution_count": 64,
     "metadata": {},
     "output_type": "execute_result"
    }
   ],
   "source": [
    "df = pd.DataFrame({\"Product Name\":product_Name, \"Prices\":prices, \"Description\":description, \"Reviews\":reviews})\n",
    "df"
   ]
  },
  {
   "cell_type": "code",
   "execution_count": 66,
   "id": "79e5fa6c",
   "metadata": {},
   "outputs": [],
   "source": [
    "df.to_csv(\"FlipkartMobilePhonePrices_otherDetails.csv\")"
   ]
  },
  {
   "cell_type": "markdown",
   "id": "54c99642",
   "metadata": {},
   "source": [
    "## My Own Code to Retrieve all the data at a time by picking the product card"
   ]
  },
  {
   "cell_type": "markdown",
   "id": "72313755",
   "metadata": {},
   "source": [
    "### This is working code to submit for Internship. above code is for practice"
   ]
  },
  {
   "cell_type": "code",
   "execution_count": 83,
   "id": "bc0de7cc",
   "metadata": {},
   "outputs": [],
   "source": [
    "all_products = []\n",
    "\n",
    "for page in range(2, 11):  # for 10 pages\n",
    "    url = f\"https://www.flipkart.com/search?q=mobiles+under+20000+rupees&sid=tyy%2C4io&as=on&as-show=on&otracker=AS_QueryStore_OrganicAutoSuggest_1_19_na_na_na&otracker1=AS_QueryStore_OrganicAutoSuggest_1_19_na_na_na&as-pos=1&as-type=RECENT&suggestionId=mobiles+under+50000+rupees|Mobiles&requestId=114334d8-0c47-410f-98fc-6c37395b9672&as-backfill=on&page={page}\"\n",
    "    headers = {'User-Agent': 'Mozilla/5.0'}\n",
    "    response = requests.get(url, headers=headers)\n",
    "    soup = BeautifulSoup(response.content, 'html.parser')\n",
    "\n",
    "    product_cards = soup.find_all('a', class_='CGtC98') # a-tag of the product. this is one of the parent tag of the product card.\n",
    "    base_url = \"https://www.flipkart.com\"\n",
    "\n",
    "    for card in product_cards:\n",
    "        product_data = {}\n",
    "\n",
    "        # Product Link\n",
    "        product_data['Product Link'] = base_url + card['href']\n",
    "\n",
    "        # Product Name\n",
    "        name_tag = card.find('div', class_='KzDlHZ')\n",
    "        product_data['Product Name'] = name_tag.text.strip() if name_tag else 'N/A'\n",
    "\n",
    "        # Price\n",
    "        price_tag = card.find('div', class_='Nx9bqj')\n",
    "        product_data['Prices'] = price_tag.text.strip() if price_tag else 'N/A'\n",
    "\n",
    "        # Description (specs)\n",
    "        specs_list = card.find_all('li', class_='J+igdf')\n",
    "        product_data['Description'] = ', '.join([li.text.strip() for li in specs_list]) if specs_list else 'N/A'\n",
    "\n",
    "        # Reviews\n",
    "        reviews_tag = card.find('span', class_='Wphh3N')\n",
    "        product_data['Reviews'] = reviews_tag.text.strip() if reviews_tag else 'N/A'\n",
    "\n",
    "        #Ratings\n",
    "        ratings_tag = card.find(\"div\", class_=\"XQDdHH\")\n",
    "        product_data['Ratings'] = ratings_tag.text.strip() if ratings_tag else 'N/A'\n",
    "\n",
    "        # Add complete product info to the list\n",
    "        all_products.append(product_data)\n",
    "\n",
    "# Create DataFrame\n",
    "df = pd.DataFrame(all_products)"
   ]
  },
  {
   "cell_type": "code",
   "execution_count": 84,
   "id": "5a3f6eb7",
   "metadata": {},
   "outputs": [
    {
     "data": {
      "text/html": [
       "<div>\n",
       "<style scoped>\n",
       "    .dataframe tbody tr th:only-of-type {\n",
       "        vertical-align: middle;\n",
       "    }\n",
       "\n",
       "    .dataframe tbody tr th {\n",
       "        vertical-align: top;\n",
       "    }\n",
       "\n",
       "    .dataframe thead th {\n",
       "        text-align: right;\n",
       "    }\n",
       "</style>\n",
       "<table border=\"1\" class=\"dataframe\">\n",
       "  <thead>\n",
       "    <tr style=\"text-align: right;\">\n",
       "      <th></th>\n",
       "      <th>Product Link</th>\n",
       "      <th>Product Name</th>\n",
       "      <th>Prices</th>\n",
       "      <th>Description</th>\n",
       "      <th>Reviews</th>\n",
       "      <th>Ratings</th>\n",
       "    </tr>\n",
       "  </thead>\n",
       "  <tbody>\n",
       "    <tr>\n",
       "      <th>0</th>\n",
       "      <td>https://www.flipkart.com/cmf-nothing-phone-1-b...</td>\n",
       "      <td>CMF by Nothing Phone 1 (Blue, 128 GB)</td>\n",
       "      <td>₹15,999</td>\n",
       "      <td>6 GB RAM | 128 GB ROM | Expandable Upto 2 TB, ...</td>\n",
       "      <td>74,616 Ratings &amp; 5,297 Reviews</td>\n",
       "      <td>4.4</td>\n",
       "    </tr>\n",
       "    <tr>\n",
       "      <th>1</th>\n",
       "      <td>https://www.flipkart.com/iqoo-z9s-5g-titanium-...</td>\n",
       "      <td>IQOO Z9s 5G (Titanium Matte, 128 GB)</td>\n",
       "      <td>₹18,512</td>\n",
       "      <td>8 GB RAM | 128 GB ROM, 17.2 cm (6.77 inch) Dis...</td>\n",
       "      <td>5,083 Ratings &amp; 330 Reviews</td>\n",
       "      <td>4.4</td>\n",
       "    </tr>\n",
       "    <tr>\n",
       "      <th>2</th>\n",
       "      <td>https://www.flipkart.com/kall-i7-cloud-phone-2...</td>\n",
       "      <td>I Kall I7 Cloud Phone-2.4\" Display, 2000mAh Ba...</td>\n",
       "      <td>₹1,499</td>\n",
       "      <td>32 MB RAM | 64 MB ROM, 6.1 cm (2.4 inch) Displ...</td>\n",
       "      <td>N/A</td>\n",
       "      <td>N/A</td>\n",
       "    </tr>\n",
       "    <tr>\n",
       "      <th>3</th>\n",
       "      <td>https://www.flipkart.com/kall-k333-plus-touch-...</td>\n",
       "      <td>I Kall K333 Plus Touch and Type (Blue, 16 GB)</td>\n",
       "      <td>₹2,920</td>\n",
       "      <td>2 GB RAM | 16 GB ROM | Expandable Upto 128 GB,...</td>\n",
       "      <td>1,276 Ratings &amp; 118 Reviews</td>\n",
       "      <td>3.4</td>\n",
       "    </tr>\n",
       "    <tr>\n",
       "      <th>4</th>\n",
       "      <td>https://www.flipkart.com/motorola-g64-5g-pearl...</td>\n",
       "      <td>Motorola g64 5G (Pearl Blue, 256 GB)</td>\n",
       "      <td>₹15,999</td>\n",
       "      <td>12 GB RAM | 256 GB ROM | Expandable Upto 1 TB,...</td>\n",
       "      <td>78,481 Ratings &amp; 5,065 Reviews</td>\n",
       "      <td>4.2</td>\n",
       "    </tr>\n",
       "    <tr>\n",
       "      <th>...</th>\n",
       "      <td>...</td>\n",
       "      <td>...</td>\n",
       "      <td>...</td>\n",
       "      <td>...</td>\n",
       "      <td>...</td>\n",
       "      <td>...</td>\n",
       "    </tr>\n",
       "    <tr>\n",
       "      <th>211</th>\n",
       "      <td>https://www.flipkart.com/realme-13-5g-dark-pur...</td>\n",
       "      <td>realme 13 5G (Dark Purple, 256 GB)</td>\n",
       "      <td>₹19,999</td>\n",
       "      <td>8 GB RAM | 256 GB ROM | Expandable Upto 2 TB, ...</td>\n",
       "      <td>1,075 Ratings &amp; 52 Reviews</td>\n",
       "      <td>4.3</td>\n",
       "    </tr>\n",
       "    <tr>\n",
       "      <th>212</th>\n",
       "      <td>https://www.flipkart.com/vivo-y56-5g-orange-sh...</td>\n",
       "      <td>vivo Y56 5G (Orange Shimmer, 128 GB)</td>\n",
       "      <td>₹17,999</td>\n",
       "      <td>8 GB RAM | 128 GB ROM, 16.71 cm (6.58 inch) Fu...</td>\n",
       "      <td>4,614 Ratings &amp; 288 Reviews</td>\n",
       "      <td>4.3</td>\n",
       "    </tr>\n",
       "    <tr>\n",
       "      <th>213</th>\n",
       "      <td>https://www.flipkart.com/samsung-galaxy-m33-5g...</td>\n",
       "      <td>SAMSUNG Galaxy M33 5G (Mystique Green, 128 GB)</td>\n",
       "      <td>₹19,999</td>\n",
       "      <td>8 GB RAM | 128 GB ROM, 16.76 cm (6.6 inch) Dis...</td>\n",
       "      <td>5,023 Ratings &amp; 332 Reviews</td>\n",
       "      <td>4.2</td>\n",
       "    </tr>\n",
       "    <tr>\n",
       "      <th>214</th>\n",
       "      <td>https://www.flipkart.com/motorola-g60-moonless...</td>\n",
       "      <td>Motorola G60 (Moonless, 128 GB)</td>\n",
       "      <td>₹15,999</td>\n",
       "      <td>6 GB RAM | 128 GB ROM, 17.22 cm (6.78 inch) Fu...</td>\n",
       "      <td>79,586 Ratings &amp; 7,669 Reviews</td>\n",
       "      <td>4.1</td>\n",
       "    </tr>\n",
       "    <tr>\n",
       "      <th>215</th>\n",
       "      <td>https://www.flipkart.com/realme-p1-speed-5g-br...</td>\n",
       "      <td>realme P1 Speed 5G (Brushed Blue, 256 GB)</td>\n",
       "      <td>₹17,999</td>\n",
       "      <td>8 GB RAM | 256 GB ROM | Expandable Upto 2 TB, ...</td>\n",
       "      <td>2,188 Ratings &amp; 249 Reviews</td>\n",
       "      <td>4.3</td>\n",
       "    </tr>\n",
       "  </tbody>\n",
       "</table>\n",
       "<p>216 rows × 6 columns</p>\n",
       "</div>"
      ],
      "text/plain": [
       "                                          Product Link  \\\n",
       "0    https://www.flipkart.com/cmf-nothing-phone-1-b...   \n",
       "1    https://www.flipkart.com/iqoo-z9s-5g-titanium-...   \n",
       "2    https://www.flipkart.com/kall-i7-cloud-phone-2...   \n",
       "3    https://www.flipkart.com/kall-k333-plus-touch-...   \n",
       "4    https://www.flipkart.com/motorola-g64-5g-pearl...   \n",
       "..                                                 ...   \n",
       "211  https://www.flipkart.com/realme-13-5g-dark-pur...   \n",
       "212  https://www.flipkart.com/vivo-y56-5g-orange-sh...   \n",
       "213  https://www.flipkart.com/samsung-galaxy-m33-5g...   \n",
       "214  https://www.flipkart.com/motorola-g60-moonless...   \n",
       "215  https://www.flipkart.com/realme-p1-speed-5g-br...   \n",
       "\n",
       "                                          Product Name   Prices  \\\n",
       "0                CMF by Nothing Phone 1 (Blue, 128 GB)  ₹15,999   \n",
       "1                 IQOO Z9s 5G (Titanium Matte, 128 GB)  ₹18,512   \n",
       "2    I Kall I7 Cloud Phone-2.4\" Display, 2000mAh Ba...   ₹1,499   \n",
       "3        I Kall K333 Plus Touch and Type (Blue, 16 GB)   ₹2,920   \n",
       "4                 Motorola g64 5G (Pearl Blue, 256 GB)  ₹15,999   \n",
       "..                                                 ...      ...   \n",
       "211                 realme 13 5G (Dark Purple, 256 GB)  ₹19,999   \n",
       "212               vivo Y56 5G (Orange Shimmer, 128 GB)  ₹17,999   \n",
       "213     SAMSUNG Galaxy M33 5G (Mystique Green, 128 GB)  ₹19,999   \n",
       "214                    Motorola G60 (Moonless, 128 GB)  ₹15,999   \n",
       "215          realme P1 Speed 5G (Brushed Blue, 256 GB)  ₹17,999   \n",
       "\n",
       "                                           Description  \\\n",
       "0    6 GB RAM | 128 GB ROM | Expandable Upto 2 TB, ...   \n",
       "1    8 GB RAM | 128 GB ROM, 17.2 cm (6.77 inch) Dis...   \n",
       "2    32 MB RAM | 64 MB ROM, 6.1 cm (2.4 inch) Displ...   \n",
       "3    2 GB RAM | 16 GB ROM | Expandable Upto 128 GB,...   \n",
       "4    12 GB RAM | 256 GB ROM | Expandable Upto 1 TB,...   \n",
       "..                                                 ...   \n",
       "211  8 GB RAM | 256 GB ROM | Expandable Upto 2 TB, ...   \n",
       "212  8 GB RAM | 128 GB ROM, 16.71 cm (6.58 inch) Fu...   \n",
       "213  8 GB RAM | 128 GB ROM, 16.76 cm (6.6 inch) Dis...   \n",
       "214  6 GB RAM | 128 GB ROM, 17.22 cm (6.78 inch) Fu...   \n",
       "215  8 GB RAM | 256 GB ROM | Expandable Upto 2 TB, ...   \n",
       "\n",
       "                            Reviews Ratings  \n",
       "0    74,616 Ratings & 5,297 Reviews     4.4  \n",
       "1       5,083 Ratings & 330 Reviews     4.4  \n",
       "2                               N/A     N/A  \n",
       "3       1,276 Ratings & 118 Reviews     3.4  \n",
       "4    78,481 Ratings & 5,065 Reviews     4.2  \n",
       "..                              ...     ...  \n",
       "211      1,075 Ratings & 52 Reviews     4.3  \n",
       "212     4,614 Ratings & 288 Reviews     4.3  \n",
       "213     5,023 Ratings & 332 Reviews     4.2  \n",
       "214  79,586 Ratings & 7,669 Reviews     4.1  \n",
       "215     2,188 Ratings & 249 Reviews     4.3  \n",
       "\n",
       "[216 rows x 6 columns]"
      ]
     },
     "execution_count": 84,
     "metadata": {},
     "output_type": "execute_result"
    }
   ],
   "source": [
    "df"
   ]
  },
  {
   "cell_type": "code",
   "execution_count": 86,
   "id": "01671032",
   "metadata": {},
   "outputs": [],
   "source": [
    "df.to_csv(\"FlipkartMobilePhonePrices_otherDetails_Links.csv\")"
   ]
  },
  {
   "cell_type": "code",
   "execution_count": null,
   "id": "7cd53a4d",
   "metadata": {},
   "outputs": [],
   "source": []
  }
 ],
 "metadata": {
  "kernelspec": {
   "display_name": "myenv",
   "language": "python",
   "name": "python3"
  },
  "language_info": {
   "codemirror_mode": {
    "name": "ipython",
    "version": 3
   },
   "file_extension": ".py",
   "mimetype": "text/x-python",
   "name": "python",
   "nbconvert_exporter": "python",
   "pygments_lexer": "ipython3",
   "version": "3.12.3"
  }
 },
 "nbformat": 4,
 "nbformat_minor": 5
}
