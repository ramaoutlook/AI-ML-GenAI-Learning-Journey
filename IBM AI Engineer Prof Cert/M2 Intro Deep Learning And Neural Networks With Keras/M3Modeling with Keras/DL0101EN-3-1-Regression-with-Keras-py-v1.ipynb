{
 "cells": [
  {
   "cell_type": "markdown",
   "id": "1eda0f65-4088-4f5d-81fb-54c922d717fe",
   "metadata": {},
   "source": [
    "<a href=\"https://cognitiveclass.ai\"><img src=\"https://cf-courses-data.s3.us.cloud-object-storage.appdomain.cloud/IBMDeveloperSkillsNetwork-DL0101EN-SkillsNetwork/images/IDSN-logo.png\" width=\"400\"> </a>\n",
    "\n",
    "# Regression Models with Keras\n",
    "\n",
    "Estimated time needed: **45** mins\n"
   ]
  },
  {
   "cell_type": "markdown",
   "id": "56de949e-2f07-4bfc-b596-66c4dbc3ad08",
   "metadata": {},
   "source": [
    "## Introduction\n"
   ]
  },
  {
   "cell_type": "markdown",
   "id": "40c8c644-1745-44f1-ac92-417fcfd89e91",
   "metadata": {},
   "source": [
    "As we discussed in the videos, despite the popularity of more powerful libraries such as PyToch and TensorFlow, they are not easy to use and have a steep learning curve. So, for people who are just starting to learn deep learning, there is no better library to use other than the Keras library. \n",
    "\n",
    "Keras is a high-level API for building deep learning models. It has gained favor for its ease of use and syntactic simplicity facilitating fast development. As you will see in this lab and the other labs in this course, building a very complex deep learning network can be achieved with Keras with only few lines of code. You will appreciate Keras even more, once you learn how to build deep models using PyTorch and TensorFlow in the other courses.\n",
    "\n",
    "So, in this lab, you will learn how to use the Keras library to build a regression model.\n"
   ]
  },
  {
   "cell_type": "markdown",
   "id": "00495c9e-f515-4a70-a3eb-b56a7025cfe1",
   "metadata": {},
   "source": [
    "## Objectives for this Notebook    \n",
    "* How to use the Keras library to build a regression model\n",
    "* Download and clean the data set\n",
    "* Build a neural network\n",
    "* Train and test the network     \n",
    "\n"
   ]
  },
  {
   "cell_type": "markdown",
   "id": "926d0b44-e9c9-4fb0-9d79-1dedf08b7548",
   "metadata": {},
   "source": [
    "## Table of Contents\n",
    "\n",
    "<div class=\"alert alert-block alert-info\" style=\"margin-top: 20px\">\n",
    "\n",
    "<font size = 3>\n",
    "    \n",
    "1. <a href=\"#item31\">Download and Clean the Data Set</a>  \n",
    "2. <a href=\"#item32\">Import Keras Packages</a>\n",
    "3. <a href=\"#item33\">Build a Neural Network</a>\n",
    "4. <a href=\"#item34\">Train and Test the Network</a>  \n",
    "\n",
    "</font>\n",
    "</div>\n"
   ]
  },
  {
   "cell_type": "markdown",
   "id": "c1949bf5-8eee-4e63-ae62-d78212d3e710",
   "metadata": {},
   "source": [
    "<a id=\"item31\"></a>\n"
   ]
  },
  {
   "cell_type": "markdown",
   "id": "44711dc8-f383-431f-9704-c403df1bd032",
   "metadata": {},
   "source": [
    "## Download and Clean the  Data Set\n"
   ]
  },
  {
   "cell_type": "markdown",
   "id": "9d5804de-a405-42b7-8383-5e9f9a98410e",
   "metadata": {},
   "source": [
    "Let's start by importing the <em>pandas</em> and the Numpy libraries.\n"
   ]
  },
  {
   "cell_type": "code",
   "execution_count": null,
   "id": "17c66237-b921-4ba6-ae65-b42b07b42008",
   "metadata": {},
   "outputs": [],
   "source": [
    "# All Libraries required for this lab are listed below. The libraries pre-installed on Skills Network Labs are commented. \n",
    "# If you run this notebook on a different environment, e.g. your desktop, you may need to uncomment and install certain libraries.\n",
    "!pip install numpy==2.0.2\n",
    "!pip install pandas==2.2.2\n",
    "!pip install tensorflow_cpu==2.18.0\n"
   ]
  },
  {
   "cell_type": "markdown",
   "id": "f8455537-0a49-41bd-8cc6-db5cb77401b6",
   "metadata": {},
   "source": [
    "##### To use Keras, you will also need to install a backend framework – such as TensorFlow.\n",
    "\n",
    "If you install TensorFlow 2.16 or above, it will install Keras by default.\n",
    "\n",
    "We are using the CPU version of tensorflow since we are dealing with smaller datasets. \n",
    "You may install the GPU version of tensorflow on your machine to accelarate the processing of larger datasets\n"
   ]
  },
  {
   "cell_type": "code",
   "execution_count": 1,
   "id": "32f50378-a0d4-447d-909f-bc75d88df8b8",
   "metadata": {},
   "outputs": [],
   "source": [
    "import pandas as pd\n",
    "import numpy as np\n",
    "import keras\n",
    "\n",
    "import warnings\n",
    "warnings.simplefilter('ignore', FutureWarning)"
   ]
  },
  {
   "cell_type": "markdown",
   "id": "28470001-211a-4270-a742-32e4bdc239bc",
   "metadata": {},
   "source": [
    "We will be playing around with the same dataset that we used in the videos.\n",
    "\n",
    "<strong>The dataset is about the compressive strength of different samples of concrete based on the volumes of the different ingredients that were used to make them. Ingredients include:</strong>\n",
    "\n",
    "* Cement\n",
    "* Blast furnace slag\n",
    "* Fly ash\n",
    "* Water\n",
    "* Superplasticizer\n",
    "* Coarse aggregate\n",
    "* Fine aggregate\n"
   ]
  },
  {
   "cell_type": "markdown",
   "id": "ae54918e-64e4-40c3-8738-122870ef7c10",
   "metadata": {},
   "source": [
    "Let's download the data and read it into a <em>pandas</em> dataframe.\n"
   ]
  },
  {
   "cell_type": "code",
   "execution_count": 2,
   "id": "5f1e26e4-268b-4fe2-8538-688611b57561",
   "metadata": {},
   "outputs": [
    {
     "data": {
      "text/html": [
       "<div>\n",
       "<style scoped>\n",
       "    .dataframe tbody tr th:only-of-type {\n",
       "        vertical-align: middle;\n",
       "    }\n",
       "\n",
       "    .dataframe tbody tr th {\n",
       "        vertical-align: top;\n",
       "    }\n",
       "\n",
       "    .dataframe thead th {\n",
       "        text-align: right;\n",
       "    }\n",
       "</style>\n",
       "<table border=\"1\" class=\"dataframe\">\n",
       "  <thead>\n",
       "    <tr style=\"text-align: right;\">\n",
       "      <th></th>\n",
       "      <th>Cement</th>\n",
       "      <th>Blast Furnace Slag</th>\n",
       "      <th>Fly Ash</th>\n",
       "      <th>Water</th>\n",
       "      <th>Superplasticizer</th>\n",
       "      <th>Coarse Aggregate</th>\n",
       "      <th>Fine Aggregate</th>\n",
       "      <th>Age</th>\n",
       "      <th>Strength</th>\n",
       "    </tr>\n",
       "  </thead>\n",
       "  <tbody>\n",
       "    <tr>\n",
       "      <th>0</th>\n",
       "      <td>540.0</td>\n",
       "      <td>0.0</td>\n",
       "      <td>0.0</td>\n",
       "      <td>162.0</td>\n",
       "      <td>2.5</td>\n",
       "      <td>1040.0</td>\n",
       "      <td>676.0</td>\n",
       "      <td>28</td>\n",
       "      <td>79.99</td>\n",
       "    </tr>\n",
       "    <tr>\n",
       "      <th>1</th>\n",
       "      <td>540.0</td>\n",
       "      <td>0.0</td>\n",
       "      <td>0.0</td>\n",
       "      <td>162.0</td>\n",
       "      <td>2.5</td>\n",
       "      <td>1055.0</td>\n",
       "      <td>676.0</td>\n",
       "      <td>28</td>\n",
       "      <td>61.89</td>\n",
       "    </tr>\n",
       "    <tr>\n",
       "      <th>2</th>\n",
       "      <td>332.5</td>\n",
       "      <td>142.5</td>\n",
       "      <td>0.0</td>\n",
       "      <td>228.0</td>\n",
       "      <td>0.0</td>\n",
       "      <td>932.0</td>\n",
       "      <td>594.0</td>\n",
       "      <td>270</td>\n",
       "      <td>40.27</td>\n",
       "    </tr>\n",
       "    <tr>\n",
       "      <th>3</th>\n",
       "      <td>332.5</td>\n",
       "      <td>142.5</td>\n",
       "      <td>0.0</td>\n",
       "      <td>228.0</td>\n",
       "      <td>0.0</td>\n",
       "      <td>932.0</td>\n",
       "      <td>594.0</td>\n",
       "      <td>365</td>\n",
       "      <td>41.05</td>\n",
       "    </tr>\n",
       "    <tr>\n",
       "      <th>4</th>\n",
       "      <td>198.6</td>\n",
       "      <td>132.4</td>\n",
       "      <td>0.0</td>\n",
       "      <td>192.0</td>\n",
       "      <td>0.0</td>\n",
       "      <td>978.4</td>\n",
       "      <td>825.5</td>\n",
       "      <td>360</td>\n",
       "      <td>44.30</td>\n",
       "    </tr>\n",
       "  </tbody>\n",
       "</table>\n",
       "</div>"
      ],
      "text/plain": [
       "   Cement  Blast Furnace Slag  Fly Ash  Water  Superplasticizer  \\\n",
       "0   540.0                 0.0      0.0  162.0               2.5   \n",
       "1   540.0                 0.0      0.0  162.0               2.5   \n",
       "2   332.5               142.5      0.0  228.0               0.0   \n",
       "3   332.5               142.5      0.0  228.0               0.0   \n",
       "4   198.6               132.4      0.0  192.0               0.0   \n",
       "\n",
       "   Coarse Aggregate  Fine Aggregate  Age  Strength  \n",
       "0            1040.0           676.0   28     79.99  \n",
       "1            1055.0           676.0   28     61.89  \n",
       "2             932.0           594.0  270     40.27  \n",
       "3             932.0           594.0  365     41.05  \n",
       "4             978.4           825.5  360     44.30  "
      ]
     },
     "execution_count": 2,
     "metadata": {},
     "output_type": "execute_result"
    }
   ],
   "source": [
    "filepath='https://s3-api.us-geo.objectstorage.softlayer.net/cf-courses-data/CognitiveClass/DL0101EN/labs/data/concrete_data.csv'\n",
    "concrete_data = pd.read_csv(filepath)\n",
    "\n",
    "concrete_data.head()"
   ]
  },
  {
   "cell_type": "markdown",
   "id": "40b04058-b925-47ae-a94a-23dddfc34166",
   "metadata": {},
   "source": [
    "So the first concrete sample has 540 cubic meter of cement, 0 cubic meter of blast furnace slag, 0 cubic meter of fly ash, 162 cubic meter of water, 2.5 cubic meter of superplaticizer, 1040 cubic meter of coarse aggregate, 676 cubic meter of fine aggregate. Such a concrete mix which is 28 days old, has a compressive strength of 79.99 MPa. \n"
   ]
  },
  {
   "cell_type": "markdown",
   "id": "c7ff2456-5852-4abe-aa36-b480f56c803a",
   "metadata": {},
   "source": [
    "#### Let's check how many data points we have\n"
   ]
  },
  {
   "cell_type": "code",
   "execution_count": 3,
   "id": "954b6e9a-5b70-44a9-aed4-dab6bbc42230",
   "metadata": {},
   "outputs": [
    {
     "data": {
      "text/plain": [
       "(1030, 9)"
      ]
     },
     "execution_count": 3,
     "metadata": {},
     "output_type": "execute_result"
    }
   ],
   "source": [
    "concrete_data.shape"
   ]
  },
  {
   "cell_type": "markdown",
   "id": "a2e3375b-0821-4822-b928-b40ad2575882",
   "metadata": {},
   "source": [
    "So, there are approximately 1000 samples to train our model on. Because of the few samples, we have to be careful not to overfit the training data.\n"
   ]
  },
  {
   "cell_type": "markdown",
   "id": "1f842f64-3b47-49aa-b64e-5b22f4b31c46",
   "metadata": {},
   "source": [
    "Let's check the dataset for any missing values.\n"
   ]
  },
  {
   "cell_type": "code",
   "execution_count": 4,
   "id": "c6bb2a79-be5a-49b8-9b3b-f98a0b95855c",
   "metadata": {},
   "outputs": [
    {
     "data": {
      "text/html": [
       "<div>\n",
       "<style scoped>\n",
       "    .dataframe tbody tr th:only-of-type {\n",
       "        vertical-align: middle;\n",
       "    }\n",
       "\n",
       "    .dataframe tbody tr th {\n",
       "        vertical-align: top;\n",
       "    }\n",
       "\n",
       "    .dataframe thead th {\n",
       "        text-align: right;\n",
       "    }\n",
       "</style>\n",
       "<table border=\"1\" class=\"dataframe\">\n",
       "  <thead>\n",
       "    <tr style=\"text-align: right;\">\n",
       "      <th></th>\n",
       "      <th>Cement</th>\n",
       "      <th>Blast Furnace Slag</th>\n",
       "      <th>Fly Ash</th>\n",
       "      <th>Water</th>\n",
       "      <th>Superplasticizer</th>\n",
       "      <th>Coarse Aggregate</th>\n",
       "      <th>Fine Aggregate</th>\n",
       "      <th>Age</th>\n",
       "      <th>Strength</th>\n",
       "    </tr>\n",
       "  </thead>\n",
       "  <tbody>\n",
       "    <tr>\n",
       "      <th>count</th>\n",
       "      <td>1030.000000</td>\n",
       "      <td>1030.000000</td>\n",
       "      <td>1030.000000</td>\n",
       "      <td>1030.000000</td>\n",
       "      <td>1030.000000</td>\n",
       "      <td>1030.000000</td>\n",
       "      <td>1030.000000</td>\n",
       "      <td>1030.000000</td>\n",
       "      <td>1030.000000</td>\n",
       "    </tr>\n",
       "    <tr>\n",
       "      <th>mean</th>\n",
       "      <td>281.167864</td>\n",
       "      <td>73.895825</td>\n",
       "      <td>54.188350</td>\n",
       "      <td>181.567282</td>\n",
       "      <td>6.204660</td>\n",
       "      <td>972.918932</td>\n",
       "      <td>773.580485</td>\n",
       "      <td>45.662136</td>\n",
       "      <td>35.817961</td>\n",
       "    </tr>\n",
       "    <tr>\n",
       "      <th>std</th>\n",
       "      <td>104.506364</td>\n",
       "      <td>86.279342</td>\n",
       "      <td>63.997004</td>\n",
       "      <td>21.354219</td>\n",
       "      <td>5.973841</td>\n",
       "      <td>77.753954</td>\n",
       "      <td>80.175980</td>\n",
       "      <td>63.169912</td>\n",
       "      <td>16.705742</td>\n",
       "    </tr>\n",
       "    <tr>\n",
       "      <th>min</th>\n",
       "      <td>102.000000</td>\n",
       "      <td>0.000000</td>\n",
       "      <td>0.000000</td>\n",
       "      <td>121.800000</td>\n",
       "      <td>0.000000</td>\n",
       "      <td>801.000000</td>\n",
       "      <td>594.000000</td>\n",
       "      <td>1.000000</td>\n",
       "      <td>2.330000</td>\n",
       "    </tr>\n",
       "    <tr>\n",
       "      <th>25%</th>\n",
       "      <td>192.375000</td>\n",
       "      <td>0.000000</td>\n",
       "      <td>0.000000</td>\n",
       "      <td>164.900000</td>\n",
       "      <td>0.000000</td>\n",
       "      <td>932.000000</td>\n",
       "      <td>730.950000</td>\n",
       "      <td>7.000000</td>\n",
       "      <td>23.710000</td>\n",
       "    </tr>\n",
       "    <tr>\n",
       "      <th>50%</th>\n",
       "      <td>272.900000</td>\n",
       "      <td>22.000000</td>\n",
       "      <td>0.000000</td>\n",
       "      <td>185.000000</td>\n",
       "      <td>6.400000</td>\n",
       "      <td>968.000000</td>\n",
       "      <td>779.500000</td>\n",
       "      <td>28.000000</td>\n",
       "      <td>34.445000</td>\n",
       "    </tr>\n",
       "    <tr>\n",
       "      <th>75%</th>\n",
       "      <td>350.000000</td>\n",
       "      <td>142.950000</td>\n",
       "      <td>118.300000</td>\n",
       "      <td>192.000000</td>\n",
       "      <td>10.200000</td>\n",
       "      <td>1029.400000</td>\n",
       "      <td>824.000000</td>\n",
       "      <td>56.000000</td>\n",
       "      <td>46.135000</td>\n",
       "    </tr>\n",
       "    <tr>\n",
       "      <th>max</th>\n",
       "      <td>540.000000</td>\n",
       "      <td>359.400000</td>\n",
       "      <td>200.100000</td>\n",
       "      <td>247.000000</td>\n",
       "      <td>32.200000</td>\n",
       "      <td>1145.000000</td>\n",
       "      <td>992.600000</td>\n",
       "      <td>365.000000</td>\n",
       "      <td>82.600000</td>\n",
       "    </tr>\n",
       "  </tbody>\n",
       "</table>\n",
       "</div>"
      ],
      "text/plain": [
       "            Cement  Blast Furnace Slag      Fly Ash        Water  \\\n",
       "count  1030.000000         1030.000000  1030.000000  1030.000000   \n",
       "mean    281.167864           73.895825    54.188350   181.567282   \n",
       "std     104.506364           86.279342    63.997004    21.354219   \n",
       "min     102.000000            0.000000     0.000000   121.800000   \n",
       "25%     192.375000            0.000000     0.000000   164.900000   \n",
       "50%     272.900000           22.000000     0.000000   185.000000   \n",
       "75%     350.000000          142.950000   118.300000   192.000000   \n",
       "max     540.000000          359.400000   200.100000   247.000000   \n",
       "\n",
       "       Superplasticizer  Coarse Aggregate  Fine Aggregate          Age  \\\n",
       "count       1030.000000       1030.000000     1030.000000  1030.000000   \n",
       "mean           6.204660        972.918932      773.580485    45.662136   \n",
       "std            5.973841         77.753954       80.175980    63.169912   \n",
       "min            0.000000        801.000000      594.000000     1.000000   \n",
       "25%            0.000000        932.000000      730.950000     7.000000   \n",
       "50%            6.400000        968.000000      779.500000    28.000000   \n",
       "75%           10.200000       1029.400000      824.000000    56.000000   \n",
       "max           32.200000       1145.000000      992.600000   365.000000   \n",
       "\n",
       "          Strength  \n",
       "count  1030.000000  \n",
       "mean     35.817961  \n",
       "std      16.705742  \n",
       "min       2.330000  \n",
       "25%      23.710000  \n",
       "50%      34.445000  \n",
       "75%      46.135000  \n",
       "max      82.600000  "
      ]
     },
     "execution_count": 4,
     "metadata": {},
     "output_type": "execute_result"
    }
   ],
   "source": [
    "concrete_data.describe()"
   ]
  },
  {
   "cell_type": "code",
   "execution_count": 5,
   "id": "4ff17b60-0c72-4c4a-8277-9826175bf7de",
   "metadata": {},
   "outputs": [
    {
     "data": {
      "text/plain": [
       "Cement                0\n",
       "Blast Furnace Slag    0\n",
       "Fly Ash               0\n",
       "Water                 0\n",
       "Superplasticizer      0\n",
       "Coarse Aggregate      0\n",
       "Fine Aggregate        0\n",
       "Age                   0\n",
       "Strength              0\n",
       "dtype: int64"
      ]
     },
     "execution_count": 5,
     "metadata": {},
     "output_type": "execute_result"
    }
   ],
   "source": [
    "concrete_data.isnull().sum()"
   ]
  },
  {
   "cell_type": "markdown",
   "id": "631e6ec8-4775-44bd-bc59-d4514811a14a",
   "metadata": {},
   "source": [
    "The data looks very clean and is ready to be used to build our model.\n"
   ]
  },
  {
   "cell_type": "markdown",
   "id": "7446c1e9-bbcc-4a53-88d6-32f98ea70cd6",
   "metadata": {},
   "source": [
    "#### Split data into predictors and target\n"
   ]
  },
  {
   "cell_type": "markdown",
   "id": "5add2c9f-fa4a-4d46-87a1-b553b419068d",
   "metadata": {},
   "source": [
    "The target variable in this problem is the concrete sample strength. Therefore, our predictors will be all the other columns.\n"
   ]
  },
  {
   "cell_type": "code",
   "execution_count": 6,
   "id": "1b9d0da2-9d8e-4ed6-92d4-75fb8e56579d",
   "metadata": {},
   "outputs": [],
   "source": [
    "concrete_data_columns = concrete_data.columns"
   ]
  },
  {
   "cell_type": "code",
   "execution_count": 7,
   "id": "4f95001b-5d3f-4250-ac79-e952769ad6f9",
   "metadata": {},
   "outputs": [],
   "source": [
    "predictors = concrete_data[concrete_data_columns[concrete_data_columns != 'Strength']] # all columns except Strength\n",
    "target = concrete_data['Strength'] # Strength column"
   ]
  },
  {
   "cell_type": "markdown",
   "id": "8de62c03-0334-4e3d-a3f8-0114bd0bc035",
   "metadata": {},
   "source": [
    "<a id=\"item2\"></a>\n"
   ]
  },
  {
   "cell_type": "markdown",
   "id": "98c6282e-7125-4cce-9fb8-435b0f25440b",
   "metadata": {},
   "source": [
    "Let's do a quick sanity check of the predictors and the target dataframes.\n"
   ]
  },
  {
   "cell_type": "code",
   "execution_count": 8,
   "id": "e99c05e1-ae34-4551-a5d7-ae9daf691f8a",
   "metadata": {},
   "outputs": [
    {
     "data": {
      "text/html": [
       "<div>\n",
       "<style scoped>\n",
       "    .dataframe tbody tr th:only-of-type {\n",
       "        vertical-align: middle;\n",
       "    }\n",
       "\n",
       "    .dataframe tbody tr th {\n",
       "        vertical-align: top;\n",
       "    }\n",
       "\n",
       "    .dataframe thead th {\n",
       "        text-align: right;\n",
       "    }\n",
       "</style>\n",
       "<table border=\"1\" class=\"dataframe\">\n",
       "  <thead>\n",
       "    <tr style=\"text-align: right;\">\n",
       "      <th></th>\n",
       "      <th>Cement</th>\n",
       "      <th>Blast Furnace Slag</th>\n",
       "      <th>Fly Ash</th>\n",
       "      <th>Water</th>\n",
       "      <th>Superplasticizer</th>\n",
       "      <th>Coarse Aggregate</th>\n",
       "      <th>Fine Aggregate</th>\n",
       "      <th>Age</th>\n",
       "    </tr>\n",
       "  </thead>\n",
       "  <tbody>\n",
       "    <tr>\n",
       "      <th>0</th>\n",
       "      <td>540.0</td>\n",
       "      <td>0.0</td>\n",
       "      <td>0.0</td>\n",
       "      <td>162.0</td>\n",
       "      <td>2.5</td>\n",
       "      <td>1040.0</td>\n",
       "      <td>676.0</td>\n",
       "      <td>28</td>\n",
       "    </tr>\n",
       "    <tr>\n",
       "      <th>1</th>\n",
       "      <td>540.0</td>\n",
       "      <td>0.0</td>\n",
       "      <td>0.0</td>\n",
       "      <td>162.0</td>\n",
       "      <td>2.5</td>\n",
       "      <td>1055.0</td>\n",
       "      <td>676.0</td>\n",
       "      <td>28</td>\n",
       "    </tr>\n",
       "    <tr>\n",
       "      <th>2</th>\n",
       "      <td>332.5</td>\n",
       "      <td>142.5</td>\n",
       "      <td>0.0</td>\n",
       "      <td>228.0</td>\n",
       "      <td>0.0</td>\n",
       "      <td>932.0</td>\n",
       "      <td>594.0</td>\n",
       "      <td>270</td>\n",
       "    </tr>\n",
       "    <tr>\n",
       "      <th>3</th>\n",
       "      <td>332.5</td>\n",
       "      <td>142.5</td>\n",
       "      <td>0.0</td>\n",
       "      <td>228.0</td>\n",
       "      <td>0.0</td>\n",
       "      <td>932.0</td>\n",
       "      <td>594.0</td>\n",
       "      <td>365</td>\n",
       "    </tr>\n",
       "    <tr>\n",
       "      <th>4</th>\n",
       "      <td>198.6</td>\n",
       "      <td>132.4</td>\n",
       "      <td>0.0</td>\n",
       "      <td>192.0</td>\n",
       "      <td>0.0</td>\n",
       "      <td>978.4</td>\n",
       "      <td>825.5</td>\n",
       "      <td>360</td>\n",
       "    </tr>\n",
       "  </tbody>\n",
       "</table>\n",
       "</div>"
      ],
      "text/plain": [
       "   Cement  Blast Furnace Slag  Fly Ash  Water  Superplasticizer  \\\n",
       "0   540.0                 0.0      0.0  162.0               2.5   \n",
       "1   540.0                 0.0      0.0  162.0               2.5   \n",
       "2   332.5               142.5      0.0  228.0               0.0   \n",
       "3   332.5               142.5      0.0  228.0               0.0   \n",
       "4   198.6               132.4      0.0  192.0               0.0   \n",
       "\n",
       "   Coarse Aggregate  Fine Aggregate  Age  \n",
       "0            1040.0           676.0   28  \n",
       "1            1055.0           676.0   28  \n",
       "2             932.0           594.0  270  \n",
       "3             932.0           594.0  365  \n",
       "4             978.4           825.5  360  "
      ]
     },
     "execution_count": 8,
     "metadata": {},
     "output_type": "execute_result"
    }
   ],
   "source": [
    "predictors.head()"
   ]
  },
  {
   "cell_type": "code",
   "execution_count": 9,
   "id": "6b838c48-6305-4267-bdd6-7dd92cf046c9",
   "metadata": {},
   "outputs": [
    {
     "data": {
      "text/plain": [
       "0    79.99\n",
       "1    61.89\n",
       "2    40.27\n",
       "3    41.05\n",
       "4    44.30\n",
       "Name: Strength, dtype: float64"
      ]
     },
     "execution_count": 9,
     "metadata": {},
     "output_type": "execute_result"
    }
   ],
   "source": [
    "target.head()"
   ]
  },
  {
   "cell_type": "markdown",
   "id": "53d0f22f-d2f4-4ceb-b6b5-1a840ffd30c4",
   "metadata": {},
   "source": [
    "Finally, the last step is to normalize the data by substracting the mean and dividing by the standard deviation.\n"
   ]
  },
  {
   "cell_type": "code",
   "execution_count": 10,
   "id": "17a0491b-1f6e-48e9-adc9-34c216687717",
   "metadata": {},
   "outputs": [
    {
     "data": {
      "text/html": [
       "<div>\n",
       "<style scoped>\n",
       "    .dataframe tbody tr th:only-of-type {\n",
       "        vertical-align: middle;\n",
       "    }\n",
       "\n",
       "    .dataframe tbody tr th {\n",
       "        vertical-align: top;\n",
       "    }\n",
       "\n",
       "    .dataframe thead th {\n",
       "        text-align: right;\n",
       "    }\n",
       "</style>\n",
       "<table border=\"1\" class=\"dataframe\">\n",
       "  <thead>\n",
       "    <tr style=\"text-align: right;\">\n",
       "      <th></th>\n",
       "      <th>Cement</th>\n",
       "      <th>Blast Furnace Slag</th>\n",
       "      <th>Fly Ash</th>\n",
       "      <th>Water</th>\n",
       "      <th>Superplasticizer</th>\n",
       "      <th>Coarse Aggregate</th>\n",
       "      <th>Fine Aggregate</th>\n",
       "      <th>Age</th>\n",
       "    </tr>\n",
       "  </thead>\n",
       "  <tbody>\n",
       "    <tr>\n",
       "      <th>0</th>\n",
       "      <td>2.476712</td>\n",
       "      <td>-0.856472</td>\n",
       "      <td>-0.846733</td>\n",
       "      <td>-0.916319</td>\n",
       "      <td>-0.620147</td>\n",
       "      <td>0.862735</td>\n",
       "      <td>-1.217079</td>\n",
       "      <td>-0.279597</td>\n",
       "    </tr>\n",
       "    <tr>\n",
       "      <th>1</th>\n",
       "      <td>2.476712</td>\n",
       "      <td>-0.856472</td>\n",
       "      <td>-0.846733</td>\n",
       "      <td>-0.916319</td>\n",
       "      <td>-0.620147</td>\n",
       "      <td>1.055651</td>\n",
       "      <td>-1.217079</td>\n",
       "      <td>-0.279597</td>\n",
       "    </tr>\n",
       "    <tr>\n",
       "      <th>2</th>\n",
       "      <td>0.491187</td>\n",
       "      <td>0.795140</td>\n",
       "      <td>-0.846733</td>\n",
       "      <td>2.174405</td>\n",
       "      <td>-1.038638</td>\n",
       "      <td>-0.526262</td>\n",
       "      <td>-2.239829</td>\n",
       "      <td>3.551340</td>\n",
       "    </tr>\n",
       "    <tr>\n",
       "      <th>3</th>\n",
       "      <td>0.491187</td>\n",
       "      <td>0.795140</td>\n",
       "      <td>-0.846733</td>\n",
       "      <td>2.174405</td>\n",
       "      <td>-1.038638</td>\n",
       "      <td>-0.526262</td>\n",
       "      <td>-2.239829</td>\n",
       "      <td>5.055221</td>\n",
       "    </tr>\n",
       "    <tr>\n",
       "      <th>4</th>\n",
       "      <td>-0.790075</td>\n",
       "      <td>0.678079</td>\n",
       "      <td>-0.846733</td>\n",
       "      <td>0.488555</td>\n",
       "      <td>-1.038638</td>\n",
       "      <td>0.070492</td>\n",
       "      <td>0.647569</td>\n",
       "      <td>4.976069</td>\n",
       "    </tr>\n",
       "  </tbody>\n",
       "</table>\n",
       "</div>"
      ],
      "text/plain": [
       "     Cement  Blast Furnace Slag   Fly Ash     Water  Superplasticizer  \\\n",
       "0  2.476712           -0.856472 -0.846733 -0.916319         -0.620147   \n",
       "1  2.476712           -0.856472 -0.846733 -0.916319         -0.620147   \n",
       "2  0.491187            0.795140 -0.846733  2.174405         -1.038638   \n",
       "3  0.491187            0.795140 -0.846733  2.174405         -1.038638   \n",
       "4 -0.790075            0.678079 -0.846733  0.488555         -1.038638   \n",
       "\n",
       "   Coarse Aggregate  Fine Aggregate       Age  \n",
       "0          0.862735       -1.217079 -0.279597  \n",
       "1          1.055651       -1.217079 -0.279597  \n",
       "2         -0.526262       -2.239829  3.551340  \n",
       "3         -0.526262       -2.239829  5.055221  \n",
       "4          0.070492        0.647569  4.976069  "
      ]
     },
     "execution_count": 10,
     "metadata": {},
     "output_type": "execute_result"
    }
   ],
   "source": [
    "predictors_norm = (predictors - predictors.mean()) / predictors.std()\n",
    "predictors_norm.head()"
   ]
  },
  {
   "cell_type": "markdown",
   "id": "60cc3491-5656-4b3d-a522-00d147e9f557",
   "metadata": {},
   "source": [
    "Let's save the number of predictors to *n_cols* since we will need this number when building our network.\n"
   ]
  },
  {
   "cell_type": "code",
   "execution_count": 11,
   "id": "b3800cc5-2be0-486a-bd13-8f7de6813947",
   "metadata": {},
   "outputs": [],
   "source": [
    "n_cols = predictors_norm.shape[1] # number of predictors"
   ]
  },
  {
   "cell_type": "markdown",
   "id": "ba4419c4-8940-4257-96a6-504c02ccba43",
   "metadata": {},
   "source": [
    "<a id=\"item1\"></a>\n"
   ]
  },
  {
   "cell_type": "markdown",
   "id": "41bc5b2f-393c-43ab-b15d-0884e0e0d75a",
   "metadata": {},
   "source": [
    "<a id='item32'></a>\n"
   ]
  },
  {
   "cell_type": "markdown",
   "id": "5905e70c-c6f6-421d-8a09-03431a3aeb9e",
   "metadata": {},
   "source": [
    "##  Import Keras Packages\n",
    "\n",
    "##### Let's import the rest of the packages from the Keras library that we will need to build our regression model.\n"
   ]
  },
  {
   "cell_type": "code",
   "execution_count": 12,
   "id": "c7de1637-318d-4510-ad76-cfebdd83a274",
   "metadata": {},
   "outputs": [],
   "source": [
    "from keras.models import Sequential\n",
    "from keras.layers import Dense\n",
    "from keras.layers import Input"
   ]
  },
  {
   "cell_type": "markdown",
   "id": "33b3bdbd-a932-4719-80fa-195e03c9a5b2",
   "metadata": {},
   "source": [
    "<a id='item33'></a>\n"
   ]
  },
  {
   "cell_type": "markdown",
   "id": "045b0b01-47a2-4c87-88a3-9f4e7579749c",
   "metadata": {},
   "source": [
    "## Build a Neural Network\n"
   ]
  },
  {
   "cell_type": "markdown",
   "id": "728f4ef6-1fcf-4380-8d3d-91ccc9c28f84",
   "metadata": {},
   "source": [
    "Let's define a function that defines our regression model for us so that we can conveniently call it to create our model.\n"
   ]
  },
  {
   "cell_type": "code",
   "execution_count": null,
   "id": "b81b21e0-e813-418c-9f4e-51d681528956",
   "metadata": {},
   "outputs": [],
   "source": [
    "# define regression model\n",
    "def regression_model():\n",
    "    # create model\n",
    "    model = Sequential()\n",
    "    model.add(Input(shape=(n_cols,)))\n",
    "    model.add(Dense(50, activation='relu'))\n",
    "    model.add(Dense(50, activation='relu'))\n",
    "    model.add(Dense(1))\n",
    "    \n",
    "    # compile model\n",
    "    model.compile(optimizer='adam', loss='mean_squared_error')\n",
    "    return model"
   ]
  },
  {
   "cell_type": "markdown",
   "id": "5faf1007-6b11-4b6d-b9e0-3c62ecf0cdf2",
   "metadata": {},
   "source": [
    "The above function create a model that has two hidden layers, each of 50 hidden units.\n"
   ]
  },
  {
   "cell_type": "markdown",
   "id": "3d19ef15-dcb5-47f9-993f-167d80229a52",
   "metadata": {},
   "source": [
    "<a id=\"item4\"></a>\n"
   ]
  },
  {
   "cell_type": "markdown",
   "id": "7fc49b43-5f18-4774-a595-972aaf027eaa",
   "metadata": {},
   "source": [
    "## Train and Test the Network\n"
   ]
  },
  {
   "cell_type": "markdown",
   "id": "a31d9301-7dcd-4794-85a1-8caa65cff512",
   "metadata": {},
   "source": [
    "Let's call the function now to create our model.\n"
   ]
  },
  {
   "cell_type": "code",
   "execution_count": 16,
   "id": "b1c5ef10-65bc-492d-9f5d-a2bdc9e5184e",
   "metadata": {},
   "outputs": [],
   "source": [
    "# build the model\n",
    "model = regression_model()"
   ]
  },
  {
   "cell_type": "markdown",
   "id": "56194734-19f5-4ce1-87b6-964948bd49d0",
   "metadata": {},
   "source": [
    "Next, we will train and test the model at the same time using the *fit* method. We will leave out 30% of the data for validation and we will train the model for 100 epochs.\n"
   ]
  },
  {
   "cell_type": "code",
   "execution_count": 15,
   "id": "9a12ff0d-9c29-4d29-bc9b-0bdf7a5480cc",
   "metadata": {},
   "outputs": [
    {
     "name": "stdout",
     "output_type": "stream",
     "text": [
      "Epoch 1/100\n",
      "23/23 - 4s - 162ms/step - loss: 1628.0148 - val_loss: 1133.6147\n",
      "Epoch 2/100\n",
      "23/23 - 0s - 6ms/step - loss: 1487.8069 - val_loss: 1004.9489\n",
      "Epoch 3/100\n",
      "23/23 - 0s - 6ms/step - loss: 1266.0889 - val_loss: 810.4859\n",
      "Epoch 4/100\n",
      "23/23 - 0s - 6ms/step - loss: 947.2034 - val_loss: 574.0842\n",
      "Epoch 5/100\n",
      "23/23 - 0s - 6ms/step - loss: 595.3864 - val_loss: 366.7729\n",
      "Epoch 6/100\n",
      "23/23 - 0s - 7ms/step - loss: 354.8581 - val_loss: 252.8778\n",
      "Epoch 7/100\n",
      "23/23 - 0s - 6ms/step - loss: 268.4783 - val_loss: 217.8528\n",
      "Epoch 8/100\n",
      "23/23 - 0s - 6ms/step - loss: 243.6095 - val_loss: 202.2150\n",
      "Epoch 9/100\n",
      "23/23 - 0s - 6ms/step - loss: 225.4839 - val_loss: 193.3542\n",
      "Epoch 10/100\n",
      "23/23 - 0s - 6ms/step - loss: 212.2422 - val_loss: 190.2580\n",
      "Epoch 11/100\n",
      "23/23 - 0s - 6ms/step - loss: 203.3048 - val_loss: 186.7695\n",
      "Epoch 12/100\n",
      "23/23 - 0s - 6ms/step - loss: 193.9930 - val_loss: 180.2298\n",
      "Epoch 13/100\n",
      "23/23 - 0s - 6ms/step - loss: 187.3439 - val_loss: 180.1271\n",
      "Epoch 14/100\n",
      "23/23 - 0s - 8ms/step - loss: 181.9886 - val_loss: 177.6037\n",
      "Epoch 15/100\n",
      "23/23 - 0s - 6ms/step - loss: 177.1302 - val_loss: 174.8250\n",
      "Epoch 16/100\n",
      "23/23 - 0s - 6ms/step - loss: 172.3199 - val_loss: 172.9752\n",
      "Epoch 17/100\n",
      "23/23 - 0s - 6ms/step - loss: 168.6723 - val_loss: 172.3905\n",
      "Epoch 18/100\n",
      "23/23 - 0s - 6ms/step - loss: 165.0756 - val_loss: 171.3339\n",
      "Epoch 19/100\n",
      "23/23 - 0s - 5ms/step - loss: 162.2612 - val_loss: 170.3628\n",
      "Epoch 20/100\n",
      "23/23 - 0s - 6ms/step - loss: 159.6691 - val_loss: 169.7427\n",
      "Epoch 21/100\n",
      "23/23 - 0s - 6ms/step - loss: 156.8640 - val_loss: 170.3271\n",
      "Epoch 22/100\n",
      "23/23 - 0s - 6ms/step - loss: 155.6403 - val_loss: 168.1085\n",
      "Epoch 23/100\n",
      "23/23 - 0s - 7ms/step - loss: 152.7981 - val_loss: 170.9082\n",
      "Epoch 24/100\n",
      "23/23 - 0s - 6ms/step - loss: 151.1501 - val_loss: 169.9599\n",
      "Epoch 25/100\n",
      "23/23 - 0s - 7ms/step - loss: 148.7945 - val_loss: 169.3190\n",
      "Epoch 26/100\n",
      "23/23 - 0s - 6ms/step - loss: 147.1604 - val_loss: 167.9244\n",
      "Epoch 27/100\n",
      "23/23 - 0s - 6ms/step - loss: 145.8201 - val_loss: 171.7469\n",
      "Epoch 28/100\n",
      "23/23 - 0s - 6ms/step - loss: 144.5287 - val_loss: 168.5278\n",
      "Epoch 29/100\n",
      "23/23 - 0s - 7ms/step - loss: 142.4768 - val_loss: 166.1563\n",
      "Epoch 30/100\n",
      "23/23 - 0s - 6ms/step - loss: 141.1000 - val_loss: 169.1331\n",
      "Epoch 31/100\n",
      "23/23 - 0s - 6ms/step - loss: 139.4337 - val_loss: 170.3565\n",
      "Epoch 32/100\n",
      "23/23 - 0s - 7ms/step - loss: 139.4137 - val_loss: 169.6060\n",
      "Epoch 33/100\n",
      "23/23 - 0s - 6ms/step - loss: 137.1982 - val_loss: 166.5506\n",
      "Epoch 34/100\n",
      "23/23 - 0s - 6ms/step - loss: 135.4119 - val_loss: 169.1921\n",
      "Epoch 35/100\n",
      "23/23 - 0s - 6ms/step - loss: 134.3609 - val_loss: 168.0530\n",
      "Epoch 36/100\n",
      "23/23 - 0s - 7ms/step - loss: 133.0083 - val_loss: 168.8503\n",
      "Epoch 37/100\n",
      "23/23 - 0s - 6ms/step - loss: 131.5849 - val_loss: 168.7911\n",
      "Epoch 38/100\n",
      "23/23 - 0s - 6ms/step - loss: 130.0462 - val_loss: 167.8019\n",
      "Epoch 39/100\n",
      "23/23 - 0s - 6ms/step - loss: 128.8871 - val_loss: 169.0657\n",
      "Epoch 40/100\n",
      "23/23 - 0s - 6ms/step - loss: 127.4011 - val_loss: 167.0836\n",
      "Epoch 41/100\n",
      "23/23 - 0s - 6ms/step - loss: 126.4735 - val_loss: 167.6303\n",
      "Epoch 42/100\n",
      "23/23 - 0s - 6ms/step - loss: 124.8844 - val_loss: 167.5296\n",
      "Epoch 43/100\n",
      "23/23 - 0s - 6ms/step - loss: 123.4055 - val_loss: 166.5449\n",
      "Epoch 44/100\n",
      "23/23 - 0s - 6ms/step - loss: 122.1364 - val_loss: 161.3263\n",
      "Epoch 45/100\n",
      "23/23 - 0s - 7ms/step - loss: 120.3454 - val_loss: 164.7495\n",
      "Epoch 46/100\n",
      "23/23 - 0s - 6ms/step - loss: 119.2819 - val_loss: 164.5180\n",
      "Epoch 47/100\n",
      "23/23 - 0s - 6ms/step - loss: 118.1689 - val_loss: 161.1541\n",
      "Epoch 48/100\n",
      "23/23 - 0s - 6ms/step - loss: 117.1981 - val_loss: 163.1622\n",
      "Epoch 49/100\n",
      "23/23 - 0s - 7ms/step - loss: 114.3513 - val_loss: 155.9972\n",
      "Epoch 50/100\n",
      "23/23 - 0s - 6ms/step - loss: 112.9619 - val_loss: 161.1181\n",
      "Epoch 51/100\n",
      "23/23 - 0s - 6ms/step - loss: 110.9587 - val_loss: 158.5762\n",
      "Epoch 52/100\n",
      "23/23 - 0s - 6ms/step - loss: 109.6884 - val_loss: 156.5233\n",
      "Epoch 53/100\n",
      "23/23 - 0s - 6ms/step - loss: 107.3074 - val_loss: 156.8600\n",
      "Epoch 54/100\n",
      "23/23 - 0s - 6ms/step - loss: 105.5930 - val_loss: 155.3411\n",
      "Epoch 55/100\n",
      "23/23 - 0s - 6ms/step - loss: 103.7111 - val_loss: 151.2607\n",
      "Epoch 56/100\n",
      "23/23 - 0s - 6ms/step - loss: 101.0671 - val_loss: 150.5747\n",
      "Epoch 57/100\n",
      "23/23 - 0s - 6ms/step - loss: 98.6839 - val_loss: 150.8093\n",
      "Epoch 58/100\n",
      "23/23 - 0s - 6ms/step - loss: 96.3756 - val_loss: 148.1020\n",
      "Epoch 59/100\n",
      "23/23 - 0s - 6ms/step - loss: 94.2756 - val_loss: 150.6627\n",
      "Epoch 60/100\n",
      "23/23 - 0s - 6ms/step - loss: 91.9845 - val_loss: 146.8749\n",
      "Epoch 61/100\n",
      "23/23 - 0s - 6ms/step - loss: 89.3736 - val_loss: 147.8856\n",
      "Epoch 62/100\n",
      "23/23 - 0s - 6ms/step - loss: 87.4731 - val_loss: 140.4946\n",
      "Epoch 63/100\n",
      "23/23 - 0s - 7ms/step - loss: 84.2107 - val_loss: 143.4440\n",
      "Epoch 64/100\n",
      "23/23 - 0s - 7ms/step - loss: 82.5406 - val_loss: 136.8447\n",
      "Epoch 65/100\n",
      "23/23 - 0s - 6ms/step - loss: 80.0774 - val_loss: 140.8347\n",
      "Epoch 66/100\n",
      "23/23 - 0s - 5ms/step - loss: 78.7808 - val_loss: 141.9557\n",
      "Epoch 67/100\n",
      "23/23 - 0s - 6ms/step - loss: 75.5836 - val_loss: 132.2166\n",
      "Epoch 68/100\n",
      "23/23 - 0s - 7ms/step - loss: 73.5298 - val_loss: 134.2070\n",
      "Epoch 69/100\n",
      "23/23 - 0s - 6ms/step - loss: 71.4480 - val_loss: 131.3173\n",
      "Epoch 70/100\n",
      "23/23 - 0s - 6ms/step - loss: 69.2726 - val_loss: 130.9413\n",
      "Epoch 71/100\n",
      "23/23 - 0s - 6ms/step - loss: 67.4993 - val_loss: 130.8434\n",
      "Epoch 72/100\n",
      "23/23 - 0s - 6ms/step - loss: 65.4234 - val_loss: 124.9503\n",
      "Epoch 73/100\n",
      "23/23 - 0s - 6ms/step - loss: 63.3149 - val_loss: 126.9551\n",
      "Epoch 74/100\n",
      "23/23 - 0s - 6ms/step - loss: 60.9206 - val_loss: 124.2907\n",
      "Epoch 75/100\n",
      "23/23 - 0s - 6ms/step - loss: 59.4881 - val_loss: 123.0003\n",
      "Epoch 76/100\n",
      "23/23 - 0s - 6ms/step - loss: 58.4374 - val_loss: 123.5480\n",
      "Epoch 77/100\n",
      "23/23 - 0s - 6ms/step - loss: 56.8321 - val_loss: 118.1971\n",
      "Epoch 78/100\n",
      "23/23 - 0s - 6ms/step - loss: 54.7200 - val_loss: 128.1264\n",
      "Epoch 79/100\n",
      "23/23 - 0s - 6ms/step - loss: 53.7601 - val_loss: 121.8658\n",
      "Epoch 80/100\n",
      "23/23 - 0s - 7ms/step - loss: 52.1092 - val_loss: 121.9546\n",
      "Epoch 81/100\n",
      "23/23 - 0s - 6ms/step - loss: 50.7058 - val_loss: 128.8606\n",
      "Epoch 82/100\n",
      "23/23 - 0s - 6ms/step - loss: 49.8032 - val_loss: 117.4323\n",
      "Epoch 83/100\n",
      "23/23 - 0s - 6ms/step - loss: 48.9595 - val_loss: 124.0893\n",
      "Epoch 84/100\n",
      "23/23 - 0s - 6ms/step - loss: 47.3569 - val_loss: 123.5860\n",
      "Epoch 85/100\n",
      "23/23 - 0s - 6ms/step - loss: 46.3357 - val_loss: 122.6662\n",
      "Epoch 86/100\n",
      "23/23 - 0s - 6ms/step - loss: 45.2932 - val_loss: 121.8173\n",
      "Epoch 87/100\n",
      "23/23 - 0s - 6ms/step - loss: 44.4070 - val_loss: 119.5182\n",
      "Epoch 88/100\n",
      "23/23 - 0s - 6ms/step - loss: 43.6935 - val_loss: 120.4409\n",
      "Epoch 89/100\n",
      "23/23 - 0s - 6ms/step - loss: 43.1689 - val_loss: 131.1048\n",
      "Epoch 90/100\n",
      "23/23 - 0s - 6ms/step - loss: 41.8887 - val_loss: 120.3741\n",
      "Epoch 91/100\n",
      "23/23 - 0s - 6ms/step - loss: 40.6977 - val_loss: 127.5643\n",
      "Epoch 92/100\n",
      "23/23 - 0s - 6ms/step - loss: 40.4967 - val_loss: 124.3077\n",
      "Epoch 93/100\n",
      "23/23 - 0s - 6ms/step - loss: 39.7209 - val_loss: 126.7670\n",
      "Epoch 94/100\n",
      "23/23 - 0s - 6ms/step - loss: 38.7649 - val_loss: 131.3173\n",
      "Epoch 95/100\n",
      "23/23 - 0s - 6ms/step - loss: 39.0063 - val_loss: 123.0797\n",
      "Epoch 96/100\n",
      "23/23 - 0s - 6ms/step - loss: 37.2719 - val_loss: 128.4613\n",
      "Epoch 97/100\n",
      "23/23 - 0s - 5ms/step - loss: 36.8748 - val_loss: 126.0357\n",
      "Epoch 98/100\n",
      "23/23 - 0s - 6ms/step - loss: 36.0330 - val_loss: 141.9415\n",
      "Epoch 99/100\n",
      "23/23 - 0s - 6ms/step - loss: 36.0974 - val_loss: 132.2898\n",
      "Epoch 100/100\n",
      "23/23 - 0s - 6ms/step - loss: 35.3599 - val_loss: 131.8510\n"
     ]
    },
    {
     "data": {
      "text/plain": [
       "<keras.src.callbacks.history.History at 0x223ad459880>"
      ]
     },
     "execution_count": 15,
     "metadata": {},
     "output_type": "execute_result"
    }
   ],
   "source": [
    "# fit the model\n",
    "model.fit(predictors_norm, target, validation_split=0.3, epochs=100, verbose=2)"
   ]
  },
  {
   "cell_type": "markdown",
   "id": "ac9c1534-12b4-4705-859c-b5affecb3c2f",
   "metadata": {},
   "source": [
    "<strong>You can refer to this [link](https://keras.io/models/sequential/) to learn about other functions that you can use for prediction or evaluation.</strong>\n"
   ]
  },
  {
   "cell_type": "markdown",
   "id": "1f1bff55-1a35-4360-91e1-b80433d7e39b",
   "metadata": {},
   "source": [
    "Feel free to vary the following and note what impact each change has on the model's performance:\n",
    "\n",
    "1. Increase or decreate number of neurons in hidden layers\n",
    "2. Add more hidden layers\n",
    "3. Increase number of epochs\n"
   ]
  },
  {
   "cell_type": "markdown",
   "id": "49393892-6ed5-43f5-9e61-aec25003886c",
   "metadata": {},
   "source": [
    "### Thank you for completing this lab!\n",
    "\n",
    "This notebook was created by [Alex Aklson](https://www.linkedin.com/in/aklson/). I hope you found this lab interesting and educational. Feel free to contact me if you have any questions!\n"
   ]
  },
  {
   "cell_type": "markdown",
   "id": "53d16b11-a494-434f-ac46-97b58fb17bd0",
   "metadata": {},
   "source": [
    "<!--\n",
    "## Change Log\n",
    "\n",
    "|  Date (YYYY-MM-DD) |  Version | Changed By  |  Change Description |\n",
    "|---|---|---|---|\n",
    "| 2024-11-20  | 3.0  | Aman  |  Updated the library versions to current |\n",
    "| 2020-09-21  | 2.0  | Srishti  |  Migrated Lab to Markdown and added to course repo in GitLab |\n",
    "\n",
    "\n",
    "\n",
    "<hr>\n",
    "\n",
    "## <h3 align=\"center\"> © IBM Corporation. All rights reserved. <h3/>\n"
   ]
  },
  {
   "cell_type": "markdown",
   "id": "352b2a70-7333-4c27-b099-1ac629233125",
   "metadata": {},
   "source": [
    "<hr>\n",
    "\n",
    "Copyright &copy; [IBM Developer Skills Network](https://cognitiveclass.ai/?utm_source=bducopyrightlink&utm_medium=dswb&utm_campaign=bdu). This notebook and its source code are released under the terms of the [MIT License](https://opensource.org/license/mit).\n"
   ]
  },
  {
   "cell_type": "code",
   "execution_count": null,
   "id": "95317dbe-3d91-4a0f-bb19-99c017d1ca75",
   "metadata": {},
   "outputs": [],
   "source": []
  }
 ],
 "metadata": {
  "kernelspec": {
   "display_name": "myenv",
   "language": "python",
   "name": "python3"
  },
  "language_info": {
   "codemirror_mode": {
    "name": "ipython",
    "version": 3
   },
   "file_extension": ".py",
   "mimetype": "text/x-python",
   "name": "python",
   "nbconvert_exporter": "python",
   "pygments_lexer": "ipython3",
   "version": "3.12.3"
  },
  "prev_pub_hash": "cbb86e20eb1e13d10f60b5e08fb000a189e0799554e7482999da2a778d69cfdf"
 },
 "nbformat": 4,
 "nbformat_minor": 4
}
