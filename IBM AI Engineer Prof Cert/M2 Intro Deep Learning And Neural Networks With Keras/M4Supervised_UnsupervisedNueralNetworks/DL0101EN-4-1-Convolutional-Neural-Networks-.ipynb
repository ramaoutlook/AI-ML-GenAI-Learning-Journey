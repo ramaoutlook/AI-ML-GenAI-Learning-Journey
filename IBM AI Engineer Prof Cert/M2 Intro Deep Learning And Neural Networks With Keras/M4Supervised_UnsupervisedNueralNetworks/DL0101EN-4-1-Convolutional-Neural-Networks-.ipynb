{
 "cells": [
  {
   "cell_type": "markdown",
   "id": "6a259076-5a31-482e-b598-0138c6bfe11a",
   "metadata": {},
   "source": [
    "<a href=\"https://cognitiveclass.ai\"><img src=\"https://cf-courses-data.s3.us.cloud-object-storage.appdomain.cloud/IBMDeveloperSkillsNetwork-DL0101EN-SkillsNetwork/images/IDSN-logo.png\" width=\"400\"> </a>\n",
    "\n",
    "# Convolutional Neural Networks with Keras\n",
    "\n",
    "Estimated time needed **30** mins\n"
   ]
  },
  {
   "cell_type": "markdown",
   "id": "2a86cd7f-c191-4c78-92a5-2479b13cba2b",
   "metadata": {},
   "source": [
    "In this lab, we will learn how to use the Keras library to build convolutional neural networks. We will also use the popular MNIST dataset and we will compare our results to using a conventional neural network.\n"
   ]
  },
  {
   "cell_type": "markdown",
   "id": "a7c948e3-995c-45c0-86f0-8916fbee6b02",
   "metadata": {},
   "source": [
    "## Objectives for this Notebook    \n",
    "* How to use the Keras library to build convolutional neural networks\n",
    "* Convolutional neural network with one set of convolutional and pooling layers\n",
    "* Convolutional neural network with two sets of convolutional and pooling layers\n",
    "\n"
   ]
  },
  {
   "cell_type": "markdown",
   "id": "82e267c1-74e4-4f30-be50-15b58d592add",
   "metadata": {},
   "source": [
    "## Table of Contents\n",
    "\n",
    "<div class=\"alert alert-block alert-info\" style=\"margin-top: 20px\">\n",
    "\n",
    "<font size = 3>\n",
    "      \n",
    "1. <a href=\"#Import-Keras-and-Packages\">Import Keras and Packages</a>   \n",
    "2. <a href=\"#Convolutional-Neural-Network-with-One-Set-of-Convolutional-and-Pooling-Layers\">Convolutional Neural Network with One Set of Convolutional and Pooling Layers</a>  \n",
    "3. <a href=\"#Convolutional-Neural-Network-with-Two-Sets-of-Convolutional-and-Pooling-Layers\">Convolutional Neural Network with Two Sets of Convolutional and Pooling Layers</a>  \n",
    "\n",
    "</font>\n",
    "</div>\n"
   ]
  },
  {
   "cell_type": "markdown",
   "id": "a2725718-c839-403f-8017-236d760c20c0",
   "metadata": {},
   "source": [
    "### Install the necessary libraries\n"
   ]
  },
  {
   "cell_type": "markdown",
   "id": "5860a2ee-ec49-4add-ad79-556d6960495a",
   "metadata": {},
   "source": [
    "Let's start by installing the keras libraries and the packages that we would need to build a neural network.\n"
   ]
  },
  {
   "cell_type": "code",
   "execution_count": null,
   "id": "dc5e450c-e81e-42b1-a564-7d59bd960067",
   "metadata": {},
   "outputs": [],
   "source": [
    "# All Libraries required for this lab are listed below. The libraries need to be installed on Skills Network Labs. \n",
    "# If you run this notebook on a different environment, e.g. your desktop, you may want to install these.\n",
    "!pip install numpy==2.0.2\n",
    "!pip install pandas==2.2.2\n",
    "!pip install tensorflow_cpu==2.18.0\n",
    "!pip install matplotlib==3.9.2"
   ]
  },
  {
   "cell_type": "markdown",
   "id": "df48ab35-3ce3-4d73-9e9f-142c1c272773",
   "metadata": {},
   "source": [
    "#### Suppress the tensorflow warning messages\n",
    "We use the following code to  suppress the warning messages due to use of CPU architechture for tensoflow.\n",
    "You may want to **comment out** these lines if you are using the GPU architechture\n"
   ]
  },
  {
   "cell_type": "code",
   "execution_count": 1,
   "id": "c4d79a7c-6cbc-4b7c-8f6e-23c4d3dbec4f",
   "metadata": {},
   "outputs": [],
   "source": [
    "import os\n",
    "os.environ['TF_ENABLE_ONEDNN_OPTS'] = '0'\n",
    "os.environ['TF_CPP_MIN_LOG_LEVEL'] = '2'"
   ]
  },
  {
   "cell_type": "markdown",
   "id": "c8cb5959-7529-4024-aabe-711e02b1a573",
   "metadata": {},
   "source": [
    "## Import Keras and Packages\n"
   ]
  },
  {
   "cell_type": "code",
   "execution_count": 2,
   "id": "54f7f5de-dd4f-4160-97a7-41fc13358596",
   "metadata": {},
   "outputs": [],
   "source": [
    "import keras\n",
    "from keras.models import Sequential\n",
    "from keras.layers import Dense\n",
    "from keras.layers import Input\n",
    "from keras.utils import to_categorical"
   ]
  },
  {
   "cell_type": "markdown",
   "id": "6ae6ee1f-c5f9-4136-a661-d0ecad7bc618",
   "metadata": {},
   "source": [
    "When working with convolutional neural networks in particular, we will need additional packages.\n"
   ]
  },
  {
   "cell_type": "code",
   "execution_count": 3,
   "id": "59965020-f741-41d0-8b70-00253641ff4c",
   "metadata": {},
   "outputs": [],
   "source": [
    "from keras.layers import Conv2D # to add convolutional layers\n",
    "from keras.layers import MaxPooling2D # to add pooling layers\n",
    "from keras.layers import Flatten # to flatten data for fully connected layers"
   ]
  },
  {
   "cell_type": "markdown",
   "id": "b4be0cd5-9e2a-44f7-a6de-1fdc46923fb4",
   "metadata": {},
   "source": [
    "## Convolutional Neural Network with One Set of Convolutional and Pooling Layers\n"
   ]
  },
  {
   "cell_type": "code",
   "execution_count": 4,
   "id": "21cd5320-20a6-4e90-89be-81af7990a4c5",
   "metadata": {},
   "outputs": [],
   "source": [
    "# import data\n",
    "from keras.datasets import mnist\n",
    "\n",
    "# load data\n",
    "(X_train, y_train), (X_test, y_test) = mnist.load_data()\n",
    "\n",
    "# reshape to be [samples][pixels][width][height]\n",
    "X_train = X_train.reshape(X_train.shape[0], 28, 28, 1).astype('float32')\n",
    "X_test = X_test.reshape(X_test.shape[0], 28, 28, 1).astype('float32')"
   ]
  },
  {
   "cell_type": "markdown",
   "id": "82a804cb-2ea6-4925-94a1-ef4ba5a2ef1d",
   "metadata": {},
   "source": [
    "Let's normalize the pixel values to be between 0 and 1\n"
   ]
  },
  {
   "cell_type": "code",
   "execution_count": 5,
   "id": "26b2fc47-fbfb-42ce-bfe7-d1cda99d4988",
   "metadata": {},
   "outputs": [],
   "source": [
    "X_train = X_train / 255 # normalize training data\n",
    "X_test = X_test / 255 # normalize test data"
   ]
  },
  {
   "cell_type": "markdown",
   "id": "58622fd9-b0ff-408c-baf5-4db94f8a0a97",
   "metadata": {},
   "source": [
    "Next, let's convert the target variable into binary categories\n"
   ]
  },
  {
   "cell_type": "code",
   "execution_count": 6,
   "id": "c01c40ef-75ba-4c87-954a-4f5ecef7b41f",
   "metadata": {},
   "outputs": [],
   "source": [
    "y_train = to_categorical(y_train)\n",
    "y_test = to_categorical(y_test)\n",
    "\n",
    "num_classes = y_test.shape[1] # number of categories"
   ]
  },
  {
   "cell_type": "markdown",
   "id": "2c42c05a-ae9e-44bc-ab58-5b5c55c6cc43",
   "metadata": {},
   "source": [
    "Next, let's define a function that creates our model. Let's start with one set of convolutional and pooling layers.\n"
   ]
  },
  {
   "cell_type": "code",
   "execution_count": 7,
   "id": "678716df-28c6-4944-872b-2ab253d7ea68",
   "metadata": {},
   "outputs": [],
   "source": [
    "def convolutional_model():\n",
    "    \n",
    "    # create model\n",
    "    model = Sequential()\n",
    "    model.add(Input(shape=(28, 28, 1)))\n",
    "    model.add(Conv2D(16, (5, 5), strides=(1, 1), activation='relu'))\n",
    "    model.add(MaxPooling2D(pool_size=(2, 2), strides=(2, 2)))\n",
    "    \n",
    "    model.add(Flatten())\n",
    "    model.add(Dense(100, activation='relu'))\n",
    "    model.add(Dense(num_classes, activation='softmax'))\n",
    "    \n",
    "    # compile model\n",
    "    model.compile(optimizer='adam', loss='categorical_crossentropy',  metrics=['accuracy'])\n",
    "    return model"
   ]
  },
  {
   "cell_type": "markdown",
   "id": "d94c41fa-0fae-482c-b4f5-0729d31569c2",
   "metadata": {},
   "source": [
    "Finally, let's call the function to create the model, and then let's train it and evaluate it.\n"
   ]
  },
  {
   "cell_type": "code",
   "execution_count": 8,
   "id": "095aa859-c641-4d6d-abb6-a1712a64f89b",
   "metadata": {},
   "outputs": [
    {
     "name": "stdout",
     "output_type": "stream",
     "text": [
      "Epoch 1/10\n",
      "300/300 - 18s - 60ms/step - accuracy: 0.9177 - loss: 0.2945 - val_accuracy: 0.9697 - val_loss: 0.1046\n",
      "Epoch 2/10\n",
      "300/300 - 11s - 36ms/step - accuracy: 0.9752 - loss: 0.0843 - val_accuracy: 0.9815 - val_loss: 0.0580\n",
      "Epoch 3/10\n",
      "300/300 - 10s - 33ms/step - accuracy: 0.9830 - loss: 0.0571 - val_accuracy: 0.9834 - val_loss: 0.0509\n",
      "Epoch 4/10\n",
      "300/300 - 10s - 33ms/step - accuracy: 0.9867 - loss: 0.0453 - val_accuracy: 0.9845 - val_loss: 0.0470\n",
      "Epoch 5/10\n",
      "300/300 - 10s - 32ms/step - accuracy: 0.9890 - loss: 0.0364 - val_accuracy: 0.9872 - val_loss: 0.0407\n",
      "Epoch 6/10\n",
      "300/300 - 10s - 32ms/step - accuracy: 0.9906 - loss: 0.0313 - val_accuracy: 0.9867 - val_loss: 0.0415\n",
      "Epoch 7/10\n",
      "300/300 - 10s - 33ms/step - accuracy: 0.9920 - loss: 0.0256 - val_accuracy: 0.9886 - val_loss: 0.0378\n",
      "Epoch 8/10\n",
      "300/300 - 10s - 32ms/step - accuracy: 0.9934 - loss: 0.0222 - val_accuracy: 0.9884 - val_loss: 0.0355\n",
      "Epoch 9/10\n",
      "300/300 - 11s - 35ms/step - accuracy: 0.9943 - loss: 0.0187 - val_accuracy: 0.9888 - val_loss: 0.0362\n",
      "Epoch 10/10\n",
      "300/300 - 10s - 33ms/step - accuracy: 0.9950 - loss: 0.0161 - val_accuracy: 0.9887 - val_loss: 0.0365\n",
      "Accuracy: 0.9886999726295471 \n",
      " Error: 1.130002737045288\n"
     ]
    }
   ],
   "source": [
    "# build the model\n",
    "model = convolutional_model()\n",
    "\n",
    "# fit the model\n",
    "model.fit(X_train, y_train, validation_data=(X_test, y_test), epochs=10, batch_size=200, verbose=2)\n",
    "\n",
    "# evaluate the model\n",
    "scores = model.evaluate(X_test, y_test, verbose=0)\n",
    "print(\"Accuracy: {} \\n Error: {}\".format(scores[1], 100-scores[1]*100))"
   ]
  },
  {
   "cell_type": "markdown",
   "id": "bdadb672-3dd5-47c8-b2aa-b573faec12ab",
   "metadata": {},
   "source": [
    "------------------------------------------\n"
   ]
  },
  {
   "cell_type": "markdown",
   "id": "8346bc8d-b06d-4e59-ab6d-38ab51f7e3a2",
   "metadata": {},
   "source": [
    "## Convolutional Neural Network with Two Sets of Convolutional and Pooling Layers\n"
   ]
  },
  {
   "cell_type": "markdown",
   "id": "ed6adec1-b389-4d45-a94b-c3f378106a02",
   "metadata": {},
   "source": [
    "Let's redefine our convolutional model so that it has two convolutional and pooling layers instead of just one layer of each.\n"
   ]
  },
  {
   "cell_type": "code",
   "execution_count": 9,
   "id": "1238bc6e-7594-48f2-b239-83fd36c4838d",
   "metadata": {},
   "outputs": [],
   "source": [
    "def convolutional_model():\n",
    "    \n",
    "    # create model\n",
    "    model = Sequential()\n",
    "    model.add(Input(shape=(28, 28, 1)))\n",
    "    model.add(Conv2D(16, (5, 5), activation='relu'))\n",
    "    model.add(MaxPooling2D(pool_size=(2, 2), strides=(2, 2)))\n",
    "    \n",
    "    model.add(Conv2D(8, (2, 2), activation='relu'))\n",
    "    model.add(MaxPooling2D(pool_size=(2, 2), strides=(2, 2)))\n",
    "    \n",
    "    model.add(Flatten())\n",
    "    model.add(Dense(100, activation='relu'))\n",
    "    model.add(Dense(num_classes, activation='softmax'))\n",
    "    \n",
    "    # Compile model\n",
    "    model.compile(optimizer='adam', loss='categorical_crossentropy',  metrics=['accuracy'])\n",
    "    return model"
   ]
  },
  {
   "cell_type": "markdown",
   "id": "ad1e634f-0a4a-475b-95da-b6e322a83c46",
   "metadata": {},
   "source": [
    "Now, let's call the function to create our new convolutional neural network, and then let's train it and evaluate it.\n"
   ]
  },
  {
   "cell_type": "code",
   "execution_count": 10,
   "id": "3c0465aa-295a-49e7-92bb-050edb59e3df",
   "metadata": {},
   "outputs": [
    {
     "name": "stdout",
     "output_type": "stream",
     "text": [
      "Epoch 1/10\n",
      "300/300 - 11s - 37ms/step - accuracy: 0.8499 - loss: 0.5087 - val_accuracy: 0.9566 - val_loss: 0.1549\n",
      "Epoch 2/10\n",
      "300/300 - 10s - 32ms/step - accuracy: 0.9604 - loss: 0.1314 - val_accuracy: 0.9729 - val_loss: 0.0890\n",
      "Epoch 3/10\n",
      "300/300 - 10s - 34ms/step - accuracy: 0.9709 - loss: 0.0916 - val_accuracy: 0.9792 - val_loss: 0.0709\n",
      "Epoch 4/10\n",
      "300/300 - 10s - 33ms/step - accuracy: 0.9772 - loss: 0.0738 - val_accuracy: 0.9795 - val_loss: 0.0627\n",
      "Epoch 5/10\n",
      "300/300 - 10s - 33ms/step - accuracy: 0.9803 - loss: 0.0625 - val_accuracy: 0.9830 - val_loss: 0.0514\n",
      "Epoch 6/10\n",
      "300/300 - 10s - 33ms/step - accuracy: 0.9833 - loss: 0.0540 - val_accuracy: 0.9848 - val_loss: 0.0477\n",
      "Epoch 7/10\n",
      "300/300 - 9s - 31ms/step - accuracy: 0.9854 - loss: 0.0476 - val_accuracy: 0.9814 - val_loss: 0.0566\n",
      "Epoch 8/10\n",
      "300/300 - 9s - 31ms/step - accuracy: 0.9865 - loss: 0.0439 - val_accuracy: 0.9863 - val_loss: 0.0426\n",
      "Epoch 9/10\n",
      "300/300 - 11s - 36ms/step - accuracy: 0.9871 - loss: 0.0403 - val_accuracy: 0.9871 - val_loss: 0.0392\n",
      "Epoch 10/10\n",
      "300/300 - 11s - 36ms/step - accuracy: 0.9889 - loss: 0.0355 - val_accuracy: 0.9875 - val_loss: 0.0394\n",
      "Accuracy: 0.987500011920929 \n",
      " Error: 1.2499988079071045\n"
     ]
    }
   ],
   "source": [
    "# build the model\n",
    "model = convolutional_model()\n",
    "\n",
    "# fit the model\n",
    "model.fit(X_train, y_train, validation_data=(X_test, y_test), epochs=10, batch_size=200, verbose=2)\n",
    "\n",
    "# evaluate the model\n",
    "scores = model.evaluate(X_test, y_test, verbose=0)\n",
    "print(\"Accuracy: {} \\n Error: {}\".format(scores[1], 100-scores[1]*100))"
   ]
  },
  {
   "cell_type": "markdown",
   "id": "1461351b-e85e-431a-94f7-7a803ad091f0",
   "metadata": {},
   "source": [
    "<h3>Practice Exercise 1</h3>\n"
   ]
  },
  {
   "cell_type": "markdown",
   "id": "b552fc94-0831-4569-bc0e-c5b9b153b70d",
   "metadata": {},
   "source": [
    "Let's see how batch size affects the time required and accuracy of the model training. \n",
    "For this, you can try to change batch_size to 1024 and check it's effect on accuracy\n"
   ]
  },
  {
   "cell_type": "code",
   "execution_count": 11,
   "id": "f01355d9-0484-4b16-8419-fd6e64640806",
   "metadata": {},
   "outputs": [
    {
     "name": "stdout",
     "output_type": "stream",
     "text": [
      "Epoch 1/10\n",
      "59/59 - 11s - 186ms/step - accuracy: 0.7141 - loss: 1.1032 - val_accuracy: 0.8912 - val_loss: 0.3782\n",
      "Epoch 2/10\n",
      "59/59 - 9s - 148ms/step - accuracy: 0.9068 - loss: 0.3181 - val_accuracy: 0.9308 - val_loss: 0.2444\n",
      "Epoch 3/10\n",
      "59/59 - 8s - 144ms/step - accuracy: 0.9323 - loss: 0.2257 - val_accuracy: 0.9495 - val_loss: 0.1770\n",
      "Epoch 4/10\n",
      "59/59 - 8s - 132ms/step - accuracy: 0.9492 - loss: 0.1718 - val_accuracy: 0.9597 - val_loss: 0.1402\n",
      "Epoch 5/10\n",
      "59/59 - 8s - 131ms/step - accuracy: 0.9592 - loss: 0.1380 - val_accuracy: 0.9670 - val_loss: 0.1150\n",
      "Epoch 6/10\n",
      "59/59 - 9s - 154ms/step - accuracy: 0.9661 - loss: 0.1168 - val_accuracy: 0.9697 - val_loss: 0.1015\n",
      "Epoch 7/10\n",
      "59/59 - 8s - 141ms/step - accuracy: 0.9692 - loss: 0.1018 - val_accuracy: 0.9756 - val_loss: 0.0871\n",
      "Epoch 8/10\n",
      "59/59 - 9s - 149ms/step - accuracy: 0.9731 - loss: 0.0913 - val_accuracy: 0.9752 - val_loss: 0.0850\n",
      "Epoch 9/10\n",
      "59/59 - 9s - 145ms/step - accuracy: 0.9743 - loss: 0.0835 - val_accuracy: 0.9745 - val_loss: 0.0824\n",
      "Epoch 10/10\n",
      "59/59 - 8s - 139ms/step - accuracy: 0.9774 - loss: 0.0759 - val_accuracy: 0.9799 - val_loss: 0.0677\n",
      "Accuracy: 0.9799000024795532 \n",
      " Error: 2.0099997520446777\n"
     ]
    }
   ],
   "source": [
    "# Write your answer here\n",
    "# build the model\n",
    "model = convolutional_model()\n",
    "\n",
    "# fit the model\n",
    "model.fit(X_train, y_train, validation_data=(X_test, y_test), epochs=10, batch_size=1024, verbose=2)\n",
    "\n",
    "# evaluate the model\n",
    "scores = model.evaluate(X_test, y_test, verbose=0)\n",
    "print(\"Accuracy: {} \\n Error: {}\".format(scores[1], 100-scores[1]*100))\n"
   ]
  },
  {
   "cell_type": "markdown",
   "id": "5bb6cc35-d6d9-4d82-97ff-44f59a729e0f",
   "metadata": {},
   "source": [
    "Double-click <b>here</b> for the solution.\n",
    "\n",
    "<!-- Your answer is below:\n",
    "# build the model\n",
    "model = convolutional_model()\n",
    "\n",
    "# fit the model\n",
    "model.fit(X_train, y_train, validation_data=(X_test, y_test), epochs=10, batch_size=1024, verbose=2)\n",
    "\n",
    "# evaluate the model\n",
    "scores = model.evaluate(X_test, y_test, verbose=0)\n",
    "print(\"Accuracy: {} \\n Error: {}\".format(scores[1], 100-scores[1]*100))\n",
    "-->\n"
   ]
  },
  {
   "cell_type": "markdown",
   "id": "2a03ad9b-825d-47ae-be77-e3bf1885c08e",
   "metadata": {},
   "source": [
    "<h3>Practice Exercise 2</h3>\n"
   ]
  },
  {
   "cell_type": "markdown",
   "id": "5989a3e9-0d9c-4769-a33d-fc22447a82bd",
   "metadata": {},
   "source": [
    "Now, let's see how number of epochs  affect the time required and accuracy of the model training. \n",
    "For this, you can keep the batch_size=1024 and epochs=25 and check it's effect on accuracy\n"
   ]
  },
  {
   "cell_type": "code",
   "execution_count": 12,
   "id": "f9e95cec-0929-4e21-82f2-88b829c59460",
   "metadata": {},
   "outputs": [
    {
     "name": "stdout",
     "output_type": "stream",
     "text": [
      "Epoch 1/25\n",
      "59/59 - 9s - 159ms/step - accuracy: 0.6547 - loss: 1.2893 - val_accuracy: 0.8874 - val_loss: 0.3977\n",
      "Epoch 2/25\n",
      "59/59 - 8s - 138ms/step - accuracy: 0.9046 - loss: 0.3196 - val_accuracy: 0.9324 - val_loss: 0.2334\n",
      "Epoch 3/25\n",
      "59/59 - 8s - 141ms/step - accuracy: 0.9393 - loss: 0.2091 - val_accuracy: 0.9533 - val_loss: 0.1608\n",
      "Epoch 4/25\n",
      "59/59 - 8s - 142ms/step - accuracy: 0.9553 - loss: 0.1511 - val_accuracy: 0.9653 - val_loss: 0.1219\n",
      "Epoch 5/25\n",
      "59/59 - 9s - 148ms/step - accuracy: 0.9647 - loss: 0.1203 - val_accuracy: 0.9703 - val_loss: 0.1020\n",
      "Epoch 6/25\n",
      "59/59 - 9s - 144ms/step - accuracy: 0.9709 - loss: 0.1007 - val_accuracy: 0.9744 - val_loss: 0.0844\n",
      "Epoch 7/25\n",
      "59/59 - 9s - 155ms/step - accuracy: 0.9746 - loss: 0.0870 - val_accuracy: 0.9783 - val_loss: 0.0751\n",
      "Epoch 8/25\n",
      "59/59 - 11s - 185ms/step - accuracy: 0.9773 - loss: 0.0772 - val_accuracy: 0.9789 - val_loss: 0.0709\n",
      "Epoch 9/25\n",
      "59/59 - 8s - 143ms/step - accuracy: 0.9793 - loss: 0.0702 - val_accuracy: 0.9772 - val_loss: 0.0673\n",
      "Epoch 10/25\n",
      "59/59 - 8s - 138ms/step - accuracy: 0.9801 - loss: 0.0654 - val_accuracy: 0.9811 - val_loss: 0.0609\n",
      "Epoch 11/25\n",
      "59/59 - 9s - 148ms/step - accuracy: 0.9829 - loss: 0.0592 - val_accuracy: 0.9810 - val_loss: 0.0586\n",
      "Epoch 12/25\n",
      "59/59 - 9s - 148ms/step - accuracy: 0.9835 - loss: 0.0554 - val_accuracy: 0.9826 - val_loss: 0.0538\n",
      "Epoch 13/25\n",
      "59/59 - 9s - 160ms/step - accuracy: 0.9843 - loss: 0.0526 - val_accuracy: 0.9845 - val_loss: 0.0517\n",
      "Epoch 14/25\n",
      "59/59 - 9s - 148ms/step - accuracy: 0.9852 - loss: 0.0492 - val_accuracy: 0.9843 - val_loss: 0.0499\n",
      "Epoch 15/25\n",
      "59/59 - 9s - 145ms/step - accuracy: 0.9861 - loss: 0.0467 - val_accuracy: 0.9847 - val_loss: 0.0491\n",
      "Epoch 16/25\n",
      "59/59 - 8s - 138ms/step - accuracy: 0.9863 - loss: 0.0459 - val_accuracy: 0.9844 - val_loss: 0.0491\n",
      "Epoch 17/25\n",
      "59/59 - 8s - 140ms/step - accuracy: 0.9872 - loss: 0.0436 - val_accuracy: 0.9855 - val_loss: 0.0441\n",
      "Epoch 18/25\n",
      "59/59 - 9s - 153ms/step - accuracy: 0.9876 - loss: 0.0417 - val_accuracy: 0.9849 - val_loss: 0.0461\n",
      "Epoch 19/25\n",
      "59/59 - 12s - 199ms/step - accuracy: 0.9887 - loss: 0.0395 - val_accuracy: 0.9857 - val_loss: 0.0454\n",
      "Epoch 20/25\n",
      "59/59 - 18s - 312ms/step - accuracy: 0.9889 - loss: 0.0377 - val_accuracy: 0.9853 - val_loss: 0.0448\n",
      "Epoch 21/25\n",
      "59/59 - 10s - 167ms/step - accuracy: 0.9890 - loss: 0.0360 - val_accuracy: 0.9845 - val_loss: 0.0448\n",
      "Epoch 22/25\n",
      "59/59 - 10s - 168ms/step - accuracy: 0.9897 - loss: 0.0354 - val_accuracy: 0.9864 - val_loss: 0.0429\n",
      "Epoch 23/25\n",
      "59/59 - 11s - 181ms/step - accuracy: 0.9901 - loss: 0.0330 - val_accuracy: 0.9858 - val_loss: 0.0433\n",
      "Epoch 24/25\n",
      "59/59 - 12s - 202ms/step - accuracy: 0.9902 - loss: 0.0332 - val_accuracy: 0.9852 - val_loss: 0.0414\n",
      "Epoch 25/25\n",
      "59/59 - 10s - 178ms/step - accuracy: 0.9904 - loss: 0.0309 - val_accuracy: 0.9876 - val_loss: 0.0408\n",
      "Accuracy: 0.9876000285148621 \n",
      " Error: 1.239997148513794\n"
     ]
    }
   ],
   "source": [
    "# Write your answer here\n",
    "# build the model\n",
    "model = convolutional_model()\n",
    "\n",
    "# fit the model\n",
    "model.fit(X_train, y_train, validation_data=(X_test, y_test), epochs=25, batch_size=1024, verbose=2)\n",
    "\n",
    "# evaluate the model\n",
    "scores = model.evaluate(X_test, y_test, verbose=0)\n",
    "print(\"Accuracy: {} \\n Error: {}\".format(scores[1], 100-scores[1]*100))\n"
   ]
  },
  {
   "cell_type": "markdown",
   "id": "51c6e6da-7d0d-4090-9fb8-98f22d051bdb",
   "metadata": {},
   "source": [
    "Double-click <b>here</b> for the solution.\n",
    "\n",
    "<!-- Your answer is below:\n",
    "# build the model\n",
    "model = convolutional_model()\n",
    "\n",
    "# fit the model\n",
    "model.fit(X_train, y_train, validation_data=(X_test, y_test), epochs=25, batch_size=1024, verbose=2)\n",
    "\n",
    "# evaluate the model\n",
    "scores = model.evaluate(X_test, y_test, verbose=0)\n",
    "print(\"Accuracy: {} \\n Error: {}\".format(scores[1], 100-scores[1]*100))\n",
    "\n",
    "\n",
    "    -->\n"
   ]
  },
  {
   "cell_type": "markdown",
   "id": "844cc9d3-9e42-433a-9767-c03f0c1eb77d",
   "metadata": {},
   "source": [
    "### Thank you for completing this lab!\n",
    "\n",
    "This notebook was created by [Alex Aklson](https://www.linkedin.com/in/aklson/). I hope you found this lab interesting and educational. Feel free to contact me if you have any questions!\n"
   ]
  },
  {
   "cell_type": "markdown",
   "id": "5e3e2e36-9537-40c4-80bc-24e056e0b3c0",
   "metadata": {},
   "source": [
    "<!--\n",
    "## Change Log\n",
    "\n",
    "|  Date (YYYY-MM-DD) |  Version | Changed By  |  Change Description |\n",
    "|---|---|---|---|\n",
    "| 2024-11-20  | 3.0  | Aman  |  Updated the library versions to current |\n",
    "| 2020-09-21  | 2.0  | Srishti  |  Migrated Lab to Markdown and added to course repo in GitLab |\n",
    "\n",
    "\n",
    "\n",
    "<hr>\n",
    "\n",
    "## <h3 align=\"center\"> © IBM Corporation. All rights reserved. <h3/>\n"
   ]
  },
  {
   "cell_type": "markdown",
   "id": "ab20d78f-6c72-4aad-b35d-e2e770c39d5e",
   "metadata": {},
   "source": [
    "## <h3 align=\"center\"> &#169; IBM Corporation. All rights reserved. <h3/>\n",
    "\n"
   ]
  }
 ],
 "metadata": {
  "kernelspec": {
   "display_name": "myenv",
   "language": "python",
   "name": "python3"
  },
  "language_info": {
   "codemirror_mode": {
    "name": "ipython",
    "version": 3
   },
   "file_extension": ".py",
   "mimetype": "text/x-python",
   "name": "python",
   "nbconvert_exporter": "python",
   "pygments_lexer": "ipython3",
   "version": "3.12.3"
  },
  "prev_pub_hash": "cf25684b5f40b85f8cce20a89cf822f405779387881f3fd281fbe1317debe407"
 },
 "nbformat": 4,
 "nbformat_minor": 4
}
