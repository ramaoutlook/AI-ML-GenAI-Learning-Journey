{
 "cells": [
  {
   "cell_type": "markdown",
   "id": "2be2ca33-8029-456f-9fb6-f9a02a90d07a",
   "metadata": {},
   "source": [
    "<p style=\"text-align:center\">\n",
    "    <a href=\"https://skills.network\" target=\"_blank\">\n",
    "    <img src=\"https://cf-courses-data.s3.us.cloud-object-storage.appdomain.cloud/assets/logos/SN_web_lightmode.png\" width=\"200\" alt=\"Skills Network Logo\">\n",
    "    </a>\n",
    "</p>\n"
   ]
  },
  {
   "cell_type": "markdown",
   "id": "b749d446-383c-4fb0-98a9-e982978b9185",
   "metadata": {},
   "source": [
    "# **Web Scraping Lab**\n"
   ]
  },
  {
   "cell_type": "markdown",
   "id": "8b768566-22f1-4944-919e-4103fd1420bb",
   "metadata": {},
   "source": [
    "Estimated time needed: **30** minutes\n"
   ]
  },
  {
   "cell_type": "markdown",
   "id": "d861f927-765c-4711-ab36-74aee21d9c28",
   "metadata": {},
   "source": [
    "## Objectives\n"
   ]
  },
  {
   "cell_type": "markdown",
   "id": "f45478c2-f9ce-4221-833a-51edf4e3b217",
   "metadata": {},
   "source": [
    "After completing this lab you will be able to:\n"
   ]
  },
  {
   "cell_type": "markdown",
   "id": "1103c902-c010-42b2-beaa-4269d3be303f",
   "metadata": {},
   "source": [
    "<h2>Table of Contents</h2>\n",
    "<div class=\"alert alert-block alert-info\" style=\"margin-top: 20px\">\n",
    "    <ul>\n",
    "        <li>\n",
    "            <a href=\"https://bso/?utm_medium=Exinfluencer&utm_source=Exinfluencer&utm_content=000026UJ&utm_term=10006555&utm_id=NA-SkillsNetwork-Channel-SkillsNetworkCoursesIBMDeveloperSkillsNetworkPY0220ENSkillsNetwork23455606-2021-01-01\">Beautiful Soup Object</a>\n",
    "            <ul>\n",
    "                <li>Tag</li>\n",
    "                <li>Children, Parents, and Siblings</li>\n",
    "                <li>HTML Attributes</li>\n",
    "                <li>Navigable String</li>\n",
    "            </ul>\n",
    "        </li>\n",
    "     </ul>\n",
    "    <ul>\n",
    "        <li>\n",
    "            <a href=\"https://filter/?utm_medium=Exinfluencer&utm_source=Exinfluencer&utm_content=000026UJ&utm_term=10006555&utm_id=NA-SkillsNetwork-Channel-SkillsNetworkCoursesIBMDeveloperSkillsNetworkPY0220ENSkillsNetwork23455606-2021-01-01\">Filter</a>\n",
    "            <ul>\n",
    "                <li>find All</li>\n",
    "                <li>find </li>\n",
    "                <li>HTML Attributes</li>\n",
    "                <li>Navigable String</li>\n",
    "            </ul>\n",
    "        </li>\n",
    "     </ul>\n",
    "     <ul>\n",
    "        <li>\n",
    "            <a href=\"https://dscw/?utm_medium=Exinfluencer&utm_source=Exinfluencer&utm_content=000026UJ&utm_term=10006555&utm_id=NA-SkillsNetwork-Channel-SkillsNetworkCoursesIBMDeveloperSkillsNetworkPY0220ENSkillsNetwork23455606-2021-01-01\">Downloading And Scraping The Contents Of A Web</a>\n",
    "    </li>\n",
    "         </ul>\n",
    "    <p>\n",
    "        Estimated time needed: <strong>25 min</strong>\n",
    "    </p>\n",
    "\n",
    "</div>\n",
    "\n",
    "<hr>\n"
   ]
  },
  {
   "cell_type": "markdown",
   "id": "e66856ac-0c1e-47fb-a123-24aeedda8f23",
   "metadata": {},
   "source": [
    "For this lab, we are going to be using Python and several Python libraries. Some of these libraries might be installed in your lab environment or in SN Labs. Others may need to be installed by you. The cells below will install these libraries when executed.\n"
   ]
  },
  {
   "cell_type": "code",
   "execution_count": 6,
   "id": "bf89af3c-22e2-4667-b5ba-ffed00e1df57",
   "metadata": {},
   "outputs": [
    {
     "name": "stderr",
     "output_type": "stream",
     "text": [
      "'mamba' is not recognized as an internal or external command,\n",
      "operable program or batch file.\n"
     ]
    },
    {
     "name": "stdout",
     "output_type": "stream",
     "text": [
      "Collecting lxml==4.6.4\n",
      "  Using cached lxml-4.6.4.tar.gz (3.2 MB)\n",
      "  Preparing metadata (setup.py): started\n",
      "  Preparing metadata (setup.py): finished with status 'done'\n",
      "Building wheels for collected packages: lxml\n",
      "  Building wheel for lxml (setup.py): started\n",
      "  Building wheel for lxml (setup.py): finished with status 'error'\n",
      "  Running setup.py clean for lxml\n",
      "Failed to build lxml\n"
     ]
    },
    {
     "name": "stderr",
     "output_type": "stream",
     "text": [
      "  error: subprocess-exited-with-error\n",
      "  \n",
      "  × python setup.py bdist_wheel did not run successfully.\n",
      "  │ exit code: 1\n",
      "  ╰─> [91 lines of output]\n",
      "      Building lxml version 4.6.4.\n",
      "      C:\\Users\\BKRK\\AppData\\Local\\Temp\\pip-install-n8p65zku\\lxml_2e346d49c23e490296a9f4f277a77096\\setup.py:67: DeprecationWarning: pkg_resources is deprecated as an API. See https://setuptools.pypa.io/en/latest/pkg_resources.html\n",
      "        import pkg_resources\n",
      "      Building without Cython.\n",
      "      Building against pre-built libxml2 andl libxslt libraries\n",
      "      running bdist_wheel\n",
      "      running build\n",
      "      running build_py\n",
      "      creating build\n",
      "      creating build\\lib.win-amd64-cpython-312\n",
      "      creating build\\lib.win-amd64-cpython-312\\lxml\n",
      "      copying src\\lxml\\builder.py -> build\\lib.win-amd64-cpython-312\\lxml\n",
      "      copying src\\lxml\\cssselect.py -> build\\lib.win-amd64-cpython-312\\lxml\n",
      "      copying src\\lxml\\doctestcompare.py -> build\\lib.win-amd64-cpython-312\\lxml\n",
      "      copying src\\lxml\\ElementInclude.py -> build\\lib.win-amd64-cpython-312\\lxml\n",
      "      copying src\\lxml\\pyclasslookup.py -> build\\lib.win-amd64-cpython-312\\lxml\n",
      "      copying src\\lxml\\sax.py -> build\\lib.win-amd64-cpython-312\\lxml\n",
      "      copying src\\lxml\\usedoctest.py -> build\\lib.win-amd64-cpython-312\\lxml\n",
      "      copying src\\lxml\\_elementpath.py -> build\\lib.win-amd64-cpython-312\\lxml\n",
      "      copying src\\lxml\\__init__.py -> build\\lib.win-amd64-cpython-312\\lxml\n",
      "      creating build\\lib.win-amd64-cpython-312\\lxml\\includes\n",
      "      copying src\\lxml\\includes\\__init__.py -> build\\lib.win-amd64-cpython-312\\lxml\\includes\n",
      "      creating build\\lib.win-amd64-cpython-312\\lxml\\html\n",
      "      copying src\\lxml\\html\\builder.py -> build\\lib.win-amd64-cpython-312\\lxml\\html\n",
      "      copying src\\lxml\\html\\clean.py -> build\\lib.win-amd64-cpython-312\\lxml\\html\n",
      "      copying src\\lxml\\html\\defs.py -> build\\lib.win-amd64-cpython-312\\lxml\\html\n",
      "      copying src\\lxml\\html\\diff.py -> build\\lib.win-amd64-cpython-312\\lxml\\html\n",
      "      copying src\\lxml\\html\\ElementSoup.py -> build\\lib.win-amd64-cpython-312\\lxml\\html\n",
      "      copying src\\lxml\\html\\formfill.py -> build\\lib.win-amd64-cpython-312\\lxml\\html\n",
      "      copying src\\lxml\\html\\html5parser.py -> build\\lib.win-amd64-cpython-312\\lxml\\html\n",
      "      copying src\\lxml\\html\\soupparser.py -> build\\lib.win-amd64-cpython-312\\lxml\\html\n",
      "      copying src\\lxml\\html\\usedoctest.py -> build\\lib.win-amd64-cpython-312\\lxml\\html\n",
      "      copying src\\lxml\\html\\_diffcommand.py -> build\\lib.win-amd64-cpython-312\\lxml\\html\n",
      "      copying src\\lxml\\html\\_html5builder.py -> build\\lib.win-amd64-cpython-312\\lxml\\html\n",
      "      copying src\\lxml\\html\\_setmixin.py -> build\\lib.win-amd64-cpython-312\\lxml\\html\n",
      "      copying src\\lxml\\html\\__init__.py -> build\\lib.win-amd64-cpython-312\\lxml\\html\n",
      "      creating build\\lib.win-amd64-cpython-312\\lxml\\isoschematron\n",
      "      copying src\\lxml\\isoschematron\\__init__.py -> build\\lib.win-amd64-cpython-312\\lxml\\isoschematron\n",
      "      copying src\\lxml\\etree.h -> build\\lib.win-amd64-cpython-312\\lxml\n",
      "      copying src\\lxml\\etree_api.h -> build\\lib.win-amd64-cpython-312\\lxml\n",
      "      copying src\\lxml\\lxml.etree.h -> build\\lib.win-amd64-cpython-312\\lxml\n",
      "      copying src\\lxml\\lxml.etree_api.h -> build\\lib.win-amd64-cpython-312\\lxml\n",
      "      copying src\\lxml\\includes\\c14n.pxd -> build\\lib.win-amd64-cpython-312\\lxml\\includes\n",
      "      copying src\\lxml\\includes\\config.pxd -> build\\lib.win-amd64-cpython-312\\lxml\\includes\n",
      "      copying src\\lxml\\includes\\dtdvalid.pxd -> build\\lib.win-amd64-cpython-312\\lxml\\includes\n",
      "      copying src\\lxml\\includes\\etreepublic.pxd -> build\\lib.win-amd64-cpython-312\\lxml\\includes\n",
      "      copying src\\lxml\\includes\\htmlparser.pxd -> build\\lib.win-amd64-cpython-312\\lxml\\includes\n",
      "      copying src\\lxml\\includes\\relaxng.pxd -> build\\lib.win-amd64-cpython-312\\lxml\\includes\n",
      "      copying src\\lxml\\includes\\schematron.pxd -> build\\lib.win-amd64-cpython-312\\lxml\\includes\n",
      "      copying src\\lxml\\includes\\tree.pxd -> build\\lib.win-amd64-cpython-312\\lxml\\includes\n",
      "      copying src\\lxml\\includes\\uri.pxd -> build\\lib.win-amd64-cpython-312\\lxml\\includes\n",
      "      copying src\\lxml\\includes\\xinclude.pxd -> build\\lib.win-amd64-cpython-312\\lxml\\includes\n",
      "      copying src\\lxml\\includes\\xmlerror.pxd -> build\\lib.win-amd64-cpython-312\\lxml\\includes\n",
      "      copying src\\lxml\\includes\\xmlparser.pxd -> build\\lib.win-amd64-cpython-312\\lxml\\includes\n",
      "      copying src\\lxml\\includes\\xmlschema.pxd -> build\\lib.win-amd64-cpython-312\\lxml\\includes\n",
      "      copying src\\lxml\\includes\\xpath.pxd -> build\\lib.win-amd64-cpython-312\\lxml\\includes\n",
      "      copying src\\lxml\\includes\\xslt.pxd -> build\\lib.win-amd64-cpython-312\\lxml\\includes\n",
      "      copying src\\lxml\\includes\\__init__.pxd -> build\\lib.win-amd64-cpython-312\\lxml\\includes\n",
      "      copying src\\lxml\\includes\\etree_defs.h -> build\\lib.win-amd64-cpython-312\\lxml\\includes\n",
      "      copying src\\lxml\\includes\\lxml-version.h -> build\\lib.win-amd64-cpython-312\\lxml\\includes\n",
      "      creating build\\lib.win-amd64-cpython-312\\lxml\\isoschematron\\resources\n",
      "      creating build\\lib.win-amd64-cpython-312\\lxml\\isoschematron\\resources\\rng\n",
      "      copying src\\lxml\\isoschematron\\resources\\rng\\iso-schematron.rng -> build\\lib.win-amd64-cpython-312\\lxml\\isoschematron\\resources\\rng\n",
      "      creating build\\lib.win-amd64-cpython-312\\lxml\\isoschematron\\resources\\xsl\n",
      "      copying src\\lxml\\isoschematron\\resources\\xsl\\RNG2Schtrn.xsl -> build\\lib.win-amd64-cpython-312\\lxml\\isoschematron\\resources\\xsl\n",
      "      copying src\\lxml\\isoschematron\\resources\\xsl\\XSD2Schtrn.xsl -> build\\lib.win-amd64-cpython-312\\lxml\\isoschematron\\resources\\xsl\n",
      "      creating build\\lib.win-amd64-cpython-312\\lxml\\isoschematron\\resources\\xsl\\iso-schematron-xslt1\n",
      "      copying src\\lxml\\isoschematron\\resources\\xsl\\iso-schematron-xslt1\\iso_abstract_expand.xsl -> build\\lib.win-amd64-cpython-312\\lxml\\isoschematron\\resources\\xsl\\iso-schematron-xslt1\n",
      "      copying src\\lxml\\isoschematron\\resources\\xsl\\iso-schematron-xslt1\\iso_dsdl_include.xsl -> build\\lib.win-amd64-cpython-312\\lxml\\isoschematron\\resources\\xsl\\iso-schematron-xslt1\n",
      "      copying src\\lxml\\isoschematron\\resources\\xsl\\iso-schematron-xslt1\\iso_schematron_message.xsl -> build\\lib.win-amd64-cpython-312\\lxml\\isoschematron\\resources\\xsl\\iso-schematron-xslt1\n",
      "      copying src\\lxml\\isoschematron\\resources\\xsl\\iso-schematron-xslt1\\iso_schematron_skeleton_for_xslt1.xsl -> build\\lib.win-amd64-cpython-312\\lxml\\isoschematron\\resources\\xsl\\iso-schematron-xslt1\n",
      "      copying src\\lxml\\isoschematron\\resources\\xsl\\iso-schematron-xslt1\\iso_svrl_for_xslt1.xsl -> build\\lib.win-amd64-cpython-312\\lxml\\isoschematron\\resources\\xsl\\iso-schematron-xslt1\n",
      "      copying src\\lxml\\isoschematron\\resources\\xsl\\iso-schematron-xslt1\\readme.txt -> build\\lib.win-amd64-cpython-312\\lxml\\isoschematron\\resources\\xsl\\iso-schematron-xslt1\n",
      "      running build_ext\n",
      "      building 'lxml.etree' extension\n",
      "      creating build\\temp.win-amd64-cpython-312\n",
      "      creating build\\temp.win-amd64-cpython-312\\Release\n",
      "      creating build\\temp.win-amd64-cpython-312\\Release\\src\n",
      "      creating build\\temp.win-amd64-cpython-312\\Release\\src\\lxml\n",
      "      cl.exe /c /nologo /O2 /W3 /GL /DNDEBUG /MD -DCYTHON_CLINE_IN_TRACEBACK=0 -Isrc -Isrc\\lxml\\includes -ID:\\ProgramData\\anaconda3\\envs\\myenv\\include -ID:\\ProgramData\\anaconda3\\envs\\myenv\\Include \"-IC:\\Program Files (x86)\\Microsoft Visual Studio\\2019\\Professional\\VC\\Tools\\MSVC\\14.29.30133\\include\" \"-IC:\\Program Files (x86)\\Windows Kits\\NETFXSDK\\4.8\\include\\um\" /Tcsrc\\lxml\\etree.c /Fobuild\\temp.win-amd64-cpython-312\\Release\\src\\lxml\\etree.obj -w\n",
      "      Compile failed: command 'cl.exe' failed: None\n",
      "      creating Users\n",
      "      creating Users\\BKRK\n",
      "      creating Users\\BKRK\\AppData\n",
      "      creating Users\\BKRK\\AppData\\Local\n",
      "      creating Users\\BKRK\\AppData\\Local\\Temp\n",
      "      cl.exe /c /nologo /O2 /W3 /GL /DNDEBUG /MD -I/usr/include/libxml2 \"-IC:\\Program Files (x86)\\Microsoft Visual Studio\\2019\\Professional\\VC\\Tools\\MSVC\\14.29.30133\\include\" \"-IC:\\Program Files (x86)\\Windows Kits\\NETFXSDK\\4.8\\include\\um\" /TcC:\\Users\\BKRK\\AppData\\Local\\Temp\\xmlXPathInitvmutabtx.c /FoUsers\\BKRK\\AppData\\Local\\Temp\\xmlXPathInitvmutabtx.obj\n",
      "      *********************************************************************************\n",
      "      Could not find function xmlCheckVersion in library libxml2. Is libxml2 installed?\n",
      "      *********************************************************************************\n",
      "      error: command 'cl.exe' failed: None\n",
      "      [end of output]\n",
      "  \n",
      "  note: This error originates from a subprocess, and is likely not a problem with pip.\n",
      "  ERROR: Failed building wheel for lxml\n",
      "ERROR: Failed to build installable wheels for some pyproject.toml based projects (lxml)\n",
      "'mamba' is not recognized as an internal or external command,\n",
      "operable program or batch file.\n"
     ]
    },
    {
     "name": "stdout",
     "output_type": "stream",
     "text": [
      "Requirement already satisfied: pandas in d:\\programdata\\anaconda3\\envs\\myenv\\lib\\site-packages (2.2.3)\n",
      "Requirement already satisfied: numpy>=1.26.0 in d:\\programdata\\anaconda3\\envs\\myenv\\lib\\site-packages (from pandas) (1.26.4)\n",
      "Requirement already satisfied: python-dateutil>=2.8.2 in d:\\programdata\\anaconda3\\envs\\myenv\\lib\\site-packages (from pandas) (2.9.0.post0)\n",
      "Requirement already satisfied: pytz>=2020.1 in d:\\programdata\\anaconda3\\envs\\myenv\\lib\\site-packages (from pandas) (2024.1)\n",
      "Requirement already satisfied: tzdata>=2022.7 in d:\\programdata\\anaconda3\\envs\\myenv\\lib\\site-packages (from pandas) (2023.3)\n",
      "Requirement already satisfied: six>=1.5 in d:\\programdata\\anaconda3\\envs\\myenv\\lib\\site-packages (from python-dateutil>=2.8.2->pandas) (1.16.0)\n"
     ]
    }
   ],
   "source": [
    "!mamba install bs4==4.10.0 -y\n",
    "!pip install lxml==4.6.4\n",
    "!mamba install html5lib==1.1 -y\n",
    "!pip install pandas\n",
    "# !pip install requests==2.26.0"
   ]
  },
  {
   "cell_type": "markdown",
   "id": "a7d8bce4-5cad-4db5-bd22-f24dabe4a1aa",
   "metadata": {},
   "source": [
    "Import the required modules and functions\n"
   ]
  },
  {
   "cell_type": "code",
   "execution_count": 7,
   "id": "7f4ba06c-317d-40dd-bb0e-d7693ffb7f81",
   "metadata": {},
   "outputs": [
    {
     "name": "stdout",
     "output_type": "stream",
     "text": [
      "Requirement already satisfied: beautifulsoup4 in d:\\programdata\\anaconda3\\envs\\myenv\\lib\\site-packages (4.13.3)\n",
      "Requirement already satisfied: soupsieve>1.2 in d:\\programdata\\anaconda3\\envs\\myenv\\lib\\site-packages (from beautifulsoup4) (2.6)\n",
      "Requirement already satisfied: typing-extensions>=4.0.0 in d:\\programdata\\anaconda3\\envs\\myenv\\lib\\site-packages (from beautifulsoup4) (4.12.2)\n",
      "Note: you may need to restart the kernel to use updated packages.\n"
     ]
    }
   ],
   "source": [
    "pip install --upgrade beautifulsoup4\n"
   ]
  },
  {
   "cell_type": "code",
   "execution_count": 8,
   "id": "a4d34cb4-2c0b-4531-9cb3-9f70ec46ac47",
   "metadata": {},
   "outputs": [
    {
     "name": "stdout",
     "output_type": "stream",
     "text": [
      "Requirement already satisfied: pandas in d:\\programdata\\anaconda3\\envs\\myenv\\lib\\site-packages (2.2.3)\n",
      "Requirement already satisfied: numpy>=1.26.0 in d:\\programdata\\anaconda3\\envs\\myenv\\lib\\site-packages (from pandas) (1.26.4)\n",
      "Requirement already satisfied: python-dateutil>=2.8.2 in d:\\programdata\\anaconda3\\envs\\myenv\\lib\\site-packages (from pandas) (2.9.0.post0)\n",
      "Requirement already satisfied: pytz>=2020.1 in d:\\programdata\\anaconda3\\envs\\myenv\\lib\\site-packages (from pandas) (2024.1)\n",
      "Requirement already satisfied: tzdata>=2022.7 in d:\\programdata\\anaconda3\\envs\\myenv\\lib\\site-packages (from pandas) (2023.3)\n",
      "Requirement already satisfied: six>=1.5 in d:\\programdata\\anaconda3\\envs\\myenv\\lib\\site-packages (from python-dateutil>=2.8.2->pandas) (1.16.0)\n",
      "Note: you may need to restart the kernel to use updated packages.\n"
     ]
    }
   ],
   "source": [
    "pip install --upgrade pandas"
   ]
  },
  {
   "cell_type": "markdown",
   "id": "464e86eb-e04e-4430-8d41-f7a885baeb92",
   "metadata": {},
   "source": [
    "suppress all warnings\n"
   ]
  },
  {
   "cell_type": "code",
   "execution_count": 9,
   "id": "b494acaf-38c7-4c11-867d-0f4af90f18f5",
   "metadata": {},
   "outputs": [],
   "source": [
    "import warnings\n",
    "warnings.simplefilter(\"ignore\")"
   ]
  },
  {
   "cell_type": "code",
   "execution_count": 10,
   "id": "9fc490e8-4ec2-41bd-9419-4a83a93ae5c3",
   "metadata": {},
   "outputs": [],
   "source": [
    "from bs4 import BeautifulSoup # this module helps in web scrapping.\n",
    "import requests  # this module helps us to download a web page"
   ]
  },
  {
   "cell_type": "markdown",
   "id": "308cd613-e340-47bc-a257-4dae4a517b54",
   "metadata": {},
   "source": [
    "<h2 id=\"BSO\">Beautiful Soup Objects</h2>\n"
   ]
  },
  {
   "cell_type": "markdown",
   "id": "febb38bf-9ff0-46c3-be5c-bf014420dba1",
   "metadata": {},
   "source": [
    "Beautiful Soup is a Python library for pulling data out of HTML and XML files, we will focus on HTML files. This is accomplished by representing the HTML as a set of objects with methods used to parse the HTML.  We can navigate the HTML as a tree and/or filter out what we are looking for.\n",
    "\n",
    "Consider the following HTML:\n"
   ]
  },
  {
   "cell_type": "code",
   "execution_count": null,
   "id": "716e6134-9c43-4e90-9880-a882b176707f",
   "metadata": {},
   "outputs": [],
   "source": [
    "%%html\n",
    "<!DOCTYPE html>\n",
    "<html>\n",
    "<head>\n",
    "<title>Page Title</title>\n",
    "</head>\n",
    "<body>\n",
    "<h3><b id='boldest'>Lebron James</b></h3>\n",
    "<p> Salary: $ 92,000,000 </p>\n",
    "<h3> Stephen Curry</h3>\n",
    "<p> Salary: $85,000, 000 </p>\n",
    "<h3> Kevin Durant </h3>\n",
    "<p> Salary: $73,200, 000</p>\n",
    "</body>\n",
    "</html>"
   ]
  },
  {
   "cell_type": "markdown",
   "id": "fc720757-91bc-4019-bb2e-3f87ec764958",
   "metadata": {},
   "source": [
    "We can store it as a string in the variable HTML:\n"
   ]
  },
  {
   "cell_type": "code",
   "execution_count": 11,
   "id": "6a652d95-0ef5-4add-a8f6-517796f8b761",
   "metadata": {},
   "outputs": [],
   "source": [
    "html=\"<!DOCTYPE html><html><head><title>Page Title</title></head><body><h3><b id='boldest'>Lebron James</b></h3><p> Salary: $ 92,000,000 </p><h3> Stephen Curry</h3><p> Salary: $85,000, 000 </p><h3> Kevin Durant </h3><p> Salary: $73,200, 000</p></body></html>\""
   ]
  },
  {
   "cell_type": "markdown",
   "id": "62629013-1ba0-4168-ba70-b8969c568b2e",
   "metadata": {},
   "source": [
    "To parse a document, pass it into the <code>BeautifulSoup</code> constructor, the <code>BeautifulSoup</code> object, which represents the document as a nested data structure:\n"
   ]
  },
  {
   "cell_type": "code",
   "execution_count": 12,
   "id": "24f8ee9e-3a63-4b5e-85c0-4b2dc7ba2b61",
   "metadata": {},
   "outputs": [],
   "source": [
    "soup = BeautifulSoup(html, \"html.parser\")"
   ]
  },
  {
   "cell_type": "markdown",
   "id": "c3ef634b-3fd4-4bdd-bf54-0a245eed3d0a",
   "metadata": {},
   "source": [
    "First, the document is converted to Unicode, (similar to ASCII),  and HTML entities are converted to Unicode characters. Beautiful Soup transforms a complex HTML document into a complex tree of Python objects. The <code>BeautifulSoup</code> object can create other types of objects. In this lab, we will cover <code>BeautifulSoup</code> and <code>Tag</code> objects that for the purposes of this lab are identical, and <code>NavigableString</code> objects.\n"
   ]
  },
  {
   "cell_type": "markdown",
   "id": "c03efb01-dcac-4d4f-866e-1813e207a6b3",
   "metadata": {},
   "source": [
    "We can use the method <code>prettify()</code> to display the HTML in the nested structure:\n"
   ]
  },
  {
   "cell_type": "code",
   "execution_count": 13,
   "id": "2efc6c15-6981-42e9-abdd-b6fe2dcb9145",
   "metadata": {},
   "outputs": [
    {
     "name": "stdout",
     "output_type": "stream",
     "text": [
      "<!DOCTYPE html>\n",
      "<html>\n",
      " <head>\n",
      "  <title>\n",
      "   Page Title\n",
      "  </title>\n",
      " </head>\n",
      " <body>\n",
      "  <h3>\n",
      "   <b id=\"boldest\">\n",
      "    Lebron James\n",
      "   </b>\n",
      "  </h3>\n",
      "  <p>\n",
      "   Salary: $ 92,000,000\n",
      "  </p>\n",
      "  <h3>\n",
      "   Stephen Curry\n",
      "  </h3>\n",
      "  <p>\n",
      "   Salary: $85,000, 000\n",
      "  </p>\n",
      "  <h3>\n",
      "   Kevin Durant\n",
      "  </h3>\n",
      "  <p>\n",
      "   Salary: $73,200, 000\n",
      "  </p>\n",
      " </body>\n",
      "</html>\n",
      "\n"
     ]
    }
   ],
   "source": [
    "print(soup.prettify())"
   ]
  },
  {
   "cell_type": "markdown",
   "id": "b57173ce-17d1-4f77-9b10-e35151df27c3",
   "metadata": {},
   "source": [
    "## Tags\n"
   ]
  },
  {
   "cell_type": "markdown",
   "id": "ab9ca95f-34d9-42fb-90d5-e49784856aca",
   "metadata": {},
   "source": [
    "Let's say we want the  title of the page and the name of the top paid player we can use the <code>Tag</code>. The <code>Tag</code> object corresponds to an HTML tag in the original document, for example, the tag title.\n"
   ]
  },
  {
   "cell_type": "code",
   "execution_count": 14,
   "id": "6cadb093-cf3d-484a-ab72-836b306d97e1",
   "metadata": {},
   "outputs": [
    {
     "name": "stdout",
     "output_type": "stream",
     "text": [
      "tag object: <title>Page Title</title>\n"
     ]
    }
   ],
   "source": [
    "tag_object=soup.title\n",
    "print(\"tag object:\",tag_object)"
   ]
  },
  {
   "cell_type": "markdown",
   "id": "16e70177-db82-423c-b2d7-7a33374889c7",
   "metadata": {},
   "source": [
    "we can see the tag type <code>bs4.element.Tag</code>\n"
   ]
  },
  {
   "cell_type": "code",
   "execution_count": 15,
   "id": "a820fd1d-3f7f-4b17-9701-84d0e54a6740",
   "metadata": {},
   "outputs": [
    {
     "name": "stdout",
     "output_type": "stream",
     "text": [
      "tag object type: <class 'bs4.element.Tag'>\n"
     ]
    }
   ],
   "source": [
    "print(\"tag object type:\",type(tag_object))"
   ]
  },
  {
   "cell_type": "markdown",
   "id": "c1cc31d4-697b-4fe2-ba8c-a8a221dc24fe",
   "metadata": {},
   "source": [
    "If there is more than one <code>Tag</code>  with the same name, the first element with that <code>Tag</code> name is called, this corresponds to the most paid player:\n"
   ]
  },
  {
   "cell_type": "code",
   "execution_count": 16,
   "id": "9b6b382c-4571-4634-8911-909d0228c11a",
   "metadata": {},
   "outputs": [
    {
     "data": {
      "text/plain": [
       "<h3><b id=\"boldest\">Lebron James</b></h3>"
      ]
     },
     "execution_count": 16,
     "metadata": {},
     "output_type": "execute_result"
    }
   ],
   "source": [
    "tag_object=soup.h3\n",
    "tag_object"
   ]
  },
  {
   "cell_type": "markdown",
   "id": "024e08cb-7e20-48e4-a1fb-a39cae663c92",
   "metadata": {},
   "source": [
    "Enclosed in the bold attribute <code>b</code>, it helps to use the tree representation. We can navigate down the tree using the child attribute to get the name.\n"
   ]
  },
  {
   "cell_type": "markdown",
   "id": "5378fb2f-4357-4465-9fe6-39e4ddcf7b75",
   "metadata": {},
   "source": [
    "### Children, Parents, and Siblings\n"
   ]
  },
  {
   "cell_type": "markdown",
   "id": "39bff72a-67fc-41a5-b9db-3196d0794a78",
   "metadata": {},
   "source": [
    "As stated above the <code>Tag</code> object is a tree of objects we can access the child of the tag or navigate down the branch as follows:\n"
   ]
  },
  {
   "cell_type": "code",
   "execution_count": 17,
   "id": "228ac84b-d6bc-4e40-862d-f7a9188c5ec2",
   "metadata": {},
   "outputs": [
    {
     "data": {
      "text/plain": [
       "<b id=\"boldest\">Lebron James</b>"
      ]
     },
     "execution_count": 17,
     "metadata": {},
     "output_type": "execute_result"
    }
   ],
   "source": [
    "tag_child =tag_object.b\n",
    "tag_child"
   ]
  },
  {
   "cell_type": "markdown",
   "id": "7ce14490-ffcd-45d3-89f9-09316e24d80f",
   "metadata": {},
   "source": [
    "You can access the parent with the <code> parent</code>\n"
   ]
  },
  {
   "cell_type": "code",
   "execution_count": 18,
   "id": "9826a6c7-8b9e-41ce-9142-c940932ef89c",
   "metadata": {},
   "outputs": [
    {
     "data": {
      "text/plain": [
       "<h3><b id=\"boldest\">Lebron James</b></h3>"
      ]
     },
     "execution_count": 18,
     "metadata": {},
     "output_type": "execute_result"
    }
   ],
   "source": [
    "parent_tag=tag_child.parent\n",
    "parent_tag"
   ]
  },
  {
   "cell_type": "markdown",
   "id": "d3961809-f0b2-472b-a117-1a0daeeb0df2",
   "metadata": {},
   "source": [
    "this is identical to\n"
   ]
  },
  {
   "cell_type": "code",
   "execution_count": 19,
   "id": "5f597306-7d52-4527-9f4a-a83f3228f882",
   "metadata": {},
   "outputs": [
    {
     "data": {
      "text/plain": [
       "<h3><b id=\"boldest\">Lebron James</b></h3>"
      ]
     },
     "execution_count": 19,
     "metadata": {},
     "output_type": "execute_result"
    }
   ],
   "source": [
    "tag_object"
   ]
  },
  {
   "cell_type": "markdown",
   "id": "95e3e49d-ded7-42a6-9737-f0ca5934e5f3",
   "metadata": {},
   "source": [
    "<code>tag_object</code> parent is the <code>body</code> element.\n"
   ]
  },
  {
   "cell_type": "code",
   "execution_count": 20,
   "id": "ea53771f-1133-4811-a2e8-dd6abe49fa07",
   "metadata": {},
   "outputs": [
    {
     "data": {
      "text/plain": [
       "<body><h3><b id=\"boldest\">Lebron James</b></h3><p> Salary: $ 92,000,000 </p><h3> Stephen Curry</h3><p> Salary: $85,000, 000 </p><h3> Kevin Durant </h3><p> Salary: $73,200, 000</p></body>"
      ]
     },
     "execution_count": 20,
     "metadata": {},
     "output_type": "execute_result"
    }
   ],
   "source": [
    "tag_object.parent"
   ]
  },
  {
   "cell_type": "markdown",
   "id": "1c9a894e-04db-439e-99b4-98fd2023127b",
   "metadata": {},
   "source": [
    "<code>tag_object</code> sibling is the <code>paragraph</code> element\n"
   ]
  },
  {
   "cell_type": "code",
   "execution_count": 21,
   "id": "a9fb772a-86ae-4db1-a015-46c61a47702c",
   "metadata": {},
   "outputs": [
    {
     "data": {
      "text/plain": [
       "<p> Salary: $ 92,000,000 </p>"
      ]
     },
     "execution_count": 21,
     "metadata": {},
     "output_type": "execute_result"
    }
   ],
   "source": [
    "sibling_1=tag_object.next_sibling\n",
    "sibling_1"
   ]
  },
  {
   "cell_type": "markdown",
   "id": "1a1da724-cd05-4fa1-8255-ad0a4570a999",
   "metadata": {},
   "source": [
    "`sibling_2` is the `header` element which is also a sibling of both `sibling_1` and `tag_object`\n"
   ]
  },
  {
   "cell_type": "code",
   "execution_count": 22,
   "id": "71a04c0e-2e3d-4612-91a8-17de0c30d28c",
   "metadata": {},
   "outputs": [
    {
     "data": {
      "text/plain": [
       "<h3> Stephen Curry</h3>"
      ]
     },
     "execution_count": 22,
     "metadata": {},
     "output_type": "execute_result"
    }
   ],
   "source": [
    "sibling_2=sibling_1.next_sibling\n",
    "sibling_2"
   ]
  },
  {
   "cell_type": "markdown",
   "id": "505d5d58-c625-4154-9a48-d25d2f80a635",
   "metadata": {},
   "source": [
    "<h3 id=\"first_question\">Exercise: <code>next_sibling</code></h3>\n"
   ]
  },
  {
   "cell_type": "markdown",
   "id": "f6d51598-5d6e-433c-a532-4150ee092d94",
   "metadata": {},
   "source": [
    "Using the object <code>sibling\\_2</code> and the property <code>next_sibling</code> to find the salary of Stephen Curry:\n"
   ]
  },
  {
   "cell_type": "code",
   "execution_count": 23,
   "id": "5c6a7e1d-06ca-4037-9bc2-6e60628a07e5",
   "metadata": {},
   "outputs": [
    {
     "data": {
      "text/plain": [
       "<p> Salary: $85,000, 000 </p>"
      ]
     },
     "execution_count": 23,
     "metadata": {},
     "output_type": "execute_result"
    }
   ],
   "source": [
    "sibling_3 = sibling_2.next_sibling\n",
    "sibling_3"
   ]
  },
  {
   "cell_type": "markdown",
   "id": "39c5a814-9020-480a-b23a-4d11a5c7d362",
   "metadata": {},
   "source": [
    "<details><summary>Click here for the solution</summary>\n",
    "\n",
    "```\n",
    "sibling_2.next_sibling\n",
    "\n",
    "```\n",
    "\n",
    "</details>\n"
   ]
  },
  {
   "cell_type": "markdown",
   "id": "60746eee-b49f-42c0-bbf8-92890b929f35",
   "metadata": {},
   "source": [
    "### HTML Attributes\n"
   ]
  },
  {
   "cell_type": "markdown",
   "id": "4cbb740c-a1a7-4a5a-8e27-7e00efbe233e",
   "metadata": {},
   "source": [
    "If the tag has attributes, the tag <code>id=\"boldest\"</code> has an attribute <code>id</code> whose value is <code>boldest</code>. You can access a tag’s attributes by treating the tag like a dictionary:\n"
   ]
  },
  {
   "cell_type": "code",
   "execution_count": 24,
   "id": "700491b6-381b-4db3-b225-d8fed9496ca5",
   "metadata": {},
   "outputs": [
    {
     "data": {
      "text/plain": [
       "'boldest'"
      ]
     },
     "execution_count": 24,
     "metadata": {},
     "output_type": "execute_result"
    }
   ],
   "source": [
    "tag_child['id']"
   ]
  },
  {
   "cell_type": "markdown",
   "id": "1dd20399-3dfa-4a0b-8135-05291a1f0f2f",
   "metadata": {},
   "source": [
    "You can access that dictionary directly as <code>attrs</code>:\n"
   ]
  },
  {
   "cell_type": "code",
   "execution_count": 25,
   "id": "e25cca5c-4345-4e8b-8390-798f6d621cb4",
   "metadata": {},
   "outputs": [
    {
     "data": {
      "text/plain": [
       "{'id': 'boldest'}"
      ]
     },
     "execution_count": 25,
     "metadata": {},
     "output_type": "execute_result"
    }
   ],
   "source": [
    "tag_child.attrs"
   ]
  },
  {
   "cell_type": "markdown",
   "id": "2057e829-0667-4cdc-8fae-ab547096012f",
   "metadata": {},
   "source": [
    "You can also work with Multi-valued attribute check out <a href=\"https://www.crummy.com/software/BeautifulSoup/bs4/doc/?utm_medium=Exinfluencer&utm_source=Exinfluencer&utm_content=000026UJ&utm_term=10006555&utm_id=NA-SkillsNetwork-Channel-SkillsNetworkCoursesIBMDeveloperSkillsNetworkPY0220ENSkillsNetwork23455606-2021-01-01\">\\[1]</a> for more.\n"
   ]
  },
  {
   "cell_type": "markdown",
   "id": "bf8c6fb3-f142-4546-8bc1-d5599e0f7b69",
   "metadata": {},
   "source": [
    "We can also obtain the content if the attribute of the <code>tag</code> using the Python <code>get()</code> method.\n"
   ]
  },
  {
   "cell_type": "code",
   "execution_count": 26,
   "id": "192b9dcf-b8db-4aee-9763-e7526077ef0b",
   "metadata": {},
   "outputs": [
    {
     "data": {
      "text/plain": [
       "'boldest'"
      ]
     },
     "execution_count": 26,
     "metadata": {},
     "output_type": "execute_result"
    }
   ],
   "source": [
    "tag_child.get('id')"
   ]
  },
  {
   "cell_type": "markdown",
   "id": "bf48049b-360c-413b-b0e8-25f5cf372b48",
   "metadata": {},
   "source": [
    "### Navigable String\n"
   ]
  },
  {
   "cell_type": "markdown",
   "id": "b336f775-962c-43cf-9d26-26f4684cae48",
   "metadata": {},
   "source": [
    "A string corresponds to a bit of text or content within a tag. Beautiful Soup uses the <code>NavigableString</code> class to contain this text. In our HTML we can obtain the name of the first player by extracting the sting of the <code>Tag</code> object <code>tag_child</code> as follows:\n"
   ]
  },
  {
   "cell_type": "code",
   "execution_count": 27,
   "id": "6ac07002-9876-4e20-acfb-b21c9431fd89",
   "metadata": {},
   "outputs": [
    {
     "data": {
      "text/plain": [
       "'Lebron James'"
      ]
     },
     "execution_count": 27,
     "metadata": {},
     "output_type": "execute_result"
    }
   ],
   "source": [
    "tag_string=tag_child.string\n",
    "tag_string"
   ]
  },
  {
   "cell_type": "markdown",
   "id": "46bd9124-73ff-4bdc-9bd5-fcf9446c4616",
   "metadata": {},
   "source": [
    "we can verify the type is Navigable String\n"
   ]
  },
  {
   "cell_type": "code",
   "execution_count": 28,
   "id": "365da893-836a-41fc-9222-3bbd0e90c7e4",
   "metadata": {},
   "outputs": [
    {
     "data": {
      "text/plain": [
       "bs4.element.NavigableString"
      ]
     },
     "execution_count": 28,
     "metadata": {},
     "output_type": "execute_result"
    }
   ],
   "source": [
    "type(tag_string)"
   ]
  },
  {
   "cell_type": "markdown",
   "id": "d3d6c8c9-2b93-46ec-abdb-cfc5bf6bc6aa",
   "metadata": {},
   "source": [
    "A NavigableString is just like a Python string or Unicode string, to be more precise. The main difference is that it also supports some  <code>BeautifulSoup</code> features. We can covert it to sting object in Python:\n"
   ]
  },
  {
   "cell_type": "code",
   "execution_count": 29,
   "id": "77e1f122-4a6e-4753-a1c6-9c4f4d4a975a",
   "metadata": {},
   "outputs": [
    {
     "data": {
      "text/plain": [
       "'Lebron James'"
      ]
     },
     "execution_count": 29,
     "metadata": {},
     "output_type": "execute_result"
    }
   ],
   "source": [
    "unicode_string = str(tag_string)\n",
    "unicode_string"
   ]
  },
  {
   "cell_type": "markdown",
   "id": "984c6671-3c61-4be8-addb-1bfafa30385e",
   "metadata": {},
   "source": [
    "<h2 id=\"filter\">Filter</h2>\n"
   ]
  },
  {
   "cell_type": "markdown",
   "id": "5c8d20db-4b21-4144-af88-848b424ba343",
   "metadata": {},
   "source": [
    "Filters allow you to find complex patterns, the simplest filter is a string. In this section we will pass a string to a different filter method and Beautiful Soup will perform a match against that exact string.  Consider the following HTML of rocket launchs:\n"
   ]
  },
  {
   "cell_type": "code",
   "execution_count": 26,
   "id": "6d924633-c8fa-4aa4-b4a2-f6c5228b87a0",
   "metadata": {},
   "outputs": [
    {
     "data": {
      "text/html": [
       "<table>\n",
       "  <tr>\n",
       "    <td id='flight' >Flight No</td>\n",
       "    <td>Launch site</td> \n",
       "    <td>Payload mass</td>\n",
       "   </tr>\n",
       "  <tr> \n",
       "    <td>1</td>\n",
       "    <td><a href='https://en.wikipedia.org/wiki/Florida'>Florida</a></td>\n",
       "    <td>300 kg</td>\n",
       "  </tr>\n",
       "  <tr>\n",
       "    <td>2</td>\n",
       "    <td><a href='https://en.wikipedia.org/wiki/Texas'>Texas</a></td>\n",
       "    <td>94 kg</td>\n",
       "  </tr>\n",
       "  <tr>\n",
       "    <td>3</td>\n",
       "    <td><a href='https://en.wikipedia.org/wiki/Florida'>Florida</a> </td>\n",
       "    <td>80 kg</td>\n",
       "  </tr>\n",
       "</table>\n"
      ],
      "text/plain": [
       "<IPython.core.display.HTML object>"
      ]
     },
     "metadata": {},
     "output_type": "display_data"
    }
   ],
   "source": [
    "%%html\n",
    "<table>\n",
    "  <tr>\n",
    "    <td id='flight' >Flight No</td>\n",
    "    <td>Launch site</td> \n",
    "    <td>Payload mass</td>\n",
    "   </tr>\n",
    "  <tr> \n",
    "    <td>1</td>\n",
    "    <td><a href='https://en.wikipedia.org/wiki/Florida'>Florida</a></td>\n",
    "    <td>300 kg</td>\n",
    "  </tr>\n",
    "  <tr>\n",
    "    <td>2</td>\n",
    "    <td><a href='https://en.wikipedia.org/wiki/Texas'>Texas</a></td>\n",
    "    <td>94 kg</td>\n",
    "  </tr>\n",
    "  <tr>\n",
    "    <td>3</td>\n",
    "    <td><a href='https://en.wikipedia.org/wiki/Florida'>Florida</a> </td>\n",
    "    <td>80 kg</td>\n",
    "  </tr>\n",
    "</table>"
   ]
  },
  {
   "cell_type": "markdown",
   "id": "5299f55e-c5de-4ad5-b1cb-992255550115",
   "metadata": {},
   "source": [
    "We can store it as a string in the variable <code>table</code>:\n"
   ]
  },
  {
   "cell_type": "code",
   "execution_count": 30,
   "id": "0e6f457d-c4f5-4767-bec2-3f9668dd1793",
   "metadata": {},
   "outputs": [],
   "source": [
    "table=\"<table><tr><td id='flight' >Flight No</td><td>Launch site</td><td>Payload mass</td></tr><tr><td>1</td><td><a href='https://en.wikipedia.org/wiki/Florida'>Florida</a></td><td>300 kg</td></tr><tr><td>2</td><td><a href='https://en.wikipedia.org/wiki/Texas'>Texas</a></td><td>94 kg</td></tr><tr><td>3</td><td><a href='https://en.wikipedia.org/wiki/Florida'>Florida</a> </td><td>80 kg</td></tr></table>\""
   ]
  },
  {
   "cell_type": "code",
   "execution_count": 31,
   "id": "e36af616-e65f-4206-9b90-6448777bdc66",
   "metadata": {},
   "outputs": [],
   "source": [
    "\n",
    "table_bs = BeautifulSoup(table, \"html.parser\")"
   ]
  },
  {
   "cell_type": "markdown",
   "id": "b75fc40a-9b15-42de-a34c-8d5523a55e3b",
   "metadata": {},
   "source": [
    "## find All\n"
   ]
  },
  {
   "cell_type": "markdown",
   "id": "97accc19-7dd9-438c-985c-5bdbbfd22533",
   "metadata": {},
   "source": [
    "The <code>find_all()</code> method looks through a tag’s descendants and retrieves all descendants that match your filters.\n",
    "\n",
    "<p>\n",
    "The Method signature for <code>find_all(name, attrs, recursive, string, limit, **kwargs)<c/ode>\n",
    "</p>\n"
   ]
  },
  {
   "cell_type": "markdown",
   "id": "37905c60-b934-4799-a1df-76775b80311c",
   "metadata": {},
   "source": [
    "### Name\n"
   ]
  },
  {
   "cell_type": "markdown",
   "id": "629cdcb6-a860-4549-baa3-c0c3207214bd",
   "metadata": {},
   "source": [
    "When we set the <code>name</code> parameter to a tag name, the method will extract all the tags with that name and its children.\n"
   ]
  },
  {
   "cell_type": "code",
   "execution_count": 32,
   "id": "6a8d889d-6b95-406e-9d68-293efe4441e3",
   "metadata": {},
   "outputs": [
    {
     "data": {
      "text/plain": [
       "[<tr><td id=\"flight\">Flight No</td><td>Launch site</td><td>Payload mass</td></tr>,\n",
       " <tr><td>1</td><td><a href=\"https://en.wikipedia.org/wiki/Florida\">Florida</a></td><td>300 kg</td></tr>,\n",
       " <tr><td>2</td><td><a href=\"https://en.wikipedia.org/wiki/Texas\">Texas</a></td><td>94 kg</td></tr>,\n",
       " <tr><td>3</td><td><a href=\"https://en.wikipedia.org/wiki/Florida\">Florida</a> </td><td>80 kg</td></tr>]"
      ]
     },
     "execution_count": 32,
     "metadata": {},
     "output_type": "execute_result"
    }
   ],
   "source": [
    "table_rows=table_bs.find_all('tr')\n",
    "table_rows"
   ]
  },
  {
   "cell_type": "markdown",
   "id": "2ddc6d6c-dea6-49fa-86b6-508d7a18996d",
   "metadata": {},
   "source": [
    "The result is a Python Iterable just like a list, each element is a <code>tag</code> object:\n"
   ]
  },
  {
   "cell_type": "code",
   "execution_count": 33,
   "id": "135c1b3f-d0b2-4197-8650-b93c619af74c",
   "metadata": {},
   "outputs": [
    {
     "data": {
      "text/plain": [
       "<tr><td id=\"flight\">Flight No</td><td>Launch site</td><td>Payload mass</td></tr>"
      ]
     },
     "execution_count": 33,
     "metadata": {},
     "output_type": "execute_result"
    }
   ],
   "source": [
    "first_row =table_rows[0]\n",
    "first_row"
   ]
  },
  {
   "cell_type": "markdown",
   "id": "54463358-1f1b-4dac-9d9f-b97cc3fd10aa",
   "metadata": {},
   "source": [
    "The type is <code>tag</code>\n"
   ]
  },
  {
   "cell_type": "code",
   "execution_count": 34,
   "id": "e7aa439c-8b9d-40c1-9dc8-f563e92dacee",
   "metadata": {},
   "outputs": [
    {
     "name": "stdout",
     "output_type": "stream",
     "text": [
      "<class 'bs4.element.Tag'>\n"
     ]
    }
   ],
   "source": [
    "print(type(first_row))"
   ]
  },
  {
   "cell_type": "markdown",
   "id": "a53bf1a3-ecc9-4707-8e83-617c569d117e",
   "metadata": {},
   "source": [
    "we can obtain the child\n"
   ]
  },
  {
   "cell_type": "code",
   "execution_count": 35,
   "id": "ee558061-5575-42a7-bc55-0e9b5924cbc7",
   "metadata": {},
   "outputs": [
    {
     "data": {
      "text/plain": [
       "<td id=\"flight\">Flight No</td>"
      ]
     },
     "execution_count": 35,
     "metadata": {},
     "output_type": "execute_result"
    }
   ],
   "source": [
    "first_row.td"
   ]
  },
  {
   "cell_type": "markdown",
   "id": "70d626bc-e9ab-4db0-b700-ca89c2db67d4",
   "metadata": {},
   "source": [
    "If we iterate through the list, each element corresponds to a row in the table:\n"
   ]
  },
  {
   "cell_type": "code",
   "execution_count": 36,
   "id": "079d02b8-0fdb-43df-a920-489ab9d0a346",
   "metadata": {},
   "outputs": [
    {
     "name": "stdout",
     "output_type": "stream",
     "text": [
      "row 0 is <tr><td id=\"flight\">Flight No</td><td>Launch site</td><td>Payload mass</td></tr>\n",
      "row 1 is <tr><td>1</td><td><a href=\"https://en.wikipedia.org/wiki/Florida\">Florida</a></td><td>300 kg</td></tr>\n",
      "row 2 is <tr><td>2</td><td><a href=\"https://en.wikipedia.org/wiki/Texas\">Texas</a></td><td>94 kg</td></tr>\n",
      "row 3 is <tr><td>3</td><td><a href=\"https://en.wikipedia.org/wiki/Florida\">Florida</a> </td><td>80 kg</td></tr>\n"
     ]
    }
   ],
   "source": [
    "for i,row in enumerate(table_rows):\n",
    "    print(\"row\",i,\"is\",row)\n",
    "    "
   ]
  },
  {
   "cell_type": "markdown",
   "id": "5b53f785-6dab-45bb-853f-37a61b9b78b7",
   "metadata": {},
   "source": [
    "As <code>row</code> is a <code>cell</code> object, we can apply the method <code>find_all</code> to it and extract table cells in the object <code>cells</code> using the tag <code>td</code>, this is all the children with the name <code>td</code>. The result is a list, each element corresponds to a cell and is a <code>Tag</code> object, we can iterate through this list as well. We can extract the content using the <code>string</code>  attribute.\n"
   ]
  },
  {
   "cell_type": "code",
   "execution_count": 37,
   "id": "aa89d4fc-1f6d-4462-8803-5a006394cc26",
   "metadata": {},
   "outputs": [
    {
     "name": "stdout",
     "output_type": "stream",
     "text": [
      "row 0\n",
      "colunm 0 cell <td id=\"flight\">Flight No</td>\n",
      "colunm 1 cell <td>Launch site</td>\n",
      "colunm 2 cell <td>Payload mass</td>\n",
      "row 1\n",
      "colunm 0 cell <td>1</td>\n",
      "colunm 1 cell <td><a href=\"https://en.wikipedia.org/wiki/Florida\">Florida</a></td>\n",
      "colunm 2 cell <td>300 kg</td>\n",
      "row 2\n",
      "colunm 0 cell <td>2</td>\n",
      "colunm 1 cell <td><a href=\"https://en.wikipedia.org/wiki/Texas\">Texas</a></td>\n",
      "colunm 2 cell <td>94 kg</td>\n",
      "row 3\n",
      "colunm 0 cell <td>3</td>\n",
      "colunm 1 cell <td><a href=\"https://en.wikipedia.org/wiki/Florida\">Florida</a> </td>\n",
      "colunm 2 cell <td>80 kg</td>\n"
     ]
    }
   ],
   "source": [
    "for i,row in enumerate(table_rows):\n",
    "    print(\"row\",i)\n",
    "    cells=row.find_all('td')\n",
    "    for j,cell in enumerate(cells):\n",
    "        print('colunm',j,\"cell\",cell)"
   ]
  },
  {
   "cell_type": "markdown",
   "id": "070f3279-120b-4b65-af92-dfb0d45bb2c8",
   "metadata": {},
   "source": [
    "If we use a list we can match against any item in that list.\n"
   ]
  },
  {
   "cell_type": "code",
   "execution_count": 38,
   "id": "bd652eb8-05e1-484e-850a-32fa7f94ae1a",
   "metadata": {},
   "outputs": [
    {
     "data": {
      "text/plain": [
       "[<tr><td id=\"flight\">Flight No</td><td>Launch site</td><td>Payload mass</td></tr>,\n",
       " <td id=\"flight\">Flight No</td>,\n",
       " <td>Launch site</td>,\n",
       " <td>Payload mass</td>,\n",
       " <tr><td>1</td><td><a href=\"https://en.wikipedia.org/wiki/Florida\">Florida</a></td><td>300 kg</td></tr>,\n",
       " <td>1</td>,\n",
       " <td><a href=\"https://en.wikipedia.org/wiki/Florida\">Florida</a></td>,\n",
       " <td>300 kg</td>,\n",
       " <tr><td>2</td><td><a href=\"https://en.wikipedia.org/wiki/Texas\">Texas</a></td><td>94 kg</td></tr>,\n",
       " <td>2</td>,\n",
       " <td><a href=\"https://en.wikipedia.org/wiki/Texas\">Texas</a></td>,\n",
       " <td>94 kg</td>,\n",
       " <tr><td>3</td><td><a href=\"https://en.wikipedia.org/wiki/Florida\">Florida</a> </td><td>80 kg</td></tr>,\n",
       " <td>3</td>,\n",
       " <td><a href=\"https://en.wikipedia.org/wiki/Florida\">Florida</a> </td>,\n",
       " <td>80 kg</td>]"
      ]
     },
     "execution_count": 38,
     "metadata": {},
     "output_type": "execute_result"
    }
   ],
   "source": [
    "list_input=table_bs .find_all(name=[\"tr\", \"td\"])\n",
    "list_input"
   ]
  },
  {
   "cell_type": "markdown",
   "id": "69c16e4d-52a9-459a-8a53-7442cc1973e3",
   "metadata": {},
   "source": [
    "## Attributes\n"
   ]
  },
  {
   "cell_type": "markdown",
   "id": "7eae4530-63d7-49b0-848a-7c45ddda9dc9",
   "metadata": {},
   "source": [
    "If the argument is not recognized it will be turned into a filter on the tag’s attributes. For example the <code>id</code>  argument, Beautiful Soup will filter against each tag’s <code>id</code> attribute. For example, the first <code>td</code> elements have a value of <code>id</code> of <code>flight</code>, therefore we can filter based on that <code>id</code> value.\n"
   ]
  },
  {
   "cell_type": "code",
   "execution_count": 39,
   "id": "b833163d-242f-48b3-b4b3-3ee1ce2ff6ae",
   "metadata": {},
   "outputs": [
    {
     "data": {
      "text/plain": [
       "[<td id=\"flight\">Flight No</td>]"
      ]
     },
     "execution_count": 39,
     "metadata": {},
     "output_type": "execute_result"
    }
   ],
   "source": [
    "table_bs.find_all(id=\"flight\")"
   ]
  },
  {
   "cell_type": "markdown",
   "id": "1695a694-34f4-4903-80e0-84d6c05cd495",
   "metadata": {},
   "source": [
    "We can find all the elements that have links to the Florida Wikipedia page:\n"
   ]
  },
  {
   "cell_type": "code",
   "execution_count": 40,
   "id": "51215e2f-0953-49ed-a055-4f9f2750b11c",
   "metadata": {},
   "outputs": [
    {
     "data": {
      "text/plain": [
       "[<a href=\"https://en.wikipedia.org/wiki/Florida\">Florida</a>,\n",
       " <a href=\"https://en.wikipedia.org/wiki/Florida\">Florida</a>]"
      ]
     },
     "execution_count": 40,
     "metadata": {},
     "output_type": "execute_result"
    }
   ],
   "source": [
    "list_input=table_bs.find_all(href=\"https://en.wikipedia.org/wiki/Florida\")\n",
    "list_input"
   ]
  },
  {
   "cell_type": "markdown",
   "id": "98495ea8-3445-41fd-9306-88d8a87217be",
   "metadata": {},
   "source": [
    "If we set the  <code>href</code> attribute to True, regardless of what the value is, the code finds all tags with <code>href</code> value:\n"
   ]
  },
  {
   "cell_type": "code",
   "execution_count": 41,
   "id": "f9a09a17-ecf5-42ab-95dd-9228347e6c42",
   "metadata": {},
   "outputs": [
    {
     "data": {
      "text/plain": [
       "[<a href=\"https://en.wikipedia.org/wiki/Florida\">Florida</a>,\n",
       " <a href=\"https://en.wikipedia.org/wiki/Texas\">Texas</a>,\n",
       " <a href=\"https://en.wikipedia.org/wiki/Florida\">Florida</a>]"
      ]
     },
     "execution_count": 41,
     "metadata": {},
     "output_type": "execute_result"
    }
   ],
   "source": [
    "table_bs.find_all(href=True)"
   ]
  },
  {
   "cell_type": "markdown",
   "id": "19aa6a98-7c68-4330-bd64-d54b6c5d39d9",
   "metadata": {},
   "source": [
    "There are other methods for dealing with attributes and other related methods; Check out the following <a href='https://www.crummy.com/software/BeautifulSoup/bs4/doc/?utm_medium=Exinfluencer&utm_source=Exinfluencer&utm_content=000026UJ&utm_term=10006555&utm_id=NA-SkillsNetwork-Channel-SkillsNetworkCoursesIBMDeveloperSkillsNetworkPY0220ENSkillsNetwork23455606-2021-01-01#css-selectors'>link</a>\n"
   ]
  },
  {
   "cell_type": "markdown",
   "id": "1ee17063-e09b-4d3a-8507-fce9e869eb38",
   "metadata": {},
   "source": [
    "<h3 id=\"exer_type\">Exercise: <code>find_all</code></h3>\n"
   ]
  },
  {
   "cell_type": "markdown",
   "id": "7ecdd0a9-8572-4054-83c6-eaaa132c0ff6",
   "metadata": {},
   "source": [
    "Using the logic above, find all the elements without <code>href</code> value\n"
   ]
  },
  {
   "cell_type": "code",
   "execution_count": 42,
   "id": "1b8e0a7b-808e-45ff-b6b5-79867abef774",
   "metadata": {},
   "outputs": [
    {
     "data": {
      "text/plain": [
       "[]"
      ]
     },
     "execution_count": 42,
     "metadata": {},
     "output_type": "execute_result"
    }
   ],
   "source": [
    "a_s = table_bs.find_all('a', href=False)\n",
    "a_s\n"
   ]
  },
  {
   "cell_type": "markdown",
   "id": "67380495-5b82-4532-b092-b0a7a7877b73",
   "metadata": {},
   "source": [
    "<details><summary>Click here for the solution</summary>\n",
    "\n",
    "```\n",
    "table_bs.find_all('a', href=False)\n",
    "\n",
    "```\n",
    "\n",
    "</details>\n"
   ]
  },
  {
   "cell_type": "markdown",
   "id": "3f21719a-3496-424f-bb7b-afa52ab1d930",
   "metadata": {},
   "source": [
    "Using the soup object <code>soup</code>, find the element with the <code>id</code> attribute content set to <code>\"boldest\"</code>.\n"
   ]
  },
  {
   "cell_type": "code",
   "execution_count": 43,
   "id": "d17f7868-c0e4-4f14-9423-e39ba054d3b2",
   "metadata": {},
   "outputs": [
    {
     "data": {
      "text/plain": [
       "[<b id=\"boldest\">Lebron James</b>]"
      ]
     },
     "execution_count": 43,
     "metadata": {},
     "output_type": "execute_result"
    }
   ],
   "source": [
    "soup.find_all(id=\"boldest\")"
   ]
  },
  {
   "cell_type": "markdown",
   "id": "ea8ec80e-b299-4627-bbd1-458398569216",
   "metadata": {},
   "source": [
    "<details><summary>Click here for the solution</summary>\n",
    "\n",
    "```\n",
    "soup.find_all(id=\"boldest\")\n",
    "\n",
    "```\n",
    "\n",
    "</details>\n"
   ]
  },
  {
   "cell_type": "markdown",
   "id": "654cd31a-a5e1-42cb-b3d8-57a063e6db94",
   "metadata": {},
   "source": [
    "### string\n"
   ]
  },
  {
   "cell_type": "markdown",
   "id": "c6a513ba-80c8-42f8-9607-168707f19cef",
   "metadata": {},
   "source": [
    "With string you can search for strings instead of tags, where we find all the elments with Florida:\n"
   ]
  },
  {
   "cell_type": "code",
   "execution_count": 44,
   "id": "2f48ce5d-cc93-4373-84f0-fd988a6b1471",
   "metadata": {},
   "outputs": [
    {
     "data": {
      "text/plain": [
       "['Florida', 'Florida']"
      ]
     },
     "execution_count": 44,
     "metadata": {},
     "output_type": "execute_result"
    }
   ],
   "source": [
    "table_bs.find_all(string=\"Florida\")"
   ]
  },
  {
   "cell_type": "markdown",
   "id": "7cd2899d-0c07-46f8-a76e-b7ddf0d2d9da",
   "metadata": {},
   "source": [
    "## find\n"
   ]
  },
  {
   "cell_type": "markdown",
   "id": "891ebe7d-16a8-40f3-8877-5ac383ba89d3",
   "metadata": {},
   "source": [
    "The <code>find_all()</code> method scans the entire document looking for results, it’s if you are looking for one element you can use the <code>find()</code> method to find the first element in the document. Consider the following two table:\n"
   ]
  },
  {
   "cell_type": "code",
   "execution_count": 45,
   "id": "024b5a17-1adc-4808-b530-936889b03716",
   "metadata": {},
   "outputs": [
    {
     "data": {
      "text/html": [
       "<h3>Rocket Launch </h3>\n",
       "\n",
       "<p>\n",
       "<table class='rocket'>\n",
       "  <tr>\n",
       "    <td>Flight No</td>\n",
       "    <td>Launch site</td> \n",
       "    <td>Payload mass</td>\n",
       "  </tr>\n",
       "  <tr>\n",
       "    <td>1</td>\n",
       "    <td>Florida</td>\n",
       "    <td>300 kg</td>\n",
       "  </tr>\n",
       "  <tr>\n",
       "    <td>2</td>\n",
       "    <td>Texas</td>\n",
       "    <td>94 kg</td>\n",
       "  </tr>\n",
       "  <tr>\n",
       "    <td>3</td>\n",
       "    <td>Florida </td>\n",
       "    <td>80 kg</td>\n",
       "  </tr>\n",
       "</table>\n",
       "</p>\n",
       "<p>\n",
       "\n",
       "<h3>Pizza Party  </h3>\n",
       "  \n",
       "    \n",
       "<table class='pizza'>\n",
       "  <tr>\n",
       "    <td>Pizza Place</td>\n",
       "    <td>Orders</td> \n",
       "    <td>Slices </td>\n",
       "   </tr>\n",
       "  <tr>\n",
       "    <td>Domino's Pizza</td>\n",
       "    <td>10</td>\n",
       "    <td>100</td>\n",
       "  </tr>\n",
       "  <tr>\n",
       "    <td>Little Caesars</td>\n",
       "    <td>12</td>\n",
       "    <td >144 </td>\n",
       "  </tr>\n",
       "  <tr>\n",
       "    <td>Papa John's </td>\n",
       "    <td>15 </td>\n",
       "    <td>165</td>\n",
       "  </tr>\n"
      ],
      "text/plain": [
       "<IPython.core.display.HTML object>"
      ]
     },
     "metadata": {},
     "output_type": "display_data"
    }
   ],
   "source": [
    "%%html\n",
    "<h3>Rocket Launch </h3>\n",
    "\n",
    "<p>\n",
    "<table class='rocket'>\n",
    "  <tr>\n",
    "    <td>Flight No</td>\n",
    "    <td>Launch site</td> \n",
    "    <td>Payload mass</td>\n",
    "  </tr>\n",
    "  <tr>\n",
    "    <td>1</td>\n",
    "    <td>Florida</td>\n",
    "    <td>300 kg</td>\n",
    "  </tr>\n",
    "  <tr>\n",
    "    <td>2</td>\n",
    "    <td>Texas</td>\n",
    "    <td>94 kg</td>\n",
    "  </tr>\n",
    "  <tr>\n",
    "    <td>3</td>\n",
    "    <td>Florida </td>\n",
    "    <td>80 kg</td>\n",
    "  </tr>\n",
    "</table>\n",
    "</p>\n",
    "<p>\n",
    "\n",
    "<h3>Pizza Party  </h3>\n",
    "  \n",
    "    \n",
    "<table class='pizza'>\n",
    "  <tr>\n",
    "    <td>Pizza Place</td>\n",
    "    <td>Orders</td> \n",
    "    <td>Slices </td>\n",
    "   </tr>\n",
    "  <tr>\n",
    "    <td>Domino's Pizza</td>\n",
    "    <td>10</td>\n",
    "    <td>100</td>\n",
    "  </tr>\n",
    "  <tr>\n",
    "    <td>Little Caesars</td>\n",
    "    <td>12</td>\n",
    "    <td >144 </td>\n",
    "  </tr>\n",
    "  <tr>\n",
    "    <td>Papa John's </td>\n",
    "    <td>15 </td>\n",
    "    <td>165</td>\n",
    "  </tr>\n"
   ]
  },
  {
   "cell_type": "markdown",
   "id": "14c6a68c-1c71-4cfe-aff2-e2d605cae4c6",
   "metadata": {},
   "source": [
    "We store the HTML as a Python string and assign <code>two_tables</code>:\n"
   ]
  },
  {
   "cell_type": "code",
   "execution_count": 46,
   "id": "b8fe4c82-a24c-4cbb-aa95-6fb381ab3e43",
   "metadata": {},
   "outputs": [],
   "source": [
    "two_tables=\"<h3>Rocket Launch </h3><p><table class='rocket'><tr><td>Flight No</td><td>Launch site</td> <td>Payload mass</td></tr><tr><td>1</td><td>Florida</td><td>300 kg</td></tr><tr><td>2</td><td>Texas</td><td>94 kg</td></tr><tr><td>3</td><td>Florida </td><td>80 kg</td></tr></table></p><p><h3>Pizza Party  </h3><table class='pizza'><tr><td>Pizza Place</td><td>Orders</td> <td>Slices </td></tr><tr><td>Domino's Pizza</td><td>10</td><td>100</td></tr><tr><td>Little Caesars</td><td>12</td><td >144 </td></tr><tr><td>Papa John's </td><td>15 </td><td>165</td></tr>\""
   ]
  },
  {
   "cell_type": "markdown",
   "id": "ed641db2-1ab2-46db-898a-8dd2b28e2bc8",
   "metadata": {},
   "source": [
    "We create a <code>BeautifulSoup</code> object  <code>two_tables_bs</code>\n"
   ]
  },
  {
   "cell_type": "code",
   "execution_count": 47,
   "id": "e437f6d2-ae39-4bdd-b9f4-5b2416cda91c",
   "metadata": {},
   "outputs": [],
   "source": [
    "two_tables_bs= BeautifulSoup(two_tables, 'html.parser')"
   ]
  },
  {
   "cell_type": "markdown",
   "id": "911828a3-4ed8-41d4-ada5-aa11243caf87",
   "metadata": {},
   "source": [
    "We can find the first table using the tag name table\n"
   ]
  },
  {
   "cell_type": "code",
   "execution_count": 48,
   "id": "9a9e1515-9ce4-4275-86ee-3d42eb7120a3",
   "metadata": {},
   "outputs": [
    {
     "data": {
      "text/plain": [
       "<table class=\"rocket\"><tr><td>Flight No</td><td>Launch site</td> <td>Payload mass</td></tr><tr><td>1</td><td>Florida</td><td>300 kg</td></tr><tr><td>2</td><td>Texas</td><td>94 kg</td></tr><tr><td>3</td><td>Florida </td><td>80 kg</td></tr></table>"
      ]
     },
     "execution_count": 48,
     "metadata": {},
     "output_type": "execute_result"
    }
   ],
   "source": [
    "two_tables_bs.find(\"table\")"
   ]
  },
  {
   "cell_type": "markdown",
   "id": "1c277dd0-4c8f-45ce-92b3-c8b6d65a1380",
   "metadata": {},
   "source": [
    "We can filter on the class attribute to find the second table, but because class is a keyword in Python, we add an underscore.\n"
   ]
  },
  {
   "cell_type": "code",
   "execution_count": 49,
   "id": "0978b25d-cc23-4616-9d7a-1e065158c7d1",
   "metadata": {},
   "outputs": [
    {
     "data": {
      "text/plain": [
       "<table class=\"pizza\"><tr><td>Pizza Place</td><td>Orders</td> <td>Slices </td></tr><tr><td>Domino's Pizza</td><td>10</td><td>100</td></tr><tr><td>Little Caesars</td><td>12</td><td>144 </td></tr><tr><td>Papa John's </td><td>15 </td><td>165</td></tr></table>"
      ]
     },
     "execution_count": 49,
     "metadata": {},
     "output_type": "execute_result"
    }
   ],
   "source": [
    "two_tables_bs.find(\"table\",class_='pizza')"
   ]
  },
  {
   "cell_type": "markdown",
   "id": "1ad7dfb0-2a1a-4fae-8101-dab5f1c4b993",
   "metadata": {},
   "source": [
    "<h2 id=\"DSCW\">Downloading And Scraping The Contents Of A Web Page</h2> \n"
   ]
  },
  {
   "cell_type": "markdown",
   "id": "42907b23-efc9-4b1e-9552-230cd5f90123",
   "metadata": {},
   "source": [
    "We Download the contents of the web page:\n"
   ]
  },
  {
   "cell_type": "code",
   "execution_count": 50,
   "id": "392200f5-8e33-4b71-8e26-76e2200ce161",
   "metadata": {},
   "outputs": [],
   "source": [
    "url = \"https://web.archive.org/web/20230224123642/https://www.ibm.com/us-en/\""
   ]
  },
  {
   "cell_type": "markdown",
   "id": "99373f67-edcc-4809-a555-bd3bd1ead33b",
   "metadata": {},
   "source": [
    "We use <code>get</code> to download the contents of the webpage in text format and store in a variable called <code>data</code>:\n"
   ]
  },
  {
   "cell_type": "code",
   "execution_count": 51,
   "id": "9e0868f0-db29-46ae-96f9-b7fb058ffa88",
   "metadata": {},
   "outputs": [],
   "source": [
    "data  = requests.get(url).text "
   ]
  },
  {
   "cell_type": "markdown",
   "id": "d1161daa-c024-4f4b-b5ea-56e4b2d4bb6e",
   "metadata": {},
   "source": [
    "We create a <code>BeautifulSoup</code> object using the <code>BeautifulSoup</code> constructor\n"
   ]
  },
  {
   "cell_type": "code",
   "execution_count": 52,
   "id": "3fe71ca4-f3ee-470b-a138-d50fdf05467a",
   "metadata": {},
   "outputs": [
    {
     "data": {
      "text/plain": [
       "<!DOCTYPE html>\n",
       "<html lang=\"en-US\"><head><script charset=\"utf-8\" src=\"https://web-static.archive.org/_static/js/bundle-playback.js?v=7YQSqjSh\" type=\"text/javascript\"></script>\n",
       "<script charset=\"utf-8\" src=\"https://web-static.archive.org/_static/js/wombat.js?v=txqj7nKC\" type=\"text/javascript\"></script>\n",
       "<script>window.RufflePlayer=window.RufflePlayer||{};window.RufflePlayer.config={\"autoplay\":\"on\",\"unmuteOverlay\":\"hidden\"};</script>\n",
       "<script src=\"https://web-static.archive.org/_static/js/ruffle/ruffle.js\" type=\"text/javascript\"></script>\n",
       "<script type=\"text/javascript\">\n",
       "    __wm.init(\"https://web.archive.org/web\");\n",
       "  __wm.wombat(\"https://www.ibm.com/us-en/\",\"20230224123642\",\"https://web.archive.org/\",\"web\",\"https://web-static.archive.org/_static/\",\n",
       "\t      \"1677242202\");\n",
       "</script>\n",
       "<link href=\"https://web-static.archive.org/_static/css/banner-styles.css?v=p7PEIJWi\" rel=\"stylesheet\" type=\"text/css\"/>\n",
       "<link href=\"https://web-static.archive.org/_static/css/iconochive.css?v=3PDvdIFv\" rel=\"stylesheet\" type=\"text/css\"/>\n",
       "<!-- End Wayback Rewrite JS Include -->\n",
       "<meta content=\"width=device-width\" name=\"viewport\"/><meta charset=\"utf-8\"/><title>IBM - United States</title><link href=\"https://web.archive.org/web/20230224123642/https://www.ibm.com/us-en\" rel=\"canonical\"/><meta content=\"index,follow\" name=\"robots\"/><meta content=\"For more than a century IBM has been dedicated to every client's success and to creating innovations that matter for the world\" name=\"description\"/><meta content=\"IBM\" name=\"keywords\"/><meta content=\"IE=Edge\" http-equiv=\"X-UA-Compatible\"/><meta content=\"no-cache, no-store, must-revalidate\" http-equiv=\"Cache-Control\"/><meta content=\"no-cache\" http-equiv=\"Pragma\"/><meta content=\"0\" http-equiv=\"Expires\"/><link href=\"//web.archive.org/web/20230224123642im_/https://www.ibm.com/favicon.ico\" rel=\"icon\"/><meta content=\"^1.38.0\" name=\"ibmdotcom.version.react\"/><meta content=\"^1.38.0\" name=\"ibmdotcom.version.styles\"/><meta content=\"2023-02-22T18:05:00.504Z\" name=\"ibmdotcom.build.time\"/><meta content=\"2015-10-01\" name=\"dcterms.date\"/><meta content=\"Â© Copyright IBM Corp. 2020\" name=\"dcterms.rights\"/><meta content=\"US\" name=\"geo.country\"/><script>digitalData={\"page\":{\"category\":{\"primaryCategory\":\"SB03\"},\"pageInfo\":{\"effectiveDate\":\"2022-12-15\",\"expiryDate\":\"2027-12-15\",\"language\":\"en-us\",\"publishDate\":\"2022-12-15\",\"publisher\":\"IBM Corporation\",\"version\":\"Carbon:IBM.com Library v1.32.0\",\"ibm\":{\"contentDelivery\":\"Hand coded\",\"contentProducer\":\"Lance Tappana\",\"country\":\"us\",\"industry\":\"ZZ\",\"owner\":\"Corporate Webmaster/New York/IBM\",\"siteID\":\"GLOBAL\",\"subject\":\"IBM000\",\"type\":\"CT052\",\"messaging\":{\"routing\":{\"focusArea\":\"Miscellaneous - Cross IBM\",\"languageCode\":\"en\",\"regionCode\":\"US\"},\"translation\":{\"languageCode\":\"en\",\"regionCode\":\"US\"}}},\"hotjar\":{\"enabled\":0}}}};</script><script>\n",
       "            window.hj=window.hj||function(){(hj.q=hj.q||[]).push(arguments)};\n",
       "            window.hj('tagRecording', ['hjLoaded']);\n",
       "            document.addEventListener('onMegaMenuToggle', e => {\n",
       "              if(e.target.getAttribute(\"data-title\") == 'products-solutions') {\n",
       "                window.hj('trigger', 'MM_products-solutions');\n",
       "              }\n",
       "              if(e.target.getAttribute(\"data-title\") == 'services-consulting') {\n",
       "                window.hj('trigger', 'MM_services-consulting');\n",
       "              }\n",
       "              if(e.target.getAttribute(\"data-title\") == 'learn-support') {\n",
       "                window.hj('trigger', 'MM_learn-support');\n",
       "              }\n",
       "              if(e.target.getAttribute(\"data-title\") == 'explore-more') {\n",
       "                window.hj('trigger', 'MM_explore-more');\n",
       "              }\n",
       "            });\n",
       "\n",
       "            </script><script src=\"https://web.archive.org/web/20230224123642jm_/https://1.www.s81c.com/common/carbon-for-ibm-dotcom/tag/v2/alpha/masthead.min.js\" type=\"module\"></script><link href=\"https://web.archive.org/web/20230224123642/https://www.ibm.com/us-en\" hreflang=\"en-us\" rel=\"alternate\"/><link href=\"https://web.archive.org/web/20230224123642/https://www.ibm.com/\" hreflang=\"x-default\" rel=\"alternate\"/><link href=\"https://web.archive.org/web/20230224123642/https://www.ibm.com/af-en\" hreflang=\"en-af\" rel=\"alternate\"/><link href=\"https://web.archive.org/web/20230224123642/https://www.ibm.com/dz-fr\" hreflang=\"fr-dz\" rel=\"alternate\"/><link href=\"https://web.archive.org/web/20230224123642/https://www.ibm.com/ao-pt\" hreflang=\"pt-ao\" rel=\"alternate\"/><link href=\"https://web.archive.org/web/20230224123642/https://www.ibm.com/ai-en\" hreflang=\"en-ai\" rel=\"alternate\"/><link href=\"https://web.archive.org/web/20230224123642/https://www.ibm.com/ag-en\" hreflang=\"en-ag\" rel=\"alternate\"/><link href=\"https://web.archive.org/web/20230224123642/https://www.ibm.com/ar-es\" hreflang=\"es-ar\" rel=\"alternate\"/><link href=\"https://web.archive.org/web/20230224123642/https://www.ibm.com/aw-en\" hreflang=\"en-aw\" rel=\"alternate\"/><link href=\"https://web.archive.org/web/20230224123642/https://www.ibm.com/au-en\" hreflang=\"en-au\" rel=\"alternate\"/><link href=\"https://web.archive.org/web/20230224123642/https://www.ibm.com/at-de\" hreflang=\"de-at\" rel=\"alternate\"/><link href=\"https://web.archive.org/web/20230224123642/https://www.ibm.com/bs-en\" hreflang=\"en-bs\" rel=\"alternate\"/><link href=\"https://web.archive.org/web/20230224123642/https://www.ibm.com/bh-en\" hreflang=\"en-bh\" rel=\"alternate\"/><link href=\"https://web.archive.org/web/20230224123642/https://www.ibm.com/bd-en\" hreflang=\"en-bd\" rel=\"alternate\"/><link href=\"https://web.archive.org/web/20230224123642/https://www.ibm.com/bb-en\" hreflang=\"en-bb\" rel=\"alternate\"/><link href=\"https://web.archive.org/web/20230224123642/https://www.ibm.com/be-en\" hreflang=\"en-be\" rel=\"alternate\"/><link href=\"https://web.archive.org/web/20230224123642/https://www.ibm.com/bm-en\" hreflang=\"en-bm\" rel=\"alternate\"/><link href=\"https://web.archive.org/web/20230224123642/https://www.ibm.com/bo-es\" hreflang=\"es-bo\" rel=\"alternate\"/><link href=\"https://web.archive.org/web/20230224123642/https://www.ibm.com/bw-en\" hreflang=\"en-bw\" rel=\"alternate\"/><link href=\"https://web.archive.org/web/20230224123642/https://www.ibm.com/br-pt\" hreflang=\"pt-br\" rel=\"alternate\"/><link href=\"https://web.archive.org/web/20230224123642/https://www.ibm.com/vg-en\" hreflang=\"en-vg\" rel=\"alternate\"/><link href=\"https://web.archive.org/web/20230224123642/https://www.ibm.com/bn-en\" hreflang=\"en-bn\" rel=\"alternate\"/><link href=\"https://web.archive.org/web/20230224123642/https://www.ibm.com/bg-en\" hreflang=\"en-bg\" rel=\"alternate\"/><link href=\"https://web.archive.org/web/20230224123642/https://www.ibm.com/bf-fr\" hreflang=\"fr-bf\" rel=\"alternate\"/><link href=\"https://web.archive.org/web/20230224123642/https://www.ibm.com/kh-en\" hreflang=\"en-kh\" rel=\"alternate\"/><link href=\"https://web.archive.org/web/20230224123642/https://www.ibm.com/cm-fr\" hreflang=\"fr-cm\" rel=\"alternate\"/><link href=\"https://web.archive.org/web/20230224123642/https://www.ibm.com/ca-en\" hreflang=\"en-ca\" rel=\"alternate\"/><link href=\"https://web.archive.org/web/20230224123642/https://www.ibm.com/ca-fr\" hreflang=\"fr-ca\" rel=\"alternate\"/><link href=\"https://web.archive.org/web/20230224123642/https://www.ibm.com/ky-en\" hreflang=\"en-ky\" rel=\"alternate\"/><link href=\"https://web.archive.org/web/20230224123642/https://www.ibm.com/td-fr\" hreflang=\"fr-td\" rel=\"alternate\"/><link href=\"https://web.archive.org/web/20230224123642/https://www.ibm.com/cl-es\" hreflang=\"es-cl\" rel=\"alternate\"/><link href=\"https://web.archive.org/web/20230224123642/https://www.ibm.com/cn-zh\" hreflang=\"zh-cn\" rel=\"alternate\"/><link href=\"https://web.archive.org/web/20230224123642/https://www.ibm.com/co-es\" hreflang=\"es-co\" rel=\"alternate\"/><link href=\"https://web.archive.org/web/20230224123642/https://www.ibm.com/cd-fr\" hreflang=\"fr-cd\" rel=\"alternate\"/><link href=\"https://web.archive.org/web/20230224123642/https://www.ibm.com/cg-fr\" hreflang=\"fr-cg\" rel=\"alternate\"/><link href=\"https://web.archive.org/web/20230224123642/https://www.ibm.com/cr-es\" hreflang=\"es-cr\" rel=\"alternate\"/><link href=\"https://web.archive.org/web/20230224123642/https://www.ibm.com/hr-en\" hreflang=\"en-hr\" rel=\"alternate\"/><link href=\"https://web.archive.org/web/20230224123642/https://www.ibm.com/cw-en\" hreflang=\"en-cw\" rel=\"alternate\"/><link href=\"https://web.archive.org/web/20230224123642/https://www.ibm.com/cy-en\" hreflang=\"en-cy\" rel=\"alternate\"/><link href=\"https://web.archive.org/web/20230224123642/https://www.ibm.com/cz-en\" hreflang=\"en-cz\" rel=\"alternate\"/><link href=\"https://web.archive.org/web/20230224123642/https://www.ibm.com/dm-en\" hreflang=\"en-dm\" rel=\"alternate\"/><link href=\"https://web.archive.org/web/20230224123642/https://www.ibm.com/dk-en\" hreflang=\"en-dk\" rel=\"alternate\"/><link href=\"https://web.archive.org/web/20230224123642/https://www.ibm.com/ec-es\" hreflang=\"es-ec\" rel=\"alternate\"/><link href=\"https://web.archive.org/web/20230224123642/https://www.ibm.com/eg-en\" hreflang=\"en-eg\" rel=\"alternate\"/><link href=\"https://web.archive.org/web/20230224123642/https://www.ibm.com/ee-en\" hreflang=\"en-ee\" rel=\"alternate\"/><link href=\"https://web.archive.org/web/20230224123642/https://www.ibm.com/et-en\" hreflang=\"en-et\" rel=\"alternate\"/><link href=\"https://web.archive.org/web/20230224123642/https://www.ibm.com/fi-en\" hreflang=\"en-fi\" rel=\"alternate\"/><link href=\"https://web.archive.org/web/20230224123642/https://www.ibm.com/fr-fr\" hreflang=\"fr-fr\" rel=\"alternate\"/><link href=\"https://web.archive.org/web/20230224123642/https://www.ibm.com/ga-fr\" hreflang=\"fr-ga\" rel=\"alternate\"/><link href=\"https://web.archive.org/web/20230224123642/https://www.ibm.com/de-de\" hreflang=\"de-de\" rel=\"alternate\"/><link href=\"https://web.archive.org/web/20230224123642/https://www.ibm.com/gh-en\" hreflang=\"en-gh\" rel=\"alternate\"/><link href=\"https://web.archive.org/web/20230224123642/https://www.ibm.com/gr-en\" hreflang=\"en-gr\" rel=\"alternate\"/><link href=\"https://web.archive.org/web/20230224123642/https://www.ibm.com/gd-en\" hreflang=\"en-gd\" rel=\"alternate\"/><link href=\"https://web.archive.org/web/20230224123642/https://www.ibm.com/gy-en\" hreflang=\"en-gy\" rel=\"alternate\"/><link href=\"https://web.archive.org/web/20230224123642/https://www.ibm.com/hk-en\" hreflang=\"en-hk\" rel=\"alternate\"/><link href=\"https://web.archive.org/web/20230224123642/https://www.ibm.com/hu-en\" hreflang=\"en-hu\" rel=\"alternate\"/><link href=\"https://web.archive.org/web/20230224123642/https://www.ibm.com/in-en\" hreflang=\"en-in\" rel=\"alternate\"/><link href=\"https://web.archive.org/web/20230224123642/https://www.ibm.com/id-en\" hreflang=\"en-id\" rel=\"alternate\"/><link href=\"https://web.archive.org/web/20230224123642/https://www.ibm.com/iq-en\" hreflang=\"en-iq\" rel=\"alternate\"/><link href=\"https://web.archive.org/web/20230224123642/https://www.ibm.com/ie-en\" hreflang=\"en-ie\" rel=\"alternate\"/><link href=\"https://web.archive.org/web/20230224123642/https://www.ibm.com/il-en\" hreflang=\"en-il\" rel=\"alternate\"/><link href=\"https://web.archive.org/web/20230224123642/https://www.ibm.com/it-it\" hreflang=\"it-it\" rel=\"alternate\"/><link href=\"https://web.archive.org/web/20230224123642/https://www.ibm.com/ci-fr\" hreflang=\"fr-ci\" rel=\"alternate\"/><link href=\"https://web.archive.org/web/20230224123642/https://www.ibm.com/jm-en\" hreflang=\"en-jm\" rel=\"alternate\"/><link href=\"https://web.archive.org/web/20230224123642/https://www.ibm.com/jp-ja\" hreflang=\"ja-jp\" rel=\"alternate\"/><link href=\"https://web.archive.org/web/20230224123642/https://www.ibm.com/jo-en\" hreflang=\"en-jo\" rel=\"alternate\"/><link href=\"https://web.archive.org/web/20230224123642/https://www.ibm.com/kz-en\" hreflang=\"en-kz\" rel=\"alternate\"/><link href=\"https://web.archive.org/web/20230224123642/https://www.ibm.com/ke-en\" hreflang=\"en-ke\" rel=\"alternate\"/><link href=\"https://web.archive.org/web/20230224123642/https://www.ibm.com/kr-ko\" hreflang=\"ko-kr\" rel=\"alternate\"/><link href=\"https://web.archive.org/web/20230224123642/https://www.ibm.com/kw-en\" hreflang=\"en-kw\" rel=\"alternate\"/><link href=\"https://web.archive.org/web/20230224123642/https://www.ibm.com/lv-en\" hreflang=\"en-lv\" rel=\"alternate\"/><link href=\"https://web.archive.org/web/20230224123642/https://www.ibm.com/lb-en\" hreflang=\"en-lb\" rel=\"alternate\"/><link href=\"https://web.archive.org/web/20230224123642/https://www.ibm.com/ly-en\" hreflang=\"en-ly\" rel=\"alternate\"/><link href=\"https://web.archive.org/web/20230224123642/https://www.ibm.com/lt-en\" hreflang=\"en-lt\" rel=\"alternate\"/><link href=\"https://web.archive.org/web/20230224123642/https://www.ibm.com/mw-en\" hreflang=\"en-mw\" rel=\"alternate\"/><link href=\"https://web.archive.org/web/20230224123642/https://www.ibm.com/my-en\" hreflang=\"en-my\" rel=\"alternate\"/><link href=\"https://web.archive.org/web/20230224123642/https://www.ibm.com/mu-fr\" hreflang=\"fr-mu\" rel=\"alternate\"/><link href=\"https://web.archive.org/web/20230224123642/https://www.ibm.com/mx-es\" hreflang=\"es-mx\" rel=\"alternate\"/><link href=\"https://web.archive.org/web/20230224123642/https://www.ibm.com/ms-en\" hreflang=\"en-ms\" rel=\"alternate\"/><link href=\"https://web.archive.org/web/20230224123642/https://www.ibm.com/ma-fr\" hreflang=\"fr-ma\" rel=\"alternate\"/><link href=\"https://web.archive.org/web/20230224123642/https://www.ibm.com/mz-pt\" hreflang=\"pt-mz\" rel=\"alternate\"/><link href=\"https://web.archive.org/web/20230224123642/https://www.ibm.com/na-en\" hreflang=\"en-na\" rel=\"alternate\"/><link href=\"https://web.archive.org/web/20230224123642/https://www.ibm.com/np-en\" hreflang=\"en-np\" rel=\"alternate\"/><link href=\"https://web.archive.org/web/20230224123642/https://www.ibm.com/nl-en\" hreflang=\"en-nl\" rel=\"alternate\"/><link href=\"https://web.archive.org/web/20230224123642/https://www.ibm.com/nz-en\" hreflang=\"en-nz\" rel=\"alternate\"/><link href=\"https://web.archive.org/web/20230224123642/https://www.ibm.com/ne-fr\" hreflang=\"fr-ne\" rel=\"alternate\"/><link href=\"https://web.archive.org/web/20230224123642/https://www.ibm.com/ng-en\" hreflang=\"en-ng\" rel=\"alternate\"/><link href=\"https://web.archive.org/web/20230224123642/https://www.ibm.com/no-en\" hreflang=\"en-no\" rel=\"alternate\"/><link href=\"https://web.archive.org/web/20230224123642/https://www.ibm.com/om-en\" hreflang=\"en-om\" rel=\"alternate\"/><link href=\"https://web.archive.org/web/20230224123642/https://www.ibm.com/pk-en\" hreflang=\"en-pk\" rel=\"alternate\"/><link href=\"https://web.archive.org/web/20230224123642/https://www.ibm.com/py-es\" hreflang=\"es-py\" rel=\"alternate\"/><link href=\"https://web.archive.org/web/20230224123642/https://www.ibm.com/pe-es\" hreflang=\"es-pe\" rel=\"alternate\"/><link href=\"https://web.archive.org/web/20230224123642/https://www.ibm.com/ph-en\" hreflang=\"en-ph\" rel=\"alternate\"/><link href=\"https://web.archive.org/web/20230224123642/https://www.ibm.com/pl-pl\" hreflang=\"pl-pl\" rel=\"alternate\"/><link href=\"https://web.archive.org/web/20230224123642/https://www.ibm.com/pt-en\" hreflang=\"en-pt\" rel=\"alternate\"/><link href=\"https://web.archive.org/web/20230224123642/https://www.ibm.com/qa-en\" hreflang=\"en-qa\" rel=\"alternate\"/><link href=\"https://web.archive.org/web/20230224123642/https://www.ibm.com/ro-en\" hreflang=\"en-ro\" rel=\"alternate\"/><link href=\"https://web.archive.org/web/20230224123642/https://www.ibm.com/ru-ru\" hreflang=\"ru-ru\" rel=\"alternate\"/><link href=\"https://web.archive.org/web/20230224123642/https://www.ibm.com/kn-en\" hreflang=\"en-kn\" rel=\"alternate\"/><link href=\"https://web.archive.org/web/20230224123642/https://www.ibm.com/lc-en\" hreflang=\"en-lc\" rel=\"alternate\"/><link href=\"https://web.archive.org/web/20230224123642/https://www.ibm.com/vc-en\" hreflang=\"en-vc\" rel=\"alternate\"/><link href=\"https://web.archive.org/web/20230224123642/https://www.ibm.com/sa-en\" hreflang=\"en-sa\" rel=\"alternate\"/><link href=\"https://web.archive.org/web/20230224123642/https://www.ibm.com/sn-fr\" hreflang=\"fr-sn\" rel=\"alternate\"/><link href=\"https://web.archive.org/web/20230224123642/https://www.ibm.com/rs-en\" hreflang=\"en-rs\" rel=\"alternate\"/><link href=\"https://web.archive.org/web/20230224123642/https://www.ibm.com/sc-fr\" hreflang=\"fr-sc\" rel=\"alternate\"/><link href=\"https://web.archive.org/web/20230224123642/https://www.ibm.com/sl-en\" hreflang=\"en-sl\" rel=\"alternate\"/><link href=\"https://web.archive.org/web/20230224123642/https://www.ibm.com/sg-en\" hreflang=\"en-sg\" rel=\"alternate\"/><link href=\"https://web.archive.org/web/20230224123642/https://www.ibm.com/sk-en\" hreflang=\"en-sk\" rel=\"alternate\"/><link href=\"https://web.archive.org/web/20230224123642/https://www.ibm.com/si-en\" hreflang=\"en-si\" rel=\"alternate\"/><link href=\"https://web.archive.org/web/20230224123642/https://www.ibm.com/za-en\" hreflang=\"en-za\" rel=\"alternate\"/><link href=\"https://web.archive.org/web/20230224123642/https://www.ibm.com/es-es\" hreflang=\"es-es\" rel=\"alternate\"/><link href=\"https://web.archive.org/web/20230224123642/https://www.ibm.com/lk-en\" hreflang=\"en-lk\" rel=\"alternate\"/><link href=\"https://web.archive.org/web/20230224123642/https://www.ibm.com/sr-en\" hreflang=\"en-sr\" rel=\"alternate\"/><link href=\"https://web.archive.org/web/20230224123642/https://www.ibm.com/se-en\" hreflang=\"en-se\" rel=\"alternate\"/><link href=\"https://web.archive.org/web/20230224123642/https://www.ibm.com/ch-fr\" hreflang=\"fr-ch\" rel=\"alternate\"/><link href=\"https://web.archive.org/web/20230224123642/https://www.ibm.com/ch-de\" hreflang=\"de-ch\" rel=\"alternate\"/><link href=\"https://web.archive.org/web/20230224123642/https://www.ibm.com/tw-zh\" hreflang=\"zh-tw\" rel=\"alternate\"/><link href=\"https://web.archive.org/web/20230224123642/https://www.ibm.com/tz-en\" hreflang=\"en-tz\" rel=\"alternate\"/><link href=\"https://web.archive.org/web/20230224123642/https://www.ibm.com/th-en\" hreflang=\"en-th\" rel=\"alternate\"/><link href=\"https://web.archive.org/web/20230224123642/https://www.ibm.com/tt-en\" hreflang=\"en-tt\" rel=\"alternate\"/><link href=\"https://web.archive.org/web/20230224123642/https://www.ibm.com/tn-fr\" hreflang=\"fr-tn\" rel=\"alternate\"/><link href=\"https://web.archive.org/web/20230224123642/https://www.ibm.com/tr-tr\" hreflang=\"tr-tr\" rel=\"alternate\"/><link href=\"https://web.archive.org/web/20230224123642/https://www.ibm.com/ye-en\" hreflang=\"en-ye\" rel=\"alternate\"/><link href=\"https://web.archive.org/web/20230224123642/https://www.ibm.com/tc-en\" hreflang=\"en-tc\" rel=\"alternate\"/><link href=\"https://web.archive.org/web/20230224123642/https://www.ibm.com/ua-en\" hreflang=\"en-ua\" rel=\"alternate\"/><link href=\"https://web.archive.org/web/20230224123642/https://www.ibm.com/ug-en\" hreflang=\"en-ug\" rel=\"alternate\"/><link href=\"https://web.archive.org/web/20230224123642/https://www.ibm.com/ae-en\" hreflang=\"en-ae\" rel=\"alternate\"/><link href=\"https://web.archive.org/web/20230224123642/https://www.ibm.com/uk-en\" hreflang=\"en-gb\" rel=\"alternate\"/><link href=\"https://web.archive.org/web/20230224123642/https://www.ibm.com/uy-es\" hreflang=\"es-uy\" rel=\"alternate\"/><link href=\"https://web.archive.org/web/20230224123642/https://www.ibm.com/uz-en\" hreflang=\"en-uz\" rel=\"alternate\"/><link href=\"https://web.archive.org/web/20230224123642/https://www.ibm.com/ve-es\" hreflang=\"es-ve\" rel=\"alternate\"/><link href=\"https://web.archive.org/web/20230224123642/https://www.ibm.com/vn-en\" hreflang=\"en-vn\" rel=\"alternate\"/><link href=\"https://web.archive.org/web/20230224123642/https://www.ibm.com/zm-en\" hreflang=\"en-zm\" rel=\"alternate\"/><link href=\"https://web.archive.org/web/20230224123642/https://www.ibm.com/zw-en\" hreflang=\"en-zw\" rel=\"alternate\"/><meta content=\"155\" name=\"next-head-count\"/><link as=\"style\" href=\"./_next/static/css/styles.00ad75a6.chunk.css\" rel=\"preload\"/><link data-n-g=\"\" href=\"/web/20230224123642cs_/https://www.ibm.com/us-en/_next/static/css/styles.00ad75a6.chunk.css\" rel=\"stylesheet\"/><noscript data-n-css=\"\"></noscript><link as=\"script\" href=\"./_next/static/chunks/webpack-9a6e2dd34947de61505d.js\" rel=\"preload\"/><link as=\"script\" href=\"./_next/static/chunks/framework.602aaa49e9cf44108ea4.js\" rel=\"preload\"/><link as=\"script\" href=\"./_next/static/chunks/commons.56cd7ef778495da405ee.js\" rel=\"preload\"/><link as=\"script\" href=\"./_next/static/chunks/3ef630e34cd10ba68f9d468ac363ff81c534e1e9.d2f601340e1658353edc.js\" rel=\"preload\"/><link as=\"script\" href=\"./_next/static/chunks/main-51700067fcf16cbe3818.js\" rel=\"preload\"/><link as=\"script\" href=\"./_next/static/chunks/styles.3461e1160e1b06bf3496.js\" rel=\"preload\"/><link as=\"script\" href=\"./_next/static/chunks/pages/_app-692f4737856e6f61cf41.js\" rel=\"preload\"/><link as=\"script\" href=\"./_next/static/chunks/1c920f04.f4270e422fa8c16ba0f4.js\" rel=\"preload\"/><link as=\"script\" href=\"./_next/static/chunks/5f6bb6fb.63224c0f3a7ce047c8e2.js\" rel=\"preload\"/><link as=\"script\" href=\"./_next/static/chunks/8f19d780.9518ac89ebf3ed164ec7.js\" rel=\"preload\"/><link as=\"script\" href=\"./_next/static/chunks/8edc3fe5.f57e384a441d6dc22242.js\" rel=\"preload\"/><link as=\"script\" href=\"./_next/static/chunks/fc20e1c4.d98d23767340a1237305.js\" rel=\"preload\"/><link as=\"script\" href=\"./_next/static/chunks/a37fbe3b.f465653335f45cc0fa1b.js\" rel=\"preload\"/><link as=\"script\" href=\"./_next/static/chunks/bc80632e.7250d666a9b091e0e0e4.js\" rel=\"preload\"/><link as=\"script\" href=\"./_next/static/chunks/1dd0fb51.f16e33f7e2db3449d18e.js\" rel=\"preload\"/><link as=\"script\" href=\"./_next/static/chunks/56b0df7b.a548554a4a80dea8f00a.js\" rel=\"preload\"/><link as=\"script\" href=\"./_next/static/chunks/b222b98b.ebaff15e961fd9a66fec.js\" rel=\"preload\"/><link as=\"script\" href=\"./_next/static/chunks/500f7593.4b01426721d5ac82f9ba.js\" rel=\"preload\"/><link as=\"script\" href=\"./_next/static/chunks/5d8d49e442f4e00190cb1a13966c1f91ed87c0f4.c5cea6b9909ecf9bea26.js\" rel=\"preload\"/><link as=\"script\" href=\"./_next/static/chunks/11.f003844d8f71e73157c2.js\" rel=\"preload\"/><link as=\"script\" href=\"./_next/static/chunks/pages/index-6fa402b7cf0ac5e5bee1.js\" rel=\"preload\"/></head><body><div id=\"__next\"><div><div class=\"bx--dotcom-shell\"><main class=\"dds-ce-demo--ui-shell-content\"><div><dds-masthead-container auth-method=\"profile-api\" data-endpoint=\"/common/carbon-for-ibm-dotcom/translations/masthead-footer/v2\" has-contact=\"false\">\n",
       "</dds-masthead-container></div><div class=\"newsflash-placeholder\"></div><div class=\"bx--grid\" id=\"typing-leadspace\"><div class=\"bx--row\"><div class=\"bx--col-lg-14\"><div class=\"bx--typewriter-effect bx--typewriter-effect-large\"><h1 class=\"bx--leadspace-title\"><span class=\"bx--text-black\"></span><span class=\"bx--text-blue\">|</span><span class=\"bx--text-white\">X-Force Threat Intelligence Index</span></h1><p class=\"bx--leadspace-copy\">Backdoor deployments spiked in 2022, but 67% failed due to defender disruption of ransomware attempts</p><ol class=\"bx--buttongroup\" data-autoid=\"dds--button-group\" style=\"--dds--button-group--item-count:1\"><li class=\"bx--buttongroup-item\"><a class=\"bx--btn bx--btn--primary bx--btn--expressive\" copy=\"Get the new report\" data-autoid=\"dds--button-group-0\" href=\"https://web.archive.org/web/20230224123642/https://www.ibm.com/reports/threat-intelligence/\" tabindex=\"0\">Get the new report<svg aria-hidden=\"true\" class=\"bx--btn__icon\" fill=\"currentColor\" focusable=\"false\" height=\"20\" preserveaspectratio=\"xMidYMid meet\" viewbox=\"0 0 20 20\" width=\"20\" xmlns=\"http://www.w3.org/2000/svg\"><path d=\"M11.8 2.8L10.8 3.8 16.2 9.3 1 9.3 1 10.7 16.2 10.7 10.8 16.2 11.8 17.2 19 10z\"></path></svg></a></li></ol></div></div></div></div><hr class=\"bx--hr bx--hr--medium-contrast\" data-autoid=\"dds--hr\"/><div id=\"main-content\" style=\"background-color:#FFF\"><div><div class=\"ibm-br--toc-section\"><section class=\"bx--tableofcontents bx--tableofcontents--white\" data-autoid=\"dds--tableofcontents\"><div class=\"dds-ce--table-of-contents__container\"><div class=\"bx--tableofcontents__sidebar\"><div class=\"bx--tableofcontents__mobile-top\"></div><div style=\"position:sticky;top:64px\"><div class=\"bx--tableofcontents__desktop\" data-autoid=\"dds--tableofcontents__desktop\"><ul></ul></div><div class=\"bx--tableofcontents__mobile\" data-autoid=\"dds--tableofcontents__mobile\"><div class=\"bx--tableofcontents__mobile__select__wrapper\"><select aria-label=\"Jump to\" class=\"bx--tableofcontents__mobile__select\"><option class=\"bx--tableofcontents__mobile__select__option\" data-autoid=\"dds--tableofcontents__mobile__select__option-menuLabel\" disabled=\"\" hidden=\"\" selected=\"\" value=\"menuLabel\">Jump to ...</option></select><svg aria-label=\"menu icon\" class=\"bx--tableofcontents__mobile__select__icon\" fill=\"currentColor\" focusable=\"false\" height=\"20\" preserveaspectratio=\"xMidYMid meet\" role=\"img\" viewbox=\"0 0 32 32\" width=\"20\" xmlns=\"http://www.w3.org/2000/svg\"><path d=\"M4 6H22V8H4zM4 12H22V14H4zM4 18H22V20H4zM4 24H22V26H4zM26 6H28V8H26zM26 12H28V14H26zM26 18H28V20H26zM26 24H28V26H26z\"></path><title>menu icon</title></svg></div></div></div></div><div class=\"bx--tableofcontents__content\"><div class=\"bx--tableofcontents__content-wrapper\"><a data-title=\"About IBM\" name=\"welcome\"></a><div class=\"ibm--br-intro-section ibm--fade\"><h2 class=\"bx--type-expressive-heading-05 ibm-br--heading-05\">We enable people, ideas and technologies to make the world work better through hybrid cloud and AI</h2><p><div class=\"bx--link-list\" data-autoid=\"dds--link-list\"><ul class=\"bx--link-list__list bx--link-list__list--vertical\"><li class=\"bx--link-list__list__CTA bx--link-list__list--local\"><div><div class=\"bx--link-with-icon__container\" data-autoid=\"dds--link-with-icon\"><a class=\"bx--link bx--link-with-icon bx--link-with-icon--inline-icon bx--link--lg\" href=\"https://web.archive.org/web/20230224123642/https://www.ibm.com/about\"><span>About IBM</span><svg aria-hidden=\"true\" fill=\"currentColor\" focusable=\"false\" height=\"20\" preserveaspectratio=\"xMidYMid meet\" viewbox=\"0 0 20 20\" width=\"20\" xmlns=\"http://www.w3.org/2000/svg\"><path d=\"M11.8 2.8L10.8 3.8 16.2 9.3 1 9.3 1 10.7 16.2 10.7 10.8 16.2 11.8 17.2 19 10z\"></path></svg></a></div></div></li></ul></div></p></div><a data-title=\"Consulting\" name=\"consulting\"></a><div class=\"ibm--spacer\"></div><div class=\"ibm--fade bx--custom-band-consulting\"><h2 class=\"bx--type-productive-heading-07\">Consulting</h2><dds-tabs-extended><dds-tab label=\"Overview\"><div class=\"bx--custom-content-item bx--grid bx--no-gutter\"><div class=\"bx--row\"><div class=\"bx--custom-content-item-col-image\"><div class=\"bx--image\" data-autoid=\"dds--image__longdescription\"><picture><img alt=\"Person standing with arms crossed\" aria-describedby=\"bx--image-1\" class=\"bx--image__img\" src=\"https://web.archive.org/web/20230224123642im_/https://1.dam.s81c.com/p/0a23e414312bcb6f/08196d0e04260ae5_cropped.jpg.global.sr_16x9.jpg\"/></picture><div class=\"bx--image__longdescription\" id=\"bx--image-1\">Person standing with arms crossed</div></div></div><div class=\"bx--custom-content-item-col-content\"><h3>Accelerate together</h3><p>Work with experts to speed business transformation through technology and an open ecosystem approach</p><div class=\"bx--link-list\" data-autoid=\"dds--link-list\"><ul class=\"bx--link-list__list bx--link-list__list--vertical\"><li class=\"bx--link-list__list__CTA bx--link-list__list--local\"><div><div class=\"bx--link-with-icon__container\" data-autoid=\"dds--link-with-icon\"><a class=\"bx--link bx--link-with-icon bx--link-with-icon--inline-icon bx--link--lg\" href=\"https://web.archive.org/web/20230224123642/https://www.ibm.com/consulting/?lnk=flathl\"><span>Explore IBM Consulting services</span><svg aria-hidden=\"true\" fill=\"currentColor\" focusable=\"false\" height=\"20\" preserveaspectratio=\"xMidYMid meet\" viewbox=\"0 0 20 20\" width=\"20\" xmlns=\"http://www.w3.org/2000/svg\"><path d=\"M11.8 2.8L10.8 3.8 16.2 9.3 1 9.3 1 10.7 16.2 10.7 10.8 16.2 11.8 17.2 19 10z\"></path></svg></a></div></div></li></ul></div></div></div></div></dds-tab><dds-tab label=\"Strategy\"><div class=\"bx--custom-content-item bx--grid bx--no-gutter\"><div class=\"bx--row\"><div class=\"bx--custom-content-item-col-image\"><div class=\"bx--image\" data-autoid=\"dds--image__longdescription\"><picture><img alt=\"Team members at work in a conference room\" aria-describedby=\"bx--image-2\" class=\"bx--image__img\" src=\"https://web.archive.org/web/20230224123642im_/https://1.dam.s81c.com/p/06655c075aa3aa29/CaitOppermann_2019_12_06_IBMGarage_DSC3304.jpg.global.m_16x9.jpg\"/></picture><div class=\"bx--image__longdescription\" id=\"bx--image-2\">Team members at work in a conference room</div></div></div><div class=\"bx--custom-content-item-col-content\"><h3>Reimagine everything</h3><p>Your business has the potential to thrive in a digital world. Letâs make it happen.</p><div class=\"bx--link-list\" data-autoid=\"dds--link-list\"><ul class=\"bx--link-list__list bx--link-list__list--vertical\"><li class=\"bx--link-list__list__CTA bx--link-list__list--local\"><div><div class=\"bx--link-with-icon__container\" data-autoid=\"dds--link-with-icon\"><a class=\"bx--link bx--link-with-icon bx--link-with-icon--inline-icon bx--link--lg\" href=\"https://web.archive.org/web/20230224123642/https://www.ibm.com/consulting/strategy/?lnk=flathl\"><span>Create your new strategy</span><svg aria-hidden=\"true\" fill=\"currentColor\" focusable=\"false\" height=\"20\" preserveaspectratio=\"xMidYMid meet\" viewbox=\"0 0 20 20\" width=\"20\" xmlns=\"http://www.w3.org/2000/svg\"><path d=\"M11.8 2.8L10.8 3.8 16.2 9.3 1 9.3 1 10.7 16.2 10.7 10.8 16.2 11.8 17.2 19 10z\"></path></svg></a></div></div></li></ul></div></div></div></div></dds-tab><dds-tab label=\"Experience\"><div class=\"bx--custom-content-item bx--grid bx--no-gutter\"><div class=\"bx--row\"><div class=\"bx--custom-content-item-col-image\"><div class=\"bx--image\" data-autoid=\"dds--image__longdescription\"><picture><img alt=\"Coworkers looking at laptops\" aria-describedby=\"bx--image-3\" class=\"bx--image__img\" src=\"https://web.archive.org/web/20230224123642im_/https://1.dam.s81c.com/p/08f951353c2707b8/052022_CaitOppermann_InsideIBM_London_2945_03.jpg.global.sr_16x9.jpg\"/></picture><div class=\"bx--image__longdescription\" id=\"bx--image-3\">Coworkers looking at laptops</div></div></div><div class=\"bx--custom-content-item-col-content\"><h3>Transformation is a journey</h3><p>A human-centered approach helps IBM Consulting clients transform user experiences</p><div class=\"bx--link-list\" data-autoid=\"dds--link-list\"><ul class=\"bx--link-list__list bx--link-list__list--vertical\"><li class=\"bx--link-list__list__CTA bx--link-list__list--local\"><div><div class=\"bx--link-with-icon__container\" data-autoid=\"dds--link-with-icon\"><a class=\"bx--link bx--link-with-icon bx--link-with-icon--inline-icon bx--link--lg\" href=\"https://web.archive.org/web/20230224123642/https://www.ibm.com/consulting/ibmix?lnk=flathl\"><span>Take the first step</span><svg aria-hidden=\"true\" fill=\"currentColor\" focusable=\"false\" height=\"20\" preserveaspectratio=\"xMidYMid meet\" viewbox=\"0 0 20 20\" width=\"20\" xmlns=\"http://www.w3.org/2000/svg\"><path d=\"M11.8 2.8L10.8 3.8 16.2 9.3 1 9.3 1 10.7 16.2 10.7 10.8 16.2 11.8 17.2 19 10z\"></path></svg></a></div></div></li></ul></div></div></div></div></dds-tab><dds-tab label=\"Technology\"><div class=\"bx--custom-content-item bx--grid bx--no-gutter\"><div class=\"bx--row\"><div class=\"bx--custom-content-item-col-image\"><div class=\"bx--image\" data-autoid=\"dds--image__longdescription\"><picture><img alt=\"Cloud developer with red sweater coding at desk\" aria-describedby=\"bx--image-4\" class=\"bx--image__img\" src=\"https://web.archive.org/web/20230224123642im_/https://1.dam.s81c.com/p/064e0139f5a3aa5e/0500002_Lowell_LI_100119.jpg.global.sr_16x9.jpg\"/></picture><div class=\"bx--image__longdescription\" id=\"bx--image-4\">Cloud developer with red sweater coding at desk</div></div></div><div class=\"bx--custom-content-item-col-content\"><h3>An open future for technology</h3><p>Unite and align your strategy and process to meaningful automation, AI insights and outcomes</p><div class=\"bx--link-list\" data-autoid=\"dds--link-list\"><ul class=\"bx--link-list__list bx--link-list__list--vertical\"><li class=\"bx--link-list__list__CTA bx--link-list__list--local\"><div><div class=\"bx--link-with-icon__container\" data-autoid=\"dds--link-with-icon\"><a class=\"bx--link bx--link-with-icon bx--link-with-icon--inline-icon bx--link--lg\" href=\"https://web.archive.org/web/20230224123642/https://www.ibm.com/consulting/technology/\"><span>Modernize with impact</span><svg aria-hidden=\"true\" fill=\"currentColor\" focusable=\"false\" height=\"20\" preserveaspectratio=\"xMidYMid meet\" viewbox=\"0 0 20 20\" width=\"20\" xmlns=\"http://www.w3.org/2000/svg\"><path d=\"M11.8 2.8L10.8 3.8 16.2 9.3 1 9.3 1 10.7 16.2 10.7 10.8 16.2 11.8 17.2 19 10z\"></path></svg></a></div></div></li></ul></div></div></div></div></dds-tab><dds-tab label=\"Operations\"><div class=\"bx--custom-content-item bx--grid bx--no-gutter\"><div class=\"bx--row\"><div class=\"bx--custom-content-item-col-image\"><div class=\"bx--image\" data-autoid=\"dds--image__longdescription\"><picture><img alt=\"Aerial view of automated conveyer belt and machinery at work\" aria-describedby=\"bx--image-5\" class=\"bx--image__img\" src=\"https://web.archive.org/web/20230224123642im_/https://1.dam.s81c.com/p/0795cae91a25156f/conveyorrobottopview.jpg.global.sr_16x9.jpg\"/></picture><div class=\"bx--image__longdescription\" id=\"bx--image-5\">Aerial view of automated conveyer belt and machinery at work</div></div></div><div class=\"bx--custom-content-item-col-content\"><h3>Operate with experience</h3><p>Flexibly orchestrate your people, process, data and technology to deliver outcomes efficiently</p><div class=\"bx--link-list\" data-autoid=\"dds--link-list\"><ul class=\"bx--link-list__list bx--link-list__list--vertical\"><li class=\"bx--link-list__list__CTA bx--link-list__list--local\"><div><div class=\"bx--link-with-icon__container\" data-autoid=\"dds--link-with-icon\"><a class=\"bx--link bx--link-with-icon bx--link-with-icon--inline-icon bx--link--lg\" href=\"https://web.archive.org/web/20230224123642/https://www.ibm.com/consulting/operations/?lnk=flathl\"><span>Turn ideas into action</span><svg aria-hidden=\"true\" fill=\"currentColor\" focusable=\"false\" height=\"20\" preserveaspectratio=\"xMidYMid meet\" viewbox=\"0 0 20 20\" width=\"20\" xmlns=\"http://www.w3.org/2000/svg\"><path d=\"M11.8 2.8L10.8 3.8 16.2 9.3 1 9.3 1 10.7 16.2 10.7 10.8 16.2 11.8 17.2 19 10z\"></path></svg></a></div></div></li></ul></div></div></div></div></dds-tab><dds-tab label=\"Partners\"><div class=\"bx--custom-content-item bx--grid bx--no-gutter\"><div class=\"bx--row\"><div class=\"bx--custom-content-item-col-image\"><div class=\"bx--image\" data-autoid=\"dds--image__longdescription\"><picture><img alt=\"Overhead view of partners collaborating on design with laptops and coffee\" aria-describedby=\"bx--image-6\" class=\"bx--image__img\" src=\"https://web.archive.org/web/20230224123642im_/https://1.dam.s81c.com/p/06dfa9ccdba4ec79/1f417900-9042-44d1-9c219a854bbb62ea.jpg.global.sr_16x9.jpg\"/></picture><div class=\"bx--image__longdescription\" id=\"bx--image-6\">Overhead view of partners collaborating on design with laptops and coffee</div></div></div><div class=\"bx--custom-content-item-col-content\"><h3>Business relationships that count</h3><p>Partner with platform and infrastructure leaders to build cost-effective, open ecosystems</p><div class=\"bx--link-list\" data-autoid=\"dds--link-list\"><ul class=\"bx--link-list__list bx--link-list__list--vertical\"><li class=\"bx--link-list__list__CTA bx--link-list__list--local\"><div><div class=\"bx--link-with-icon__container\" data-autoid=\"dds--link-with-icon\"><a class=\"bx--link bx--link-with-icon bx--link-with-icon--inline-icon bx--link--lg\" href=\"https://web.archive.org/web/20230224123642/https://www.ibm.com/strategic-partnerships\"><span>Unlock new opportunities</span><svg aria-hidden=\"true\" fill=\"currentColor\" focusable=\"false\" height=\"20\" preserveaspectratio=\"xMidYMid meet\" viewbox=\"0 0 20 20\" width=\"20\" xmlns=\"http://www.w3.org/2000/svg\"><path d=\"M11.8 2.8L10.8 3.8 16.2 9.3 1 9.3 1 10.7 16.2 10.7 10.8 16.2 11.8 17.2 19 10z\"></path></svg></a></div></div></li></ul></div></div></div></div></dds-tab></dds-tabs-extended></div><div class=\"bx--custom-featured-story ibm--fade\"><div class=\"bx--custom-featured-story-heading\"><h2 class=\"bx--type-productive-heading-07\">Whatâs new</h2></div><dds-feature-section class=\"bx--custom-featured-story-section\" media-alignment=\"right\"><dds-image alt=\"Astronaut in a space suit posing with his helmet off\" default-src=\"https://1.dam.s81c.com/p/0a9d035b4eaa2eea/MVH_official_portrait.jpg.global.l_1x1.jpg\" slot=\"image\"><dds-image-item media=\"(min-width: 1312px)\" srcset=\"https://1.dam.s81c.com/p/0a9d035b4eaa2eea/MVH_official_portrait.jpg.global.l_1x1.jpg\"></dds-image-item><dds-image-item media=\"(min-width: 672px)\" srcset=\"https://1.dam.s81c.com/p/0a9d035b4eaa2eea/MVH_official_portrait.jpg.global.sr_4x3.jpg\"></dds-image-item><dds-image-item media=\"(min-width: 320px)\" srcset=\"https://1.dam.s81c.com/p/0a9d035b4eaa2eea/MVH_official_portrait.jpg.global.m_1x1.jpg\"></dds-image-item><dds-image-item media=\"(min-width: 320px)\" srcset=\"https://1.dam.s81c.com/p/0a9d035b4eaa2eea/MVH_official_portrait.jpg.global.s_1x1.jpg\"></dds-image-item></dds-image><dds-content-block-heading>A year in space</dds-content-block-heading><dds-content-item-paragraph slot=\"copy\">Astronaut Mark Vande Hei joins host Malcolm Gladwell to discuss his 355-day mission and what he learned about science and self-discovery</dds-content-item-paragraph><dds-feature-section-card-link class=\"bx--custom-featured-story-section-card-link\" color-scheme=\"inverse\" cta-type=\"local\" href=\"https://www.ibm.com/thought-leadership/smart/talks/\" slot=\"footer\"><dds-card-link-heading>Listen to the Smart Talks podcast</dds-card-link-heading><dds-card-cta-footer color-scheme=\"inverse\"> </dds-card-cta-footer></dds-feature-section-card-link></dds-feature-section></div><a data-title=\"Technology\" id=\"ibm-hp--tech-section\" name=\"Technology\"></a><div class=\"ibm--fade\"><div class=\"bx--custom-widget-band-header\"><h2 class=\"bx--type-productive-heading-07\">Explore our technology</h2></div><div class=\"bx--widget-container\" data-full-width=\"true\" data-localecode=\"en-us\" data-widget=\"product-explorer-main-offering\" id=\"product-explorer-main-offering\"></div></div><a data-title=\"Inside IBM\" name=\"inside-ibm\"></a><div class=\"bx--custom-cards-carousel-wrapper ibm--fade\"><div class=\"bx--custom-cards-carousel-heading\"><h2 class=\"bx--type-productive-heading-07\">Inside IBM</h2></div><div class=\"bx--grid bx--grid--narrow bx--no-gutter\"><div class=\"bx--row\"><div class=\"bx--col bx--no-gutter\"><div class=\"bx--custom-cards-carousel\"><div class=\"bx--card-group__cards__row bx--row--condensed\" data-autoid=\"dds--card-group\" style=\"--dds--card-group--cards-in-row:3\"><div class=\"bx--card-group__cards__col\"><div class=\"bx--card-group__card\"><div class=\"bx--tile bx--card bx--card-link bx--card__CTA bx--card__CardCTA\" data-autoid=\"dds--card\" href=\"https://www.ibm.com/employment/?lnk=flatitem\"><div class=\"bx--card__wrapper\"><div class=\"bx--card__content\"><h3 class=\"bx--card__heading\">Careers at IBM</h3><div class=\"bx--card__copy\"><p>From a safer food supply to ethical AI, your skills can help tackle the worldâs toughest problems</p> </div><a aria-label=\"Careers at IBM\" class=\"bx--link bx--card__footer\" href=\"https://web.archive.org/web/20230224123642/https://www.ibm.com/employment/?lnk=flatitem\"><svg aria-hidden=\"true\" class=\"bx--card__cta\" fill=\"currentColor\" focusable=\"false\" height=\"20\" preserveaspectratio=\"xMidYMid meet\" src=\"[object Object]\" viewbox=\"0 0 20 20\" width=\"20\" xmlns=\"http://www.w3.org/2000/svg\"><path d=\"M11.8 2.8L10.8 3.8 16.2 9.3 1 9.3 1 10.7 16.2 10.7 10.8 16.2 11.8 17.2 19 10z\"></path></svg></a></div></div></div></div></div><div class=\"bx--card-group__cards__col\"><div class=\"bx--card-group__card\"><div class=\"bx--tile bx--card bx--card-link bx--card__CTA bx--card__CardCTA\" data-autoid=\"dds--card\" href=\"https://www.ibm.com/impact\"><div class=\"bx--card__wrapper\"><div class=\"bx--card__content\"><h3 class=\"bx--card__heading\">Corporate social responsibility</h3><div class=\"bx--card__copy\"><p>IBM aspires to make a positive impact on the world, and the places where we work and live</p> </div><a aria-label=\"Corporate social responsibility\" class=\"bx--link bx--card__footer\" href=\"https://web.archive.org/web/20230224123642/https://www.ibm.com/impact\"><svg aria-hidden=\"true\" class=\"bx--card__cta\" fill=\"currentColor\" focusable=\"false\" height=\"20\" preserveaspectratio=\"xMidYMid meet\" src=\"[object Object]\" viewbox=\"0 0 20 20\" width=\"20\" xmlns=\"http://www.w3.org/2000/svg\"><path d=\"M11.8 2.8L10.8 3.8 16.2 9.3 1 9.3 1 10.7 16.2 10.7 10.8 16.2 11.8 17.2 19 10z\"></path></svg></a></div></div></div></div></div><div class=\"bx--card-group__cards__col\"><div class=\"bx--card-group__card\"><div class=\"bx--tile bx--card bx--card-link bx--card__CTA bx--card__CardCTA\" data-autoid=\"dds--card\" href=\"https://research.ibm.com/\"><div class=\"bx--card__wrapper\"><div class=\"bx--card__content\"><h3 class=\"bx--card__heading\">IBM Research</h3><div class=\"bx--card__copy\"><p>Around the globe, 3,000 IBM scientists and design thinkers are inventing whatâs next in computing</p> </div><a aria-label=\"IBM Research\" class=\"bx--link bx--card__footer\" href=\"https://web.archive.org/web/20230224123642/https://research.ibm.com/\"><svg aria-hidden=\"true\" class=\"bx--card__cta\" fill=\"currentColor\" focusable=\"false\" height=\"20\" preserveaspectratio=\"xMidYMid meet\" src=\"[object Object]\" viewbox=\"0 0 20 20\" width=\"20\" xmlns=\"http://www.w3.org/2000/svg\"><path d=\"M11.8 2.8L10.8 3.8 16.2 9.3 1 9.3 1 10.7 16.2 10.7 10.8 16.2 11.8 17.2 19 10z\"></path></svg></a></div></div></div></div></div></div></div></div></div></div></div><div class=\"bx--custom-featured-story ibm--fade\"><div class=\"bx--custom-featured-story-heading\"><h2 class=\"bx--type-productive-heading-07\">Powering the future</h2></div><dds-feature-section class=\"bx--custom-featured-story-section\" media-alignment=\"right\"><dds-image alt=\"IBM quantum computer\" default-src=\"https://1.dam.s81c.com/p/0a23e414312bcb7e/2019_ConnieZhou_BigBets_15.jpg.global.xl_1x1.jpg\" slot=\"image\"><dds-image-item media=\"(min-width: 1312px)\" srcset=\"https://1.dam.s81c.com/p/0a23e414312bcb7e/2019_ConnieZhou_BigBets_15.jpg.global.xl_1x1.jpg\"></dds-image-item><dds-image-item media=\"(min-width: 672px)\" srcset=\"https://1.dam.s81c.com/p/0a23e414312bcb7e/2019_ConnieZhou_BigBets_15.jpg.global.l_4x3.jpg\"></dds-image-item><dds-image-item media=\"(min-width: 320px)\" srcset=\"https://1.dam.s81c.com/p/0a23e414312bcb7e/2019_ConnieZhou_BigBets_15.jpg.global.m_1x1.jpg\"></dds-image-item><dds-image-item media=\"(min-width: 320px)\" srcset=\"https://1.dam.s81c.com/p/0a23e414312bcb7e/2019_ConnieZhou_BigBets_15.jpg.global.s_1x1.jpg\"></dds-image-item></dds-image><dds-content-block-heading>Security in the era of quantum</dds-content-block-heading><dds-content-item-paragraph slot=\"copy\">Through encryption, quantum computing will profoundly alter how we secure our digital economy</dds-content-item-paragraph><dds-feature-section-card-link class=\"bx--custom-featured-story-section-card-link\" color-scheme=\"inverse\" cta-type=\"local\" href=\"https://www.ibm.com/thought-leadership/institute-business-value/en-us/report/quantum-safe-encryption\" slot=\"footer\"><dds-card-link-heading>Read the Expert Insights report</dds-card-link-heading><dds-card-cta-footer color-scheme=\"inverse\"> </dds-card-cta-footer></dds-feature-section-card-link></dds-feature-section></div></div></div></div></section></div></div></div><footer class=\"bx--footer\" data-autoid=\"dds--footer\"><section class=\"bx--footer__main\"><div class=\"bx--footer__main-container\"><div class=\"bx--footer__logo-container\"><div class=\"bx--footer__logo-row\"><div class=\"bx--footer-logo\" data-autoid=\"dds--footer-logo\"><a class=\"bx--footer-logo__link\" data-autoid=\"dds--footer-logo__link\" href=\"https://web.archive.org/web/20230224123642/https://www.ibm.com/\"><svg class=\"bx--footer-logo__logo\" height=\"65\" viewbox=\"0 0 157 65\" width=\"157\" xmlns=\"http://www.w3.org/2000/svg\"><title>IBM Logo</title><path d=\"M30.444 60.208v4.03H0v-4.03h30.444zm78.291-.001v4.03H86.983v-4.03h21.752zm47.858 0v4.03H134.84v-4.03h21.753zm-33.416 0l-1.398 4.03-1.38-4.03h2.778zm-88.384 0h42.775c-2.797 2.426-6.39 3.925-10.327 4.025l-.423.006H34.793v-4.03h42.775zm-4.35-8.46v4.03H0v-4.03h30.444zm52.402 0c-.332 1.248-.8 2.44-1.389 3.555l-.259.474H34.793v-4.029h48.052zm73.748-.005v4.031H134.84v-4.03h21.753zm-47.858 0v4.031H86.983v-4.03h21.752zm17.375 0l-1.398 4.031h-5.85l-1.395-4.03h8.643zM21.745 43.285v4.03H8.698v-4.03h13.047zm61.195 0a17.32 17.32 0 0 1 .476 3.51l.008.52H68.796v-4.03H82.94zm-26.401 0v4.03H43.491v-4.03H56.54zm72.502-.007l-1.396 4.03H115.93l-1.397-4.03h14.507zm18.85 0v4.03h-13.05v-4.03h13.05zm-39.156 0v4.03H95.684v-4.03h13.051zm-86.99-8.454v4.03H8.698v-4.03h13.047zm56.117 0a16.945 16.945 0 0 1 2.926 3.582l.264.447h-37.56v-4.03h34.37zm30.873-.01v4.03H95.684v-4.03h13.051zm39.157 0v4.03H134.84v-4.03h13.052zm-15.919 0l-1.396 4.03h-17.579l-1.396-4.03h20.371zm-50.778-8.452a16.963 16.963 0 0 1-2.82 3.674l-.37.355H43.49v-4.029h37.704zm-59.45 0v4.03H8.698v-4.03h13.047zm126.147-.013v4.031H134.84v-3.839l-1.33 3.839h-11.456l1.373-4.03h24.465zm-27.743 0l1.372 4.031h-11.456l-1.33-3.839v3.84H95.684v-4.032h24.465zm-98.404-8.448v4.03H8.698V17.9h13.047zm61.68 0c0 1.215-.134 2.399-.375 3.542l-.11.487H68.796V17.9h14.628zM56.538 17.9v4.03H43.491V17.9H56.54zm91.352-.015v4.03h-22.954l1.37-4.03h21.584zm-30.624 0l1.372 4.03H95.684v-4.03h21.583zM30.444 9.437v4.03H0v-4.03h30.444zm50.753 0a17.048 17.048 0 0 1 1.498 3.499l.15.531H34.794v-4.03h46.403zm75.396-.018v4.03h-28.776l1.373-4.03h27.403zm-42.207 0l1.372 4.031H86.982V9.42h27.404zM30.444.978v4.03H0V.977h30.444zm36.374 0c3.96 0 7.594 1.415 10.448 3.772l.303.257H34.794V.977h32.024zm89.775-.022v4.031h-25.894l1.372-4.03h24.522zm-45.098 0l1.372 4.03H86.982V.955h24.513z\"></path></svg></a></div><div class=\"bx--locale-btn__container\"><button aria-label=\"\" class=\"bx--locale-btn bx--btn bx--btn--tertiary\" data-autoid=\"dds--locale-btn\" tabindex=\"0\" type=\"button\"><svg aria-hidden=\"true\" aria-label=\"Earth Filled Icon\" class=\"bx--btn__icon\" fill=\"currentColor\" focusable=\"false\" height=\"20\" preserveaspectratio=\"xMidYMid meet\" role=\"img\" viewbox=\"0 0 32 32\" width=\"20\" xmlns=\"http://www.w3.org/2000/svg\"><path d=\"M16,2A14,14,0,1,0,30,16,14.0158,14.0158,0,0,0,16,2ZM4.02,16.394l1.3384.4458L7,19.3027v1.2831a1,1,0,0,0,.2929.7071L10,24v2.3765A11.9941,11.9941,0,0,1,4.02,16.394ZM16,28a11.9682,11.9682,0,0,1-2.5718-.2847L14,26l1.8046-4.5116a1,1,0,0,0-.0964-.9261l-1.4113-2.117A1,1,0,0,0,13.4648,18h-4.93L7.2866,16.1274,9.4141,14H11v2h2V13.2656l3.8682-6.7695-1.7364-.9922L14.2769,7H11.5352l-1.086-1.6289A11.861,11.861,0,0,1,20,4.7V8a1,1,0,0,0,1,1h1.4648a1,1,0,0,0,.8321-.4453l.8769-1.3154A12.0331,12.0331,0,0,1,26.8945,11H22.82a1,1,0,0,0-.9806.8039l-.7221,4.4708a1,1,0,0,0,.54,1.0539L25,19l.6851,4.0557A11.9793,11.9793,0,0,1,16,28Z\"></path></svg></button><div aria-hidden=\"true\" class=\"bx--modal bx--locale-modal-container\" data-autoid=\"dds--locale-modal\" role=\"presentation\"><div aria-label=\",[object Object]\" aria-modal=\"true\" class=\"bx--modal-container\" role=\"dialog\"><button class=\"bx--visually-hidden\" type=\"button\">Focus sentinel</button><div class=\"bx--modal-container-body\"><div class=\"bx--modal-header\"><h2 class=\"bx--modal-header__label bx--type-delta\"><svg aria-hidden=\"true\" class=\"bx--locale-modal__label-globe\" fill=\"currentColor\" focusable=\"false\" height=\"16\" preserveaspectratio=\"xMidYMid meet\" viewbox=\"0 0 32 32\" width=\"16\" xmlns=\"http://www.w3.org/2000/svg\"><path d=\"M16,2A14,14,0,1,0,30,16,14.0158,14.0158,0,0,0,16,2ZM4.02,16.394l1.3384.4458L7,19.3027v1.2831a1,1,0,0,0,.2929.7071L10,24v2.3765A11.9941,11.9941,0,0,1,4.02,16.394ZM16,28a11.9682,11.9682,0,0,1-2.5718-.2847L14,26l1.8046-4.5116a1,1,0,0,0-.0964-.9261l-1.4113-2.117A1,1,0,0,0,13.4648,18h-4.93L7.2866,16.1274,9.4141,14H11v2h2V13.2656l3.8682-6.7695-1.7364-.9922L14.2769,7H11.5352l-1.086-1.6289A11.861,11.861,0,0,1,20,4.7V8a1,1,0,0,0,1,1h1.4648a1,1,0,0,0,.8321-.4453l.8769-1.3154A12.0331,12.0331,0,0,1,26.8945,11H22.82a1,1,0,0,0-.9806.8039l-.7221,4.4708a1,1,0,0,0,.54,1.0539L25,19l.6851,4.0557A11.9793,11.9793,0,0,1,16,28Z\"></path></svg></h2><button aria-label=\"Close\" class=\"bx--modal-close\" title=\"Close\" type=\"button\"><svg aria-hidden=\"true\" class=\"bx--modal-close__icon\" fill=\"currentColor\" focusable=\"false\" height=\"20\" preserveaspectratio=\"xMidYMid meet\" viewbox=\"0 0 32 32\" width=\"20\" xmlns=\"http://www.w3.org/2000/svg\"><path d=\"M24 9.4L22.6 8 16 14.6 9.4 8 8 9.4 14.6 16 8 22.6 9.4 24 16 17.4 22.6 24 24 22.6 17.4 16 24 9.4z\"></path></svg></button></div><div class=\"bx--modal-content bx--locale-modal\"><div class=\"bx--grid bx--no-gutter bx--locale-modal__regions\"><div class=\"bx--row\"></div></div><div class=\"bx--locale-modal__filter\"><div class=\"bx--locale-modal__search\"><div aria-labelledby=\"bx--locale-modal__filter-search\" class=\"bx--search bx--search--xl\" role=\"search\"><div class=\"bx--search-magnifier\"><svg aria-hidden=\"true\" class=\"bx--search-magnifier-icon\" fill=\"currentColor\" focusable=\"false\" height=\"16\" preserveaspectratio=\"xMidYMid meet\" viewbox=\"0 0 16 16\" width=\"16\" xmlns=\"http://www.w3.org/2000/svg\"><path d=\"M15,14.3L10.7,10c1.9-2.3,1.6-5.8-0.7-7.7S4.2,0.7,2.3,3S0.7,8.8,3,10.7c2,1.7,5,1.7,7,0l4.3,4.3L15,14.3z M2,6.5\tC2,4,4,2,6.5,2S11,4,11,6.5S9,11,6.5,11S2,9,2,6.5z\"></path></svg></div><label class=\"bx--label\" for=\"bx--locale-modal__filter\" id=\"bx--locale-modal__filter-search\">Search by location or language</label><input autocomplete=\"off\" class=\"bx--search-input\" data-autoid=\"dds--locale-modal__filter\" id=\"bx--locale-modal__filter\" placeholder=\"\" role=\"searchbox\" tabindex=\"0\" type=\"text\"/><button aria-label=\"Clear search input\" class=\"bx--search-close bx--search-close--hidden\" type=\"button\"><svg aria-hidden=\"true\" fill=\"currentColor\" focusable=\"false\" height=\"16\" preserveaspectratio=\"xMidYMid meet\" viewbox=\"0 0 32 32\" width=\"16\" xmlns=\"http://www.w3.org/2000/svg\"><path d=\"M24 9.4L22.6 8 16 14.6 9.4 8 8 9.4 14.6 16 8 22.6 9.4 24 16 17.4 22.6 24 24 22.6 17.4 16 24 9.4z\"></path></svg></button></div><p class=\"bx--locale-modal__search-text\"></p></div><ul class=\"bx--locale-modal__list\"><p aria-live=\"assertive\" class=\"bx--assistive-text\" role=\"status\"></p></ul></div></div></div><button class=\"bx--visually-hidden\" type=\"button\">Focus sentinel</button></div></div></div></div></div></div></section></footer></main><script src=\"https://web.archive.org/web/20230224123642js_/https://cdn.jsdelivr.net/npm/react@17/umd/react.production.min.js\"></script><script src=\"https://web.archive.org/web/20230224123642js_/https://cdn.jsdelivr.net/npm/react-dom@17/umd/react-dom.production.min.js\"></script><script src=\"https://web.archive.org/web/20230224123642js_/https://cdn.jsdelivr.net/npm/react-intl@5/dist/react-intl.min.js\"></script></div></div><script defer=\"\" src=\"//web.archive.org/web/20230224123642js_/https://1.www.s81c.com/common/stats/ibm-common.js\"></script><link href=\"//web.archive.org/web/20230224123642cs_/https://1.www.s81c.com/common/v18/css/forms.css\" rel=\"stylesheet\"/></div><script id=\"__NEXT_DATA__\" type=\"application/json\">{\"props\":{\"pageProps\":{\"data\":{\"_id\":\"7ec18a83cb1c595406965cba92f231c4\",\"_rev\":\"12390-664dacec7a75f48b5aaa3ac2b7c86663\",\"type\":\"production\",\"sections\":{\"leadspace\":{\"data\":{\"content\":[{\"blocklink\":true,\"largeCol\":\"bx--col-lg-6\",\"imagePos\":\"top right\",\"bgColor\":\"#000000\",\"ctaType\":\"links\",\"ctaColor\":\"gray-90\",\"webm\":\"\",\"gif\":\"\",\"videoImage\":\"\",\"ibmEvLinkTitle\":\"\",\"ibmEvGroup\":\"\",\"ibmEvName\":\"\",\"ibmEvSection\":\"L1\",\"ibmEvTarget\":\"\",\"lsPaddingTop\":\"ibm-pt-5\",\"lsPaddingBottom\":\"ibm-pb-5\",\"ctaOneVideoID\":\"\",\"ctaOneIcon\":\"forward\",\"videoID\":\"\",\"mp4\":\"\",\"type\":\"carbon\",\"ctaTwoVideoID\":\"\",\"ctaTwoIcon\":\"forward\",\"videoType\":\"kaltura\",\"alternate\":true,\"titleType\":\"bx--type-expressive-heading-05\",\"title\":\"The best of IBM 2022\\n\",\"copy\":\"From quantum breakthroughs to drug discovery, these 11 stories point to a brighter, more sustainable future\\n\",\"timestamp\":1671460488507,\"ctaOne\":\"See the year in review\",\"ctaOneLink\":\"https://web.archive.org/web/20230224123642/https://www.ibm.com/thought-leadership/best-of/2022/?lnk=ushpv18l1\",\"airtableID\":\"27195\",\"imageMobile\":\"https://web.archive.org/web/20230224123642/https://1.dam.s81c.com/p/0a23e3c651299e47/20221216-best-of-2022-mobile-720x360.jpg\",\"image\":\"https://web.archive.org/web/20230224123642/https://1.dam.s81c.com/p/0a23e3c651299e48/20221216-best-of-2022-2304x983.jpg\",\"videoPosition\":\"video-center\",\"imageAlt\":\"Collage of semiconductor, 6 new creators, mayflower ship, man in a cleanroom, woman writing on a whiteboard, 2 men moving a mainframe \"}]}},\"newsflash\":{\"data\":{\"content\":[{\"active\":false,\"videoID\":\"\",\"bgColor\":\"#001d6c\",\"videoType\":\"kaltura\",\"ibmEvSection\":\"NF1\",\"airtableID\":\"\",\"sandbox\":false,\"title\":\"\\u003cstrong\\u003eSurvey\\u003c/strong\\u003e: Many perceive technical training and certification as out of reach. IBM SkillsBuild can you help you learn for free, worldwide\\u0026nbsp;\\u0026#8594;\",\"stage\":false,\"timestamp\":1676563315130,\"videoTitle\":\"\",\"videoDesc\":\"\",\"link\":\"https://web.archive.org/web/20230224123642/https://newsroom.ibm.com/2023-02-14-New-IBM-Survey-Reveals-the-Greatest-Perceived-Barrier-to-Professional-or-Technical-Skill-Development-is-that-the-Programs-are-Too-Expensive?lnk=ushpv18nf1\"},{\"active\":false,\"videoID\":\"\",\"bgColor\":\"#001d6c\",\"videoType\":\"kaltura\",\"ibmEvSection\":\"NF2\",\"airtableID\":\"\",\"sandbox\":false,\"title\":\"\\u003cstrong\\u003eNew\\u003c/strong\\u003e: \\u0026nbsp;\\u0026#8594;\",\"stage\":false,\"timestamp\":1676316899591},{\"active\":false,\"videoID\":\"\",\"bgColor\":\"#001d6c\",\"videoType\":\"kaltura\",\"ibmEvSection\":\"NF3\",\"airtableID\":\"\",\"sandbox\":false,\"title\":\"\\u003cstrong\\u003eNew\\u003c/strong\\u003e: \\u0026nbsp;\\u0026#8594;\",\"stage\":false,\"timestamp\":1670900212031,\"videoTitle\":\"\",\"videoDesc\":\"\",\"link\":\"\"},{\"active\":false,\"videoID\":\"\",\"bgColor\":\"#001d6c\",\"videoType\":\"kaltura\",\"ibmEvSection\":\"NF4\",\"airtableID\":\"\",\"sandbox\":false,\"title\":\"\\u003cstrong\\u003eNew\\u003c/strong\\u003e: \\u0026nbsp;\\u0026#8594;\",\"stage\":false,\"timestamp\":1676046144350,\"link\":\"\"},{\"active\":false,\"videoID\":\"\",\"bgColor\":\"#001d6c\",\"videoType\":\"kaltura\",\"ibmEvSection\":\"NF5\",\"airtableID\":\"\",\"sandbox\":false,\"title\":\"\\u003cstrong\\u003eNew\\u003c/strong\\u003e:  IBM and NASA collaborate on new tech using AI to extract climate change insights from existing data\\u0026nbsp;\\u0026#8594;\",\"stage\":false,\"timestamp\":1675694677989,\"link\":\"https://web.archive.org/web/20230224123642/https://research.ibm.com/blog/ibm-nasa-foundation-models?lnk=ushpv18nf5\"},{\"active\":false,\"videoID\":\"\",\"bgColor\":\"#001d6c\",\"videoType\":\"kaltura\",\"ibmEvSection\":\"NF6\",\"airtableID\":\"\",\"sandbox\":false,\"title\":\"\\u003cstrong\\u003eNew\\u003c/strong\\u003e: \\u0026nbsp;\\u0026#8594;\",\"stage\":false,\"timestamp\":1668702082528,\"videoTitle\":\"\",\"videoDesc\":\"\",\"link\":\"\"},{\"active\":false,\"videoID\":\"\",\"bgColor\":\"#001d6c\",\"videoType\":\"kaltura\",\"ibmEvSection\":\"NF7\",\"airtableID\":\"\",\"sandbox\":false,\"title\":\"\\u003cstrong\\u003eNews\\u003c/strong\\u003e: IBM acquires StepZen to help enterprises get more business value from their data and APIs\\u0026nbsp;\\u0026#8594;\",\"stage\":false,\"timestamp\":1675970682146,\"link\":\"https://web.archive.org/web/20230224123642/https://newsroom.ibm.com/IBM-Acquires-StepZen-to-Help-Enterprises-Get-More-Business-Value-from-Their-Data-and-APIs?lnk=ushpv18nf7\"},{\"active\":false,\"videoID\":\"\",\"bgColor\":\"#001d6c\",\"videoType\":\"kaltura\",\"ibmEvSection\":\"NF8\",\"airtableID\":\"\",\"sandbox\":false,\"title\":\"\\u003cstrong\\u003eNew\\u003c/strong\\u003e: \\u0026nbsp;\\u0026#8594;\",\"stage\":false,\"timestamp\":1667576613575}]}},\"mastheadbtn\":{\"data\":{\"content\":[{\"stage\":false,\"tool\":false,\"title\":\"Stay safe, y\\u0026#8217;all.\",\"link\":\"https://web.archive.org/web/20230224123642/https://www.ibm.com/impact/covid-19/?lnk=ushpv18mb\",\"active\":false,\"timestamp\":1591040701251}]}},\"featured\":{\"data\":{\"content\":[{\"videoImage\":\"\",\"videoType\":\"kaltura\",\"ibmEvLinkTitle\":\"\",\"ibmEvGroup\":\"\",\"ibmEvName\":\"\",\"ibmEvSection\":\"F1\",\"ibmEvTarget\":\"\",\"damVideoMP4\":\"\",\"damVideoWebM\":\"\",\"icon\":\"forward\",\"videoID\":\"\",\"title\":\"27164 IBM iX\",\"timestamp\":1670602077463,\"airtableID\":\"27164\",\"eyebrow\":\"IBM iX: design-led, data-driven\",\"copy\":\"A human-centered approach helps IBM Consulting clients transform customer and employee experiences\",\"image\":\"https://web.archive.org/web/20230224123642/https://1.dam.s81c.com/p/0868c64e393cf933/2017_12_Slowell_Inside_IBM_Cloud_developers_242.jpg.global.s_4x3.jpg\",\"imageAlt\":\"Two co-workers talking at a desk\",\"button\":\"\",\"link\":\"https://web.archive.org/web/20230224123642/https://www.ibm.com/consulting/ibmix?lnk=ushpv18f1\"},{\"videoImage\":\"\",\"videoType\":\"youtube\",\"ibmEvLinkTitle\":\"\",\"ibmEvGroup\":\"\",\"ibmEvName\":\"\",\"ibmEvSection\":\"F2\",\"ibmEvTarget\":\"\",\"damVideoMP4\":\"\",\"damVideoWebM\":\"\",\"icon\":\"forward\",\"videoID\":\"\",\"title\":\"27173 Is your business cybersafe?\",\"copy\":\"Work with senior security consultants to understand where you are and where you need to go in this free 3\\u0026#8209;hour workshop\",\"eyebrow\":\"Is your business cybersafe?\\n\",\"timestamp\":1670602025015,\"airtableID\":\"27173\",\"image\":\"https://web.archive.org/web/20230224123642/https://1.dam.s81c.com/p/08a56f9ac246227c/20220801_26754_Countdown-to-Ransomware-guide-security-intelligence-444x333.jpg\",\"link\":\"https://web.archive.org/web/20230224123642/https://www.ibm.com/security/resources/workshop?lnk=ushpv18f2\",\"imageAlt\":\"Three IBM Security employees at a conference table interacting with a man at a whiteboard\"},{\"videoImage\":\"\",\"videoType\":\"youtube\",\"ibmEvLinkTitle\":\"\",\"ibmEvGroup\":\"\",\"ibmEvName\":\"\",\"ibmEvSection\":\"F3\",\"ibmEvTarget\":\"\",\"damVideoMP4\":\"\",\"damVideoWebM\":\"\",\"icon\":\"forward\",\"videoID\":\"\",\"title\":\"27158 Food trust/FSMA\",\"timestamp\":1670605658975,\"airtableID\":\"27158\",\"copy\":\"IBM Food Trust ensures a safer food supply and simplifies compliance with the latest US FDA traceability rules\",\"image\":\"https://web.archive.org/web/20230224123642/https://1.dam.s81c.com/p/04d38222a5bc17ff/84962edd-c289-4d32-ad92a178655984d5.jpg.global.s_4x3.jpg\",\"mobileImg\":\"https://web.archive.org/web/20230224123642/https://1.dam.s81c.com/public/content/dam/worldwide-content/homepage/ul/g/9e/7c/20210823-f-swiss-re-case-study-26069.jpg\",\"eyebrow\":\"A higher standard, farm to fork\",\"link\":\"https://web.archive.org/web/20230224123642/https://www.ibm.com/products/supply-chain-intelligence-suite/food-trust?lnk=ushpv18f3\",\"imageAlt\":\"Oranges on a factory assembly line\"},{\"videoImage\":\"\",\"videoType\":\"youtube\",\"ibmEvLinkTitle\":\"\",\"ibmEvGroup\":\"\",\"ibmEvName\":\"\",\"ibmEvSection\":\"F4\",\"ibmEvTarget\":\"\",\"damVideoMP4\":\"\",\"damVideoWebM\":\"\",\"icon\":\"forward\",\"videoID\":\"\",\"title\":\"27177 Year in review newsletters\",\"image\":\"https://web.archive.org/web/20230224123642/https://1.dam.s81c.com/p/08243aa34ebb7a36/2022_05_10_SpencerLowell_WorkingWorld_IBM_Brand_Library_285.jpg.global.s_4x3.jpg\",\"copy\":\"Three year-in-review newsletters will highlight the impact of todayâs technology on the future of business. Subscribe now.\",\"eyebrow\":\"2022âs top thought leadership\",\"timestamp\":1670853303889,\"airtableID\":\"27177\",\"link\":\"https://web.archive.org/web/20230224123642/https://www.ibm.com/subscribe/?lnk=ushpv18f4\",\"imageAlt\":\"Orion Crew Module solar panel mockup deployment test at NASA Glen Research Center in Sandusky, Ohio\"},{\"subcopy\":\"\",\"ibmEvLinkTitle\":\"\",\"ibmEvGroup\":\"\",\"ibmEvName\":\"\",\"ibmEvSection\":\"F5\",\"ibmEvTarget\":\"\",\"button_mobile\":\"t1\",\"videoID\":\"\",\"icon\":\"forward\",\"image\":\"\",\"title\":\"\",\"eyebrow\":\"\",\"copy\":\"\",\"button\":\"\",\"timestamp\":1644590702649,\"airtableID\":\"\",\"link\":\"\"},{\"subcopy\":\"\",\"ibmEvLinkTitle\":\"\",\"ibmEvGroup\":\"\",\"ibmEvName\":\"\",\"ibmEvSection\":\"F6\",\"ibmEvTarget\":\"\",\"button_mobile\":\"t1\",\"videoID\":\"\",\"icon\":\"forward\",\"image\":\"https://web.archive.org/web/20230224123642/https://1.dam.s81c.com/public/content/dam/worldwide-content/homepage/ul/g/7b/7b/20220117-cloud-simplicity-26358-2304x983.png\",\"title\":\"\",\"eyebrow\":\"A unified cloud experience\",\"copy\":\"Build, deploy and scale faster across any environment with consistency and security\",\"button\":\"Simplify your multicloud\",\"timestamp\":1643665707293,\"airtableID\":\"\",\"link\":\"https://web.archive.org/web/20230224123642/https://www.ibm.com/cloud/campaign/cloud-simplicity?lnk=ushpv18f6\"},{\"videoImage\":\"\",\"videoType\":\"youtube\",\"ibmEvLinkTitle\":\"\",\"ibmEvGroup\":\"\",\"ibmEvName\":\"\",\"ibmEvSection\":\"F7\",\"ibmEvTarget\":\"\",\"damVideoMP4\":\"\",\"damVideoWebM\":\"\",\"icon\":\"forward\",\"videoID\":\"\",\"title\":\"\",\"link\":\"https://web.archive.org/web/20230224123642/https://www.ibm.com/consulting/?lnk=ushpv18f7\",\"image\":\"https://web.archive.org/web/20230224123642/https://1.dam.s81c.com/public/content/dam/worldwide-content/homepage/ul/g/ae/b2/20211103-f-ibm-consulting-26242.gif\",\"eyebrow\":\"Move fast and far with IBM Consulting\",\"copy\":\"Together, we can turn ideas into action better than we ever could alone\",\"button\":\"Navigate the new rules of modern business with a partner you\\u0026nbsp;trust\",\"timestamp\":1643665749045,\"airtableID\":\"\"},{\"videoID\":\"\",\"videoImage\":\"\",\"videoType\":\"youtube\",\"ibmEvLinkTitle\":\"\",\"ibmEvGroup\":\"\",\"ibmEvName\":\"\",\"ibmEvSection\":\"F8\",\"ibmEvTarget\":\"\",\"damVideoMP4\":\"\",\"damVideoWebM\":\"\",\"icon\":\"forward\",\"timestamp\":1643665604671,\"title\":\"\",\"eyebrow\":\"\",\"button\":\"\",\"copy\":\"\",\"image\":\"\",\"link\":\"\",\"airtableID\":\"\"},{\"videoImage\":\"\",\"videoType\":\"kaltura\",\"ibmEvLinkTitle\":\"\",\"ibmEvGroup\":\"\",\"ibmEvName\":\"\",\"ibmEvSection\":\"F9\",\"ibmEvTarget\":\"\",\"damVideoMP4\":\"\",\"damVideoWebM\":\"\",\"icon\":\"forward\",\"videoID\":\"\",\"title\":\"\",\"image\":\"\",\"link\":\"\",\"button\":\"\",\"eyebrow\":\"\",\"copy\":\"\",\"timestamp\":1643665619583,\"airtableID\":\"\"},{\"subcopy\":\"\",\"ibmEvLinkTitle\":\"\",\"ibmEvGroup\":\"\",\"ibmEvName\":\"\",\"ibmEvSection\":\"F10\",\"ibmEvTarget\":\"\",\"button_mobile\":\"t1\",\"videoID\":\"\",\"icon\":\"forward\",\"image\":\"\",\"title\":\"\",\"eyebrow\":\"\",\"copy\":\"\",\"button\":\"\",\"link\":\"\",\"timestamp\":1643665630573,\"airtableID\":\"\"},{\"subcopy\":\"\",\"ibmEvLinkTitle\":\"\",\"ibmEvGroup\":\"\",\"ibmEvName\":\"\",\"ibmEvSection\":\"F11\",\"ibmEvTarget\":\"\",\"button_mobile\":\"t1\",\"videoID\":\"\",\"icon\":\"forward\",\"image\":\"\",\"title\":\"\",\"eyebrow\":\"\",\"copy\":\"\",\"button\":\"\",\"link\":\"\",\"timestamp\":1643665641479,\"airtableID\":\"\"},{\"videoImage\":\"\",\"videoType\":\"kaltura\",\"ibmEvLinkTitle\":\"\",\"ibmEvGroup\":\"\",\"ibmEvName\":\"\",\"ibmEvSection\":\"F12\",\"ibmEvTarget\":\"\",\"damVideoMP4\":\"\",\"damVideoWebM\":\"\",\"icon\":\"forward\",\"videoID\":\"\",\"title\":\"\",\"eyebrow\":\"\",\"copy\":\"\",\"button\":\"\",\"image\":\"\",\"link\":\"\",\"timestamp\":1643665651571,\"airtableID\":\"\"}]},\"config\":{\"type\":\"quatro\",\"totalCards\":\"12\"}},\"research\":{\"data\":{\"content\":[{\"videoImage\":\"\",\"videoType\":\"youtube\",\"ibmEvLinkTitle\":\"\",\"ibmEvGroup\":\"\",\"ibmEvName\":\"\",\"ibmEvSection\":\"R1\",\"ibmEvTarget\":\"\",\"damVideoMP4\":\"\",\"damVideoWebM\":\"\",\"icon\":\"forward\",\"videoID\":\"\",\"title\":\"27189 Spot the dog safety monitor\",\"timestamp\":1670853838373,\"airtableID\":\"27189\",\"image\":\"https://web.archive.org/web/20230224123642/https://1.dam.s81c.com/p/0a23e41430abcb17/20221208-r1-spot-the-dog-robotics-offerings-27188-1600x900.jpg\",\"mobileImg\":\"https://web.archive.org/web/20230224123642/https://1.dam.s81c.com/public/content/dam/worldwide-content/homepage/ul/g/9e/7c/20210823-f-swiss-re-case-study-26069.jpg\",\"headline\":\"Pin-Yu Chen challenges AI every day to build the most trustworthy systems possible\",\"eyebrow\":\"Will Spot the danger-detecting robot be your safety inspectorâs best friend?\",\"imageAlt\":\"composite image featuring Spot, the dog-like robot\",\"copy\":\"\\n\",\"link\":\"https://web.archive.org/web/20230224123642/https://research.ibm.com/blog/ibm-ai-edge-national-grid-monitoring?lnk=ushpv18r1\"},{\"videoImage\":\"\",\"videoType\":\"youtube\",\"ibmEvLinkTitle\":\"\",\"ibmEvGroup\":\"\",\"ibmEvName\":\"\",\"ibmEvSection\":\"R2\",\"ibmEvTarget\":\"\",\"damVideoMP4\":\"\",\"damVideoWebM\":\"\",\"icon\":\"forward\",\"videoID\":\"\",\"title\":\"27190 Quantum Open Science Prize\",\"timestamp\":1670593706262,\"airtableID\":\"27190\",\"copy\":\"\\n\",\"image\":\"https://web.archive.org/web/20230224123642/https://1.dam.s81c.com/p/09f257ea96c87909/20221205-r1-quantum-open-science-prize-1600x900.png\",\"mobileImg\":\"https://web.archive.org/web/20230224123642/https://1.dam.s81c.com/public/content/dam/worldwide-content/homepage/ul/g/9e/7c/20210823-f-swiss-re-case-study-26069.jpg\",\"headline\":\"AI processes can have a massive carbon footprint. They donât have to, thanks to analog AI.\",\"eyebrow\":\"IBM Quantumâs Open Science Prize seeks the best open source solutions to pressing problems\",\"imageAlt\":\"Schematic illustration of the honeycomb-pattered Kagome lattice\",\"link\":\"https://web.archive.org/web/20230224123642/https://research.ibm.com/blog/ibm-quantum-open-science-prize-2022?lnk=ushpv18r2\"},{\"videoImage\":\"\",\"videoType\":\"youtube\",\"ibmEvLinkTitle\":\"\",\"ibmEvGroup\":\"\",\"ibmEvName\":\"\",\"ibmEvSection\":\"R3\",\"ibmEvTarget\":\"\",\"damVideoMP4\":\"\",\"damVideoWebM\":\"\",\"icon\":\"forward\",\"videoID\":\"\",\"title\":\"27191 Ruthenium 1nm chip\",\"timestamp\":1670593873723,\"airtableID\":\"27191\",\"copy\":\"\\n\",\"image\":\"https://web.archive.org/web/20230224123642/https://1.dam.s81c.com/p/09e9905470286c48/20221205-r1-1nm-chips-ruthenium-27178-1600x900.jpg\",\"mobileImg\":\"https://web.archive.org/web/20230224123642/https://1.dam.s81c.com/public/content/dam/worldwide-content/homepage/ul/g/9e/7c/20210823-f-swiss-re-case-study-26069.jpg\",\"headline\":\"AI processes can have a massive carbon footprint. They donât have to, thanks to analog AI.\",\"eyebrow\":\"The 1-nanometer future: a metal called ruthenium will shrink the worldâs smallest chip below 2nm\",\"imageAlt\":\"Fingers holding a chip wafer with a computer chip closeup in an inset\",\"link\":\"https://web.archive.org/web/20230224123642/https://research.ibm.com/blog/1nm-chips-vtfet-ruthenium?lnk=ushpv18r3\"},{\"videoImage\":\"\",\"videoType\":\"youtube\",\"ibmEvLinkTitle\":\"\",\"ibmEvGroup\":\"\",\"ibmEvName\":\"\",\"ibmEvSection\":\"R4\",\"ibmEvTarget\":\"\",\"damVideoMP4\":\"\",\"damVideoWebM\":\"\",\"icon\":\"forward\",\"videoID\":\"https://web.archive.org/web/20230224123642/https://www.ibm.com/thought-leadership/institute-business-value/report/space-cloud-computing\",\"title\":\"27192 PyTorch AI foundation models\",\"timestamp\":1670593999804,\"airtableID\":\"27192\",\"image\":\"https://web.archive.org/web/20230224123642/https://1.dam.s81c.com/p/09e98ff48ebdd003/20221128-r-pytorch-foundational-models-27155-800x450.png\",\"mobileImg\":\"https://web.archive.org/web/20230224123642/https://1.dam.s81c.com/public/content/dam/worldwide-content/homepage/ul/g/9e/7c/20210823-f-swiss-re-case-study-26069.jpg\",\"headline\":\"Pin-Yu Chen challenges AI every day to build the most trustworthy systems possible\",\"eyebrow\":\"Train large AI models using standard Ethernet networking on Red Hat OpenShift, on any cloud\\n\",\"imageAlt\":\"intersecting groups of lines representing networking\",\"copy\":\"\\n\",\"link\":\"https://web.archive.org/web/20230224123642/https://research.ibm.com/blog/ibm-pytorch-cloud-ai-ethernet?lnk=ushpv18r4\"}]},\"config\":{\"enabled\":\"true\",\"type\":\"carousel\",\"totalCards\":\"12\"}},\"makers\":{\"data\":{\"content\":[{\"alternate\":true,\"ctaColor\":\"red-50\",\"ibmEvLinkTitle\":\"\",\"ibmEvGroup\":\"\",\"ibmEvName\":\"case study\",\"ibmEvSection\":\"M1\",\"ibmEvTarget\":\"\",\"imageMobile\":\"\",\"damVideoMP4\":\"\",\"damVideoWebM\":\"\",\"ctaCopyThree\":\"\",\"ctaLinkTwoThree\":\"\",\"imagePos\":\"center center\",\"copyTwo\":\"\",\"videoType\":\"kaltura\",\"eyebrow\":\"Sustainability insights make facilities work more efficiently\",\"airtableID\":\"27171\",\"videoID\":\"\",\"mobileColumnHalf\":true,\"timestamp\":1671118406356,\"ctaLinkOne\":\"https://web.archive.org/web/20230224123642/https://www.ibm.com/case-studies/audi-uk/?lnk=ushpv18cs1\",\"copyOne\":\"A commitment to enhanced user experience enabled Audi UK to deepen its connection to customers\",\"title\":\"27171 GRE-Envizi\",\"ctaCopyOne\":\"See how IBM Consulting helped boost lead generation by 59%\",\"button\":\"See how data provided by the Envizi ESG Suite helped IBM reduce carbon emissions by 62%\",\"copy\":\"IBM Global Real Estate needed a greener way to manage more than 50 million square feet of space worldwide\",\"link\":\"https://web.archive.org/web/20230224123642/https://www.ibm.com/case-studies/ibm-gre?lnk=ushpv18m1\",\"image\":\"https://web.archive.org/web/20230224123642/https://1.dam.s81c.com/p/09e9905470a86c9a/20221212-m-gre-envizi-27171-1600x900.jpg\",\"imageAlt\":\"A Black professional in an office building overlooking green landscape\"},{\"alternate\":true,\"ctaColor\":\"red-50\",\"ibmEvLinkTitle\":\"\",\"ibmEvGroup\":\"\",\"ibmEvName\":\"case study\",\"ibmEvSection\":\"M2\",\"ibmEvTarget\":\"\",\"imageMobile\":\"\",\"damVideoMP4\":\"\",\"damVideoWebM\":\"\",\"ctaCopyThree\":\"\",\"ctaLinkTwoThree\":\"\",\"imagePos\":\"center center\",\"copyTwo\":\"\",\"videoType\":\"kaltura\",\"eyebrow\":\"For predictable trains, we need predictive maintenance\",\"airtableID\":\"27193\",\"videoID\":\"\",\"mobileColumnHalf\":true,\"timestamp\":1670599073776,\"ctaLinkOne\":\"https://web.archive.org/web/20230224123642/https://www.ibm.com/case-studies/audi-uk/?lnk=ushpv18cs1\",\"copyOne\":\"A commitment to enhanced user experience enabled Audi UK to deepen its connection to customers\",\"title\":\"27193 Downer Group\",\"ctaCopyOne\":\"See how IBM Consulting helped boost lead generation by 59%\",\"button\":\"Working with IBM Consulting, they created TrainDNA and increased reliability by 51%\",\"copy\":\"When Australia moved to outsource operation of its railroad system, the Downer Group needed a way to handle a huge new workload\",\"link\":\"https://web.archive.org/web/20230224123642/https://www.ibm.com/case-studies/downer?lnk=ushpv18m2\",\"image\":\"https://web.archive.org/web/20230224123642/https://1.dam.s81c.com/p/09f257ea96c8790a/20221205-m-downer-group-27163-1600x900.jpg\",\"imageAlt\":\"Young woman looking out a train window at the landscape passing by\"},{\"alternate\":true,\"ctaColor\":\"red-50\",\"ibmEvLinkTitle\":\"\",\"ibmEvGroup\":\"\",\"ibmEvName\":\"case study\",\"ibmEvSection\":\"M3\",\"ibmEvTarget\":\"\",\"imageMobile\":\"\",\"damVideoMP4\":\"\",\"damVideoWebM\":\"\",\"ctaCopyThree\":\"\",\"ctaLinkTwoThree\":\"\",\"imagePos\":\"center center\",\"copyTwo\":\"\",\"videoType\":\"kaltura\",\"eyebrow\":\"New Jersey keeps the heat and lights on for those in need\",\"airtableID\":\"27194\",\"videoID\":\"\",\"mobileColumnHalf\":true,\"timestamp\":1670599058497,\"ctaLinkOne\":\"https://web.archive.org/web/20230224123642/https://www.ibm.com/case-studies/audi-uk/?lnk=ushpv18cs1\",\"copyOne\":\"A commitment to enhanced user experience enabled Audi UK to deepen its connection to customers\",\"title\":\"27194 State of New Jersey\",\"ctaCopyOne\":\"See how IBM Consulting helped boost lead generation by 59%\",\"button\":\"IBM Consulting designed a portal that handles 6,200 calls a month, fast-tracking $127M in relief\",\"copy\":\"The pandemic caused many low-income residents to fall behind on their utility bills, putting their home heating at risk\",\"link\":\"https://web.archive.org/web/20230224123642/https://www.ibm.com/case-studies/new-jersey-department-of-community-affairs/?lnk=ushpv18m3\",\"image\":\"https://web.archive.org/web/20230224123642/https://1.dam.s81c.com/p/09e98ff48ebdd004/20221128-m-new-jersey-department-of-community-affairs-27154-1600x900.jpg\",\"imageAlt\":\"Winter view of suburban houses through frost on a window\"}]},\"config\":{\"enabled\":\"true\",\"type\":\"carousel\",\"totalCards\":\"12\"}},\"tech\":{\"data\":{\"content\":[{\"imageMobile\":\"10312017-n-episode6-starwars-600x260.jpg\",\"videoType\":\"kaltura\",\"ibmEvLinkTitle\":\"Dear Tech Sonoma\",\"ibmEvGroup\":\"Advertising\",\"ibmEvName\":\"Ad support\",\"ibmEvSection\":\"DT\",\"ibmEvTarget\":\"\",\"damVideoMP4\":\"\",\"damVideoWebM\":\"\",\"videoID\":\"\",\"icon\":\"forward\",\"copy\":\"\",\"link\":\"\",\"airtableID\":\"\",\"title\":\"\",\"eyebrow\":\"\",\"button\":\"\",\"image\":\"\",\"timestamp\":1598626304757},{\"icon\":\"forward\",\"videoID\":\"\",\"videoType\":\"kaltura\",\"ibmEvLinkTitle\":\"Network Consulting Services\",\"ibmEvGroup\":\"GTS\",\"ibmEvName\":\"service\",\"ibmEvSection\":\"BT\",\"ibmEvTarget\":\"\",\"damVideoMP4\":\"\",\"damVideoWebM\":\"\",\"title\":\"\",\"eyebrow\":\"\",\"image\":\"\",\"copy\":\"\",\"button\":\"\",\"link\":\"\",\"timestamp\":1598626317181,\"airtableID\":\"\"},{\"videoType\":\"kaltura\",\"ibmEvLinkTitle\":\"Systems TechU Las Vegas\",\"ibmEvGroup\":\"STG\",\"ibmEvName\":\"event\",\"ibmEvSection\":\"ST\",\"ibmEvTarget\":\"\",\"damVideoMP4\":\"\",\"damVideoWebM\":\"\",\"videoID\":\"\",\"icon\":\"play\",\"airtableID\":\"\",\"title\":\"\",\"copy\":\"\",\"eyebrow\":\"\",\"link\":\"\",\"image\":\"\",\"button\":\"\",\"timestamp\":1598626329298}]}},\"trials\":{\"data\":{\"content\":[{\"icon\":\"forward\",\"videoID\":\"\",\"videoImage\":\"\",\"videoType\":\"youtube\",\"ibmEvLinkTitle\":\"\",\"ibmEvGroup\":\"\",\"ibmEvName\":\"\",\"ibmEvSection\":\"T1\",\"ibmEvTarget\":\"\",\"damVideoMP4\":\"\",\"damVideoWebM\":\"\",\"timestamp\":1670594621355,\"title\":\"1303 IBM Watson Assistant\",\"airtableID\":\"1303\",\"copy\":\"Help customers get stuff done quickly, easily, on any channel. Ask for a demo.\",\"eyebrow\":\"IBM Watson Assistant\",\"link\":\"https://web.archive.org/web/20230224123642/https://www.ibm.com/products/watson-assistant?lnk=ushpv18t1\\u0026lnk2=trial_WatAssist\\u0026psrc=none\\u0026pexp=def\",\"image\":\"https://web.archive.org/web/20230224123642/https://1.dam.s81c.com/public/content/dam/worldwide-content/homepage/ul/g/ee/15/20220216-t-ibm-watson-assistant.png\",\"imageAlt\":\"The Watson Assistant interface with text boxes and a simulated chatbot\"},{\"subcopy\":\"\",\"ibmEvLinkTitle\":\"\",\"ibmEvGroup\":\"\",\"ibmEvName\":\"\",\"ibmEvSection\":\"T2\",\"ibmEvTarget\":\"\",\"button_mobile\":\"T2\",\"icon\":\"forward\",\"timestamp\":1670594649943,\"title\":\"1304 Cloud Pak for Business Automation\",\"airtableID\":\"1304\",\"copy\":\"Build and scale automation applications on any cloud. Test drive it at no\\u0026nbsp;cost.\",\"eyebrow\":\"Cloud Pak for Business Automation\",\"image\":\"https://web.archive.org/web/20230224123642/https://1.dam.s81c.com/public/content/dam/worldwide-content/homepage/ul/g/67/6a/20220216-t-ibm-cloud-pak-for-automation.png\",\"link\":\"https://web.archive.org/web/20230224123642/https://www.ibm.com/cloud/cloud-pak-for-automation?lnk=ushpv18t2\\u0026lnk2=trial_CloudPakAtm\\u0026psrc=none\\u0026pexp=def\",\"imageAlt\":\"spreadsheet-type charts\"},{\"subcopy\":\"\",\"ibmEvLinkTitle\":\"\",\"ibmEvGroup\":\"\",\"ibmEvName\":\"\",\"ibmEvSection\":\"T3\",\"ibmEvTarget\":\"\",\"button_mobile\":\"T4\",\"timestamp\":1670594670414,\"airtableID\":\"1305\",\"title\":\"1305 IBM Instana Observability\",\"image\":\"https://web.archive.org/web/20230224123642/https://1.dam.s81c.com/p/08f951362f270092/Instana-trial-800x450.jpg\",\"eyebrow\":\"IBM Instana Observability\",\"copy\":\"Easily manage the performance of your microservice applications. Get a free trial.\",\"link\":\"https://web.archive.org/web/20230224123642/https://www.ibm.com/cloud/instana?lnk=ushpv18t3\\u0026lnk2=trial_Instana\\u0026psrc=none\\u0026pexp=def\",\"imageAlt\":\"Instana dashboard with status tables and charts\"},{\"subcopy\":\"\",\"ibmEvLinkTitle\":\"\",\"ibmEvGroup\":\"\",\"ibmEvName\":\"\",\"ibmEvSection\":\"T4\",\"ibmEvTarget\":\"\",\"button_mobile\":\"T4\",\"timestamp\":1645198930856,\"airtableID\":\"\",\"title\":\"\",\"image\":\"\",\"eyebrow\":\"\",\"copy\":\"\",\"button\":\"\",\"link\":\"\"}]}},\"contentspotlight\":{\"data\":{\"content\":[{\"alternate\":true,\"ctaColor\":\"red-50\",\"ibmEvLinkTitle\":\"\",\"ibmEvGroup\":\"\",\"ibmEvName\":\"case study\",\"ibmEvSection\":\"CS1\",\"ibmEvTarget\":\"\",\"imageMobile\":\"\",\"damVideoMP4\":\"\",\"damVideoWebM\":\"\",\"ctaCopyThree\":\"\",\"ctaLinkTwoThree\":\"\",\"imagePos\":\"center left\",\"copyTwo\":\"\",\"videoType\":\"kaltura\",\"eyebrow\":\"\",\"airtableID\":\"\",\"videoID\":\"\",\"mobileColumnHalf\":true,\"timestamp\":1645199476505,\"ctaLinkOne\":\"\",\"copyOne\":\"\",\"title\":\"\",\"ctaCopyOne\":\"\",\"image\":\"\"},{\"alternate\":true,\"image\":\"https://web.archive.org/web/20230224123642/https://1.dam.s81c.com/public/content/dam/worldwide-content/homepage/ul/g/ea/ca/cs-hub-logos-k-1042x1130.png\",\"ctaColor\":\"red-50\",\"videoID\":\"\",\"videoType\":\"youtube\",\"ibmEvLinkTitle\":\"\",\"ibmEvGroup\":\"\",\"ibmEvName\":\"case study\",\"ibmEvSection\":\"CS2\",\"ibmEvTarget\":\"\",\"imageMobile\":\"\",\"damVideoMP4\":\"\",\"damVideoWebM\":\"\",\"ctaCopyThree\":\"\",\"ctaLinkTwoThree\":\"\",\"imagePos\":\"center center\",\"eyebrow\":\"25339\",\"title\":\"Client success stories\",\"ctaCopyTwo\":\"\",\"ctaCopyOne\":\"Read how industry leaders put smart to work\",\"ctaLinkTwo\":\"\",\"ctaLinkOne\":\"https://web.archive.org/web/20230224123642/https://www.ibm.com/case-studies/search?search\\u0026lnk=ushpv18cs2\",\"copyOne\":\"\",\"copyTwo\":\"\",\"timestamp\":1638195426535,\"airtableID\":\"25339\",\"mobileColumnHalf\":true}]},\"config\":{\"type\":\"dos\"}},\"thinknews\":{\"data\":{\"content\":[{\"videoImage\":\"\",\"videoType\":\"youtube\",\"ibmEvLinkTitle\":\"\",\"ibmEvGroup\":\"\",\"ibmEvName\":\"\",\"ibmEvSection\":\"Th1\",\"ibmEvTarget\":\"\",\"damVideoMP4\":\"\",\"damVideoWebM\":\"\",\"icon\":\"forward\",\"videoID\":\"\",\"label\":\"\",\"title\":\"\",\"image\":\"https://web.archive.org/web/20230224123642/https://1.dam.s81c.com/p/0797bc3546c3dcc9/20220405-ibm-z-multiframe-annc-444x320-26343.jpg\",\"copy\":\"Breeze through 25 billion secure transactions daily, across any hybrid cloud structure\",\"eyebrow\":\"\",\"timestamp\":1655481021045,\"airtableID\":\"\",\"link\":\"\",\"active\":false,\"sandbox\":false,\"stage\":false},{\"videoImage\":\"\",\"videoType\":\"youtube\",\"ibmEvLinkTitle\":\"\",\"ibmEvGroup\":\"\",\"ibmEvName\":\"\",\"ibmEvSection\":\"Th2\",\"ibmEvTarget\":\"\",\"damVideoMP4\":\"\",\"damVideoWebM\":\"\",\"icon\":\"forward\",\"videoID\":\"\",\"label\":\"\",\"title\":\"\",\"timestamp\":1655481064068,\"airtableID\":\"\",\"eyebrow\":\"\",\"copy\":\"Four out of five companies surveyed use or plan to adopt AI. Find out why.\\n\",\"link\":\"\",\"active\":false,\"sandbox\":false,\"stage\":false},{\"videoImage\":\"\",\"videoType\":\"youtube\",\"ibmEvLinkTitle\":\"\",\"ibmEvGroup\":\"\",\"ibmEvName\":\"\",\"ibmEvSection\":\"Th3\",\"ibmEvTarget\":\"\",\"damVideoMP4\":\"\",\"damVideoWebM\":\"\",\"icon\":\"forward\",\"videoID\":\"\",\"label\":\"\",\"title\":\"\",\"timestamp\":1655481115853,\"airtableID\":\"\",\"eyebrow\":\"\",\"copy\":\"Boost your growth with up to $120K in cloud credits and expert mentoring when you join the Startup with IBM program\\n\",\"image\":\"https://web.archive.org/web/20230224123642/https://1.dam.s81c.com/public/content/dam/worldwide-content/homepage/ul/g/0e/e0/20220131-startup-26374-444x320.jpg\",\"link\":\"\",\"active\":false,\"sandbox\":false,\"stage\":false},{\"videoImage\":\"\",\"videoType\":\"youtube\",\"ibmEvLinkTitle\":\"\",\"ibmEvGroup\":\"\",\"ibmEvName\":\"\",\"ibmEvSection\":\"Th4\",\"ibmEvTarget\":\"\",\"damVideoMP4\":\"\",\"damVideoWebM\":\"\",\"icon\":\"forward\",\"videoID\":\"\",\"label\":\"\",\"title\":\"\",\"image\":\"https://web.archive.org/web/20230224123642/https://1.dam.s81c.com/p/0797bc3546c3dcc9/20220405-ibm-z-multiframe-annc-444x320-26343.jpg\",\"copy\":\"Breeze through 25 billion secure transactions daily, across any hybrid cloud structure\\n\",\"eyebrow\":\"\",\"timestamp\":1655481135287,\"airtableID\":\"\",\"link\":\"\",\"active\":false,\"sandbox\":false,\"stage\":false},{\"videoImage\":\"\",\"videoType\":\"youtube\",\"ibmEvLinkTitle\":\"\",\"ibmEvGroup\":\"\",\"ibmEvName\":\"\",\"ibmEvSection\":\"Th5\",\"ibmEvTarget\":\"\",\"damVideoMP4\":\"\",\"damVideoWebM\":\"\",\"icon\":\"forward\",\"videoID\":\"\",\"label\":\"Creativity at work\",\"title\":\"\",\"timestamp\":1652111841522,\"airtableID\":\"\",\"eyebrow\":\"Meet the New Creators, 10 visionaries creatively applying technology in business to drive change\",\"copy\":\"Boost your growth with up to $120K in cloud credits and expert mentoring when you join the Startup with IBM program\\n\",\"image\":\"https://web.archive.org/web/20230224123642/https://1.dam.s81c.com/public/content/dam/worldwide-content/homepage/ul/g/0e/e0/20220131-startup-26374-444x320.jpg\",\"link\":\"https://web.archive.org/web/20230224123642/https://www.ibm.com/thought-leadership/new-creators?lnk=ushpv18Th3\",\"active\":false,\"sandbox\":false,\"stage\":false},{\"videoImage\":\"\",\"videoType\":\"youtube\",\"ibmEvLinkTitle\":\"\",\"ibmEvGroup\":\"\",\"ibmEvName\":\"\",\"ibmEvSection\":\"Th6\",\"ibmEvTarget\":\"\",\"damVideoMP4\":\"\",\"damVideoWebM\":\"\",\"icon\":\"forward\",\"videoID\":\"\",\"label\":\"Creativity at work\",\"title\":\"\",\"timestamp\":1652111851031,\"airtableID\":\"\",\"eyebrow\":\"Meet the New Creators, 10 visionaries creatively applying technology in business to drive change\",\"copy\":\"Boost your growth with up to $120K in cloud credits and expert mentoring when you join the Startup with IBM program\\n\",\"image\":\"https://web.archive.org/web/20230224123642/https://1.dam.s81c.com/public/content/dam/worldwide-content/homepage/ul/g/0e/e0/20220131-startup-26374-444x320.jpg\",\"link\":\"https://web.archive.org/web/20230224123642/https://www.ibm.com/thought-leadership/new-creators?lnk=ushpv18Th3\",\"active\":false,\"sandbox\":false,\"stage\":false}]}},\"big6LeadspaceCards\":{\"data\":{\"content\":[{\"title\":\"Work safe. Work smart.\",\"copy\":\"\",\"link\":\"https://web.archive.org/web/20230224123642/https://www.ibm.com/smarter-business/work-safe?lnk=ushpv18cv1\",\"timestamp\":1591797887933},{\"title\":\"Engage customers anywhere with Watson\",\"copy\":\"\",\"link\":\"https://web.archive.org/web/20230224123642/https://www.ibm.com/smarter-business/customer-experience?lnk=ushpv18cv2\",\"timestamp\":1591797833198},{\"title\":\"Enhance your IT resiliency and business continuity\",\"copy\":\"\",\"link\":\"https://web.archive.org/web/20230224123642/https://www.ibm.com/services/business-continuity?lnk=ushpv18cv3\",\"timestamp\":1591797923124},{\"title\":\"Accelerate agility and efficiency with IBM Cloud\",\"copy\":\"\",\"link\":\"https://web.archive.org/web/20230224123642/https://www.ibm.com/cloud/yourcloud?lnk=ushpv18cv4\",\"timestamp\":1591798189360},{\"title\":\"Protect against new cyber risks\",\"copy\":\"\",\"link\":\"https://web.archive.org/web/20230224123642/https://www.ibm.com/security?lnk=ushpv18cv5\",\"timestamp\":1591990121847},{\"title\":\"Build resilient supply chains and operations\",\"copy\":\"\",\"link\":\"https://web.archive.org/web/20230224123642/https://www.ibm.com/supply-chain?lnk=ushpv18cv6\",\"timestamp\":1591990130317}]}},\"certifications\":{\"data\":{\"content\":[{\"ibmEvSection\":\"tc1\",\"image\":\" https://1.dam.s81c.com/public/content/dam/worldwide-content/homepage/ul/g/bb/fd/20211018-cert-tech-u-virtual-edition.png\",\"eyebrow\":\"IBM TechU virtual edition: October 25â28\",\"title\":\"IBM TechU 2021, the virtual edition\",\"button\":\"Register to choose from 250+ sessions and labs, and engage live with experts and peers\",\"timestamp\":1634607850644,\"airtableID\":\"26189\",\"link\":\"https://web.archive.org/web/20230224123642/https://www.ibm.com/training/events/vtechu2021?lnk=ushpv18tc1\",\"mobileImg\":\"https://web.archive.org/web/20230224123642/https://1.dam.s81c.com/public/content/dam/worldwide-content/homepage/ul/g/bb/fd/20211018-cert-tech-u-virtual-edition.png\",\"copy\":\"\\n\"},{\"ibmEvSection\":\"tc2\",\"eyebrow\":\"Design thinking is for everyone\",\"title\":\"26192 Design thinking practitioner \",\"button\":\"Learn how to drive business results by focusing on your usersâ needs in this free course\",\"timestamp\":1634315831253,\"airtableID\":\"26192\",\"mobileImg\":\"https://web.archive.org/web/20230224123642/https://1.dam.s81c.com/public/content/dam/worldwide-content/homepage/ul/g/e1/3b/20211018-cert-design-thinking.jpg\",\"copy\":\"\\n\",\"link\":\"https://web.archive.org/web/20230224123642/https://www.ibm.com/design/thinking/?lnk=ushpv18tc2\",\"image\":\"https://web.archive.org/web/20230224123642/https://1.dam.s81c.com/public/content/dam/worldwide-content/homepage/ul/g/e1/3b/20211018-cert-design-thinking.jpg\"}]},\"config\":{\"enabled\":\"true\"}},\"videonews\":{\"data\":{\"content\":[{\"ibmEvSection\":\"vn1\",\"alternateColor\":true,\"eyebrow\":\"AI can take you to places youâve only dreamed of\\n\",\"title\":\"26324 Data Science: Watson Studio\",\"button\":\"Build and scale trusted AI across any cloud\",\"link\":\"https://web.archive.org/web/20230224123642/https://www.ibm.com/cloud/watson-studio?lnk=ushpv18vn1\",\"timestamp\":1639779183583,\"airtableID\":\"26324\",\"copy\":\"Get there with Watson Studio, a simpler way to turn predictions into decisions collaboratively, on any cloud, on one data and AI platform\",\"videoLength\":\"1:13\",\"videoId\":\"1_iej13uex\",\"image\":\"https://web.archive.org/web/20230224123642/https://1.dam.s81c.com/public/content/dam/worldwide-content/homepage/ul/g/82/93/20211025-vn-data-science-watson-studio-1200x900.jpg\"},{\"ibmEvSection\":\"vn2\",\"eyebrow\":\"A ânever trust, always verifyâ security model\\n\",\"title\":\"26325 Zero Trust Security\",\"button\":\"Read about zero trust architecture and the future of security\",\"timestamp\":1639779210749,\"airtableID\":\"26325\",\"copy\":\"On average, it can take 77 days to contain an insider data breach. Companies with a zero trust framework in place can do so in near-real time.\",\"videoLength\":\"3:06\",\"videoId\":\"1_yr2j7p5f\",\"image\":\"https://web.archive.org/web/20230224123642/https://1.dam.s81c.com/public/content/dam/worldwide-content/homepage/ul/g/2e/5a/20211115-vn-zero-trust-security-26254-1200x900.jpg\",\"alternateColor\":true,\"link\":\"https://web.archive.org/web/20230224123642/https://www.ibm.com/security/zero-trust?lnk=ushpv18vn2\"},{\"ibmEvSection\":\"vn3\",\"eyebrow\":\"Home Trust and IBM Cloud: prepared for the unforeseeable\\n\",\"title\":\"26326 Home Trust CS\",\"button\":\"Learn how the right platform supported the workforce during COVID\\u0026#8209;19 lockdowns\",\"timestamp\":1639779304922,\"airtableID\":\"26326\",\"copy\":\"Because of an early transition to IBM Cloud, one of Canadaâs leading financial institutions was able to change to remote work and thrive in 2020\",\"videoLength\":\"2:37\",\"videoId\":\"1_fz1liaxf\",\"image\":\"https://web.archive.org/web/20230224123642/https://1.dam.s81c.com/public/content/dam/worldwide-content/homepage/ul/g/37/78/20211122-vn-home-trust-26271-1200x900.jpg\",\"alternateColor\":true,\"link\":\"https://web.archive.org/web/20230224123642/https://www.ibm.com/case-studies/home-trust/?lnk=ushpv18vn3\"}]},\"config\":{\"enabled\":\"true\"}}}}},\"__N_SSG\":true},\"page\":\"/\",\"query\":{},\"buildId\":\"0BehGL8Iczuyl_okDuIJa\",\"assetPrefix\":\".\",\"isFallback\":false,\"gsp\":true}</script><script nomodule=\"\" src=\"/web/20230224123642js_/https://www.ibm.com/us-en/_next/static/chunks/polyfills-e4c38ea28892f36667af.js\"></script><script async=\"\" src=\"/web/20230224123642js_/https://www.ibm.com/us-en/_next/static/chunks/webpack-9a6e2dd34947de61505d.js\"></script><script async=\"\" src=\"/web/20230224123642js_/https://www.ibm.com/us-en/_next/static/chunks/framework.602aaa49e9cf44108ea4.js\"></script><script async=\"\" src=\"/web/20230224123642js_/https://www.ibm.com/us-en/_next/static/chunks/commons.56cd7ef778495da405ee.js\"></script><script async=\"\" src=\"/web/20230224123642js_/https://www.ibm.com/us-en/_next/static/chunks/3ef630e34cd10ba68f9d468ac363ff81c534e1e9.d2f601340e1658353edc.js\"></script><script async=\"\" src=\"/web/20230224123642js_/https://www.ibm.com/us-en/_next/static/chunks/main-51700067fcf16cbe3818.js\"></script><script async=\"\" src=\"/web/20230224123642js_/https://www.ibm.com/us-en/_next/static/chunks/styles.3461e1160e1b06bf3496.js\"></script><script async=\"\" src=\"/web/20230224123642js_/https://www.ibm.com/us-en/_next/static/chunks/pages/_app-692f4737856e6f61cf41.js\"></script><script async=\"\" src=\"/web/20230224123642js_/https://www.ibm.com/us-en/_next/static/chunks/1c920f04.f4270e422fa8c16ba0f4.js\"></script><script async=\"\" src=\"/web/20230224123642js_/https://www.ibm.com/us-en/_next/static/chunks/5f6bb6fb.63224c0f3a7ce047c8e2.js\"></script><script async=\"\" src=\"/web/20230224123642js_/https://www.ibm.com/us-en/_next/static/chunks/8f19d780.9518ac89ebf3ed164ec7.js\"></script><script async=\"\" src=\"/web/20230224123642js_/https://www.ibm.com/us-en/_next/static/chunks/8edc3fe5.f57e384a441d6dc22242.js\"></script><script async=\"\" src=\"/web/20230224123642js_/https://www.ibm.com/us-en/_next/static/chunks/fc20e1c4.d98d23767340a1237305.js\"></script><script async=\"\" src=\"/web/20230224123642js_/https://www.ibm.com/us-en/_next/static/chunks/a37fbe3b.f465653335f45cc0fa1b.js\"></script><script async=\"\" src=\"/web/20230224123642js_/https://www.ibm.com/us-en/_next/static/chunks/bc80632e.7250d666a9b091e0e0e4.js\"></script><script async=\"\" src=\"/web/20230224123642js_/https://www.ibm.com/us-en/_next/static/chunks/1dd0fb51.f16e33f7e2db3449d18e.js\"></script><script async=\"\" src=\"/web/20230224123642js_/https://www.ibm.com/us-en/_next/static/chunks/56b0df7b.a548554a4a80dea8f00a.js\"></script><script async=\"\" src=\"/web/20230224123642js_/https://www.ibm.com/us-en/_next/static/chunks/b222b98b.ebaff15e961fd9a66fec.js\"></script><script async=\"\" src=\"/web/20230224123642js_/https://www.ibm.com/us-en/_next/static/chunks/500f7593.4b01426721d5ac82f9ba.js\"></script><script async=\"\" src=\"/web/20230224123642js_/https://www.ibm.com/us-en/_next/static/chunks/5d8d49e442f4e00190cb1a13966c1f91ed87c0f4.c5cea6b9909ecf9bea26.js\"></script><script async=\"\" src=\"/web/20230224123642js_/https://www.ibm.com/us-en/_next/static/chunks/11.f003844d8f71e73157c2.js\"></script><script async=\"\" src=\"/web/20230224123642js_/https://www.ibm.com/us-en/_next/static/chunks/pages/index-6fa402b7cf0ac5e5bee1.js\"></script><script async=\"\" src=\"/web/20230224123642js_/https://www.ibm.com/us-en/_next/static/0BehGL8Iczuyl_okDuIJa/_buildManifest.js\"></script><script async=\"\" src=\"/web/20230224123642js_/https://www.ibm.com/us-en/_next/static/0BehGL8Iczuyl_okDuIJa/_ssgManifest.js\"></script><script src=\"/web/20230224123642js_/https://www.ibm.com/BBMvT9cBN/ZTfRs/BaKA/uk9tNGtLY7uG9G/FwcsSHIcHw0/ZCp3NG/hJJgw\" type=\"text/javascript\"></script><link href=\"/web/20230224123642cs_/https://www.ibm.com/_sec/cp_challenge/sec-3-9.css\" rel=\"stylesheet\" type=\"text/css\"/>\n",
       "<script async=\"\" defer=\"\" src=\"/web/20230224123642js_/https://www.ibm.com/_sec/cp_challenge/sec-cpt-3-9.js\"></script>\n",
       "<div id=\"sec-overlay\" style=\"display:none;\">\n",
       "<div id=\"sec-container\">\n",
       "</div>\n",
       "</div></body></html><!--\n",
       "     FILE ARCHIVED ON 12:36:42 Feb 24, 2023 AND RETRIEVED FROM THE\n",
       "     INTERNET ARCHIVE ON 03:12:51 Mar 02, 2025.\n",
       "     JAVASCRIPT APPENDED BY WAYBACK MACHINE, COPYRIGHT INTERNET ARCHIVE.\n",
       "\n",
       "     ALL OTHER CONTENT MAY ALSO BE PROTECTED BY COPYRIGHT (17 U.S.C.\n",
       "     SECTION 108(a)(3)).\n",
       "-->\n",
       "<!--\n",
       "playback timings (ms):\n",
       "  captures_list: 0.652\n",
       "  exclusion.robots: 0.026\n",
       "  exclusion.robots.policy: 0.016\n",
       "  esindex: 0.012\n",
       "  cdx.remote: 4.488\n",
       "  LoadShardBlock: 272.355 (6)\n",
       "  PetaboxLoader3.datanode: 387.858 (7)\n",
       "  load_resource: 342.932\n",
       "  PetaboxLoader3.resolve: 80.685\n",
       "-->"
      ]
     },
     "execution_count": 52,
     "metadata": {},
     "output_type": "execute_result"
    }
   ],
   "source": [
    "soup = BeautifulSoup(data,\"html.parser\")  # create a soup object using the variable 'data'\n",
    "soup"
   ]
  },
  {
   "cell_type": "markdown",
   "id": "1b4db955-abe6-485d-a3f7-55cf3235ee46",
   "metadata": {},
   "source": [
    "Scrape all links\n"
   ]
  },
  {
   "cell_type": "code",
   "execution_count": 53,
   "id": "c320669f-e823-41a7-a1d3-f333af9b0afa",
   "metadata": {},
   "outputs": [
    {
     "name": "stdout",
     "output_type": "stream",
     "text": [
      "https://web.archive.org/web/20230224123642/https://www.ibm.com/reports/threat-intelligence/\n",
      "https://web.archive.org/web/20230224123642/https://www.ibm.com/about\n",
      "https://web.archive.org/web/20230224123642/https://www.ibm.com/consulting/?lnk=flathl\n",
      "https://web.archive.org/web/20230224123642/https://www.ibm.com/consulting/strategy/?lnk=flathl\n",
      "https://web.archive.org/web/20230224123642/https://www.ibm.com/consulting/ibmix?lnk=flathl\n",
      "https://web.archive.org/web/20230224123642/https://www.ibm.com/consulting/technology/\n",
      "https://web.archive.org/web/20230224123642/https://www.ibm.com/consulting/operations/?lnk=flathl\n",
      "https://web.archive.org/web/20230224123642/https://www.ibm.com/strategic-partnerships\n",
      "https://web.archive.org/web/20230224123642/https://www.ibm.com/employment/?lnk=flatitem\n",
      "https://web.archive.org/web/20230224123642/https://www.ibm.com/impact\n",
      "https://web.archive.org/web/20230224123642/https://research.ibm.com/\n",
      "https://web.archive.org/web/20230224123642/https://www.ibm.com/\n"
     ]
    }
   ],
   "source": [
    "for link in soup.find_all('a',href=True):  # in html anchor/link is represented by the tag <a>\n",
    "\n",
    "    print(link.get('href'))\n"
   ]
  },
  {
   "cell_type": "markdown",
   "id": "5112a18e-2136-42b4-8824-6c0d793b0a54",
   "metadata": {},
   "source": [
    "## Scrape  all images  Tags\n"
   ]
  },
  {
   "cell_type": "code",
   "execution_count": 54,
   "id": "d506968b-fb86-4988-a23f-266511c61cb1",
   "metadata": {},
   "outputs": [
    {
     "name": "stdout",
     "output_type": "stream",
     "text": [
      "<img alt=\"Person standing with arms crossed\" aria-describedby=\"bx--image-1\" class=\"bx--image__img\" src=\"https://web.archive.org/web/20230224123642im_/https://1.dam.s81c.com/p/0a23e414312bcb6f/08196d0e04260ae5_cropped.jpg.global.sr_16x9.jpg\"/>\n",
      "https://web.archive.org/web/20230224123642im_/https://1.dam.s81c.com/p/0a23e414312bcb6f/08196d0e04260ae5_cropped.jpg.global.sr_16x9.jpg\n",
      "<img alt=\"Team members at work in a conference room\" aria-describedby=\"bx--image-2\" class=\"bx--image__img\" src=\"https://web.archive.org/web/20230224123642im_/https://1.dam.s81c.com/p/06655c075aa3aa29/CaitOppermann_2019_12_06_IBMGarage_DSC3304.jpg.global.m_16x9.jpg\"/>\n",
      "https://web.archive.org/web/20230224123642im_/https://1.dam.s81c.com/p/06655c075aa3aa29/CaitOppermann_2019_12_06_IBMGarage_DSC3304.jpg.global.m_16x9.jpg\n",
      "<img alt=\"Coworkers looking at laptops\" aria-describedby=\"bx--image-3\" class=\"bx--image__img\" src=\"https://web.archive.org/web/20230224123642im_/https://1.dam.s81c.com/p/08f951353c2707b8/052022_CaitOppermann_InsideIBM_London_2945_03.jpg.global.sr_16x9.jpg\"/>\n",
      "https://web.archive.org/web/20230224123642im_/https://1.dam.s81c.com/p/08f951353c2707b8/052022_CaitOppermann_InsideIBM_London_2945_03.jpg.global.sr_16x9.jpg\n",
      "<img alt=\"Cloud developer with red sweater coding at desk\" aria-describedby=\"bx--image-4\" class=\"bx--image__img\" src=\"https://web.archive.org/web/20230224123642im_/https://1.dam.s81c.com/p/064e0139f5a3aa5e/0500002_Lowell_LI_100119.jpg.global.sr_16x9.jpg\"/>\n",
      "https://web.archive.org/web/20230224123642im_/https://1.dam.s81c.com/p/064e0139f5a3aa5e/0500002_Lowell_LI_100119.jpg.global.sr_16x9.jpg\n",
      "<img alt=\"Aerial view of automated conveyer belt and machinery at work\" aria-describedby=\"bx--image-5\" class=\"bx--image__img\" src=\"https://web.archive.org/web/20230224123642im_/https://1.dam.s81c.com/p/0795cae91a25156f/conveyorrobottopview.jpg.global.sr_16x9.jpg\"/>\n",
      "https://web.archive.org/web/20230224123642im_/https://1.dam.s81c.com/p/0795cae91a25156f/conveyorrobottopview.jpg.global.sr_16x9.jpg\n",
      "<img alt=\"Overhead view of partners collaborating on design with laptops and coffee\" aria-describedby=\"bx--image-6\" class=\"bx--image__img\" src=\"https://web.archive.org/web/20230224123642im_/https://1.dam.s81c.com/p/06dfa9ccdba4ec79/1f417900-9042-44d1-9c219a854bbb62ea.jpg.global.sr_16x9.jpg\"/>\n",
      "https://web.archive.org/web/20230224123642im_/https://1.dam.s81c.com/p/06dfa9ccdba4ec79/1f417900-9042-44d1-9c219a854bbb62ea.jpg.global.sr_16x9.jpg\n"
     ]
    }
   ],
   "source": [
    "for link in soup.find_all('img'):# in html image is represented by the tag <img>\n",
    "    print(link)\n",
    "    print(link.get('src'))"
   ]
  },
  {
   "cell_type": "markdown",
   "id": "093b8646-d8cd-4a50-a24b-d8c149a57464",
   "metadata": {},
   "source": [
    "## Scrape data from HTML tables\n"
   ]
  },
  {
   "cell_type": "code",
   "execution_count": 55,
   "id": "c57ab634-7682-48ee-9cd2-cb589c9d1a20",
   "metadata": {},
   "outputs": [],
   "source": [
    "#The below url contains an html table with data about colors and color codes.\n",
    "url = \"https://cf-courses-data.s3.us.cloud-object-storage.appdomain.cloud/IBM-DA0321EN-SkillsNetwork/labs/datasets/HTMLColorCodes.html\""
   ]
  },
  {
   "cell_type": "markdown",
   "id": "64fdb335-2190-4b96-ac87-e57452b5fe02",
   "metadata": {},
   "source": [
    "Before proceeding to scrape a web site, you need to examine the contents, and the way data is organized on the website. Open the above url in your browser and check how many rows and columns are there in the color table.\n"
   ]
  },
  {
   "cell_type": "code",
   "execution_count": 56,
   "id": "fc12b2fd-3671-4356-844c-2640bf464923",
   "metadata": {},
   "outputs": [
    {
     "data": {
      "text/plain": [
       "'<html>\\n   <body>\\n      <h1>Partital List  of HTML5 Supported Colors</h1>\\n<table border =\"1\" class=\"main-table\">\\n   <tr>\\n      <td>Number </td>\\n      <td>Color</td>\\n      <td>Color Name</td>\\n      <td>Hex Code<br>#RRGGBB</td>\\n      <td>Decimal Code<br>(R,G,B)</td>\\n   </tr>\\n   <tr>\\n      <td>1</td>\\n      <td style=\"background:lightsalmon;\">&nbsp;</td>\\n      <td>lightsalmon</td>\\n      <td>#FFA07A</td>\\n      <td>rgb(255,160,122)</td>\\n   </tr>\\n   <tr>\\n      <td>2</td>\\n      <td style=\"background:salmon;\">&nbsp;</td>\\n      <td>salmon</td>\\n      <td>#FA8072</td>\\n      <td>rgb(250,128,114)</td>\\n   </tr>\\n   <tr>\\n      <td>3</td>\\n      <td style=\"background:darksalmon;\">&nbsp;</td>\\n      <td>darksalmon</td>\\n      <td>#E9967A</td>\\n      <td>rgb(233,150,122)</td>\\n   </tr>\\n   <tr>\\n      <td>4</td>\\n      <td style=\"background:lightcoral;\">&nbsp;</td>\\n      <td>lightcoral</td>\\n      <td>#F08080</td>\\n      <td>rgb(240,128,128)</td>\\n   </tr>\\n   <tr>\\n      <td>5</td>\\n      <td style=\"background:coral;\">&nbsp;</td>\\n      <td>coral</td>\\n      <td>#FF7F50</td>\\n      <td>rgb(255,127,80)</td>\\n   </tr>\\n   <tr>\\n      <td>6</td>\\n      <td style=\"background:tomato;\">&nbsp;</td>\\n      <td>tomato</td>\\n      <td>#FF6347</td>\\n      <td>rgb(255,99,71)</td>\\n   </tr>\\n   <tr>\\n      <td>7</td>\\n      <td style=\"background:orangered;\">&nbsp;</td>\\n      <td>orangered</td>\\n      <td>#FF4500</td>\\n      <td>rgb(255,69,0)</td>\\n   </tr>\\n   <tr>\\n      <td>8</td>\\n      <td style=\"background:gold;\">&nbsp;</td>\\n      <td>gold</td>\\n      <td>#FFD700</td>\\n      <td>rgb(255,215,0)</td>\\n   </tr>\\n   <tr>\\n      <td>9</td>\\n      <td style=\"background:orange;\">&nbsp;</td>\\n      <td>orange</td>\\n      <td>#FFA500</td>\\n      <td>rgb(255,165,0)</td>\\n   </tr>\\n   <tr>\\n      <td>10</td>\\n      <td style=\"background:darkorange;\">&nbsp;</td>\\n      <td>darkorange</td>\\n      <td>#FF8C00</td>\\n      <td>rgb(255,140,0)</td>\\n   </tr>\\n   <tr>\\n      <td>11</td>\\n      <td style=\"background:lightyellow;\">&nbsp;</td>\\n      <td>lightyellow</td>\\n      <td>#FFFFE0</td>\\n      <td>rgb(255,255,224)</td>\\n   </tr>\\n   <tr>\\n      <td>12</td>\\n      <td style=\"background:lemonchiffon;\">&nbsp;</td>\\n      <td>lemonchiffon</td>\\n      <td>#FFFACD</td>\\n      <td>rgb(255,250,205)</td>\\n   </tr>\\n   <tr>\\n      <td>13</td>\\n      <td style=\"background:papayawhip;\">&nbsp;</td>\\n      <td>papayawhip</td>\\n      <td>#FFEFD5</td>\\n      <td>rgb(255,239,213)</td>\\n   </tr>\\n   <tr>\\n      <td>14</td>\\n      <td style=\"background:moccasin;\">&nbsp;</td>\\n      <td>moccasin</td>\\n      <td>#FFE4B5</td>\\n      <td>rgb(255,228,181)</td>\\n   </tr>\\n   <tr>\\n      <td>15</td>\\n      <td style=\"background:peachpuff;\">&nbsp;</td>\\n      <td>peachpuff</td>\\n      <td>#FFDAB9</td>\\n      <td>rgb(255,218,185)</td>\\n   </tr>\\n   <tr>\\n      <td>16</td>\\n      <td style=\"background:palegoldenrod;\">&nbsp;</td>\\n      <td>palegoldenrod</td>\\n      <td>#EEE8AA</td>\\n      <td>rgb(238,232,170)</td>\\n   </tr>\\n   <tr>\\n      <td>17</td>\\n      <td style=\"background:khaki;\">&nbsp;</td>\\n      <td>khaki</td>\\n      <td>#F0E68C</td>\\n      <td>rgb(240,230,140)</td>\\n   </tr>\\n   <tr>\\n      <td>18</td>\\n      <td style=\"background:darkkhaki;\">&nbsp;</td>\\n      <td>darkkhaki</td>\\n      <td>#BDB76B</td>\\n      <td>rgb(189,183,107)</td>\\n   </tr>\\n   <tr>\\n      <td>19</td>\\n      <td style=\"background:yellow;\">&nbsp;</td>\\n      <td>yellow</td>\\n      <td>#FFFF00</td>\\n      <td>rgb(255,255,0)</td>\\n   </tr>\\n   <tr>\\n      <td>20</td>\\n      <td style=\"background:lawngreen;\">&nbsp;</td>\\n      <td>lawngreen</td>\\n      <td>#7CFC00</td>\\n      <td>rgb(124,252,0)</td>\\n   </tr>\\n   <tr>\\n      <td>21</td>\\n      <td style=\"background:chartreuse;\">&nbsp;</td>\\n      <td>chartreuse</td>\\n      <td>#7FFF00</td>\\n      <td>rgb(127,255,0)</td>\\n   </tr>\\n   <tr>\\n      <td>22</td>\\n      <td style=\"background:limegreen;\">&nbsp;</td>\\n      <td>limegreen</td>\\n      <td>#32CD32</td>\\n      <td>rgb(50,205,50)</td>\\n   </tr>\\n   <tr>\\n      <td>23</td>\\n      <td style=\"background:lime;\">&nbsp;</td>\\n      <td>lime</td>\\n      <td>#00FF00</td>\\n      <td>rgb(0.255.0)</td>\\n   </tr>\\n   <tr>\\n      <td>24</td>\\n      <td style=\"background:forestgreen;\">&nbsp;</td>\\n      <td>forestgreen</td>\\n      <td>#228B22</td>\\n      <td>rgb(34,139,34)</td>\\n   </tr>\\n   <tr>\\n      <td>25</td>\\n      <td style=\"background:green;\">&nbsp;</td>\\n      <td>green</td>\\n      <td>#008000</td>\\n      <td>rgb(0,128,0)</td>\\n   </tr>\\n   <tr>\\n      <td>26</td>\\n      <td style=\"background:powderblue;\">&nbsp;</td>\\n      <td>powderblue</td>\\n      <td>#B0E0E6</td>\\n      <td>rgb(176,224,230)</td>\\n   </tr>\\n   <tr>\\n      <td>27</td>\\n      <td style=\"background:lightblue;\">&nbsp;</td>\\n      <td>lightblue</td>\\n      <td>#ADD8E6</td>\\n      <td>rgb(173,216,230)</td>\\n   </tr>\\n   <tr>\\n      <td>28</td>\\n      <td style=\"background:lightskyblue;\">&nbsp;</td>\\n      <td>lightskyblue</td>\\n      <td>#87CEFA</td>\\n      <td>rgb(135,206,250)</td>\\n   </tr>\\n   <tr>\\n      <td>29</td>\\n      <td style=\"background:skyblue;\">&nbsp;</td>\\n      <td>skyblue</td>\\n      <td>#87CEEB</td>\\n      <td>rgb(135,206,235)</td>\\n   </tr>\\n   <tr>\\n      <td>30</td>\\n      <td style=\"background:deepskyblue;\">&nbsp;</td>\\n      <td>deepskyblue</td>\\n      <td>#00BFFF</td>\\n      <td>rgb(0,191,255)</td>\\n   </tr>\\n   <tr>\\n      <td>31</td>\\n      <td style=\"background:lightsteelblue;\">&nbsp;</td>\\n      <td>lightsteelblue</td>\\n      <td>#B0C4DE</td>\\n      <td>rgb(176,196,222)</td>\\n   </tr>\\n   <tr>\\n      <td>32</td>\\n      <td style=\"background:dodgerblue;\">&nbsp;</td>\\n      <td>dodgerblue</td>\\n      <td>#1E90FF</td>\\n      <td>rgb(30,144,255)</td>\\n   </tr>\\n</table>\\n   </body>\\n</html>'"
      ]
     },
     "execution_count": 56,
     "metadata": {},
     "output_type": "execute_result"
    }
   ],
   "source": [
    "# get the contents of the webpage in text format and store in a variable called data\n",
    "data  = requests.get(url).text\n",
    "data"
   ]
  },
  {
   "cell_type": "code",
   "execution_count": 66,
   "id": "235835ed-d3fb-475c-87c0-1b0cf2e6deff",
   "metadata": {},
   "outputs": [
    {
     "data": {
      "text/plain": [
       "<html>\n",
       "<body>\n",
       "<h1>Partital List  of HTML5 Supported Colors</h1>\n",
       "<table border=\"1\" class=\"main-table\">\n",
       "<tr>\n",
       "<td>Number </td>\n",
       "<td>Color</td>\n",
       "<td>Color Name</td>\n",
       "<td>Hex Code<br/>#RRGGBB</td>\n",
       "<td>Decimal Code<br/>(R,G,B)</td>\n",
       "</tr>\n",
       "<tr>\n",
       "<td>1</td>\n",
       "<td style=\"background:lightsalmon;\"> </td>\n",
       "<td>lightsalmon</td>\n",
       "<td>#FFA07A</td>\n",
       "<td>rgb(255,160,122)</td>\n",
       "</tr>\n",
       "<tr>\n",
       "<td>2</td>\n",
       "<td style=\"background:salmon;\"> </td>\n",
       "<td>salmon</td>\n",
       "<td>#FA8072</td>\n",
       "<td>rgb(250,128,114)</td>\n",
       "</tr>\n",
       "<tr>\n",
       "<td>3</td>\n",
       "<td style=\"background:darksalmon;\"> </td>\n",
       "<td>darksalmon</td>\n",
       "<td>#E9967A</td>\n",
       "<td>rgb(233,150,122)</td>\n",
       "</tr>\n",
       "<tr>\n",
       "<td>4</td>\n",
       "<td style=\"background:lightcoral;\"> </td>\n",
       "<td>lightcoral</td>\n",
       "<td>#F08080</td>\n",
       "<td>rgb(240,128,128)</td>\n",
       "</tr>\n",
       "<tr>\n",
       "<td>5</td>\n",
       "<td style=\"background:coral;\"> </td>\n",
       "<td>coral</td>\n",
       "<td>#FF7F50</td>\n",
       "<td>rgb(255,127,80)</td>\n",
       "</tr>\n",
       "<tr>\n",
       "<td>6</td>\n",
       "<td style=\"background:tomato;\"> </td>\n",
       "<td>tomato</td>\n",
       "<td>#FF6347</td>\n",
       "<td>rgb(255,99,71)</td>\n",
       "</tr>\n",
       "<tr>\n",
       "<td>7</td>\n",
       "<td style=\"background:orangered;\"> </td>\n",
       "<td>orangered</td>\n",
       "<td>#FF4500</td>\n",
       "<td>rgb(255,69,0)</td>\n",
       "</tr>\n",
       "<tr>\n",
       "<td>8</td>\n",
       "<td style=\"background:gold;\"> </td>\n",
       "<td>gold</td>\n",
       "<td>#FFD700</td>\n",
       "<td>rgb(255,215,0)</td>\n",
       "</tr>\n",
       "<tr>\n",
       "<td>9</td>\n",
       "<td style=\"background:orange;\"> </td>\n",
       "<td>orange</td>\n",
       "<td>#FFA500</td>\n",
       "<td>rgb(255,165,0)</td>\n",
       "</tr>\n",
       "<tr>\n",
       "<td>10</td>\n",
       "<td style=\"background:darkorange;\"> </td>\n",
       "<td>darkorange</td>\n",
       "<td>#FF8C00</td>\n",
       "<td>rgb(255,140,0)</td>\n",
       "</tr>\n",
       "<tr>\n",
       "<td>11</td>\n",
       "<td style=\"background:lightyellow;\"> </td>\n",
       "<td>lightyellow</td>\n",
       "<td>#FFFFE0</td>\n",
       "<td>rgb(255,255,224)</td>\n",
       "</tr>\n",
       "<tr>\n",
       "<td>12</td>\n",
       "<td style=\"background:lemonchiffon;\"> </td>\n",
       "<td>lemonchiffon</td>\n",
       "<td>#FFFACD</td>\n",
       "<td>rgb(255,250,205)</td>\n",
       "</tr>\n",
       "<tr>\n",
       "<td>13</td>\n",
       "<td style=\"background:papayawhip;\"> </td>\n",
       "<td>papayawhip</td>\n",
       "<td>#FFEFD5</td>\n",
       "<td>rgb(255,239,213)</td>\n",
       "</tr>\n",
       "<tr>\n",
       "<td>14</td>\n",
       "<td style=\"background:moccasin;\"> </td>\n",
       "<td>moccasin</td>\n",
       "<td>#FFE4B5</td>\n",
       "<td>rgb(255,228,181)</td>\n",
       "</tr>\n",
       "<tr>\n",
       "<td>15</td>\n",
       "<td style=\"background:peachpuff;\"> </td>\n",
       "<td>peachpuff</td>\n",
       "<td>#FFDAB9</td>\n",
       "<td>rgb(255,218,185)</td>\n",
       "</tr>\n",
       "<tr>\n",
       "<td>16</td>\n",
       "<td style=\"background:palegoldenrod;\"> </td>\n",
       "<td>palegoldenrod</td>\n",
       "<td>#EEE8AA</td>\n",
       "<td>rgb(238,232,170)</td>\n",
       "</tr>\n",
       "<tr>\n",
       "<td>17</td>\n",
       "<td style=\"background:khaki;\"> </td>\n",
       "<td>khaki</td>\n",
       "<td>#F0E68C</td>\n",
       "<td>rgb(240,230,140)</td>\n",
       "</tr>\n",
       "<tr>\n",
       "<td>18</td>\n",
       "<td style=\"background:darkkhaki;\"> </td>\n",
       "<td>darkkhaki</td>\n",
       "<td>#BDB76B</td>\n",
       "<td>rgb(189,183,107)</td>\n",
       "</tr>\n",
       "<tr>\n",
       "<td>19</td>\n",
       "<td style=\"background:yellow;\"> </td>\n",
       "<td>yellow</td>\n",
       "<td>#FFFF00</td>\n",
       "<td>rgb(255,255,0)</td>\n",
       "</tr>\n",
       "<tr>\n",
       "<td>20</td>\n",
       "<td style=\"background:lawngreen;\"> </td>\n",
       "<td>lawngreen</td>\n",
       "<td>#7CFC00</td>\n",
       "<td>rgb(124,252,0)</td>\n",
       "</tr>\n",
       "<tr>\n",
       "<td>21</td>\n",
       "<td style=\"background:chartreuse;\"> </td>\n",
       "<td>chartreuse</td>\n",
       "<td>#7FFF00</td>\n",
       "<td>rgb(127,255,0)</td>\n",
       "</tr>\n",
       "<tr>\n",
       "<td>22</td>\n",
       "<td style=\"background:limegreen;\"> </td>\n",
       "<td>limegreen</td>\n",
       "<td>#32CD32</td>\n",
       "<td>rgb(50,205,50)</td>\n",
       "</tr>\n",
       "<tr>\n",
       "<td>23</td>\n",
       "<td style=\"background:lime;\"> </td>\n",
       "<td>lime</td>\n",
       "<td>#00FF00</td>\n",
       "<td>rgb(0.255.0)</td>\n",
       "</tr>\n",
       "<tr>\n",
       "<td>24</td>\n",
       "<td style=\"background:forestgreen;\"> </td>\n",
       "<td>forestgreen</td>\n",
       "<td>#228B22</td>\n",
       "<td>rgb(34,139,34)</td>\n",
       "</tr>\n",
       "<tr>\n",
       "<td>25</td>\n",
       "<td style=\"background:green;\"> </td>\n",
       "<td>green</td>\n",
       "<td>#008000</td>\n",
       "<td>rgb(0,128,0)</td>\n",
       "</tr>\n",
       "<tr>\n",
       "<td>26</td>\n",
       "<td style=\"background:powderblue;\"> </td>\n",
       "<td>powderblue</td>\n",
       "<td>#B0E0E6</td>\n",
       "<td>rgb(176,224,230)</td>\n",
       "</tr>\n",
       "<tr>\n",
       "<td>27</td>\n",
       "<td style=\"background:lightblue;\"> </td>\n",
       "<td>lightblue</td>\n",
       "<td>#ADD8E6</td>\n",
       "<td>rgb(173,216,230)</td>\n",
       "</tr>\n",
       "<tr>\n",
       "<td>28</td>\n",
       "<td style=\"background:lightskyblue;\"> </td>\n",
       "<td>lightskyblue</td>\n",
       "<td>#87CEFA</td>\n",
       "<td>rgb(135,206,250)</td>\n",
       "</tr>\n",
       "<tr>\n",
       "<td>29</td>\n",
       "<td style=\"background:skyblue;\"> </td>\n",
       "<td>skyblue</td>\n",
       "<td>#87CEEB</td>\n",
       "<td>rgb(135,206,235)</td>\n",
       "</tr>\n",
       "<tr>\n",
       "<td>30</td>\n",
       "<td style=\"background:deepskyblue;\"> </td>\n",
       "<td>deepskyblue</td>\n",
       "<td>#00BFFF</td>\n",
       "<td>rgb(0,191,255)</td>\n",
       "</tr>\n",
       "<tr>\n",
       "<td>31</td>\n",
       "<td style=\"background:lightsteelblue;\"> </td>\n",
       "<td>lightsteelblue</td>\n",
       "<td>#B0C4DE</td>\n",
       "<td>rgb(176,196,222)</td>\n",
       "</tr>\n",
       "<tr>\n",
       "<td>32</td>\n",
       "<td style=\"background:dodgerblue;\"> </td>\n",
       "<td>dodgerblue</td>\n",
       "<td>#1E90FF</td>\n",
       "<td>rgb(30,144,255)</td>\n",
       "</tr>\n",
       "</table>\n",
       "</body>\n",
       "</html>"
      ]
     },
     "execution_count": 66,
     "metadata": {},
     "output_type": "execute_result"
    }
   ],
   "source": [
    "soup = BeautifulSoup(data,\"html.parser\")\n",
    "soup\n"
   ]
  },
  {
   "cell_type": "code",
   "execution_count": 57,
   "id": "08bb2a9a-0c9e-41fb-8744-f1ffe3db829e",
   "metadata": {},
   "outputs": [],
   "source": [
    "#find a html table in the web page\n",
    "table = soup.find('table') # in html table is represented by the tag <table>"
   ]
  },
  {
   "cell_type": "code",
   "execution_count": 68,
   "id": "7f6c7735-110b-448e-88d7-b15dfaa2d6e0",
   "metadata": {},
   "outputs": [
    {
     "name": "stdout",
     "output_type": "stream",
     "text": [
      "Color Name--->None\n",
      "lightsalmon--->#FFA07A\n",
      "salmon--->#FA8072\n",
      "darksalmon--->#E9967A\n",
      "lightcoral--->#F08080\n",
      "coral--->#FF7F50\n",
      "tomato--->#FF6347\n",
      "orangered--->#FF4500\n",
      "gold--->#FFD700\n",
      "orange--->#FFA500\n",
      "darkorange--->#FF8C00\n",
      "lightyellow--->#FFFFE0\n",
      "lemonchiffon--->#FFFACD\n",
      "papayawhip--->#FFEFD5\n",
      "moccasin--->#FFE4B5\n",
      "peachpuff--->#FFDAB9\n",
      "palegoldenrod--->#EEE8AA\n",
      "khaki--->#F0E68C\n",
      "darkkhaki--->#BDB76B\n",
      "yellow--->#FFFF00\n",
      "lawngreen--->#7CFC00\n",
      "chartreuse--->#7FFF00\n",
      "limegreen--->#32CD32\n",
      "lime--->#00FF00\n",
      "forestgreen--->#228B22\n",
      "green--->#008000\n",
      "powderblue--->#B0E0E6\n",
      "lightblue--->#ADD8E6\n",
      "lightskyblue--->#87CEFA\n",
      "skyblue--->#87CEEB\n",
      "deepskyblue--->#00BFFF\n",
      "lightsteelblue--->#B0C4DE\n",
      "dodgerblue--->#1E90FF\n"
     ]
    }
   ],
   "source": [
    "#Get all rows from the table\n",
    "for row in table.find_all('tr'): # in html table row is represented by the tag <tr>\n",
    "    # Get all columns in each row.\n",
    "    cols = row.find_all('td') # in html a column is represented by the tag <td>\n",
    "    color_name = cols[2].string # store the value in column 3 as color_name\n",
    "    color_code = cols[3].string # store the value in column 4 as color_code\n",
    "    print(\"{}--->{}\".format(color_name,color_code))"
   ]
  },
  {
   "cell_type": "markdown",
   "id": "f073669e-e584-4e75-b8b3-0c31d44ec546",
   "metadata": {},
   "source": [
    "## Scrape data from HTML tables into a DataFrame using BeautifulSoup and Pandas\n"
   ]
  },
  {
   "cell_type": "code",
   "execution_count": 58,
   "id": "b3432429-43df-4315-880e-310c78952e21",
   "metadata": {},
   "outputs": [],
   "source": [
    "import pandas as pd"
   ]
  },
  {
   "cell_type": "code",
   "execution_count": 59,
   "id": "4241d7fe-121b-46f7-a2cc-7e8f985f94ba",
   "metadata": {},
   "outputs": [],
   "source": [
    "#The below url contains html tables with data about world population.\n",
    "url = \"https://en.wikipedia.org/wiki/World_population\""
   ]
  },
  {
   "cell_type": "markdown",
   "id": "24e34229-95c6-42bf-8940-b4c645951849",
   "metadata": {},
   "source": [
    "Before proceeding to scrape a web site, you need to examine the contents, and the way data is organized on the website. Open the above url in your browser and check the tables on the webpage.\n"
   ]
  },
  {
   "cell_type": "code",
   "execution_count": 60,
   "id": "857eddd8-1dfd-40c8-8643-9da5f30deb24",
   "metadata": {},
   "outputs": [],
   "source": [
    "# get the contents of the webpage in text format and store in a variable called data\n",
    "data  = requests.get(url).text"
   ]
  },
  {
   "cell_type": "code",
   "execution_count": 61,
   "id": "93d691f5-734a-45fc-a328-d17142f4e61b",
   "metadata": {},
   "outputs": [],
   "source": [
    "soup = BeautifulSoup(data,\"html.parser\")"
   ]
  },
  {
   "cell_type": "code",
   "execution_count": 62,
   "id": "3c27cfce-393c-4b29-adde-57a24528ba23",
   "metadata": {},
   "outputs": [],
   "source": [
    "#find all html tables in the web page\n",
    "tables = soup.find_all('table') # in html table is represented by the tag <table>"
   ]
  },
  {
   "cell_type": "code",
   "execution_count": 63,
   "id": "bba68d2d-8255-462b-9e6c-c7532ad90380",
   "metadata": {},
   "outputs": [
    {
     "data": {
      "text/plain": [
       "27"
      ]
     },
     "execution_count": 63,
     "metadata": {},
     "output_type": "execute_result"
    }
   ],
   "source": [
    "# we can see how many tables were found by checking the length of the tables list\n",
    "len(tables)"
   ]
  },
  {
   "cell_type": "markdown",
   "id": "873dec95-0dc5-44b1-b897-4862e64e24ed",
   "metadata": {},
   "source": [
    "Assume that we are looking for the `10 most densly populated countries` table, we can look through the tables list and find the right one we are look for based on the data in each table or we can search for the table name if it is in the table but this option might not always work.\n"
   ]
  },
  {
   "cell_type": "code",
   "execution_count": 64,
   "id": "c0deda4c-aa66-44b8-bed6-6db0cb10a170",
   "metadata": {},
   "outputs": [
    {
     "name": "stdout",
     "output_type": "stream",
     "text": [
      "6\n"
     ]
    }
   ],
   "source": [
    "for index,table in enumerate(tables):\n",
    "    if (\"10 most densely populated countries\" in str(table)):\n",
    "        table_index = index\n",
    "print(table_index)"
   ]
  },
  {
   "cell_type": "markdown",
   "id": "9466ab02-acec-484c-8773-94a64c842414",
   "metadata": {},
   "source": [
    "See if you can locate the table name of the table, `10 most densly populated countries`, below.\n"
   ]
  },
  {
   "cell_type": "code",
   "execution_count": 65,
   "id": "284bd8dd-9b48-4ffb-af21-12aaa57ee3b9",
   "metadata": {},
   "outputs": [
    {
     "name": "stdout",
     "output_type": "stream",
     "text": [
      "<table class=\"wikitable sortable\" style=\"text-align:right\">\n",
      " <caption>\n",
      "  10 most densely populated countries\n",
      "  <small>\n",
      "   (with population above 5 million)\n",
      "  </small>\n",
      "  <sup class=\"reference\" id=\"cite_ref-:10_103-0\">\n",
      "   <a href=\"#cite_note-:10-103\">\n",
      "    <span class=\"cite-bracket\">\n",
      "     [\n",
      "    </span>\n",
      "    98\n",
      "    <span class=\"cite-bracket\">\n",
      "     ]\n",
      "    </span>\n",
      "   </a>\n",
      "  </sup>\n",
      " </caption>\n",
      " <tbody>\n",
      "  <tr>\n",
      "   <th scope=\"col\">\n",
      "    Rank\n",
      "   </th>\n",
      "   <th scope=\"col\">\n",
      "    Country\n",
      "   </th>\n",
      "   <th scope=\"col\">\n",
      "    Population\n",
      "   </th>\n",
      "   <th scope=\"col\">\n",
      "    Area\n",
      "    <br/>\n",
      "    <small>\n",
      "     (km\n",
      "     <sup>\n",
      "      2\n",
      "     </sup>\n",
      "     )\n",
      "    </small>\n",
      "   </th>\n",
      "   <th scope=\"col\">\n",
      "    Density\n",
      "    <br/>\n",
      "    <small>\n",
      "     (pop/km\n",
      "     <sup>\n",
      "      2\n",
      "     </sup>\n",
      "     )\n",
      "    </small>\n",
      "   </th>\n",
      "  </tr>\n",
      "  <tr>\n",
      "   <td>\n",
      "    1\n",
      "   </td>\n",
      "   <td align=\"left\">\n",
      "    <span class=\"flagicon\">\n",
      "     <span class=\"mw-image-border\" typeof=\"mw:File\">\n",
      "      <span>\n",
      "       <img alt=\"\" class=\"mw-file-element\" data-file-height=\"600\" data-file-width=\"900\" decoding=\"async\" height=\"15\" src=\"//upload.wikimedia.org/wikipedia/commons/thumb/4/48/Flag_of_Singapore.svg/23px-Flag_of_Singapore.svg.png\" srcset=\"//upload.wikimedia.org/wikipedia/commons/thumb/4/48/Flag_of_Singapore.svg/35px-Flag_of_Singapore.svg.png 1.5x, //upload.wikimedia.org/wikipedia/commons/thumb/4/48/Flag_of_Singapore.svg/45px-Flag_of_Singapore.svg.png 2x\" width=\"23\"/>\n",
      "      </span>\n",
      "     </span>\n",
      "    </span>\n",
      "    <a href=\"/wiki/Singapore\" title=\"Singapore\">\n",
      "     Singapore\n",
      "    </a>\n",
      "   </td>\n",
      "   <td>\n",
      "    5,921,231\n",
      "   </td>\n",
      "   <td>\n",
      "    719\n",
      "   </td>\n",
      "   <td>\n",
      "    8,235\n",
      "   </td>\n",
      "  </tr>\n",
      "  <tr>\n",
      "   <td>\n",
      "    2\n",
      "   </td>\n",
      "   <td align=\"left\">\n",
      "    <span class=\"flagicon\">\n",
      "     <span class=\"mw-image-border\" typeof=\"mw:File\">\n",
      "      <span>\n",
      "       <img alt=\"\" class=\"mw-file-element\" data-file-height=\"307\" data-file-width=\"512\" decoding=\"async\" height=\"14\" src=\"//upload.wikimedia.org/wikipedia/commons/thumb/f/f9/Flag_of_Bangladesh.svg/23px-Flag_of_Bangladesh.svg.png\" srcset=\"//upload.wikimedia.org/wikipedia/commons/thumb/f/f9/Flag_of_Bangladesh.svg/35px-Flag_of_Bangladesh.svg.png 1.5x, //upload.wikimedia.org/wikipedia/commons/thumb/f/f9/Flag_of_Bangladesh.svg/46px-Flag_of_Bangladesh.svg.png 2x\" width=\"23\"/>\n",
      "      </span>\n",
      "     </span>\n",
      "    </span>\n",
      "    <a href=\"/wiki/Bangladesh\" title=\"Bangladesh\">\n",
      "     Bangladesh\n",
      "    </a>\n",
      "   </td>\n",
      "   <td>\n",
      "    165,650,475\n",
      "   </td>\n",
      "   <td>\n",
      "    148,460\n",
      "   </td>\n",
      "   <td>\n",
      "    1,116\n",
      "   </td>\n",
      "  </tr>\n",
      "  <tr>\n",
      "   <td>\n",
      "    3\n",
      "   </td>\n",
      "   <td align=\"left\">\n",
      "    <p>\n",
      "     <span class=\"flagicon\">\n",
      "      <span class=\"mw-image-border\" typeof=\"mw:File\">\n",
      "       <span>\n",
      "        <img alt=\"\" class=\"mw-file-element\" data-file-height=\"600\" data-file-width=\"1200\" decoding=\"async\" height=\"12\" src=\"//upload.wikimedia.org/wikipedia/commons/thumb/0/00/Flag_of_Palestine.svg/23px-Flag_of_Palestine.svg.png\" srcset=\"//upload.wikimedia.org/wikipedia/commons/thumb/0/00/Flag_of_Palestine.svg/35px-Flag_of_Palestine.svg.png 1.5x, //upload.wikimedia.org/wikipedia/commons/thumb/0/00/Flag_of_Palestine.svg/46px-Flag_of_Palestine.svg.png 2x\" width=\"23\"/>\n",
      "       </span>\n",
      "      </span>\n",
      "     </span>\n",
      "     <a href=\"/wiki/Palestine\" title=\"Palestine\">\n",
      "      Palestine\n",
      "     </a>\n",
      "     <sup class=\"reference\" id=\"cite_ref-104\">\n",
      "      <a href=\"#cite_note-104\">\n",
      "       <span class=\"cite-bracket\">\n",
      "        [\n",
      "       </span>\n",
      "       note 3\n",
      "       <span class=\"cite-bracket\">\n",
      "        ]\n",
      "       </span>\n",
      "      </a>\n",
      "     </sup>\n",
      "     <sup class=\"reference\" id=\"cite_ref-105\">\n",
      "      <a href=\"#cite_note-105\">\n",
      "       <span class=\"cite-bracket\">\n",
      "        [\n",
      "       </span>\n",
      "       99\n",
      "       <span class=\"cite-bracket\">\n",
      "        ]\n",
      "       </span>\n",
      "      </a>\n",
      "     </sup>\n",
      "    </p>\n",
      "   </td>\n",
      "   <td>\n",
      "    5,223,000\n",
      "   </td>\n",
      "   <td>\n",
      "    6,025\n",
      "   </td>\n",
      "   <td>\n",
      "    867\n",
      "   </td>\n",
      "  </tr>\n",
      "  <tr>\n",
      "   <td>\n",
      "    4\n",
      "   </td>\n",
      "   <td align=\"left\">\n",
      "    <span class=\"flagicon\">\n",
      "     <span class=\"mw-image-border\" typeof=\"mw:File\">\n",
      "      <span>\n",
      "       <img alt=\"\" class=\"mw-file-element\" data-file-height=\"600\" data-file-width=\"900\" decoding=\"async\" height=\"15\" src=\"//upload.wikimedia.org/wikipedia/commons/thumb/7/72/Flag_of_the_Republic_of_China.svg/23px-Flag_of_the_Republic_of_China.svg.png\" srcset=\"//upload.wikimedia.org/wikipedia/commons/thumb/7/72/Flag_of_the_Republic_of_China.svg/35px-Flag_of_the_Republic_of_China.svg.png 1.5x, //upload.wikimedia.org/wikipedia/commons/thumb/7/72/Flag_of_the_Republic_of_China.svg/45px-Flag_of_the_Republic_of_China.svg.png 2x\" width=\"23\"/>\n",
      "      </span>\n",
      "     </span>\n",
      "    </span>\n",
      "    <a href=\"/wiki/Taiwan\" title=\"Taiwan\">\n",
      "     Taiwan\n",
      "    </a>\n",
      "    <sup class=\"reference\" id=\"cite_ref-106\">\n",
      "     <a href=\"#cite_note-106\">\n",
      "      <span class=\"cite-bracket\">\n",
      "       [\n",
      "      </span>\n",
      "      note 4\n",
      "      <span class=\"cite-bracket\">\n",
      "       ]\n",
      "      </span>\n",
      "     </a>\n",
      "    </sup>\n",
      "   </td>\n",
      "   <td>\n",
      "    23,580,712\n",
      "   </td>\n",
      "   <td>\n",
      "    35,980\n",
      "   </td>\n",
      "   <td>\n",
      "    655\n",
      "   </td>\n",
      "  </tr>\n",
      "  <tr>\n",
      "   <td>\n",
      "    5\n",
      "   </td>\n",
      "   <td align=\"left\">\n",
      "    <span class=\"flagicon\">\n",
      "     <span class=\"mw-image-border\" typeof=\"mw:File\">\n",
      "      <span>\n",
      "       <img alt=\"\" class=\"mw-file-element\" data-file-height=\"600\" data-file-width=\"900\" decoding=\"async\" height=\"15\" src=\"//upload.wikimedia.org/wikipedia/commons/thumb/0/09/Flag_of_South_Korea.svg/23px-Flag_of_South_Korea.svg.png\" srcset=\"//upload.wikimedia.org/wikipedia/commons/thumb/0/09/Flag_of_South_Korea.svg/35px-Flag_of_South_Korea.svg.png 1.5x, //upload.wikimedia.org/wikipedia/commons/thumb/0/09/Flag_of_South_Korea.svg/45px-Flag_of_South_Korea.svg.png 2x\" width=\"23\"/>\n",
      "      </span>\n",
      "     </span>\n",
      "    </span>\n",
      "    <a href=\"/wiki/South_Korea\" title=\"South Korea\">\n",
      "     South Korea\n",
      "    </a>\n",
      "   </td>\n",
      "   <td>\n",
      "    51,844,834\n",
      "   </td>\n",
      "   <td>\n",
      "    99,720\n",
      "   </td>\n",
      "   <td>\n",
      "    520\n",
      "   </td>\n",
      "  </tr>\n",
      "  <tr>\n",
      "   <td>\n",
      "    6\n",
      "   </td>\n",
      "   <td align=\"left\">\n",
      "    <span class=\"flagicon\">\n",
      "     <span class=\"mw-image-border\" typeof=\"mw:File\">\n",
      "      <span>\n",
      "       <img alt=\"\" class=\"mw-file-element\" data-file-height=\"1920\" data-file-width=\"2880\" decoding=\"async\" height=\"15\" src=\"//upload.wikimedia.org/wikipedia/commons/thumb/5/59/Flag_of_Lebanon.svg/23px-Flag_of_Lebanon.svg.png\" srcset=\"//upload.wikimedia.org/wikipedia/commons/thumb/5/59/Flag_of_Lebanon.svg/35px-Flag_of_Lebanon.svg.png 1.5x, //upload.wikimedia.org/wikipedia/commons/thumb/5/59/Flag_of_Lebanon.svg/45px-Flag_of_Lebanon.svg.png 2x\" width=\"23\"/>\n",
      "      </span>\n",
      "     </span>\n",
      "    </span>\n",
      "    <a href=\"/wiki/Lebanon\" title=\"Lebanon\">\n",
      "     Lebanon\n",
      "    </a>\n",
      "   </td>\n",
      "   <td>\n",
      "    5,296,814\n",
      "   </td>\n",
      "   <td>\n",
      "    10,400\n",
      "   </td>\n",
      "   <td>\n",
      "    509\n",
      "   </td>\n",
      "  </tr>\n",
      "  <tr>\n",
      "   <td>\n",
      "    7\n",
      "   </td>\n",
      "   <td align=\"left\">\n",
      "    <span class=\"flagicon\">\n",
      "     <span class=\"mw-image-border\" typeof=\"mw:File\">\n",
      "      <span>\n",
      "       <img alt=\"\" class=\"mw-file-element\" data-file-height=\"600\" data-file-width=\"900\" decoding=\"async\" height=\"15\" src=\"//upload.wikimedia.org/wikipedia/commons/thumb/1/17/Flag_of_Rwanda.svg/23px-Flag_of_Rwanda.svg.png\" srcset=\"//upload.wikimedia.org/wikipedia/commons/thumb/1/17/Flag_of_Rwanda.svg/35px-Flag_of_Rwanda.svg.png 1.5x, //upload.wikimedia.org/wikipedia/commons/thumb/1/17/Flag_of_Rwanda.svg/45px-Flag_of_Rwanda.svg.png 2x\" width=\"23\"/>\n",
      "      </span>\n",
      "     </span>\n",
      "    </span>\n",
      "    <a href=\"/wiki/Rwanda\" title=\"Rwanda\">\n",
      "     Rwanda\n",
      "    </a>\n",
      "   </td>\n",
      "   <td>\n",
      "    13,173,730\n",
      "   </td>\n",
      "   <td>\n",
      "    26,338\n",
      "   </td>\n",
      "   <td>\n",
      "    500\n",
      "   </td>\n",
      "  </tr>\n",
      "  <tr>\n",
      "   <td>\n",
      "    8\n",
      "   </td>\n",
      "   <td align=\"left\">\n",
      "    <span class=\"flagicon\">\n",
      "     <span class=\"mw-image-border\" typeof=\"mw:File\">\n",
      "      <span>\n",
      "       <img alt=\"\" class=\"mw-file-element\" data-file-height=\"600\" data-file-width=\"1000\" decoding=\"async\" height=\"14\" src=\"//upload.wikimedia.org/wikipedia/commons/thumb/5/50/Flag_of_Burundi.svg/23px-Flag_of_Burundi.svg.png\" srcset=\"//upload.wikimedia.org/wikipedia/commons/thumb/5/50/Flag_of_Burundi.svg/35px-Flag_of_Burundi.svg.png 1.5x, //upload.wikimedia.org/wikipedia/commons/thumb/5/50/Flag_of_Burundi.svg/46px-Flag_of_Burundi.svg.png 2x\" width=\"23\"/>\n",
      "      </span>\n",
      "     </span>\n",
      "    </span>\n",
      "    <a href=\"/wiki/Burundi\" title=\"Burundi\">\n",
      "     Burundi\n",
      "    </a>\n",
      "   </td>\n",
      "   <td>\n",
      "    12,696,478\n",
      "   </td>\n",
      "   <td>\n",
      "    27,830\n",
      "   </td>\n",
      "   <td>\n",
      "    456\n",
      "   </td>\n",
      "  </tr>\n",
      "  <tr>\n",
      "   <td>\n",
      "    9\n",
      "   </td>\n",
      "   <td align=\"left\">\n",
      "    <span class=\"flagicon\">\n",
      "     <span class=\"mw-image-border\" typeof=\"mw:File\">\n",
      "      <span>\n",
      "       <img alt=\"\" class=\"mw-file-element\" data-file-height=\"800\" data-file-width=\"1100\" decoding=\"async\" height=\"15\" src=\"//upload.wikimedia.org/wikipedia/commons/thumb/d/d4/Flag_of_Israel.svg/21px-Flag_of_Israel.svg.png\" srcset=\"//upload.wikimedia.org/wikipedia/commons/thumb/d/d4/Flag_of_Israel.svg/32px-Flag_of_Israel.svg.png 1.5x, //upload.wikimedia.org/wikipedia/commons/thumb/d/d4/Flag_of_Israel.svg/41px-Flag_of_Israel.svg.png 2x\" width=\"21\"/>\n",
      "      </span>\n",
      "     </span>\n",
      "    </span>\n",
      "    <a href=\"/wiki/Israel\" title=\"Israel\">\n",
      "     Israel\n",
      "    </a>\n",
      "   </td>\n",
      "   <td>\n",
      "    9,402,617\n",
      "   </td>\n",
      "   <td>\n",
      "    21,937\n",
      "   </td>\n",
      "   <td>\n",
      "    429\n",
      "   </td>\n",
      "  </tr>\n",
      "  <tr>\n",
      "   <td>\n",
      "    10\n",
      "   </td>\n",
      "   <td align=\"left\">\n",
      "    <span class=\"flagicon\">\n",
      "     <span class=\"mw-image-border\" typeof=\"mw:File\">\n",
      "      <span>\n",
      "       <img alt=\"\" class=\"mw-file-element\" data-file-height=\"600\" data-file-width=\"900\" decoding=\"async\" height=\"15\" src=\"//upload.wikimedia.org/wikipedia/en/thumb/4/41/Flag_of_India.svg/23px-Flag_of_India.svg.png\" srcset=\"//upload.wikimedia.org/wikipedia/en/thumb/4/41/Flag_of_India.svg/35px-Flag_of_India.svg.png 1.5x, //upload.wikimedia.org/wikipedia/en/thumb/4/41/Flag_of_India.svg/45px-Flag_of_India.svg.png 2x\" width=\"23\"/>\n",
      "      </span>\n",
      "     </span>\n",
      "    </span>\n",
      "    <a href=\"/wiki/India\" title=\"India\">\n",
      "     India\n",
      "    </a>\n",
      "   </td>\n",
      "   <td>\n",
      "    1,389,637,446\n",
      "   </td>\n",
      "   <td>\n",
      "    3,287,263\n",
      "   </td>\n",
      "   <td>\n",
      "    423\n",
      "   </td>\n",
      "  </tr>\n",
      " </tbody>\n",
      "</table>\n",
      "\n"
     ]
    }
   ],
   "source": [
    "print(tables[table_index].prettify())"
   ]
  },
  {
   "cell_type": "code",
   "execution_count": 78,
   "id": "6f401e16-95fc-4c4d-b91a-ae993cad6f40",
   "metadata": {},
   "outputs": [
    {
     "data": {
      "text/html": [
       "<div>\n",
       "<style scoped>\n",
       "    .dataframe tbody tr th:only-of-type {\n",
       "        vertical-align: middle;\n",
       "    }\n",
       "\n",
       "    .dataframe tbody tr th {\n",
       "        vertical-align: top;\n",
       "    }\n",
       "\n",
       "    .dataframe thead th {\n",
       "        text-align: right;\n",
       "    }\n",
       "</style>\n",
       "<table border=\"1\" class=\"dataframe\">\n",
       "  <thead>\n",
       "    <tr style=\"text-align: right;\">\n",
       "      <th></th>\n",
       "      <th>Rank</th>\n",
       "      <th>Country</th>\n",
       "      <th>Population</th>\n",
       "      <th>Area</th>\n",
       "      <th>Density</th>\n",
       "    </tr>\n",
       "  </thead>\n",
       "  <tbody>\n",
       "    <tr>\n",
       "      <th>0</th>\n",
       "      <td>1</td>\n",
       "      <td>Singapore</td>\n",
       "      <td>5,921,231</td>\n",
       "      <td>719</td>\n",
       "      <td>8,235</td>\n",
       "    </tr>\n",
       "    <tr>\n",
       "      <th>1</th>\n",
       "      <td>2</td>\n",
       "      <td>Bangladesh</td>\n",
       "      <td>165,650,475</td>\n",
       "      <td>148,460</td>\n",
       "      <td>1,116</td>\n",
       "    </tr>\n",
       "    <tr>\n",
       "      <th>2</th>\n",
       "      <td>3</td>\n",
       "      <td>Palestine[note 3][99]</td>\n",
       "      <td>5,223,000</td>\n",
       "      <td>6,025</td>\n",
       "      <td>867</td>\n",
       "    </tr>\n",
       "    <tr>\n",
       "      <th>3</th>\n",
       "      <td>4</td>\n",
       "      <td>Taiwan[note 4]</td>\n",
       "      <td>23,580,712</td>\n",
       "      <td>35,980</td>\n",
       "      <td>655</td>\n",
       "    </tr>\n",
       "    <tr>\n",
       "      <th>4</th>\n",
       "      <td>5</td>\n",
       "      <td>South Korea</td>\n",
       "      <td>51,844,834</td>\n",
       "      <td>99,720</td>\n",
       "      <td>520</td>\n",
       "    </tr>\n",
       "    <tr>\n",
       "      <th>5</th>\n",
       "      <td>6</td>\n",
       "      <td>Lebanon</td>\n",
       "      <td>5,296,814</td>\n",
       "      <td>10,400</td>\n",
       "      <td>509</td>\n",
       "    </tr>\n",
       "    <tr>\n",
       "      <th>6</th>\n",
       "      <td>7</td>\n",
       "      <td>Rwanda</td>\n",
       "      <td>13,173,730</td>\n",
       "      <td>26,338</td>\n",
       "      <td>500</td>\n",
       "    </tr>\n",
       "    <tr>\n",
       "      <th>7</th>\n",
       "      <td>8</td>\n",
       "      <td>Burundi</td>\n",
       "      <td>12,696,478</td>\n",
       "      <td>27,830</td>\n",
       "      <td>456</td>\n",
       "    </tr>\n",
       "    <tr>\n",
       "      <th>8</th>\n",
       "      <td>9</td>\n",
       "      <td>Israel</td>\n",
       "      <td>9,402,617</td>\n",
       "      <td>21,937</td>\n",
       "      <td>429</td>\n",
       "    </tr>\n",
       "    <tr>\n",
       "      <th>9</th>\n",
       "      <td>10</td>\n",
       "      <td>India</td>\n",
       "      <td>1,389,637,446</td>\n",
       "      <td>3,287,263</td>\n",
       "      <td>423</td>\n",
       "    </tr>\n",
       "  </tbody>\n",
       "</table>\n",
       "</div>"
      ],
      "text/plain": [
       "  Rank                Country     Population       Area Density\n",
       "0    1              Singapore      5,921,231        719   8,235\n",
       "1    2             Bangladesh    165,650,475    148,460   1,116\n",
       "2    3  Palestine[note 3][99]      5,223,000      6,025     867\n",
       "3    4         Taiwan[note 4]     23,580,712     35,980     655\n",
       "4    5            South Korea     51,844,834     99,720     520\n",
       "5    6                Lebanon      5,296,814     10,400     509\n",
       "6    7                 Rwanda     13,173,730     26,338     500\n",
       "7    8                Burundi     12,696,478     27,830     456\n",
       "8    9                 Israel      9,402,617     21,937     429\n",
       "9   10                  India  1,389,637,446  3,287,263     423"
      ]
     },
     "execution_count": 78,
     "metadata": {},
     "output_type": "execute_result"
    }
   ],
   "source": [
    "population_data = pd.DataFrame(columns=[\"Rank\", \"Country\", \"Population\", \"Area\", \"Density\"])\n",
    "\n",
    "for row in tables[table_index].tbody.find_all(\"tr\"):\n",
    "    col = row.find_all(\"td\")\n",
    "    if col:\n",
    "        rank = col[0].text.strip()\n",
    "        country = col[1].text.strip()\n",
    "        population = col[2].text.strip()\n",
    "        area = col[3].text.strip()\n",
    "        density = col[4].text.strip()\n",
    "\n",
    "        # Create a temporary DataFrame for the new row\n",
    "        new_row = pd.DataFrame([{\"Rank\": rank, \"Country\": country, \"Population\": population, \"Area\": area, \"Density\": density}])\n",
    "\n",
    "        # Use concat \n",
    "        population_data = pd.concat([population_data, new_row], ignore_index=True)\n",
    "\n",
    "population_data"
   ]
  },
  {
   "cell_type": "markdown",
   "id": "babcfc00-188f-4b10-8e84-b2eacc581abe",
   "metadata": {},
   "source": [
    "## Scrape data from HTML tables into a DataFrame using BeautifulSoup and read_html\n"
   ]
  },
  {
   "cell_type": "markdown",
   "id": "05740d2c-f0a3-4def-b4dc-39afd0b0da47",
   "metadata": {},
   "source": [
    "Using the same `url`, `data`, `soup`, and `tables` object as in the last section we can use the `read_html` function to create a DataFrame.\n",
    "\n",
    "Remember the table we need is located in `tables[table_index]`\n",
    "\n",
    "We can now use the `pandas` function `read_html` and give it the string version of the table as well as the `flavor` which is the parsing engine `bs4`.\n"
   ]
  },
  {
   "cell_type": "code",
   "execution_count": null,
   "id": "6d35e83c-3534-4bd6-9c7d-3ea15c9040e7",
   "metadata": {},
   "outputs": [
    {
     "name": "stderr",
     "output_type": "stream",
     "text": [
      "WARNING: Skipping html5lib as it is not installed.\n",
      "WARNING: Skipping lxml as it is not installed.\n",
      "WARNING: Skipping beautifulsoup4 as it is not installed.\n"
     ]
    }
   ],
   "source": [
    "#!pip uninstall html5lib lxml beautifulsoup4 -y\n"
   ]
  },
  {
   "cell_type": "code",
   "execution_count": 1,
   "metadata": {},
   "outputs": [
    {
     "name": "stdout",
     "output_type": "stream",
     "text": [
      "Collecting html5lib\n",
      "  Using cached html5lib-1.1-py2.py3-none-any.whl.metadata (16 kB)\n",
      "Collecting lxml\n",
      "  Using cached lxml-5.3.1-cp312-cp312-win_amd64.whl.metadata (3.8 kB)\n",
      "Collecting beautifulsoup4\n",
      "  Using cached beautifulsoup4-4.13.3-py3-none-any.whl.metadata (3.8 kB)\n",
      "Requirement already satisfied: six>=1.9 in d:\\programdata\\anaconda3\\envs\\myenv\\lib\\site-packages (from html5lib) (1.16.0)\n",
      "Requirement already satisfied: webencodings in d:\\programdata\\anaconda3\\envs\\myenv\\lib\\site-packages (from html5lib) (0.5.1)\n",
      "Requirement already satisfied: soupsieve>1.2 in d:\\programdata\\anaconda3\\envs\\myenv\\lib\\site-packages (from beautifulsoup4) (2.6)\n",
      "Requirement already satisfied: typing-extensions>=4.0.0 in d:\\programdata\\anaconda3\\envs\\myenv\\lib\\site-packages (from beautifulsoup4) (4.12.2)\n",
      "Using cached html5lib-1.1-py2.py3-none-any.whl (112 kB)\n",
      "Using cached lxml-5.3.1-cp312-cp312-win_amd64.whl (3.8 MB)\n",
      "Using cached beautifulsoup4-4.13.3-py3-none-any.whl (186 kB)\n",
      "Installing collected packages: lxml, html5lib, beautifulsoup4\n",
      "Successfully installed beautifulsoup4-4.13.3 html5lib-1.1 lxml-5.3.1\n"
     ]
    }
   ],
   "source": [
    "!pip install html5lib lxml beautifulsoup4"
   ]
  },
  {
   "cell_type": "code",
   "execution_count": 1,
   "metadata": {},
   "outputs": [
    {
     "name": "stdout",
     "output_type": "stream",
     "text": [
      "[<class 'bs4.builder._lxml.LXMLTreeBuilder'>, <class 'bs4.builder._lxml.LXMLTreeBuilderForXML'>, <class 'bs4.builder._html5lib.HTML5TreeBuilder'>, <class 'bs4.builder._htmlparser.HTMLParserTreeBuilder'>]\n"
     ]
    }
   ],
   "source": [
    "import bs4\n",
    "print(bs4.builder_registry.builders)\n",
    "# soup = BeautifulSoup(str(tables[5]), 'html5lib')\n",
    "# pd.read_html(str(soup), flavor='bs4')"
   ]
  },
  {
   "cell_type": "code",
   "execution_count": 67,
   "metadata": {},
   "outputs": [
    {
     "data": {
      "text/plain": [
       "<table class=\"box-Notice plainlinks metadata ambox ambox-notice\" role=\"presentation\" style=\"width:100%;margin:0;\"><tbody><tr><td class=\"mbox-image\"><div class=\"mbox-image-div\"><span typeof=\"mw:File\"><span><img alt=\"\" class=\"mw-file-element\" data-file-height=\"620\" data-file-width=\"620\" decoding=\"async\" height=\"40\" src=\"//upload.wikimedia.org/wikipedia/en/thumb/1/1d/Information_icon4.svg/40px-Information_icon4.svg.png\" srcset=\"//upload.wikimedia.org/wikipedia/en/thumb/1/1d/Information_icon4.svg/60px-Information_icon4.svg.png 1.5x, //upload.wikimedia.org/wikipedia/en/thumb/1/1d/Information_icon4.svg/80px-Information_icon4.svg.png 2x\" width=\"40\"/></span></span></div></td><td class=\"mbox-text\" style=\"text-align: left;\"><div class=\"mbox-text-span\">Graphs are unavailable due to technical issues. Updates on reimplementing the Graph extension, which will be known as the Chart extension, can be found on <a class=\"external text\" href=\"https://phabricator.wikimedia.org/tag/charts/\">Phabricator</a> and on <a class=\"extiw\" href=\"https://www.mediawiki.org/wiki/Extension:Chart\" title=\"mw:Extension:Chart\">MediaWiki.org</a>.</div></td></tr></tbody></table>"
      ]
     },
     "execution_count": 67,
     "metadata": {},
     "output_type": "execute_result"
    }
   ],
   "source": [
    "tables[5]"
   ]
  },
  {
   "cell_type": "code",
   "execution_count": 68,
   "metadata": {},
   "outputs": [
    {
     "name": "stdout",
     "output_type": "stream",
     "text": [
      "      Population         1     2     3     4     5     6     7     8     9  \\\n",
      "0           Year      1804  1927  1960  1974  1987  1999  2011  2022  2037   \n",
      "1  Years elapsed  200,000+   123    33    14    13    12    12    11    15   \n",
      "\n",
      "     10  \n",
      "0  2057  \n",
      "1    20  \n"
     ]
    }
   ],
   "source": [
    "df = pd.read_html(str(soup.find(\"table\", {\"class\": \"wikitable\"})), flavor='bs4')[0]\n",
    "print(df)"
   ]
  },
  {
   "cell_type": "code",
   "execution_count": 66,
   "metadata": {},
   "outputs": [
    {
     "data": {
      "text/plain": [
       "[    0                                                  1\n",
       " 0 NaN  Graphs are unavailable due to technical issues...]"
      ]
     },
     "execution_count": 66,
     "metadata": {},
     "output_type": "execute_result"
    }
   ],
   "source": [
    "import pandas  as pd\n",
    "from bs4 import BeautifulSoup\n",
    "\n",
    "pd.read_html(str(tables[5]), flavor='bs4')"
   ]
  },
  {
   "cell_type": "markdown",
   "id": "f4c214df-6e69-4c5d-8db8-afb7de2464fb",
   "metadata": {},
   "source": [
    "The function `read_html` always returns a list of DataFrames so we must pick the one we want out of the list.\n"
   ]
  },
  {
   "cell_type": "code",
   "execution_count": 74,
   "id": "d1895408-2941-4d8c-acec-a2ebfdaa2c07",
   "metadata": {},
   "outputs": [
    {
     "data": {
      "text/html": [
       "<div>\n",
       "<style scoped>\n",
       "    .dataframe tbody tr th:only-of-type {\n",
       "        vertical-align: middle;\n",
       "    }\n",
       "\n",
       "    .dataframe tbody tr th {\n",
       "        vertical-align: top;\n",
       "    }\n",
       "\n",
       "    .dataframe thead th {\n",
       "        text-align: right;\n",
       "    }\n",
       "</style>\n",
       "<table border=\"1\" class=\"dataframe\">\n",
       "  <thead>\n",
       "    <tr style=\"text-align: right;\">\n",
       "      <th></th>\n",
       "      <th>Population</th>\n",
       "      <th>1</th>\n",
       "      <th>2</th>\n",
       "      <th>3</th>\n",
       "      <th>4</th>\n",
       "      <th>5</th>\n",
       "      <th>6</th>\n",
       "      <th>7</th>\n",
       "      <th>8</th>\n",
       "      <th>9</th>\n",
       "      <th>10</th>\n",
       "    </tr>\n",
       "  </thead>\n",
       "  <tbody>\n",
       "    <tr>\n",
       "      <th>0</th>\n",
       "      <td>Year</td>\n",
       "      <td>1804</td>\n",
       "      <td>1927</td>\n",
       "      <td>1960</td>\n",
       "      <td>1974</td>\n",
       "      <td>1987</td>\n",
       "      <td>1999</td>\n",
       "      <td>2011</td>\n",
       "      <td>2022</td>\n",
       "      <td>2037</td>\n",
       "      <td>2057</td>\n",
       "    </tr>\n",
       "  </tbody>\n",
       "</table>\n",
       "</div>"
      ],
      "text/plain": [
       "  Population     1     2     3     4     5     6     7     8     9    10\n",
       "0       Year  1804  1927  1960  1974  1987  1999  2011  2022  2037  2057"
      ]
     },
     "execution_count": 74,
     "metadata": {},
     "output_type": "execute_result"
    }
   ],
   "source": [
    "# population_data_read_html = pd.read_html(str(tables[5]), flavor='bs4')[0]\n",
    "\n",
    "# population_data_read_html\n",
    "df.iloc[0:1]"
   ]
  },
  {
   "cell_type": "markdown",
   "id": "4a82a116-e106-4097-b5e3-203ac0014764",
   "metadata": {},
   "source": [
    "## Scrape data from HTML tables into a DataFrame using read_html\n"
   ]
  },
  {
   "cell_type": "markdown",
   "id": "f9452391-a339-4e3f-ac80-dc6819e290da",
   "metadata": {},
   "source": [
    "We can also use the `read_html` function to directly get DataFrames from a `url`.\n"
   ]
  },
  {
   "cell_type": "code",
   "execution_count": 75,
   "id": "46aa3333-441e-42ec-a3ba-c6cdc3d42484",
   "metadata": {},
   "outputs": [],
   "source": [
    "dataframe_list = pd.read_html(url, flavor='bs4')"
   ]
  },
  {
   "cell_type": "markdown",
   "id": "85faef3c-ce48-4a57-a3fa-198ec9b0a752",
   "metadata": {},
   "source": [
    "We can see there are 25 DataFrames just like when we used `find_all` on the `soup` object.\n"
   ]
  },
  {
   "cell_type": "code",
   "execution_count": 78,
   "id": "4e6a5791-cd89-4fbf-a7b9-0a02d5aa42bb",
   "metadata": {},
   "outputs": [
    {
     "name": "stdout",
     "output_type": "stream",
     "text": [
      "27\n"
     ]
    },
    {
     "data": {
      "text/plain": [
       "[      Population         1     2     3     4     5     6     7     8     9  \\\n",
       " 0           Year      1804  1927  1960  1974  1987  1999  2011  2022  2037   \n",
       " 1  Years elapsed  200,000+   123    33    14    13    12    12    11    15   \n",
       " \n",
       "      10  \n",
       " 0  2057  \n",
       " 1    20  ,\n",
       "                                Region  2022 (percent)  2030 (percent)  \\\n",
       " 0                  Sub-Saharan Africa  1,152 (14.51%)  1,401 (16.46%)   \n",
       " 1    Northern Africa and Western Asia     549 (6.91%)     617 (7.25%)   \n",
       " 2      Central Asia and Southern Asia  2,075 (26.13%)  2,248 (26.41%)   \n",
       " 3  Eastern Asia and Southeastern Asia  2,342 (29.49%)  2,372 (27.87%)   \n",
       " 4         Europe and Northern America  1,120 (14.10%)  1,129 (13.26%)   \n",
       " 5     Latin America and the Caribbean     658 (8.29%)     695 (8.17%)   \n",
       " 6           Australia and New Zealand      31 (0.39%)      34 (0.40%)   \n",
       " 7                             Oceania      14 (0.18%)      15 (0.18%)   \n",
       " 8                               World            7942            8512   \n",
       " \n",
       "    2050 (percent)  \n",
       " 0  2,094 (21.62%)  \n",
       " 1     771 (7.96%)  \n",
       " 2  2,575 (26.58%)  \n",
       " 3  2,317 (23.92%)  \n",
       " 4  1,125 (11.61%)  \n",
       " 5     749 (7.73%)  \n",
       " 6      38 (0.39%)  \n",
       " 7      20 (0.21%)  \n",
       " 8            9687  ,\n",
       "                      Region Density (inhabitants/km2) Population (millions)  \\\n",
       " 0                      Asia                     104.1                  4641   \n",
       " 1                    Africa                      44.4                  1340   \n",
       " 2                    Europe                      73.4                   747   \n",
       " 3             Latin America                      24.1                   653   \n",
       " 4  Northern America[note 1]                      14.9                   368   \n",
       " 5                   Oceania                         5                    42   \n",
       " 6                Antarctica                        ~0             0.004[86]   \n",
       " \n",
       "                                Most populous country  \\\n",
       " 0                              1,439,090,595 – India   \n",
       " 1                            0,211,401,000 – Nigeria   \n",
       " 2  0,146,171,000 – Russia, approx. 110 million in...   \n",
       " 3                             0,214,103,000 – Brazil   \n",
       " 4                      0,332,909,000 – United States   \n",
       " 5                          0,025,917,000 – Australia   \n",
       " 6                                        N/A[note 2]   \n",
       " \n",
       "               Most populous city (metropolitan area)  \n",
       " 0  13,515,000 – Tokyo Metropolis (37,400,000 – Gr...  \n",
       " 1    09,500,000 – Cairo (20,076,000 – Greater Cairo)  \n",
       " 2  13,200,000 – Moscow (20,004,000 – Moscow metro...  \n",
       " 3  12,252,000 – São Paulo City (21,650,000 – São ...  \n",
       " 4  08,804,000 – New York City (23,582,649 – New Y...  \n",
       " 5                                05,367,000 – Sydney  \n",
       " 6                       00,001,258 – McMurdo Station  ,\n",
       "   Country / Dependency  Population % of world         Date  \\\n",
       " 0                India  1425775850      17.5%  14 Apr 2023   \n",
       " 1                China  1409670000      17.3%  17 Jan 2024   \n",
       " 2        United States   337582534      4.14%   2 Mar 2025   \n",
       " 3            Indonesia   278696200      3.41%   1 Jul 2023   \n",
       " 4             Pakistan   229488994      2.81%   1 Jul 2022   \n",
       " 5              Nigeria   216746934      2.66%   1 Jul 2022   \n",
       " 6               Brazil   218863899      2.68%   2 Mar 2025   \n",
       " 7           Bangladesh   168220000      2.06%   1 Jul 2020   \n",
       " 8               Russia   147190000      1.80%   1 Oct 2021   \n",
       " 9               Mexico   128271248      1.57%  31 Mar 2022   \n",
       " \n",
       "   Source (official or from the United Nations)  \n",
       " 0                            UN projection[89]  \n",
       " 1                 National annual estimate[90]  \n",
       " 2                National population clock[91]  \n",
       " 3                 National annual estimate[92]  \n",
       " 4                            UN projection[93]  \n",
       " 5                            UN projection[93]  \n",
       " 6                National population clock[94]  \n",
       " 7               Annual Population Estimate[95]  \n",
       " 8          2021 preliminary census results[96]  \n",
       " 9                                          NaN  ,\n",
       "                                                                                                                                                                                               #  \\\n",
       "    Graphs are unavailable due to technical issues. Updates on reimplementing the Graph extension, which will be known as the Chart extension, can be found on Phabricator and on MediaWiki.org.   \n",
       "    Graphs are unavailable due to technical issues. Updates on reimplementing the Graph extension, which will be known as the Chart extension, can be found on Phabricator and on MediaWiki.org.   \n",
       "    Graphs are unavailable due to technical issues. Updates on reimplementing the Graph extension, which will be known as the Chart extension, can be found on Phabricator and on MediaWiki.org.   \n",
       "    Graphs are unavailable due to technical issues. Updates on reimplementing the Graph extension, which will be known as the Chart extension, can be found on Phabricator and on MediaWiki.org.   \n",
       "    Graphs are unavailable due to technical issues. Updates on reimplementing the Graph extension, which will be known as the Chart extension, can be found on Phabricator and on MediaWiki.org.   \n",
       "    Graphs are unavailable due to technical issues. Updates on reimplementing the Graph extension, which will be known as the Chart extension, can be found on Phabricator and on MediaWiki.org.   \n",
       "    Graphs are unavailable due to technical issues. Updates on reimplementing the Graph extension, which will be known as the Chart extension, can be found on Phabricator and on MediaWiki.org.   \n",
       "    Graphs are unavailable due to technical issues. Updates on reimplementing the Graph extension, which will be known as the Chart extension, can be found on Phabricator and on MediaWiki.org.   \n",
       "    Graphs are unavailable due to technical issues. Updates on reimplementing the Graph extension, which will be known as the Chart extension, can be found on Phabricator and on MediaWiki.org.   \n",
       "    Graphs are unavailable due to technical issues. Updates on reimplementing the Graph extension, which will be known as the Chart extension, can be found on Phabricator and on MediaWiki.org.   \n",
       "    Graphs are unavailable due to technical issues. Updates on reimplementing the Graph extension, which will be known as the Chart extension, can be found on Phabricator and on MediaWiki.org.   \n",
       " 0                                                 NaN                                                                                                                                             \n",
       " 1                                                   1                                                                                                                                             \n",
       " 2                                                   2                                                                                                                                             \n",
       " 3                                                   3                                                                                                                                             \n",
       " 4                                                   4                                                                                                                                             \n",
       " 5                                                   5                                                                                                                                             \n",
       " 6                                                   6                                                                                                                                             \n",
       " 7                                                   7                                                                                                                                             \n",
       " 8                                                   8                                                                                                                                             \n",
       " 9                                                   9                                                                                                                                             \n",
       " 10                                                 10                                                                                                                                             \n",
       " 11                                                NaN                                                                                                                                             \n",
       " 12  Notes: ^ 2030 = Medium variant. ^ China exclud...                                                                                                                                             \n",
       " \n",
       "                               Most populous countries  \\\n",
       "                                    Unnamed: 1_level_1   \n",
       "                                    Unnamed: 1_level_2   \n",
       "                                    Unnamed: 1_level_3   \n",
       "                                    Unnamed: 1_level_4   \n",
       "                                    Unnamed: 1_level_5   \n",
       "                                    Unnamed: 1_level_6   \n",
       "                                    Unnamed: 1_level_7   \n",
       "                                    Unnamed: 1_level_8   \n",
       "                                    Unnamed: 1_level_9   \n",
       "                                   Unnamed: 1_level_10   \n",
       "                                   Unnamed: 1_level_11   \n",
       " 0   Graphs are unavailable due to technical issues...   \n",
       " 1                                            China[B]   \n",
       " 2                                               India   \n",
       " 3                                       United States   \n",
       " 4                                           Indonesia   \n",
       " 5                                            Pakistan   \n",
       " 6                                              Brazil   \n",
       " 7                                             Nigeria   \n",
       " 8                                          Bangladesh   \n",
       " 9                                              Russia   \n",
       " 10                                             Mexico   \n",
       " 11                                        World total   \n",
       " 12  Notes: ^ 2030 = Medium variant. ^ China exclud...   \n",
       " \n",
       "                                                  2000  \\\n",
       "                                    Unnamed: 2_level_1   \n",
       "                                    Unnamed: 2_level_2   \n",
       "                                    Unnamed: 2_level_3   \n",
       "                                    Unnamed: 2_level_4   \n",
       "                                    Unnamed: 2_level_5   \n",
       "                                    Unnamed: 2_level_6   \n",
       "                                    Unnamed: 2_level_7   \n",
       "                                    Unnamed: 2_level_8   \n",
       "                                    Unnamed: 2_level_9   \n",
       "                                   Unnamed: 2_level_10   \n",
       "                                   Unnamed: 2_level_11   \n",
       " 0                                                 NaN   \n",
       " 1                                                1270   \n",
       " 2                                                1053   \n",
       " 3                                                 283   \n",
       " 4                                                 212   \n",
       " 5                                                 136   \n",
       " 6                                                 176   \n",
       " 7                                                 123   \n",
       " 8                                                 131   \n",
       " 9                                                 146   \n",
       " 10                                                103   \n",
       " 11                                               6127   \n",
       " 12  Notes: ^ 2030 = Medium variant. ^ China exclud...   \n",
       " \n",
       "                                                  2015  \\\n",
       "                                    Unnamed: 3_level_1   \n",
       "                                    Unnamed: 3_level_2   \n",
       "                                    Unnamed: 3_level_3   \n",
       "                                    Unnamed: 3_level_4   \n",
       "                                    Unnamed: 3_level_5   \n",
       "                                    Unnamed: 3_level_6   \n",
       "                                    Unnamed: 3_level_7   \n",
       "                                    Unnamed: 3_level_8   \n",
       "                                    Unnamed: 3_level_9   \n",
       "                                   Unnamed: 3_level_10   \n",
       "                                   Unnamed: 3_level_11   \n",
       " 0                                                 NaN   \n",
       " 1                                                1376   \n",
       " 2                                                1311   \n",
       " 3                                                 322   \n",
       " 4                                                 258   \n",
       " 5                                                 208   \n",
       " 6                                                 206   \n",
       " 7                                                 182   \n",
       " 8                                                 161   \n",
       " 9                                                 146   \n",
       " 10                                                127   \n",
       " 11                                               7349   \n",
       " 12  Notes: ^ 2030 = Medium variant. ^ China exclud...   \n",
       " \n",
       "                                               2030[A]  \\\n",
       "                                    Unnamed: 4_level_1   \n",
       "                                    Unnamed: 4_level_2   \n",
       "                                    Unnamed: 4_level_3   \n",
       "                                    Unnamed: 4_level_4   \n",
       "                                    Unnamed: 4_level_5   \n",
       "                                    Unnamed: 4_level_6   \n",
       "                                    Unnamed: 4_level_7   \n",
       "                                    Unnamed: 4_level_8   \n",
       "                                    Unnamed: 4_level_9   \n",
       "                                   Unnamed: 4_level_10   \n",
       "                                   Unnamed: 4_level_11   \n",
       " 0                                                 NaN   \n",
       " 1                                                1416   \n",
       " 2                                                1528   \n",
       " 3                                                 356   \n",
       " 4                                                 295   \n",
       " 5                                                 245   \n",
       " 6                                                 228   \n",
       " 7                                                 263   \n",
       " 8                                                 186   \n",
       " 9                                                 149   \n",
       " 10                                                148   \n",
       " 11                                               8501   \n",
       " 12  Notes: ^ 2030 = Medium variant. ^ China exclud...   \n",
       " \n",
       "    Graphs are unavailable due to technical issues. Updates on reimplementing the Graph extension, which will be known as the Chart extension, can be found on Phabricator and on MediaWiki.org.  \n",
       "                                                                                                                                                                              Unnamed: 5_level_1  \n",
       "                                                                                                                                                                              Unnamed: 5_level_2  \n",
       "                                                                                                                                                                              Unnamed: 5_level_3  \n",
       "                                                                                                                                                                              Unnamed: 5_level_4  \n",
       "                                                                                                                                                                              Unnamed: 5_level_5  \n",
       "                                                                                                                                                                              Unnamed: 5_level_6  \n",
       "                                                                                                                                                                              Unnamed: 5_level_7  \n",
       "                                                                                                                                                                              Unnamed: 5_level_8  \n",
       "                                                                                                                                                                              Unnamed: 5_level_9  \n",
       "                                                                                                                                                                             Unnamed: 5_level_10  \n",
       "                                                                                                                                                                             Unnamed: 5_level_11  \n",
       " 0                                                 NaN                                                                                                                                            \n",
       " 1                                                 NaN                                                                                                                                            \n",
       " 2                                                 NaN                                                                                                                                            \n",
       " 3                                                 NaN                                                                                                                                            \n",
       " 4                                                 NaN                                                                                                                                            \n",
       " 5                                                 NaN                                                                                                                                            \n",
       " 6                                                 NaN                                                                                                                                            \n",
       " 7                                                 NaN                                                                                                                                            \n",
       " 8                                                 NaN                                                                                                                                            \n",
       " 9                                                 NaN                                                                                                                                            \n",
       " 10                                                NaN                                                                                                                                            \n",
       " 11                                                NaN                                                                                                                                            \n",
       " 12  Notes: ^ 2030 = Medium variant. ^ China exclud...                                                                                                                                            ,\n",
       "     0                                                  1\n",
       " 0 NaN  Graphs are unavailable due to technical issues...,\n",
       "    Rank                Country  Population  Area (km2)  Density (pop/km2)\n",
       " 0     1              Singapore     5921231         719               8235\n",
       " 1     2             Bangladesh   165650475      148460               1116\n",
       " 2     3  Palestine[note 3][99]     5223000        6025                867\n",
       " 3     4         Taiwan[note 4]    23580712       35980                655\n",
       " 4     5            South Korea    51844834       99720                520\n",
       " 5     6                Lebanon     5296814       10400                509\n",
       " 6     7                 Rwanda    13173730       26338                500\n",
       " 7     8                Burundi    12696478       27830                456\n",
       " 8     9                 Israel     9402617       21937                429\n",
       " 9    10                  India  1389637446     3287263                423,\n",
       "    Rank         Country  Population  Area (km2)  Density (pop/km2)  \\\n",
       " 0     1           India  1389637446     3287263                423   \n",
       " 1     2        Pakistan   242923845      796095                305   \n",
       " 2     3      Bangladesh   165650475      148460               1116   \n",
       " 3     4           Japan   124214766      377915                329   \n",
       " 4     5     Philippines   114597229      300000                382   \n",
       " 5     6         Vietnam   103808319      331210                313   \n",
       " 6     7  United Kingdom    67791400      243610                278   \n",
       " 7     8     South Korea    51844834       99720                520   \n",
       " 8     9          Taiwan    23580712       35980                655   \n",
       " 9    10       Sri Lanka    23187516       65610                353   \n",
       " \n",
       "   Population trend[citation needed]  \n",
       " 0                           Growing  \n",
       " 1                   Rapidly growing  \n",
       " 2                           Growing  \n",
       " 3                    Declining[100]  \n",
       " 4                           Growing  \n",
       " 5                           Growing  \n",
       " 6                           Growing  \n",
       " 7                            Steady  \n",
       " 8                            Steady  \n",
       " 9                           Growing  ,\n",
       "     Year  Population Yearly growth           Density (pop/km2)\n",
       "     Year  Population             %    Number Density (pop/km2)\n",
       " 0   1951  2543130380         1.75%  43808223                17\n",
       " 1   1952  2590270899         1.85%  47140519                17\n",
       " 2   1953  2640278797         1.93%  50007898                18\n",
       " 3   1954  2691979339         1.96%  51700542                18\n",
       " 4   1955  2746072141         2.01%  54092802                18\n",
       " ..   ...         ...           ...       ...               ...\n",
       " 68  2019  7764951032         1.06%  81161204                52\n",
       " 69  2020  7840952880         0.98%  76001848                53\n",
       " 70  2021  7909295151         0.87%  68342271                53\n",
       " 71  2022  7975105156         0.83%  65810005                54\n",
       " 72  2023  8045311447         0.88%  70206291                54\n",
       " \n",
       " [73 rows x 5 columns],\n",
       "                      Region  1500  1600  1700  1750  1800  1850  1900  1950  \\\n",
       " 0                     World   585   660   710   791   978  1262  1650  2521   \n",
       " 1                    Africa    86   114   106   106   107   111   133   221   \n",
       " 2                      Asia   282   350   411   502   635   809   947  1402   \n",
       " 3                    Europe   168   170   178   190   203   276   408   547   \n",
       " 4     Latin America[Note 1]    40    20    10    16    24    38    74   167   \n",
       " 5  Northern America[Note 1]     6     3     2     2     7    26    82   172   \n",
       " 6                   Oceania     3     3     3     2     2     2     6    13   \n",
       " \n",
       "    1999  2008  2010  2012  2050  2150  \n",
       " 0  6008  6707  6896  7052  9725  9746  \n",
       " 1   783   973  1022  1052  2478  2308  \n",
       " 2  3700  4054  4164  4250  5267  5561  \n",
       " 3   675   732   738   740   734   517  \n",
       " 4   508   577   590   603   784   912  \n",
       " 5   312   337   345   351   433   398  \n",
       " 6    30    34    37    38    57    51  ,\n",
       "                      Region  1500  1600  1700  1750  1800  1850  1900  1950  \\\n",
       " 0                    Africa  14.7  17.3  14.9  13.4  10.9   8.8   8.1   8.8   \n",
       " 1                      Asia  48.2  53.0  57.9  63.5  64.9  64.1  57.4  55.6   \n",
       " 2                    Europe  28.7  25.8  25.1  20.6  20.8  21.9  24.7  21.7   \n",
       " 3     Latin America[Note 1]   6.8   3.0   1.4   2.0   2.5   3.0   4.5   6.6   \n",
       " 4  Northern America[Note 1]   1.0   0.5   0.3   0.3   0.7   2.1   5.0   6.8   \n",
       " 5                   Oceania   0.5   0.5   0.4   0.3   0.2   0.2   0.4   0.5   \n",
       " \n",
       "    1999  2008  2010  2012  2050  2150  \n",
       " 0  13.0  14.5  14.8  15.2  25.5  23.7  \n",
       " 1  61.6  60.4  60.4  60.3  54.2  57.1  \n",
       " 2  11.2  10.9  10.7  10.5   7.6   5.3  \n",
       " 3   8.5   8.6   8.6   8.6   8.1   9.4  \n",
       " 4   5.2   5.0   5.0   5.0   4.5   4.1  \n",
       " 5   0.5   0.5   0.5   0.5   0.6   0.5  ,\n",
       "          Year    World  Africa    Asia  Europe  \\\n",
       " 0   70,000 BC  < 0.015     NaN     NaN     NaN   \n",
       " 1   10,000 BC        4     NaN     NaN     NaN   \n",
       " 2     8000 BC        5     NaN     NaN     NaN   \n",
       " 3     6500 BC        5     NaN     NaN     NaN   \n",
       " 4     5000 BC        5     NaN     NaN     NaN   \n",
       " 5     4000 BC        7     NaN     NaN     NaN   \n",
       " 6     3000 BC       14     NaN     NaN     NaN   \n",
       " 7     2000 BC       27     NaN     NaN     NaN   \n",
       " 8     1000 BC       50     7.0    33.0     9.0   \n",
       " 9      500 BC      100    14.0    66.0    16.0   \n",
       " 10       AD 1      200    23.0   141.0    28.0   \n",
       " 11       1000      400    70.0   269.0    50.0   \n",
       " 12       1500      458    86.0   243.0    84.0   \n",
       " 13       1600      580   114.0   339.0   111.0   \n",
       " 14       1700      682   106.0   436.0   125.0   \n",
       " 15       1750      791   106.0   502.0   163.0   \n",
       " 16       1800     1000   107.0   656.0   203.0   \n",
       " 17       1850     1262   111.0   809.0   276.0   \n",
       " 18       1900     1650   133.0   947.0   408.0   \n",
       " 19       1950     2525   229.0  1394.0   549.0   \n",
       " 20       1955     2758   254.0  1534.0   577.0   \n",
       " 21       1960     3018   285.0  1687.0   606.0   \n",
       " 22       1965     3322   322.0  1875.0   635.0   \n",
       " 23       1970     3682   366.0  2120.0   657.0   \n",
       " 24       1975     4061   416.0  2378.0   677.0   \n",
       " 25       1980     4440   478.0  2626.0   694.0   \n",
       " 26       1985     4853   550.0  2897.0   708.0   \n",
       " 27       1990     5310   632.0  3202.0   721.0   \n",
       " 28       1995     5735   720.0  3475.0   728.0   \n",
       " 29       2000     6127   814.0  3714.0   726.0   \n",
       " 30       2005     6520   920.0  3945.0   729.0   \n",
       " 31       2010     6930  1044.0  4170.0   735.0   \n",
       " 32       2015     7349  1186.0  4393.0   738.0   \n",
       " \n",
       "     Latin America & Carib.[Note 1]  North America [Note 1]  Oceania  \\\n",
       " 0                              NaN                     NaN      NaN   \n",
       " 1                              NaN                     NaN      NaN   \n",
       " 2                              NaN                     NaN      NaN   \n",
       " 3                              NaN                     NaN      NaN   \n",
       " 4                              NaN                     NaN      NaN   \n",
       " 5                              NaN                     NaN      NaN   \n",
       " 6                              NaN                     NaN      NaN   \n",
       " 7                              NaN                     NaN      NaN   \n",
       " 8                              NaN                     NaN      NaN   \n",
       " 9                              NaN                     NaN      NaN   \n",
       " 10                             NaN                     NaN      NaN   \n",
       " 11                             8.0                     1.0      2.0   \n",
       " 12                            39.0                     3.0      3.0   \n",
       " 13                            10.0                     3.0      3.0   \n",
       " 14                            10.0                     2.0      3.0   \n",
       " 15                            16.0                     2.0      2.0   \n",
       " 16                            24.0                     7.0      3.0   \n",
       " 17                            38.0                    26.0      2.0   \n",
       " 18                            74.0                    82.0      6.0   \n",
       " 19                           169.0                   172.0     12.7   \n",
       " 20                           193.0                   187.0     14.2   \n",
       " 21                           221.0                   204.0     15.8   \n",
       " 22                           254.0                   219.0     17.5   \n",
       " 23                           288.0                   231.0     19.7   \n",
       " 24                           326.0                   242.0     21.5   \n",
       " 25                           365.0                   254.0     23.0   \n",
       " 26                           406.0                   267.0     24.9   \n",
       " 27                           447.0                   281.0     27.0   \n",
       " 28                           487.0                   296.0     29.1   \n",
       " 29                           527.0                   314.0     31.1   \n",
       " 30                           564.0                   329.0     33.4   \n",
       " 31                           600.0                   344.0     36.4   \n",
       " 32                           634.0                   358.0     39.3   \n",
       " \n",
       "                 Notes  \n",
       " 0               [116]  \n",
       " 1               [117]  \n",
       " 2                 NaN  \n",
       " 3                 NaN  \n",
       " 4                 NaN  \n",
       " 5                 NaN  \n",
       " 6                 NaN  \n",
       " 7                 NaN  \n",
       " 8   [citation needed]  \n",
       " 9                 NaN  \n",
       " 10                NaN  \n",
       " 11                NaN  \n",
       " 12                NaN  \n",
       " 13                NaN  \n",
       " 14                NaN  \n",
       " 15                NaN  \n",
       " 16                NaN  \n",
       " 17                NaN  \n",
       " 18                NaN  \n",
       " 19              [118]  \n",
       " 20                NaN  \n",
       " 21                NaN  \n",
       " 22                NaN  \n",
       " 23                NaN  \n",
       " 24                NaN  \n",
       " 25                NaN  \n",
       " 26                NaN  \n",
       " 27                NaN  \n",
       " 28                NaN  \n",
       " 29                NaN  \n",
       " 30                NaN  \n",
       " 31                NaN  \n",
       " 32                NaN  ,\n",
       "     0                                                  1\n",
       " 0 NaN  This section needs additional citations for ve...,\n",
       "    Year  UN est. (millions) Difference  USCB est. (millions) Difference.1\n",
       " 0  2005                6542          –                  6473            –\n",
       " 1  2010                6957        415                  6866          393\n",
       " 2  2015                7380        423                  7256          390\n",
       " 3  2020                7795        415                  7643          380\n",
       " 4  2025                8184        390                  8007          363\n",
       " 5  2030                8549        364                  8341          334\n",
       " 6  2035                8888        339                  8646          306\n",
       " 7  2040                9199        311                  8926          280\n",
       " 8  2045                9482        283                  9180          254\n",
       " 9  2050                9735        253                  9408          228,\n",
       "    Year  World           Asia         Africa       Europe  \\\n",
       " 0  2000   6144  3,741 (60.9%)    811 (13.2%)  726 (11.8%)   \n",
       " 1  2024   8160  4,810 (58.9%)  1,520 (18.6%)   745 (9.1%)   \n",
       " 2  2050   9660  5,280 (54.7%)  2,470 (25.6%)   703 (7.3%)   \n",
       " 3  2075  10250  5,100 (49.8%)  3,290 (32.1%)   636 (6.2%)   \n",
       " 4  2100  10180  4,610 (45.3%)  3,810 (37.4%)   592 (5.8%)   \n",
       " \n",
       "   Latin America/Caribbean Northern America    Oceania  \n",
       " 0              522 (8.5%)       312 (5.1%)  31 (0.5%)  \n",
       " 1              663 (8.1%)       385 (4.7%)  46 (0.6%)  \n",
       " 2              730 (7.6%)       426 (4.4%)  57 (0.6%)  \n",
       " 3              698 (6.8%)       452 (4.4%)  66 (0.6%)  \n",
       " 4              613 (6.0%)       475 (4.7%)  73 (0.7%)  ,\n",
       "   Population (in billions)   0.5  0.5.1     1   1.1     2   2.1     4   4.1  \\\n",
       " 0                     Year  1500   1500  1804  1804  1927  1927  1974  1974   \n",
       " 1            Years elapsed     —    304   304   123   123    47    47    48   \n",
       " \n",
       "       8   8.1   16  16.1  \n",
       " 0  2022  2022  NaN   NaN  \n",
       " 1    48    48    —   NaN  ,\n",
       "   Population (in billions) 0.375  0.375.1  0.75  0.75.1   1.5  1.5.1     3  \\\n",
       " 0                     Year  1171     1171  1715    1715  1881   1881  1960   \n",
       " 1            Years elapsed     —      544   544     166   166     79    79   \n",
       " \n",
       "     3.1     6   6.1            12          12.1  \n",
       " 0  1960  1999  1999  c. 2100[140]  c. 2100[140]  \n",
       " 1    39    39    39       c. 100+       c. 100+  ,\n",
       "                                      External videos  \\\n",
       " 0  Why Most Humans Live Inside This Small Circle ...   \n",
       " \n",
       "                                    External videos.1  \n",
       " 0  Why Most Humans Live Inside This Small Circle ...  ,\n",
       "               vtePopulation                                    vtePopulation.1\n",
       " 0              Major topics  Demographics of the world Demographic transiti...\n",
       " 1        Population biology  Population decline Population density Physiolo...\n",
       " 2        Population ecology  Biocapacity Carrying capacity I = P × A × T Ka...\n",
       " 3   Society and  population  Eugenics Dysgenics Human overpopulation Malthu...\n",
       " 4              Publications  Population and Environment Population and Deve...\n",
       " 5                     Lists  Population and housing censuses by country Lar...\n",
       " 6  Events and organizations  7 Billion Actions Church of Euthanasia Interna...\n",
       " 7            Related topics  Bennett's law Green Revolution Human impact on...\n",
       " 8         Commons  Category                                  Commons  Category,\n",
       "            Articles related to the world's population  \\\n",
       " 0   vteHuman impact on the environmentGeneral Anth...   \n",
       " 1                  vteHuman impact on the environment   \n",
       " 2                                             General   \n",
       " 3                                              Causes   \n",
       " 4                                             Effects   \n",
       " 5                                          Mitigation   \n",
       " 6   Commons  Category by country assessment mitiga...   \n",
       " 7      vteLists of countries by population statistics   \n",
       " 8                                              Global   \n",
       " 9                               Continents/subregions   \n",
       " 10                                   Intercontinental   \n",
       " 11                                 Cities/urban areas   \n",
       " 12                                    Past and future   \n",
       " 13                                 Population density   \n",
       " 14                                  Growth indicators   \n",
       " 15                                    Life expectancy   \n",
       " 16                                 Other demographics   \n",
       " 17                                             Health   \n",
       " 18                           Education and innovation   \n",
       " 19                                           Economic   \n",
       " 20    List of international rankings Lists by country   \n",
       " 21                               vteHierarchy of life   \n",
       " 22  Biosphere > Biome > Ecosystem > Biocoenosis > ...   \n",
       " 23                                   vteGlobalization   \n",
       " 24                          Journals  Outline Studies   \n",
       " 25                                            Aspects   \n",
       " 26                                             Issues   \n",
       " 27                                             Global   \n",
       " 28                                              Other   \n",
       " 29                                           Theories   \n",
       " 30                                   Notable scholars   \n",
       " 31                                          Economics   \n",
       " 32                                  Political economy   \n",
       " 33                                Politics/ sociology   \n",
       " 34                                       Non–academic   \n",
       " 35                          Category  Business portal   \n",
       " \n",
       "          Articles related to the world's population.1  \n",
       " 0   vteHuman impact on the environmentGeneral Anth...  \n",
       " 1                  vteHuman impact on the environment  \n",
       " 2   Anthropocene Ecological footprint Environmenta...  \n",
       " 3   Causes of climate change Agriculture animal ag...  \n",
       " 4   Biodiversity threats biodiversity loss decline...  \n",
       " 5   Alternative fuel vehicle propulsion Birth cont...  \n",
       " 6   Commons  Category by country assessment mitiga...  \n",
       " 7      vteLists of countries by population statistics  \n",
       " 8   Current population United Nations Demographics...  \n",
       " 9   Africa Antarctica Asia Europe North America Ca...  \n",
       " 10  Americas Arab world Commonwealth of Nations Eu...  \n",
       " 11  World cities National capitals Megacities Mega...  \n",
       " 12  Past and future population World population es...  \n",
       " 13  Current density Past and future population den...  \n",
       " 14  Population growth rate Natural increase Net re...  \n",
       " 15  World Africa Asia Europe North America Oceania...  \n",
       " 16  Age at childbearing Age at first marriage Age ...  \n",
       " 17  Antidepressant consumption Antiviral medicatio...  \n",
       " 18  Bloomberg Innovation Index Education Index Glo...  \n",
       " 19  Access to financial services Development aid d...  \n",
       " 20    List of international rankings Lists by country  \n",
       " 21                               vteHierarchy of life  \n",
       " 22  Biosphere > Biome > Ecosystem > Biocoenosis > ...  \n",
       " 23                                   vteGlobalization  \n",
       " 24                          Journals  Outline Studies  \n",
       " 25  Alter-globalization Anti-globalization movemen...  \n",
       " 26  Global Climate change Climate justice Disease ...  \n",
       " 27  Climate change Climate justice Disease COVID-1...  \n",
       " 28  Brain drain reverse Care drain Development aid...  \n",
       " 29  Capital accumulation Dependency Development Ea...  \n",
       " 30  Economics David Autor Richard Baldwin Ravi Bat...  \n",
       " 31  David Autor Richard Baldwin Ravi Batra Jagdish...  \n",
       " 32  Samir Amin Giovanni Arrighi Robert W. Cox Andr...  \n",
       " 33  Arjun Appadurai Daniele Archibugi K. Anthony A...  \n",
       " 34  Noam Chomsky Thomas Friedman Naomi Klein John ...  \n",
       " 35                          Category  Business portal  ,\n",
       "                   vteHuman impact on the environment  \\\n",
       " 0                                            General   \n",
       " 1                                             Causes   \n",
       " 2                                            Effects   \n",
       " 3                                         Mitigation   \n",
       " 4  Commons  Category by country assessment mitiga...   \n",
       " \n",
       "                 vteHuman impact on the environment.1  \n",
       " 0  Anthropocene Ecological footprint Environmenta...  \n",
       " 1  Causes of climate change Agriculture animal ag...  \n",
       " 2  Biodiversity threats biodiversity loss decline...  \n",
       " 3  Alternative fuel vehicle propulsion Birth cont...  \n",
       " 4  Commons  Category by country assessment mitiga...  ,\n",
       "      vteLists of countries by population statistics  \\\n",
       " 0                                            Global   \n",
       " 1                             Continents/subregions   \n",
       " 2                                  Intercontinental   \n",
       " 3                                Cities/urban areas   \n",
       " 4                                   Past and future   \n",
       " 5                                Population density   \n",
       " 6                                 Growth indicators   \n",
       " 7                                   Life expectancy   \n",
       " 8                                Other demographics   \n",
       " 9                                            Health   \n",
       " 10                         Education and innovation   \n",
       " 11                                         Economic   \n",
       " 12  List of international rankings Lists by country   \n",
       " \n",
       "      vteLists of countries by population statistics.1  \n",
       " 0   Current population United Nations Demographics...  \n",
       " 1   Africa Antarctica Asia Europe North America Ca...  \n",
       " 2   Americas Arab world Commonwealth of Nations Eu...  \n",
       " 3   World cities National capitals Megacities Mega...  \n",
       " 4   Past and future population World population es...  \n",
       " 5   Current density Past and future population den...  \n",
       " 6   Population growth rate Natural increase Net re...  \n",
       " 7   World Africa Asia Europe North America Oceania...  \n",
       " 8   Age at childbearing Age at first marriage Age ...  \n",
       " 9   Antidepressant consumption Antiviral medicatio...  \n",
       " 10  Bloomberg Innovation Index Education Index Glo...  \n",
       " 11  Access to financial services Development aid d...  \n",
       " 12    List of international rankings Lists by country  ,\n",
       "                                 vteHierarchy of life  \\\n",
       " 0  Biosphere > Biome > Ecosystem > Biocoenosis > ...   \n",
       " \n",
       "                               vteHierarchy of life.1  \n",
       " 0  Biosphere > Biome > Ecosystem > Biocoenosis > ...  ,\n",
       "              vteGlobalization  \\\n",
       " 0   Journals  Outline Studies   \n",
       " 1                     Aspects   \n",
       " 2                      Issues   \n",
       " 3                      Global   \n",
       " 4                       Other   \n",
       " 5                    Theories   \n",
       " 6            Notable scholars   \n",
       " 7                   Economics   \n",
       " 8           Political economy   \n",
       " 9         Politics/ sociology   \n",
       " 10               Non–academic   \n",
       " 11  Category  Business portal   \n",
       " \n",
       "                                    vteGlobalization.1  \n",
       " 0                           Journals  Outline Studies  \n",
       " 1   Alter-globalization Anti-globalization movemen...  \n",
       " 2   Global Climate change Climate justice Disease ...  \n",
       " 3   Climate change Climate justice Disease COVID-1...  \n",
       " 4   Brain drain reverse Care drain Development aid...  \n",
       " 5   Capital accumulation Dependency Development Ea...  \n",
       " 6   Economics David Autor Richard Baldwin Ravi Bat...  \n",
       " 7   David Autor Richard Baldwin Ravi Batra Jagdish...  \n",
       " 8   Samir Amin Giovanni Arrighi Robert W. Cox Andr...  \n",
       " 9   Arjun Appadurai Daniele Archibugi K. Anthony A...  \n",
       " 10  Noam Chomsky Thomas Friedman Naomi Klein John ...  \n",
       " 11                          Category  Business portal  ,\n",
       "         0                                                  1\n",
       " 0  Global  Climate change Climate justice Disease COVID-1...\n",
       " 1   Other  Brain drain reverse Care drain Development aid...,\n",
       "                      0                                                  1\n",
       " 0            Economics  David Autor Richard Baldwin Ravi Batra Jagdish...\n",
       " 1    Political economy  Samir Amin Giovanni Arrighi Robert W. Cox Andr...\n",
       " 2  Politics/ sociology  Arjun Appadurai Daniele Archibugi K. Anthony A...\n",
       " 3         Non–academic  Noam Chomsky Thomas Friedman Naomi Klein John ...,\n",
       "                                        0        1\n",
       " 0  Authority control databases: National  Germany]"
      ]
     },
     "execution_count": 78,
     "metadata": {},
     "output_type": "execute_result"
    }
   ],
   "source": [
    "print(len(dataframe_list))\n",
    "dataframe_list"
   ]
  },
  {
   "cell_type": "markdown",
   "id": "9e8664b6-765d-4fc2-aef8-5b0bc072b93b",
   "metadata": {},
   "source": [
    "Finally we can pick the DataFrame we need out of the list.\n"
   ]
  },
  {
   "cell_type": "code",
   "execution_count": 82,
   "id": "de11692c-13d5-4896-9acb-5bd5ade9bd8b",
   "metadata": {},
   "outputs": [
    {
     "data": {
      "text/plain": [
       "[                                                                                                                                                                                              #  \\\n",
       "    Graphs are unavailable due to technical issues. Updates on reimplementing the Graph extension, which will be known as the Chart extension, can be found on Phabricator and on MediaWiki.org.   \n",
       "    Graphs are unavailable due to technical issues. Updates on reimplementing the Graph extension, which will be known as the Chart extension, can be found on Phabricator and on MediaWiki.org.   \n",
       "    Graphs are unavailable due to technical issues. Updates on reimplementing the Graph extension, which will be known as the Chart extension, can be found on Phabricator and on MediaWiki.org.   \n",
       "    Graphs are unavailable due to technical issues. Updates on reimplementing the Graph extension, which will be known as the Chart extension, can be found on Phabricator and on MediaWiki.org.   \n",
       "    Graphs are unavailable due to technical issues. Updates on reimplementing the Graph extension, which will be known as the Chart extension, can be found on Phabricator and on MediaWiki.org.   \n",
       "    Graphs are unavailable due to technical issues. Updates on reimplementing the Graph extension, which will be known as the Chart extension, can be found on Phabricator and on MediaWiki.org.   \n",
       "    Graphs are unavailable due to technical issues. Updates on reimplementing the Graph extension, which will be known as the Chart extension, can be found on Phabricator and on MediaWiki.org.   \n",
       "    Graphs are unavailable due to technical issues. Updates on reimplementing the Graph extension, which will be known as the Chart extension, can be found on Phabricator and on MediaWiki.org.   \n",
       "    Graphs are unavailable due to technical issues. Updates on reimplementing the Graph extension, which will be known as the Chart extension, can be found on Phabricator and on MediaWiki.org.   \n",
       "    Graphs are unavailable due to technical issues. Updates on reimplementing the Graph extension, which will be known as the Chart extension, can be found on Phabricator and on MediaWiki.org.   \n",
       "    Graphs are unavailable due to technical issues. Updates on reimplementing the Graph extension, which will be known as the Chart extension, can be found on Phabricator and on MediaWiki.org.   \n",
       " 0                                                 NaN                                                                                                                                             \n",
       " 1                                                   1                                                                                                                                             \n",
       " 2                                                   2                                                                                                                                             \n",
       " 3                                                   3                                                                                                                                             \n",
       " 4                                                   4                                                                                                                                             \n",
       " 5                                                   5                                                                                                                                             \n",
       " 6                                                   6                                                                                                                                             \n",
       " 7                                                   7                                                                                                                                             \n",
       " 8                                                   8                                                                                                                                             \n",
       " 9                                                   9                                                                                                                                             \n",
       " 10                                                 10                                                                                                                                             \n",
       " 11                                                NaN                                                                                                                                             \n",
       " 12  Notes: ^ 2030 = Medium variant. ^ China exclud...                                                                                                                                             \n",
       " \n",
       "                               Most populous countries  \\\n",
       "                                    Unnamed: 1_level_1   \n",
       "                                    Unnamed: 1_level_2   \n",
       "                                    Unnamed: 1_level_3   \n",
       "                                    Unnamed: 1_level_4   \n",
       "                                    Unnamed: 1_level_5   \n",
       "                                    Unnamed: 1_level_6   \n",
       "                                    Unnamed: 1_level_7   \n",
       "                                    Unnamed: 1_level_8   \n",
       "                                    Unnamed: 1_level_9   \n",
       "                                   Unnamed: 1_level_10   \n",
       "                                   Unnamed: 1_level_11   \n",
       " 0   Graphs are unavailable due to technical issues...   \n",
       " 1                                            China[B]   \n",
       " 2                                               India   \n",
       " 3                                       United States   \n",
       " 4                                           Indonesia   \n",
       " 5                                            Pakistan   \n",
       " 6                                              Brazil   \n",
       " 7                                             Nigeria   \n",
       " 8                                          Bangladesh   \n",
       " 9                                              Russia   \n",
       " 10                                             Mexico   \n",
       " 11                                        World total   \n",
       " 12  Notes: ^ 2030 = Medium variant. ^ China exclud...   \n",
       " \n",
       "                                                  2000  \\\n",
       "                                    Unnamed: 2_level_1   \n",
       "                                    Unnamed: 2_level_2   \n",
       "                                    Unnamed: 2_level_3   \n",
       "                                    Unnamed: 2_level_4   \n",
       "                                    Unnamed: 2_level_5   \n",
       "                                    Unnamed: 2_level_6   \n",
       "                                    Unnamed: 2_level_7   \n",
       "                                    Unnamed: 2_level_8   \n",
       "                                    Unnamed: 2_level_9   \n",
       "                                   Unnamed: 2_level_10   \n",
       "                                   Unnamed: 2_level_11   \n",
       " 0                                                 NaN   \n",
       " 1                                                1270   \n",
       " 2                                                1053   \n",
       " 3                                                 283   \n",
       " 4                                                 212   \n",
       " 5                                                 136   \n",
       " 6                                                 176   \n",
       " 7                                                 123   \n",
       " 8                                                 131   \n",
       " 9                                                 146   \n",
       " 10                                                103   \n",
       " 11                                               6127   \n",
       " 12  Notes: ^ 2030 = Medium variant. ^ China exclud...   \n",
       " \n",
       "                                                  2015  \\\n",
       "                                    Unnamed: 3_level_1   \n",
       "                                    Unnamed: 3_level_2   \n",
       "                                    Unnamed: 3_level_3   \n",
       "                                    Unnamed: 3_level_4   \n",
       "                                    Unnamed: 3_level_5   \n",
       "                                    Unnamed: 3_level_6   \n",
       "                                    Unnamed: 3_level_7   \n",
       "                                    Unnamed: 3_level_8   \n",
       "                                    Unnamed: 3_level_9   \n",
       "                                   Unnamed: 3_level_10   \n",
       "                                   Unnamed: 3_level_11   \n",
       " 0                                                 NaN   \n",
       " 1                                                1376   \n",
       " 2                                                1311   \n",
       " 3                                                 322   \n",
       " 4                                                 258   \n",
       " 5                                                 208   \n",
       " 6                                                 206   \n",
       " 7                                                 182   \n",
       " 8                                                 161   \n",
       " 9                                                 146   \n",
       " 10                                                127   \n",
       " 11                                               7349   \n",
       " 12  Notes: ^ 2030 = Medium variant. ^ China exclud...   \n",
       " \n",
       "                                               2030[A]  \\\n",
       "                                    Unnamed: 4_level_1   \n",
       "                                    Unnamed: 4_level_2   \n",
       "                                    Unnamed: 4_level_3   \n",
       "                                    Unnamed: 4_level_4   \n",
       "                                    Unnamed: 4_level_5   \n",
       "                                    Unnamed: 4_level_6   \n",
       "                                    Unnamed: 4_level_7   \n",
       "                                    Unnamed: 4_level_8   \n",
       "                                    Unnamed: 4_level_9   \n",
       "                                   Unnamed: 4_level_10   \n",
       "                                   Unnamed: 4_level_11   \n",
       " 0                                                 NaN   \n",
       " 1                                                1416   \n",
       " 2                                                1528   \n",
       " 3                                                 356   \n",
       " 4                                                 295   \n",
       " 5                                                 245   \n",
       " 6                                                 228   \n",
       " 7                                                 263   \n",
       " 8                                                 186   \n",
       " 9                                                 149   \n",
       " 10                                                148   \n",
       " 11                                               8501   \n",
       " 12  Notes: ^ 2030 = Medium variant. ^ China exclud...   \n",
       " \n",
       "    Graphs are unavailable due to technical issues. Updates on reimplementing the Graph extension, which will be known as the Chart extension, can be found on Phabricator and on MediaWiki.org.  \n",
       "                                                                                                                                                                              Unnamed: 5_level_1  \n",
       "                                                                                                                                                                              Unnamed: 5_level_2  \n",
       "                                                                                                                                                                              Unnamed: 5_level_3  \n",
       "                                                                                                                                                                              Unnamed: 5_level_4  \n",
       "                                                                                                                                                                              Unnamed: 5_level_5  \n",
       "                                                                                                                                                                              Unnamed: 5_level_6  \n",
       "                                                                                                                                                                              Unnamed: 5_level_7  \n",
       "                                                                                                                                                                              Unnamed: 5_level_8  \n",
       "                                                                                                                                                                              Unnamed: 5_level_9  \n",
       "                                                                                                                                                                             Unnamed: 5_level_10  \n",
       "                                                                                                                                                                             Unnamed: 5_level_11  \n",
       " 0                                                 NaN                                                                                                                                            \n",
       " 1                                                 NaN                                                                                                                                            \n",
       " 2                                                 NaN                                                                                                                                            \n",
       " 3                                                 NaN                                                                                                                                            \n",
       " 4                                                 NaN                                                                                                                                            \n",
       " 5                                                 NaN                                                                                                                                            \n",
       " 6                                                 NaN                                                                                                                                            \n",
       " 7                                                 NaN                                                                                                                                            \n",
       " 8                                                 NaN                                                                                                                                            \n",
       " 9                                                 NaN                                                                                                                                            \n",
       " 10                                                NaN                                                                                                                                            \n",
       " 11                                                NaN                                                                                                                                            \n",
       " 12  Notes: ^ 2030 = Medium variant. ^ China exclud...                                                                                                                                            ,\n",
       "     0                                                  1\n",
       " 0 NaN  Graphs are unavailable due to technical issues...,\n",
       "    Rank                Country  Population  Area (km2)  Density (pop/km2)\n",
       " 0     1              Singapore     5921231         719               8235\n",
       " 1     2             Bangladesh   165650475      148460               1116\n",
       " 2     3  Palestine[note 3][99]     5223000        6025                867\n",
       " 3     4         Taiwan[note 4]    23580712       35980                655\n",
       " 4     5            South Korea    51844834       99720                520\n",
       " 5     6                Lebanon     5296814       10400                509\n",
       " 6     7                 Rwanda    13173730       26338                500\n",
       " 7     8                Burundi    12696478       27830                456\n",
       " 8     9                 Israel     9402617       21937                429\n",
       " 9    10                  India  1389637446     3287263                423,\n",
       "    Rank         Country  Population  Area (km2)  Density (pop/km2)  \\\n",
       " 0     1           India  1389637446     3287263                423   \n",
       " 1     2        Pakistan   242923845      796095                305   \n",
       " 2     3      Bangladesh   165650475      148460               1116   \n",
       " 3     4           Japan   124214766      377915                329   \n",
       " 4     5     Philippines   114597229      300000                382   \n",
       " 5     6         Vietnam   103808319      331210                313   \n",
       " 6     7  United Kingdom    67791400      243610                278   \n",
       " 7     8     South Korea    51844834       99720                520   \n",
       " 8     9          Taiwan    23580712       35980                655   \n",
       " 9    10       Sri Lanka    23187516       65610                353   \n",
       " \n",
       "   Population trend[citation needed]  \n",
       " 0                           Growing  \n",
       " 1                   Rapidly growing  \n",
       " 2                           Growing  \n",
       " 3                    Declining[100]  \n",
       " 4                           Growing  \n",
       " 5                           Growing  \n",
       " 6                           Growing  \n",
       " 7                            Steady  \n",
       " 8                            Steady  \n",
       " 9                           Growing  ,\n",
       "     Year  Population Yearly growth           Density (pop/km2)\n",
       "     Year  Population             %    Number Density (pop/km2)\n",
       " 0   1951  2543130380         1.75%  43808223                17\n",
       " 1   1952  2590270899         1.85%  47140519                17\n",
       " 2   1953  2640278797         1.93%  50007898                18\n",
       " 3   1954  2691979339         1.96%  51700542                18\n",
       " 4   1955  2746072141         2.01%  54092802                18\n",
       " ..   ...         ...           ...       ...               ...\n",
       " 68  2019  7764951032         1.06%  81161204                52\n",
       " 69  2020  7840952880         0.98%  76001848                53\n",
       " 70  2021  7909295151         0.87%  68342271                53\n",
       " 71  2022  7975105156         0.83%  65810005                54\n",
       " 72  2023  8045311447         0.88%  70206291                54\n",
       " \n",
       " [73 rows x 5 columns],\n",
       "                      Region  1500  1600  1700  1750  1800  1850  1900  1950  \\\n",
       " 0                     World   585   660   710   791   978  1262  1650  2521   \n",
       " 1                    Africa    86   114   106   106   107   111   133   221   \n",
       " 2                      Asia   282   350   411   502   635   809   947  1402   \n",
       " 3                    Europe   168   170   178   190   203   276   408   547   \n",
       " 4     Latin America[Note 1]    40    20    10    16    24    38    74   167   \n",
       " 5  Northern America[Note 1]     6     3     2     2     7    26    82   172   \n",
       " 6                   Oceania     3     3     3     2     2     2     6    13   \n",
       " \n",
       "    1999  2008  2010  2012  2050  2150  \n",
       " 0  6008  6707  6896  7052  9725  9746  \n",
       " 1   783   973  1022  1052  2478  2308  \n",
       " 2  3700  4054  4164  4250  5267  5561  \n",
       " 3   675   732   738   740   734   517  \n",
       " 4   508   577   590   603   784   912  \n",
       " 5   312   337   345   351   433   398  \n",
       " 6    30    34    37    38    57    51  ,\n",
       "                      Region  1500  1600  1700  1750  1800  1850  1900  1950  \\\n",
       " 0                    Africa  14.7  17.3  14.9  13.4  10.9   8.8   8.1   8.8   \n",
       " 1                      Asia  48.2  53.0  57.9  63.5  64.9  64.1  57.4  55.6   \n",
       " 2                    Europe  28.7  25.8  25.1  20.6  20.8  21.9  24.7  21.7   \n",
       " 3     Latin America[Note 1]   6.8   3.0   1.4   2.0   2.5   3.0   4.5   6.6   \n",
       " 4  Northern America[Note 1]   1.0   0.5   0.3   0.3   0.7   2.1   5.0   6.8   \n",
       " 5                   Oceania   0.5   0.5   0.4   0.3   0.2   0.2   0.4   0.5   \n",
       " \n",
       "    1999  2008  2010  2012  2050  2150  \n",
       " 0  13.0  14.5  14.8  15.2  25.5  23.7  \n",
       " 1  61.6  60.4  60.4  60.3  54.2  57.1  \n",
       " 2  11.2  10.9  10.7  10.5   7.6   5.3  \n",
       " 3   8.5   8.6   8.6   8.6   8.1   9.4  \n",
       " 4   5.2   5.0   5.0   5.0   4.5   4.1  \n",
       " 5   0.5   0.5   0.5   0.5   0.6   0.5  ,\n",
       "          Year    World  Africa    Asia  Europe  \\\n",
       " 0   70,000 BC  < 0.015     NaN     NaN     NaN   \n",
       " 1   10,000 BC        4     NaN     NaN     NaN   \n",
       " 2     8000 BC        5     NaN     NaN     NaN   \n",
       " 3     6500 BC        5     NaN     NaN     NaN   \n",
       " 4     5000 BC        5     NaN     NaN     NaN   \n",
       " 5     4000 BC        7     NaN     NaN     NaN   \n",
       " 6     3000 BC       14     NaN     NaN     NaN   \n",
       " 7     2000 BC       27     NaN     NaN     NaN   \n",
       " 8     1000 BC       50     7.0    33.0     9.0   \n",
       " 9      500 BC      100    14.0    66.0    16.0   \n",
       " 10       AD 1      200    23.0   141.0    28.0   \n",
       " 11       1000      400    70.0   269.0    50.0   \n",
       " 12       1500      458    86.0   243.0    84.0   \n",
       " 13       1600      580   114.0   339.0   111.0   \n",
       " 14       1700      682   106.0   436.0   125.0   \n",
       " 15       1750      791   106.0   502.0   163.0   \n",
       " 16       1800     1000   107.0   656.0   203.0   \n",
       " 17       1850     1262   111.0   809.0   276.0   \n",
       " 18       1900     1650   133.0   947.0   408.0   \n",
       " 19       1950     2525   229.0  1394.0   549.0   \n",
       " 20       1955     2758   254.0  1534.0   577.0   \n",
       " 21       1960     3018   285.0  1687.0   606.0   \n",
       " 22       1965     3322   322.0  1875.0   635.0   \n",
       " 23       1970     3682   366.0  2120.0   657.0   \n",
       " 24       1975     4061   416.0  2378.0   677.0   \n",
       " 25       1980     4440   478.0  2626.0   694.0   \n",
       " 26       1985     4853   550.0  2897.0   708.0   \n",
       " 27       1990     5310   632.0  3202.0   721.0   \n",
       " 28       1995     5735   720.0  3475.0   728.0   \n",
       " 29       2000     6127   814.0  3714.0   726.0   \n",
       " 30       2005     6520   920.0  3945.0   729.0   \n",
       " 31       2010     6930  1044.0  4170.0   735.0   \n",
       " 32       2015     7349  1186.0  4393.0   738.0   \n",
       " \n",
       "     Latin America & Carib.[Note 1]  North America [Note 1]  Oceania  \\\n",
       " 0                              NaN                     NaN      NaN   \n",
       " 1                              NaN                     NaN      NaN   \n",
       " 2                              NaN                     NaN      NaN   \n",
       " 3                              NaN                     NaN      NaN   \n",
       " 4                              NaN                     NaN      NaN   \n",
       " 5                              NaN                     NaN      NaN   \n",
       " 6                              NaN                     NaN      NaN   \n",
       " 7                              NaN                     NaN      NaN   \n",
       " 8                              NaN                     NaN      NaN   \n",
       " 9                              NaN                     NaN      NaN   \n",
       " 10                             NaN                     NaN      NaN   \n",
       " 11                             8.0                     1.0      2.0   \n",
       " 12                            39.0                     3.0      3.0   \n",
       " 13                            10.0                     3.0      3.0   \n",
       " 14                            10.0                     2.0      3.0   \n",
       " 15                            16.0                     2.0      2.0   \n",
       " 16                            24.0                     7.0      3.0   \n",
       " 17                            38.0                    26.0      2.0   \n",
       " 18                            74.0                    82.0      6.0   \n",
       " 19                           169.0                   172.0     12.7   \n",
       " 20                           193.0                   187.0     14.2   \n",
       " 21                           221.0                   204.0     15.8   \n",
       " 22                           254.0                   219.0     17.5   \n",
       " 23                           288.0                   231.0     19.7   \n",
       " 24                           326.0                   242.0     21.5   \n",
       " 25                           365.0                   254.0     23.0   \n",
       " 26                           406.0                   267.0     24.9   \n",
       " 27                           447.0                   281.0     27.0   \n",
       " 28                           487.0                   296.0     29.1   \n",
       " 29                           527.0                   314.0     31.1   \n",
       " 30                           564.0                   329.0     33.4   \n",
       " 31                           600.0                   344.0     36.4   \n",
       " 32                           634.0                   358.0     39.3   \n",
       " \n",
       "                 Notes  \n",
       " 0               [116]  \n",
       " 1               [117]  \n",
       " 2                 NaN  \n",
       " 3                 NaN  \n",
       " 4                 NaN  \n",
       " 5                 NaN  \n",
       " 6                 NaN  \n",
       " 7                 NaN  \n",
       " 8   [citation needed]  \n",
       " 9                 NaN  \n",
       " 10                NaN  \n",
       " 11                NaN  \n",
       " 12                NaN  \n",
       " 13                NaN  \n",
       " 14                NaN  \n",
       " 15                NaN  \n",
       " 16                NaN  \n",
       " 17                NaN  \n",
       " 18                NaN  \n",
       " 19              [118]  \n",
       " 20                NaN  \n",
       " 21                NaN  \n",
       " 22                NaN  \n",
       " 23                NaN  \n",
       " 24                NaN  \n",
       " 25                NaN  \n",
       " 26                NaN  \n",
       " 27                NaN  \n",
       " 28                NaN  \n",
       " 29                NaN  \n",
       " 30                NaN  \n",
       " 31                NaN  \n",
       " 32                NaN  ,\n",
       "     0                                                  1\n",
       " 0 NaN  This section needs additional citations for ve...,\n",
       "    Year  UN est. (millions) Difference  USCB est. (millions) Difference.1\n",
       " 0  2005                6542          –                  6473            –\n",
       " 1  2010                6957        415                  6866          393\n",
       " 2  2015                7380        423                  7256          390\n",
       " 3  2020                7795        415                  7643          380\n",
       " 4  2025                8184        390                  8007          363\n",
       " 5  2030                8549        364                  8341          334\n",
       " 6  2035                8888        339                  8646          306\n",
       " 7  2040                9199        311                  8926          280\n",
       " 8  2045                9482        283                  9180          254\n",
       " 9  2050                9735        253                  9408          228,\n",
       "    Year  World           Asia         Africa       Europe  \\\n",
       " 0  2000   6144  3,741 (60.9%)    811 (13.2%)  726 (11.8%)   \n",
       " 1  2024   8160  4,810 (58.9%)  1,520 (18.6%)   745 (9.1%)   \n",
       " 2  2050   9660  5,280 (54.7%)  2,470 (25.6%)   703 (7.3%)   \n",
       " 3  2075  10250  5,100 (49.8%)  3,290 (32.1%)   636 (6.2%)   \n",
       " 4  2100  10180  4,610 (45.3%)  3,810 (37.4%)   592 (5.8%)   \n",
       " \n",
       "   Latin America/Caribbean Northern America    Oceania  \n",
       " 0              522 (8.5%)       312 (5.1%)  31 (0.5%)  \n",
       " 1              663 (8.1%)       385 (4.7%)  46 (0.6%)  \n",
       " 2              730 (7.6%)       426 (4.4%)  57 (0.6%)  \n",
       " 3              698 (6.8%)       452 (4.4%)  66 (0.6%)  \n",
       " 4              613 (6.0%)       475 (4.7%)  73 (0.7%)  ,\n",
       "   Population (in billions)   0.5  0.5.1     1   1.1     2   2.1     4   4.1  \\\n",
       " 0                     Year  1500   1500  1804  1804  1927  1927  1974  1974   \n",
       " 1            Years elapsed     —    304   304   123   123    47    47    48   \n",
       " \n",
       "       8   8.1   16  16.1  \n",
       " 0  2022  2022  NaN   NaN  \n",
       " 1    48    48    —   NaN  ,\n",
       "   Population (in billions) 0.375  0.375.1  0.75  0.75.1   1.5  1.5.1     3  \\\n",
       " 0                     Year  1171     1171  1715    1715  1881   1881  1960   \n",
       " 1            Years elapsed     —      544   544     166   166     79    79   \n",
       " \n",
       "     3.1     6   6.1            12          12.1  \n",
       " 0  1960  1999  1999  c. 2100[140]  c. 2100[140]  \n",
       " 1    39    39    39       c. 100+       c. 100+  ,\n",
       "                                      External videos  \\\n",
       " 0  Why Most Humans Live Inside This Small Circle ...   \n",
       " \n",
       "                                    External videos.1  \n",
       " 0  Why Most Humans Live Inside This Small Circle ...  ,\n",
       "               vtePopulation                                    vtePopulation.1\n",
       " 0              Major topics  Demographics of the world Demographic transiti...\n",
       " 1        Population biology  Population decline Population density Physiolo...\n",
       " 2        Population ecology  Biocapacity Carrying capacity I = P × A × T Ka...\n",
       " 3   Society and  population  Eugenics Dysgenics Human overpopulation Malthu...\n",
       " 4              Publications  Population and Environment Population and Deve...\n",
       " 5                     Lists  Population and housing censuses by country Lar...\n",
       " 6  Events and organizations  7 Billion Actions Church of Euthanasia Interna...\n",
       " 7            Related topics  Bennett's law Green Revolution Human impact on...\n",
       " 8         Commons  Category                                  Commons  Category,\n",
       "            Articles related to the world's population  \\\n",
       " 0   vteHuman impact on the environmentGeneral Anth...   \n",
       " 1                  vteHuman impact on the environment   \n",
       " 2                                             General   \n",
       " 3                                              Causes   \n",
       " 4                                             Effects   \n",
       " 5                                          Mitigation   \n",
       " 6   Commons  Category by country assessment mitiga...   \n",
       " 7      vteLists of countries by population statistics   \n",
       " 8                                              Global   \n",
       " 9                               Continents/subregions   \n",
       " 10                                   Intercontinental   \n",
       " 11                                 Cities/urban areas   \n",
       " 12                                    Past and future   \n",
       " 13                                 Population density   \n",
       " 14                                  Growth indicators   \n",
       " 15                                    Life expectancy   \n",
       " 16                                 Other demographics   \n",
       " 17                                             Health   \n",
       " 18                           Education and innovation   \n",
       " 19                                           Economic   \n",
       " 20    List of international rankings Lists by country   \n",
       " 21                               vteHierarchy of life   \n",
       " 22  Biosphere > Biome > Ecosystem > Biocoenosis > ...   \n",
       " 23                                   vteGlobalization   \n",
       " 24                          Journals  Outline Studies   \n",
       " 25                                            Aspects   \n",
       " 26                                             Issues   \n",
       " 27                                             Global   \n",
       " 28                                              Other   \n",
       " 29                                           Theories   \n",
       " 30                                   Notable scholars   \n",
       " 31                                          Economics   \n",
       " 32                                  Political economy   \n",
       " 33                                Politics/ sociology   \n",
       " 34                                       Non–academic   \n",
       " 35                          Category  Business portal   \n",
       " \n",
       "          Articles related to the world's population.1  \n",
       " 0   vteHuman impact on the environmentGeneral Anth...  \n",
       " 1                  vteHuman impact on the environment  \n",
       " 2   Anthropocene Ecological footprint Environmenta...  \n",
       " 3   Causes of climate change Agriculture animal ag...  \n",
       " 4   Biodiversity threats biodiversity loss decline...  \n",
       " 5   Alternative fuel vehicle propulsion Birth cont...  \n",
       " 6   Commons  Category by country assessment mitiga...  \n",
       " 7      vteLists of countries by population statistics  \n",
       " 8   Current population United Nations Demographics...  \n",
       " 9   Africa Antarctica Asia Europe North America Ca...  \n",
       " 10  Americas Arab world Commonwealth of Nations Eu...  \n",
       " 11  World cities National capitals Megacities Mega...  \n",
       " 12  Past and future population World population es...  \n",
       " 13  Current density Past and future population den...  \n",
       " 14  Population growth rate Natural increase Net re...  \n",
       " 15  World Africa Asia Europe North America Oceania...  \n",
       " 16  Age at childbearing Age at first marriage Age ...  \n",
       " 17  Antidepressant consumption Antiviral medicatio...  \n",
       " 18  Bloomberg Innovation Index Education Index Glo...  \n",
       " 19  Access to financial services Development aid d...  \n",
       " 20    List of international rankings Lists by country  \n",
       " 21                               vteHierarchy of life  \n",
       " 22  Biosphere > Biome > Ecosystem > Biocoenosis > ...  \n",
       " 23                                   vteGlobalization  \n",
       " 24                          Journals  Outline Studies  \n",
       " 25  Alter-globalization Anti-globalization movemen...  \n",
       " 26  Global Climate change Climate justice Disease ...  \n",
       " 27  Climate change Climate justice Disease COVID-1...  \n",
       " 28  Brain drain reverse Care drain Development aid...  \n",
       " 29  Capital accumulation Dependency Development Ea...  \n",
       " 30  Economics David Autor Richard Baldwin Ravi Bat...  \n",
       " 31  David Autor Richard Baldwin Ravi Batra Jagdish...  \n",
       " 32  Samir Amin Giovanni Arrighi Robert W. Cox Andr...  \n",
       " 33  Arjun Appadurai Daniele Archibugi K. Anthony A...  \n",
       " 34  Noam Chomsky Thomas Friedman Naomi Klein John ...  \n",
       " 35                          Category  Business portal  ,\n",
       "                   vteHuman impact on the environment  \\\n",
       " 0                                            General   \n",
       " 1                                             Causes   \n",
       " 2                                            Effects   \n",
       " 3                                         Mitigation   \n",
       " 4  Commons  Category by country assessment mitiga...   \n",
       " \n",
       "                 vteHuman impact on the environment.1  \n",
       " 0  Anthropocene Ecological footprint Environmenta...  \n",
       " 1  Causes of climate change Agriculture animal ag...  \n",
       " 2  Biodiversity threats biodiversity loss decline...  \n",
       " 3  Alternative fuel vehicle propulsion Birth cont...  \n",
       " 4  Commons  Category by country assessment mitiga...  ,\n",
       "      vteLists of countries by population statistics  \\\n",
       " 0                                            Global   \n",
       " 1                             Continents/subregions   \n",
       " 2                                  Intercontinental   \n",
       " 3                                Cities/urban areas   \n",
       " 4                                   Past and future   \n",
       " 5                                Population density   \n",
       " 6                                 Growth indicators   \n",
       " 7                                   Life expectancy   \n",
       " 8                                Other demographics   \n",
       " 9                                            Health   \n",
       " 10                         Education and innovation   \n",
       " 11                                         Economic   \n",
       " 12  List of international rankings Lists by country   \n",
       " \n",
       "      vteLists of countries by population statistics.1  \n",
       " 0   Current population United Nations Demographics...  \n",
       " 1   Africa Antarctica Asia Europe North America Ca...  \n",
       " 2   Americas Arab world Commonwealth of Nations Eu...  \n",
       " 3   World cities National capitals Megacities Mega...  \n",
       " 4   Past and future population World population es...  \n",
       " 5   Current density Past and future population den...  \n",
       " 6   Population growth rate Natural increase Net re...  \n",
       " 7   World Africa Asia Europe North America Oceania...  \n",
       " 8   Age at childbearing Age at first marriage Age ...  \n",
       " 9   Antidepressant consumption Antiviral medicatio...  \n",
       " 10  Bloomberg Innovation Index Education Index Glo...  \n",
       " 11  Access to financial services Development aid d...  \n",
       " 12    List of international rankings Lists by country  ,\n",
       "                                 vteHierarchy of life  \\\n",
       " 0  Biosphere > Biome > Ecosystem > Biocoenosis > ...   \n",
       " \n",
       "                               vteHierarchy of life.1  \n",
       " 0  Biosphere > Biome > Ecosystem > Biocoenosis > ...  ,\n",
       "              vteGlobalization  \\\n",
       " 0   Journals  Outline Studies   \n",
       " 1                     Aspects   \n",
       " 2                      Issues   \n",
       " 3                      Global   \n",
       " 4                       Other   \n",
       " 5                    Theories   \n",
       " 6            Notable scholars   \n",
       " 7                   Economics   \n",
       " 8           Political economy   \n",
       " 9         Politics/ sociology   \n",
       " 10               Non–academic   \n",
       " 11  Category  Business portal   \n",
       " \n",
       "                                    vteGlobalization.1  \n",
       " 0                           Journals  Outline Studies  \n",
       " 1   Alter-globalization Anti-globalization movemen...  \n",
       " 2   Global Climate change Climate justice Disease ...  \n",
       " 3   Climate change Climate justice Disease COVID-1...  \n",
       " 4   Brain drain reverse Care drain Development aid...  \n",
       " 5   Capital accumulation Dependency Development Ea...  \n",
       " 6   Economics David Autor Richard Baldwin Ravi Bat...  \n",
       " 7   David Autor Richard Baldwin Ravi Batra Jagdish...  \n",
       " 8   Samir Amin Giovanni Arrighi Robert W. Cox Andr...  \n",
       " 9   Arjun Appadurai Daniele Archibugi K. Anthony A...  \n",
       " 10  Noam Chomsky Thomas Friedman Naomi Klein John ...  \n",
       " 11                          Category  Business portal  ,\n",
       "         0                                                  1\n",
       " 0  Global  Climate change Climate justice Disease COVID-1...\n",
       " 1   Other  Brain drain reverse Care drain Development aid...,\n",
       "                      0                                                  1\n",
       " 0            Economics  David Autor Richard Baldwin Ravi Batra Jagdish...\n",
       " 1    Political economy  Samir Amin Giovanni Arrighi Robert W. Cox Andr...\n",
       " 2  Politics/ sociology  Arjun Appadurai Daniele Archibugi K. Anthony A...\n",
       " 3         Non–academic  Noam Chomsky Thomas Friedman Naomi Klein John ...,\n",
       "                                        0        1\n",
       " 0  Authority control databases: National  Germany]"
      ]
     },
     "execution_count": 82,
     "metadata": {},
     "output_type": "execute_result"
    }
   ],
   "source": [
    "dataframe_list[4:]"
   ]
  },
  {
   "cell_type": "markdown",
   "id": "f1ed20d1-37db-4bb9-95d1-d420915172df",
   "metadata": {},
   "source": [
    "We can also use the `match` parameter to select the specific table we want. If the table contains a string matching the text it will be read.\n"
   ]
  },
  {
   "cell_type": "code",
   "execution_count": null,
   "id": "4a187a62-0f1d-4edf-a4a3-82aceb641162",
   "metadata": {},
   "outputs": [],
   "source": [
    "pd.read_html(url, match=\"10 most densely populated countries\", flavor='bs4')[0]"
   ]
  },
  {
   "cell_type": "markdown",
   "id": "0a6bb893-a6a5-40da-819a-cae1b9ec35f1",
   "metadata": {},
   "source": [
    "## Authors\n"
   ]
  },
  {
   "cell_type": "markdown",
   "id": "01c27b40-b1c5-4df2-871e-896e2a0158be",
   "metadata": {},
   "source": [
    "Ramesh Sannareddy\n"
   ]
  },
  {
   "cell_type": "markdown",
   "id": "6dbd2cca-3721-4c7a-b067-5af9ec2e0cb3",
   "metadata": {},
   "source": [
    "### Other Contributors\n"
   ]
  },
  {
   "cell_type": "markdown",
   "id": "50ac4388-cdf5-47e5-8623-aa62b2af1ad9",
   "metadata": {},
   "source": [
    "Rav Ahuja\n"
   ]
  },
  {
   "cell_type": "markdown",
   "id": "dacf7d4b-e7c9-4560-9074-0ae10be4641e",
   "metadata": {},
   "source": [
    "<!-- ## Change Log\n",
    "| Date (YYYY-MM-DD) | Version | Changed By                                               | Change Description |\n",
    "| ----------------- | ------- | -------------------------------------------------------- | ------------------ |\n",
    "| 2021-08-04        | 0.2     | Made changes to markdown of nextsibling                  |                    |\n",
    "| 2020-10-17        | 0.1     | Joseph Santarcangelo  Created initial version of the lab |                    |\n",
    "--!>\n"
   ]
  },
  {
   "cell_type": "markdown",
   "id": "de38920f-a738-442c-ac7d-d91954935c68",
   "metadata": {},
   "source": [
    "####  Copyright © 2020 IBM Corporation. This notebook and its source code are released under the terms of the [MIT License](https://cognitiveclass.ai/mit-license?utm_medium=Exinfluencer&utm_source=Exinfluencer&utm_content=000026UJ&utm_term=10006555&utm_id=NA-SkillsNetwork-Channel-SkillsNetworkCoursesIBMDeveloperSkillsNetworkPY0220ENSkillsNetwork23455606-2021-01-01&cm_mmc=Email_Newsletter-\\_-Developer_Ed%2BTech-\\_-WW_WW-\\_-SkillsNetwork-Courses-IBMDeveloperSkillsNetwork-PY0101EN-SkillsNetwork-19487395&cm_mmca1=000026UJ&cm_mmca2=10006555&cm_mmca3=M12345678&cvosrc=email.Newsletter.M12345678&cvo_campaign=000026UJ).\n"
   ]
  }
 ],
 "metadata": {
  "kernelspec": {
   "display_name": "myenv",
   "language": "python",
   "name": "python3"
  },
  "language_info": {
   "codemirror_mode": {
    "name": "ipython",
    "version": 3
   },
   "file_extension": ".py",
   "mimetype": "text/x-python",
   "name": "python",
   "nbconvert_exporter": "python",
   "pygments_lexer": "ipython3",
   "version": "3.12.9"
  },
  "prev_pub_hash": "c975bc569b09cdc49e9f499aac075862b2ff7356b23b8f06b39f154846eb837e"
 },
 "nbformat": 4,
 "nbformat_minor": 4
}
