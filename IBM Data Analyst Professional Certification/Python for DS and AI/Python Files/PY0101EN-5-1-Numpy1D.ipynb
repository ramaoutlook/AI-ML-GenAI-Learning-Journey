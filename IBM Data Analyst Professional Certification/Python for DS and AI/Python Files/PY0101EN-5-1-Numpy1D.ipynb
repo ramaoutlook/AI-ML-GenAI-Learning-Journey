{
 "cells": [
  {
   "cell_type": "markdown",
   "id": "65cfe1a8-b696-46b0-bb21-2e3e172b20f9",
   "metadata": {},
   "source": [
    "<p style=\"text-align:center\">\n",
    "    <a href=\"https://skills.network\" target=\"_blank\">\n",
    "    <img src=\"https://cf-courses-data.s3.us.cloud-object-storage.appdomain.cloud/assets/logos/SN_web_lightmode.png\" width=\"300\" alt=\"Skills Network Logo\">\n",
    "    </a>\n",
    "</p>\n",
    "\n",
    "# 1D Numpy in Python\n",
    "\n",
    "Estimated time needed: **40** minutes\n",
    "\n",
    "## Objectives\n",
    "\n",
    "After completing this lab you will be able to:\n",
    "\n",
    "*   Import and use the `numpy` library\n",
    "*   Perform operations with `numpy`\n"
   ]
  },
  {
   "cell_type": "markdown",
   "id": "bd8916a7-1300-4fbf-b08e-1ec9a45bb9fb",
   "metadata": {},
   "source": [
    "<h2>Table of Contents</h2>\n",
    "<div class=\"alert alert-block alert-info\" style=\"margin-thttps://op/?utm_medium=Exinfluencer&utm_source=Exinfluencer&utm_content=000026UJ&utm_term=10006555&utm_id=NA-SkillsNetwork-Channel-SkillsNetworkCoursesIBMDeveloperSkillsNetworkPY0101ENSkillsNetwork19487395-2021-01-01: 20px\">\n",
    "    <ul>\n",
    "        <li>\n",
    "            <a href=\"#What-is-Numpy?\">What is Numpy?</a>\n",
    "            <ul>\n",
    "                <li><a href=\"#Type\">Type</a></li>\n",
    "                <li><a href=\"#Assign-Value\">Assign Value</a></li>\n",
    "                <li><a href=\"#Slicing\">Slicing</a></li>\n",
    "                <li><a href=\"#Assign-Value-with-List\">Assign Value with List</a></li>\n",
    "                <li><a href=\"#Other-Attributes\">Other Attributes</a></li>\n",
    "            </ul>\n",
    "        </li>\n",
    "        <li>\n",
    "            <a href=\"#Numpy-Array-Operations\">Numpy Array Operations</a>\n",
    "            <ul>\n",
    "                <li><a href=\"#Array-Addition\">Array Addition</a></li>\n",
    "                <li><a href=\"#Array-Multiplication\">Array Multiplication</a></li>\n",
    "                <li><a href=\"#Product-of-Two-Numpy-Arrays\">Product of Two Numpy Arrays</a></li>\n",
    "                <li><a href=\"#Dot-Product\">Dot Product</a></li>\n",
    "                <li><a href=\"#Adding-Constant-to-a-Numpy-Array\">Adding Constant to a Numpy Array</a></li>\n",
    "            </ul>\n",
    "        </li>\n",
    "        <li><a href=\"#Mathematical-Functions\">Mathematical Functions</a></li>\n",
    "        <li><a href=\"#Linspace\">Linspace</a></li>\n",
    "    </ul>\n",
    "\n",
    "</div>\n",
    "\n",
    "<hr>\n"
   ]
  },
  {
   "cell_type": "markdown",
   "id": "9122dc6f-fe45-45cc-9b4f-ab9cf1e34f14",
   "metadata": {},
   "source": [
    "## What is Numpy?\n"
   ]
  },
  {
   "cell_type": "markdown",
   "id": "67bffec8-a2d9-4f6b-ab18-1b3c9ef3ac03",
   "metadata": {},
   "source": [
    "NumPy is a Python library used for working with arrays, linear algebra, fourier transform, and matrices. NumPy stands for Numerical Python and it is an open source project. The array object in NumPy is called **ndarray**, it provides a lot of supporting functions that make working with ndarray very easy.\n",
    "\n",
    "Arrays are very frequently used in data science, where speed and resources are very important.\n",
    "\n",
    "NumPy is usually imported under the np alias.\n",
    "\n",
    "It's usually fixed in size and each element is of the same type. We can cast a list to a numpy array by first importing `numpy`:\n"
   ]
  },
  {
   "cell_type": "code",
   "execution_count": 1,
   "id": "dc2c30c7-971a-4220-9f40-c6eb3db2644f",
   "metadata": {},
   "outputs": [],
   "source": [
    "# import numpy library\n",
    "\n",
    "import numpy as np "
   ]
  },
  {
   "cell_type": "markdown",
   "id": "ff59e0eb-ab8b-4686-8f51-dfd19cd2d8d2",
   "metadata": {},
   "source": [
    "We then cast the list as follows:\n"
   ]
  },
  {
   "cell_type": "code",
   "execution_count": 2,
   "id": "ff98b648-11b8-427d-8fa4-91d57ab8baa3",
   "metadata": {},
   "outputs": [
    {
     "data": {
      "text/plain": [
       "array([0, 1, 2, 3, 4])"
      ]
     },
     "execution_count": 2,
     "metadata": {},
     "output_type": "execute_result"
    }
   ],
   "source": [
    "# Create a numpy array\n",
    "\n",
    "a = np.array([0, 1, 2, 3, 4])\n",
    "a"
   ]
  },
  {
   "cell_type": "markdown",
   "id": "861c80a1-1861-4e59-8e48-5d5d9cddf95e",
   "metadata": {},
   "source": [
    "Each element is of the same type, in this case integers:\n"
   ]
  },
  {
   "cell_type": "markdown",
   "id": "4b9cb8d7-30df-4a67-8ba2-78d865d1c1ad",
   "metadata": {},
   "source": [
    "<img src=\"https://cf-courses-data.s3.us.cloud-object-storage.appdomain.cloud/IBMDeveloperSkillsNetwork-PY0101EN-SkillsNetwork/labs/Module%205/images/NumOneNp.png\" width=\"500\">\n"
   ]
  },
  {
   "cell_type": "markdown",
   "id": "fe139a80-014b-4afa-bb13-97eba3b3d5c5",
   "metadata": {},
   "source": [
    "As with lists, we can access each element via a square bracket:\n"
   ]
  },
  {
   "cell_type": "code",
   "execution_count": 3,
   "id": "cf5331f9-a1ef-4eff-89c1-9576b4cb1043",
   "metadata": {},
   "outputs": [
    {
     "name": "stdout",
     "output_type": "stream",
     "text": [
      "a[0]: 0\n",
      "a[1]: 1\n",
      "a[2]: 2\n",
      "a[3]: 3\n",
      "a[4]: 4\n"
     ]
    }
   ],
   "source": [
    "# Print each element\n",
    "\n",
    "print(\"a[0]:\", a[0])\n",
    "print(\"a[1]:\", a[1])\n",
    "print(\"a[2]:\", a[2])\n",
    "print(\"a[3]:\", a[3])\n",
    "print(\"a[4]:\", a[4])"
   ]
  },
  {
   "cell_type": "markdown",
   "id": "0631a75b-9f47-4920-acc3-35e0e59354bf",
   "metadata": {},
   "source": [
    "#### Checking NumPy Version\n",
    "\n",
    "The version string is stored under __version__ attribute.\n"
   ]
  },
  {
   "cell_type": "code",
   "execution_count": 4,
   "id": "bd32496c-8937-40ad-8635-4e548b8f28fc",
   "metadata": {},
   "outputs": [
    {
     "name": "stdout",
     "output_type": "stream",
     "text": [
      "2.2.2\n"
     ]
    }
   ],
   "source": [
    "print(np.__version__)"
   ]
  },
  {
   "cell_type": "markdown",
   "id": "e4a0749c-f848-4857-a0ae-fb0c1b37f446",
   "metadata": {},
   "source": [
    "### Type\n"
   ]
  },
  {
   "cell_type": "markdown",
   "id": "56d26fb7-05bc-4905-a3fb-bafb950d5d1f",
   "metadata": {},
   "source": [
    "If we check the type of the array we get <b>numpy.ndarray</b>:\n"
   ]
  },
  {
   "cell_type": "code",
   "execution_count": 5,
   "id": "04dbc2c1-d720-4b94-96e2-b82ba31fdce0",
   "metadata": {},
   "outputs": [
    {
     "data": {
      "text/plain": [
       "numpy.ndarray"
      ]
     },
     "execution_count": 5,
     "metadata": {},
     "output_type": "execute_result"
    }
   ],
   "source": [
    "# Check the type of the array\n",
    "\n",
    "type(a)"
   ]
  },
  {
   "cell_type": "markdown",
   "id": "e50a3082-e3ef-438d-a24b-893fa0cae3e3",
   "metadata": {},
   "source": [
    "As numpy arrays contain data of the same type, we can use the attribute \"dtype\" to obtain the data type of the array’s elements. In this case, it's a 64-bit integer:\n"
   ]
  },
  {
   "cell_type": "code",
   "execution_count": 6,
   "id": "78d493ce-20b7-4a6d-9ea4-fd3d687a1941",
   "metadata": {},
   "outputs": [
    {
     "data": {
      "text/plain": [
       "dtype('int64')"
      ]
     },
     "execution_count": 6,
     "metadata": {},
     "output_type": "execute_result"
    }
   ],
   "source": [
    "# Check the type of the values stored in numpy array\n",
    "\n",
    "a.dtype"
   ]
  },
  {
   "cell_type": "markdown",
   "id": "38b0df44-4a9f-4166-aa7a-4c0948cbf116",
   "metadata": {},
   "source": [
    "### Try it yourself\n",
    "\n",
    "Check the type of the array and Value type for the given array **c**\n"
   ]
  },
  {
   "cell_type": "code",
   "execution_count": 9,
   "id": "62a13e48-a800-4489-a467-ebeff0fa2116",
   "metadata": {},
   "outputs": [
    {
     "data": {
      "text/plain": [
       "dtype('float64')"
      ]
     },
     "execution_count": 9,
     "metadata": {},
     "output_type": "execute_result"
    }
   ],
   "source": [
    "b = np.array([3.1, 11.02, 6.2, 213.2, 5.2])\n",
    "b.dtype\n",
    "\n",
    "# Enter your code here\n"
   ]
  },
  {
   "cell_type": "markdown",
   "id": "d0d799ce-9b84-4684-ae02-11682fa1e442",
   "metadata": {},
   "source": [
    "<details><summary>Click here for the solution</summary>\n",
    "\n",
    "```python\n",
    "type(b)\n",
    "    \n",
    "b.dtype \n",
    "    \n",
    "If we examine the attribute dtype we see float 64, as the elements are not integers:\n",
    "```\n",
    "\n",
    "</details>\n",
    "\n"
   ]
  },
  {
   "cell_type": "markdown",
   "id": "53ca01ea-cbf3-4200-9329-590ea2e2c7d2",
   "metadata": {},
   "source": [
    "### Assign value\n"
   ]
  },
  {
   "cell_type": "markdown",
   "id": "9be5297d-a233-4d1f-a42d-a65a8a98f391",
   "metadata": {},
   "source": [
    "We can change the value of the array. Consider the array <code>c</code>:\n"
   ]
  },
  {
   "cell_type": "code",
   "execution_count": 10,
   "id": "e4152c30-9fa6-4c3d-89e5-d673b05296ea",
   "metadata": {},
   "outputs": [
    {
     "data": {
      "text/plain": [
       "array([20,  1,  2,  3,  4])"
      ]
     },
     "execution_count": 10,
     "metadata": {},
     "output_type": "execute_result"
    }
   ],
   "source": [
    "# Create numpy array\n",
    "\n",
    "c = np.array([20, 1, 2, 3, 4])\n",
    "c"
   ]
  },
  {
   "cell_type": "markdown",
   "id": "2e8a76c0-43f6-4bd9-9ba6-aedf99019369",
   "metadata": {},
   "source": [
    "We can change the first element of the array to 100 as follows:\n"
   ]
  },
  {
   "cell_type": "code",
   "execution_count": 11,
   "id": "fb8ca6d1-e39f-4e28-9000-9622726ae6e5",
   "metadata": {},
   "outputs": [
    {
     "data": {
      "text/plain": [
       "array([100,   1,   2,   3,   4])"
      ]
     },
     "execution_count": 11,
     "metadata": {},
     "output_type": "execute_result"
    }
   ],
   "source": [
    "# Assign the first element to 100\n",
    "\n",
    "c[0] = 100\n",
    "c"
   ]
  },
  {
   "cell_type": "markdown",
   "id": "f2ecd469-fc93-4b21-8039-5d80901f52ba",
   "metadata": {},
   "source": [
    "We can change the 5th element of the array to 0 as follows:\n"
   ]
  },
  {
   "cell_type": "code",
   "execution_count": 12,
   "id": "37c3c513-c05a-4370-a1c6-815731da3680",
   "metadata": {},
   "outputs": [
    {
     "data": {
      "text/plain": [
       "array([100,   1,   2,   3,   0])"
      ]
     },
     "execution_count": 12,
     "metadata": {},
     "output_type": "execute_result"
    }
   ],
   "source": [
    "# Assign the 5th element to 0\n",
    "\n",
    "c[4] = 0\n",
    "c"
   ]
  },
  {
   "cell_type": "markdown",
   "id": "28b7d037-5a58-4368-abcd-219551246630",
   "metadata": {},
   "source": [
    "### Try it yourself\n",
    "\n",
    "Assign the value 20 for the second element in the given array.\n"
   ]
  },
  {
   "cell_type": "code",
   "execution_count": 15,
   "id": "987c81a0-a336-415f-a378-2402443b5b6f",
   "metadata": {},
   "outputs": [
    {
     "data": {
      "text/plain": [
       "array([10, 20, 30, 40, 50])"
      ]
     },
     "execution_count": 15,
     "metadata": {},
     "output_type": "execute_result"
    }
   ],
   "source": [
    "a = np.array([10, 2, 30, 40,50])\n",
    "\n",
    "# Enter your code here\n",
    "a[1]=20\n",
    "a"
   ]
  },
  {
   "cell_type": "markdown",
   "id": "f7a23364-df0b-490b-9e7c-5eaf8543a12d",
   "metadata": {},
   "source": [
    "<details><summary>Click here for the solution</summary>\n",
    "\n",
    "```python\n",
    "a[1]=20\n",
    "a\n",
    "   \n",
    "```\n",
    "\n",
    "</details>\n"
   ]
  },
  {
   "cell_type": "markdown",
   "id": "48bd712a-50ac-45a4-ad5a-05fe53b15b26",
   "metadata": {},
   "source": [
    "### Slicing\n"
   ]
  },
  {
   "cell_type": "markdown",
   "id": "55b2e80e-ee0b-455a-b6e8-e14639dfb7dd",
   "metadata": {},
   "source": [
    "Like lists, we can slice the numpy array. Slicing in python means taking the elements from the given index to another given index.\n",
    "\n",
    "We pass slice like this: [start:end].The element at end index is not being included in the output.\n",
    "\n",
    "We can select the elements from 1 to 3 and assign it to a new numpy array <code>d</code> as follows:\n"
   ]
  },
  {
   "cell_type": "code",
   "execution_count": 17,
   "id": "e867e8c4-ddce-434e-9dcd-c4146fdca488",
   "metadata": {},
   "outputs": [
    {
     "name": "stdout",
     "output_type": "stream",
     "text": [
      "[100   1   2   3   0]\n"
     ]
    },
    {
     "data": {
      "text/plain": [
       "array([1, 2, 3])"
      ]
     },
     "execution_count": 17,
     "metadata": {},
     "output_type": "execute_result"
    }
   ],
   "source": [
    "# Slicing the numpy array\n",
    "print(c)\n",
    "d = c[1:4]\n",
    "d"
   ]
  },
  {
   "cell_type": "markdown",
   "id": "3629c111-19ec-42ef-b223-2e3e9ac55800",
   "metadata": {},
   "source": [
    "We can assign the corresponding indexes to new values as follows:\n"
   ]
  },
  {
   "cell_type": "code",
   "execution_count": 18,
   "id": "6c36be1b-c193-473f-b648-1144c26041ba",
   "metadata": {},
   "outputs": [
    {
     "data": {
      "text/plain": [
       "array([100,   1,   2, 300, 400])"
      ]
     },
     "execution_count": 18,
     "metadata": {},
     "output_type": "execute_result"
    }
   ],
   "source": [
    "# Set the fourth element and fifth element to 300 and 400\n",
    "\n",
    "c[3:5] = 300, 400\n",
    "c"
   ]
  },
  {
   "cell_type": "markdown",
   "id": "1299f442-ec42-4635-9cb2-e2fe2fdd24db",
   "metadata": {},
   "source": [
    "We can also define the steps in slicing, like this: [start:end:step].\n"
   ]
  },
  {
   "cell_type": "code",
   "execution_count": 19,
   "id": "5290997c-2ebb-4b6e-8de0-d11724c38991",
   "metadata": {},
   "outputs": [
    {
     "name": "stdout",
     "output_type": "stream",
     "text": [
      "[2 4]\n"
     ]
    }
   ],
   "source": [
    "arr = np.array([1, 2, 3, 4, 5, 6, 7])\n",
    "\n",
    "print(arr[1:5:2])"
   ]
  },
  {
   "cell_type": "markdown",
   "id": "187e436e-ad66-4040-96af-1914444c407f",
   "metadata": {},
   "source": [
    "If we don't pass start its considered 0\n"
   ]
  },
  {
   "cell_type": "code",
   "execution_count": 20,
   "id": "47283561-2e5e-4805-961d-a56eaccbd2ce",
   "metadata": {},
   "outputs": [
    {
     "name": "stdout",
     "output_type": "stream",
     "text": [
      "[1 2 3 4]\n"
     ]
    }
   ],
   "source": [
    "print(arr[:4])"
   ]
  },
  {
   "cell_type": "markdown",
   "id": "5f1935c6-0850-4941-ac37-4aad133679c3",
   "metadata": {},
   "source": [
    "If we don't pass end it considers till the length of array.\n"
   ]
  },
  {
   "cell_type": "code",
   "execution_count": 21,
   "id": "cdad0a08-f7ab-41d3-8f9f-b9cb77cc47c2",
   "metadata": {},
   "outputs": [
    {
     "name": "stdout",
     "output_type": "stream",
     "text": [
      "[5 6 7]\n"
     ]
    }
   ],
   "source": [
    "print(arr[4:])"
   ]
  },
  {
   "cell_type": "markdown",
   "id": "98db4c58-7baf-4af6-98e4-4beb6f908e45",
   "metadata": {},
   "source": [
    "If we don't pass step its considered 1\n"
   ]
  },
  {
   "cell_type": "code",
   "execution_count": 22,
   "id": "984d5ba7-d913-4aee-af21-ecdb3d7a9b56",
   "metadata": {},
   "outputs": [
    {
     "name": "stdout",
     "output_type": "stream",
     "text": [
      "[2 3 4 5]\n"
     ]
    }
   ],
   "source": [
    "print(arr[1:5:])"
   ]
  },
  {
   "cell_type": "markdown",
   "id": "24bf49f9-a76a-467f-b0b9-e4e0ab33b9fa",
   "metadata": {},
   "source": [
    "### Try it yourself\n",
    "\n",
    "Print the even elements in the given array.\n"
   ]
  },
  {
   "cell_type": "code",
   "execution_count": 23,
   "id": "8be5423e-e0c0-4edd-a501-9569e92d97a1",
   "metadata": {},
   "outputs": [
    {
     "data": {
      "text/plain": [
       "array([2, 4, 6, 8])"
      ]
     },
     "execution_count": 23,
     "metadata": {},
     "output_type": "execute_result"
    }
   ],
   "source": [
    "arr = np.array([1, 2, 3, 4, 5, 6, 7, 8])\n",
    "arr[1::2]\n",
    "# Enter your code here"
   ]
  },
  {
   "cell_type": "markdown",
   "id": "b6cd4c05-9434-49ef-89a0-ec88071be557",
   "metadata": {},
   "source": [
    "<details><summary>Click here for the solution</summary>\n",
    "\n",
    "```python\n",
    "print(arr[1:8:2])\n",
    "\n",
    "    \n",
    "```\n",
    "\n",
    "</details>\n"
   ]
  },
  {
   "cell_type": "markdown",
   "id": "a21e19d7-7cfd-416e-a6a1-94fe4d52d94b",
   "metadata": {},
   "source": [
    "### Assign Value with List\n"
   ]
  },
  {
   "cell_type": "markdown",
   "id": "2575206d-3a75-4ff4-940d-c14ea990c3ec",
   "metadata": {},
   "source": [
    "Similarly, we can use a list to select more than one specific index.\n",
    "The list `select` contains several values:\n"
   ]
  },
  {
   "cell_type": "code",
   "execution_count": 24,
   "id": "39d5e9a1-d10c-4120-b9e0-c1ab705794d0",
   "metadata": {},
   "outputs": [
    {
     "data": {
      "text/plain": [
       "[0, 2, 3, 4]"
      ]
     },
     "execution_count": 24,
     "metadata": {},
     "output_type": "execute_result"
    }
   ],
   "source": [
    "# Create the index list\n",
    "\n",
    "select = [0, 2, 3, 4]\n",
    "select"
   ]
  },
  {
   "cell_type": "markdown",
   "id": "6fa72197-5fb3-4067-9364-70d5028d799e",
   "metadata": {},
   "source": [
    "We can use the list as an argument in the brackets. The output is the elements corresponding to the particular indexes:\n"
   ]
  },
  {
   "cell_type": "code",
   "execution_count": 26,
   "id": "ebdc063f-12d8-48ce-805a-21f45534f5d7",
   "metadata": {},
   "outputs": [
    {
     "name": "stdout",
     "output_type": "stream",
     "text": [
      "[100   1   2 300 400]\n"
     ]
    },
    {
     "data": {
      "text/plain": [
       "array([100,   2, 300, 400])"
      ]
     },
     "execution_count": 26,
     "metadata": {},
     "output_type": "execute_result"
    }
   ],
   "source": [
    "# Use List to select elements\n",
    "print(c)\n",
    "d = c[select]\n",
    "d"
   ]
  },
  {
   "cell_type": "markdown",
   "id": "22c81a31-641a-4eca-b579-45b23b85b35f",
   "metadata": {},
   "source": [
    "We can assign the specified elements to a new value. For example, we can assign the values to 100 000 as follows:\n"
   ]
  },
  {
   "cell_type": "code",
   "execution_count": 27,
   "id": "246280a9-1ba3-4e01-b570-72c7154ec49c",
   "metadata": {},
   "outputs": [
    {
     "data": {
      "text/plain": [
       "array([100000,      1, 100000, 100000, 100000])"
      ]
     },
     "execution_count": 27,
     "metadata": {},
     "output_type": "execute_result"
    }
   ],
   "source": [
    "# Assign the specified elements to new value\n",
    "\n",
    "c[select] = 100000\n",
    "c"
   ]
  },
  {
   "cell_type": "markdown",
   "id": "776d1665-52b7-4a2d-9899-0355a83c0178",
   "metadata": {},
   "source": [
    "### Other Attributes\n"
   ]
  },
  {
   "cell_type": "markdown",
   "id": "eb464d52-942c-491e-8426-f639cf73580c",
   "metadata": {},
   "source": [
    "Let's review some basic array attributes using the array <code>a</code>:\n"
   ]
  },
  {
   "cell_type": "code",
   "execution_count": 28,
   "id": "39557a5f-fe19-47b6-992a-070d8ef52660",
   "metadata": {},
   "outputs": [
    {
     "data": {
      "text/plain": [
       "array([0, 1, 2, 3, 4])"
      ]
     },
     "execution_count": 28,
     "metadata": {},
     "output_type": "execute_result"
    }
   ],
   "source": [
    "# Create a numpy array\n",
    "\n",
    "a = np.array([0, 1, 2, 3, 4])\n",
    "a"
   ]
  },
  {
   "cell_type": "markdown",
   "id": "0a402397-15fc-4333-ae29-71befdda64ce",
   "metadata": {},
   "source": [
    "The attribute <code>size</code> is the number of elements in the array:\n"
   ]
  },
  {
   "cell_type": "code",
   "execution_count": 29,
   "id": "fadca930-4f4c-4a64-8640-092667e2e942",
   "metadata": {},
   "outputs": [
    {
     "data": {
      "text/plain": [
       "5"
      ]
     },
     "execution_count": 29,
     "metadata": {},
     "output_type": "execute_result"
    }
   ],
   "source": [
    "# Get the size of numpy array\n",
    "\n",
    "a.size"
   ]
  },
  {
   "cell_type": "markdown",
   "id": "1917f46d-da05-419c-8e9e-92f73e2f5c4c",
   "metadata": {},
   "source": [
    "The next two attributes will make more sense when we get to higher dimensions but let's review them. The attribute <code>ndim</code> represents the number of array dimensions, or the rank of the array. In this case, one:\n"
   ]
  },
  {
   "cell_type": "code",
   "execution_count": 30,
   "id": "505bdd93-572d-464a-8117-f7a64b58c3d6",
   "metadata": {},
   "outputs": [
    {
     "data": {
      "text/plain": [
       "1"
      ]
     },
     "execution_count": 30,
     "metadata": {},
     "output_type": "execute_result"
    }
   ],
   "source": [
    "# Get the number of dimensions of numpy array\n",
    "\n",
    "a.ndim"
   ]
  },
  {
   "cell_type": "markdown",
   "id": "59e677be-a804-476b-a786-6e7d21b75eaa",
   "metadata": {},
   "source": [
    "The attribute <code>shape</code> is a tuple of integers indicating the size of the array in each dimension:\n"
   ]
  },
  {
   "cell_type": "code",
   "execution_count": 31,
   "id": "928dbe55-14ee-4140-89cd-1a75c267104d",
   "metadata": {},
   "outputs": [
    {
     "data": {
      "text/plain": [
       "(5,)"
      ]
     },
     "execution_count": 31,
     "metadata": {},
     "output_type": "execute_result"
    }
   ],
   "source": [
    "# Get the shape/size of numpy array\n",
    "\n",
    "a.shape"
   ]
  },
  {
   "cell_type": "markdown",
   "id": "f083cb97-bf37-4619-a969-1b9443347808",
   "metadata": {},
   "source": [
    "### Try it yourself\n",
    "\n",
    "Find the size ,dimension and shape for the given array **b**\n"
   ]
  },
  {
   "cell_type": "code",
   "execution_count": 36,
   "id": "cbf5063e-bcc2-422b-a008-9fab375658ab",
   "metadata": {},
   "outputs": [
    {
     "name": "stdout",
     "output_type": "stream",
     "text": [
      "7\n",
      "(7,)\n",
      "1\n"
     ]
    }
   ],
   "source": [
    "b = np.array([10, 20, 30, 40, 50, 60, 70])\n",
    "\n",
    "# Enter your code here\n",
    "print(b.size)\n",
    "print(b.shape)\n",
    "print(b.ndim)"
   ]
  },
  {
   "cell_type": "markdown",
   "id": "281b5be1-30a3-4b50-a130-805f920c27e0",
   "metadata": {},
   "source": [
    "<details><summary>Click here for the solution</summary>\n",
    "\n",
    "```python\n",
    "b.size\n",
    "\n",
    "b.ndim\n",
    "\n",
    "b.shape\n",
    "\n",
    "    \n",
    "```\n",
    "\n",
    "</details>\n"
   ]
  },
  {
   "cell_type": "markdown",
   "id": "591ae241-c205-47b7-82e3-72ce6fd6e885",
   "metadata": {},
   "source": [
    "### Numpy Statistical Functions\n"
   ]
  },
  {
   "cell_type": "code",
   "execution_count": 37,
   "id": "fb909c2f-92fc-4eba-8dcb-ac1e411ac0d5",
   "metadata": {},
   "outputs": [],
   "source": [
    "# Create a numpy array\n",
    "\n",
    "a = np.array([1, -1, 1, -1])"
   ]
  },
  {
   "cell_type": "code",
   "execution_count": 49,
   "id": "0235d8c4-5f1c-4d9a-a0e8-6a437a35f095",
   "metadata": {},
   "outputs": [
    {
     "name": "stdout",
     "output_type": "stream",
     "text": [
      "0.0\n",
      "0.0\n"
     ]
    }
   ],
   "source": [
    "# Get the mean of numpy array\n",
    "\n",
    "mean = a.mean()\n",
    "print(mean)\n",
    "print(np.median(a))"
   ]
  },
  {
   "cell_type": "code",
   "execution_count": 45,
   "id": "facdc2e3-7782-430f-ae2f-74b174940eda",
   "metadata": {},
   "outputs": [
    {
     "data": {
      "text/plain": [
       "np.float64(1.0)"
      ]
     },
     "execution_count": 45,
     "metadata": {},
     "output_type": "execute_result"
    }
   ],
   "source": [
    "# Get the standard deviation of numpy array\n",
    "\n",
    "standard_deviation=a.std()\n",
    "standard_deviation"
   ]
  },
  {
   "cell_type": "code",
   "execution_count": 46,
   "id": "5673007e-8a9c-4120-a0f2-ac269c8c802a",
   "metadata": {},
   "outputs": [
    {
     "data": {
      "text/plain": [
       "array([-1,  2,  3,  4,  5])"
      ]
     },
     "execution_count": 46,
     "metadata": {},
     "output_type": "execute_result"
    }
   ],
   "source": [
    "# Create a numpy array\n",
    "\n",
    "b = np.array([-1, 2, 3, 4, 5])\n",
    "b"
   ]
  },
  {
   "cell_type": "code",
   "execution_count": 50,
   "id": "51a8ddc0-3cf2-4ef8-986f-caeb90ae2008",
   "metadata": {},
   "outputs": [
    {
     "data": {
      "text/plain": [
       "np.int64(5)"
      ]
     },
     "execution_count": 50,
     "metadata": {},
     "output_type": "execute_result"
    }
   ],
   "source": [
    "# Get the biggest value in the numpy array\n",
    "\n",
    "max_b = b.max()\n",
    "max_b"
   ]
  },
  {
   "cell_type": "code",
   "execution_count": 51,
   "id": "99ff3448-2cfb-43ff-bb54-da591b4ed4be",
   "metadata": {},
   "outputs": [
    {
     "data": {
      "text/plain": [
       "np.int64(-1)"
      ]
     },
     "execution_count": 51,
     "metadata": {},
     "output_type": "execute_result"
    }
   ],
   "source": [
    "# Get the smallest value in the numpy array\n",
    "\n",
    "min_b = b.min()\n",
    "min_b"
   ]
  },
  {
   "cell_type": "markdown",
   "id": "ceeaafae-de02-439b-a0fe-df78d00d12bc",
   "metadata": {},
   "source": [
    "### Try it yourself\n",
    "\n",
    "Find the sum of maximum and minimum value in the given numpy array\n"
   ]
  },
  {
   "cell_type": "markdown",
   "id": "5e6f45f1-a88f-4f50-995d-7bf07ed9f7c0",
   "metadata": {},
   "source": [
    "<hr>\n"
   ]
  },
  {
   "cell_type": "code",
   "execution_count": 52,
   "id": "c194cd45-7eb6-44e8-88cd-eabf5a0ecb29",
   "metadata": {},
   "outputs": [
    {
     "data": {
      "text/plain": [
       "np.int64(492)"
      ]
     },
     "execution_count": 52,
     "metadata": {},
     "output_type": "execute_result"
    }
   ],
   "source": [
    "c = np.array([-10, 201, 43, 94, 502])\n",
    "# Enter your code here\n",
    "s = c.min() + c.max()\n",
    "s\n"
   ]
  },
  {
   "cell_type": "markdown",
   "id": "8287eae7-b05e-4a62-b314-daad0f295628",
   "metadata": {},
   "source": [
    "<details><summary>Click here for the solution</summary>\n",
    "\n",
    "```python\n",
    "max_c = c.max()\n",
    "max_c\n",
    "    \n",
    "min_c = c.min()\n",
    "min_c\n",
    "    \n",
    "    \n",
    "Sum = (max_c +min_c)\n",
    "Sum\n",
    "\n",
    "    \n",
    "```\n",
    "\n",
    "</details>\n"
   ]
  },
  {
   "cell_type": "markdown",
   "id": "5aff731f-6699-43f5-b10c-b310b744d0bc",
   "metadata": {},
   "source": [
    "## Numpy Array Operations\n",
    "\n",
    "You could use arithmetic operators directly between NumPy arrays\n"
   ]
  },
  {
   "cell_type": "markdown",
   "id": "ea7ad951-db51-4294-b2f0-deb6e56ef19c",
   "metadata": {},
   "source": [
    "### Array Addition\n",
    "\n"
   ]
  },
  {
   "cell_type": "markdown",
   "id": "a1790976-f00e-4052-aac1-8606f54db3f7",
   "metadata": {},
   "source": [
    "Consider the numpy array <code>u</code>:\n"
   ]
  },
  {
   "cell_type": "code",
   "execution_count": 55,
   "id": "24b2a830-3603-4300-95b8-943672a72654",
   "metadata": {},
   "outputs": [
    {
     "data": {
      "text/plain": [
       "array([1, 0])"
      ]
     },
     "execution_count": 55,
     "metadata": {},
     "output_type": "execute_result"
    }
   ],
   "source": [
    "u = np.array([1, 0])\n",
    "u"
   ]
  },
  {
   "cell_type": "markdown",
   "id": "088f3f57-9713-405a-bcce-b2f12a15aec5",
   "metadata": {},
   "source": [
    "Consider the numpy array <code>v</code>:\n"
   ]
  },
  {
   "cell_type": "code",
   "execution_count": 53,
   "id": "f21cd795-d4f2-4f9a-b088-31451643f3e6",
   "metadata": {},
   "outputs": [
    {
     "data": {
      "text/plain": [
       "array([0, 1])"
      ]
     },
     "execution_count": 53,
     "metadata": {},
     "output_type": "execute_result"
    }
   ],
   "source": [
    "v = np.array([0, 1])\n",
    "v"
   ]
  },
  {
   "cell_type": "markdown",
   "id": "33ea9403-599a-4ddd-bf31-330b392a790a",
   "metadata": {},
   "source": [
    "We can add the two arrays and assign it to z:\n"
   ]
  },
  {
   "cell_type": "code",
   "execution_count": 56,
   "id": "704848ce-6869-4d6d-9a0e-2a86a94b63dd",
   "metadata": {},
   "outputs": [
    {
     "data": {
      "text/plain": [
       "array([1, 1])"
      ]
     },
     "execution_count": 56,
     "metadata": {},
     "output_type": "execute_result"
    }
   ],
   "source": [
    "# Numpy Array Addition\n",
    "\n",
    "z = np.add(u, v)\n",
    "z"
   ]
  },
  {
   "cell_type": "markdown",
   "id": "dfdfe913-afbe-40a4-9afc-173c066869a6",
   "metadata": {},
   "source": [
    "The operation is equivalent to vector addition:\n"
   ]
  },
  {
   "cell_type": "code",
   "execution_count": 57,
   "id": "671b420c-6a64-4c1b-be07-7fbd5e4f28e4",
   "metadata": {},
   "outputs": [],
   "source": [
    "# Plotting functions\n",
    "\n",
    "\n",
    "import time \n",
    "import sys\n",
    "import numpy as np \n",
    "\n",
    "import matplotlib.pyplot as plt\n",
    "\n",
    "\n",
    "def Plotvec1(u, z, v):\n",
    "    \n",
    "    ax = plt.axes() # to generate the full window axes\n",
    "    ax.arrow(0, 0, *u, head_width=0.05, color='r', head_length=0.1)# Add an arrow to the  U Axes with arrow head width 0.05, color red and arrow head length 0.1\n",
    "    plt.text(*(u + 0.1), 'u')#Adds the text u to the Axes \n",
    "    \n",
    "    ax.arrow(0, 0, *v, head_width=0.05, color='b', head_length=0.1)# Add an arrow to the  v Axes with arrow head width 0.05, color red and arrow head length 0.1\n",
    "    plt.text(*(v + 0.1), 'v')#Adds the text v to the Axes \n",
    "    \n",
    "    ax.arrow(0, 0, *z, head_width=0.05, head_length=0.1)\n",
    "    plt.text(*(z + 0.1), 'z')#Adds the text z to the Axes \n",
    "    plt.ylim(-2, 2)#set the ylim to bottom(-2), top(2)\n",
    "    plt.xlim(-2, 2)#set the xlim to left(-2), right(2)\n",
    "\n",
    "  \n"
   ]
  },
  {
   "cell_type": "code",
   "execution_count": 58,
   "id": "e2c0016b-19a2-43a6-bb3e-0149ae80faae",
   "metadata": {},
   "outputs": [
    {
     "data": {
      "image/png": "[encoded data removed]",
      "text/plain": [
       "<Figure size 640x480 with 1 Axes>"
      ]
     },
     "metadata": {},
     "output_type": "display_data"
    }
   ],
   "source": [
    "# Plot numpy arrays\n",
    "\n",
    "Plotvec1(u, z, v)"
   ]
  },
  {
   "cell_type": "markdown",
   "id": "032dcad5-7d00-4339-aff8-ab29fe968c6d",
   "metadata": {},
   "source": [
    "### Try it yourself\n",
    "\n",
    "Perform addition operation on the given numpy array arr1 and arr2:\n"
   ]
  },
  {
   "cell_type": "code",
   "execution_count": 59,
   "id": "ab439c76-90ac-4318-b78a-fbf7cc166f4d",
   "metadata": {},
   "outputs": [],
   "source": [
    "arr1 = np.array([10, 11, 12, 13, 14, 15])\n",
    "arr2 = np.array([20, 21, 22, 23, 24, 25])\n",
    "\n",
    "# Enter your code here"
   ]
  },
  {
   "cell_type": "markdown",
   "id": "519e6f71-ef91-4ead-8b6d-f92e03ac2d9c",
   "metadata": {},
   "source": [
    "<details><summary>Click here for the solution</summary>\n",
    "\n",
    "```python\n",
    "arr3 = np.add(arr1, arr2)\n",
    "arr3\n",
    "\n",
    "    \n",
    "```\n",
    "\n",
    "</details>\n"
   ]
  },
  {
   "cell_type": "markdown",
   "id": "218cdd53-8364-4f75-a859-190c94aa52d5",
   "metadata": {},
   "source": [
    "### Array Subtraction\n"
   ]
  },
  {
   "cell_type": "markdown",
   "id": "644fd6be-15f3-4176-96af-6a5d6d526a11",
   "metadata": {},
   "source": [
    "Consider the numpy array a:\n"
   ]
  },
  {
   "cell_type": "code",
   "execution_count": 60,
   "id": "9899e3e7-b910-4ea1-9f4a-50598a23be6d",
   "metadata": {},
   "outputs": [
    {
     "data": {
      "text/plain": [
       "array([10, 20, 30])"
      ]
     },
     "execution_count": 60,
     "metadata": {},
     "output_type": "execute_result"
    }
   ],
   "source": [
    "a = np.array([10, 20, 30])\n",
    "a"
   ]
  },
  {
   "cell_type": "markdown",
   "id": "71345b03-9c83-47b7-b201-a7e0d38ae82d",
   "metadata": {},
   "source": [
    "Consider the numpy array b:\n"
   ]
  },
  {
   "cell_type": "code",
   "execution_count": 61,
   "id": "16a2d95b-624e-4296-9b4d-b05ead95f0e2",
   "metadata": {},
   "outputs": [
    {
     "data": {
      "text/plain": [
       "array([ 5, 10, 15])"
      ]
     },
     "execution_count": 61,
     "metadata": {},
     "output_type": "execute_result"
    }
   ],
   "source": [
    "b = np.array([5, 10, 15])\n",
    "b"
   ]
  },
  {
   "cell_type": "markdown",
   "id": "45d451e3-3636-4b6e-9a2a-144d83f4d16a",
   "metadata": {},
   "source": [
    "We can subtract the two arrays and assign it to c:\n"
   ]
  },
  {
   "cell_type": "code",
   "execution_count": 62,
   "id": "de5f254b-4fba-4c76-be6d-eaf7094843b5",
   "metadata": {},
   "outputs": [
    {
     "name": "stdout",
     "output_type": "stream",
     "text": [
      "[ 5 10 15]\n"
     ]
    }
   ],
   "source": [
    "c = np.subtract(a, b)\n",
    "\n",
    "print(c)"
   ]
  },
  {
   "cell_type": "markdown",
   "id": "a1b65830-14f5-4c0b-8786-6897eea56185",
   "metadata": {},
   "source": [
    "### Try it yourself\n",
    "\n",
    "Perform subtraction operation on the given numpy array arr1 and arr2:\n"
   ]
  },
  {
   "cell_type": "code",
   "execution_count": 63,
   "id": "4c60fc81-c203-47b4-8943-5b612565879d",
   "metadata": {},
   "outputs": [],
   "source": [
    "arr1 = np.array([10, 20, 30, 40, 50, 60])\n",
    "arr2 = np.array([20, 21, 22, 23, 24, 25])\n",
    "\n",
    "# Enter your code here\n"
   ]
  },
  {
   "cell_type": "markdown",
   "id": "90a5bb16-9890-4a60-b0f6-eda2905d887d",
   "metadata": {},
   "source": [
    "<details><summary>Click here for the solution</summary>\n",
    "\n",
    "```python\n",
    "arr3 = np.subtract(arr1, arr2)\n",
    "arr3\n",
    "\n",
    "    \n",
    "```\n",
    "\n",
    "</details>\n"
   ]
  },
  {
   "cell_type": "markdown",
   "id": "1b42153a-1e45-4e8c-a52e-48d84e3c9185",
   "metadata": {},
   "source": [
    "### Array Multiplication\n"
   ]
  },
  {
   "cell_type": "markdown",
   "id": "cab847a2-d689-4a71-bc96-8c71be6ffac1",
   "metadata": {},
   "source": [
    "Consider the vector numpy array <code>y</code>:\n"
   ]
  },
  {
   "cell_type": "code",
   "execution_count": 64,
   "id": "dfe1318e-7937-4cf0-a09c-cd2323839adb",
   "metadata": {},
   "outputs": [
    {
     "data": {
      "text/plain": [
       "array([1, 2])"
      ]
     },
     "execution_count": 64,
     "metadata": {},
     "output_type": "execute_result"
    }
   ],
   "source": [
    "# Create a numpy array\n",
    "\n",
    "x = np.array([1, 2])\n",
    "x"
   ]
  },
  {
   "cell_type": "code",
   "execution_count": 65,
   "id": "5f861a28-1ac3-4c6f-9799-318890f1c053",
   "metadata": {},
   "outputs": [
    {
     "data": {
      "text/plain": [
       "array([2, 1])"
      ]
     },
     "execution_count": 65,
     "metadata": {},
     "output_type": "execute_result"
    }
   ],
   "source": [
    "# Create a numpy array\n",
    "\n",
    "y = np.array([2, 1])\n",
    "y"
   ]
  },
  {
   "cell_type": "markdown",
   "id": "9f0e1b70-a7b9-4ccb-be0d-ef950d0bede9",
   "metadata": {},
   "source": [
    "We can multiply every element in the array by 2:\n"
   ]
  },
  {
   "cell_type": "code",
   "execution_count": 66,
   "id": "b1076954-1957-445a-a163-7cfa76285631",
   "metadata": {},
   "outputs": [
    {
     "data": {
      "text/plain": [
       "array([2, 2])"
      ]
     },
     "execution_count": 66,
     "metadata": {},
     "output_type": "execute_result"
    }
   ],
   "source": [
    "# Numpy Array Multiplication\n",
    "\n",
    "z = np.multiply(x, y)\n",
    "z"
   ]
  },
  {
   "cell_type": "markdown",
   "id": "409052c0-e421-4456-9e60-7ab0aaf3a9fc",
   "metadata": {},
   "source": [
    "This is equivalent to multiplying a vector by a scaler:\n"
   ]
  },
  {
   "cell_type": "markdown",
   "id": "87f9dfe0-65c9-401d-b1ed-60c530383f09",
   "metadata": {},
   "source": [
    "### Try it yourself\n",
    "\n",
    "Perform multiply operation on the given numpy array arr1 and arr2:\n"
   ]
  },
  {
   "cell_type": "code",
   "execution_count": 69,
   "id": "61af3b34-ba68-410c-8e51-d12e7b591301",
   "metadata": {},
   "outputs": [
    {
     "data": {
      "text/plain": [
       "array([ 20,  20,  60, 120, 200, 300])"
      ]
     },
     "execution_count": 69,
     "metadata": {},
     "output_type": "execute_result"
    }
   ],
   "source": [
    "arr1 = np.array([10, 20, 30, 40, 50, 60])\n",
    "arr2 = np.array([2, 1, 2, 3, 4, 5])\n",
    "a3 = np.multiply(arr1, arr2)\n",
    "# Enter your code here\n",
    "a3"
   ]
  },
  {
   "cell_type": "markdown",
   "id": "1faf66db-0844-49a9-a2cc-f1379e25dff4",
   "metadata": {},
   "source": [
    "<details><summary>Click here for the solution</summary>\n",
    "\n",
    "```python\n",
    "arr3 = np.multiply(arr1, arr2)\n",
    "arr3\n",
    "\n",
    "    \n",
    "```\n",
    "\n",
    "</details>\n"
   ]
  },
  {
   "cell_type": "markdown",
   "id": "1cc0a616-039c-4597-b1b5-6a5f7b5d08bb",
   "metadata": {},
   "source": [
    "### Array Division\n"
   ]
  },
  {
   "cell_type": "markdown",
   "id": "7992ac17-4b4a-4bff-89b9-86bd39f67c38",
   "metadata": {},
   "source": [
    "Consider the vector numpy array a:\n"
   ]
  },
  {
   "cell_type": "code",
   "execution_count": 70,
   "id": "3b24a788-1869-4111-a176-099cef2abe5f",
   "metadata": {},
   "outputs": [
    {
     "data": {
      "text/plain": [
       "array([10, 20, 30])"
      ]
     },
     "execution_count": 70,
     "metadata": {},
     "output_type": "execute_result"
    }
   ],
   "source": [
    "a = np.array([10, 20, 30])\n",
    "a"
   ]
  },
  {
   "cell_type": "markdown",
   "id": "9e4df8e2-c71a-486d-815b-d7bc2840f25a",
   "metadata": {},
   "source": [
    "Consider the vector numpy array b:\n"
   ]
  },
  {
   "cell_type": "code",
   "execution_count": 71,
   "id": "7c6ed957-8c68-493a-86b1-81278334cfc7",
   "metadata": {},
   "outputs": [
    {
     "data": {
      "text/plain": [
       "array([ 2, 10,  5])"
      ]
     },
     "execution_count": 71,
     "metadata": {},
     "output_type": "execute_result"
    }
   ],
   "source": [
    "b = np.array([2, 10, 5])\n",
    "b"
   ]
  },
  {
   "cell_type": "markdown",
   "id": "4928704d-be0c-4801-ac0e-b09fa0802b6d",
   "metadata": {},
   "source": [
    "We can divide the two arrays and assign it to c:\n"
   ]
  },
  {
   "cell_type": "code",
   "execution_count": 72,
   "id": "6b3805fa-7036-40aa-b92f-9a7ad0f62b8f",
   "metadata": {},
   "outputs": [
    {
     "data": {
      "text/plain": [
       "array([5., 2., 6.])"
      ]
     },
     "execution_count": 72,
     "metadata": {},
     "output_type": "execute_result"
    }
   ],
   "source": [
    "c = np.divide(a, b)\n",
    "c"
   ]
  },
  {
   "cell_type": "markdown",
   "id": "dccc5ecf-ce6d-4be9-88f6-49fd2a06d190",
   "metadata": {},
   "source": [
    "### Try it yourself\n",
    "\n",
    "Perform division operation on the given numpy array arr1 and arr2:\n"
   ]
  },
  {
   "cell_type": "code",
   "execution_count": 73,
   "id": "53c54b1b-cf50-4786-a161-41a1cd27cefb",
   "metadata": {},
   "outputs": [],
   "source": [
    "arr1 = np.array([10, 20, 30, 40, 50, 60])\n",
    "arr2 = np.array([3, 5, 10, 8, 2, 33])\n",
    "\n",
    "# Enter your code here"
   ]
  },
  {
   "cell_type": "markdown",
   "id": "ede97209-23fd-422b-8598-561116783c72",
   "metadata": {},
   "source": [
    "<details><summary>Click here for the solution</summary>\n",
    "\n",
    "```python\n",
    "arr3 = np.divide(arr1, arr2)\n",
    "arr3\n",
    "\n",
    "    \n",
    "```\n",
    "\n",
    "</details>\n"
   ]
  },
  {
   "cell_type": "markdown",
   "id": "d332b6bf-1bb8-4712-9b92-e9e35f800a0e",
   "metadata": {},
   "source": [
    "### Dot Product\n"
   ]
  },
  {
   "cell_type": "markdown",
   "id": "0c04e9f7-bde9-46a6-90ca-fb5b14fad16b",
   "metadata": {},
   "source": [
    "The dot product of the two numpy arrays <code>u</code> and <code>v</code> is given by:\n"
   ]
  },
  {
   "cell_type": "code",
   "execution_count": 75,
   "id": "ef763bf7-d322-4897-b8a8-42bfea59c018",
   "metadata": {},
   "outputs": [],
   "source": [
    "X = np.array([1, 2])\n",
    "Y = np.array([3, 2])"
   ]
  },
  {
   "cell_type": "code",
   "execution_count": 76,
   "id": "20c37ab7-7a75-48af-bb81-24590d17acb2",
   "metadata": {},
   "outputs": [
    {
     "data": {
      "text/plain": [
       "np.int64(7)"
      ]
     },
     "execution_count": 76,
     "metadata": {},
     "output_type": "execute_result"
    }
   ],
   "source": [
    "# Calculate the dot product\n",
    "\n",
    "np.dot(X, Y)"
   ]
  },
  {
   "cell_type": "code",
   "execution_count": 77,
   "id": "aecde717-5c96-4778-81ce-36206d482fbf",
   "metadata": {},
   "outputs": [
    {
     "name": "stdout",
     "output_type": "stream",
     "text": [
      "1\n",
      "2\n"
     ]
    }
   ],
   "source": [
    "#Elements of X\n",
    "print(X[0])\n",
    "print(X[1])"
   ]
  },
  {
   "cell_type": "code",
   "execution_count": 78,
   "id": "776a3fdd-a71e-4910-a554-bc362c169c3c",
   "metadata": {},
   "outputs": [
    {
     "name": "stdout",
     "output_type": "stream",
     "text": [
      "3\n",
      "2\n"
     ]
    }
   ],
   "source": [
    "#Elements of Y\n",
    "print(Y[0])\n",
    "print(Y[1])"
   ]
  },
  {
   "cell_type": "markdown",
   "id": "99b24e89-a396-4a0e-bf97-bc44b29e8f9a",
   "metadata": {},
   "source": [
    "We are performing the dot product which is shown as below\n"
   ]
  },
  {
   "cell_type": "markdown",
   "id": "684f354d-e6a2-40ee-ad8e-ff27faf58b00",
   "metadata": {},
   "source": [
    "<img src=\"https://cf-courses-data.s3.us.cloud-object-storage.appdomain.cloud/IBMDeveloperSkillsNetwork-PY0101EN-SkillsNetwork/labs/Module%205/images/dot1.png\">\n"
   ]
  },
  {
   "cell_type": "markdown",
   "id": "50206bbd-7b6a-4a79-954b-ca9a05f16853",
   "metadata": {},
   "source": [
    "### Try it yourself\n",
    "\n",
    "Perform dot operation on the given numpy array ar1 and ar2:\n"
   ]
  },
  {
   "cell_type": "code",
   "execution_count": 79,
   "id": "86febe10-b286-41d0-8fb5-7dcbd0781a5d",
   "metadata": {},
   "outputs": [
    {
     "data": {
      "text/plain": [
       "np.int64(26)"
      ]
     },
     "execution_count": 79,
     "metadata": {},
     "output_type": "execute_result"
    }
   ],
   "source": [
    "arr1 = np.array([3, 5])\n",
    "arr2 = np.array([2, 4])\n",
    "\n",
    "# Enter your code here\n",
    "a3 = np.dot(arr1, arr2)\n",
    "a3"
   ]
  },
  {
   "cell_type": "markdown",
   "id": "0c5c1f41-cf23-404e-80e2-ad909f751cbe",
   "metadata": {},
   "source": [
    "<details><summary>Click here for the solution</summary>\n",
    "\n",
    "```python\n",
    "arr3 = np.dot(arr1, arr2)\n",
    "arr3\n",
    "\n",
    "    \n",
    "```\n",
    "\n",
    "</details>\n"
   ]
  },
  {
   "cell_type": "markdown",
   "id": "c06aedce-d04b-4387-8227-51c645c47dee",
   "metadata": {},
   "source": [
    "### Adding Constant to a Numpy Array\n"
   ]
  },
  {
   "cell_type": "markdown",
   "id": "94953a8f-b700-4a8d-a2b0-35cf4ccff32c",
   "metadata": {},
   "source": [
    "Consider the following array:\n"
   ]
  },
  {
   "cell_type": "code",
   "execution_count": 80,
   "id": "2118e8eb-8b6c-4cd7-8eed-0922c222fb1c",
   "metadata": {},
   "outputs": [
    {
     "data": {
      "text/plain": [
       "array([ 1,  2,  3, -1])"
      ]
     },
     "execution_count": 80,
     "metadata": {},
     "output_type": "execute_result"
    }
   ],
   "source": [
    "# Create a constant to numpy array\n",
    "\n",
    "u = np.array([1, 2, 3, -1]) \n",
    "u"
   ]
  },
  {
   "cell_type": "markdown",
   "id": "9c99f85c-4b87-4e1b-881b-5f055641a2d6",
   "metadata": {},
   "source": [
    "Adding the constant 1 to each element in the array:\n"
   ]
  },
  {
   "cell_type": "code",
   "execution_count": 81,
   "id": "40d3587c-353a-4180-934a-abae37aed800",
   "metadata": {},
   "outputs": [
    {
     "data": {
      "text/plain": [
       "array([2, 3, 4, 0])"
      ]
     },
     "execution_count": 81,
     "metadata": {},
     "output_type": "execute_result"
    }
   ],
   "source": [
    "# Add the constant to array\n",
    "\n",
    "u + 1"
   ]
  },
  {
   "cell_type": "markdown",
   "id": "23294f42-484a-42e2-845a-c6f1ef330db9",
   "metadata": {},
   "source": [
    "The process is summarised in the following animation:\n"
   ]
  },
  {
   "cell_type": "markdown",
   "id": "3c871c41-9b13-45e7-9433-566233ffa357",
   "metadata": {},
   "source": [
    "<img src=\"https://cf-courses-data.s3.us.cloud-object-storage.appdomain.cloud/IBMDeveloperSkillsNetwork-PY0101EN-SkillsNetwork/labs/Module%205/images/NumOneAdd.gif\" width=\"500\">\n"
   ]
  },
  {
   "cell_type": "markdown",
   "id": "a11d7f44-a093-4746-91aa-3b34906ad562",
   "metadata": {},
   "source": [
    "### Try it yourself\n",
    "\n",
    "Add Constant 5 to the given numpy array ar:\n"
   ]
  },
  {
   "cell_type": "code",
   "execution_count": 82,
   "id": "1c16fb76-ced7-45ca-acc0-cf752770a1f2",
   "metadata": {},
   "outputs": [
    {
     "data": {
      "text/plain": [
       "array([6, 7, 8, 4])"
      ]
     },
     "execution_count": 82,
     "metadata": {},
     "output_type": "execute_result"
    }
   ],
   "source": [
    "arr = np.array([1, 2, 3, -1]) \n",
    "\n",
    "# Enter your code here\n",
    "arr+5"
   ]
  },
  {
   "cell_type": "markdown",
   "id": "7a3ea9a2-b25c-4848-9a09-c6a2d7fa0879",
   "metadata": {},
   "source": [
    "<details><summary>Click here for the solution</summary>\n",
    "\n",
    "```python\n",
    "arr + 5\n",
    "\n",
    "    \n",
    "```\n",
    "\n",
    "</details>\n"
   ]
  },
  {
   "cell_type": "markdown",
   "id": "6f3caf6f-be5f-4561-addd-538087a3148f",
   "metadata": {},
   "source": [
    "<hr>\n"
   ]
  },
  {
   "cell_type": "markdown",
   "id": "6c2ff536-2556-4861-a905-e35dc846c761",
   "metadata": {},
   "source": [
    "## Mathematical Functions\n"
   ]
  },
  {
   "cell_type": "markdown",
   "id": "a758618b-cc59-4d57-80b7-72b7370b12d7",
   "metadata": {},
   "source": [
    "We can access the value of <code>pi</code> in numpy as follows :\n"
   ]
  },
  {
   "cell_type": "code",
   "execution_count": 83,
   "id": "946ebefa-dfa3-4a0f-9af7-64641b137ba1",
   "metadata": {},
   "outputs": [
    {
     "data": {
      "text/plain": [
       "3.141592653589793"
      ]
     },
     "execution_count": 83,
     "metadata": {},
     "output_type": "execute_result"
    }
   ],
   "source": [
    "# The value of pi\n",
    "\n",
    "np.pi"
   ]
  },
  {
   "cell_type": "markdown",
   "id": "27280888-342d-4e07-b515-335d0cdb9cc3",
   "metadata": {},
   "source": [
    "We can create the following numpy array in Radians:\n"
   ]
  },
  {
   "cell_type": "code",
   "execution_count": 85,
   "id": "55c06494-cd68-406e-ac6d-361e5734cc5d",
   "metadata": {},
   "outputs": [
    {
     "data": {
      "text/plain": [
       "array([0.        , 1.57079633, 3.14159265])"
      ]
     },
     "execution_count": 85,
     "metadata": {},
     "output_type": "execute_result"
    }
   ],
   "source": [
    "# Create the numpy array in radians\n",
    "\n",
    "x = np.array([0, np.pi/2 , np.pi])\n",
    "x"
   ]
  },
  {
   "cell_type": "markdown",
   "id": "76bce0c2-4f34-4993-8220-f4645fa68839",
   "metadata": {},
   "source": [
    "We can apply the function <code>sin</code> to the array <code>x</code> and assign the values to the array <code>y</code>; this applies the sine function to each element in the array:\n"
   ]
  },
  {
   "cell_type": "code",
   "execution_count": 86,
   "id": "b30f9e19-28cb-48cd-9924-845630255146",
   "metadata": {},
   "outputs": [
    {
     "data": {
      "text/plain": [
       "array([0.0000000e+00, 1.0000000e+00, 1.2246468e-16])"
      ]
     },
     "execution_count": 86,
     "metadata": {},
     "output_type": "execute_result"
    }
   ],
   "source": [
    "# Calculate the sin of each elements\n",
    "\n",
    "y = np.sin(x)\n",
    "y"
   ]
  },
  {
   "cell_type": "markdown",
   "id": "249d182f-55fb-4bc7-b124-3ccca0aa981f",
   "metadata": {},
   "source": [
    "<hr>\n"
   ]
  },
  {
   "cell_type": "markdown",
   "id": "2acb5a76-2756-4dad-93ec-f1c260b02db8",
   "metadata": {},
   "source": [
    "## Linspace\n"
   ]
  },
  {
   "cell_type": "markdown",
   "id": "504a165d-adc4-4039-be02-dc30d558be11",
   "metadata": {},
   "source": [
    "A useful function for plotting mathematical functions is <code>linspace</code>.   Linspace returns evenly spaced numbers over a specified interval. \n",
    "\n",
    " **numpy.linspace(start, stop, num = int value)**\n",
    " \n",
    "start  :  start of interval range\n",
    "\n",
    "stop   :  end of interval range\n",
    "\n",
    "num    :  Number of samples to generate.\n"
   ]
  },
  {
   "cell_type": "code",
   "execution_count": 87,
   "id": "dbf50fe7-81d8-4d59-8f9a-5a30408ee900",
   "metadata": {},
   "outputs": [
    {
     "data": {
      "text/plain": [
       "array([-2., -1.,  0.,  1.,  2.])"
      ]
     },
     "execution_count": 87,
     "metadata": {},
     "output_type": "execute_result"
    }
   ],
   "source": [
    "# Makeup a numpy array within [-2, 2] and 5 elements\n",
    "\n",
    "np.linspace(-2, 2, num=5)"
   ]
  },
  {
   "cell_type": "markdown",
   "id": "82d9e543-223c-4d28-8e1e-02ef203184fb",
   "metadata": {},
   "source": [
    "If we change the parameter <code>num</code> to 9, we get 9 evenly spaced numbers over the interval from -2 to 2:\n"
   ]
  },
  {
   "cell_type": "code",
   "execution_count": 88,
   "id": "cbd15a62-7ad7-4b4c-b44a-2228c1ff977e",
   "metadata": {},
   "outputs": [
    {
     "data": {
      "text/plain": [
       "array([-2. , -1.5, -1. , -0.5,  0. ,  0.5,  1. ,  1.5,  2. ])"
      ]
     },
     "execution_count": 88,
     "metadata": {},
     "output_type": "execute_result"
    }
   ],
   "source": [
    "# Make a numpy array within [-2, 2] and 9 elements\n",
    "\n",
    "np.linspace(-2, 2, num=9)"
   ]
  },
  {
   "cell_type": "markdown",
   "id": "3997b2e0-071c-4047-98f1-a0f91e4097d2",
   "metadata": {},
   "source": [
    "We can use the function <code>linspace</code> to generate 100 evenly spaced samples from the interval 0 to 2π:\n"
   ]
  },
  {
   "cell_type": "code",
   "execution_count": 90,
   "id": "33c350e1-73dc-4249-bcda-8856cd0c57fb",
   "metadata": {},
   "outputs": [
    {
     "data": {
      "text/plain": [
       "array([0.        , 0.06346652, 0.12693304, 0.19039955, 0.25386607,\n",
       "       0.31733259, 0.38079911, 0.44426563, 0.50773215, 0.57119866,\n",
       "       0.63466518, 0.6981317 , 0.76159822, 0.82506474, 0.88853126,\n",
       "       0.95199777, 1.01546429, 1.07893081, 1.14239733, 1.20586385,\n",
       "       1.26933037, 1.33279688, 1.3962634 , 1.45972992, 1.52319644,\n",
       "       1.58666296, 1.65012947, 1.71359599, 1.77706251, 1.84052903,\n",
       "       1.90399555, 1.96746207, 2.03092858, 2.0943951 , 2.15786162,\n",
       "       2.22132814, 2.28479466, 2.34826118, 2.41172769, 2.47519421,\n",
       "       2.53866073, 2.60212725, 2.66559377, 2.72906028, 2.7925268 ,\n",
       "       2.85599332, 2.91945984, 2.98292636, 3.04639288, 3.10985939,\n",
       "       3.17332591, 3.23679243, 3.30025895, 3.36372547, 3.42719199,\n",
       "       3.4906585 , 3.55412502, 3.61759154, 3.68105806, 3.74452458,\n",
       "       3.8079911 , 3.87145761, 3.93492413, 3.99839065, 4.06185717,\n",
       "       4.12532369, 4.1887902 , 4.25225672, 4.31572324, 4.37918976,\n",
       "       4.44265628, 4.5061228 , 4.56958931, 4.63305583, 4.69652235,\n",
       "       4.75998887, 4.82345539, 4.88692191, 4.95038842, 5.01385494,\n",
       "       5.07732146, 5.14078798, 5.2042545 , 5.26772102, 5.33118753,\n",
       "       5.39465405, 5.45812057, 5.52158709, 5.58505361, 5.64852012,\n",
       "       5.71198664, 5.77545316, 5.83891968, 5.9023862 , 5.96585272,\n",
       "       6.02931923, 6.09278575, 6.15625227, 6.21971879, 6.28318531])"
      ]
     },
     "execution_count": 90,
     "metadata": {},
     "output_type": "execute_result"
    }
   ],
   "source": [
    "# Make a numpy array within [0, 2π] and 100 elements \n",
    "\n",
    "x = np.linspace(0, 2*np.pi, num=100)\n",
    "x"
   ]
  },
  {
   "cell_type": "markdown",
   "id": "13b6006e-35d8-4167-b1b6-3451ee7264cc",
   "metadata": {},
   "source": [
    "We can apply the sine function to each element in the array <code>x</code> and assign it to the array <code>y</code>:\n"
   ]
  },
  {
   "cell_type": "code",
   "execution_count": 91,
   "id": "c2e5c2e8-4bd8-4686-b3fc-181a97d7fb23",
   "metadata": {},
   "outputs": [],
   "source": [
    "# Calculate the sine of x list\n",
    "\n",
    "y = np.sin(x)"
   ]
  },
  {
   "cell_type": "code",
   "execution_count": 92,
   "id": "53c3a72e-4b2f-45ea-92fe-3ce7c7929710",
   "metadata": {},
   "outputs": [
    {
     "data": {
      "text/plain": [
       "[<matplotlib.lines.Line2D at 0x21fd0f951c0>]"
      ]
     },
     "execution_count": 92,
     "metadata": {},
     "output_type": "execute_result"
    },
    {
     "data": {
      "image/png": "[encoded data removed]",
      "text/plain": [
       "<Figure size 640x480 with 1 Axes>"
      ]
     },
     "metadata": {},
     "output_type": "display_data"
    }
   ],
   "source": [
    "# Plot the result\n",
    "\n",
    "plt.plot(x, y)"
   ]
  },
  {
   "cell_type": "markdown",
   "id": "bfc0823c-ff18-415e-9642-7da3b945c362",
   "metadata": {},
   "source": [
    "### Try it yourself\n",
    "\n",
    " Make a numpy array within [5, 4] and 6 elements\n"
   ]
  },
  {
   "cell_type": "code",
   "execution_count": 95,
   "id": "72861131-f525-4311-ad46-3453ce0818bd",
   "metadata": {},
   "outputs": [
    {
     "data": {
      "text/plain": [
       "array([5. , 4.8, 4.6, 4.4, 4.2, 4. ])"
      ]
     },
     "execution_count": 95,
     "metadata": {},
     "output_type": "execute_result"
    }
   ],
   "source": [
    "# Enter your code here\n",
    "z = np.linspace(5,4, num = 6)\n",
    "z"
   ]
  },
  {
   "cell_type": "markdown",
   "id": "c336a08d-c69a-4e2f-adf3-f877920fd16d",
   "metadata": {},
   "source": [
    "<details><summary>Click here for the solution</summary>\n",
    "\n",
    "```python\n",
    "np.linspace(5, 4, num=6)\n",
    "\n",
    "    \n",
    "```\n",
    "\n",
    "</details>\n"
   ]
  },
  {
   "cell_type": "markdown",
   "id": "1b0ad646-9360-4e2d-b720-6943103a9510",
   "metadata": {},
   "source": [
    "<hr>\n"
   ]
  },
  {
   "cell_type": "markdown",
   "id": "cbdf4eba-84f9-4c1e-972a-2491e7c52e17",
   "metadata": {},
   "source": [
    "### Iterating 1-D Arrays\n",
    "\n",
    "Iterating means going through elements one by one.\n",
    "\n",
    "If we iterate on a 1-D array it will go through each element one by one.\n"
   ]
  },
  {
   "cell_type": "markdown",
   "id": "49716083-8d5b-4535-a6c1-0b6f0de21891",
   "metadata": {},
   "source": [
    "If we execute the numpy array, we get in the array format\n"
   ]
  },
  {
   "cell_type": "code",
   "execution_count": 96,
   "id": "f6542f2f-8aa8-443f-aed4-13a4a2cb60a7",
   "metadata": {},
   "outputs": [
    {
     "name": "stdout",
     "output_type": "stream",
     "text": [
      "[1 2 3]\n"
     ]
    }
   ],
   "source": [
    "arr1 = np.array([1, 2, 3])\n",
    "print(arr1)"
   ]
  },
  {
   "cell_type": "markdown",
   "id": "7894c3d8-8586-4aee-896a-e0633a2e64e5",
   "metadata": {},
   "source": [
    "But if you want to result in the form of the list, then you can use for loop:\n"
   ]
  },
  {
   "cell_type": "code",
   "execution_count": 97,
   "id": "1b36e02a-4206-41f6-9896-c645892b0b0f",
   "metadata": {},
   "outputs": [
    {
     "name": "stdout",
     "output_type": "stream",
     "text": [
      "1\n",
      "2\n",
      "3\n"
     ]
    }
   ],
   "source": [
    "for x in arr1:\n",
    "  print(x)"
   ]
  },
  {
   "cell_type": "markdown",
   "id": "e1ae23fd-15b3-4039-ac57-b70942cc5e03",
   "metadata": {},
   "source": [
    "## Quiz on 1D Numpy Array\n"
   ]
  },
  {
   "cell_type": "markdown",
   "id": "0a62eb3f-052a-4e83-8721-b893de90b38f",
   "metadata": {},
   "source": [
    "Implement the following vector subtraction in numpy: u-v\n"
   ]
  },
  {
   "cell_type": "code",
   "execution_count": 98,
   "id": "e0792e22-0c12-403a-a0cf-e3ddb12533a4",
   "metadata": {},
   "outputs": [],
   "source": [
    "# Write your code below and press Shift+Enter to execute\n",
    "\n",
    "u = np.array([1, 0])\n",
    "v = np.array([0, 1])"
   ]
  },
  {
   "cell_type": "markdown",
   "id": "564663c1-5db5-47c4-bd82-594a34948f13",
   "metadata": {},
   "source": [
    "<details><summary>Click here for the solution</summary>\n",
    "\n",
    "```python\n",
    "u - v\n",
    "```\n",
    "\n",
    "</details>\n"
   ]
  },
  {
   "cell_type": "markdown",
   "id": "57ca2135-f36e-442d-8e90-447745fb63df",
   "metadata": {},
   "source": [
    "<hr>\n"
   ]
  },
  {
   "cell_type": "markdown",
   "id": "6cdd31e8-9ac8-46f5-acb9-aece21b381af",
   "metadata": {},
   "source": [
    "Multiply the numpy array z with -2:\n"
   ]
  },
  {
   "cell_type": "code",
   "execution_count": 100,
   "id": "7cdd42a2-261c-4448-9b27-aa68211a758c",
   "metadata": {},
   "outputs": [
    {
     "data": {
      "text/plain": [
       "array([-4, -8])"
      ]
     },
     "execution_count": 100,
     "metadata": {},
     "output_type": "execute_result"
    }
   ],
   "source": [
    "# Write your code below and press Shift+Enter to execute\n",
    "\n",
    "z = np.array([2, 4])\n",
    "z*-2"
   ]
  },
  {
   "cell_type": "markdown",
   "id": "070351fc-fcdf-4e98-86ac-8b2bfa03cbd4",
   "metadata": {},
   "source": [
    "<details><summary>Click here for the solution</summary>\n",
    "\n",
    "```python\n",
    "-2 * z\n",
    "```\n",
    "\n",
    "</details>\n"
   ]
  },
  {
   "cell_type": "markdown",
   "id": "24579b6c-8eeb-4fa7-b017-2df610565723",
   "metadata": {},
   "source": [
    "<hr>\n"
   ]
  },
  {
   "cell_type": "markdown",
   "id": "ab6589c1-191a-48cf-85d9-d009acdbd7a8",
   "metadata": {},
   "source": [
    "Consider the list <code>\\[1, 2, 3, 4, 5]</code> and <code>\\[1, 0, 1, 0, 1]</code>. Cast both lists to a numpy array then multiply them together:\n"
   ]
  },
  {
   "cell_type": "code",
   "execution_count": 101,
   "id": "adc7605b-1112-413e-a137-f313ac3f5325",
   "metadata": {},
   "outputs": [
    {
     "data": {
      "text/plain": [
       "array([1, 0, 3, 0, 5])"
      ]
     },
     "execution_count": 101,
     "metadata": {},
     "output_type": "execute_result"
    }
   ],
   "source": [
    "# Write your code below and press Shift+Enter to execute\n",
    "a = [1,2,3,4,5]\n",
    "b=[1,0,1,0,1]\n",
    "z = np.multiply(a,b)\n",
    "z"
   ]
  },
  {
   "cell_type": "markdown",
   "id": "5d4e3422-ca79-4cbc-a701-bcdef63f7bf2",
   "metadata": {},
   "source": [
    "<details><summary>Click here for the solution</summary>\n",
    "\n",
    "```python\n",
    "a = np.array([1, 2, 3, 4, 5])\n",
    "b = np.array([1, 0, 1, 0, 1])\n",
    "a * b\n",
    "```\n",
    "\n",
    "</details>\n"
   ]
  },
  {
   "cell_type": "markdown",
   "id": "acb84406-1890-4dff-82e0-ddca3b8959d8",
   "metadata": {},
   "source": [
    "<hr>\n"
   ]
  },
  {
   "cell_type": "code",
   "execution_count": 105,
   "id": "7959e646-dd86-4c18-aff8-b0d57cd52e5a",
   "metadata": {},
   "outputs": [],
   "source": [
    "# Import the libraries\n",
    "\n",
    "import time \n",
    "import sys\n",
    "import numpy as np \n",
    "\n",
    "import matplotlib.pyplot as plt\n",
    "\n",
    "\n",
    "def Plotvec2(a,b):\n",
    "    ax = plt.axes()# to generate the full window axes\n",
    "    ax.arrow(0, 0, *a, head_width=0.05, color ='r', head_length=0.1)#Add an arrow to the  a Axes with arrow head width 0.05, color red and arrow head length 0.1\n",
    "    plt.text(*(a + 0.1), 'a')\n",
    "    ax.arrow(0, 0, *b, head_width=0.05, color ='b', head_length=0.1)#Add an arrow to the  b Axes with arrow head width 0.05, color blue and arrow head length 0.1\n",
    "    plt.text(*(b + 0.1), 'b')\n",
    "    plt.ylim(-2, 2)#set the ylim to bottom(-2), top(2)\n",
    "    plt.xlim(-2, 2)#set the xlim to left(-2), right(2)\n",
    "    \n",
    "    \n"
   ]
  },
  {
   "cell_type": "markdown",
   "id": "2ab3c808-6516-4c46-955b-870454841235",
   "metadata": {},
   "source": [
    "Convert the list <code>\\[-1, 1]</code> and <code>\\[1, 1]</code> to numpy arrays <code>a</code> and <code>b</code>. Then, plot the arrays as vectors using the fuction <code>Plotvec2</code> and find their dot product:\n"
   ]
  },
  {
   "cell_type": "code",
   "execution_count": 106,
   "id": "a4ece254-d2db-4088-99ce-2e6f7e6564a3",
   "metadata": {},
   "outputs": [
    {
     "data": {
      "image/png": "[encoded data removed]",
      "text/plain": [
       "<Figure size 640x480 with 1 Axes>"
      ]
     },
     "metadata": {},
     "output_type": "display_data"
    }
   ],
   "source": [
    "# Write your code below and press Shift+Enter to execute\n",
    "a = np.array([-1,1])\n",
    "b = np.array([1,1])\n",
    "c = np.dot(a,b)\n",
    "c\n",
    "Plotvec2(a,b)"
   ]
  },
  {
   "cell_type": "markdown",
   "id": "1ad68c88-87d9-4351-b8c5-be5a0eb967e3",
   "metadata": {},
   "source": [
    "<details><summary>Click here for the solution</summary>\n",
    "\n",
    "```python\n",
    "\n",
    "\n",
    "a = np.array([-1, 1])\n",
    "b = np.array([1, 1])\n",
    "Plotvec2(a, b)\n",
    "print(\"The dot product is\", np.dot(a,b))\n",
    "\n",
    "```\n",
    "\n",
    "</details>\n"
   ]
  },
  {
   "cell_type": "markdown",
   "id": "323e52cc-4a80-4770-a32a-7d6ce99c67eb",
   "metadata": {},
   "source": [
    "<hr>\n"
   ]
  },
  {
   "cell_type": "markdown",
   "id": "acfd4e31-d916-41e9-ad30-c2f834011784",
   "metadata": {},
   "source": [
    "Convert the list <code>\\[1, 0]</code> and <code>\\[0, 1]</code> to numpy arrays <code>a</code> and <code>b</code>. Then, plot the arrays as vectors using the function <code>Plotvec2</code> and find their dot product:\n"
   ]
  },
  {
   "cell_type": "code",
   "execution_count": null,
   "id": "02163336-1021-4e5b-881c-0c30d9df77ed",
   "metadata": {},
   "outputs": [],
   "source": [
    "# Write your code below and press Shift+Enter to execute\n"
   ]
  },
  {
   "cell_type": "markdown",
   "id": "f5965c98-ac3d-4008-ba76-773903e7ec13",
   "metadata": {},
   "source": [
    "<details><summary>Click here for the solution</summary>\n",
    "\n",
    "```python\n",
    "a = np.array([1, 0])\n",
    "b = np.array([0, 1])\n",
    "Plotvec2(a, b)\n",
    "print(\"The dot product is\", np.dot(a, b))\n",
    "\n",
    "```\n",
    "\n",
    "</details>\n"
   ]
  },
  {
   "cell_type": "markdown",
   "id": "7a7836cf-4093-427c-9ca5-62333aa198c5",
   "metadata": {},
   "source": [
    "<hr>\n"
   ]
  },
  {
   "cell_type": "markdown",
   "id": "2d520bde-dcf0-4555-a7ed-4b255bdc3ff8",
   "metadata": {},
   "source": [
    "Convert the list <code>\\[1, 1]</code> and <code>\\[0, 1]</code> to numpy arrays <code>a</code> and <code>b</code>. Then plot the arrays as vectors using the fuction <code>Plotvec2</code> and find their dot product:\n"
   ]
  },
  {
   "cell_type": "code",
   "execution_count": null,
   "id": "f07e93e3-548e-4d12-8404-ba49dffea36a",
   "metadata": {},
   "outputs": [],
   "source": [
    "# Write your code below and press Shift+Enter to execute\n"
   ]
  },
  {
   "cell_type": "markdown",
   "id": "3e1b613a-b867-4a90-b210-5d48bb2b6f35",
   "metadata": {},
   "source": [
    "<details><summary>Click here for the solution</summary>\n",
    "\n",
    "```python\n",
    "a = np.array([1, 1])\n",
    "b = np.array([0, 1])\n",
    "Plotvec2(a, b)\n",
    "print(\"The dot product is\", np.dot(a, b))\n",
    "\n",
    "```\n",
    "\n",
    "</details>\n"
   ]
  },
  {
   "cell_type": "markdown",
   "id": "ccec8d73-4734-4352-918c-fdf1e59789fe",
   "metadata": {},
   "source": [
    "<hr>\n"
   ]
  },
  {
   "cell_type": "markdown",
   "id": "14a3c402-f76a-43d7-976f-8a1500f2f9d0",
   "metadata": {},
   "source": [
    "Why are the results of the dot product for <code>\\[-1, 1]</code> and <code>\\[1, 1]</code> and the dot product for <code>\\[1, 0]</code> and <code>\\[0, 1]</code> zero, but not zero for the dot product for <code>\\[1, 1]</code> and <code>\\[0, 1]</code>? <p><i>Hint: Study the corresponding figures, pay attention to the direction the arrows are pointing to.</i></p>\n"
   ]
  },
  {
   "cell_type": "code",
   "execution_count": null,
   "id": "1736c1b6-7bcd-44fc-a1c7-4cbf88b420ee",
   "metadata": {},
   "outputs": [],
   "source": [
    "# Write your code below and press Shift+Enter to execute\n"
   ]
  },
  {
   "cell_type": "markdown",
   "id": "f6cbea3e-faf0-4d70-809f-3df77cd4d014",
   "metadata": {},
   "source": [
    "<details><summary>Click here for the solution</summary>\n",
    "\n",
    "```python\n",
    "The vectors used for question 4 and 5 are perpendicular. As a result, the dot product is zero. \n",
    "\n",
    "```\n",
    "\n",
    "</details>\n"
   ]
  },
  {
   "cell_type": "markdown",
   "id": "6884af5c-b408-439d-8ec6-e55716f29f98",
   "metadata": {},
   "source": [
    "Convert the list <code>\\[1, 2, 3]</code> and <code>\\[8, 9, 10]</code> to numpy arrays <code>arr1</code> and <code>arr2</code>. Then perform <code>Addition</code> , <code>Subtraction</code> , <code>Multiplication</code> , <code>Division</code> and <code>Dot Operation</code> on the <code>arr1</code> and <code>arr2</code>.\n",
    "\n"
   ]
  },
  {
   "cell_type": "code",
   "execution_count": null,
   "id": "42bf0533-c954-4b83-a832-833905642792",
   "metadata": {},
   "outputs": [],
   "source": [
    "# Write your code below and press Shift+Enter to execute\n"
   ]
  },
  {
   "cell_type": "markdown",
   "id": "1acd8362-d823-4ba2-b21b-d7a8cca14872",
   "metadata": {},
   "source": [
    "<details><summary>Click here for the solution</summary>\n",
    "\n",
    "```python\n",
    "arr1 = np.array([1, 2, 3])\n",
    "arr2 = np.array([8, 9, 10])\n",
    "\n",
    "arr3 = np.add(arr1, arr2)\n",
    "arr3\n",
    "\n",
    "arr4 = np.subtract(arr1, arr2)\n",
    "arr4\n",
    "\n",
    "arr5 = np.multiply(arr1, arr2)\n",
    "arr5\n",
    "\n",
    "\n",
    "arr6 = np.divide(arr1, arr2)\n",
    "arr6\n",
    "\n",
    "arr7 = np.dot(arr1, arr2)\n",
    "arr7\n",
    "```\n",
    "\n",
    "</details>\n"
   ]
  },
  {
   "cell_type": "markdown",
   "id": "45333264-438e-434a-9647-0d383584d5e0",
   "metadata": {},
   "source": [
    "Convert the list <code>\\[1, 2, 3, 4, 5]</code> and <code>\\[6, 7, 8, 9, 10]</code> to numpy arrays <code>arr1</code> and <code>arr2</code>. Then find the even and odd numbers from <code>arr1</code> and <code>arr2</code>.\n"
   ]
  },
  {
   "cell_type": "code",
   "execution_count": null,
   "id": "354ec8e4-410c-44da-b9d4-461862ae3aa6",
   "metadata": {},
   "outputs": [],
   "source": [
    "# Write your code below and press Shift+Enter to execute\n",
    "\n"
   ]
  },
  {
   "cell_type": "markdown",
   "id": "34bc5dd6-686a-4c88-9835-dbe93504d687",
   "metadata": {},
   "source": [
    "<details><summary>Click here for the solution</summary>\n",
    "\n",
    "```python\n",
    "\n",
    "\n",
    "arr1 = np.array([1, 2, 3, 4, 5])\n",
    "arr2 = np.array([6, 7, 8, 9, 10])\n",
    "\n",
    "#Starting index in slice is 1 as first even element(2) in array1 is at index 1\n",
    "even_arr1 = arr1[1:5:2]\n",
    "print(\"even for array1\",even_arr1)\n",
    "    \n",
    "#Starting index in slice is 0 as first odd element(1) in array1 is at index 0\n",
    "odd_arr1=arr1[0:5:2]\n",
    "print(\"odd for array1\",odd_arr1)\n",
    "\n",
    "#Starting index in slice is 0 as first even element(6) in array2 is at index 0\n",
    "even_arr2 = arr2[0:5:2]\n",
    "print(\"even for array2\",even_arr2)\n",
    "    \n",
    "    \n",
    "#Starting index in slice is 1 as first odd element(7) in array2 is at index 1\n",
    "odd_arr2=arr2[1:5:2]\n",
    "print(\"odd for array2\",odd_arr2)\n",
    "\n",
    "```\n",
    "\n",
    "</details>\n"
   ]
  },
  {
   "cell_type": "markdown",
   "id": "bf081a48-f51b-4d2c-bd4f-0d8eb9be438d",
   "metadata": {},
   "source": [
    "<hr>\n",
    "<h2>The last exercise!</h2>\n",
    "<p>Congratulations, you have completed your first lesson and hands-on lab in Python. \n",
    "<hr>\n"
   ]
  },
  {
   "cell_type": "markdown",
   "id": "c12176dd-7fbe-4d7b-9c7a-0ac8e9ee40bf",
   "metadata": {},
   "source": [
    "## Author\n",
    "\n",
    "<a href=\"https://www.linkedin.com/in/joseph-s-50398b136/?utm_medium=Exinfluencer&utm_source=Exinfluencer&utm_content=000026UJ&utm_term=10006555&utm_id=NA-SkillsNetwork-Channel-SkillsNetworkCoursesIBMDeveloperSkillsNetworkPY0101ENSkillsNetwork19487395-2021-01-01\" target=\"_blank\">Joseph Santarcangelo</a>\n",
    "\n",
    "## Other contributors\n",
    "\n",
    "<a href=\"https://www.linkedin.com/in/jiahui-mavis-zhou-a4537814a?utm_medium=Exinfluencer&utm_source=Exinfluencer&utm_content=000026UJ&utm_term=10006555&utm_id=NA-SkillsNetwork-Channel-SkillsNetworkCoursesIBMDeveloperSkillsNetworkPY0101ENSkillsNetwork19487395-2021-01-01\">Mavis Zhou</a>\n",
    "\n",
    "## Change Log\n",
    "\n",
    "| Date (YYYY-MM-DD) | Version | Changed By | Change Description                 |\n",
    "| ----------------- | ------- | ---------- | ---------------------------------- |\n",
    "| 2023-11-02 | 2.3 | Abhishek Gagneja | Instructions updated |\n",
    "| 2022-03-08        | 2.2     | Niveditha  | Modified and added practice problem|\n",
    "| 2022-01-10        | 2.1     | Malika     | Removed the readme for GitShare    |\n",
    "| 2020-08-26        | 2.0     | Lavanya    | Moved lab to course repo in GitLab |\n",
    "|                   |         |            |                                    |\n",
    "|                   |         |            |                                    |\n",
    "\n",
    "<hr/>\n",
    "\n",
    "## <h3 align=\"center\"> © IBM Corporation 2023. All rights reserved. <h3/>\n"
   ]
  },
  {
   "cell_type": "code",
   "execution_count": null,
   "id": "069e3b9e-5e5b-4343-8edc-34a7f14bdae1",
   "metadata": {},
   "outputs": [],
   "source": []
  }
 ],
 "metadata": {
  "kernelspec": {
   "display_name": "myenv",
   "language": "python",
   "name": "python3"
  },
  "language_info": {
   "codemirror_mode": {
    "name": "ipython",
    "version": 3
   },
   "file_extension": ".py",
   "mimetype": "text/x-python",
   "name": "python",
   "nbconvert_exporter": "python",
   "pygments_lexer": "ipython3",
   "version": "3.12.9"
  }
 },
 "nbformat": 4,
 "nbformat_minor": 4
}
