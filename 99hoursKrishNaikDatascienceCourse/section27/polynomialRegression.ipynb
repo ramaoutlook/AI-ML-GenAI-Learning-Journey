{
 "cells": [
  {
   "cell_type": "code",
   "execution_count": 1,
   "id": "d7f08f4e",
   "metadata": {},
   "outputs": [],
   "source": [
    "import numpy as np\n",
    "import pandas as pd\n",
    "import matplotlib.pyplot as plt"
   ]
  },
  {
   "cell_type": "code",
   "execution_count": 2,
   "id": "cd9728e5",
   "metadata": {},
   "outputs": [
    {
     "data": {
      "text/plain": [
       "Text(0, 0.5, 'Y dataset')"
      ]
     },
     "execution_count": 2,
     "metadata": {},
     "output_type": "execute_result"
    },
    {
     "data": {
      "image/png": "[encoded data removed]",
      "text/plain": [
       "<Figure size 640x480 with 1 Axes>"
      ]
     },
     "metadata": {},
     "output_type": "display_data"
    }
   ],
   "source": [
    "X = 6 * np.random.rand(100, 1)-3\n",
    "y = 0.5 * X**2 + 1.5*X + 2 + np.random.randn(100, 1)\n",
    "#qudratic equation used y = 0.5x^2+1.5X+2+outliners\n",
    "plt.scatter(X, y, color='g')\n",
    "plt.xlabel('X dataset')\n",
    "plt.ylabel('Y dataset')"
   ]
  },
  {
   "cell_type": "code",
   "execution_count": 3,
   "id": "76572d75",
   "metadata": {},
   "outputs": [],
   "source": [
    "from sklearn.model_selection import train_test_split"
   ]
  },
  {
   "cell_type": "code",
   "execution_count": 16,
   "id": "ca1a14ab",
   "metadata": {},
   "outputs": [],
   "source": [
    "X_train, X_test, y_train, y_test = train_test_split(X, y, test_size=0.2, random_state=42)"
   ]
  },
  {
   "cell_type": "code",
   "execution_count": 17,
   "id": "db229057",
   "metadata": {},
   "outputs": [],
   "source": [
    "## Lets implement Simple Linear Regression\n",
    "from sklearn.linear_model import LinearRegression\n",
    "regression1=LinearRegression()"
   ]
  },
  {
   "cell_type": "code",
   "execution_count": 18,
   "id": "e0ed8c02",
   "metadata": {},
   "outputs": [
    {
     "data": {
      "text/plain": [
       "(80, 1)"
      ]
     },
     "execution_count": 18,
     "metadata": {},
     "output_type": "execute_result"
    }
   ],
   "source": [
    "X_train.shape"
   ]
  },
  {
   "cell_type": "code",
   "execution_count": 19,
   "id": "326353a4",
   "metadata": {},
   "outputs": [
    {
     "data": {
      "text/plain": [
       "(80, 1)"
      ]
     },
     "execution_count": 19,
     "metadata": {},
     "output_type": "execute_result"
    }
   ],
   "source": [
    "y_train.shape"
   ]
  },
  {
   "cell_type": "code",
   "execution_count": 15,
   "id": "dc38d7ca",
   "metadata": {},
   "outputs": [
    {
     "name": "stdout",
     "output_type": "stream",
     "text": [
      "(20, 1)\n",
      "(80, 1)\n"
     ]
    }
   ],
   "source": [
    "print(X_train.shape)\n",
    "print(y_train.shape)"
   ]
  },
  {
   "cell_type": "code",
   "execution_count": 20,
   "id": "f2126665",
   "metadata": {},
   "outputs": [
    {
     "data": {
      "text/html": [
       "<style>#sk-container-id-1 {\n",
       "  /* Definition of color scheme common for light and dark mode */\n",
       "  --sklearn-color-text: #000;\n",
       "  --sklearn-color-text-muted: #666;\n",
       "  --sklearn-color-line: gray;\n",
       "  /* Definition of color scheme for unfitted estimators */\n",
       "  --sklearn-color-unfitted-level-0: #fff5e6;\n",
       "  --sklearn-color-unfitted-level-1: #f6e4d2;\n",
       "  --sklearn-color-unfitted-level-2: #ffe0b3;\n",
       "  --sklearn-color-unfitted-level-3: chocolate;\n",
       "  /* Definition of color scheme for fitted estimators */\n",
       "  --sklearn-color-fitted-level-0: #f0f8ff;\n",
       "  --sklearn-color-fitted-level-1: #d4ebff;\n",
       "  --sklearn-color-fitted-level-2: #b3dbfd;\n",
       "  --sklearn-color-fitted-level-3: cornflowerblue;\n",
       "\n",
       "  /* Specific color for light theme */\n",
       "  --sklearn-color-text-on-default-background: var(--sg-text-color, var(--theme-code-foreground, var(--jp-content-font-color1, black)));\n",
       "  --sklearn-color-background: var(--sg-background-color, var(--theme-background, var(--jp-layout-color0, white)));\n",
       "  --sklearn-color-border-box: var(--sg-text-color, var(--theme-code-foreground, var(--jp-content-font-color1, black)));\n",
       "  --sklearn-color-icon: #696969;\n",
       "\n",
       "  @media (prefers-color-scheme: dark) {\n",
       "    /* Redefinition of color scheme for dark theme */\n",
       "    --sklearn-color-text-on-default-background: var(--sg-text-color, var(--theme-code-foreground, var(--jp-content-font-color1, white)));\n",
       "    --sklearn-color-background: var(--sg-background-color, var(--theme-background, var(--jp-layout-color0, #111)));\n",
       "    --sklearn-color-border-box: var(--sg-text-color, var(--theme-code-foreground, var(--jp-content-font-color1, white)));\n",
       "    --sklearn-color-icon: #878787;\n",
       "  }\n",
       "}\n",
       "\n",
       "#sk-container-id-1 {\n",
       "  color: var(--sklearn-color-text);\n",
       "}\n",
       "\n",
       "#sk-container-id-1 pre {\n",
       "  padding: 0;\n",
       "}\n",
       "\n",
       "#sk-container-id-1 input.sk-hidden--visually {\n",
       "  border: 0;\n",
       "  clip: rect(1px 1px 1px 1px);\n",
       "  clip: rect(1px, 1px, 1px, 1px);\n",
       "  height: 1px;\n",
       "  margin: -1px;\n",
       "  overflow: hidden;\n",
       "  padding: 0;\n",
       "  position: absolute;\n",
       "  width: 1px;\n",
       "}\n",
       "\n",
       "#sk-container-id-1 div.sk-dashed-wrapped {\n",
       "  border: 1px dashed var(--sklearn-color-line);\n",
       "  margin: 0 0.4em 0.5em 0.4em;\n",
       "  box-sizing: border-box;\n",
       "  padding-bottom: 0.4em;\n",
       "  background-color: var(--sklearn-color-background);\n",
       "}\n",
       "\n",
       "#sk-container-id-1 div.sk-container {\n",
       "  /* jupyter's `normalize.less` sets `[hidden] { display: none; }`\n",
       "     but bootstrap.min.css set `[hidden] { display: none !important; }`\n",
       "     so we also need the `!important` here to be able to override the\n",
       "     default hidden behavior on the sphinx rendered scikit-learn.org.\n",
       "     See: https://github.com/scikit-learn/scikit-learn/issues/21755 */\n",
       "  display: inline-block !important;\n",
       "  position: relative;\n",
       "}\n",
       "\n",
       "#sk-container-id-1 div.sk-text-repr-fallback {\n",
       "  display: none;\n",
       "}\n",
       "\n",
       "div.sk-parallel-item,\n",
       "div.sk-serial,\n",
       "div.sk-item {\n",
       "  /* draw centered vertical line to link estimators */\n",
       "  background-image: linear-gradient(var(--sklearn-color-text-on-default-background), var(--sklearn-color-text-on-default-background));\n",
       "  background-size: 2px 100%;\n",
       "  background-repeat: no-repeat;\n",
       "  background-position: center center;\n",
       "}\n",
       "\n",
       "/* Parallel-specific style estimator block */\n",
       "\n",
       "#sk-container-id-1 div.sk-parallel-item::after {\n",
       "  content: \"\";\n",
       "  width: 100%;\n",
       "  border-bottom: 2px solid var(--sklearn-color-text-on-default-background);\n",
       "  flex-grow: 1;\n",
       "}\n",
       "\n",
       "#sk-container-id-1 div.sk-parallel {\n",
       "  display: flex;\n",
       "  align-items: stretch;\n",
       "  justify-content: center;\n",
       "  background-color: var(--sklearn-color-background);\n",
       "  position: relative;\n",
       "}\n",
       "\n",
       "#sk-container-id-1 div.sk-parallel-item {\n",
       "  display: flex;\n",
       "  flex-direction: column;\n",
       "}\n",
       "\n",
       "#sk-container-id-1 div.sk-parallel-item:first-child::after {\n",
       "  align-self: flex-end;\n",
       "  width: 50%;\n",
       "}\n",
       "\n",
       "#sk-container-id-1 div.sk-parallel-item:last-child::after {\n",
       "  align-self: flex-start;\n",
       "  width: 50%;\n",
       "}\n",
       "\n",
       "#sk-container-id-1 div.sk-parallel-item:only-child::after {\n",
       "  width: 0;\n",
       "}\n",
       "\n",
       "/* Serial-specific style estimator block */\n",
       "\n",
       "#sk-container-id-1 div.sk-serial {\n",
       "  display: flex;\n",
       "  flex-direction: column;\n",
       "  align-items: center;\n",
       "  background-color: var(--sklearn-color-background);\n",
       "  padding-right: 1em;\n",
       "  padding-left: 1em;\n",
       "}\n",
       "\n",
       "\n",
       "/* Toggleable style: style used for estimator/Pipeline/ColumnTransformer box that is\n",
       "clickable and can be expanded/collapsed.\n",
       "- Pipeline and ColumnTransformer use this feature and define the default style\n",
       "- Estimators will overwrite some part of the style using the `sk-estimator` class\n",
       "*/\n",
       "\n",
       "/* Pipeline and ColumnTransformer style (default) */\n",
       "\n",
       "#sk-container-id-1 div.sk-toggleable {\n",
       "  /* Default theme specific background. It is overwritten whether we have a\n",
       "  specific estimator or a Pipeline/ColumnTransformer */\n",
       "  background-color: var(--sklearn-color-background);\n",
       "}\n",
       "\n",
       "/* Toggleable label */\n",
       "#sk-container-id-1 label.sk-toggleable__label {\n",
       "  cursor: pointer;\n",
       "  display: flex;\n",
       "  width: 100%;\n",
       "  margin-bottom: 0;\n",
       "  padding: 0.5em;\n",
       "  box-sizing: border-box;\n",
       "  text-align: center;\n",
       "  align-items: start;\n",
       "  justify-content: space-between;\n",
       "  gap: 0.5em;\n",
       "}\n",
       "\n",
       "#sk-container-id-1 label.sk-toggleable__label .caption {\n",
       "  font-size: 0.6rem;\n",
       "  font-weight: lighter;\n",
       "  color: var(--sklearn-color-text-muted);\n",
       "}\n",
       "\n",
       "#sk-container-id-1 label.sk-toggleable__label-arrow:before {\n",
       "  /* Arrow on the left of the label */\n",
       "  content: \"▸\";\n",
       "  float: left;\n",
       "  margin-right: 0.25em;\n",
       "  color: var(--sklearn-color-icon);\n",
       "}\n",
       "\n",
       "#sk-container-id-1 label.sk-toggleable__label-arrow:hover:before {\n",
       "  color: var(--sklearn-color-text);\n",
       "}\n",
       "\n",
       "/* Toggleable content - dropdown */\n",
       "\n",
       "#sk-container-id-1 div.sk-toggleable__content {\n",
       "  max-height: 0;\n",
       "  max-width: 0;\n",
       "  overflow: hidden;\n",
       "  text-align: left;\n",
       "  /* unfitted */\n",
       "  background-color: var(--sklearn-color-unfitted-level-0);\n",
       "}\n",
       "\n",
       "#sk-container-id-1 div.sk-toggleable__content.fitted {\n",
       "  /* fitted */\n",
       "  background-color: var(--sklearn-color-fitted-level-0);\n",
       "}\n",
       "\n",
       "#sk-container-id-1 div.sk-toggleable__content pre {\n",
       "  margin: 0.2em;\n",
       "  border-radius: 0.25em;\n",
       "  color: var(--sklearn-color-text);\n",
       "  /* unfitted */\n",
       "  background-color: var(--sklearn-color-unfitted-level-0);\n",
       "}\n",
       "\n",
       "#sk-container-id-1 div.sk-toggleable__content.fitted pre {\n",
       "  /* unfitted */\n",
       "  background-color: var(--sklearn-color-fitted-level-0);\n",
       "}\n",
       "\n",
       "#sk-container-id-1 input.sk-toggleable__control:checked~div.sk-toggleable__content {\n",
       "  /* Expand drop-down */\n",
       "  max-height: 200px;\n",
       "  max-width: 100%;\n",
       "  overflow: auto;\n",
       "}\n",
       "\n",
       "#sk-container-id-1 input.sk-toggleable__control:checked~label.sk-toggleable__label-arrow:before {\n",
       "  content: \"▾\";\n",
       "}\n",
       "\n",
       "/* Pipeline/ColumnTransformer-specific style */\n",
       "\n",
       "#sk-container-id-1 div.sk-label input.sk-toggleable__control:checked~label.sk-toggleable__label {\n",
       "  color: var(--sklearn-color-text);\n",
       "  background-color: var(--sklearn-color-unfitted-level-2);\n",
       "}\n",
       "\n",
       "#sk-container-id-1 div.sk-label.fitted input.sk-toggleable__control:checked~label.sk-toggleable__label {\n",
       "  background-color: var(--sklearn-color-fitted-level-2);\n",
       "}\n",
       "\n",
       "/* Estimator-specific style */\n",
       "\n",
       "/* Colorize estimator box */\n",
       "#sk-container-id-1 div.sk-estimator input.sk-toggleable__control:checked~label.sk-toggleable__label {\n",
       "  /* unfitted */\n",
       "  background-color: var(--sklearn-color-unfitted-level-2);\n",
       "}\n",
       "\n",
       "#sk-container-id-1 div.sk-estimator.fitted input.sk-toggleable__control:checked~label.sk-toggleable__label {\n",
       "  /* fitted */\n",
       "  background-color: var(--sklearn-color-fitted-level-2);\n",
       "}\n",
       "\n",
       "#sk-container-id-1 div.sk-label label.sk-toggleable__label,\n",
       "#sk-container-id-1 div.sk-label label {\n",
       "  /* The background is the default theme color */\n",
       "  color: var(--sklearn-color-text-on-default-background);\n",
       "}\n",
       "\n",
       "/* On hover, darken the color of the background */\n",
       "#sk-container-id-1 div.sk-label:hover label.sk-toggleable__label {\n",
       "  color: var(--sklearn-color-text);\n",
       "  background-color: var(--sklearn-color-unfitted-level-2);\n",
       "}\n",
       "\n",
       "/* Label box, darken color on hover, fitted */\n",
       "#sk-container-id-1 div.sk-label.fitted:hover label.sk-toggleable__label.fitted {\n",
       "  color: var(--sklearn-color-text);\n",
       "  background-color: var(--sklearn-color-fitted-level-2);\n",
       "}\n",
       "\n",
       "/* Estimator label */\n",
       "\n",
       "#sk-container-id-1 div.sk-label label {\n",
       "  font-family: monospace;\n",
       "  font-weight: bold;\n",
       "  display: inline-block;\n",
       "  line-height: 1.2em;\n",
       "}\n",
       "\n",
       "#sk-container-id-1 div.sk-label-container {\n",
       "  text-align: center;\n",
       "}\n",
       "\n",
       "/* Estimator-specific */\n",
       "#sk-container-id-1 div.sk-estimator {\n",
       "  font-family: monospace;\n",
       "  border: 1px dotted var(--sklearn-color-border-box);\n",
       "  border-radius: 0.25em;\n",
       "  box-sizing: border-box;\n",
       "  margin-bottom: 0.5em;\n",
       "  /* unfitted */\n",
       "  background-color: var(--sklearn-color-unfitted-level-0);\n",
       "}\n",
       "\n",
       "#sk-container-id-1 div.sk-estimator.fitted {\n",
       "  /* fitted */\n",
       "  background-color: var(--sklearn-color-fitted-level-0);\n",
       "}\n",
       "\n",
       "/* on hover */\n",
       "#sk-container-id-1 div.sk-estimator:hover {\n",
       "  /* unfitted */\n",
       "  background-color: var(--sklearn-color-unfitted-level-2);\n",
       "}\n",
       "\n",
       "#sk-container-id-1 div.sk-estimator.fitted:hover {\n",
       "  /* fitted */\n",
       "  background-color: var(--sklearn-color-fitted-level-2);\n",
       "}\n",
       "\n",
       "/* Specification for estimator info (e.g. \"i\" and \"?\") */\n",
       "\n",
       "/* Common style for \"i\" and \"?\" */\n",
       "\n",
       ".sk-estimator-doc-link,\n",
       "a:link.sk-estimator-doc-link,\n",
       "a:visited.sk-estimator-doc-link {\n",
       "  float: right;\n",
       "  font-size: smaller;\n",
       "  line-height: 1em;\n",
       "  font-family: monospace;\n",
       "  background-color: var(--sklearn-color-background);\n",
       "  border-radius: 1em;\n",
       "  height: 1em;\n",
       "  width: 1em;\n",
       "  text-decoration: none !important;\n",
       "  margin-left: 0.5em;\n",
       "  text-align: center;\n",
       "  /* unfitted */\n",
       "  border: var(--sklearn-color-unfitted-level-1) 1pt solid;\n",
       "  color: var(--sklearn-color-unfitted-level-1);\n",
       "}\n",
       "\n",
       ".sk-estimator-doc-link.fitted,\n",
       "a:link.sk-estimator-doc-link.fitted,\n",
       "a:visited.sk-estimator-doc-link.fitted {\n",
       "  /* fitted */\n",
       "  border: var(--sklearn-color-fitted-level-1) 1pt solid;\n",
       "  color: var(--sklearn-color-fitted-level-1);\n",
       "}\n",
       "\n",
       "/* On hover */\n",
       "div.sk-estimator:hover .sk-estimator-doc-link:hover,\n",
       ".sk-estimator-doc-link:hover,\n",
       "div.sk-label-container:hover .sk-estimator-doc-link:hover,\n",
       ".sk-estimator-doc-link:hover {\n",
       "  /* unfitted */\n",
       "  background-color: var(--sklearn-color-unfitted-level-3);\n",
       "  color: var(--sklearn-color-background);\n",
       "  text-decoration: none;\n",
       "}\n",
       "\n",
       "div.sk-estimator.fitted:hover .sk-estimator-doc-link.fitted:hover,\n",
       ".sk-estimator-doc-link.fitted:hover,\n",
       "div.sk-label-container:hover .sk-estimator-doc-link.fitted:hover,\n",
       ".sk-estimator-doc-link.fitted:hover {\n",
       "  /* fitted */\n",
       "  background-color: var(--sklearn-color-fitted-level-3);\n",
       "  color: var(--sklearn-color-background);\n",
       "  text-decoration: none;\n",
       "}\n",
       "\n",
       "/* Span, style for the box shown on hovering the info icon */\n",
       ".sk-estimator-doc-link span {\n",
       "  display: none;\n",
       "  z-index: 9999;\n",
       "  position: relative;\n",
       "  font-weight: normal;\n",
       "  right: .2ex;\n",
       "  padding: .5ex;\n",
       "  margin: .5ex;\n",
       "  width: min-content;\n",
       "  min-width: 20ex;\n",
       "  max-width: 50ex;\n",
       "  color: var(--sklearn-color-text);\n",
       "  box-shadow: 2pt 2pt 4pt #999;\n",
       "  /* unfitted */\n",
       "  background: var(--sklearn-color-unfitted-level-0);\n",
       "  border: .5pt solid var(--sklearn-color-unfitted-level-3);\n",
       "}\n",
       "\n",
       ".sk-estimator-doc-link.fitted span {\n",
       "  /* fitted */\n",
       "  background: var(--sklearn-color-fitted-level-0);\n",
       "  border: var(--sklearn-color-fitted-level-3);\n",
       "}\n",
       "\n",
       ".sk-estimator-doc-link:hover span {\n",
       "  display: block;\n",
       "}\n",
       "\n",
       "/* \"?\"-specific style due to the `<a>` HTML tag */\n",
       "\n",
       "#sk-container-id-1 a.estimator_doc_link {\n",
       "  float: right;\n",
       "  font-size: 1rem;\n",
       "  line-height: 1em;\n",
       "  font-family: monospace;\n",
       "  background-color: var(--sklearn-color-background);\n",
       "  border-radius: 1rem;\n",
       "  height: 1rem;\n",
       "  width: 1rem;\n",
       "  text-decoration: none;\n",
       "  /* unfitted */\n",
       "  color: var(--sklearn-color-unfitted-level-1);\n",
       "  border: var(--sklearn-color-unfitted-level-1) 1pt solid;\n",
       "}\n",
       "\n",
       "#sk-container-id-1 a.estimator_doc_link.fitted {\n",
       "  /* fitted */\n",
       "  border: var(--sklearn-color-fitted-level-1) 1pt solid;\n",
       "  color: var(--sklearn-color-fitted-level-1);\n",
       "}\n",
       "\n",
       "/* On hover */\n",
       "#sk-container-id-1 a.estimator_doc_link:hover {\n",
       "  /* unfitted */\n",
       "  background-color: var(--sklearn-color-unfitted-level-3);\n",
       "  color: var(--sklearn-color-background);\n",
       "  text-decoration: none;\n",
       "}\n",
       "\n",
       "#sk-container-id-1 a.estimator_doc_link.fitted:hover {\n",
       "  /* fitted */\n",
       "  background-color: var(--sklearn-color-fitted-level-3);\n",
       "}\n",
       "</style><div id=\"sk-container-id-1\" class=\"sk-top-container\"><div class=\"sk-text-repr-fallback\"><pre>LinearRegression()</pre><b>In a Jupyter environment, please rerun this cell to show the HTML representation or trust the notebook. <br />On GitHub, the HTML representation is unable to render, please try loading this page with nbviewer.org.</b></div><div class=\"sk-container\" hidden><div class=\"sk-item\"><div class=\"sk-estimator fitted sk-toggleable\"><input class=\"sk-toggleable__control sk-hidden--visually\" id=\"sk-estimator-id-1\" type=\"checkbox\" checked><label for=\"sk-estimator-id-1\" class=\"sk-toggleable__label fitted sk-toggleable__label-arrow\"><div><div>LinearRegression</div></div><div><a class=\"sk-estimator-doc-link fitted\" rel=\"noreferrer\" target=\"_blank\" href=\"https://scikit-learn.org/1.6/modules/generated/sklearn.linear_model.LinearRegression.html\">?<span>Documentation for LinearRegression</span></a><span class=\"sk-estimator-doc-link fitted\">i<span>Fitted</span></span></div></label><div class=\"sk-toggleable__content fitted\"><pre>LinearRegression()</pre></div> </div></div></div></div>"
      ],
      "text/plain": [
       "LinearRegression()"
      ]
     },
     "execution_count": 20,
     "metadata": {},
     "output_type": "execute_result"
    }
   ],
   "source": [
    "regression1.fit(X_train, y_train)"
   ]
  },
  {
   "cell_type": "code",
   "execution_count": 21,
   "id": "325154a3",
   "metadata": {},
   "outputs": [
    {
     "name": "stdout",
     "output_type": "stream",
     "text": [
      "0.6288871955107106\n"
     ]
    }
   ],
   "source": [
    "from sklearn.metrics import r2_score\n",
    "score = r2_score(y_test, regression1.predict(X_test))\n",
    "print(score)"
   ]
  },
  {
   "cell_type": "code",
   "execution_count": 23,
   "id": "2a49d761",
   "metadata": {},
   "outputs": [
    {
     "data": {
      "text/plain": [
       "Text(0, 0.5, 'Y')"
      ]
     },
     "execution_count": 23,
     "metadata": {},
     "output_type": "execute_result"
    },
    {
     "data": {
      "image/png": "[encoded data removed]",
      "text/plain": [
       "<Figure size 640x480 with 1 Axes>"
      ]
     },
     "metadata": {},
     "output_type": "display_data"
    }
   ],
   "source": [
    "## Lets visualize this model\n",
    "plt.plot(X_train, regression1.predict(X_train), color='r')\n",
    "plt.scatter(X_train, y_train)\n",
    "plt.xlabel(\"X Dataset\")\n",
    "plt.ylabel(\"Y\")"
   ]
  },
  {
   "cell_type": "code",
   "execution_count": 24,
   "id": "1d489b24",
   "metadata": {},
   "outputs": [],
   "source": [
    "# Lets apply polynomial transportation\n",
    "from sklearn.preprocessing import PolynomialFeatures"
   ]
  },
  {
   "cell_type": "code",
   "execution_count": 25,
   "id": "9d8be190",
   "metadata": {},
   "outputs": [],
   "source": [
    "poly=PolynomialFeatures(degree=2, include_bias=True)\n",
    "X_train_poly = poly.fit_transform(X_train)\n",
    "X_test_poly = poly.transform(X_test)"
   ]
  },
  {
   "cell_type": "code",
   "execution_count": 26,
   "id": "fd749a13",
   "metadata": {},
   "outputs": [
    {
     "data": {
      "text/plain": [
       "array([[ 1.00000000e+00,  2.11516246e+00,  4.47391224e+00],\n",
       "       [ 1.00000000e+00,  1.41664434e+00,  2.00688118e+00],\n",
       "       [ 1.00000000e+00,  1.91081894e+00,  3.65122902e+00],\n",
       "       [ 1.00000000e+00, -2.17437413e+00,  4.72790284e+00],\n",
       "       [ 1.00000000e+00,  1.38818185e+00,  1.92704884e+00],\n",
       "       [ 1.00000000e+00,  1.36328162e-01,  1.85853677e-02],\n",
       "       [ 1.00000000e+00, -2.87990101e+00,  8.29382983e+00],\n",
       "       [ 1.00000000e+00,  2.58938324e+00,  6.70490558e+00],\n",
       "       [ 1.00000000e+00, -9.60117223e-01,  9.21825082e-01],\n",
       "       [ 1.00000000e+00,  2.39076400e+00,  5.71575248e+00],\n",
       "       [ 1.00000000e+00,  1.29579349e+00,  1.67908076e+00],\n",
       "       [ 1.00000000e+00,  2.66198560e+00,  7.08616734e+00],\n",
       "       [ 1.00000000e+00,  4.39859466e-03,  1.93476350e-05],\n",
       "       [ 1.00000000e+00,  1.77120944e+00,  3.13718287e+00],\n",
       "       [ 1.00000000e+00, -1.05013387e+00,  1.10278115e+00],\n",
       "       [ 1.00000000e+00, -2.98473771e+00,  8.90865920e+00],\n",
       "       [ 1.00000000e+00,  1.84247134e+00,  3.39470063e+00],\n",
       "       [ 1.00000000e+00,  2.80782709e-01,  7.88389296e-02],\n",
       "       [ 1.00000000e+00, -5.62780544e-01,  3.16721940e-01],\n",
       "       [ 1.00000000e+00, -9.44414807e-01,  8.91919327e-01],\n",
       "       [ 1.00000000e+00, -1.91286336e+00,  3.65904623e+00],\n",
       "       [ 1.00000000e+00,  1.22484148e+00,  1.50023664e+00],\n",
       "       [ 1.00000000e+00,  7.07082914e-01,  4.99966247e-01],\n",
       "       [ 1.00000000e+00,  6.16901089e-01,  3.80566953e-01],\n",
       "       [ 1.00000000e+00,  2.81509322e+00,  7.92474985e+00],\n",
       "       [ 1.00000000e+00,  1.09166169e+00,  1.19172524e+00],\n",
       "       [ 1.00000000e+00, -1.17983177e+00,  1.39200301e+00],\n",
       "       [ 1.00000000e+00,  2.66282236e+00,  7.09062289e+00],\n",
       "       [ 1.00000000e+00, -2.44637716e+00,  5.98476121e+00],\n",
       "       [ 1.00000000e+00,  2.13005908e+00,  4.53715170e+00],\n",
       "       [ 1.00000000e+00, -2.24631586e+00,  5.04593495e+00],\n",
       "       [ 1.00000000e+00, -2.03907833e+00,  4.15784045e+00],\n",
       "       [ 1.00000000e+00, -1.25033854e+00,  1.56334645e+00],\n",
       "       [ 1.00000000e+00,  2.78034251e+00,  7.73030445e+00],\n",
       "       [ 1.00000000e+00,  1.79704102e+00,  3.22935642e+00],\n",
       "       [ 1.00000000e+00,  2.74140807e+00,  7.51531820e+00],\n",
       "       [ 1.00000000e+00, -5.96610741e-01,  3.55944376e-01],\n",
       "       [ 1.00000000e+00, -2.67027021e+00,  7.13034299e+00],\n",
       "       [ 1.00000000e+00,  2.75660488e+00,  7.59887045e+00],\n",
       "       [ 1.00000000e+00,  8.68515134e-01,  7.54318538e-01],\n",
       "       [ 1.00000000e+00,  2.48896638e+00,  6.19495362e+00],\n",
       "       [ 1.00000000e+00, -3.11831790e-01,  9.72390651e-02],\n",
       "       [ 1.00000000e+00, -6.40798172e-01,  4.10622297e-01],\n",
       "       [ 1.00000000e+00,  1.44882162e+00,  2.09908408e+00],\n",
       "       [ 1.00000000e+00, -5.20373534e-01,  2.70788615e-01],\n",
       "       [ 1.00000000e+00,  1.93747696e+00,  3.75381699e+00],\n",
       "       [ 1.00000000e+00,  2.83986667e+00,  8.06484270e+00],\n",
       "       [ 1.00000000e+00,  1.40339113e+00,  1.96950666e+00],\n",
       "       [ 1.00000000e+00, -2.83798023e-01,  8.05413177e-02],\n",
       "       [ 1.00000000e+00, -2.66193616e+00,  7.08590412e+00],\n",
       "       [ 1.00000000e+00,  1.95546760e+00,  3.82385355e+00],\n",
       "       [ 1.00000000e+00, -4.54654620e-01,  2.06710823e-01],\n",
       "       [ 1.00000000e+00, -2.01684603e+00,  4.06766790e+00],\n",
       "       [ 1.00000000e+00, -9.12194087e-02,  8.32098052e-03],\n",
       "       [ 1.00000000e+00,  8.85700456e-03,  7.84465297e-05],\n",
       "       [ 1.00000000e+00,  2.47036044e+00,  6.10268072e+00],\n",
       "       [ 1.00000000e+00,  1.07721170e+00,  1.16038505e+00],\n",
       "       [ 1.00000000e+00,  2.46128348e+00,  6.05791637e+00],\n",
       "       [ 1.00000000e+00, -1.60561074e+00,  2.57798586e+00],\n",
       "       [ 1.00000000e+00,  1.04046690e+00,  1.08257137e+00],\n",
       "       [ 1.00000000e+00,  1.55177031e+00,  2.40799110e+00],\n",
       "       [ 1.00000000e+00, -1.31365926e-01,  1.72570066e-02],\n",
       "       [ 1.00000000e+00, -6.56409464e-01,  4.30873385e-01],\n",
       "       [ 1.00000000e+00, -9.82962595e-01,  9.66215462e-01],\n",
       "       [ 1.00000000e+00, -2.71548357e+00,  7.37385104e+00],\n",
       "       [ 1.00000000e+00,  2.71005153e+00,  7.34437928e+00],\n",
       "       [ 1.00000000e+00,  2.40656170e+00,  5.79153923e+00],\n",
       "       [ 1.00000000e+00,  2.40919811e+00,  5.80423553e+00],\n",
       "       [ 1.00000000e+00, -1.87632284e+00,  3.52058738e+00],\n",
       "       [ 1.00000000e+00, -2.95589359e+00,  8.73730691e+00],\n",
       "       [ 1.00000000e+00,  2.11448481e+00,  4.47104600e+00],\n",
       "       [ 1.00000000e+00,  3.05780036e-01,  9.35014307e-02],\n",
       "       [ 1.00000000e+00, -2.82898464e+00,  8.00315411e+00],\n",
       "       [ 1.00000000e+00,  1.18949592e+00,  1.41490054e+00],\n",
       "       [ 1.00000000e+00, -1.46189245e+00,  2.13712952e+00],\n",
       "       [ 1.00000000e+00, -2.66732813e+00,  7.11463935e+00],\n",
       "       [ 1.00000000e+00, -6.39864791e-01,  4.09426950e-01],\n",
       "       [ 1.00000000e+00, -2.66473225e+00,  7.10079797e+00],\n",
       "       [ 1.00000000e+00,  1.53052253e+00,  2.34249923e+00],\n",
       "       [ 1.00000000e+00, -1.06805027e+00,  1.14073137e+00]])"
      ]
     },
     "execution_count": 26,
     "metadata": {},
     "output_type": "execute_result"
    }
   ],
   "source": [
    "X_train_poly"
   ]
  },
  {
   "cell_type": "code",
   "execution_count": 27,
   "id": "d98ddbff",
   "metadata": {},
   "outputs": [
    {
     "data": {
      "text/plain": [
       "array([[ 1.        , -1.17735999,  1.38617655],\n",
       "       [ 1.        ,  0.77777476,  0.60493358],\n",
       "       [ 1.        ,  1.00684346,  1.01373375],\n",
       "       [ 1.        ,  1.77239816,  3.14139525],\n",
       "       [ 1.        , -2.97408184,  8.84516277],\n",
       "       [ 1.        ,  0.90745548,  0.82347544],\n",
       "       [ 1.        , -1.59541888,  2.54536141],\n",
       "       [ 1.        , -2.40280546,  5.77347408],\n",
       "       [ 1.        ,  0.6630409 ,  0.43962324],\n",
       "       [ 1.        , -2.72317603,  7.41568768],\n",
       "       [ 1.        ,  2.88602458,  8.32913788],\n",
       "       [ 1.        ,  0.97647816,  0.95350959],\n",
       "       [ 1.        ,  1.57197886,  2.47111753],\n",
       "       [ 1.        , -0.51277543,  0.26293864],\n",
       "       [ 1.        ,  0.89782126,  0.80608301],\n",
       "       [ 1.        ,  0.44898123,  0.20158414],\n",
       "       [ 1.        , -2.60927268,  6.80830392],\n",
       "       [ 1.        , -1.91550052,  3.66914223],\n",
       "       [ 1.        , -0.73812793,  0.54483284],\n",
       "       [ 1.        , -1.83119013,  3.35325728]])"
      ]
     },
     "execution_count": 27,
     "metadata": {},
     "output_type": "execute_result"
    }
   ],
   "source": [
    "X_test_poly"
   ]
  },
  {
   "cell_type": "code",
   "execution_count": 28,
   "id": "f82ead78",
   "metadata": {},
   "outputs": [],
   "source": [
    "from sklearn.metrics import r2_score\n",
    "regression = LinearRegression()"
   ]
  },
  {
   "cell_type": "code",
   "execution_count": 29,
   "id": "02b1f4df",
   "metadata": {},
   "outputs": [
    {
     "name": "stdout",
     "output_type": "stream",
     "text": [
      "0.8440436851862265\n"
     ]
    }
   ],
   "source": [
    "regression.fit(X_train_poly, y_train)\n",
    "y_pred = regression.predict(X_test_poly)\n",
    "score = r2_score(y_test, y_pred)\n",
    "print(score)"
   ]
  },
  {
   "cell_type": "code",
   "execution_count": 30,
   "id": "6c25e740",
   "metadata": {},
   "outputs": [
    {
     "data": {
      "text/plain": [
       "array([[0.        , 1.50628609, 0.33865515]])"
      ]
     },
     "execution_count": 30,
     "metadata": {},
     "output_type": "execute_result"
    }
   ],
   "source": [
    "regression.coef_"
   ]
  },
  {
   "cell_type": "code",
   "execution_count": 31,
   "id": "b5356342",
   "metadata": {},
   "outputs": [
    {
     "name": "stdout",
     "output_type": "stream",
     "text": [
      "[2.63967472]\n"
     ]
    }
   ],
   "source": [
    "print(regression.intercept_)"
   ]
  },
  {
   "cell_type": "code",
   "execution_count": 33,
   "id": "90eb9dd5",
   "metadata": {},
   "outputs": [
    {
     "data": {
      "text/plain": [
       "<matplotlib.collections.PathCollection at 0x207d2bc9d00>"
      ]
     },
     "execution_count": 33,
     "metadata": {},
     "output_type": "execute_result"
    },
    {
     "data": {
      "image/png": "[encoded data removed]",
      "text/plain": [
       "<Figure size 640x480 with 1 Axes>"
      ]
     },
     "metadata": {},
     "output_type": "display_data"
    }
   ],
   "source": [
    "plt.scatter(X_train, regression.predict(X_train_poly))\n",
    "plt.scatter(X_train, y_train)"
   ]
  },
  {
   "cell_type": "code",
   "execution_count": 34,
   "id": "f5e3cea6",
   "metadata": {},
   "outputs": [],
   "source": [
    "poly=PolynomialFeatures(degree=3, include_bias=True)\n",
    "X_train_poly = poly.fit_transform(X_train)\n",
    "X_test_poly = poly.transform(X_test)"
   ]
  },
  {
   "cell_type": "code",
   "execution_count": 35,
   "id": "81a7c505",
   "metadata": {},
   "outputs": [
    {
     "name": "stdout",
     "output_type": "stream",
     "text": [
      "0.8300583017365505\n"
     ]
    }
   ],
   "source": [
    "from sklearn.metrics import r2_score\n",
    "regression = LinearRegression()\n",
    "regression.fit(X_train_poly, y_train)\n",
    "y_pred = regression.predict(X_test_poly)\n",
    "score = r2_score(y_test, y_pred)\n",
    "print(score)"
   ]
  },
  {
   "cell_type": "code",
   "execution_count": 42,
   "id": "5304730c",
   "metadata": {},
   "outputs": [],
   "source": [
    "poly=PolynomialFeatures(degree=2, include_bias=True)\n",
    "X_train_poly = poly.fit_transform(X_train)\n",
    "X_test_poly = poly.transform(X_test)"
   ]
  },
  {
   "cell_type": "code",
   "execution_count": 43,
   "id": "1c1ed9f5",
   "metadata": {},
   "outputs": [
    {
     "name": "stdout",
     "output_type": "stream",
     "text": [
      "0.8440436851862265\n"
     ]
    }
   ],
   "source": [
    "from sklearn.metrics import r2_score\n",
    "regression = LinearRegression()\n",
    "regression.fit(X_train_poly, y_train)\n",
    "y_pred = regression.predict(X_test_poly)\n",
    "score = r2_score(y_test, y_pred)\n",
    "print(score)"
   ]
  },
  {
   "cell_type": "code",
   "execution_count": 44,
   "id": "107b6951",
   "metadata": {},
   "outputs": [
    {
     "data": {
      "text/plain": [
       "array([[ 1.00000000e+00, -3.00000000e+00,  9.00000000e+00],\n",
       "       [ 1.00000000e+00, -2.96984925e+00,  8.82000455e+00],\n",
       "       [ 1.00000000e+00, -2.93969849e+00,  8.64182723e+00],\n",
       "       [ 1.00000000e+00, -2.90954774e+00,  8.46546804e+00],\n",
       "       [ 1.00000000e+00, -2.87939698e+00,  8.29092700e+00],\n",
       "       [ 1.00000000e+00, -2.84924623e+00,  8.11820409e+00],\n",
       "       [ 1.00000000e+00, -2.81909548e+00,  7.94729931e+00],\n",
       "       [ 1.00000000e+00, -2.78894472e+00,  7.77821267e+00],\n",
       "       [ 1.00000000e+00, -2.75879397e+00,  7.61094417e+00],\n",
       "       [ 1.00000000e+00, -2.72864322e+00,  7.44549380e+00],\n",
       "       [ 1.00000000e+00, -2.69849246e+00,  7.28186157e+00],\n",
       "       [ 1.00000000e+00, -2.66834171e+00,  7.12004747e+00],\n",
       "       [ 1.00000000e+00, -2.63819095e+00,  6.96005151e+00],\n",
       "       [ 1.00000000e+00, -2.60804020e+00,  6.80187369e+00],\n",
       "       [ 1.00000000e+00, -2.57788945e+00,  6.64551400e+00],\n",
       "       [ 1.00000000e+00, -2.54773869e+00,  6.49097245e+00],\n",
       "       [ 1.00000000e+00, -2.51758794e+00,  6.33824903e+00],\n",
       "       [ 1.00000000e+00, -2.48743719e+00,  6.18734375e+00],\n",
       "       [ 1.00000000e+00, -2.45728643e+00,  6.03825661e+00],\n",
       "       [ 1.00000000e+00, -2.42713568e+00,  5.89098760e+00],\n",
       "       [ 1.00000000e+00, -2.39698492e+00,  5.74553673e+00],\n",
       "       [ 1.00000000e+00, -2.36683417e+00,  5.60190399e+00],\n",
       "       [ 1.00000000e+00, -2.33668342e+00,  5.46008939e+00],\n",
       "       [ 1.00000000e+00, -2.30653266e+00,  5.32009293e+00],\n",
       "       [ 1.00000000e+00, -2.27638191e+00,  5.18191460e+00],\n",
       "       [ 1.00000000e+00, -2.24623116e+00,  5.04555441e+00],\n",
       "       [ 1.00000000e+00, -2.21608040e+00,  4.91101235e+00],\n",
       "       [ 1.00000000e+00, -2.18592965e+00,  4.77828843e+00],\n",
       "       [ 1.00000000e+00, -2.15577889e+00,  4.64738264e+00],\n",
       "       [ 1.00000000e+00, -2.12562814e+00,  4.51829499e+00],\n",
       "       [ 1.00000000e+00, -2.09547739e+00,  4.39102548e+00],\n",
       "       [ 1.00000000e+00, -2.06532663e+00,  4.26557410e+00],\n",
       "       [ 1.00000000e+00, -2.03517588e+00,  4.14194086e+00],\n",
       "       [ 1.00000000e+00, -2.00502513e+00,  4.02012575e+00],\n",
       "       [ 1.00000000e+00, -1.97487437e+00,  3.90012878e+00],\n",
       "       [ 1.00000000e+00, -1.94472362e+00,  3.78194995e+00],\n",
       "       [ 1.00000000e+00, -1.91457286e+00,  3.66558925e+00],\n",
       "       [ 1.00000000e+00, -1.88442211e+00,  3.55104669e+00],\n",
       "       [ 1.00000000e+00, -1.85427136e+00,  3.43832226e+00],\n",
       "       [ 1.00000000e+00, -1.82412060e+00,  3.32741597e+00],\n",
       "       [ 1.00000000e+00, -1.79396985e+00,  3.21832782e+00],\n",
       "       [ 1.00000000e+00, -1.76381910e+00,  3.11105780e+00],\n",
       "       [ 1.00000000e+00, -1.73366834e+00,  3.00560592e+00],\n",
       "       [ 1.00000000e+00, -1.70351759e+00,  2.90197217e+00],\n",
       "       [ 1.00000000e+00, -1.67336683e+00,  2.80015656e+00],\n",
       "       [ 1.00000000e+00, -1.64321608e+00,  2.70015909e+00],\n",
       "       [ 1.00000000e+00, -1.61306533e+00,  2.60197975e+00],\n",
       "       [ 1.00000000e+00, -1.58291457e+00,  2.50561854e+00],\n",
       "       [ 1.00000000e+00, -1.55276382e+00,  2.41107548e+00],\n",
       "       [ 1.00000000e+00, -1.52261307e+00,  2.31835055e+00],\n",
       "       [ 1.00000000e+00, -1.49246231e+00,  2.22744375e+00],\n",
       "       [ 1.00000000e+00, -1.46231156e+00,  2.13835509e+00],\n",
       "       [ 1.00000000e+00, -1.43216080e+00,  2.05108457e+00],\n",
       "       [ 1.00000000e+00, -1.40201005e+00,  1.96563218e+00],\n",
       "       [ 1.00000000e+00, -1.37185930e+00,  1.88199793e+00],\n",
       "       [ 1.00000000e+00, -1.34170854e+00,  1.80018181e+00],\n",
       "       [ 1.00000000e+00, -1.31155779e+00,  1.72018383e+00],\n",
       "       [ 1.00000000e+00, -1.28140704e+00,  1.64200399e+00],\n",
       "       [ 1.00000000e+00, -1.25125628e+00,  1.56564228e+00],\n",
       "       [ 1.00000000e+00, -1.22110553e+00,  1.49109871e+00],\n",
       "       [ 1.00000000e+00, -1.19095477e+00,  1.41837327e+00],\n",
       "       [ 1.00000000e+00, -1.16080402e+00,  1.34746597e+00],\n",
       "       [ 1.00000000e+00, -1.13065327e+00,  1.27837681e+00],\n",
       "       [ 1.00000000e+00, -1.10050251e+00,  1.21110578e+00],\n",
       "       [ 1.00000000e+00, -1.07035176e+00,  1.14565289e+00],\n",
       "       [ 1.00000000e+00, -1.04020101e+00,  1.08201813e+00],\n",
       "       [ 1.00000000e+00, -1.01005025e+00,  1.02020151e+00],\n",
       "       [ 1.00000000e+00, -9.79899497e-01,  9.60203025e-01],\n",
       "       [ 1.00000000e+00, -9.49748744e-01,  9.02022676e-01],\n",
       "       [ 1.00000000e+00, -9.19597990e-01,  8.45660463e-01],\n",
       "       [ 1.00000000e+00, -8.89447236e-01,  7.91116386e-01],\n",
       "       [ 1.00000000e+00, -8.59296482e-01,  7.38390445e-01],\n",
       "       [ 1.00000000e+00, -8.29145729e-01,  6.87482639e-01],\n",
       "       [ 1.00000000e+00, -7.98994975e-01,  6.38392970e-01],\n",
       "       [ 1.00000000e+00, -7.68844221e-01,  5.91121436e-01],\n",
       "       [ 1.00000000e+00, -7.38693467e-01,  5.45668039e-01],\n",
       "       [ 1.00000000e+00, -7.08542714e-01,  5.02032777e-01],\n",
       "       [ 1.00000000e+00, -6.78391960e-01,  4.60215651e-01],\n",
       "       [ 1.00000000e+00, -6.48241206e-01,  4.20216661e-01],\n",
       "       [ 1.00000000e+00, -6.18090452e-01,  3.82035807e-01],\n",
       "       [ 1.00000000e+00, -5.87939698e-01,  3.45673089e-01],\n",
       "       [ 1.00000000e+00, -5.57788945e-01,  3.11128507e-01],\n",
       "       [ 1.00000000e+00, -5.27638191e-01,  2.78402061e-01],\n",
       "       [ 1.00000000e+00, -4.97487437e-01,  2.47493750e-01],\n",
       "       [ 1.00000000e+00, -4.67336683e-01,  2.18403576e-01],\n",
       "       [ 1.00000000e+00, -4.37185930e-01,  1.91131537e-01],\n",
       "       [ 1.00000000e+00, -4.07035176e-01,  1.65677634e-01],\n",
       "       [ 1.00000000e+00, -3.76884422e-01,  1.42041868e-01],\n",
       "       [ 1.00000000e+00, -3.46733668e-01,  1.20224237e-01],\n",
       "       [ 1.00000000e+00, -3.16582915e-01,  1.00224742e-01],\n",
       "       [ 1.00000000e+00, -2.86432161e-01,  8.20433827e-02],\n",
       "       [ 1.00000000e+00, -2.56281407e-01,  6.56801596e-02],\n",
       "       [ 1.00000000e+00, -2.26130653e-01,  5.11350723e-02],\n",
       "       [ 1.00000000e+00, -1.95979899e-01,  3.84081210e-02],\n",
       "       [ 1.00000000e+00, -1.65829146e-01,  2.74993056e-02],\n",
       "       [ 1.00000000e+00, -1.35678392e-01,  1.84086260e-02],\n",
       "       [ 1.00000000e+00, -1.05527638e-01,  1.11360824e-02],\n",
       "       [ 1.00000000e+00, -7.53768844e-02,  5.68167471e-03],\n",
       "       [ 1.00000000e+00, -4.52261307e-02,  2.04540289e-03],\n",
       "       [ 1.00000000e+00, -1.50753769e-02,  2.27266988e-04],\n",
       "       [ 1.00000000e+00,  1.50753769e-02,  2.27266988e-04],\n",
       "       [ 1.00000000e+00,  4.52261307e-02,  2.04540289e-03],\n",
       "       [ 1.00000000e+00,  7.53768844e-02,  5.68167471e-03],\n",
       "       [ 1.00000000e+00,  1.05527638e-01,  1.11360824e-02],\n",
       "       [ 1.00000000e+00,  1.35678392e-01,  1.84086260e-02],\n",
       "       [ 1.00000000e+00,  1.65829146e-01,  2.74993056e-02],\n",
       "       [ 1.00000000e+00,  1.95979899e-01,  3.84081210e-02],\n",
       "       [ 1.00000000e+00,  2.26130653e-01,  5.11350723e-02],\n",
       "       [ 1.00000000e+00,  2.56281407e-01,  6.56801596e-02],\n",
       "       [ 1.00000000e+00,  2.86432161e-01,  8.20433827e-02],\n",
       "       [ 1.00000000e+00,  3.16582915e-01,  1.00224742e-01],\n",
       "       [ 1.00000000e+00,  3.46733668e-01,  1.20224237e-01],\n",
       "       [ 1.00000000e+00,  3.76884422e-01,  1.42041868e-01],\n",
       "       [ 1.00000000e+00,  4.07035176e-01,  1.65677634e-01],\n",
       "       [ 1.00000000e+00,  4.37185930e-01,  1.91131537e-01],\n",
       "       [ 1.00000000e+00,  4.67336683e-01,  2.18403576e-01],\n",
       "       [ 1.00000000e+00,  4.97487437e-01,  2.47493750e-01],\n",
       "       [ 1.00000000e+00,  5.27638191e-01,  2.78402061e-01],\n",
       "       [ 1.00000000e+00,  5.57788945e-01,  3.11128507e-01],\n",
       "       [ 1.00000000e+00,  5.87939698e-01,  3.45673089e-01],\n",
       "       [ 1.00000000e+00,  6.18090452e-01,  3.82035807e-01],\n",
       "       [ 1.00000000e+00,  6.48241206e-01,  4.20216661e-01],\n",
       "       [ 1.00000000e+00,  6.78391960e-01,  4.60215651e-01],\n",
       "       [ 1.00000000e+00,  7.08542714e-01,  5.02032777e-01],\n",
       "       [ 1.00000000e+00,  7.38693467e-01,  5.45668039e-01],\n",
       "       [ 1.00000000e+00,  7.68844221e-01,  5.91121436e-01],\n",
       "       [ 1.00000000e+00,  7.98994975e-01,  6.38392970e-01],\n",
       "       [ 1.00000000e+00,  8.29145729e-01,  6.87482639e-01],\n",
       "       [ 1.00000000e+00,  8.59296482e-01,  7.38390445e-01],\n",
       "       [ 1.00000000e+00,  8.89447236e-01,  7.91116386e-01],\n",
       "       [ 1.00000000e+00,  9.19597990e-01,  8.45660463e-01],\n",
       "       [ 1.00000000e+00,  9.49748744e-01,  9.02022676e-01],\n",
       "       [ 1.00000000e+00,  9.79899497e-01,  9.60203025e-01],\n",
       "       [ 1.00000000e+00,  1.01005025e+00,  1.02020151e+00],\n",
       "       [ 1.00000000e+00,  1.04020101e+00,  1.08201813e+00],\n",
       "       [ 1.00000000e+00,  1.07035176e+00,  1.14565289e+00],\n",
       "       [ 1.00000000e+00,  1.10050251e+00,  1.21110578e+00],\n",
       "       [ 1.00000000e+00,  1.13065327e+00,  1.27837681e+00],\n",
       "       [ 1.00000000e+00,  1.16080402e+00,  1.34746597e+00],\n",
       "       [ 1.00000000e+00,  1.19095477e+00,  1.41837327e+00],\n",
       "       [ 1.00000000e+00,  1.22110553e+00,  1.49109871e+00],\n",
       "       [ 1.00000000e+00,  1.25125628e+00,  1.56564228e+00],\n",
       "       [ 1.00000000e+00,  1.28140704e+00,  1.64200399e+00],\n",
       "       [ 1.00000000e+00,  1.31155779e+00,  1.72018383e+00],\n",
       "       [ 1.00000000e+00,  1.34170854e+00,  1.80018181e+00],\n",
       "       [ 1.00000000e+00,  1.37185930e+00,  1.88199793e+00],\n",
       "       [ 1.00000000e+00,  1.40201005e+00,  1.96563218e+00],\n",
       "       [ 1.00000000e+00,  1.43216080e+00,  2.05108457e+00],\n",
       "       [ 1.00000000e+00,  1.46231156e+00,  2.13835509e+00],\n",
       "       [ 1.00000000e+00,  1.49246231e+00,  2.22744375e+00],\n",
       "       [ 1.00000000e+00,  1.52261307e+00,  2.31835055e+00],\n",
       "       [ 1.00000000e+00,  1.55276382e+00,  2.41107548e+00],\n",
       "       [ 1.00000000e+00,  1.58291457e+00,  2.50561854e+00],\n",
       "       [ 1.00000000e+00,  1.61306533e+00,  2.60197975e+00],\n",
       "       [ 1.00000000e+00,  1.64321608e+00,  2.70015909e+00],\n",
       "       [ 1.00000000e+00,  1.67336683e+00,  2.80015656e+00],\n",
       "       [ 1.00000000e+00,  1.70351759e+00,  2.90197217e+00],\n",
       "       [ 1.00000000e+00,  1.73366834e+00,  3.00560592e+00],\n",
       "       [ 1.00000000e+00,  1.76381910e+00,  3.11105780e+00],\n",
       "       [ 1.00000000e+00,  1.79396985e+00,  3.21832782e+00],\n",
       "       [ 1.00000000e+00,  1.82412060e+00,  3.32741597e+00],\n",
       "       [ 1.00000000e+00,  1.85427136e+00,  3.43832226e+00],\n",
       "       [ 1.00000000e+00,  1.88442211e+00,  3.55104669e+00],\n",
       "       [ 1.00000000e+00,  1.91457286e+00,  3.66558925e+00],\n",
       "       [ 1.00000000e+00,  1.94472362e+00,  3.78194995e+00],\n",
       "       [ 1.00000000e+00,  1.97487437e+00,  3.90012878e+00],\n",
       "       [ 1.00000000e+00,  2.00502513e+00,  4.02012575e+00],\n",
       "       [ 1.00000000e+00,  2.03517588e+00,  4.14194086e+00],\n",
       "       [ 1.00000000e+00,  2.06532663e+00,  4.26557410e+00],\n",
       "       [ 1.00000000e+00,  2.09547739e+00,  4.39102548e+00],\n",
       "       [ 1.00000000e+00,  2.12562814e+00,  4.51829499e+00],\n",
       "       [ 1.00000000e+00,  2.15577889e+00,  4.64738264e+00],\n",
       "       [ 1.00000000e+00,  2.18592965e+00,  4.77828843e+00],\n",
       "       [ 1.00000000e+00,  2.21608040e+00,  4.91101235e+00],\n",
       "       [ 1.00000000e+00,  2.24623116e+00,  5.04555441e+00],\n",
       "       [ 1.00000000e+00,  2.27638191e+00,  5.18191460e+00],\n",
       "       [ 1.00000000e+00,  2.30653266e+00,  5.32009293e+00],\n",
       "       [ 1.00000000e+00,  2.33668342e+00,  5.46008939e+00],\n",
       "       [ 1.00000000e+00,  2.36683417e+00,  5.60190399e+00],\n",
       "       [ 1.00000000e+00,  2.39698492e+00,  5.74553673e+00],\n",
       "       [ 1.00000000e+00,  2.42713568e+00,  5.89098760e+00],\n",
       "       [ 1.00000000e+00,  2.45728643e+00,  6.03825661e+00],\n",
       "       [ 1.00000000e+00,  2.48743719e+00,  6.18734375e+00],\n",
       "       [ 1.00000000e+00,  2.51758794e+00,  6.33824903e+00],\n",
       "       [ 1.00000000e+00,  2.54773869e+00,  6.49097245e+00],\n",
       "       [ 1.00000000e+00,  2.57788945e+00,  6.64551400e+00],\n",
       "       [ 1.00000000e+00,  2.60804020e+00,  6.80187369e+00],\n",
       "       [ 1.00000000e+00,  2.63819095e+00,  6.96005151e+00],\n",
       "       [ 1.00000000e+00,  2.66834171e+00,  7.12004747e+00],\n",
       "       [ 1.00000000e+00,  2.69849246e+00,  7.28186157e+00],\n",
       "       [ 1.00000000e+00,  2.72864322e+00,  7.44549380e+00],\n",
       "       [ 1.00000000e+00,  2.75879397e+00,  7.61094417e+00],\n",
       "       [ 1.00000000e+00,  2.78894472e+00,  7.77821267e+00],\n",
       "       [ 1.00000000e+00,  2.81909548e+00,  7.94729931e+00],\n",
       "       [ 1.00000000e+00,  2.84924623e+00,  8.11820409e+00],\n",
       "       [ 1.00000000e+00,  2.87939698e+00,  8.29092700e+00],\n",
       "       [ 1.00000000e+00,  2.90954774e+00,  8.46546804e+00],\n",
       "       [ 1.00000000e+00,  2.93969849e+00,  8.64182723e+00],\n",
       "       [ 1.00000000e+00,  2.96984925e+00,  8.82000455e+00],\n",
       "       [ 1.00000000e+00,  3.00000000e+00,  9.00000000e+00]])"
      ]
     },
     "execution_count": 44,
     "metadata": {},
     "output_type": "execute_result"
    }
   ],
   "source": [
    "#3 prediction of new dataset\n",
    "x_new = np.linspace(-3, 3, 200).reshape(200, 1)\n",
    "X_new_poly = poly.transform(x_new)\n",
    "X_new_poly"
   ]
  },
  {
   "cell_type": "code",
   "execution_count": 46,
   "id": "dbeffd98",
   "metadata": {},
   "outputs": [
    {
     "data": {
      "image/png": "[encoded data removed]",
      "text/plain": [
       "<Figure size 640x480 with 1 Axes>"
      ]
     },
     "metadata": {},
     "output_type": "display_data"
    }
   ],
   "source": [
    "y_new = regression.predict(X_new_poly)\n",
    "plt.plot(x_new, y_new, \"r-\", linewidth=2, label=\"New Predictions\")\n",
    "plt.plot(X_train, y_train, \"b.\", label=\"Training points\")\n",
    "plt.plot(X_test, y_test, \"g.\", label = \"Testing Points\")\n",
    "plt.xlabel(\"X\")\n",
    "plt.ylabel(\"y\")\n",
    "plt.legend()\n",
    "plt.show()"
   ]
  },
  {
   "cell_type": "markdown",
   "id": "af18e722",
   "metadata": {},
   "source": [
    "## Pipeline Concepts"
   ]
  },
  {
   "cell_type": "code",
   "execution_count": 47,
   "id": "0cede4ac",
   "metadata": {},
   "outputs": [],
   "source": [
    "from sklearn.pipeline import Pipeline"
   ]
  },
  {
   "cell_type": "code",
   "execution_count": 48,
   "id": "a050c3c0",
   "metadata": {},
   "outputs": [],
   "source": [
    "def poly_regression(degree):\n",
    "    X_new = np.linspace(-3, 3, 200).reshape(200, 1)\n",
    "\n",
    "    poly_features = PolynomialFeatures(degree=degree, include_bias=True)\n",
    "    lin_reg = LinearRegression()\n",
    "    poly_regression = Pipeline([\n",
    "        (\"poly_feature\", poly_features),\n",
    "        (\"line_reg\", lin_reg)\n",
    "    ])\n",
    "    poly_regression.fit(X_train, y_train)\n",
    "    y_pred_new=poly_regression.predict(X_new)\n",
    "    #plotting prediction line\n",
    "    plt.plot(X_new, y_pred_new, 'r', label=\"Degree \" + str(degree), linewidth=3)\n",
    "    plt.plot(X_train, y_train, \"b.\", linewidth=3)\n",
    "    plt.plot(X_test, y_test, \"g.\", linewidth=3)\n",
    "    plt.legend(loc=\"upper left\")\n",
    "    plt.xlabel(\"X\")\n",
    "    plt.ylabel(\"y\")\n",
    "    plt.axis([-4, 4, 0, 10])\n",
    "    plt.show()"
   ]
  },
  {
   "cell_type": "code",
   "execution_count": 57,
   "id": "90752e13",
   "metadata": {},
   "outputs": [
    {
     "data": {
      "image/png": "[encoded data removed]",
      "text/plain": [
       "<Figure size 640x480 with 1 Axes>"
      ]
     },
     "metadata": {},
     "output_type": "display_data"
    }
   ],
   "source": [
    "poly_regression(6)"
   ]
  },
  {
   "cell_type": "code",
   "execution_count": null,
   "id": "fbaa958a",
   "metadata": {},
   "outputs": [],
   "source": []
  }
 ],
 "metadata": {
  "kernelspec": {
   "display_name": "myenv",
   "language": "python",
   "name": "python3"
  },
  "language_info": {
   "codemirror_mode": {
    "name": "ipython",
    "version": 3
   },
   "file_extension": ".py",
   "mimetype": "text/x-python",
   "name": "python",
   "nbconvert_exporter": "python",
   "pygments_lexer": "ipython3",
   "version": "3.12.3"
  }
 },
 "nbformat": 4,
 "nbformat_minor": 5
}
